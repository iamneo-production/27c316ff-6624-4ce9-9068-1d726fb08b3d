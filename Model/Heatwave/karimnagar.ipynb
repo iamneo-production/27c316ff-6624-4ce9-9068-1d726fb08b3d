{
 "cells": [
  {
   "cell_type": "code",
   "execution_count": 1,
   "id": "e99fe5e7",
   "metadata": {},
   "outputs": [],
   "source": [
    "import pandas as pd\n",
    "import numpy as np\n",
    "import matplotlib.pyplot as plt"
   ]
  },
  {
   "cell_type": "code",
   "execution_count": 14,
   "id": "04528a2a",
   "metadata": {},
   "outputs": [],
   "source": [
    "df= pd.read_csv(\"C:\\\\Users\\\\Lenovo\\\\Desktop\\\\NASSCOM\\\\Dataset District\\\\NASA\\\\karimnagar_nasa.csv\") # Loading data"
   ]
  },
  {
   "cell_type": "code",
   "execution_count": 15,
   "id": "12b0381b",
   "metadata": {
    "scrolled": true
   },
   "outputs": [
    {
     "data": {
      "text/html": [
       "<div>\n",
       "<style scoped>\n",
       "    .dataframe tbody tr th:only-of-type {\n",
       "        vertical-align: middle;\n",
       "    }\n",
       "\n",
       "    .dataframe tbody tr th {\n",
       "        vertical-align: top;\n",
       "    }\n",
       "\n",
       "    .dataframe thead th {\n",
       "        text-align: right;\n",
       "    }\n",
       "</style>\n",
       "<table border=\"1\" class=\"dataframe\">\n",
       "  <thead>\n",
       "    <tr style=\"text-align: right;\">\n",
       "      <th></th>\n",
       "      <th>Date</th>\n",
       "      <th>temp_max</th>\n",
       "      <th>rainfall</th>\n",
       "    </tr>\n",
       "  </thead>\n",
       "  <tbody>\n",
       "    <tr>\n",
       "      <th>0</th>\n",
       "      <td>1/1/1991</td>\n",
       "      <td>30.90</td>\n",
       "      <td>0.00</td>\n",
       "    </tr>\n",
       "    <tr>\n",
       "      <th>1</th>\n",
       "      <td>2/1/1991</td>\n",
       "      <td>30.52</td>\n",
       "      <td>0.11</td>\n",
       "    </tr>\n",
       "    <tr>\n",
       "      <th>2</th>\n",
       "      <td>3/1/1991</td>\n",
       "      <td>27.10</td>\n",
       "      <td>0.06</td>\n",
       "    </tr>\n",
       "    <tr>\n",
       "      <th>3</th>\n",
       "      <td>4/1/1991</td>\n",
       "      <td>28.38</td>\n",
       "      <td>0.00</td>\n",
       "    </tr>\n",
       "    <tr>\n",
       "      <th>4</th>\n",
       "      <td>5/1/1991</td>\n",
       "      <td>29.20</td>\n",
       "      <td>0.00</td>\n",
       "    </tr>\n",
       "    <tr>\n",
       "      <th>...</th>\n",
       "      <td>...</td>\n",
       "      <td>...</td>\n",
       "      <td>...</td>\n",
       "    </tr>\n",
       "    <tr>\n",
       "      <th>11683</th>\n",
       "      <td>27/12/2022</td>\n",
       "      <td>29.17</td>\n",
       "      <td>1.76</td>\n",
       "    </tr>\n",
       "    <tr>\n",
       "      <th>11684</th>\n",
       "      <td>28/12/2022</td>\n",
       "      <td>29.71</td>\n",
       "      <td>3.93</td>\n",
       "    </tr>\n",
       "    <tr>\n",
       "      <th>11685</th>\n",
       "      <td>29/12/2022</td>\n",
       "      <td>28.96</td>\n",
       "      <td>0.01</td>\n",
       "    </tr>\n",
       "    <tr>\n",
       "      <th>11686</th>\n",
       "      <td>30/12/2022</td>\n",
       "      <td>29.76</td>\n",
       "      <td>0.00</td>\n",
       "    </tr>\n",
       "    <tr>\n",
       "      <th>11687</th>\n",
       "      <td>31/12/2022</td>\n",
       "      <td>29.69</td>\n",
       "      <td>0.00</td>\n",
       "    </tr>\n",
       "  </tbody>\n",
       "</table>\n",
       "<p>11688 rows × 3 columns</p>\n",
       "</div>"
      ],
      "text/plain": [
       "             Date  temp_max  rainfall\n",
       "0        1/1/1991     30.90      0.00\n",
       "1        2/1/1991     30.52      0.11\n",
       "2        3/1/1991     27.10      0.06\n",
       "3        4/1/1991     28.38      0.00\n",
       "4        5/1/1991     29.20      0.00\n",
       "...           ...       ...       ...\n",
       "11683  27/12/2022     29.17      1.76\n",
       "11684  28/12/2022     29.71      3.93\n",
       "11685  29/12/2022     28.96      0.01\n",
       "11686  30/12/2022     29.76      0.00\n",
       "11687  31/12/2022     29.69      0.00\n",
       "\n",
       "[11688 rows x 3 columns]"
      ]
     },
     "execution_count": 15,
     "metadata": {},
     "output_type": "execute_result"
    }
   ],
   "source": [
    "df"
   ]
  },
  {
   "cell_type": "code",
   "execution_count": 4,
   "id": "34193bb6",
   "metadata": {},
   "outputs": [
    {
     "data": {
      "text/html": [
       "<div>\n",
       "<style scoped>\n",
       "    .dataframe tbody tr th:only-of-type {\n",
       "        vertical-align: middle;\n",
       "    }\n",
       "\n",
       "    .dataframe tbody tr th {\n",
       "        vertical-align: top;\n",
       "    }\n",
       "\n",
       "    .dataframe thead th {\n",
       "        text-align: right;\n",
       "    }\n",
       "</style>\n",
       "<table border=\"1\" class=\"dataframe\">\n",
       "  <thead>\n",
       "    <tr style=\"text-align: right;\">\n",
       "      <th></th>\n",
       "      <th>temp_max</th>\n",
       "      <th>rainfall</th>\n",
       "    </tr>\n",
       "  </thead>\n",
       "  <tbody>\n",
       "    <tr>\n",
       "      <th>count</th>\n",
       "      <td>11688.000000</td>\n",
       "      <td>11688.000000</td>\n",
       "    </tr>\n",
       "    <tr>\n",
       "      <th>mean</th>\n",
       "      <td>33.987340</td>\n",
       "      <td>2.607681</td>\n",
       "    </tr>\n",
       "    <tr>\n",
       "      <th>std</th>\n",
       "      <td>5.209548</td>\n",
       "      <td>7.302543</td>\n",
       "    </tr>\n",
       "    <tr>\n",
       "      <th>min</th>\n",
       "      <td>19.950000</td>\n",
       "      <td>0.000000</td>\n",
       "    </tr>\n",
       "    <tr>\n",
       "      <th>25%</th>\n",
       "      <td>30.030000</td>\n",
       "      <td>0.000000</td>\n",
       "    </tr>\n",
       "    <tr>\n",
       "      <th>50%</th>\n",
       "      <td>32.350000</td>\n",
       "      <td>0.020000</td>\n",
       "    </tr>\n",
       "    <tr>\n",
       "      <th>75%</th>\n",
       "      <td>37.850000</td>\n",
       "      <td>1.440000</td>\n",
       "    </tr>\n",
       "    <tr>\n",
       "      <th>max</th>\n",
       "      <td>48.190000</td>\n",
       "      <td>129.210000</td>\n",
       "    </tr>\n",
       "  </tbody>\n",
       "</table>\n",
       "</div>"
      ],
      "text/plain": [
       "           temp_max      rainfall\n",
       "count  11688.000000  11688.000000\n",
       "mean      33.987340      2.607681\n",
       "std        5.209548      7.302543\n",
       "min       19.950000      0.000000\n",
       "25%       30.030000      0.000000\n",
       "50%       32.350000      0.020000\n",
       "75%       37.850000      1.440000\n",
       "max       48.190000    129.210000"
      ]
     },
     "execution_count": 4,
     "metadata": {},
     "output_type": "execute_result"
    }
   ],
   "source": [
    "df.describe()"
   ]
  },
  {
   "cell_type": "code",
   "execution_count": 16,
   "id": "fb93602d",
   "metadata": {},
   "outputs": [],
   "source": [
    "df['Date']= pd.to_datetime(df.Date, format=\"%d/%m/%Y\")\n",
    "df= df.set_index('Date')"
   ]
  },
  {
   "cell_type": "code",
   "execution_count": 28,
   "id": "d35272d1",
   "metadata": {},
   "outputs": [
    {
     "data": {
      "text/html": [
       "<div>\n",
       "<style scoped>\n",
       "    .dataframe tbody tr th:only-of-type {\n",
       "        vertical-align: middle;\n",
       "    }\n",
       "\n",
       "    .dataframe tbody tr th {\n",
       "        vertical-align: top;\n",
       "    }\n",
       "\n",
       "    .dataframe thead th {\n",
       "        text-align: right;\n",
       "    }\n",
       "</style>\n",
       "<table border=\"1\" class=\"dataframe\">\n",
       "  <thead>\n",
       "    <tr style=\"text-align: right;\">\n",
       "      <th></th>\n",
       "      <th>temp_max</th>\n",
       "      <th>rainfall</th>\n",
       "    </tr>\n",
       "    <tr>\n",
       "      <th>date</th>\n",
       "      <th></th>\n",
       "      <th></th>\n",
       "    </tr>\n",
       "  </thead>\n",
       "  <tbody>\n",
       "    <tr>\n",
       "      <th>1991-01-01</th>\n",
       "      <td>30.90</td>\n",
       "      <td>0.00</td>\n",
       "    </tr>\n",
       "    <tr>\n",
       "      <th>1991-01-02</th>\n",
       "      <td>30.52</td>\n",
       "      <td>0.11</td>\n",
       "    </tr>\n",
       "    <tr>\n",
       "      <th>1991-01-03</th>\n",
       "      <td>27.10</td>\n",
       "      <td>0.06</td>\n",
       "    </tr>\n",
       "    <tr>\n",
       "      <th>1991-01-04</th>\n",
       "      <td>28.38</td>\n",
       "      <td>0.00</td>\n",
       "    </tr>\n",
       "    <tr>\n",
       "      <th>1991-01-05</th>\n",
       "      <td>29.20</td>\n",
       "      <td>0.00</td>\n",
       "    </tr>\n",
       "    <tr>\n",
       "      <th>...</th>\n",
       "      <td>...</td>\n",
       "      <td>...</td>\n",
       "    </tr>\n",
       "    <tr>\n",
       "      <th>2022-12-27</th>\n",
       "      <td>29.17</td>\n",
       "      <td>1.76</td>\n",
       "    </tr>\n",
       "    <tr>\n",
       "      <th>2022-12-28</th>\n",
       "      <td>29.71</td>\n",
       "      <td>3.93</td>\n",
       "    </tr>\n",
       "    <tr>\n",
       "      <th>2022-12-29</th>\n",
       "      <td>28.96</td>\n",
       "      <td>0.01</td>\n",
       "    </tr>\n",
       "    <tr>\n",
       "      <th>2022-12-30</th>\n",
       "      <td>29.76</td>\n",
       "      <td>0.00</td>\n",
       "    </tr>\n",
       "    <tr>\n",
       "      <th>2022-12-31</th>\n",
       "      <td>29.69</td>\n",
       "      <td>0.00</td>\n",
       "    </tr>\n",
       "  </tbody>\n",
       "</table>\n",
       "<p>11688 rows × 2 columns</p>\n",
       "</div>"
      ],
      "text/plain": [
       "            temp_max  rainfall\n",
       "date                          \n",
       "1991-01-01     30.90      0.00\n",
       "1991-01-02     30.52      0.11\n",
       "1991-01-03     27.10      0.06\n",
       "1991-01-04     28.38      0.00\n",
       "1991-01-05     29.20      0.00\n",
       "...              ...       ...\n",
       "2022-12-27     29.17      1.76\n",
       "2022-12-28     29.71      3.93\n",
       "2022-12-29     28.96      0.01\n",
       "2022-12-30     29.76      0.00\n",
       "2022-12-31     29.69      0.00\n",
       "\n",
       "[11688 rows x 2 columns]"
      ]
     },
     "execution_count": 28,
     "metadata": {},
     "output_type": "execute_result"
    }
   ],
   "source": [
    "df"
   ]
  },
  {
   "cell_type": "code",
   "execution_count": 29,
   "id": "359543da",
   "metadata": {
    "scrolled": true
   },
   "outputs": [
    {
     "name": "stdout",
     "output_type": "stream",
     "text": [
      "D\n"
     ]
    }
   ],
   "source": [
    "print(pd.infer_freq(df.index))"
   ]
  },
  {
   "cell_type": "code",
   "execution_count": 17,
   "id": "8fa6671c",
   "metadata": {},
   "outputs": [],
   "source": [
    "df['rainfall']=df['rainfall']/130\n",
    "df['temp_max']=df['temp_max']/50"
   ]
  },
  {
   "cell_type": "code",
   "execution_count": 31,
   "id": "aff53efa",
   "metadata": {},
   "outputs": [
    {
     "data": {
      "text/html": [
       "<div>\n",
       "<style scoped>\n",
       "    .dataframe tbody tr th:only-of-type {\n",
       "        vertical-align: middle;\n",
       "    }\n",
       "\n",
       "    .dataframe tbody tr th {\n",
       "        vertical-align: top;\n",
       "    }\n",
       "\n",
       "    .dataframe thead th {\n",
       "        text-align: right;\n",
       "    }\n",
       "</style>\n",
       "<table border=\"1\" class=\"dataframe\">\n",
       "  <thead>\n",
       "    <tr style=\"text-align: right;\">\n",
       "      <th></th>\n",
       "      <th>temp_max</th>\n",
       "      <th>rainfall</th>\n",
       "    </tr>\n",
       "    <tr>\n",
       "      <th>date</th>\n",
       "      <th></th>\n",
       "      <th></th>\n",
       "    </tr>\n",
       "  </thead>\n",
       "  <tbody>\n",
       "    <tr>\n",
       "      <th>1991-01-01</th>\n",
       "      <td>0.6180</td>\n",
       "      <td>0.000000</td>\n",
       "    </tr>\n",
       "    <tr>\n",
       "      <th>1991-01-02</th>\n",
       "      <td>0.6104</td>\n",
       "      <td>0.000846</td>\n",
       "    </tr>\n",
       "    <tr>\n",
       "      <th>1991-01-03</th>\n",
       "      <td>0.5420</td>\n",
       "      <td>0.000462</td>\n",
       "    </tr>\n",
       "    <tr>\n",
       "      <th>1991-01-04</th>\n",
       "      <td>0.5676</td>\n",
       "      <td>0.000000</td>\n",
       "    </tr>\n",
       "    <tr>\n",
       "      <th>1991-01-05</th>\n",
       "      <td>0.5840</td>\n",
       "      <td>0.000000</td>\n",
       "    </tr>\n",
       "    <tr>\n",
       "      <th>...</th>\n",
       "      <td>...</td>\n",
       "      <td>...</td>\n",
       "    </tr>\n",
       "    <tr>\n",
       "      <th>2020-12-27</th>\n",
       "      <td>0.5596</td>\n",
       "      <td>0.000000</td>\n",
       "    </tr>\n",
       "    <tr>\n",
       "      <th>2020-12-28</th>\n",
       "      <td>0.5556</td>\n",
       "      <td>0.000000</td>\n",
       "    </tr>\n",
       "    <tr>\n",
       "      <th>2020-12-29</th>\n",
       "      <td>0.5576</td>\n",
       "      <td>0.000000</td>\n",
       "    </tr>\n",
       "    <tr>\n",
       "      <th>2020-12-30</th>\n",
       "      <td>0.5496</td>\n",
       "      <td>0.000000</td>\n",
       "    </tr>\n",
       "    <tr>\n",
       "      <th>2020-12-31</th>\n",
       "      <td>0.5516</td>\n",
       "      <td>0.000000</td>\n",
       "    </tr>\n",
       "  </tbody>\n",
       "</table>\n",
       "<p>10958 rows × 2 columns</p>\n",
       "</div>"
      ],
      "text/plain": [
       "            temp_max  rainfall\n",
       "date                          \n",
       "1991-01-01    0.6180  0.000000\n",
       "1991-01-02    0.6104  0.000846\n",
       "1991-01-03    0.5420  0.000462\n",
       "1991-01-04    0.5676  0.000000\n",
       "1991-01-05    0.5840  0.000000\n",
       "...              ...       ...\n",
       "2020-12-27    0.5596  0.000000\n",
       "2020-12-28    0.5556  0.000000\n",
       "2020-12-29    0.5576  0.000000\n",
       "2020-12-30    0.5496  0.000000\n",
       "2020-12-31    0.5516  0.000000\n",
       "\n",
       "[10958 rows x 2 columns]"
      ]
     },
     "execution_count": 31,
     "metadata": {},
     "output_type": "execute_result"
    }
   ],
   "source": [
    "df1=df[:10958]\n",
    "df1"
   ]
  },
  {
   "cell_type": "code",
   "execution_count": 13,
   "id": "b6df8f14",
   "metadata": {},
   "outputs": [],
   "source": [
    "def create_data(df, lookback=365):\n",
    "    df_np= df.to_numpy()\n",
    "    X=[]\n",
    "    y=[]\n",
    "    \n",
    "    for i in range(len(df_np)-2*lookback):\n",
    "        row = [x for x in df_np[i:i+lookback]]\n",
    "        X.append(row)\n",
    "        label = [z[0] for z in df_np[i+lookback:i+(2*lookback)]]\n",
    "        y.append(label)\n",
    "    return np.array(X), np.array(y)"
   ]
  },
  {
   "cell_type": "code",
   "execution_count": 32,
   "id": "29f65436",
   "metadata": {},
   "outputs": [],
   "source": [
    "X,y = create_data(df1)"
   ]
  },
  {
   "cell_type": "code",
   "execution_count": 33,
   "id": "c34fab98",
   "metadata": {},
   "outputs": [
    {
     "data": {
      "text/plain": [
       "((10228, 365, 2), (10228, 365))"
      ]
     },
     "execution_count": 33,
     "metadata": {},
     "output_type": "execute_result"
    }
   ],
   "source": [
    "X.shape, y.shape"
   ]
  },
  {
   "cell_type": "code",
   "execution_count": 34,
   "id": "5c979ae9",
   "metadata": {},
   "outputs": [],
   "source": [
    "X_train, y_train, X_test, y_test = X[:9863], y[:9863], X[9863:], y[9863:]\n",
    "X_train, y_train, X_val, y_val= X_train[:9133], y_train[:9133], X_train[9133:9863], y_train[9133:9863]"
   ]
  },
  {
   "cell_type": "code",
   "execution_count": 35,
   "id": "e300cf99",
   "metadata": {},
   "outputs": [
    {
     "data": {
      "text/plain": [
       "(9133, 730, 365)"
      ]
     },
     "execution_count": 35,
     "metadata": {},
     "output_type": "execute_result"
    }
   ],
   "source": [
    "len(X_train), len(X_val), len(X_test)"
   ]
  },
  {
   "cell_type": "code",
   "execution_count": 36,
   "id": "f5c5b807",
   "metadata": {},
   "outputs": [
    {
     "data": {
      "text/plain": [
       "((9133, 365, 2), (9133, 365))"
      ]
     },
     "execution_count": 36,
     "metadata": {},
     "output_type": "execute_result"
    }
   ],
   "source": [
    "X_train.shape, y_train.shape"
   ]
  },
  {
   "cell_type": "code",
   "execution_count": 19,
   "id": "da6c0857",
   "metadata": {},
   "outputs": [],
   "source": [
    "#importing necessary libraries to create LSTM model\n",
    "from tensorflow.keras.models import Sequential\n",
    "from tensorflow.keras.layers import *\n",
    "from tensorflow.keras.losses import MeanSquaredError\n",
    "from tensorflow.keras.callbacks import ModelCheckpoint\n",
    "from tensorflow.keras.metrics import RootMeanSquaredError\n",
    "from tensorflow.keras.optimizers import Adam"
   ]
  },
  {
   "cell_type": "code",
   "execution_count": 37,
   "id": "d6231067",
   "metadata": {},
   "outputs": [
    {
     "name": "stdout",
     "output_type": "stream",
     "text": [
      "Model: \"sequential_2\"\n",
      "_________________________________________________________________\n",
      " Layer (type)                Output Shape              Param #   \n",
      "=================================================================\n",
      " lstm_2 (LSTM)               (None, 128)               67072     \n",
      "                                                                 \n",
      " dropout_2 (Dropout)         (None, 128)               0         \n",
      "                                                                 \n",
      " dense_4 (Dense)             (None, 512)               66048     \n",
      "                                                                 \n",
      " dense_5 (Dense)             (None, 365)               187245    \n",
      "                                                                 \n",
      "=================================================================\n",
      "Total params: 320,365\n",
      "Trainable params: 320,365\n",
      "Non-trainable params: 0\n",
      "_________________________________________________________________\n"
     ]
    }
   ],
   "source": [
    "karimnagar_temp= Sequential([\n",
    "    InputLayer((365,2)),\n",
    "    LSTM(units=128),\n",
    "    Dropout(0.2),\n",
    "    Dense(512, activation='relu'),\n",
    "    Dense(365, activation='relu'),  \n",
    "])\n",
    "\n",
    "karimnagar_temp.summary()"
   ]
  },
  {
   "cell_type": "code",
   "execution_count": 38,
   "id": "2de38984",
   "metadata": {},
   "outputs": [
    {
     "name": "stdout",
     "output_type": "stream",
     "text": [
      "Epoch 1/200\n",
      "286/286 [==============================] - ETA: 0s - loss: 0.0708 - root_mean_squared_error: 0.2661"
     ]
    },
    {
     "name": "stderr",
     "output_type": "stream",
     "text": [
      "WARNING:absl:Found untraced functions such as lstm_cell_2_layer_call_fn, lstm_cell_2_layer_call_and_return_conditional_losses while saving (showing 2 of 2). These functions will not be directly callable after loading.\n"
     ]
    },
    {
     "name": "stdout",
     "output_type": "stream",
     "text": [
      "INFO:tensorflow:Assets written to: karimnagar_temp\\assets\n"
     ]
    },
    {
     "name": "stderr",
     "output_type": "stream",
     "text": [
      "INFO:tensorflow:Assets written to: karimnagar_temp\\assets\n"
     ]
    },
    {
     "name": "stdout",
     "output_type": "stream",
     "text": [
      "286/286 [==============================] - 24s 76ms/step - loss: 0.0708 - root_mean_squared_error: 0.2661 - val_loss: 0.0554 - val_root_mean_squared_error: 0.2355\n",
      "Epoch 2/200\n",
      "286/286 [==============================] - ETA: 0s - loss: 0.0477 - root_mean_squared_error: 0.2183"
     ]
    },
    {
     "name": "stderr",
     "output_type": "stream",
     "text": [
      "WARNING:absl:Found untraced functions such as lstm_cell_2_layer_call_fn, lstm_cell_2_layer_call_and_return_conditional_losses while saving (showing 2 of 2). These functions will not be directly callable after loading.\n"
     ]
    },
    {
     "name": "stdout",
     "output_type": "stream",
     "text": [
      "INFO:tensorflow:Assets written to: karimnagar_temp\\assets\n"
     ]
    },
    {
     "name": "stderr",
     "output_type": "stream",
     "text": [
      "INFO:tensorflow:Assets written to: karimnagar_temp\\assets\n"
     ]
    },
    {
     "name": "stdout",
     "output_type": "stream",
     "text": [
      "286/286 [==============================] - 22s 76ms/step - loss: 0.0477 - root_mean_squared_error: 0.2183 - val_loss: 0.0383 - val_root_mean_squared_error: 0.1958\n",
      "Epoch 3/200\n",
      "285/286 [============================>.] - ETA: 0s - loss: 0.0273 - root_mean_squared_error: 0.1651"
     ]
    },
    {
     "name": "stderr",
     "output_type": "stream",
     "text": [
      "WARNING:absl:Found untraced functions such as lstm_cell_2_layer_call_fn, lstm_cell_2_layer_call_and_return_conditional_losses while saving (showing 2 of 2). These functions will not be directly callable after loading.\n"
     ]
    },
    {
     "name": "stdout",
     "output_type": "stream",
     "text": [
      "INFO:tensorflow:Assets written to: karimnagar_temp\\assets\n"
     ]
    },
    {
     "name": "stderr",
     "output_type": "stream",
     "text": [
      "INFO:tensorflow:Assets written to: karimnagar_temp\\assets\n"
     ]
    },
    {
     "name": "stdout",
     "output_type": "stream",
     "text": [
      "286/286 [==============================] - 21s 73ms/step - loss: 0.0273 - root_mean_squared_error: 0.1651 - val_loss: 0.0226 - val_root_mean_squared_error: 0.1504\n",
      "Epoch 4/200\n",
      "285/286 [============================>.] - ETA: 0s - loss: 0.0220 - root_mean_squared_error: 0.1484"
     ]
    },
    {
     "name": "stderr",
     "output_type": "stream",
     "text": [
      "WARNING:absl:Found untraced functions such as lstm_cell_2_layer_call_fn, lstm_cell_2_layer_call_and_return_conditional_losses while saving (showing 2 of 2). These functions will not be directly callable after loading.\n"
     ]
    },
    {
     "name": "stdout",
     "output_type": "stream",
     "text": [
      "INFO:tensorflow:Assets written to: karimnagar_temp\\assets\n"
     ]
    },
    {
     "name": "stderr",
     "output_type": "stream",
     "text": [
      "INFO:tensorflow:Assets written to: karimnagar_temp\\assets\n"
     ]
    },
    {
     "name": "stdout",
     "output_type": "stream",
     "text": [
      "286/286 [==============================] - 21s 73ms/step - loss: 0.0220 - root_mean_squared_error: 0.1483 - val_loss: 0.0209 - val_root_mean_squared_error: 0.1444\n",
      "Epoch 5/200\n",
      "285/286 [============================>.] - ETA: 0s - loss: 0.0204 - root_mean_squared_error: 0.1427"
     ]
    },
    {
     "name": "stderr",
     "output_type": "stream",
     "text": [
      "WARNING:absl:Found untraced functions such as lstm_cell_2_layer_call_fn, lstm_cell_2_layer_call_and_return_conditional_losses while saving (showing 2 of 2). These functions will not be directly callable after loading.\n"
     ]
    },
    {
     "name": "stdout",
     "output_type": "stream",
     "text": [
      "INFO:tensorflow:Assets written to: karimnagar_temp\\assets\n"
     ]
    },
    {
     "name": "stderr",
     "output_type": "stream",
     "text": [
      "INFO:tensorflow:Assets written to: karimnagar_temp\\assets\n"
     ]
    },
    {
     "name": "stdout",
     "output_type": "stream",
     "text": [
      "286/286 [==============================] - 21s 73ms/step - loss: 0.0204 - root_mean_squared_error: 0.1427 - val_loss: 0.0197 - val_root_mean_squared_error: 0.1405\n",
      "Epoch 6/200\n",
      "285/286 [============================>.] - ETA: 0s - loss: 0.0187 - root_mean_squared_error: 0.1369"
     ]
    },
    {
     "name": "stderr",
     "output_type": "stream",
     "text": [
      "WARNING:absl:Found untraced functions such as lstm_cell_2_layer_call_fn, lstm_cell_2_layer_call_and_return_conditional_losses while saving (showing 2 of 2). These functions will not be directly callable after loading.\n"
     ]
    },
    {
     "name": "stdout",
     "output_type": "stream",
     "text": [
      "INFO:tensorflow:Assets written to: karimnagar_temp\\assets\n"
     ]
    },
    {
     "name": "stderr",
     "output_type": "stream",
     "text": [
      "INFO:tensorflow:Assets written to: karimnagar_temp\\assets\n"
     ]
    },
    {
     "name": "stdout",
     "output_type": "stream",
     "text": [
      "286/286 [==============================] - 21s 73ms/step - loss: 0.0187 - root_mean_squared_error: 0.1369 - val_loss: 0.0188 - val_root_mean_squared_error: 0.1370\n",
      "Epoch 7/200\n",
      "285/286 [============================>.] - ETA: 0s - loss: 0.0181 - root_mean_squared_error: 0.1344"
     ]
    },
    {
     "name": "stderr",
     "output_type": "stream",
     "text": [
      "WARNING:absl:Found untraced functions such as lstm_cell_2_layer_call_fn, lstm_cell_2_layer_call_and_return_conditional_losses while saving (showing 2 of 2). These functions will not be directly callable after loading.\n"
     ]
    },
    {
     "name": "stdout",
     "output_type": "stream",
     "text": [
      "INFO:tensorflow:Assets written to: karimnagar_temp\\assets\n"
     ]
    },
    {
     "name": "stderr",
     "output_type": "stream",
     "text": [
      "INFO:tensorflow:Assets written to: karimnagar_temp\\assets\n"
     ]
    },
    {
     "name": "stdout",
     "output_type": "stream",
     "text": [
      "286/286 [==============================] - 21s 73ms/step - loss: 0.0181 - root_mean_squared_error: 0.1344 - val_loss: 0.0183 - val_root_mean_squared_error: 0.1352\n",
      "Epoch 8/200\n",
      "286/286 [==============================] - 16s 56ms/step - loss: 0.0180 - root_mean_squared_error: 0.1341 - val_loss: 0.0183 - val_root_mean_squared_error: 0.1352\n",
      "Epoch 9/200\n",
      "285/286 [============================>.] - ETA: 0s - loss: 0.0180 - root_mean_squared_error: 0.1340"
     ]
    },
    {
     "name": "stderr",
     "output_type": "stream",
     "text": [
      "WARNING:absl:Found untraced functions such as lstm_cell_2_layer_call_fn, lstm_cell_2_layer_call_and_return_conditional_losses while saving (showing 2 of 2). These functions will not be directly callable after loading.\n"
     ]
    },
    {
     "name": "stdout",
     "output_type": "stream",
     "text": [
      "INFO:tensorflow:Assets written to: karimnagar_temp\\assets\n"
     ]
    },
    {
     "name": "stderr",
     "output_type": "stream",
     "text": [
      "INFO:tensorflow:Assets written to: karimnagar_temp\\assets\n"
     ]
    },
    {
     "name": "stdout",
     "output_type": "stream",
     "text": [
      "286/286 [==============================] - 21s 74ms/step - loss: 0.0180 - root_mean_squared_error: 0.1340 - val_loss: 0.0182 - val_root_mean_squared_error: 0.1348\n",
      "Epoch 10/200\n",
      "285/286 [============================>.] - ETA: 0s - loss: 0.0179 - root_mean_squared_error: 0.1339"
     ]
    },
    {
     "name": "stderr",
     "output_type": "stream",
     "text": [
      "WARNING:absl:Found untraced functions such as lstm_cell_2_layer_call_fn, lstm_cell_2_layer_call_and_return_conditional_losses while saving (showing 2 of 2). These functions will not be directly callable after loading.\n"
     ]
    },
    {
     "name": "stdout",
     "output_type": "stream",
     "text": [
      "INFO:tensorflow:Assets written to: karimnagar_temp\\assets\n"
     ]
    },
    {
     "name": "stderr",
     "output_type": "stream",
     "text": [
      "INFO:tensorflow:Assets written to: karimnagar_temp\\assets\n"
     ]
    },
    {
     "name": "stdout",
     "output_type": "stream",
     "text": [
      "286/286 [==============================] - 21s 73ms/step - loss: 0.0179 - root_mean_squared_error: 0.1339 - val_loss: 0.0179 - val_root_mean_squared_error: 0.1340\n",
      "Epoch 11/200\n",
      "285/286 [============================>.] - ETA: 0s - loss: 0.0177 - root_mean_squared_error: 0.1329"
     ]
    },
    {
     "name": "stderr",
     "output_type": "stream",
     "text": [
      "WARNING:absl:Found untraced functions such as lstm_cell_2_layer_call_fn, lstm_cell_2_layer_call_and_return_conditional_losses while saving (showing 2 of 2). These functions will not be directly callable after loading.\n"
     ]
    },
    {
     "name": "stdout",
     "output_type": "stream",
     "text": [
      "INFO:tensorflow:Assets written to: karimnagar_temp\\assets\n"
     ]
    },
    {
     "name": "stderr",
     "output_type": "stream",
     "text": [
      "INFO:tensorflow:Assets written to: karimnagar_temp\\assets\n"
     ]
    },
    {
     "name": "stdout",
     "output_type": "stream",
     "text": [
      "286/286 [==============================] - 21s 74ms/step - loss: 0.0177 - root_mean_squared_error: 0.1329 - val_loss: 0.0167 - val_root_mean_squared_error: 0.1291\n",
      "Epoch 12/200\n",
      "286/286 [==============================] - 16s 56ms/step - loss: 0.0166 - root_mean_squared_error: 0.1288 - val_loss: 0.0167 - val_root_mean_squared_error: 0.1292\n",
      "Epoch 13/200\n",
      "285/286 [============================>.] - ETA: 0s - loss: 0.0155 - root_mean_squared_error: 0.1247"
     ]
    },
    {
     "name": "stderr",
     "output_type": "stream",
     "text": [
      "WARNING:absl:Found untraced functions such as lstm_cell_2_layer_call_fn, lstm_cell_2_layer_call_and_return_conditional_losses while saving (showing 2 of 2). These functions will not be directly callable after loading.\n"
     ]
    },
    {
     "name": "stdout",
     "output_type": "stream",
     "text": [
      "INFO:tensorflow:Assets written to: karimnagar_temp\\assets\n"
     ]
    },
    {
     "name": "stderr",
     "output_type": "stream",
     "text": [
      "INFO:tensorflow:Assets written to: karimnagar_temp\\assets\n"
     ]
    },
    {
     "name": "stdout",
     "output_type": "stream",
     "text": [
      "286/286 [==============================] - 21s 73ms/step - loss: 0.0155 - root_mean_squared_error: 0.1247 - val_loss: 0.0152 - val_root_mean_squared_error: 0.1232\n",
      "Epoch 14/200\n",
      "286/286 [==============================] - 16s 55ms/step - loss: 0.0153 - root_mean_squared_error: 0.1236 - val_loss: 0.0155 - val_root_mean_squared_error: 0.1244\n",
      "Epoch 15/200\n",
      "285/286 [============================>.] - ETA: 0s - loss: 0.0140 - root_mean_squared_error: 0.1184"
     ]
    },
    {
     "name": "stderr",
     "output_type": "stream",
     "text": [
      "WARNING:absl:Found untraced functions such as lstm_cell_2_layer_call_fn, lstm_cell_2_layer_call_and_return_conditional_losses while saving (showing 2 of 2). These functions will not be directly callable after loading.\n"
     ]
    },
    {
     "name": "stdout",
     "output_type": "stream",
     "text": [
      "INFO:tensorflow:Assets written to: karimnagar_temp\\assets\n"
     ]
    },
    {
     "name": "stderr",
     "output_type": "stream",
     "text": [
      "INFO:tensorflow:Assets written to: karimnagar_temp\\assets\n"
     ]
    },
    {
     "name": "stdout",
     "output_type": "stream",
     "text": [
      "286/286 [==============================] - 22s 75ms/step - loss: 0.0140 - root_mean_squared_error: 0.1184 - val_loss: 0.0138 - val_root_mean_squared_error: 0.1176\n",
      "Epoch 16/200\n",
      "285/286 [============================>.] - ETA: 0s - loss: 0.0132 - root_mean_squared_error: 0.1151"
     ]
    },
    {
     "name": "stderr",
     "output_type": "stream",
     "text": [
      "WARNING:absl:Found untraced functions such as lstm_cell_2_layer_call_fn, lstm_cell_2_layer_call_and_return_conditional_losses while saving (showing 2 of 2). These functions will not be directly callable after loading.\n"
     ]
    },
    {
     "name": "stdout",
     "output_type": "stream",
     "text": [
      "INFO:tensorflow:Assets written to: karimnagar_temp\\assets\n"
     ]
    },
    {
     "name": "stderr",
     "output_type": "stream",
     "text": [
      "INFO:tensorflow:Assets written to: karimnagar_temp\\assets\n"
     ]
    },
    {
     "name": "stdout",
     "output_type": "stream",
     "text": [
      "286/286 [==============================] - 21s 73ms/step - loss: 0.0132 - root_mean_squared_error: 0.1150 - val_loss: 0.0126 - val_root_mean_squared_error: 0.1121\n",
      "Epoch 17/200\n",
      "286/286 [==============================] - 16s 55ms/step - loss: 0.0126 - root_mean_squared_error: 0.1123 - val_loss: 0.0126 - val_root_mean_squared_error: 0.1123\n",
      "Epoch 18/200\n",
      "285/286 [============================>.] - ETA: 0s - loss: 0.0126 - root_mean_squared_error: 0.1123"
     ]
    },
    {
     "name": "stderr",
     "output_type": "stream",
     "text": [
      "WARNING:absl:Found untraced functions such as lstm_cell_2_layer_call_fn, lstm_cell_2_layer_call_and_return_conditional_losses while saving (showing 2 of 2). These functions will not be directly callable after loading.\n"
     ]
    },
    {
     "name": "stdout",
     "output_type": "stream",
     "text": [
      "INFO:tensorflow:Assets written to: karimnagar_temp\\assets\n"
     ]
    },
    {
     "name": "stderr",
     "output_type": "stream",
     "text": [
      "INFO:tensorflow:Assets written to: karimnagar_temp\\assets\n"
     ]
    },
    {
     "name": "stdout",
     "output_type": "stream",
     "text": [
      "286/286 [==============================] - 21s 73ms/step - loss: 0.0126 - root_mean_squared_error: 0.1123 - val_loss: 0.0125 - val_root_mean_squared_error: 0.1120\n",
      "Epoch 19/200\n",
      "286/286 [==============================] - ETA: 0s - loss: 0.0117 - root_mean_squared_error: 0.1084"
     ]
    },
    {
     "name": "stderr",
     "output_type": "stream",
     "text": [
      "WARNING:absl:Found untraced functions such as lstm_cell_2_layer_call_fn, lstm_cell_2_layer_call_and_return_conditional_losses while saving (showing 2 of 2). These functions will not be directly callable after loading.\n"
     ]
    },
    {
     "name": "stdout",
     "output_type": "stream",
     "text": [
      "INFO:tensorflow:Assets written to: karimnagar_temp\\assets\n"
     ]
    },
    {
     "name": "stderr",
     "output_type": "stream",
     "text": [
      "INFO:tensorflow:Assets written to: karimnagar_temp\\assets\n"
     ]
    },
    {
     "name": "stdout",
     "output_type": "stream",
     "text": [
      "286/286 [==============================] - 21s 73ms/step - loss: 0.0117 - root_mean_squared_error: 0.1084 - val_loss: 0.0100 - val_root_mean_squared_error: 0.1002\n",
      "Epoch 20/200\n",
      "285/286 [============================>.] - ETA: 0s - loss: 0.0100 - root_mean_squared_error: 0.0999"
     ]
    },
    {
     "name": "stderr",
     "output_type": "stream",
     "text": [
      "WARNING:absl:Found untraced functions such as lstm_cell_2_layer_call_fn, lstm_cell_2_layer_call_and_return_conditional_losses while saving (showing 2 of 2). These functions will not be directly callable after loading.\n"
     ]
    },
    {
     "name": "stdout",
     "output_type": "stream",
     "text": [
      "INFO:tensorflow:Assets written to: karimnagar_temp\\assets\n"
     ]
    },
    {
     "name": "stderr",
     "output_type": "stream",
     "text": [
      "INFO:tensorflow:Assets written to: karimnagar_temp\\assets\n"
     ]
    },
    {
     "name": "stdout",
     "output_type": "stream",
     "text": [
      "286/286 [==============================] - 23s 79ms/step - loss: 0.0100 - root_mean_squared_error: 0.0999 - val_loss: 0.0100 - val_root_mean_squared_error: 0.0999\n",
      "Epoch 21/200\n",
      "285/286 [============================>.] - ETA: 0s - loss: 0.0100 - root_mean_squared_error: 0.1000"
     ]
    },
    {
     "name": "stderr",
     "output_type": "stream",
     "text": [
      "WARNING:absl:Found untraced functions such as lstm_cell_2_layer_call_fn, lstm_cell_2_layer_call_and_return_conditional_losses while saving (showing 2 of 2). These functions will not be directly callable after loading.\n"
     ]
    },
    {
     "name": "stdout",
     "output_type": "stream",
     "text": [
      "INFO:tensorflow:Assets written to: karimnagar_temp\\assets\n"
     ]
    },
    {
     "name": "stderr",
     "output_type": "stream",
     "text": [
      "INFO:tensorflow:Assets written to: karimnagar_temp\\assets\n"
     ]
    },
    {
     "name": "stdout",
     "output_type": "stream",
     "text": [
      "286/286 [==============================] - 22s 75ms/step - loss: 0.0100 - root_mean_squared_error: 0.0999 - val_loss: 0.0099 - val_root_mean_squared_error: 0.0992\n",
      "Epoch 22/200\n",
      "286/286 [==============================] - 16s 55ms/step - loss: 0.0100 - root_mean_squared_error: 0.0998 - val_loss: 0.0099 - val_root_mean_squared_error: 0.0995\n",
      "Epoch 23/200\n",
      "286/286 [==============================] - 16s 55ms/step - loss: 0.0100 - root_mean_squared_error: 0.0998 - val_loss: 0.0100 - val_root_mean_squared_error: 0.1002\n",
      "Epoch 24/200\n",
      "286/286 [==============================] - 16s 56ms/step - loss: 0.0100 - root_mean_squared_error: 0.0998 - val_loss: 0.0100 - val_root_mean_squared_error: 0.0999\n",
      "Epoch 25/200\n",
      "286/286 [==============================] - 16s 56ms/step - loss: 0.0099 - root_mean_squared_error: 0.0997 - val_loss: 0.0099 - val_root_mean_squared_error: 0.0996\n",
      "Epoch 26/200\n",
      "285/286 [============================>.] - ETA: 0s - loss: 0.0079 - root_mean_squared_error: 0.0888"
     ]
    },
    {
     "name": "stderr",
     "output_type": "stream",
     "text": [
      "WARNING:absl:Found untraced functions such as lstm_cell_2_layer_call_fn, lstm_cell_2_layer_call_and_return_conditional_losses while saving (showing 2 of 2). These functions will not be directly callable after loading.\n"
     ]
    },
    {
     "name": "stdout",
     "output_type": "stream",
     "text": [
      "INFO:tensorflow:Assets written to: karimnagar_temp\\assets\n"
     ]
    },
    {
     "name": "stderr",
     "output_type": "stream",
     "text": [
      "INFO:tensorflow:Assets written to: karimnagar_temp\\assets\n"
     ]
    },
    {
     "name": "stdout",
     "output_type": "stream",
     "text": [
      "286/286 [==============================] - 21s 75ms/step - loss: 0.0079 - root_mean_squared_error: 0.0888 - val_loss: 0.0075 - val_root_mean_squared_error: 0.0863\n",
      "Epoch 27/200\n",
      "286/286 [==============================] - ETA: 0s - loss: 0.0073 - root_mean_squared_error: 0.0855"
     ]
    },
    {
     "name": "stderr",
     "output_type": "stream",
     "text": [
      "WARNING:absl:Found untraced functions such as lstm_cell_2_layer_call_fn, lstm_cell_2_layer_call_and_return_conditional_losses while saving (showing 2 of 2). These functions will not be directly callable after loading.\n"
     ]
    },
    {
     "name": "stdout",
     "output_type": "stream",
     "text": [
      "INFO:tensorflow:Assets written to: karimnagar_temp\\assets\n"
     ]
    },
    {
     "name": "stderr",
     "output_type": "stream",
     "text": [
      "INFO:tensorflow:Assets written to: karimnagar_temp\\assets\n"
     ]
    },
    {
     "name": "stdout",
     "output_type": "stream",
     "text": [
      "286/286 [==============================] - 21s 73ms/step - loss: 0.0073 - root_mean_squared_error: 0.0855 - val_loss: 0.0074 - val_root_mean_squared_error: 0.0858\n",
      "Epoch 28/200\n",
      "285/286 [============================>.] - ETA: 0s - loss: 0.0073 - root_mean_squared_error: 0.0855"
     ]
    },
    {
     "name": "stderr",
     "output_type": "stream",
     "text": [
      "WARNING:absl:Found untraced functions such as lstm_cell_2_layer_call_fn, lstm_cell_2_layer_call_and_return_conditional_losses while saving (showing 2 of 2). These functions will not be directly callable after loading.\n"
     ]
    },
    {
     "name": "stdout",
     "output_type": "stream",
     "text": [
      "INFO:tensorflow:Assets written to: karimnagar_temp\\assets\n"
     ]
    },
    {
     "name": "stderr",
     "output_type": "stream",
     "text": [
      "INFO:tensorflow:Assets written to: karimnagar_temp\\assets\n"
     ]
    },
    {
     "name": "stdout",
     "output_type": "stream",
     "text": [
      "286/286 [==============================] - 21s 74ms/step - loss: 0.0073 - root_mean_squared_error: 0.0855 - val_loss: 0.0073 - val_root_mean_squared_error: 0.0854\n",
      "Epoch 29/200\n",
      "286/286 [==============================] - 16s 55ms/step - loss: 0.0073 - root_mean_squared_error: 0.0855 - val_loss: 0.0073 - val_root_mean_squared_error: 0.0857\n",
      "Epoch 30/200\n",
      "286/286 [==============================] - 16s 55ms/step - loss: 0.0073 - root_mean_squared_error: 0.0854 - val_loss: 0.0075 - val_root_mean_squared_error: 0.0864\n",
      "Epoch 31/200\n",
      "286/286 [==============================] - ETA: 0s - loss: 0.0073 - root_mean_squared_error: 0.0853"
     ]
    },
    {
     "name": "stderr",
     "output_type": "stream",
     "text": [
      "WARNING:absl:Found untraced functions such as lstm_cell_2_layer_call_fn, lstm_cell_2_layer_call_and_return_conditional_losses while saving (showing 2 of 2). These functions will not be directly callable after loading.\n"
     ]
    },
    {
     "name": "stdout",
     "output_type": "stream",
     "text": [
      "INFO:tensorflow:Assets written to: karimnagar_temp\\assets\n"
     ]
    },
    {
     "name": "stderr",
     "output_type": "stream",
     "text": [
      "INFO:tensorflow:Assets written to: karimnagar_temp\\assets\n"
     ]
    },
    {
     "name": "stdout",
     "output_type": "stream",
     "text": [
      "286/286 [==============================] - 21s 73ms/step - loss: 0.0073 - root_mean_squared_error: 0.0853 - val_loss: 0.0072 - val_root_mean_squared_error: 0.0849\n",
      "Epoch 32/200\n",
      "286/286 [==============================] - 16s 55ms/step - loss: 0.0073 - root_mean_squared_error: 0.0852 - val_loss: 0.0072 - val_root_mean_squared_error: 0.0850\n",
      "Epoch 33/200\n",
      "286/286 [==============================] - 16s 55ms/step - loss: 0.0073 - root_mean_squared_error: 0.0852 - val_loss: 0.0073 - val_root_mean_squared_error: 0.0853\n",
      "Epoch 34/200\n",
      "286/286 [==============================] - ETA: 0s - loss: 0.0067 - root_mean_squared_error: 0.0820"
     ]
    },
    {
     "name": "stderr",
     "output_type": "stream",
     "text": [
      "WARNING:absl:Found untraced functions such as lstm_cell_2_layer_call_fn, lstm_cell_2_layer_call_and_return_conditional_losses while saving (showing 2 of 2). These functions will not be directly callable after loading.\n"
     ]
    },
    {
     "name": "stdout",
     "output_type": "stream",
     "text": [
      "INFO:tensorflow:Assets written to: karimnagar_temp\\assets\n"
     ]
    },
    {
     "name": "stderr",
     "output_type": "stream",
     "text": [
      "INFO:tensorflow:Assets written to: karimnagar_temp\\assets\n"
     ]
    },
    {
     "name": "stdout",
     "output_type": "stream",
     "text": [
      "286/286 [==============================] - 21s 74ms/step - loss: 0.0067 - root_mean_squared_error: 0.0820 - val_loss: 0.0061 - val_root_mean_squared_error: 0.0782\n",
      "Epoch 35/200\n",
      "286/286 [==============================] - ETA: 0s - loss: 0.0056 - root_mean_squared_error: 0.0751"
     ]
    },
    {
     "name": "stderr",
     "output_type": "stream",
     "text": [
      "WARNING:absl:Found untraced functions such as lstm_cell_2_layer_call_fn, lstm_cell_2_layer_call_and_return_conditional_losses while saving (showing 2 of 2). These functions will not be directly callable after loading.\n"
     ]
    },
    {
     "name": "stdout",
     "output_type": "stream",
     "text": [
      "INFO:tensorflow:Assets written to: karimnagar_temp\\assets\n"
     ]
    },
    {
     "name": "stderr",
     "output_type": "stream",
     "text": [
      "INFO:tensorflow:Assets written to: karimnagar_temp\\assets\n"
     ]
    },
    {
     "name": "stdout",
     "output_type": "stream",
     "text": [
      "286/286 [==============================] - 21s 72ms/step - loss: 0.0056 - root_mean_squared_error: 0.0751 - val_loss: 0.0046 - val_root_mean_squared_error: 0.0679\n",
      "Epoch 36/200\n",
      "286/286 [==============================] - 16s 55ms/step - loss: 0.0046 - root_mean_squared_error: 0.0680 - val_loss: 0.0048 - val_root_mean_squared_error: 0.0690\n",
      "Epoch 37/200\n",
      "285/286 [============================>.] - ETA: 0s - loss: 0.0039 - root_mean_squared_error: 0.0626"
     ]
    },
    {
     "name": "stderr",
     "output_type": "stream",
     "text": [
      "WARNING:absl:Found untraced functions such as lstm_cell_2_layer_call_fn, lstm_cell_2_layer_call_and_return_conditional_losses while saving (showing 2 of 2). These functions will not be directly callable after loading.\n"
     ]
    },
    {
     "name": "stdout",
     "output_type": "stream",
     "text": [
      "INFO:tensorflow:Assets written to: karimnagar_temp\\assets\n"
     ]
    },
    {
     "name": "stderr",
     "output_type": "stream",
     "text": [
      "INFO:tensorflow:Assets written to: karimnagar_temp\\assets\n"
     ]
    },
    {
     "name": "stdout",
     "output_type": "stream",
     "text": [
      "286/286 [==============================] - 21s 74ms/step - loss: 0.0039 - root_mean_squared_error: 0.0626 - val_loss: 0.0034 - val_root_mean_squared_error: 0.0585\n",
      "Epoch 38/200\n",
      "286/286 [==============================] - 16s 55ms/step - loss: 0.0033 - root_mean_squared_error: 0.0576 - val_loss: 0.0038 - val_root_mean_squared_error: 0.0616\n",
      "Epoch 39/200\n",
      "285/286 [============================>.] - ETA: 0s - loss: 0.0033 - root_mean_squared_error: 0.0571"
     ]
    },
    {
     "name": "stderr",
     "output_type": "stream",
     "text": [
      "WARNING:absl:Found untraced functions such as lstm_cell_2_layer_call_fn, lstm_cell_2_layer_call_and_return_conditional_losses while saving (showing 2 of 2). These functions will not be directly callable after loading.\n"
     ]
    },
    {
     "name": "stdout",
     "output_type": "stream",
     "text": [
      "INFO:tensorflow:Assets written to: karimnagar_temp\\assets\n"
     ]
    },
    {
     "name": "stderr",
     "output_type": "stream",
     "text": [
      "INFO:tensorflow:Assets written to: karimnagar_temp\\assets\n"
     ]
    },
    {
     "name": "stdout",
     "output_type": "stream",
     "text": [
      "286/286 [==============================] - 21s 72ms/step - loss: 0.0033 - root_mean_squared_error: 0.0571 - val_loss: 0.0034 - val_root_mean_squared_error: 0.0581\n",
      "Epoch 40/200\n",
      "285/286 [============================>.] - ETA: 0s - loss: 0.0035 - root_mean_squared_error: 0.0587"
     ]
    },
    {
     "name": "stderr",
     "output_type": "stream",
     "text": [
      "WARNING:absl:Found untraced functions such as lstm_cell_2_layer_call_fn, lstm_cell_2_layer_call_and_return_conditional_losses while saving (showing 2 of 2). These functions will not be directly callable after loading.\n"
     ]
    },
    {
     "name": "stdout",
     "output_type": "stream",
     "text": [
      "INFO:tensorflow:Assets written to: karimnagar_temp\\assets\n"
     ]
    },
    {
     "name": "stderr",
     "output_type": "stream",
     "text": [
      "INFO:tensorflow:Assets written to: karimnagar_temp\\assets\n"
     ]
    },
    {
     "name": "stdout",
     "output_type": "stream",
     "text": [
      "286/286 [==============================] - 22s 75ms/step - loss: 0.0035 - root_mean_squared_error: 0.0587 - val_loss: 0.0033 - val_root_mean_squared_error: 0.0577\n",
      "Epoch 41/200\n",
      "286/286 [==============================] - 16s 55ms/step - loss: 0.0034 - root_mean_squared_error: 0.0582 - val_loss: 0.0036 - val_root_mean_squared_error: 0.0603\n",
      "Epoch 42/200\n",
      "286/286 [==============================] - 16s 55ms/step - loss: 0.0033 - root_mean_squared_error: 0.0575 - val_loss: 0.0035 - val_root_mean_squared_error: 0.0588\n",
      "Epoch 43/200\n",
      "285/286 [============================>.] - ETA: 0s - loss: 0.0022 - root_mean_squared_error: 0.0471"
     ]
    },
    {
     "name": "stderr",
     "output_type": "stream",
     "text": [
      "WARNING:absl:Found untraced functions such as lstm_cell_2_layer_call_fn, lstm_cell_2_layer_call_and_return_conditional_losses while saving (showing 2 of 2). These functions will not be directly callable after loading.\n"
     ]
    },
    {
     "name": "stdout",
     "output_type": "stream",
     "text": [
      "INFO:tensorflow:Assets written to: karimnagar_temp\\assets\n"
     ]
    },
    {
     "name": "stderr",
     "output_type": "stream",
     "text": [
      "INFO:tensorflow:Assets written to: karimnagar_temp\\assets\n"
     ]
    },
    {
     "name": "stdout",
     "output_type": "stream",
     "text": [
      "286/286 [==============================] - 21s 73ms/step - loss: 0.0022 - root_mean_squared_error: 0.0471 - val_loss: 0.0020 - val_root_mean_squared_error: 0.0448\n",
      "Epoch 44/200\n",
      "286/286 [==============================] - 16s 55ms/step - loss: 0.0019 - root_mean_squared_error: 0.0441 - val_loss: 0.0022 - val_root_mean_squared_error: 0.0473\n",
      "Epoch 45/200\n",
      "286/286 [==============================] - 16s 55ms/step - loss: 0.0019 - root_mean_squared_error: 0.0441 - val_loss: 0.0021 - val_root_mean_squared_error: 0.0456\n",
      "Epoch 46/200\n",
      "286/286 [==============================] - 16s 57ms/step - loss: 0.0019 - root_mean_squared_error: 0.0437 - val_loss: 0.0021 - val_root_mean_squared_error: 0.0458\n",
      "Epoch 47/200\n",
      "286/286 [==============================] - 16s 56ms/step - loss: 0.0019 - root_mean_squared_error: 0.0436 - val_loss: 0.0021 - val_root_mean_squared_error: 0.0460\n",
      "Epoch 48/200\n",
      "286/286 [==============================] - 16s 55ms/step - loss: 0.0019 - root_mean_squared_error: 0.0434 - val_loss: 0.0022 - val_root_mean_squared_error: 0.0474\n",
      "Epoch 49/200\n",
      "286/286 [==============================] - 16s 54ms/step - loss: 0.0019 - root_mean_squared_error: 0.0432 - val_loss: 0.0021 - val_root_mean_squared_error: 0.0457\n",
      "Epoch 50/200\n",
      "286/286 [==============================] - 16s 55ms/step - loss: 0.0019 - root_mean_squared_error: 0.0433 - val_loss: 0.0021 - val_root_mean_squared_error: 0.0454\n",
      "Epoch 51/200\n",
      "286/286 [==============================] - 16s 56ms/step - loss: 0.0019 - root_mean_squared_error: 0.0433 - val_loss: 0.0021 - val_root_mean_squared_error: 0.0461\n",
      "Epoch 52/200\n",
      "286/286 [==============================] - 15s 54ms/step - loss: 0.0019 - root_mean_squared_error: 0.0431 - val_loss: 0.0023 - val_root_mean_squared_error: 0.0482\n",
      "Epoch 53/200\n",
      "286/286 [==============================] - 16s 55ms/step - loss: 0.0018 - root_mean_squared_error: 0.0428 - val_loss: 0.0022 - val_root_mean_squared_error: 0.0468\n",
      "Epoch 54/200\n",
      "286/286 [==============================] - 16s 55ms/step - loss: 0.0018 - root_mean_squared_error: 0.0426 - val_loss: 0.0021 - val_root_mean_squared_error: 0.0459\n",
      "Epoch 55/200\n",
      "286/286 [==============================] - 16s 55ms/step - loss: 0.0018 - root_mean_squared_error: 0.0426 - val_loss: 0.0021 - val_root_mean_squared_error: 0.0454\n",
      "Epoch 56/200\n",
      "286/286 [==============================] - 16s 56ms/step - loss: 0.0018 - root_mean_squared_error: 0.0426 - val_loss: 0.0021 - val_root_mean_squared_error: 0.0463\n",
      "Epoch 57/200\n",
      "286/286 [==============================] - 16s 54ms/step - loss: 0.0018 - root_mean_squared_error: 0.0425 - val_loss: 0.0022 - val_root_mean_squared_error: 0.0467\n",
      "Epoch 58/200\n",
      "286/286 [==============================] - 16s 56ms/step - loss: 0.0018 - root_mean_squared_error: 0.0423 - val_loss: 0.0021 - val_root_mean_squared_error: 0.0460\n",
      "Epoch 59/200\n",
      "286/286 [==============================] - 16s 55ms/step - loss: 0.0018 - root_mean_squared_error: 0.0419 - val_loss: 0.0022 - val_root_mean_squared_error: 0.0471\n",
      "Epoch 60/200\n",
      "286/286 [==============================] - 16s 55ms/step - loss: 0.0018 - root_mean_squared_error: 0.0420 - val_loss: 0.0022 - val_root_mean_squared_error: 0.0469\n",
      "Epoch 61/200\n",
      "286/286 [==============================] - 16s 57ms/step - loss: 0.0018 - root_mean_squared_error: 0.0419 - val_loss: 0.0023 - val_root_mean_squared_error: 0.0476\n",
      "Epoch 62/200\n",
      "286/286 [==============================] - 16s 57ms/step - loss: 0.0017 - root_mean_squared_error: 0.0416 - val_loss: 0.0023 - val_root_mean_squared_error: 0.0480\n",
      "Epoch 63/200\n",
      "286/286 [==============================] - 16s 56ms/step - loss: 0.0017 - root_mean_squared_error: 0.0415 - val_loss: 0.0023 - val_root_mean_squared_error: 0.0481\n",
      "Epoch 64/200\n",
      "286/286 [==============================] - 16s 57ms/step - loss: 0.0017 - root_mean_squared_error: 0.0412 - val_loss: 0.0023 - val_root_mean_squared_error: 0.0474\n",
      "Epoch 65/200\n",
      "286/286 [==============================] - 17s 58ms/step - loss: 0.0017 - root_mean_squared_error: 0.0411 - val_loss: 0.0024 - val_root_mean_squared_error: 0.0493\n",
      "Epoch 66/200\n",
      "286/286 [==============================] - 16s 57ms/step - loss: 0.0017 - root_mean_squared_error: 0.0410 - val_loss: 0.0022 - val_root_mean_squared_error: 0.0464\n",
      "Epoch 67/200\n",
      "286/286 [==============================] - 16s 57ms/step - loss: 0.0017 - root_mean_squared_error: 0.0408 - val_loss: 0.0022 - val_root_mean_squared_error: 0.0465\n",
      "Epoch 68/200\n",
      "286/286 [==============================] - 16s 57ms/step - loss: 0.0016 - root_mean_squared_error: 0.0404 - val_loss: 0.0023 - val_root_mean_squared_error: 0.0484\n",
      "Epoch 69/200\n",
      "286/286 [==============================] - 17s 58ms/step - loss: 0.0016 - root_mean_squared_error: 0.0403 - val_loss: 0.0021 - val_root_mean_squared_error: 0.0462\n",
      "Epoch 70/200\n",
      "286/286 [==============================] - 16s 57ms/step - loss: 0.0016 - root_mean_squared_error: 0.0403 - val_loss: 0.0022 - val_root_mean_squared_error: 0.0471\n",
      "Epoch 71/200\n",
      "286/286 [==============================] - 16s 57ms/step - loss: 0.0016 - root_mean_squared_error: 0.0401 - val_loss: 0.0023 - val_root_mean_squared_error: 0.0481\n",
      "Epoch 72/200\n",
      "286/286 [==============================] - 16s 57ms/step - loss: 0.0016 - root_mean_squared_error: 0.0399 - val_loss: 0.0022 - val_root_mean_squared_error: 0.0474\n",
      "Epoch 73/200\n",
      "286/286 [==============================] - 16s 57ms/step - loss: 0.0016 - root_mean_squared_error: 0.0399 - val_loss: 0.0023 - val_root_mean_squared_error: 0.0478\n",
      "Epoch 74/200\n",
      "286/286 [==============================] - 16s 57ms/step - loss: 0.0016 - root_mean_squared_error: 0.0398 - val_loss: 0.0023 - val_root_mean_squared_error: 0.0481\n",
      "Epoch 75/200\n",
      "286/286 [==============================] - 16s 57ms/step - loss: 0.0016 - root_mean_squared_error: 0.0396 - val_loss: 0.0024 - val_root_mean_squared_error: 0.0494\n",
      "Epoch 76/200\n",
      "286/286 [==============================] - 16s 57ms/step - loss: 0.0015 - root_mean_squared_error: 0.0393 - val_loss: 0.0023 - val_root_mean_squared_error: 0.0475\n",
      "Epoch 77/200\n",
      "286/286 [==============================] - 16s 57ms/step - loss: 0.0015 - root_mean_squared_error: 0.0391 - val_loss: 0.0024 - val_root_mean_squared_error: 0.0487\n",
      "Epoch 78/200\n",
      "286/286 [==============================] - 17s 58ms/step - loss: 0.0015 - root_mean_squared_error: 0.0390 - val_loss: 0.0025 - val_root_mean_squared_error: 0.0497\n",
      "Epoch 79/200\n",
      "286/286 [==============================] - 17s 58ms/step - loss: 0.0015 - root_mean_squared_error: 0.0389 - val_loss: 0.0023 - val_root_mean_squared_error: 0.0475\n",
      "Epoch 80/200\n",
      "286/286 [==============================] - 16s 57ms/step - loss: 0.0015 - root_mean_squared_error: 0.0388 - val_loss: 0.0023 - val_root_mean_squared_error: 0.0477\n",
      "Epoch 81/200\n",
      "286/286 [==============================] - 16s 56ms/step - loss: 0.0015 - root_mean_squared_error: 0.0385 - val_loss: 0.0023 - val_root_mean_squared_error: 0.0476\n",
      "Epoch 82/200\n",
      "286/286 [==============================] - 8s 28ms/step - loss: 0.0015 - root_mean_squared_error: 0.0386 - val_loss: 0.0023 - val_root_mean_squared_error: 0.0480\n",
      "Epoch 83/200\n",
      "286/286 [==============================] - 7s 25ms/step - loss: 0.0015 - root_mean_squared_error: 0.0385 - val_loss: 0.0023 - val_root_mean_squared_error: 0.0480\n",
      "Epoch 84/200\n",
      "286/286 [==============================] - 7s 25ms/step - loss: 0.0015 - root_mean_squared_error: 0.0385 - val_loss: 0.0025 - val_root_mean_squared_error: 0.0500\n",
      "Epoch 85/200\n",
      "286/286 [==============================] - 7s 25ms/step - loss: 0.0015 - root_mean_squared_error: 0.0382 - val_loss: 0.0025 - val_root_mean_squared_error: 0.0499\n",
      "Epoch 86/200\n",
      "286/286 [==============================] - 7s 25ms/step - loss: 0.0014 - root_mean_squared_error: 0.0381 - val_loss: 0.0023 - val_root_mean_squared_error: 0.0481\n",
      "Epoch 87/200\n",
      "286/286 [==============================] - 7s 25ms/step - loss: 0.0015 - root_mean_squared_error: 0.0381 - val_loss: 0.0023 - val_root_mean_squared_error: 0.0484\n",
      "Epoch 88/200\n",
      "286/286 [==============================] - 7s 24ms/step - loss: 0.0014 - root_mean_squared_error: 0.0380 - val_loss: 0.0023 - val_root_mean_squared_error: 0.0482\n",
      "Epoch 89/200\n",
      "286/286 [==============================] - 7s 25ms/step - loss: 0.0014 - root_mean_squared_error: 0.0378 - val_loss: 0.0023 - val_root_mean_squared_error: 0.0478\n"
     ]
    },
    {
     "name": "stdout",
     "output_type": "stream",
     "text": [
      "Epoch 90/200\n",
      "286/286 [==============================] - 7s 25ms/step - loss: 0.0014 - root_mean_squared_error: 0.0377 - val_loss: 0.0023 - val_root_mean_squared_error: 0.0476\n",
      "Epoch 91/200\n",
      "286/286 [==============================] - 7s 25ms/step - loss: 0.0014 - root_mean_squared_error: 0.0376 - val_loss: 0.0024 - val_root_mean_squared_error: 0.0489\n",
      "Epoch 92/200\n",
      "286/286 [==============================] - 7s 25ms/step - loss: 0.0014 - root_mean_squared_error: 0.0373 - val_loss: 0.0024 - val_root_mean_squared_error: 0.0489\n",
      "Epoch 93/200\n",
      "286/286 [==============================] - 7s 25ms/step - loss: 0.0014 - root_mean_squared_error: 0.0374 - val_loss: 0.0023 - val_root_mean_squared_error: 0.0478\n",
      "Epoch 94/200\n",
      "286/286 [==============================] - 7s 25ms/step - loss: 0.0014 - root_mean_squared_error: 0.0373 - val_loss: 0.0023 - val_root_mean_squared_error: 0.0479\n",
      "Epoch 95/200\n",
      "286/286 [==============================] - 7s 25ms/step - loss: 0.0014 - root_mean_squared_error: 0.0372 - val_loss: 0.0023 - val_root_mean_squared_error: 0.0482\n",
      "Epoch 96/200\n",
      "286/286 [==============================] - 7s 25ms/step - loss: 0.0014 - root_mean_squared_error: 0.0371 - val_loss: 0.0023 - val_root_mean_squared_error: 0.0484\n",
      "Epoch 97/200\n",
      "286/286 [==============================] - 7s 25ms/step - loss: 0.0014 - root_mean_squared_error: 0.0371 - val_loss: 0.0023 - val_root_mean_squared_error: 0.0476\n",
      "Epoch 98/200\n",
      "286/286 [==============================] - 7s 25ms/step - loss: 0.0014 - root_mean_squared_error: 0.0369 - val_loss: 0.0022 - val_root_mean_squared_error: 0.0469\n",
      "Epoch 99/200\n",
      "286/286 [==============================] - 7s 25ms/step - loss: 0.0014 - root_mean_squared_error: 0.0368 - val_loss: 0.0022 - val_root_mean_squared_error: 0.0472\n",
      "Epoch 100/200\n",
      "286/286 [==============================] - 7s 25ms/step - loss: 0.0013 - root_mean_squared_error: 0.0367 - val_loss: 0.0023 - val_root_mean_squared_error: 0.0475\n",
      "Epoch 101/200\n",
      "286/286 [==============================] - 7s 25ms/step - loss: 0.0013 - root_mean_squared_error: 0.0366 - val_loss: 0.0022 - val_root_mean_squared_error: 0.0472\n",
      "Epoch 102/200\n",
      "286/286 [==============================] - 7s 25ms/step - loss: 0.0013 - root_mean_squared_error: 0.0365 - val_loss: 0.0024 - val_root_mean_squared_error: 0.0487\n",
      "Epoch 103/200\n",
      "286/286 [==============================] - 7s 25ms/step - loss: 0.0013 - root_mean_squared_error: 0.0364 - val_loss: 0.0024 - val_root_mean_squared_error: 0.0493\n",
      "Epoch 104/200\n",
      "286/286 [==============================] - 7s 25ms/step - loss: 0.0013 - root_mean_squared_error: 0.0365 - val_loss: 0.0023 - val_root_mean_squared_error: 0.0475\n",
      "Epoch 105/200\n",
      "286/286 [==============================] - 7s 25ms/step - loss: 0.0013 - root_mean_squared_error: 0.0365 - val_loss: 0.0022 - val_root_mean_squared_error: 0.0467\n",
      "Epoch 106/200\n",
      "286/286 [==============================] - 7s 25ms/step - loss: 0.0013 - root_mean_squared_error: 0.0363 - val_loss: 0.0023 - val_root_mean_squared_error: 0.0482\n",
      "Epoch 107/200\n",
      "286/286 [==============================] - 7s 25ms/step - loss: 0.0013 - root_mean_squared_error: 0.0363 - val_loss: 0.0024 - val_root_mean_squared_error: 0.0487\n",
      "Epoch 108/200\n",
      "286/286 [==============================] - 7s 25ms/step - loss: 0.0013 - root_mean_squared_error: 0.0362 - val_loss: 0.0022 - val_root_mean_squared_error: 0.0466\n",
      "Epoch 109/200\n",
      "286/286 [==============================] - 7s 24ms/step - loss: 0.0013 - root_mean_squared_error: 0.0361 - val_loss: 0.0022 - val_root_mean_squared_error: 0.0469\n",
      "Epoch 110/200\n",
      "286/286 [==============================] - 7s 25ms/step - loss: 0.0013 - root_mean_squared_error: 0.0361 - val_loss: 0.0022 - val_root_mean_squared_error: 0.0474\n",
      "Epoch 111/200\n",
      "286/286 [==============================] - 7s 25ms/step - loss: 0.0013 - root_mean_squared_error: 0.0359 - val_loss: 0.0024 - val_root_mean_squared_error: 0.0486\n",
      "Epoch 112/200\n",
      "286/286 [==============================] - 7s 25ms/step - loss: 0.0013 - root_mean_squared_error: 0.0358 - val_loss: 0.0023 - val_root_mean_squared_error: 0.0479\n",
      "Epoch 113/200\n",
      "286/286 [==============================] - 7s 25ms/step - loss: 0.0013 - root_mean_squared_error: 0.0358 - val_loss: 0.0024 - val_root_mean_squared_error: 0.0485\n",
      "Epoch 114/200\n",
      "286/286 [==============================] - 7s 25ms/step - loss: 0.0013 - root_mean_squared_error: 0.0356 - val_loss: 0.0023 - val_root_mean_squared_error: 0.0480\n",
      "Epoch 115/200\n",
      "286/286 [==============================] - 7s 24ms/step - loss: 0.0013 - root_mean_squared_error: 0.0357 - val_loss: 0.0023 - val_root_mean_squared_error: 0.0476\n",
      "Epoch 116/200\n",
      "286/286 [==============================] - 7s 25ms/step - loss: 0.0013 - root_mean_squared_error: 0.0357 - val_loss: 0.0023 - val_root_mean_squared_error: 0.0479\n",
      "Epoch 117/200\n",
      "286/286 [==============================] - 7s 25ms/step - loss: 0.0013 - root_mean_squared_error: 0.0356 - val_loss: 0.0022 - val_root_mean_squared_error: 0.0474\n",
      "Epoch 118/200\n",
      "286/286 [==============================] - 7s 25ms/step - loss: 0.0013 - root_mean_squared_error: 0.0354 - val_loss: 0.0022 - val_root_mean_squared_error: 0.0471\n",
      "Epoch 119/200\n",
      "286/286 [==============================] - 7s 24ms/step - loss: 0.0013 - root_mean_squared_error: 0.0354 - val_loss: 0.0024 - val_root_mean_squared_error: 0.0487\n",
      "Epoch 120/200\n",
      "286/286 [==============================] - 7s 25ms/step - loss: 0.0012 - root_mean_squared_error: 0.0354 - val_loss: 0.0023 - val_root_mean_squared_error: 0.0475\n",
      "Epoch 121/200\n",
      "286/286 [==============================] - 7s 25ms/step - loss: 0.0012 - root_mean_squared_error: 0.0353 - val_loss: 0.0023 - val_root_mean_squared_error: 0.0476\n",
      "Epoch 122/200\n",
      "286/286 [==============================] - 7s 25ms/step - loss: 0.0012 - root_mean_squared_error: 0.0352 - val_loss: 0.0023 - val_root_mean_squared_error: 0.0482\n",
      "Epoch 123/200\n",
      "286/286 [==============================] - 7s 25ms/step - loss: 0.0012 - root_mean_squared_error: 0.0352 - val_loss: 0.0023 - val_root_mean_squared_error: 0.0484\n",
      "Epoch 124/200\n",
      "286/286 [==============================] - 7s 25ms/step - loss: 0.0012 - root_mean_squared_error: 0.0350 - val_loss: 0.0023 - val_root_mean_squared_error: 0.0479\n",
      "Epoch 125/200\n",
      "286/286 [==============================] - 7s 25ms/step - loss: 0.0012 - root_mean_squared_error: 0.0351 - val_loss: 0.0024 - val_root_mean_squared_error: 0.0488\n",
      "Epoch 126/200\n",
      "286/286 [==============================] - 7s 25ms/step - loss: 0.0012 - root_mean_squared_error: 0.0350 - val_loss: 0.0023 - val_root_mean_squared_error: 0.0479\n",
      "Epoch 127/200\n",
      "286/286 [==============================] - 7s 25ms/step - loss: 0.0012 - root_mean_squared_error: 0.0349 - val_loss: 0.0022 - val_root_mean_squared_error: 0.0471\n",
      "Epoch 128/200\n",
      "286/286 [==============================] - 7s 25ms/step - loss: 0.0012 - root_mean_squared_error: 0.0350 - val_loss: 0.0023 - val_root_mean_squared_error: 0.0481\n",
      "Epoch 129/200\n",
      "286/286 [==============================] - 7s 25ms/step - loss: 0.0012 - root_mean_squared_error: 0.0351 - val_loss: 0.0022 - val_root_mean_squared_error: 0.0472\n",
      "Epoch 130/200\n",
      "286/286 [==============================] - 7s 25ms/step - loss: 0.0012 - root_mean_squared_error: 0.0347 - val_loss: 0.0023 - val_root_mean_squared_error: 0.0481\n",
      "Epoch 131/200\n",
      "286/286 [==============================] - 8s 26ms/step - loss: 0.0012 - root_mean_squared_error: 0.0347 - val_loss: 0.0022 - val_root_mean_squared_error: 0.0472\n",
      "Epoch 132/200\n",
      "286/286 [==============================] - 7s 25ms/step - loss: 0.0012 - root_mean_squared_error: 0.0347 - val_loss: 0.0023 - val_root_mean_squared_error: 0.0476\n",
      "Epoch 133/200\n",
      "286/286 [==============================] - 7s 25ms/step - loss: 0.0012 - root_mean_squared_error: 0.0348 - val_loss: 0.0022 - val_root_mean_squared_error: 0.0474\n",
      "Epoch 134/200\n",
      "286/286 [==============================] - 7s 25ms/step - loss: 0.0012 - root_mean_squared_error: 0.0346 - val_loss: 0.0023 - val_root_mean_squared_error: 0.0476\n",
      "Epoch 135/200\n",
      "286/286 [==============================] - 7s 25ms/step - loss: 0.0012 - root_mean_squared_error: 0.0347 - val_loss: 0.0023 - val_root_mean_squared_error: 0.0475\n",
      "Epoch 136/200\n",
      "286/286 [==============================] - 7s 25ms/step - loss: 0.0012 - root_mean_squared_error: 0.0344 - val_loss: 0.0023 - val_root_mean_squared_error: 0.0477\n",
      "Epoch 137/200\n",
      "286/286 [==============================] - 7s 25ms/step - loss: 0.0012 - root_mean_squared_error: 0.0344 - val_loss: 0.0023 - val_root_mean_squared_error: 0.0479\n",
      "Epoch 138/200\n",
      "286/286 [==============================] - 7s 25ms/step - loss: 0.0012 - root_mean_squared_error: 0.0344 - val_loss: 0.0022 - val_root_mean_squared_error: 0.0470\n",
      "Epoch 139/200\n",
      "286/286 [==============================] - 7s 24ms/step - loss: 0.0012 - root_mean_squared_error: 0.0344 - val_loss: 0.0024 - val_root_mean_squared_error: 0.0488\n",
      "Epoch 140/200\n",
      "286/286 [==============================] - 7s 25ms/step - loss: 0.0012 - root_mean_squared_error: 0.0344 - val_loss: 0.0022 - val_root_mean_squared_error: 0.0473\n",
      "Epoch 141/200\n",
      "286/286 [==============================] - 7s 25ms/step - loss: 0.0012 - root_mean_squared_error: 0.0344 - val_loss: 0.0023 - val_root_mean_squared_error: 0.0476\n",
      "Epoch 142/200\n",
      "286/286 [==============================] - 7s 25ms/step - loss: 0.0012 - root_mean_squared_error: 0.0342 - val_loss: 0.0023 - val_root_mean_squared_error: 0.0481\n",
      "Epoch 143/200\n",
      "286/286 [==============================] - 7s 25ms/step - loss: 0.0012 - root_mean_squared_error: 0.0342 - val_loss: 0.0024 - val_root_mean_squared_error: 0.0485\n",
      "Epoch 144/200\n",
      "286/286 [==============================] - 7s 25ms/step - loss: 0.0012 - root_mean_squared_error: 0.0342 - val_loss: 0.0023 - val_root_mean_squared_error: 0.0479\n",
      "Epoch 145/200\n",
      "286/286 [==============================] - 7s 25ms/step - loss: 0.0012 - root_mean_squared_error: 0.0341 - val_loss: 0.0022 - val_root_mean_squared_error: 0.0472\n",
      "Epoch 146/200\n",
      "286/286 [==============================] - 7s 25ms/step - loss: 0.0012 - root_mean_squared_error: 0.0341 - val_loss: 0.0022 - val_root_mean_squared_error: 0.0474\n",
      "Epoch 147/200\n",
      "286/286 [==============================] - 7s 25ms/step - loss: 0.0012 - root_mean_squared_error: 0.0341 - val_loss: 0.0023 - val_root_mean_squared_error: 0.0480\n",
      "Epoch 148/200\n",
      "286/286 [==============================] - 7s 25ms/step - loss: 0.0012 - root_mean_squared_error: 0.0341 - val_loss: 0.0022 - val_root_mean_squared_error: 0.0474\n",
      "Epoch 149/200\n",
      "286/286 [==============================] - 7s 25ms/step - loss: 0.0012 - root_mean_squared_error: 0.0340 - val_loss: 0.0023 - val_root_mean_squared_error: 0.0479\n",
      "Epoch 150/200\n",
      "286/286 [==============================] - 7s 25ms/step - loss: 0.0012 - root_mean_squared_error: 0.0340 - val_loss: 0.0023 - val_root_mean_squared_error: 0.0480\n",
      "Epoch 151/200\n",
      "286/286 [==============================] - 7s 25ms/step - loss: 0.0012 - root_mean_squared_error: 0.0339 - val_loss: 0.0023 - val_root_mean_squared_error: 0.0478\n",
      "Epoch 152/200\n",
      "286/286 [==============================] - 7s 25ms/step - loss: 0.0011 - root_mean_squared_error: 0.0339 - val_loss: 0.0023 - val_root_mean_squared_error: 0.0475\n",
      "Epoch 153/200\n",
      "286/286 [==============================] - 7s 24ms/step - loss: 0.0011 - root_mean_squared_error: 0.0339 - val_loss: 0.0023 - val_root_mean_squared_error: 0.0477\n",
      "Epoch 154/200\n",
      "286/286 [==============================] - 7s 25ms/step - loss: 0.0011 - root_mean_squared_error: 0.0339 - val_loss: 0.0024 - val_root_mean_squared_error: 0.0487\n",
      "Epoch 155/200\n",
      "286/286 [==============================] - 7s 25ms/step - loss: 0.0011 - root_mean_squared_error: 0.0337 - val_loss: 0.0022 - val_root_mean_squared_error: 0.0469\n",
      "Epoch 156/200\n",
      "286/286 [==============================] - 7s 25ms/step - loss: 0.0011 - root_mean_squared_error: 0.0337 - val_loss: 0.0023 - val_root_mean_squared_error: 0.0478\n",
      "Epoch 157/200\n",
      "286/286 [==============================] - 7s 25ms/step - loss: 0.0011 - root_mean_squared_error: 0.0338 - val_loss: 0.0023 - val_root_mean_squared_error: 0.0478\n",
      "Epoch 158/200\n",
      "286/286 [==============================] - 7s 25ms/step - loss: 0.0011 - root_mean_squared_error: 0.0337 - val_loss: 0.0023 - val_root_mean_squared_error: 0.0477\n",
      "Epoch 159/200\n",
      "286/286 [==============================] - 7s 25ms/step - loss: 0.0011 - root_mean_squared_error: 0.0338 - val_loss: 0.0023 - val_root_mean_squared_error: 0.0478\n",
      "Epoch 160/200\n",
      "286/286 [==============================] - 7s 24ms/step - loss: 0.0011 - root_mean_squared_error: 0.0335 - val_loss: 0.0023 - val_root_mean_squared_error: 0.0476\n",
      "Epoch 161/200\n",
      "286/286 [==============================] - 7s 25ms/step - loss: 0.0011 - root_mean_squared_error: 0.0336 - val_loss: 0.0022 - val_root_mean_squared_error: 0.0474\n",
      "Epoch 162/200\n",
      "286/286 [==============================] - 7s 25ms/step - loss: 0.0011 - root_mean_squared_error: 0.0336 - val_loss: 0.0022 - val_root_mean_squared_error: 0.0470\n",
      "Epoch 163/200\n",
      "286/286 [==============================] - 7s 25ms/step - loss: 0.0011 - root_mean_squared_error: 0.0335 - val_loss: 0.0023 - val_root_mean_squared_error: 0.0483\n",
      "Epoch 164/200\n",
      "286/286 [==============================] - 7s 25ms/step - loss: 0.0011 - root_mean_squared_error: 0.0335 - val_loss: 0.0022 - val_root_mean_squared_error: 0.0471\n",
      "Epoch 165/200\n",
      "286/286 [==============================] - 7s 25ms/step - loss: 0.0011 - root_mean_squared_error: 0.0335 - val_loss: 0.0022 - val_root_mean_squared_error: 0.0474\n",
      "Epoch 166/200\n",
      "286/286 [==============================] - 7s 25ms/step - loss: 0.0011 - root_mean_squared_error: 0.0335 - val_loss: 0.0023 - val_root_mean_squared_error: 0.0479\n",
      "Epoch 167/200\n",
      "286/286 [==============================] - 7s 25ms/step - loss: 0.0011 - root_mean_squared_error: 0.0334 - val_loss: 0.0022 - val_root_mean_squared_error: 0.0474\n",
      "Epoch 168/200\n",
      "286/286 [==============================] - 7s 25ms/step - loss: 0.0011 - root_mean_squared_error: 0.0335 - val_loss: 0.0022 - val_root_mean_squared_error: 0.0474\n",
      "Epoch 169/200\n",
      "286/286 [==============================] - 7s 25ms/step - loss: 0.0011 - root_mean_squared_error: 0.0333 - val_loss: 0.0022 - val_root_mean_squared_error: 0.0471\n",
      "Epoch 170/200\n",
      "286/286 [==============================] - 7s 25ms/step - loss: 0.0011 - root_mean_squared_error: 0.0333 - val_loss: 0.0023 - val_root_mean_squared_error: 0.0474\n",
      "Epoch 171/200\n",
      "286/286 [==============================] - 7s 25ms/step - loss: 0.0011 - root_mean_squared_error: 0.0333 - val_loss: 0.0023 - val_root_mean_squared_error: 0.0476\n",
      "Epoch 172/200\n",
      "286/286 [==============================] - 7s 25ms/step - loss: 0.0011 - root_mean_squared_error: 0.0333 - val_loss: 0.0023 - val_root_mean_squared_error: 0.0475\n",
      "Epoch 173/200\n",
      "286/286 [==============================] - 7s 25ms/step - loss: 0.0011 - root_mean_squared_error: 0.0332 - val_loss: 0.0023 - val_root_mean_squared_error: 0.0474\n",
      "Epoch 174/200\n",
      "286/286 [==============================] - 7s 25ms/step - loss: 0.0011 - root_mean_squared_error: 0.0333 - val_loss: 0.0022 - val_root_mean_squared_error: 0.0471\n",
      "Epoch 175/200\n",
      "286/286 [==============================] - 7s 25ms/step - loss: 0.0011 - root_mean_squared_error: 0.0331 - val_loss: 0.0022 - val_root_mean_squared_error: 0.0470\n",
      "Epoch 176/200\n",
      "286/286 [==============================] - 7s 25ms/step - loss: 0.0011 - root_mean_squared_error: 0.0332 - val_loss: 0.0022 - val_root_mean_squared_error: 0.0474\n",
      "Epoch 177/200\n",
      "286/286 [==============================] - 7s 25ms/step - loss: 0.0011 - root_mean_squared_error: 0.0331 - val_loss: 0.0022 - val_root_mean_squared_error: 0.0474\n",
      "Epoch 178/200\n",
      "286/286 [==============================] - 7s 25ms/step - loss: 0.0011 - root_mean_squared_error: 0.0331 - val_loss: 0.0023 - val_root_mean_squared_error: 0.0476\n",
      "Epoch 179/200\n",
      "286/286 [==============================] - 7s 25ms/step - loss: 0.0011 - root_mean_squared_error: 0.0331 - val_loss: 0.0022 - val_root_mean_squared_error: 0.0472\n",
      "Epoch 180/200\n",
      "286/286 [==============================] - 7s 25ms/step - loss: 0.0011 - root_mean_squared_error: 0.0330 - val_loss: 0.0023 - val_root_mean_squared_error: 0.0479\n",
      "Epoch 181/200\n",
      "286/286 [==============================] - 7s 25ms/step - loss: 0.0011 - root_mean_squared_error: 0.0330 - val_loss: 0.0022 - val_root_mean_squared_error: 0.0470\n",
      "Epoch 182/200\n"
     ]
    },
    {
     "name": "stdout",
     "output_type": "stream",
     "text": [
      "286/286 [==============================] - 7s 25ms/step - loss: 0.0011 - root_mean_squared_error: 0.0331 - val_loss: 0.0023 - val_root_mean_squared_error: 0.0480\n",
      "Epoch 183/200\n",
      "286/286 [==============================] - 7s 25ms/step - loss: 0.0011 - root_mean_squared_error: 0.0331 - val_loss: 0.0022 - val_root_mean_squared_error: 0.0473\n",
      "Epoch 184/200\n",
      "286/286 [==============================] - 7s 25ms/step - loss: 0.0011 - root_mean_squared_error: 0.0329 - val_loss: 0.0022 - val_root_mean_squared_error: 0.0468\n",
      "Epoch 185/200\n",
      "286/286 [==============================] - 7s 25ms/step - loss: 0.0011 - root_mean_squared_error: 0.0329 - val_loss: 0.0022 - val_root_mean_squared_error: 0.0471\n",
      "Epoch 186/200\n",
      "286/286 [==============================] - 7s 25ms/step - loss: 0.0011 - root_mean_squared_error: 0.0329 - val_loss: 0.0023 - val_root_mean_squared_error: 0.0481\n",
      "Epoch 187/200\n",
      "286/286 [==============================] - 7s 25ms/step - loss: 0.0011 - root_mean_squared_error: 0.0329 - val_loss: 0.0022 - val_root_mean_squared_error: 0.0473\n",
      "Epoch 188/200\n",
      "286/286 [==============================] - 7s 25ms/step - loss: 0.0011 - root_mean_squared_error: 0.0329 - val_loss: 0.0022 - val_root_mean_squared_error: 0.0470\n",
      "Epoch 189/200\n",
      "286/286 [==============================] - 7s 25ms/step - loss: 0.0011 - root_mean_squared_error: 0.0329 - val_loss: 0.0022 - val_root_mean_squared_error: 0.0470\n",
      "Epoch 190/200\n",
      "286/286 [==============================] - 7s 25ms/step - loss: 0.0011 - root_mean_squared_error: 0.0328 - val_loss: 0.0023 - val_root_mean_squared_error: 0.0476\n",
      "Epoch 191/200\n",
      "286/286 [==============================] - 7s 24ms/step - loss: 0.0011 - root_mean_squared_error: 0.0328 - val_loss: 0.0023 - val_root_mean_squared_error: 0.0475\n",
      "Epoch 192/200\n",
      "286/286 [==============================] - 7s 25ms/step - loss: 0.0011 - root_mean_squared_error: 0.0328 - val_loss: 0.0022 - val_root_mean_squared_error: 0.0469\n",
      "Epoch 193/200\n",
      "286/286 [==============================] - 7s 25ms/step - loss: 0.0011 - root_mean_squared_error: 0.0328 - val_loss: 0.0022 - val_root_mean_squared_error: 0.0468\n",
      "Epoch 194/200\n",
      "286/286 [==============================] - 7s 25ms/step - loss: 0.0011 - root_mean_squared_error: 0.0327 - val_loss: 0.0023 - val_root_mean_squared_error: 0.0478\n",
      "Epoch 195/200\n",
      "286/286 [==============================] - 7s 25ms/step - loss: 0.0011 - root_mean_squared_error: 0.0327 - val_loss: 0.0022 - val_root_mean_squared_error: 0.0474\n",
      "Epoch 196/200\n",
      "286/286 [==============================] - 7s 25ms/step - loss: 0.0011 - root_mean_squared_error: 0.0327 - val_loss: 0.0022 - val_root_mean_squared_error: 0.0473\n",
      "Epoch 197/200\n",
      "286/286 [==============================] - 7s 25ms/step - loss: 0.0011 - root_mean_squared_error: 0.0326 - val_loss: 0.0023 - val_root_mean_squared_error: 0.0476\n",
      "Epoch 198/200\n",
      "286/286 [==============================] - 7s 25ms/step - loss: 0.0011 - root_mean_squared_error: 0.0327 - val_loss: 0.0022 - val_root_mean_squared_error: 0.0470\n",
      "Epoch 199/200\n",
      "286/286 [==============================] - 7s 25ms/step - loss: 0.0011 - root_mean_squared_error: 0.0327 - val_loss: 0.0022 - val_root_mean_squared_error: 0.0472\n",
      "Epoch 200/200\n",
      "286/286 [==============================] - 7s 25ms/step - loss: 0.0011 - root_mean_squared_error: 0.0326 - val_loss: 0.0022 - val_root_mean_squared_error: 0.0473\n"
     ]
    }
   ],
   "source": [
    "karimnagar_cp= ModelCheckpoint('karimnagar_temp/', save_best_only=True)\n",
    "karimnagar_temp.compile(\n",
    "    loss=MeanSquaredError(),\n",
    "    optimizer=Adam(),\n",
    "    metrics=[RootMeanSquaredError()]\n",
    ")\n",
    "epochs=200\n",
    "history=karimnagar_temp.fit(X_train,y_train, validation_data=(X_val,y_val), epochs=epochs, callbacks=[karimnagar_cp])"
   ]
  },
  {
   "cell_type": "code",
   "execution_count": 39,
   "id": "4d4ec663",
   "metadata": {},
   "outputs": [
    {
     "data": {
      "image/png": "[encoded data removed]",
      "text/plain": [
       "<Figure size 800x800 with 2 Axes>"
      ]
     },
     "metadata": {},
     "output_type": "display_data"
    }
   ],
   "source": [
    "acc = history.history['root_mean_squared_error']\n",
    "val_acc = history.history['val_root_mean_squared_error']\n",
    "\n",
    "loss = history.history['loss']\n",
    "val_loss = history.history['val_loss']\n",
    "\n",
    "epochs_range = range(epochs)\n",
    "\n",
    "plt.figure(figsize=(8, 8))\n",
    "plt.subplot(1, 2, 1)\n",
    "plt.plot(epochs_range, acc, label='Training RMSE')\n",
    "plt.plot(epochs_range, val_acc, label='Validation RMSE')\n",
    "plt.legend(loc='upper right')\n",
    "plt.title('Training and Validation RMSE')\n",
    "\n",
    "plt.subplot(1, 2, 2)\n",
    "plt.plot(epochs_range, loss, label='Training Loss')\n",
    "plt.plot(epochs_range, val_loss, label='Validation Loss')\n",
    "plt.legend(loc='upper right')\n",
    "plt.title('Training and Validation Loss')\n",
    "plt.show()"
   ]
  },
  {
   "cell_type": "code",
   "execution_count": 40,
   "id": "0ed0f216",
   "metadata": {},
   "outputs": [
    {
     "name": "stdout",
     "output_type": "stream",
     "text": [
      "12/12 [==============================] - 0s 11ms/step - loss: 0.0039 - root_mean_squared_error: 0.0628\n"
     ]
    }
   ],
   "source": [
    "res=karimnagar_temp.evaluate(X_test,y_test)"
   ]
  },
  {
   "cell_type": "code",
   "execution_count": 56,
   "id": "cdf642bc",
   "metadata": {},
   "outputs": [],
   "source": [
    "import pickle"
   ]
  },
  {
   "cell_type": "code",
   "execution_count": 61,
   "id": "3db62ad7",
   "metadata": {},
   "outputs": [
    {
     "name": "stderr",
     "output_type": "stream",
     "text": [
      "WARNING:absl:Found untraced functions such as lstm_cell_2_layer_call_fn, lstm_cell_2_layer_call_and_return_conditional_losses while saving (showing 2 of 2). These functions will not be directly callable after loading.\n"
     ]
    },
    {
     "name": "stdout",
     "output_type": "stream",
     "text": [
      "INFO:tensorflow:Assets written to: ram://3efce8f9-0295-411d-a0ec-0ff190cb16bd/assets\n"
     ]
    },
    {
     "name": "stderr",
     "output_type": "stream",
     "text": [
      "INFO:tensorflow:Assets written to: ram://3efce8f9-0295-411d-a0ec-0ff190cb16bd/assets\n"
     ]
    }
   ],
   "source": [
    "pickle.dump(karimnagar_temp, open('C:\\\\Users\\\\Lenovo\\\\Desktop\\\\NASSCOM\\\\models\\\\karimnagar.pkl', 'wb')) # Writing to pickle file "
   ]
  },
  {
   "cell_type": "code",
   "execution_count": 62,
   "id": "e1b70b8b",
   "metadata": {},
   "outputs": [],
   "source": [
    "from tensorflow import keras"
   ]
  },
  {
   "cell_type": "code",
   "execution_count": 63,
   "id": "99c2b843",
   "metadata": {},
   "outputs": [],
   "source": [
    "karimnagar_temp.save(\"karim_heat.h5\", save_format='h5') # Saving model to h5 format to use it or call it later"
   ]
  },
  {
   "cell_type": "code",
   "execution_count": 42,
   "id": "da0cf4c3",
   "metadata": {},
   "outputs": [
    {
     "data": {
      "text/html": [
       "<div>\n",
       "<style scoped>\n",
       "    .dataframe tbody tr th:only-of-type {\n",
       "        vertical-align: middle;\n",
       "    }\n",
       "\n",
       "    .dataframe tbody tr th {\n",
       "        vertical-align: top;\n",
       "    }\n",
       "\n",
       "    .dataframe thead th {\n",
       "        text-align: right;\n",
       "    }\n",
       "</style>\n",
       "<table border=\"1\" class=\"dataframe\">\n",
       "  <thead>\n",
       "    <tr style=\"text-align: right;\">\n",
       "      <th></th>\n",
       "      <th>temp_max</th>\n",
       "      <th>rainfall</th>\n",
       "    </tr>\n",
       "    <tr>\n",
       "      <th>date</th>\n",
       "      <th></th>\n",
       "      <th></th>\n",
       "    </tr>\n",
       "  </thead>\n",
       "  <tbody>\n",
       "    <tr>\n",
       "      <th>2021-01-01</th>\n",
       "      <td>0.5330</td>\n",
       "      <td>0.000000</td>\n",
       "    </tr>\n",
       "    <tr>\n",
       "      <th>2021-01-02</th>\n",
       "      <td>0.5216</td>\n",
       "      <td>0.000000</td>\n",
       "    </tr>\n",
       "    <tr>\n",
       "      <th>2021-01-03</th>\n",
       "      <td>0.5438</td>\n",
       "      <td>0.000000</td>\n",
       "    </tr>\n",
       "    <tr>\n",
       "      <th>2021-01-04</th>\n",
       "      <td>0.5450</td>\n",
       "      <td>0.000000</td>\n",
       "    </tr>\n",
       "    <tr>\n",
       "      <th>2021-01-05</th>\n",
       "      <td>0.5726</td>\n",
       "      <td>0.000000</td>\n",
       "    </tr>\n",
       "    <tr>\n",
       "      <th>...</th>\n",
       "      <td>...</td>\n",
       "      <td>...</td>\n",
       "    </tr>\n",
       "    <tr>\n",
       "      <th>2021-12-27</th>\n",
       "      <td>0.5626</td>\n",
       "      <td>0.000000</td>\n",
       "    </tr>\n",
       "    <tr>\n",
       "      <th>2021-12-28</th>\n",
       "      <td>0.5642</td>\n",
       "      <td>0.004692</td>\n",
       "    </tr>\n",
       "    <tr>\n",
       "      <th>2021-12-29</th>\n",
       "      <td>0.5674</td>\n",
       "      <td>0.003538</td>\n",
       "    </tr>\n",
       "    <tr>\n",
       "      <th>2021-12-30</th>\n",
       "      <td>0.5394</td>\n",
       "      <td>0.001231</td>\n",
       "    </tr>\n",
       "    <tr>\n",
       "      <th>2021-12-31</th>\n",
       "      <td>0.5674</td>\n",
       "      <td>0.000000</td>\n",
       "    </tr>\n",
       "  </tbody>\n",
       "</table>\n",
       "<p>365 rows × 2 columns</p>\n",
       "</div>"
      ],
      "text/plain": [
       "            temp_max  rainfall\n",
       "date                          \n",
       "2021-01-01    0.5330  0.000000\n",
       "2021-01-02    0.5216  0.000000\n",
       "2021-01-03    0.5438  0.000000\n",
       "2021-01-04    0.5450  0.000000\n",
       "2021-01-05    0.5726  0.000000\n",
       "...              ...       ...\n",
       "2021-12-27    0.5626  0.000000\n",
       "2021-12-28    0.5642  0.004692\n",
       "2021-12-29    0.5674  0.003538\n",
       "2021-12-30    0.5394  0.001231\n",
       "2021-12-31    0.5674  0.000000\n",
       "\n",
       "[365 rows x 2 columns]"
      ]
     },
     "metadata": {},
     "output_type": "display_data"
    },
    {
     "data": {
      "text/plain": [
       "array([[[5.33000000e-01, 0.00000000e+00],\n",
       "        [5.21600000e-01, 0.00000000e+00],\n",
       "        [5.43800000e-01, 0.00000000e+00],\n",
       "        [5.45000000e-01, 0.00000000e+00],\n",
       "        [5.72600000e-01, 0.00000000e+00],\n",
       "        [5.83000000e-01, 7.07692308e-03],\n",
       "        [5.77600000e-01, 9.23076923e-04],\n",
       "        [5.95400000e-01, 0.00000000e+00],\n",
       "        [5.91600000e-01, 0.00000000e+00],\n",
       "        [6.11000000e-01, 0.00000000e+00],\n",
       "        [6.33800000e-01, 0.00000000e+00],\n",
       "        [6.26800000e-01, 0.00000000e+00],\n",
       "        [6.18800000e-01, 0.00000000e+00],\n",
       "        [6.14400000e-01, 0.00000000e+00],\n",
       "        [6.17400000e-01, 0.00000000e+00],\n",
       "        [6.21600000e-01, 0.00000000e+00],\n",
       "        [6.12400000e-01, 0.00000000e+00],\n",
       "        [6.03800000e-01, 0.00000000e+00],\n",
       "        [6.22400000e-01, 0.00000000e+00],\n",
       "        [6.41000000e-01, 0.00000000e+00],\n",
       "        [6.36200000e-01, 0.00000000e+00],\n",
       "        [6.26000000e-01, 0.00000000e+00],\n",
       "        [6.30800000e-01, 0.00000000e+00],\n",
       "        [6.57800000e-01, 0.00000000e+00],\n",
       "        [6.49000000e-01, 0.00000000e+00],\n",
       "        [6.49600000e-01, 0.00000000e+00],\n",
       "        [6.27600000e-01, 0.00000000e+00],\n",
       "        [6.22000000e-01, 0.00000000e+00],\n",
       "        [6.23600000e-01, 0.00000000e+00],\n",
       "        [6.14400000e-01, 0.00000000e+00],\n",
       "        [6.20000000e-01, 0.00000000e+00],\n",
       "        [6.07200000e-01, 0.00000000e+00],\n",
       "        [6.19200000e-01, 0.00000000e+00],\n",
       "        [6.26400000e-01, 0.00000000e+00],\n",
       "        [6.25800000e-01, 0.00000000e+00],\n",
       "        [6.35200000e-01, 0.00000000e+00],\n",
       "        [6.40600000e-01, 0.00000000e+00],\n",
       "        [6.21200000e-01, 0.00000000e+00],\n",
       "        [6.22000000e-01, 0.00000000e+00],\n",
       "        [6.47400000e-01, 0.00000000e+00],\n",
       "        [6.62400000e-01, 0.00000000e+00],\n",
       "        [6.63000000e-01, 0.00000000e+00],\n",
       "        [6.57200000e-01, 0.00000000e+00],\n",
       "        [6.63600000e-01, 0.00000000e+00],\n",
       "        [6.65400000e-01, 0.00000000e+00],\n",
       "        [6.73800000e-01, 0.00000000e+00],\n",
       "        [6.81400000e-01, 0.00000000e+00],\n",
       "        [6.67600000e-01, 0.00000000e+00],\n",
       "        [6.38600000e-01, 1.92307692e-03],\n",
       "        [5.86600000e-01, 7.15384615e-03],\n",
       "        [6.46000000e-01, 0.00000000e+00],\n",
       "        [6.65000000e-01, 0.00000000e+00],\n",
       "        [6.73200000e-01, 0.00000000e+00],\n",
       "        [6.99800000e-01, 0.00000000e+00],\n",
       "        [7.12200000e-01, 0.00000000e+00],\n",
       "        [7.33200000e-01, 0.00000000e+00],\n",
       "        [7.50200000e-01, 0.00000000e+00],\n",
       "        [7.59600000e-01, 0.00000000e+00],\n",
       "        [7.53800000e-01, 0.00000000e+00],\n",
       "        [7.70400000e-01, 0.00000000e+00],\n",
       "        [7.60600000e-01, 0.00000000e+00],\n",
       "        [7.54600000e-01, 0.00000000e+00],\n",
       "        [7.56000000e-01, 0.00000000e+00],\n",
       "        [7.62400000e-01, 0.00000000e+00],\n",
       "        [7.76400000e-01, 0.00000000e+00],\n",
       "        [7.69000000e-01, 0.00000000e+00],\n",
       "        [7.61600000e-01, 0.00000000e+00],\n",
       "        [7.56800000e-01, 0.00000000e+00],\n",
       "        [7.70800000e-01, 0.00000000e+00],\n",
       "        [7.73000000e-01, 0.00000000e+00],\n",
       "        [7.65600000e-01, 0.00000000e+00],\n",
       "        [7.44800000e-01, 0.00000000e+00],\n",
       "        [7.65400000e-01, 0.00000000e+00],\n",
       "        [7.61000000e-01, 0.00000000e+00],\n",
       "        [7.65600000e-01, 0.00000000e+00],\n",
       "        [7.77200000e-01, 0.00000000e+00],\n",
       "        [7.69600000e-01, 7.69230769e-05],\n",
       "        [7.09200000e-01, 0.00000000e+00],\n",
       "        [7.54600000e-01, 0.00000000e+00],\n",
       "        [7.74200000e-01, 0.00000000e+00],\n",
       "        [7.88000000e-01, 0.00000000e+00],\n",
       "        [7.85600000e-01, 2.30769231e-04],\n",
       "        [7.93600000e-01, 0.00000000e+00],\n",
       "        [7.65200000e-01, 0.00000000e+00],\n",
       "        [7.97200000e-01, 0.00000000e+00],\n",
       "        [8.21400000e-01, 0.00000000e+00],\n",
       "        [8.24800000e-01, 0.00000000e+00],\n",
       "        [8.30400000e-01, 0.00000000e+00],\n",
       "        [8.52400000e-01, 0.00000000e+00],\n",
       "        [8.56600000e-01, 0.00000000e+00],\n",
       "        [8.46000000e-01, 0.00000000e+00],\n",
       "        [8.42400000e-01, 0.00000000e+00],\n",
       "        [8.45200000e-01, 0.00000000e+00],\n",
       "        [8.24000000e-01, 1.61538462e-03],\n",
       "        [8.18000000e-01, 1.53846154e-04],\n",
       "        [8.36000000e-01, 4.61538462e-04],\n",
       "        [8.37800000e-01, 0.00000000e+00],\n",
       "        [8.44000000e-01, 0.00000000e+00],\n",
       "        [8.21200000e-01, 0.00000000e+00],\n",
       "        [8.05000000e-01, 2.00000000e-03],\n",
       "        [8.01800000e-01, 4.30769231e-03],\n",
       "        [8.04600000e-01, 2.84615385e-03],\n",
       "        [8.06600000e-01, 1.16923077e-02],\n",
       "        [7.50000000e-01, 5.03076923e-02],\n",
       "        [7.67400000e-01, 2.30769231e-03],\n",
       "        [7.78800000e-01, 0.00000000e+00],\n",
       "        [8.11000000e-01, 0.00000000e+00],\n",
       "        [8.31000000e-01, 0.00000000e+00],\n",
       "        [8.37000000e-01, 0.00000000e+00],\n",
       "        [8.43000000e-01, 2.30769231e-04],\n",
       "        [8.23800000e-01, 5.53846154e-03],\n",
       "        [7.61800000e-01, 4.53846154e-03],\n",
       "        [7.70000000e-01, 2.92307692e-03],\n",
       "        [8.22200000e-01, 2.30769231e-04],\n",
       "        [8.35800000e-01, 0.00000000e+00],\n",
       "        [7.93000000e-01, 0.00000000e+00],\n",
       "        [8.39600000e-01, 4.30769231e-03],\n",
       "        [8.38800000e-01, 0.00000000e+00],\n",
       "        [8.56000000e-01, 0.00000000e+00],\n",
       "        [8.54600000e-01, 0.00000000e+00],\n",
       "        [8.23000000e-01, 1.30000000e-02],\n",
       "        [8.05000000e-01, 1.43846154e-02],\n",
       "        [8.02600000e-01, 6.46153846e-03],\n",
       "        [8.07600000e-01, 1.69230769e-03],\n",
       "        [8.15800000e-01, 7.69230769e-04],\n",
       "        [8.20200000e-01, 4.61538462e-04],\n",
       "        [8.18000000e-01, 3.38461538e-03],\n",
       "        [8.00000000e-01, 6.92307692e-04],\n",
       "        [8.36600000e-01, 3.07692308e-04],\n",
       "        [7.99600000e-01, 6.66923077e-02],\n",
       "        [7.89800000e-01, 4.10769231e-02],\n",
       "        [8.26600000e-01, 3.84615385e-04],\n",
       "        [8.27400000e-01, 2.07692308e-03],\n",
       "        [8.23000000e-01, 1.53846154e-04],\n",
       "        [7.92000000e-01, 0.00000000e+00],\n",
       "        [6.84600000e-01, 3.00000000e-03],\n",
       "        [6.84400000e-01, 2.23076923e-03],\n",
       "        [6.91600000e-01, 3.07692308e-04],\n",
       "        [7.29000000e-01, 3.96923077e-02],\n",
       "        [6.83800000e-01, 1.83846154e-02],\n",
       "        [7.70800000e-01, 3.23076923e-03],\n",
       "        [8.05600000e-01, 2.30769231e-04],\n",
       "        [8.27800000e-01, 6.15384615e-04],\n",
       "        [8.40600000e-01, 1.53846154e-04],\n",
       "        [8.30000000e-01, 0.00000000e+00],\n",
       "        [8.64200000e-01, 0.00000000e+00],\n",
       "        [8.66600000e-01, 4.61538462e-04],\n",
       "        [8.22400000e-01, 3.69230769e-03],\n",
       "        [8.52000000e-01, 2.97692308e-02],\n",
       "        [8.13800000e-01, 7.69230769e-05],\n",
       "        [7.71800000e-01, 7.20769231e-02],\n",
       "        [7.38000000e-01, 4.26153846e-02],\n",
       "        [6.86800000e-01, 6.87692308e-02],\n",
       "        [6.30400000e-01, 3.04615385e-02],\n",
       "        [6.72400000e-01, 3.33076923e-02],\n",
       "        [6.93000000e-01, 2.60000000e-02],\n",
       "        [7.10800000e-01, 6.30769231e-03],\n",
       "        [7.41400000e-01, 1.11538462e-02],\n",
       "        [6.72200000e-01, 1.06076923e-01],\n",
       "        [6.03200000e-01, 2.80000000e-01],\n",
       "        [6.17200000e-01, 1.06153846e-01],\n",
       "        [6.33600000e-01, 5.20000000e-02],\n",
       "        [6.80000000e-01, 1.58461538e-02],\n",
       "        [6.11000000e-01, 1.78538462e-01],\n",
       "        [5.64400000e-01, 2.41615385e-01],\n",
       "        [6.50200000e-01, 6.83846154e-02],\n",
       "        [6.26000000e-01, 1.23846154e-02],\n",
       "        [5.76400000e-01, 2.87692308e-02],\n",
       "        [6.31600000e-01, 3.10000000e-02],\n",
       "        [6.35600000e-01, 8.07692308e-03],\n",
       "        [6.65600000e-01, 3.07692308e-04],\n",
       "        [6.76600000e-01, 0.00000000e+00],\n",
       "        [6.16800000e-01, 1.62307692e-02],\n",
       "        [6.47800000e-01, 6.97692308e-02],\n",
       "        [6.43800000e-01, 2.40000000e-02],\n",
       "        [6.55000000e-01, 1.53076923e-02],\n",
       "        [6.24000000e-01, 1.68000000e-01],\n",
       "        [5.96000000e-01, 1.79307692e-01],\n",
       "        [6.41000000e-01, 4.40769231e-02],\n",
       "        [6.26400000e-01, 5.00000000e-03],\n",
       "        [6.66600000e-01, 5.89230769e-02],\n",
       "        [5.86800000e-01, 1.77076923e-01],\n",
       "        [5.64800000e-01, 6.69230769e-02],\n",
       "        [6.24400000e-01, 7.69230769e-05],\n",
       "        [6.45000000e-01, 5.46153846e-02],\n",
       "        [6.51600000e-01, 8.69230769e-03],\n",
       "        [6.24800000e-01, 1.10769231e-02],\n",
       "        [6.39600000e-01, 7.70769231e-02],\n",
       "        [5.75000000e-01, 2.07384615e-01],\n",
       "        [6.31200000e-01, 2.94615385e-02],\n",
       "        [6.07200000e-01, 4.90769231e-02],\n",
       "        [5.95400000e-01, 3.14615385e-01],\n",
       "        [6.43000000e-01, 6.46153846e-02],\n",
       "        [5.97600000e-01, 2.17230769e-01],\n",
       "        [5.92800000e-01, 1.95538462e-01],\n",
       "        [6.37400000e-01, 4.22307692e-02],\n",
       "        [6.38000000e-01, 1.30000000e-02],\n",
       "        [6.40200000e-01, 4.84615385e-03],\n",
       "        [6.25400000e-01, 6.75384615e-02],\n",
       "        [6.44400000e-01, 2.90769231e-02],\n",
       "        [5.64200000e-01, 1.04230769e-01],\n",
       "        [5.54200000e-01, 2.93846154e-01],\n",
       "        [5.44600000e-01, 5.34769231e-01],\n",
       "        [5.64200000e-01, 1.62923077e-01],\n",
       "        [6.26000000e-01, 5.62307692e-02],\n",
       "        [6.33600000e-01, 2.46153846e-02],\n",
       "        [6.32600000e-01, 1.09230769e-02],\n",
       "        [6.03800000e-01, 3.23076923e-03],\n",
       "        [6.11800000e-01, 2.30769231e-04],\n",
       "        [5.89800000e-01, 1.53846154e-04],\n",
       "        [5.64400000e-01, 8.46153846e-04],\n",
       "        [6.05400000e-01, 1.53846154e-04],\n",
       "        [5.98400000e-01, 7.69230769e-05],\n",
       "        [6.16000000e-01, 5.61538462e-03],\n",
       "        [6.09000000e-01, 1.53846154e-03],\n",
       "        [6.25000000e-01, 3.61538462e-03],\n",
       "        [5.91600000e-01, 9.92307692e-03],\n",
       "        [6.14200000e-01, 1.33076923e-02],\n",
       "        [6.25800000e-01, 2.15384615e-03],\n",
       "        [6.42200000e-01, 8.46153846e-04],\n",
       "        [6.09200000e-01, 2.43846154e-02],\n",
       "        [5.76400000e-01, 3.26923077e-02],\n",
       "        [6.20600000e-01, 1.00000000e-03],\n",
       "        [6.04800000e-01, 1.82307692e-02],\n",
       "        [5.68400000e-01, 1.43846154e-02],\n",
       "        [6.02400000e-01, 2.53846154e-03],\n",
       "        [5.94600000e-01, 3.52307692e-02],\n",
       "        [5.76800000e-01, 8.53846154e-02],\n",
       "        [5.48000000e-01, 8.64615385e-02],\n",
       "        [5.79600000e-01, 6.63076923e-02],\n",
       "        [6.10400000e-01, 3.52307692e-02],\n",
       "        [5.81000000e-01, 3.76923077e-03],\n",
       "        [6.01200000e-01, 4.21538462e-02],\n",
       "        [6.06800000e-01, 5.41538462e-02],\n",
       "        [6.17400000e-01, 2.18461538e-02],\n",
       "        [6.39600000e-01, 6.15384615e-03],\n",
       "        [6.10200000e-01, 3.80769231e-02],\n",
       "        [5.90800000e-01, 6.31538462e-02],\n",
       "        [6.15200000e-01, 2.93846154e-02],\n",
       "        [6.11600000e-01, 3.92307692e-02],\n",
       "        [5.98400000e-01, 8.07692308e-02],\n",
       "        [5.85800000e-01, 4.25461538e-01],\n",
       "        [5.99800000e-01, 8.83076923e-02],\n",
       "        [6.03600000e-01, 3.43076923e-02],\n",
       "        [6.07000000e-01, 3.50769231e-02],\n",
       "        [5.98400000e-01, 2.62692308e-01],\n",
       "        [6.01000000e-01, 8.96923077e-02],\n",
       "        [5.73800000e-01, 4.41538462e-02],\n",
       "        [5.61600000e-01, 3.83769231e-01],\n",
       "        [5.66200000e-01, 3.53923077e-01],\n",
       "        [6.03200000e-01, 1.84615385e-03],\n",
       "        [6.15200000e-01, 0.00000000e+00],\n",
       "        [5.90400000e-01, 3.83846154e-02],\n",
       "        [5.86600000e-01, 2.59230769e-02],\n",
       "        [6.03200000e-01, 1.24615385e-02],\n",
       "        [5.85200000e-01, 3.24615385e-02],\n",
       "        [5.91000000e-01, 5.92307692e-03],\n",
       "        [6.09200000e-01, 2.61538462e-03],\n",
       "        [6.08400000e-01, 2.84615385e-03],\n",
       "        [6.10400000e-01, 1.92307692e-03],\n",
       "        [5.96600000e-01, 3.07692308e-04],\n",
       "        [6.07800000e-01, 4.57692308e-02],\n",
       "        [5.88800000e-01, 2.04076923e-01],\n",
       "        [6.01600000e-01, 7.92307692e-02],\n",
       "        [5.82400000e-01, 1.43076923e-02],\n",
       "        [5.76600000e-01, 1.60769231e-02],\n",
       "        [5.79000000e-01, 7.38461538e-03],\n",
       "        [5.96800000e-01, 1.86153846e-02],\n",
       "        [5.83400000e-01, 6.88461538e-02],\n",
       "        [5.50000000e-01, 3.67923077e-01],\n",
       "        [5.91600000e-01, 7.89230769e-02],\n",
       "        [5.98200000e-01, 1.53846154e-04],\n",
       "        [6.29200000e-01, 7.69230769e-05],\n",
       "        [6.15400000e-01, 8.92307692e-03],\n",
       "        [6.14400000e-01, 6.23076923e-03],\n",
       "        [6.19000000e-01, 6.69230769e-03],\n",
       "        [6.17000000e-01, 6.92307692e-03],\n",
       "        [5.90200000e-01, 5.84615385e-03],\n",
       "        [6.04000000e-01, 6.92307692e-04],\n",
       "        [6.07800000e-01, 7.23076923e-03],\n",
       "        [6.01600000e-01, 9.07692308e-03],\n",
       "        [6.17400000e-01, 3.48461538e-02],\n",
       "        [5.84600000e-01, 5.69230769e-03],\n",
       "        [5.97600000e-01, 0.00000000e+00],\n",
       "        [6.06200000e-01, 0.00000000e+00],\n",
       "        [6.04600000e-01, 2.69230769e-03],\n",
       "        [6.08800000e-01, 7.69230769e-05],\n",
       "        [6.07200000e-01, 1.62307692e-02],\n",
       "        [5.64000000e-01, 6.88461538e-02],\n",
       "        [5.82000000e-01, 6.02307692e-02],\n",
       "        [6.09200000e-01, 2.61538462e-03],\n",
       "        [5.86000000e-01, 1.76923077e-03],\n",
       "        [5.77800000e-01, 0.00000000e+00],\n",
       "        [5.83000000e-01, 0.00000000e+00],\n",
       "        [5.68800000e-01, 0.00000000e+00],\n",
       "        [5.71600000e-01, 0.00000000e+00],\n",
       "        [5.80000000e-01, 0.00000000e+00],\n",
       "        [5.60000000e-01, 0.00000000e+00],\n",
       "        [5.57000000e-01, 0.00000000e+00],\n",
       "        [5.58800000e-01, 0.00000000e+00],\n",
       "        [5.70200000e-01, 0.00000000e+00],\n",
       "        [5.78600000e-01, 1.61538462e-03],\n",
       "        [5.73200000e-01, 1.69230769e-03],\n",
       "        [5.64600000e-01, 1.15384615e-03],\n",
       "        [5.74400000e-01, 9.23076923e-04],\n",
       "        [5.54000000e-01, 1.66923077e-02],\n",
       "        [5.47400000e-01, 5.15384615e-03],\n",
       "        [5.82800000e-01, 2.46153846e-03],\n",
       "        [5.79400000e-01, 3.07692308e-04],\n",
       "        [5.67000000e-01, 0.00000000e+00],\n",
       "        [5.56200000e-01, 0.00000000e+00],\n",
       "        [5.37800000e-01, 0.00000000e+00],\n",
       "        [5.41400000e-01, 0.00000000e+00],\n",
       "        [5.13400000e-01, 0.00000000e+00],\n",
       "        [5.09800000e-01, 7.69230769e-05],\n",
       "        [5.86800000e-01, 5.30769231e-03],\n",
       "        [6.02400000e-01, 3.76923077e-03],\n",
       "        [5.84400000e-01, 1.13538462e-01],\n",
       "        [5.88000000e-01, 1.21846154e-01],\n",
       "        [5.95200000e-01, 3.36923077e-02],\n",
       "        [5.84000000e-01, 7.69230769e-05],\n",
       "        [5.70000000e-01, 3.07692308e-04],\n",
       "        [5.64400000e-01, 2.07692308e-03],\n",
       "        [5.86000000e-01, 1.23076923e-02],\n",
       "        [5.95200000e-01, 1.69230769e-03],\n",
       "        [6.07400000e-01, 1.50769231e-02],\n",
       "        [6.08800000e-01, 3.69230769e-03],\n",
       "        [5.99400000e-01, 0.00000000e+00],\n",
       "        [5.91200000e-01, 0.00000000e+00],\n",
       "        [5.80200000e-01, 0.00000000e+00],\n",
       "        [5.54800000e-01, 0.00000000e+00],\n",
       "        [5.53000000e-01, 0.00000000e+00],\n",
       "        [5.38800000e-01, 7.69230769e-05],\n",
       "        [5.48600000e-01, 0.00000000e+00],\n",
       "        [5.54600000e-01, 0.00000000e+00],\n",
       "        [5.48400000e-01, 0.00000000e+00],\n",
       "        [5.35600000e-01, 7.69230769e-05],\n",
       "        [5.76200000e-01, 0.00000000e+00],\n",
       "        [5.88200000e-01, 0.00000000e+00],\n",
       "        [5.85400000e-01, 0.00000000e+00],\n",
       "        [5.75600000e-01, 0.00000000e+00],\n",
       "        [5.48000000e-01, 0.00000000e+00],\n",
       "        [5.78000000e-01, 0.00000000e+00],\n",
       "        [5.50400000e-01, 0.00000000e+00],\n",
       "        [5.74400000e-01, 0.00000000e+00],\n",
       "        [5.55600000e-01, 0.00000000e+00],\n",
       "        [5.44600000e-01, 0.00000000e+00],\n",
       "        [5.31800000e-01, 0.00000000e+00],\n",
       "        [5.38000000e-01, 0.00000000e+00],\n",
       "        [5.37800000e-01, 0.00000000e+00],\n",
       "        [5.41600000e-01, 0.00000000e+00],\n",
       "        [5.37200000e-01, 0.00000000e+00],\n",
       "        [5.19800000e-01, 0.00000000e+00],\n",
       "        [5.16000000e-01, 0.00000000e+00],\n",
       "        [5.16000000e-01, 0.00000000e+00],\n",
       "        [5.48400000e-01, 0.00000000e+00],\n",
       "        [5.72200000e-01, 0.00000000e+00],\n",
       "        [5.82600000e-01, 0.00000000e+00],\n",
       "        [5.87400000e-01, 0.00000000e+00],\n",
       "        [5.78400000e-01, 0.00000000e+00],\n",
       "        [5.62600000e-01, 0.00000000e+00],\n",
       "        [5.64200000e-01, 4.69230769e-03],\n",
       "        [5.67400000e-01, 3.53846154e-03],\n",
       "        [5.39400000e-01, 1.23076923e-03],\n",
       "        [5.67400000e-01, 0.00000000e+00]]])"
      ]
     },
     "execution_count": 42,
     "metadata": {},
     "output_type": "execute_result"
    }
   ],
   "source": [
    "test_x=df[10958:11323]\n",
    "display(test_x)\n",
    "test_x=test_x.to_numpy()\n",
    "test_x=test_x.reshape(1,365,2)\n",
    "test_x"
   ]
  },
  {
   "cell_type": "code",
   "execution_count": 43,
   "id": "c4ad8ff6",
   "metadata": {},
   "outputs": [
    {
     "data": {
      "text/plain": [
       "array([0.571 , 0.5744, 0.5682, 0.5746, 0.5752, 0.5836, 0.5894, 0.582 ,\n",
       "       0.5764, 0.5692, 0.5462, 0.5162, 0.5482, 0.5574, 0.5294, 0.5514,\n",
       "       0.5426, 0.5508, 0.5456, 0.5696, 0.604 , 0.6212, 0.5744, 0.534 ,\n",
       "       0.5096, 0.5242, 0.5246, 0.5206, 0.538 , 0.586 , 0.6182, 0.6128,\n",
       "       0.6376, 0.648 , 0.5902, 0.591 , 0.603 , 0.6238, 0.6216, 0.6242,\n",
       "       0.6052, 0.6004, 0.6124, 0.6302, 0.6366, 0.6364, 0.6208, 0.6316,\n",
       "       0.6414, 0.6614, 0.7182, 0.703 , 0.705 , 0.7   , 0.708 , 0.7036,\n",
       "       0.7002, 0.7016, 0.7056, 0.7228, 0.7162, 0.7244, 0.7236, 0.7296,\n",
       "       0.7334, 0.7248, 0.7374, 0.7514, 0.745 , 0.7518, 0.6946, 0.756 ,\n",
       "       0.7744, 0.7866, 0.8276, 0.841 , 0.8196, 0.7998, 0.8104, 0.8232,\n",
       "       0.8178, 0.8204, 0.8214, 0.8192, 0.8394, 0.8474, 0.8458, 0.8622,\n",
       "       0.8608, 0.8616, 0.8546, 0.8104, 0.8228, 0.8158, 0.8112, 0.8274,\n",
       "       0.8102, 0.8   , 0.8194, 0.8214, 0.8452, 0.8482, 0.8438, 0.8246,\n",
       "       0.8402, 0.7796, 0.8124, 0.8246, 0.8502, 0.8368, 0.8344, 0.7566,\n",
       "       0.7978, 0.8366, 0.8584, 0.8342, 0.8762, 0.881 , 0.895 , 0.8948,\n",
       "       0.8938, 0.879 , 0.8682, 0.7492, 0.8426, 0.877 , 0.8618, 0.8484,\n",
       "       0.8458, 0.856 , 0.7788, 0.691 , 0.7826, 0.8544, 0.8228, 0.7498,\n",
       "       0.7324, 0.788 , 0.7164, 0.7576, 0.8246, 0.8388, 0.8416, 0.8472,\n",
       "       0.8332, 0.8602, 0.845 , 0.8598, 0.8586, 0.8776, 0.849 , 0.8374,\n",
       "       0.8732, 0.8694, 0.8298, 0.8338, 0.7652, 0.8646, 0.8274, 0.8238,\n",
       "       0.6312, 0.713 , 0.6746, 0.6482, 0.6992, 0.6614, 0.7194, 0.7104,\n",
       "       0.7212, 0.713 , 0.6482, 0.6062, 0.6766, 0.6646, 0.6422, 0.6164,\n",
       "       0.6064, 0.6562, 0.6418, 0.5812, 0.605 , 0.6566, 0.6456, 0.5898,\n",
       "       0.5988, 0.6026, 0.5998, 0.5646, 0.5478, 0.5548, 0.571 , 0.5488,\n",
       "       0.5438, 0.5464, 0.567 , 0.5966, 0.556 , 0.559 , 0.5478, 0.6028,\n",
       "       0.6062, 0.539 , 0.525 , 0.5368, 0.5496, 0.5766, 0.5542, 0.6158,\n",
       "       0.6006, 0.6328, 0.584 , 0.5764, 0.6292, 0.5928, 0.6078, 0.591 ,\n",
       "       0.5712, 0.5764, 0.561 , 0.5436, 0.546 , 0.5442, 0.5862, 0.5676,\n",
       "       0.577 , 0.547 , 0.523 , 0.59  , 0.6064, 0.5726, 0.5434, 0.5752,\n",
       "       0.586 , 0.5952, 0.6124, 0.5538, 0.5932, 0.604 , 0.5974, 0.5516,\n",
       "       0.6218, 0.608 , 0.586 , 0.6108, 0.6046, 0.6384, 0.6036, 0.598 ,\n",
       "       0.6084, 0.5724, 0.5844, 0.5876, 0.591 , 0.546 , 0.5982, 0.5892,\n",
       "       0.5514, 0.5852, 0.5864, 0.5792, 0.5554, 0.5648, 0.5518, 0.5632,\n",
       "       0.561 , 0.5642, 0.5854, 0.609 , 0.6006, 0.5642, 0.56  , 0.5736,\n",
       "       0.5728, 0.586 , 0.587 , 0.5892, 0.534 , 0.5924, 0.545 , 0.5706,\n",
       "       0.5798, 0.5834, 0.5668, 0.5812, 0.6072, 0.5908, 0.561 , 0.5676,\n",
       "       0.5916, 0.5976, 0.586 , 0.5562, 0.5844, 0.5782, 0.544 , 0.54  ,\n",
       "       0.5382, 0.5522, 0.5598, 0.5628, 0.5462, 0.5324, 0.5274, 0.5236,\n",
       "       0.4852, 0.5268, 0.5576, 0.5704, 0.5772, 0.56  , 0.5646, 0.5546,\n",
       "       0.5418, 0.5414, 0.5306, 0.5338, 0.536 , 0.546 , 0.5362, 0.5268,\n",
       "       0.521 , 0.6   , 0.56  , 0.56  , 0.5274, 0.5446, 0.548 , 0.54  ,\n",
       "       0.5488, 0.518 , 0.5168, 0.5178, 0.5238, 0.5252, 0.5538, 0.571 ,\n",
       "       0.5602, 0.554 , 0.5576, 0.5394, 0.5316, 0.5074, 0.4616, 0.4848,\n",
       "       0.5588, 0.5596, 0.5538, 0.5854, 0.5902, 0.5936, 0.5896, 0.557 ,\n",
       "       0.546 , 0.556 , 0.5524, 0.5624, 0.5756, 0.5674, 0.5784, 0.5708,\n",
       "       0.5834, 0.5942, 0.5792, 0.5952, 0.5938])"
      ]
     },
     "execution_count": 43,
     "metadata": {},
     "output_type": "execute_result"
    }
   ],
   "source": [
    "test_y=df['temp_max'][11323:]\n",
    "test_y=test_y.to_numpy()\n",
    "test_y"
   ]
  },
  {
   "cell_type": "code",
   "execution_count": 44,
   "id": "c7fdc261",
   "metadata": {},
   "outputs": [
    {
     "name": "stdout",
     "output_type": "stream",
     "text": [
      "1/1 [==============================] - 1s 753ms/step\n"
     ]
    }
   ],
   "source": [
    "predictions=karimnagar_temp.predict(test_x)"
   ]
  },
  {
   "cell_type": "code",
   "execution_count": 45,
   "id": "9c279bce",
   "metadata": {},
   "outputs": [],
   "source": [
    "predictions= predictions.reshape(365)\n",
    "predictions= pd.DataFrame(data=predictions, index=df[11323:].index)"
   ]
  },
  {
   "cell_type": "code",
   "execution_count": 46,
   "id": "0442aac6",
   "metadata": {},
   "outputs": [
    {
     "data": {
      "text/plain": [
       "(365, 1)"
      ]
     },
     "execution_count": 46,
     "metadata": {},
     "output_type": "execute_result"
    }
   ],
   "source": [
    "predictions.shape"
   ]
  },
  {
   "cell_type": "code",
   "execution_count": 47,
   "id": "8567caad",
   "metadata": {},
   "outputs": [],
   "source": [
    "predictions=predictions*50"
   ]
  },
  {
   "cell_type": "code",
   "execution_count": 48,
   "id": "5db1f810",
   "metadata": {},
   "outputs": [],
   "source": [
    "expected=pd.DataFrame(data=test_y, index=df[11323:].index, columns=[\"temp_max_actual\"])"
   ]
  },
  {
   "cell_type": "code",
   "execution_count": 49,
   "id": "abcb231b",
   "metadata": {},
   "outputs": [],
   "source": [
    "expected=expected*50"
   ]
  },
  {
   "cell_type": "code",
   "execution_count": 64,
   "id": "67608a7d",
   "metadata": {},
   "outputs": [],
   "source": [
    "from sklearn.metrics import mean_squared_error as mse\n",
    "from sklearn.metrics import mean_absolute_error as mae\n",
    "from sklearn.metrics import mean_absolute_percentage_error as mape # importing the error specifying libraries"
   ]
  },
  {
   "cell_type": "code",
   "execution_count": 65,
   "id": "1ddf16b6",
   "metadata": {},
   "outputs": [
    {
     "name": "stdout",
     "output_type": "stream",
     "text": [
      "3.120813369447711\n",
      "2.611383986381635\n",
      "0.08708193860524625\n"
     ]
    }
   ],
   "source": [
    "rmse= mse(expected, predictions, squared=False)\n",
    "print(rmse)\n",
    "mae1= mae(expected, predictions)\n",
    "print(mae1)\n",
    "mape1= mape(expected, predictions)\n",
    "print(mape1)"
   ]
  },
  {
   "cell_type": "code",
   "execution_count": 53,
   "id": "32267952",
   "metadata": {},
   "outputs": [],
   "source": [
    "prediction_low=predictions-mae1\n",
    "prediction_upper=predictions+mae1"
   ]
  },
  {
   "cell_type": "code",
   "execution_count": 54,
   "id": "4493ac82",
   "metadata": {},
   "outputs": [],
   "source": [
    "prediction_upper.columns=['upper bound temp']\n",
    "prediction_low.columns=['lower bound temp']\n",
    "predictions.columns=['predicted temp']"
   ]
  },
  {
   "cell_type": "code",
   "execution_count": 55,
   "id": "dc2e71b9",
   "metadata": {
    "scrolled": true
   },
   "outputs": [
    {
     "data": {
      "image/png": "[encoded data removed]",
      "text/plain": [
       "<Figure size 1000x600 with 1 Axes>"
      ]
     },
     "metadata": {},
     "output_type": "display_data"
    }
   ],
   "source": [
    "ax = expected.plot(\n",
    "    figsize=(10, 6),\n",
    "    color=\"blue\",\n",
    "    title=\"Temp forecasting using LSTM\",\n",
    ")\n",
    "ax.set_ylabel(\"Temp_max\")\n",
    "ax.set_xlabel(\"Year\")\n",
    "\n",
    "predictions.plot(ax=ax, color=\"yellow\")     \n",
    "prediction_low.plot(ax=ax, color=\"green\")\n",
    "prediction_upper.plot(ax=ax, color=\"red\")\n",
    "plt.show()"
   ]
  },
  {
   "cell_type": "code",
   "execution_count": 7,
   "id": "95a93a92",
   "metadata": {},
   "outputs": [],
   "source": [
    "from tensorflow import keras"
   ]
  },
  {
   "cell_type": "code",
   "execution_count": 8,
   "id": "4ef1b04e",
   "metadata": {},
   "outputs": [],
   "source": [
    "model = keras.models.load_model(\"karim_heat.h5\") # Loading our saved model to check "
   ]
  },
  {
   "cell_type": "code",
   "execution_count": 9,
   "id": "6e18f5db",
   "metadata": {
    "collapsed": true
   },
   "outputs": [
    {
     "data": {
      "text/html": [
       "<div>\n",
       "<style scoped>\n",
       "    .dataframe tbody tr th:only-of-type {\n",
       "        vertical-align: middle;\n",
       "    }\n",
       "\n",
       "    .dataframe tbody tr th {\n",
       "        vertical-align: top;\n",
       "    }\n",
       "\n",
       "    .dataframe thead th {\n",
       "        text-align: right;\n",
       "    }\n",
       "</style>\n",
       "<table border=\"1\" class=\"dataframe\">\n",
       "  <thead>\n",
       "    <tr style=\"text-align: right;\">\n",
       "      <th></th>\n",
       "      <th>temp_max</th>\n",
       "      <th>rainfall</th>\n",
       "    </tr>\n",
       "    <tr>\n",
       "      <th>date</th>\n",
       "      <th></th>\n",
       "      <th></th>\n",
       "    </tr>\n",
       "  </thead>\n",
       "  <tbody>\n",
       "    <tr>\n",
       "      <th>2022-01-01</th>\n",
       "      <td>0.5710</td>\n",
       "      <td>0.000000</td>\n",
       "    </tr>\n",
       "    <tr>\n",
       "      <th>2022-01-02</th>\n",
       "      <td>0.5744</td>\n",
       "      <td>0.000000</td>\n",
       "    </tr>\n",
       "    <tr>\n",
       "      <th>2022-01-03</th>\n",
       "      <td>0.5682</td>\n",
       "      <td>0.000000</td>\n",
       "    </tr>\n",
       "    <tr>\n",
       "      <th>2022-01-04</th>\n",
       "      <td>0.5746</td>\n",
       "      <td>0.000000</td>\n",
       "    </tr>\n",
       "    <tr>\n",
       "      <th>2022-01-05</th>\n",
       "      <td>0.5752</td>\n",
       "      <td>0.000000</td>\n",
       "    </tr>\n",
       "    <tr>\n",
       "      <th>...</th>\n",
       "      <td>...</td>\n",
       "      <td>...</td>\n",
       "    </tr>\n",
       "    <tr>\n",
       "      <th>2022-12-27</th>\n",
       "      <td>0.5834</td>\n",
       "      <td>0.013538</td>\n",
       "    </tr>\n",
       "    <tr>\n",
       "      <th>2022-12-28</th>\n",
       "      <td>0.5942</td>\n",
       "      <td>0.030231</td>\n",
       "    </tr>\n",
       "    <tr>\n",
       "      <th>2022-12-29</th>\n",
       "      <td>0.5792</td>\n",
       "      <td>0.000077</td>\n",
       "    </tr>\n",
       "    <tr>\n",
       "      <th>2022-12-30</th>\n",
       "      <td>0.5952</td>\n",
       "      <td>0.000000</td>\n",
       "    </tr>\n",
       "    <tr>\n",
       "      <th>2022-12-31</th>\n",
       "      <td>0.5938</td>\n",
       "      <td>0.000000</td>\n",
       "    </tr>\n",
       "  </tbody>\n",
       "</table>\n",
       "<p>365 rows × 2 columns</p>\n",
       "</div>"
      ],
      "text/plain": [
       "            temp_max  rainfall\n",
       "date                          \n",
       "2022-01-01    0.5710  0.000000\n",
       "2022-01-02    0.5744  0.000000\n",
       "2022-01-03    0.5682  0.000000\n",
       "2022-01-04    0.5746  0.000000\n",
       "2022-01-05    0.5752  0.000000\n",
       "...              ...       ...\n",
       "2022-12-27    0.5834  0.013538\n",
       "2022-12-28    0.5942  0.030231\n",
       "2022-12-29    0.5792  0.000077\n",
       "2022-12-30    0.5952  0.000000\n",
       "2022-12-31    0.5938  0.000000\n",
       "\n",
       "[365 rows x 2 columns]"
      ]
     },
     "metadata": {},
     "output_type": "display_data"
    },
    {
     "data": {
      "text/plain": [
       "array([[[5.71000000e-01, 0.00000000e+00],\n",
       "        [5.74400000e-01, 0.00000000e+00],\n",
       "        [5.68200000e-01, 0.00000000e+00],\n",
       "        [5.74600000e-01, 0.00000000e+00],\n",
       "        [5.75200000e-01, 0.00000000e+00],\n",
       "        [5.83600000e-01, 0.00000000e+00],\n",
       "        [5.89400000e-01, 0.00000000e+00],\n",
       "        [5.82000000e-01, 0.00000000e+00],\n",
       "        [5.76400000e-01, 5.15384615e-03],\n",
       "        [5.69200000e-01, 7.93076923e-02],\n",
       "        [5.46200000e-01, 9.66153846e-02],\n",
       "        [5.16200000e-01, 9.72307692e-02],\n",
       "        [5.48200000e-01, 3.00769231e-02],\n",
       "        [5.57400000e-01, 4.69230769e-02],\n",
       "        [5.29400000e-01, 8.61538462e-03],\n",
       "        [5.51400000e-01, 2.30769231e-03],\n",
       "        [5.42600000e-01, 1.31923077e-01],\n",
       "        [5.50800000e-01, 6.84615385e-03],\n",
       "        [5.45600000e-01, 0.00000000e+00],\n",
       "        [5.69600000e-01, 0.00000000e+00],\n",
       "        [6.04000000e-01, 0.00000000e+00],\n",
       "        [6.21200000e-01, 0.00000000e+00],\n",
       "        [5.74400000e-01, 0.00000000e+00],\n",
       "        [5.34000000e-01, 0.00000000e+00],\n",
       "        [5.09600000e-01, 0.00000000e+00],\n",
       "        [5.24200000e-01, 0.00000000e+00],\n",
       "        [5.24600000e-01, 0.00000000e+00],\n",
       "        [5.20600000e-01, 0.00000000e+00],\n",
       "        [5.38000000e-01, 0.00000000e+00],\n",
       "        [5.86000000e-01, 0.00000000e+00],\n",
       "        [6.18200000e-01, 0.00000000e+00],\n",
       "        [6.12800000e-01, 0.00000000e+00],\n",
       "        [6.37600000e-01, 0.00000000e+00],\n",
       "        [6.48000000e-01, 0.00000000e+00],\n",
       "        [5.90200000e-01, 0.00000000e+00],\n",
       "        [5.91000000e-01, 0.00000000e+00],\n",
       "        [6.03000000e-01, 0.00000000e+00],\n",
       "        [6.23800000e-01, 0.00000000e+00],\n",
       "        [6.21600000e-01, 0.00000000e+00],\n",
       "        [6.24200000e-01, 0.00000000e+00],\n",
       "        [6.05200000e-01, 0.00000000e+00],\n",
       "        [6.00400000e-01, 0.00000000e+00],\n",
       "        [6.12400000e-01, 0.00000000e+00],\n",
       "        [6.30200000e-01, 0.00000000e+00],\n",
       "        [6.36600000e-01, 0.00000000e+00],\n",
       "        [6.36400000e-01, 0.00000000e+00],\n",
       "        [6.20800000e-01, 3.07692308e-04],\n",
       "        [6.31600000e-01, 4.61538462e-04],\n",
       "        [6.41400000e-01, 0.00000000e+00],\n",
       "        [6.61400000e-01, 0.00000000e+00],\n",
       "        [7.18200000e-01, 0.00000000e+00],\n",
       "        [7.03000000e-01, 0.00000000e+00],\n",
       "        [7.05000000e-01, 0.00000000e+00],\n",
       "        [7.00000000e-01, 0.00000000e+00],\n",
       "        [7.08000000e-01, 0.00000000e+00],\n",
       "        [7.03600000e-01, 0.00000000e+00],\n",
       "        [7.00200000e-01, 0.00000000e+00],\n",
       "        [7.01600000e-01, 0.00000000e+00],\n",
       "        [7.05600000e-01, 0.00000000e+00],\n",
       "        [7.22800000e-01, 0.00000000e+00],\n",
       "        [7.16200000e-01, 0.00000000e+00],\n",
       "        [7.24400000e-01, 0.00000000e+00],\n",
       "        [7.23600000e-01, 0.00000000e+00],\n",
       "        [7.29600000e-01, 0.00000000e+00],\n",
       "        [7.33400000e-01, 0.00000000e+00],\n",
       "        [7.24800000e-01, 0.00000000e+00],\n",
       "        [7.37400000e-01, 0.00000000e+00],\n",
       "        [7.51400000e-01, 0.00000000e+00],\n",
       "        [7.45000000e-01, 0.00000000e+00],\n",
       "        [7.51800000e-01, 0.00000000e+00],\n",
       "        [6.94600000e-01, 0.00000000e+00],\n",
       "        [7.56000000e-01, 0.00000000e+00],\n",
       "        [7.74400000e-01, 0.00000000e+00],\n",
       "        [7.86600000e-01, 0.00000000e+00],\n",
       "        [8.27600000e-01, 0.00000000e+00],\n",
       "        [8.41000000e-01, 0.00000000e+00],\n",
       "        [8.19600000e-01, 0.00000000e+00],\n",
       "        [7.99800000e-01, 0.00000000e+00],\n",
       "        [8.10400000e-01, 0.00000000e+00],\n",
       "        [8.23200000e-01, 0.00000000e+00],\n",
       "        [8.17800000e-01, 0.00000000e+00],\n",
       "        [8.20400000e-01, 0.00000000e+00],\n",
       "        [8.21400000e-01, 0.00000000e+00],\n",
       "        [8.19200000e-01, 0.00000000e+00],\n",
       "        [8.39400000e-01, 0.00000000e+00],\n",
       "        [8.47400000e-01, 0.00000000e+00],\n",
       "        [8.45800000e-01, 0.00000000e+00],\n",
       "        [8.62200000e-01, 0.00000000e+00],\n",
       "        [8.60800000e-01, 0.00000000e+00],\n",
       "        [8.61600000e-01, 0.00000000e+00],\n",
       "        [8.54600000e-01, 0.00000000e+00],\n",
       "        [8.10400000e-01, 0.00000000e+00],\n",
       "        [8.22800000e-01, 0.00000000e+00],\n",
       "        [8.15800000e-01, 0.00000000e+00],\n",
       "        [8.11200000e-01, 0.00000000e+00],\n",
       "        [8.27400000e-01, 0.00000000e+00],\n",
       "        [8.10200000e-01, 0.00000000e+00],\n",
       "        [8.00000000e-01, 0.00000000e+00],\n",
       "        [8.19400000e-01, 0.00000000e+00],\n",
       "        [8.21400000e-01, 0.00000000e+00],\n",
       "        [8.45200000e-01, 0.00000000e+00],\n",
       "        [8.48200000e-01, 0.00000000e+00],\n",
       "        [8.43800000e-01, 0.00000000e+00],\n",
       "        [8.24600000e-01, 0.00000000e+00],\n",
       "        [8.40200000e-01, 6.06153846e-02],\n",
       "        [7.79600000e-01, 1.29384615e-01],\n",
       "        [8.12400000e-01, 7.69230769e-05],\n",
       "        [8.24600000e-01, 0.00000000e+00],\n",
       "        [8.50200000e-01, 0.00000000e+00],\n",
       "        [8.36800000e-01, 0.00000000e+00],\n",
       "        [8.34400000e-01, 7.69230769e-05],\n",
       "        [7.56600000e-01, 3.84615385e-04],\n",
       "        [7.97800000e-01, 0.00000000e+00],\n",
       "        [8.36600000e-01, 0.00000000e+00],\n",
       "        [8.58400000e-01, 0.00000000e+00],\n",
       "        [8.34200000e-01, 0.00000000e+00],\n",
       "        [8.76200000e-01, 0.00000000e+00],\n",
       "        [8.81000000e-01, 0.00000000e+00],\n",
       "        [8.95000000e-01, 0.00000000e+00],\n",
       "        [8.94800000e-01, 0.00000000e+00],\n",
       "        [8.93800000e-01, 0.00000000e+00],\n",
       "        [8.79000000e-01, 7.69230769e-05],\n",
       "        [8.68200000e-01, 4.61538462e-04],\n",
       "        [7.49200000e-01, 1.84615385e-02],\n",
       "        [8.42600000e-01, 1.15384615e-03],\n",
       "        [8.77000000e-01, 7.69230769e-05],\n",
       "        [8.61800000e-01, 0.00000000e+00],\n",
       "        [8.48400000e-01, 0.00000000e+00],\n",
       "        [8.45800000e-01, 0.00000000e+00],\n",
       "        [8.56000000e-01, 0.00000000e+00],\n",
       "        [7.78800000e-01, 2.20769231e-02],\n",
       "        [6.91000000e-01, 1.30769231e-02],\n",
       "        [7.82600000e-01, 3.61538462e-03],\n",
       "        [8.54400000e-01, 0.00000000e+00],\n",
       "        [8.22800000e-01, 7.69230769e-04],\n",
       "        [7.49800000e-01, 6.92307692e-03],\n",
       "        [7.32400000e-01, 2.43846154e-02],\n",
       "        [7.88000000e-01, 2.30769231e-03],\n",
       "        [7.16400000e-01, 1.83076923e-02],\n",
       "        [7.57600000e-01, 7.07692308e-03],\n",
       "        [8.24600000e-01, 1.53846154e-04],\n",
       "        [8.38800000e-01, 0.00000000e+00],\n",
       "        [8.41600000e-01, 0.00000000e+00],\n",
       "        [8.47200000e-01, 1.53846154e-04],\n",
       "        [8.33200000e-01, 1.53846154e-04],\n",
       "        [8.60200000e-01, 2.76923077e-03],\n",
       "        [8.45000000e-01, 2.15384615e-03],\n",
       "        [8.59800000e-01, 0.00000000e+00],\n",
       "        [8.58600000e-01, 7.69230769e-05],\n",
       "        [8.77600000e-01, 7.69230769e-05],\n",
       "        [8.49000000e-01, 6.59230769e-02],\n",
       "        [8.37400000e-01, 3.92307692e-03],\n",
       "        [8.73200000e-01, 0.00000000e+00],\n",
       "        [8.69400000e-01, 0.00000000e+00],\n",
       "        [8.29800000e-01, 2.30769231e-04],\n",
       "        [8.33800000e-01, 6.35384615e-02],\n",
       "        [7.65200000e-01, 6.61538462e-03],\n",
       "        [8.64600000e-01, 1.53846154e-04],\n",
       "        [8.27400000e-01, 1.15384615e-03],\n",
       "        [8.23800000e-01, 5.30769231e-03],\n",
       "        [6.31200000e-01, 2.48846154e-01],\n",
       "        [7.13000000e-01, 8.03846154e-02],\n",
       "        [6.74600000e-01, 2.33846154e-02],\n",
       "        [6.48200000e-01, 2.53846154e-02],\n",
       "        [6.99200000e-01, 2.19230769e-02],\n",
       "        [6.61400000e-01, 6.69230769e-03],\n",
       "        [7.19400000e-01, 5.61538462e-03],\n",
       "        [7.10400000e-01, 1.25384615e-02],\n",
       "        [7.21200000e-01, 7.30769231e-03],\n",
       "        [7.13000000e-01, 7.95384615e-02],\n",
       "        [6.48200000e-01, 2.40230769e-01],\n",
       "        [6.06200000e-01, 7.76153846e-02],\n",
       "        [6.76600000e-01, 3.82307692e-02],\n",
       "        [6.64600000e-01, 9.22307692e-02],\n",
       "        [6.42200000e-01, 1.34769231e-01],\n",
       "        [6.16400000e-01, 9.46923077e-02],\n",
       "        [6.06400000e-01, 4.97692308e-02],\n",
       "        [6.56200000e-01, 1.50000000e-02],\n",
       "        [6.41800000e-01, 1.36923077e-02],\n",
       "        [5.81200000e-01, 1.77230769e-01],\n",
       "        [6.05000000e-01, 7.02307692e-02],\n",
       "        [6.56600000e-01, 1.05384615e-02],\n",
       "        [6.45600000e-01, 3.56153846e-02],\n",
       "        [5.89800000e-01, 1.24769231e-01],\n",
       "        [5.98800000e-01, 3.90153846e-01],\n",
       "        [6.02600000e-01, 2.56615385e-01],\n",
       "        [5.99800000e-01, 8.70769231e-02],\n",
       "        [5.64600000e-01, 5.28076923e-01],\n",
       "        [5.47800000e-01, 7.31384615e-01],\n",
       "        [5.54800000e-01, 1.05846154e-01],\n",
       "        [5.71000000e-01, 2.07846154e-01],\n",
       "        [5.48800000e-01, 4.38692308e-01],\n",
       "        [5.43800000e-01, 7.97000000e-01],\n",
       "        [5.46400000e-01, 8.99000000e-01],\n",
       "        [5.67000000e-01, 1.36538462e-01],\n",
       "        [5.96600000e-01, 4.04615385e-02],\n",
       "        [5.56000000e-01, 1.37076923e-01],\n",
       "        [5.59000000e-01, 2.80461538e-01],\n",
       "        [5.47800000e-01, 1.54769231e-01],\n",
       "        [6.02800000e-01, 1.83076923e-02],\n",
       "        [6.06200000e-01, 2.70000000e-02],\n",
       "        [5.39000000e-01, 4.26461538e-01],\n",
       "        [5.25000000e-01, 3.36461538e-01],\n",
       "        [5.36800000e-01, 9.06923077e-02],\n",
       "        [5.49600000e-01, 1.56000000e-01],\n",
       "        [5.76600000e-01, 7.99230769e-02],\n",
       "        [5.54200000e-01, 6.88461538e-02],\n",
       "        [6.15800000e-01, 3.16923077e-02],\n",
       "        [6.00600000e-01, 3.34615385e-02],\n",
       "        [6.32800000e-01, 4.55384615e-02],\n",
       "        [5.84000000e-01, 9.62307692e-02],\n",
       "        [5.76400000e-01, 1.61692308e-01],\n",
       "        [6.29200000e-01, 1.49230769e-02],\n",
       "        [5.92800000e-01, 4.30000000e-02],\n",
       "        [6.07800000e-01, 2.80000000e-02],\n",
       "        [5.91000000e-01, 3.06000000e-01],\n",
       "        [5.71200000e-01, 1.15153846e-01],\n",
       "        [5.76400000e-01, 8.73076923e-02],\n",
       "        [5.61000000e-01, 2.97461538e-01],\n",
       "        [5.43600000e-01, 2.44076923e-01],\n",
       "        [5.46000000e-01, 3.05384615e-01],\n",
       "        [5.44200000e-01, 1.12615385e-01],\n",
       "        [5.86200000e-01, 4.75384615e-02],\n",
       "        [5.67600000e-01, 3.22307692e-02],\n",
       "        [5.77000000e-01, 1.78153846e-01],\n",
       "        [5.47000000e-01, 1.60846154e-01],\n",
       "        [5.23000000e-01, 1.26153846e-01],\n",
       "        [5.90000000e-01, 2.06153846e-02],\n",
       "        [6.06400000e-01, 3.86153846e-02],\n",
       "        [5.72600000e-01, 5.16923077e-02],\n",
       "        [5.43400000e-01, 9.58000000e-01],\n",
       "        [5.75200000e-01, 6.50769231e-02],\n",
       "        [5.86000000e-01, 6.90769231e-02],\n",
       "        [5.95200000e-01, 4.96923077e-02],\n",
       "        [6.12400000e-01, 1.36923077e-02],\n",
       "        [5.53800000e-01, 2.59153846e-01],\n",
       "        [5.93200000e-01, 1.16153846e-02],\n",
       "        [6.04000000e-01, 5.00000000e-03],\n",
       "        [5.97400000e-01, 2.61538462e-02],\n",
       "        [5.51600000e-01, 4.58461538e-02],\n",
       "        [6.21800000e-01, 0.00000000e+00],\n",
       "        [6.08000000e-01, 1.63846154e-02],\n",
       "        [5.86000000e-01, 1.88461538e-02],\n",
       "        [6.10800000e-01, 2.02307692e-02],\n",
       "        [6.04600000e-01, 3.23076923e-03],\n",
       "        [6.38400000e-01, 6.38461538e-03],\n",
       "        [6.03600000e-01, 6.55384615e-02],\n",
       "        [5.98000000e-01, 7.46153846e-03],\n",
       "        [6.08400000e-01, 4.74615385e-02],\n",
       "        [5.72400000e-01, 1.70461538e-01],\n",
       "        [5.84400000e-01, 1.01538462e-01],\n",
       "        [5.87600000e-01, 3.10000000e-02],\n",
       "        [5.91000000e-01, 1.45153846e-01],\n",
       "        [5.46000000e-01, 2.42461538e-01],\n",
       "        [5.98200000e-01, 6.23076923e-02],\n",
       "        [5.89200000e-01, 2.46153846e-02],\n",
       "        [5.51400000e-01, 3.40000000e-02],\n",
       "        [5.85200000e-01, 3.00000000e-02],\n",
       "        [5.86400000e-01, 3.61538462e-02],\n",
       "        [5.79200000e-01, 1.21000000e-01],\n",
       "        [5.55400000e-01, 7.02307692e-02],\n",
       "        [5.64800000e-01, 1.45384615e-01],\n",
       "        [5.51800000e-01, 5.84615385e-02],\n",
       "        [5.63200000e-01, 4.27692308e-02],\n",
       "        [5.61000000e-01, 1.70769231e-01],\n",
       "        [5.64200000e-01, 6.30769231e-03],\n",
       "        [5.85400000e-01, 2.76923077e-03],\n",
       "        [6.09000000e-01, 5.00000000e-03],\n",
       "        [6.00600000e-01, 1.75384615e-02],\n",
       "        [5.64200000e-01, 1.17615385e-01],\n",
       "        [5.60000000e-01, 9.83846154e-02],\n",
       "        [5.73600000e-01, 3.22307692e-02],\n",
       "        [5.72800000e-01, 3.20769231e-02],\n",
       "        [5.86000000e-01, 4.70769231e-02],\n",
       "        [5.87000000e-01, 9.92307692e-03],\n",
       "        [5.89200000e-01, 1.14615385e-02],\n",
       "        [5.34000000e-01, 7.49230769e-02],\n",
       "        [5.92400000e-01, 1.00000000e-01],\n",
       "        [5.45000000e-01, 9.03846154e-02],\n",
       "        [5.70600000e-01, 4.49230769e-02],\n",
       "        [5.79800000e-01, 1.66923077e-02],\n",
       "        [5.83400000e-01, 2.52307692e-02],\n",
       "        [5.66800000e-01, 5.36923077e-02],\n",
       "        [5.81200000e-01, 2.08461538e-02],\n",
       "        [6.07200000e-01, 2.46153846e-03],\n",
       "        [5.90800000e-01, 8.82307692e-02],\n",
       "        [5.61000000e-01, 2.08153846e-01],\n",
       "        [5.67600000e-01, 1.67230769e-01],\n",
       "        [5.91600000e-01, 4.06923077e-02],\n",
       "        [5.97600000e-01, 2.89230769e-02],\n",
       "        [5.86000000e-01, 2.83076923e-02],\n",
       "        [5.56200000e-01, 8.62307692e-02],\n",
       "        [5.84400000e-01, 6.86923077e-02],\n",
       "        [5.78200000e-01, 1.93076923e-02],\n",
       "        [5.44000000e-01, 4.61538462e-04],\n",
       "        [5.40000000e-01, 1.53846154e-04],\n",
       "        [5.38200000e-01, 1.53846154e-04],\n",
       "        [5.52200000e-01, 0.00000000e+00],\n",
       "        [5.59800000e-01, 0.00000000e+00],\n",
       "        [5.62800000e-01, 0.00000000e+00],\n",
       "        [5.46200000e-01, 3.07692308e-04],\n",
       "        [5.32400000e-01, 7.69230769e-05],\n",
       "        [5.27400000e-01, 0.00000000e+00],\n",
       "        [5.23600000e-01, 7.69230769e-05],\n",
       "        [4.85200000e-01, 2.63076923e-02],\n",
       "        [5.26800000e-01, 1.63076923e-02],\n",
       "        [5.57600000e-01, 1.00000000e-02],\n",
       "        [5.70400000e-01, 2.38461538e-03],\n",
       "        [5.77200000e-01, 0.00000000e+00],\n",
       "        [5.60000000e-01, 7.69230769e-05],\n",
       "        [5.64600000e-01, 0.00000000e+00],\n",
       "        [5.54600000e-01, 1.53846154e-04],\n",
       "        [5.41800000e-01, 7.69230769e-05],\n",
       "        [5.41400000e-01, 3.07692308e-04],\n",
       "        [5.30600000e-01, 4.61538462e-04],\n",
       "        [5.33800000e-01, 2.30769231e-04],\n",
       "        [5.36000000e-01, 5.38461538e-04],\n",
       "        [5.46000000e-01, 1.53846154e-04],\n",
       "        [5.36200000e-01, 0.00000000e+00],\n",
       "        [5.26800000e-01, 7.69230769e-05],\n",
       "        [5.21000000e-01, 7.69230769e-05],\n",
       "        [6.00000000e-01, 0.00000000e+00],\n",
       "        [5.60000000e-01, 0.00000000e+00],\n",
       "        [5.60000000e-01, 0.00000000e+00],\n",
       "        [5.27400000e-01, 2.84615385e-03],\n",
       "        [5.44600000e-01, 1.00769231e-02],\n",
       "        [5.48000000e-01, 3.84615385e-02],\n",
       "        [5.40000000e-01, 6.58461538e-02],\n",
       "        [5.48800000e-01, 4.61538462e-04],\n",
       "        [5.18000000e-01, 2.30769231e-04],\n",
       "        [5.16800000e-01, 0.00000000e+00],\n",
       "        [5.17800000e-01, 0.00000000e+00],\n",
       "        [5.23800000e-01, 0.00000000e+00],\n",
       "        [5.25200000e-01, 0.00000000e+00],\n",
       "        [5.53800000e-01, 0.00000000e+00],\n",
       "        [5.71000000e-01, 7.69230769e-04],\n",
       "        [5.60200000e-01, 6.92307692e-04],\n",
       "        [5.54000000e-01, 0.00000000e+00],\n",
       "        [5.57600000e-01, 7.69230769e-05],\n",
       "        [5.39400000e-01, 2.30769231e-04],\n",
       "        [5.31600000e-01, 2.30769231e-04],\n",
       "        [5.07400000e-01, 1.53846154e-04],\n",
       "        [4.61600000e-01, 0.00000000e+00],\n",
       "        [4.84800000e-01, 3.26923077e-02],\n",
       "        [5.58800000e-01, 2.80769231e-02],\n",
       "        [5.59600000e-01, 3.31538462e-02],\n",
       "        [5.53800000e-01, 8.92307692e-03],\n",
       "        [5.85400000e-01, 1.28461538e-02],\n",
       "        [5.90200000e-01, 6.61538462e-03],\n",
       "        [5.93600000e-01, 2.30769231e-04],\n",
       "        [5.89600000e-01, 1.53846154e-04],\n",
       "        [5.57000000e-01, 2.30769231e-04],\n",
       "        [5.46000000e-01, 0.00000000e+00],\n",
       "        [5.56000000e-01, 0.00000000e+00],\n",
       "        [5.52400000e-01, 0.00000000e+00],\n",
       "        [5.62400000e-01, 0.00000000e+00],\n",
       "        [5.75600000e-01, 0.00000000e+00],\n",
       "        [5.67400000e-01, 7.69230769e-05],\n",
       "        [5.78400000e-01, 0.00000000e+00],\n",
       "        [5.70800000e-01, 1.61538462e-03],\n",
       "        [5.83400000e-01, 1.35384615e-02],\n",
       "        [5.94200000e-01, 3.02307692e-02],\n",
       "        [5.79200000e-01, 7.69230769e-05],\n",
       "        [5.95200000e-01, 0.00000000e+00],\n",
       "        [5.93800000e-01, 0.00000000e+00]]])"
      ]
     },
     "execution_count": 9,
     "metadata": {},
     "output_type": "execute_result"
    }
   ],
   "source": [
    "test_x1=df[11323:]\n",
    "display(test_x1)\n",
    "test_x1=test_x1.to_numpy()\n",
    "test_x1=test_x1.reshape(1,365,2)\n",
    "test_x1"
   ]
  },
  {
   "cell_type": "code",
   "execution_count": 10,
   "id": "ec99fa1d",
   "metadata": {},
   "outputs": [
    {
     "name": "stdout",
     "output_type": "stream",
     "text": [
      "1/1 [==============================] - 3s 3s/step\n"
     ]
    }
   ],
   "source": [
    "pred1= model.predict(test_x1)"
   ]
  },
  {
   "cell_type": "code",
   "execution_count": 18,
   "id": "8ed40aed",
   "metadata": {
    "scrolled": true
   },
   "outputs": [
    {
     "name": "stderr",
     "output_type": "stream",
     "text": [
      "C:\\Users\\Lenovo\\AppData\\Local\\Temp\\ipykernel_7660\\2431198317.py:4: UserWarning: Parsing dates in DD/MM/YYYY format when dayfirst=False (the default) was specified. This may lead to inconsistently parsed dates! Specify a format to ensure consistent parsing.\n",
      "  pred2[\"date\"]= pd.date_range(start='01-01-2023', end='31-12-2023')\n"
     ]
    },
    {
     "data": {
      "text/html": [
       "<div>\n",
       "<style scoped>\n",
       "    .dataframe tbody tr th:only-of-type {\n",
       "        vertical-align: middle;\n",
       "    }\n",
       "\n",
       "    .dataframe tbody tr th {\n",
       "        vertical-align: top;\n",
       "    }\n",
       "\n",
       "    .dataframe thead th {\n",
       "        text-align: right;\n",
       "    }\n",
       "</style>\n",
       "<table border=\"1\" class=\"dataframe\">\n",
       "  <thead>\n",
       "    <tr style=\"text-align: right;\">\n",
       "      <th></th>\n",
       "      <th>temp_max</th>\n",
       "      <th>date</th>\n",
       "    </tr>\n",
       "    <tr>\n",
       "      <th>Date</th>\n",
       "      <th></th>\n",
       "      <th></th>\n",
       "    </tr>\n",
       "  </thead>\n",
       "  <tbody>\n",
       "    <tr>\n",
       "      <th>2022-01-01</th>\n",
       "      <td>29.010355</td>\n",
       "      <td>2023-01-01</td>\n",
       "    </tr>\n",
       "    <tr>\n",
       "      <th>2022-01-02</th>\n",
       "      <td>28.858339</td>\n",
       "      <td>2023-01-02</td>\n",
       "    </tr>\n",
       "    <tr>\n",
       "      <th>2022-01-03</th>\n",
       "      <td>29.407036</td>\n",
       "      <td>2023-01-03</td>\n",
       "    </tr>\n",
       "    <tr>\n",
       "      <th>2022-01-04</th>\n",
       "      <td>29.417233</td>\n",
       "      <td>2023-01-04</td>\n",
       "    </tr>\n",
       "    <tr>\n",
       "      <th>2022-01-05</th>\n",
       "      <td>29.536449</td>\n",
       "      <td>2023-01-05</td>\n",
       "    </tr>\n",
       "    <tr>\n",
       "      <th>...</th>\n",
       "      <td>...</td>\n",
       "      <td>...</td>\n",
       "    </tr>\n",
       "    <tr>\n",
       "      <th>2022-12-27</th>\n",
       "      <td>30.147308</td>\n",
       "      <td>2023-12-27</td>\n",
       "    </tr>\n",
       "    <tr>\n",
       "      <th>2022-12-28</th>\n",
       "      <td>30.320198</td>\n",
       "      <td>2023-12-28</td>\n",
       "    </tr>\n",
       "    <tr>\n",
       "      <th>2022-12-29</th>\n",
       "      <td>30.502914</td>\n",
       "      <td>2023-12-29</td>\n",
       "    </tr>\n",
       "    <tr>\n",
       "      <th>2022-12-30</th>\n",
       "      <td>30.539656</td>\n",
       "      <td>2023-12-30</td>\n",
       "    </tr>\n",
       "    <tr>\n",
       "      <th>2022-12-31</th>\n",
       "      <td>30.396509</td>\n",
       "      <td>2023-12-31</td>\n",
       "    </tr>\n",
       "  </tbody>\n",
       "</table>\n",
       "<p>365 rows × 2 columns</p>\n",
       "</div>"
      ],
      "text/plain": [
       "             temp_max       date\n",
       "Date                            \n",
       "2022-01-01  29.010355 2023-01-01\n",
       "2022-01-02  28.858339 2023-01-02\n",
       "2022-01-03  29.407036 2023-01-03\n",
       "2022-01-04  29.417233 2023-01-04\n",
       "2022-01-05  29.536449 2023-01-05\n",
       "...               ...        ...\n",
       "2022-12-27  30.147308 2023-12-27\n",
       "2022-12-28  30.320198 2023-12-28\n",
       "2022-12-29  30.502914 2023-12-29\n",
       "2022-12-30  30.539656 2023-12-30\n",
       "2022-12-31  30.396509 2023-12-31\n",
       "\n",
       "[365 rows x 2 columns]"
      ]
     },
     "execution_count": 18,
     "metadata": {},
     "output_type": "execute_result"
    }
   ],
   "source": [
    "pred1 = pred1.reshape(365)\n",
    "pred2 = pd.DataFrame(data=pred1,index=df[11323:].index, columns=['temp_max'])\n",
    "pred2[\"temp_max\"] = pred2[\"temp_max\"]*50 \n",
    "pred2[\"date\"]= pd.date_range(start='01-01-2023', end='31-12-2023')\n",
    "pred2\n"
   ]
  },
  {
   "cell_type": "code",
   "execution_count": 19,
   "id": "7c4d012a",
   "metadata": {},
   "outputs": [],
   "source": [
    "pred4=pred2.copy()\n",
    "pred4=pred4.set_index('date')\n",
    "pred4.to_csv(\"C:\\\\Users\\\\Lenovo\\\\Desktop\\\\NASSCOM\\\\Prediction\\\\karimnagar_prediction_temp.csv\")"
   ]
  },
  {
   "cell_type": "code",
   "execution_count": 20,
   "id": "52c6a0c3",
   "metadata": {},
   "outputs": [],
   "source": [
    "norm= pd.read_csv(\"C:\\\\Users\\\\Lenovo\\\\Desktop\\\\NASSCOM\\\\Normals\\\\temp_normals.csv\")"
   ]
  },
  {
   "cell_type": "code",
   "execution_count": 21,
   "id": "2b88d127",
   "metadata": {},
   "outputs": [],
   "source": [
    "pred2= pred2.loc[(pred2['temp_max']>=40)]\n",
    "pred2= pred2.sort_values(by=['date'])\n",
    "pred2['month']=pred2['date'].dt.month\n",
    "pred2['normal']=pred2['month'].astype(float)\n"
   ]
  },
  {
   "cell_type": "code",
   "execution_count": 22,
   "id": "c0278a5f",
   "metadata": {
    "scrolled": true
   },
   "outputs": [
    {
     "name": "stderr",
     "output_type": "stream",
     "text": [
      "C:\\Users\\Lenovo\\AppData\\Local\\Temp\\ipykernel_7660\\2269037652.py:2: SettingWithCopyWarning: \n",
      "A value is trying to be set on a copy of a slice from a DataFrame\n",
      "\n",
      "See the caveats in the documentation: https://pandas.pydata.org/pandas-docs/stable/user_guide/indexing.html#returning-a-view-versus-a-copy\n",
      "  pred2['normal'][i] = float(norm['Karimnagar'][int(pred2[\"month\"][i])-1])\n"
     ]
    },
    {
     "data": {
      "text/html": [
       "<div>\n",
       "<style scoped>\n",
       "    .dataframe tbody tr th:only-of-type {\n",
       "        vertical-align: middle;\n",
       "    }\n",
       "\n",
       "    .dataframe tbody tr th {\n",
       "        vertical-align: top;\n",
       "    }\n",
       "\n",
       "    .dataframe thead th {\n",
       "        text-align: right;\n",
       "    }\n",
       "</style>\n",
       "<table border=\"1\" class=\"dataframe\">\n",
       "  <thead>\n",
       "    <tr style=\"text-align: right;\">\n",
       "      <th></th>\n",
       "      <th>temp_max</th>\n",
       "      <th>date</th>\n",
       "      <th>month</th>\n",
       "      <th>normal</th>\n",
       "    </tr>\n",
       "    <tr>\n",
       "      <th>Date</th>\n",
       "      <th></th>\n",
       "      <th></th>\n",
       "      <th></th>\n",
       "      <th></th>\n",
       "    </tr>\n",
       "  </thead>\n",
       "  <tbody>\n",
       "    <tr>\n",
       "      <th>2022-04-16</th>\n",
       "      <td>40.245605</td>\n",
       "      <td>2023-04-16</td>\n",
       "      <td>4</td>\n",
       "      <td>39.5</td>\n",
       "    </tr>\n",
       "    <tr>\n",
       "      <th>2022-04-17</th>\n",
       "      <td>40.711765</td>\n",
       "      <td>2023-04-17</td>\n",
       "      <td>4</td>\n",
       "      <td>39.5</td>\n",
       "    </tr>\n",
       "    <tr>\n",
       "      <th>2022-04-18</th>\n",
       "      <td>41.014343</td>\n",
       "      <td>2023-04-18</td>\n",
       "      <td>4</td>\n",
       "      <td>39.5</td>\n",
       "    </tr>\n",
       "    <tr>\n",
       "      <th>2022-04-19</th>\n",
       "      <td>41.395901</td>\n",
       "      <td>2023-04-19</td>\n",
       "      <td>4</td>\n",
       "      <td>39.5</td>\n",
       "    </tr>\n",
       "    <tr>\n",
       "      <th>2022-04-20</th>\n",
       "      <td>41.279461</td>\n",
       "      <td>2023-04-20</td>\n",
       "      <td>4</td>\n",
       "      <td>39.5</td>\n",
       "    </tr>\n",
       "    <tr>\n",
       "      <th>2022-04-21</th>\n",
       "      <td>41.488380</td>\n",
       "      <td>2023-04-21</td>\n",
       "      <td>4</td>\n",
       "      <td>39.5</td>\n",
       "    </tr>\n",
       "    <tr>\n",
       "      <th>2022-04-22</th>\n",
       "      <td>41.515041</td>\n",
       "      <td>2023-04-22</td>\n",
       "      <td>4</td>\n",
       "      <td>39.5</td>\n",
       "    </tr>\n",
       "    <tr>\n",
       "      <th>2022-04-23</th>\n",
       "      <td>41.949757</td>\n",
       "      <td>2023-04-23</td>\n",
       "      <td>4</td>\n",
       "      <td>39.5</td>\n",
       "    </tr>\n",
       "    <tr>\n",
       "      <th>2022-04-24</th>\n",
       "      <td>41.941357</td>\n",
       "      <td>2023-04-24</td>\n",
       "      <td>4</td>\n",
       "      <td>39.5</td>\n",
       "    </tr>\n",
       "    <tr>\n",
       "      <th>2022-04-25</th>\n",
       "      <td>41.938351</td>\n",
       "      <td>2023-04-25</td>\n",
       "      <td>4</td>\n",
       "      <td>39.5</td>\n",
       "    </tr>\n",
       "    <tr>\n",
       "      <th>2022-04-26</th>\n",
       "      <td>41.783287</td>\n",
       "      <td>2023-04-26</td>\n",
       "      <td>4</td>\n",
       "      <td>39.5</td>\n",
       "    </tr>\n",
       "    <tr>\n",
       "      <th>2022-04-27</th>\n",
       "      <td>41.304165</td>\n",
       "      <td>2023-04-27</td>\n",
       "      <td>4</td>\n",
       "      <td>39.5</td>\n",
       "    </tr>\n",
       "    <tr>\n",
       "      <th>2022-04-28</th>\n",
       "      <td>41.849018</td>\n",
       "      <td>2023-04-28</td>\n",
       "      <td>4</td>\n",
       "      <td>39.5</td>\n",
       "    </tr>\n",
       "    <tr>\n",
       "      <th>2022-04-29</th>\n",
       "      <td>42.041080</td>\n",
       "      <td>2023-04-29</td>\n",
       "      <td>4</td>\n",
       "      <td>39.5</td>\n",
       "    </tr>\n",
       "    <tr>\n",
       "      <th>2022-04-30</th>\n",
       "      <td>41.801495</td>\n",
       "      <td>2023-04-30</td>\n",
       "      <td>4</td>\n",
       "      <td>39.5</td>\n",
       "    </tr>\n",
       "    <tr>\n",
       "      <th>2022-05-01</th>\n",
       "      <td>41.649014</td>\n",
       "      <td>2023-05-01</td>\n",
       "      <td>5</td>\n",
       "      <td>41.4</td>\n",
       "    </tr>\n",
       "    <tr>\n",
       "      <th>2022-05-02</th>\n",
       "      <td>41.222279</td>\n",
       "      <td>2023-05-02</td>\n",
       "      <td>5</td>\n",
       "      <td>41.4</td>\n",
       "    </tr>\n",
       "    <tr>\n",
       "      <th>2022-05-03</th>\n",
       "      <td>40.923336</td>\n",
       "      <td>2023-05-03</td>\n",
       "      <td>5</td>\n",
       "      <td>41.4</td>\n",
       "    </tr>\n",
       "    <tr>\n",
       "      <th>2022-05-04</th>\n",
       "      <td>40.786026</td>\n",
       "      <td>2023-05-04</td>\n",
       "      <td>5</td>\n",
       "      <td>41.4</td>\n",
       "    </tr>\n",
       "    <tr>\n",
       "      <th>2022-05-05</th>\n",
       "      <td>40.125759</td>\n",
       "      <td>2023-05-05</td>\n",
       "      <td>5</td>\n",
       "      <td>41.4</td>\n",
       "    </tr>\n",
       "    <tr>\n",
       "      <th>2022-05-29</th>\n",
       "      <td>40.600418</td>\n",
       "      <td>2023-05-29</td>\n",
       "      <td>5</td>\n",
       "      <td>41.4</td>\n",
       "    </tr>\n",
       "    <tr>\n",
       "      <th>2022-05-30</th>\n",
       "      <td>40.754158</td>\n",
       "      <td>2023-05-30</td>\n",
       "      <td>5</td>\n",
       "      <td>41.4</td>\n",
       "    </tr>\n",
       "    <tr>\n",
       "      <th>2022-05-31</th>\n",
       "      <td>41.185703</td>\n",
       "      <td>2023-05-31</td>\n",
       "      <td>5</td>\n",
       "      <td>41.4</td>\n",
       "    </tr>\n",
       "    <tr>\n",
       "      <th>2022-06-01</th>\n",
       "      <td>41.693218</td>\n",
       "      <td>2023-06-01</td>\n",
       "      <td>6</td>\n",
       "      <td>36.7</td>\n",
       "    </tr>\n",
       "    <tr>\n",
       "      <th>2022-06-02</th>\n",
       "      <td>41.817101</td>\n",
       "      <td>2023-06-02</td>\n",
       "      <td>6</td>\n",
       "      <td>36.7</td>\n",
       "    </tr>\n",
       "    <tr>\n",
       "      <th>2022-06-03</th>\n",
       "      <td>42.200661</td>\n",
       "      <td>2023-06-03</td>\n",
       "      <td>6</td>\n",
       "      <td>36.7</td>\n",
       "    </tr>\n",
       "    <tr>\n",
       "      <th>2022-06-04</th>\n",
       "      <td>41.554981</td>\n",
       "      <td>2023-06-04</td>\n",
       "      <td>6</td>\n",
       "      <td>36.7</td>\n",
       "    </tr>\n",
       "    <tr>\n",
       "      <th>2022-06-05</th>\n",
       "      <td>41.435558</td>\n",
       "      <td>2023-06-05</td>\n",
       "      <td>6</td>\n",
       "      <td>36.7</td>\n",
       "    </tr>\n",
       "    <tr>\n",
       "      <th>2022-06-06</th>\n",
       "      <td>41.370594</td>\n",
       "      <td>2023-06-06</td>\n",
       "      <td>6</td>\n",
       "      <td>36.7</td>\n",
       "    </tr>\n",
       "    <tr>\n",
       "      <th>2022-06-07</th>\n",
       "      <td>40.778244</td>\n",
       "      <td>2023-06-07</td>\n",
       "      <td>6</td>\n",
       "      <td>36.7</td>\n",
       "    </tr>\n",
       "    <tr>\n",
       "      <th>2022-06-08</th>\n",
       "      <td>40.888111</td>\n",
       "      <td>2023-06-08</td>\n",
       "      <td>6</td>\n",
       "      <td>36.7</td>\n",
       "    </tr>\n",
       "    <tr>\n",
       "      <th>2022-06-09</th>\n",
       "      <td>40.692654</td>\n",
       "      <td>2023-06-09</td>\n",
       "      <td>6</td>\n",
       "      <td>36.7</td>\n",
       "    </tr>\n",
       "    <tr>\n",
       "      <th>2022-06-10</th>\n",
       "      <td>40.526066</td>\n",
       "      <td>2023-06-10</td>\n",
       "      <td>6</td>\n",
       "      <td>36.7</td>\n",
       "    </tr>\n",
       "    <tr>\n",
       "      <th>2022-06-11</th>\n",
       "      <td>40.190506</td>\n",
       "      <td>2023-06-11</td>\n",
       "      <td>6</td>\n",
       "      <td>36.7</td>\n",
       "    </tr>\n",
       "  </tbody>\n",
       "</table>\n",
       "</div>"
      ],
      "text/plain": [
       "             temp_max       date  month  normal\n",
       "Date                                           \n",
       "2022-04-16  40.245605 2023-04-16      4    39.5\n",
       "2022-04-17  40.711765 2023-04-17      4    39.5\n",
       "2022-04-18  41.014343 2023-04-18      4    39.5\n",
       "2022-04-19  41.395901 2023-04-19      4    39.5\n",
       "2022-04-20  41.279461 2023-04-20      4    39.5\n",
       "2022-04-21  41.488380 2023-04-21      4    39.5\n",
       "2022-04-22  41.515041 2023-04-22      4    39.5\n",
       "2022-04-23  41.949757 2023-04-23      4    39.5\n",
       "2022-04-24  41.941357 2023-04-24      4    39.5\n",
       "2022-04-25  41.938351 2023-04-25      4    39.5\n",
       "2022-04-26  41.783287 2023-04-26      4    39.5\n",
       "2022-04-27  41.304165 2023-04-27      4    39.5\n",
       "2022-04-28  41.849018 2023-04-28      4    39.5\n",
       "2022-04-29  42.041080 2023-04-29      4    39.5\n",
       "2022-04-30  41.801495 2023-04-30      4    39.5\n",
       "2022-05-01  41.649014 2023-05-01      5    41.4\n",
       "2022-05-02  41.222279 2023-05-02      5    41.4\n",
       "2022-05-03  40.923336 2023-05-03      5    41.4\n",
       "2022-05-04  40.786026 2023-05-04      5    41.4\n",
       "2022-05-05  40.125759 2023-05-05      5    41.4\n",
       "2022-05-29  40.600418 2023-05-29      5    41.4\n",
       "2022-05-30  40.754158 2023-05-30      5    41.4\n",
       "2022-05-31  41.185703 2023-05-31      5    41.4\n",
       "2022-06-01  41.693218 2023-06-01      6    36.7\n",
       "2022-06-02  41.817101 2023-06-02      6    36.7\n",
       "2022-06-03  42.200661 2023-06-03      6    36.7\n",
       "2022-06-04  41.554981 2023-06-04      6    36.7\n",
       "2022-06-05  41.435558 2023-06-05      6    36.7\n",
       "2022-06-06  41.370594 2023-06-06      6    36.7\n",
       "2022-06-07  40.778244 2023-06-07      6    36.7\n",
       "2022-06-08  40.888111 2023-06-08      6    36.7\n",
       "2022-06-09  40.692654 2023-06-09      6    36.7\n",
       "2022-06-10  40.526066 2023-06-10      6    36.7\n",
       "2022-06-11  40.190506 2023-06-11      6    36.7"
      ]
     },
     "execution_count": 22,
     "metadata": {},
     "output_type": "execute_result"
    }
   ],
   "source": [
    "for i in range(len(pred2['temp_max'])):\n",
    "    pred2['normal'][i] = float(norm['Karimnagar'][int(pred2[\"month\"][i])-1]) \n",
    "pred2"
   ]
  },
  {
   "cell_type": "code",
   "execution_count": 23,
   "id": "9ea99665",
   "metadata": {
    "scrolled": true
   },
   "outputs": [
    {
     "data": {
      "text/html": [
       "<div>\n",
       "<style scoped>\n",
       "    .dataframe tbody tr th:only-of-type {\n",
       "        vertical-align: middle;\n",
       "    }\n",
       "\n",
       "    .dataframe tbody tr th {\n",
       "        vertical-align: top;\n",
       "    }\n",
       "\n",
       "    .dataframe thead th {\n",
       "        text-align: right;\n",
       "    }\n",
       "</style>\n",
       "<table border=\"1\" class=\"dataframe\">\n",
       "  <thead>\n",
       "    <tr style=\"text-align: right;\">\n",
       "      <th></th>\n",
       "      <th>temp_max</th>\n",
       "      <th>date</th>\n",
       "      <th>month</th>\n",
       "      <th>normal</th>\n",
       "      <th>diff</th>\n",
       "    </tr>\n",
       "    <tr>\n",
       "      <th>Date</th>\n",
       "      <th></th>\n",
       "      <th></th>\n",
       "      <th></th>\n",
       "      <th></th>\n",
       "      <th></th>\n",
       "    </tr>\n",
       "  </thead>\n",
       "  <tbody>\n",
       "    <tr>\n",
       "      <th>2022-04-16</th>\n",
       "      <td>40.245605</td>\n",
       "      <td>2023-04-16</td>\n",
       "      <td>4</td>\n",
       "      <td>39.5</td>\n",
       "      <td>0.745605</td>\n",
       "    </tr>\n",
       "    <tr>\n",
       "      <th>2022-04-17</th>\n",
       "      <td>40.711765</td>\n",
       "      <td>2023-04-17</td>\n",
       "      <td>4</td>\n",
       "      <td>39.5</td>\n",
       "      <td>1.211765</td>\n",
       "    </tr>\n",
       "    <tr>\n",
       "      <th>2022-04-18</th>\n",
       "      <td>41.014343</td>\n",
       "      <td>2023-04-18</td>\n",
       "      <td>4</td>\n",
       "      <td>39.5</td>\n",
       "      <td>1.514343</td>\n",
       "    </tr>\n",
       "    <tr>\n",
       "      <th>2022-04-19</th>\n",
       "      <td>41.395901</td>\n",
       "      <td>2023-04-19</td>\n",
       "      <td>4</td>\n",
       "      <td>39.5</td>\n",
       "      <td>1.895901</td>\n",
       "    </tr>\n",
       "    <tr>\n",
       "      <th>2022-04-20</th>\n",
       "      <td>41.279461</td>\n",
       "      <td>2023-04-20</td>\n",
       "      <td>4</td>\n",
       "      <td>39.5</td>\n",
       "      <td>1.779461</td>\n",
       "    </tr>\n",
       "    <tr>\n",
       "      <th>2022-04-21</th>\n",
       "      <td>41.488380</td>\n",
       "      <td>2023-04-21</td>\n",
       "      <td>4</td>\n",
       "      <td>39.5</td>\n",
       "      <td>1.988380</td>\n",
       "    </tr>\n",
       "    <tr>\n",
       "      <th>2022-04-22</th>\n",
       "      <td>41.515041</td>\n",
       "      <td>2023-04-22</td>\n",
       "      <td>4</td>\n",
       "      <td>39.5</td>\n",
       "      <td>2.015041</td>\n",
       "    </tr>\n",
       "    <tr>\n",
       "      <th>2022-04-23</th>\n",
       "      <td>41.949757</td>\n",
       "      <td>2023-04-23</td>\n",
       "      <td>4</td>\n",
       "      <td>39.5</td>\n",
       "      <td>2.449757</td>\n",
       "    </tr>\n",
       "    <tr>\n",
       "      <th>2022-04-24</th>\n",
       "      <td>41.941357</td>\n",
       "      <td>2023-04-24</td>\n",
       "      <td>4</td>\n",
       "      <td>39.5</td>\n",
       "      <td>2.441357</td>\n",
       "    </tr>\n",
       "    <tr>\n",
       "      <th>2022-04-25</th>\n",
       "      <td>41.938351</td>\n",
       "      <td>2023-04-25</td>\n",
       "      <td>4</td>\n",
       "      <td>39.5</td>\n",
       "      <td>2.438351</td>\n",
       "    </tr>\n",
       "    <tr>\n",
       "      <th>2022-04-26</th>\n",
       "      <td>41.783287</td>\n",
       "      <td>2023-04-26</td>\n",
       "      <td>4</td>\n",
       "      <td>39.5</td>\n",
       "      <td>2.283287</td>\n",
       "    </tr>\n",
       "    <tr>\n",
       "      <th>2022-04-27</th>\n",
       "      <td>41.304165</td>\n",
       "      <td>2023-04-27</td>\n",
       "      <td>4</td>\n",
       "      <td>39.5</td>\n",
       "      <td>1.804165</td>\n",
       "    </tr>\n",
       "    <tr>\n",
       "      <th>2022-04-28</th>\n",
       "      <td>41.849018</td>\n",
       "      <td>2023-04-28</td>\n",
       "      <td>4</td>\n",
       "      <td>39.5</td>\n",
       "      <td>2.349018</td>\n",
       "    </tr>\n",
       "    <tr>\n",
       "      <th>2022-04-29</th>\n",
       "      <td>42.041080</td>\n",
       "      <td>2023-04-29</td>\n",
       "      <td>4</td>\n",
       "      <td>39.5</td>\n",
       "      <td>2.541080</td>\n",
       "    </tr>\n",
       "    <tr>\n",
       "      <th>2022-04-30</th>\n",
       "      <td>41.801495</td>\n",
       "      <td>2023-04-30</td>\n",
       "      <td>4</td>\n",
       "      <td>39.5</td>\n",
       "      <td>2.301495</td>\n",
       "    </tr>\n",
       "    <tr>\n",
       "      <th>2022-05-01</th>\n",
       "      <td>41.649014</td>\n",
       "      <td>2023-05-01</td>\n",
       "      <td>5</td>\n",
       "      <td>41.4</td>\n",
       "      <td>0.249014</td>\n",
       "    </tr>\n",
       "    <tr>\n",
       "      <th>2022-05-02</th>\n",
       "      <td>41.222279</td>\n",
       "      <td>2023-05-02</td>\n",
       "      <td>5</td>\n",
       "      <td>41.4</td>\n",
       "      <td>-0.177721</td>\n",
       "    </tr>\n",
       "    <tr>\n",
       "      <th>2022-05-03</th>\n",
       "      <td>40.923336</td>\n",
       "      <td>2023-05-03</td>\n",
       "      <td>5</td>\n",
       "      <td>41.4</td>\n",
       "      <td>-0.476664</td>\n",
       "    </tr>\n",
       "    <tr>\n",
       "      <th>2022-05-04</th>\n",
       "      <td>40.786026</td>\n",
       "      <td>2023-05-04</td>\n",
       "      <td>5</td>\n",
       "      <td>41.4</td>\n",
       "      <td>-0.613974</td>\n",
       "    </tr>\n",
       "    <tr>\n",
       "      <th>2022-05-05</th>\n",
       "      <td>40.125759</td>\n",
       "      <td>2023-05-05</td>\n",
       "      <td>5</td>\n",
       "      <td>41.4</td>\n",
       "      <td>-1.274241</td>\n",
       "    </tr>\n",
       "    <tr>\n",
       "      <th>2022-05-29</th>\n",
       "      <td>40.600418</td>\n",
       "      <td>2023-05-29</td>\n",
       "      <td>5</td>\n",
       "      <td>41.4</td>\n",
       "      <td>-0.799582</td>\n",
       "    </tr>\n",
       "    <tr>\n",
       "      <th>2022-05-30</th>\n",
       "      <td>40.754158</td>\n",
       "      <td>2023-05-30</td>\n",
       "      <td>5</td>\n",
       "      <td>41.4</td>\n",
       "      <td>-0.645842</td>\n",
       "    </tr>\n",
       "    <tr>\n",
       "      <th>2022-05-31</th>\n",
       "      <td>41.185703</td>\n",
       "      <td>2023-05-31</td>\n",
       "      <td>5</td>\n",
       "      <td>41.4</td>\n",
       "      <td>-0.214297</td>\n",
       "    </tr>\n",
       "    <tr>\n",
       "      <th>2022-06-01</th>\n",
       "      <td>41.693218</td>\n",
       "      <td>2023-06-01</td>\n",
       "      <td>6</td>\n",
       "      <td>36.7</td>\n",
       "      <td>4.993218</td>\n",
       "    </tr>\n",
       "    <tr>\n",
       "      <th>2022-06-02</th>\n",
       "      <td>41.817101</td>\n",
       "      <td>2023-06-02</td>\n",
       "      <td>6</td>\n",
       "      <td>36.7</td>\n",
       "      <td>5.117101</td>\n",
       "    </tr>\n",
       "    <tr>\n",
       "      <th>2022-06-03</th>\n",
       "      <td>42.200661</td>\n",
       "      <td>2023-06-03</td>\n",
       "      <td>6</td>\n",
       "      <td>36.7</td>\n",
       "      <td>5.500661</td>\n",
       "    </tr>\n",
       "    <tr>\n",
       "      <th>2022-06-04</th>\n",
       "      <td>41.554981</td>\n",
       "      <td>2023-06-04</td>\n",
       "      <td>6</td>\n",
       "      <td>36.7</td>\n",
       "      <td>4.854981</td>\n",
       "    </tr>\n",
       "    <tr>\n",
       "      <th>2022-06-05</th>\n",
       "      <td>41.435558</td>\n",
       "      <td>2023-06-05</td>\n",
       "      <td>6</td>\n",
       "      <td>36.7</td>\n",
       "      <td>4.735558</td>\n",
       "    </tr>\n",
       "    <tr>\n",
       "      <th>2022-06-06</th>\n",
       "      <td>41.370594</td>\n",
       "      <td>2023-06-06</td>\n",
       "      <td>6</td>\n",
       "      <td>36.7</td>\n",
       "      <td>4.670594</td>\n",
       "    </tr>\n",
       "    <tr>\n",
       "      <th>2022-06-07</th>\n",
       "      <td>40.778244</td>\n",
       "      <td>2023-06-07</td>\n",
       "      <td>6</td>\n",
       "      <td>36.7</td>\n",
       "      <td>4.078244</td>\n",
       "    </tr>\n",
       "    <tr>\n",
       "      <th>2022-06-08</th>\n",
       "      <td>40.888111</td>\n",
       "      <td>2023-06-08</td>\n",
       "      <td>6</td>\n",
       "      <td>36.7</td>\n",
       "      <td>4.188111</td>\n",
       "    </tr>\n",
       "    <tr>\n",
       "      <th>2022-06-09</th>\n",
       "      <td>40.692654</td>\n",
       "      <td>2023-06-09</td>\n",
       "      <td>6</td>\n",
       "      <td>36.7</td>\n",
       "      <td>3.992654</td>\n",
       "    </tr>\n",
       "    <tr>\n",
       "      <th>2022-06-10</th>\n",
       "      <td>40.526066</td>\n",
       "      <td>2023-06-10</td>\n",
       "      <td>6</td>\n",
       "      <td>36.7</td>\n",
       "      <td>3.826066</td>\n",
       "    </tr>\n",
       "    <tr>\n",
       "      <th>2022-06-11</th>\n",
       "      <td>40.190506</td>\n",
       "      <td>2023-06-11</td>\n",
       "      <td>6</td>\n",
       "      <td>36.7</td>\n",
       "      <td>3.490506</td>\n",
       "    </tr>\n",
       "  </tbody>\n",
       "</table>\n",
       "</div>"
      ],
      "text/plain": [
       "             temp_max       date  month  normal      diff\n",
       "Date                                                     \n",
       "2022-04-16  40.245605 2023-04-16      4    39.5  0.745605\n",
       "2022-04-17  40.711765 2023-04-17      4    39.5  1.211765\n",
       "2022-04-18  41.014343 2023-04-18      4    39.5  1.514343\n",
       "2022-04-19  41.395901 2023-04-19      4    39.5  1.895901\n",
       "2022-04-20  41.279461 2023-04-20      4    39.5  1.779461\n",
       "2022-04-21  41.488380 2023-04-21      4    39.5  1.988380\n",
       "2022-04-22  41.515041 2023-04-22      4    39.5  2.015041\n",
       "2022-04-23  41.949757 2023-04-23      4    39.5  2.449757\n",
       "2022-04-24  41.941357 2023-04-24      4    39.5  2.441357\n",
       "2022-04-25  41.938351 2023-04-25      4    39.5  2.438351\n",
       "2022-04-26  41.783287 2023-04-26      4    39.5  2.283287\n",
       "2022-04-27  41.304165 2023-04-27      4    39.5  1.804165\n",
       "2022-04-28  41.849018 2023-04-28      4    39.5  2.349018\n",
       "2022-04-29  42.041080 2023-04-29      4    39.5  2.541080\n",
       "2022-04-30  41.801495 2023-04-30      4    39.5  2.301495\n",
       "2022-05-01  41.649014 2023-05-01      5    41.4  0.249014\n",
       "2022-05-02  41.222279 2023-05-02      5    41.4 -0.177721\n",
       "2022-05-03  40.923336 2023-05-03      5    41.4 -0.476664\n",
       "2022-05-04  40.786026 2023-05-04      5    41.4 -0.613974\n",
       "2022-05-05  40.125759 2023-05-05      5    41.4 -1.274241\n",
       "2022-05-29  40.600418 2023-05-29      5    41.4 -0.799582\n",
       "2022-05-30  40.754158 2023-05-30      5    41.4 -0.645842\n",
       "2022-05-31  41.185703 2023-05-31      5    41.4 -0.214297\n",
       "2022-06-01  41.693218 2023-06-01      6    36.7  4.993218\n",
       "2022-06-02  41.817101 2023-06-02      6    36.7  5.117101\n",
       "2022-06-03  42.200661 2023-06-03      6    36.7  5.500661\n",
       "2022-06-04  41.554981 2023-06-04      6    36.7  4.854981\n",
       "2022-06-05  41.435558 2023-06-05      6    36.7  4.735558\n",
       "2022-06-06  41.370594 2023-06-06      6    36.7  4.670594\n",
       "2022-06-07  40.778244 2023-06-07      6    36.7  4.078244\n",
       "2022-06-08  40.888111 2023-06-08      6    36.7  4.188111\n",
       "2022-06-09  40.692654 2023-06-09      6    36.7  3.992654\n",
       "2022-06-10  40.526066 2023-06-10      6    36.7  3.826066\n",
       "2022-06-11  40.190506 2023-06-11      6    36.7  3.490506"
      ]
     },
     "execution_count": 23,
     "metadata": {},
     "output_type": "execute_result"
    }
   ],
   "source": [
    "pred2[\"diff\"]= pred2['temp_max']-pred2['normal']\n",
    "pred2"
   ]
  },
  {
   "cell_type": "code",
   "execution_count": 29,
   "id": "47937fad",
   "metadata": {
    "scrolled": true
   },
   "outputs": [
    {
     "name": "stderr",
     "output_type": "stream",
     "text": [
      "C:\\Users\\Lenovo\\AppData\\Local\\Temp\\ipykernel_7660\\2844977100.py:2: SettingWithCopyWarning: \n",
      "A value is trying to be set on a copy of a slice from a DataFrame.\n",
      "Try using .loc[row_indexer,col_indexer] = value instead\n",
      "\n",
      "See the caveats in the documentation: https://pandas.pydata.org/pandas-docs/stable/user_guide/indexing.html#returning-a-view-versus-a-copy\n",
      "  pred3[\"heat\"]=(pred3[\"temp_max\"]).astype(str)\n"
     ]
    },
    {
     "data": {
      "text/html": [
       "<div>\n",
       "<style scoped>\n",
       "    .dataframe tbody tr th:only-of-type {\n",
       "        vertical-align: middle;\n",
       "    }\n",
       "\n",
       "    .dataframe tbody tr th {\n",
       "        vertical-align: top;\n",
       "    }\n",
       "\n",
       "    .dataframe thead th {\n",
       "        text-align: right;\n",
       "    }\n",
       "</style>\n",
       "<table border=\"1\" class=\"dataframe\">\n",
       "  <thead>\n",
       "    <tr style=\"text-align: right;\">\n",
       "      <th></th>\n",
       "      <th>temp_max</th>\n",
       "      <th>date</th>\n",
       "      <th>month</th>\n",
       "      <th>normal</th>\n",
       "      <th>diff</th>\n",
       "      <th>heat</th>\n",
       "    </tr>\n",
       "    <tr>\n",
       "      <th>Date</th>\n",
       "      <th></th>\n",
       "      <th></th>\n",
       "      <th></th>\n",
       "      <th></th>\n",
       "      <th></th>\n",
       "      <th></th>\n",
       "    </tr>\n",
       "  </thead>\n",
       "  <tbody>\n",
       "    <tr>\n",
       "      <th>2022-06-02</th>\n",
       "      <td>41.817101</td>\n",
       "      <td>2023-06-02</td>\n",
       "      <td>6</td>\n",
       "      <td>36.7</td>\n",
       "      <td>5.117101</td>\n",
       "      <td>41.8171</td>\n",
       "    </tr>\n",
       "    <tr>\n",
       "      <th>2022-06-03</th>\n",
       "      <td>42.200661</td>\n",
       "      <td>2023-06-03</td>\n",
       "      <td>6</td>\n",
       "      <td>36.7</td>\n",
       "      <td>5.500661</td>\n",
       "      <td>42.20066</td>\n",
       "    </tr>\n",
       "  </tbody>\n",
       "</table>\n",
       "</div>"
      ],
      "text/plain": [
       "             temp_max       date  month  normal      diff      heat\n",
       "Date                                                               \n",
       "2022-06-02  41.817101 2023-06-02      6    36.7  5.117101   41.8171\n",
       "2022-06-03  42.200661 2023-06-03      6    36.7  5.500661  42.20066"
      ]
     },
     "execution_count": 29,
     "metadata": {},
     "output_type": "execute_result"
    }
   ],
   "source": [
    "pred3=pred2.loc[((pred2['normal']<=40) & (pred2['diff']>=5)) | ((pred2['normal']>=40) & (pred2['diff']>=4)) | (pred2['temp_max']>=45)]\n",
    "pred3[\"heat\"]=(pred3[\"temp_max\"]).astype(str)\n",
    "pred3"
   ]
  },
  {
   "cell_type": "code",
   "execution_count": 30,
   "id": "5e237585",
   "metadata": {},
   "outputs": [
    {
     "name": "stderr",
     "output_type": "stream",
     "text": [
      "C:\\Users\\Lenovo\\AppData\\Local\\Temp\\ipykernel_7660\\1608767477.py:3: SettingWithCopyWarning: \n",
      "A value is trying to be set on a copy of a slice from a DataFrame\n",
      "\n",
      "See the caveats in the documentation: https://pandas.pydata.org/pandas-docs/stable/user_guide/indexing.html#returning-a-view-versus-a-copy\n",
      "  pred3['heat'][i]='Warning! Heatwave expected'\n"
     ]
    }
   ],
   "source": [
    "for i in range(len(pred3['temp_max'])):\n",
    "    if (((pred3['normal'][i]<=40) & (pred2['diff'][i]<7)) | ((pred2['normal'][i]>40) & (pred2['diff'][i]<6))):\n",
    "        pred3['heat'][i]='Warning! Heatwave expected'\n",
    "    elif (((pred3['normal'][i]<=40) & (pred2['diff'][i]>=7)) | ((pred2['normal'][i]>40) & (pred2['diff'][i]>=6)) | (pred2['temp_max']>=45)):\n",
    "        pred3['heat'][i]='Warning! Severe Heatwave expected'"
   ]
  },
  {
   "cell_type": "code",
   "execution_count": 31,
   "id": "57d2dcee",
   "metadata": {
    "scrolled": true
   },
   "outputs": [
    {
     "data": {
      "text/html": [
       "<div>\n",
       "<style scoped>\n",
       "    .dataframe tbody tr th:only-of-type {\n",
       "        vertical-align: middle;\n",
       "    }\n",
       "\n",
       "    .dataframe tbody tr th {\n",
       "        vertical-align: top;\n",
       "    }\n",
       "\n",
       "    .dataframe thead th {\n",
       "        text-align: right;\n",
       "    }\n",
       "</style>\n",
       "<table border=\"1\" class=\"dataframe\">\n",
       "  <thead>\n",
       "    <tr style=\"text-align: right;\">\n",
       "      <th></th>\n",
       "      <th>temp_max</th>\n",
       "      <th>heat</th>\n",
       "    </tr>\n",
       "    <tr>\n",
       "      <th>date</th>\n",
       "      <th></th>\n",
       "      <th></th>\n",
       "    </tr>\n",
       "  </thead>\n",
       "  <tbody>\n",
       "    <tr>\n",
       "      <th>2023-06-02</th>\n",
       "      <td>41.817101</td>\n",
       "      <td>Warning! Heatwave expected</td>\n",
       "    </tr>\n",
       "    <tr>\n",
       "      <th>2023-06-03</th>\n",
       "      <td>42.200661</td>\n",
       "      <td>Warning! Heatwave expected</td>\n",
       "    </tr>\n",
       "  </tbody>\n",
       "</table>\n",
       "</div>"
      ],
      "text/plain": [
       "             temp_max                        heat\n",
       "date                                             \n",
       "2023-06-02  41.817101  Warning! Heatwave expected\n",
       "2023-06-03  42.200661  Warning! Heatwave expected"
      ]
     },
     "execution_count": 31,
     "metadata": {},
     "output_type": "execute_result"
    }
   ],
   "source": [
    "pred3=pred3.set_index('date')\n",
    "pred3=pred3.drop(['month', 'normal', 'diff'], axis=1)\n",
    "pred3 # Final data frame containing prediction of the date of heatwave for Karimnagar district"
   ]
  },
  {
   "cell_type": "code",
   "execution_count": 32,
   "id": "cd951436",
   "metadata": {},
   "outputs": [],
   "source": [
    "pred3.to_csv(\"C:\\\\Users\\\\Lenovo\\\\Desktop\\\\NASSCOM\\\\Prediction\\\\karimnagar_heatwave_prediction.csv\") # Saving to a  csv file"
   ]
  }
 ],
 "metadata": {
  "kernelspec": {
   "display_name": "Python 3 (ipykernel)",
   "language": "python",
   "name": "python3"
  },
  "language_info": {
   "codemirror_mode": {
    "name": "ipython",
    "version": 3
   },
   "file_extension": ".py",
   "mimetype": "text/x-python",
   "name": "python",
   "nbconvert_exporter": "python",
   "pygments_lexer": "ipython3",
   "version": "3.10.7"
  }
 },
 "nbformat": 4,
 "nbformat_minor": 5
}
