{
 "cells": [
  {
   "cell_type": "code",
   "execution_count": 4,
   "id": "c671b3c1",
   "metadata": {},
   "outputs": [],
   "source": [
    "import pandas as pd\n",
    "import numpy as np\n",
    "import matplotlib.pyplot as plt"
   ]
  },
  {
   "cell_type": "code",
   "execution_count": 5,
   "id": "2806914e",
   "metadata": {},
   "outputs": [],
   "source": [
    "df= pd.read_csv(\"C:\\\\Users\\\\Lenovo\\\\Desktop\\\\NASSCOM\\\\Dataset District\\\\NASA\\\\khammam_nasa.csv\")"
   ]
  },
  {
   "cell_type": "code",
   "execution_count": 5,
   "id": "0348d43c",
   "metadata": {},
   "outputs": [
    {
     "data": {
      "text/html": [
       "<div>\n",
       "<style scoped>\n",
       "    .dataframe tbody tr th:only-of-type {\n",
       "        vertical-align: middle;\n",
       "    }\n",
       "\n",
       "    .dataframe tbody tr th {\n",
       "        vertical-align: top;\n",
       "    }\n",
       "\n",
       "    .dataframe thead th {\n",
       "        text-align: right;\n",
       "    }\n",
       "</style>\n",
       "<table border=\"1\" class=\"dataframe\">\n",
       "  <thead>\n",
       "    <tr style=\"text-align: right;\">\n",
       "      <th></th>\n",
       "      <th>Date</th>\n",
       "      <th>temp_max</th>\n",
       "      <th>rainfall</th>\n",
       "    </tr>\n",
       "  </thead>\n",
       "  <tbody>\n",
       "    <tr>\n",
       "      <th>0</th>\n",
       "      <td>1/1/1991</td>\n",
       "      <td>32.26</td>\n",
       "      <td>0.06</td>\n",
       "    </tr>\n",
       "    <tr>\n",
       "      <th>1</th>\n",
       "      <td>2/1/1991</td>\n",
       "      <td>33.29</td>\n",
       "      <td>2.19</td>\n",
       "    </tr>\n",
       "    <tr>\n",
       "      <th>2</th>\n",
       "      <td>3/1/1991</td>\n",
       "      <td>30.77</td>\n",
       "      <td>0.07</td>\n",
       "    </tr>\n",
       "    <tr>\n",
       "      <th>3</th>\n",
       "      <td>4/1/1991</td>\n",
       "      <td>31.57</td>\n",
       "      <td>0.00</td>\n",
       "    </tr>\n",
       "    <tr>\n",
       "      <th>4</th>\n",
       "      <td>5/1/1991</td>\n",
       "      <td>31.28</td>\n",
       "      <td>0.00</td>\n",
       "    </tr>\n",
       "    <tr>\n",
       "      <th>...</th>\n",
       "      <td>...</td>\n",
       "      <td>...</td>\n",
       "      <td>...</td>\n",
       "    </tr>\n",
       "    <tr>\n",
       "      <th>11683</th>\n",
       "      <td>27/12/2022</td>\n",
       "      <td>29.05</td>\n",
       "      <td>0.38</td>\n",
       "    </tr>\n",
       "    <tr>\n",
       "      <th>11684</th>\n",
       "      <td>28/12/2022</td>\n",
       "      <td>29.52</td>\n",
       "      <td>0.36</td>\n",
       "    </tr>\n",
       "    <tr>\n",
       "      <th>11685</th>\n",
       "      <td>29/12/2022</td>\n",
       "      <td>29.52</td>\n",
       "      <td>0.44</td>\n",
       "    </tr>\n",
       "    <tr>\n",
       "      <th>11686</th>\n",
       "      <td>30/12/2022</td>\n",
       "      <td>29.23</td>\n",
       "      <td>0.07</td>\n",
       "    </tr>\n",
       "    <tr>\n",
       "      <th>11687</th>\n",
       "      <td>31/12/2022</td>\n",
       "      <td>28.94</td>\n",
       "      <td>0.09</td>\n",
       "    </tr>\n",
       "  </tbody>\n",
       "</table>\n",
       "<p>11688 rows × 3 columns</p>\n",
       "</div>"
      ],
      "text/plain": [
       "             Date  temp_max  rainfall\n",
       "0        1/1/1991     32.26      0.06\n",
       "1        2/1/1991     33.29      2.19\n",
       "2        3/1/1991     30.77      0.07\n",
       "3        4/1/1991     31.57      0.00\n",
       "4        5/1/1991     31.28      0.00\n",
       "...           ...       ...       ...\n",
       "11683  27/12/2022     29.05      0.38\n",
       "11684  28/12/2022     29.52      0.36\n",
       "11685  29/12/2022     29.52      0.44\n",
       "11686  30/12/2022     29.23      0.07\n",
       "11687  31/12/2022     28.94      0.09\n",
       "\n",
       "[11688 rows x 3 columns]"
      ]
     },
     "execution_count": 5,
     "metadata": {},
     "output_type": "execute_result"
    }
   ],
   "source": [
    "df"
   ]
  },
  {
   "cell_type": "code",
   "execution_count": 6,
   "id": "cbd7488c",
   "metadata": {},
   "outputs": [
    {
     "data": {
      "text/html": [
       "<div>\n",
       "<style scoped>\n",
       "    .dataframe tbody tr th:only-of-type {\n",
       "        vertical-align: middle;\n",
       "    }\n",
       "\n",
       "    .dataframe tbody tr th {\n",
       "        vertical-align: top;\n",
       "    }\n",
       "\n",
       "    .dataframe thead th {\n",
       "        text-align: right;\n",
       "    }\n",
       "</style>\n",
       "<table border=\"1\" class=\"dataframe\">\n",
       "  <thead>\n",
       "    <tr style=\"text-align: right;\">\n",
       "      <th></th>\n",
       "      <th>temp_max</th>\n",
       "      <th>rainfall</th>\n",
       "    </tr>\n",
       "  </thead>\n",
       "  <tbody>\n",
       "    <tr>\n",
       "      <th>count</th>\n",
       "      <td>11688.000000</td>\n",
       "      <td>11688.000000</td>\n",
       "    </tr>\n",
       "    <tr>\n",
       "      <th>mean</th>\n",
       "      <td>34.207505</td>\n",
       "      <td>2.537105</td>\n",
       "    </tr>\n",
       "    <tr>\n",
       "      <th>std</th>\n",
       "      <td>4.935310</td>\n",
       "      <td>6.305834</td>\n",
       "    </tr>\n",
       "    <tr>\n",
       "      <th>min</th>\n",
       "      <td>21.650000</td>\n",
       "      <td>0.000000</td>\n",
       "    </tr>\n",
       "    <tr>\n",
       "      <th>25%</th>\n",
       "      <td>30.417500</td>\n",
       "      <td>0.000000</td>\n",
       "    </tr>\n",
       "    <tr>\n",
       "      <th>50%</th>\n",
       "      <td>32.830000</td>\n",
       "      <td>0.050000</td>\n",
       "    </tr>\n",
       "    <tr>\n",
       "      <th>75%</th>\n",
       "      <td>37.850000</td>\n",
       "      <td>2.080000</td>\n",
       "    </tr>\n",
       "    <tr>\n",
       "      <th>max</th>\n",
       "      <td>48.050000</td>\n",
       "      <td>100.800000</td>\n",
       "    </tr>\n",
       "  </tbody>\n",
       "</table>\n",
       "</div>"
      ],
      "text/plain": [
       "           temp_max      rainfall\n",
       "count  11688.000000  11688.000000\n",
       "mean      34.207505      2.537105\n",
       "std        4.935310      6.305834\n",
       "min       21.650000      0.000000\n",
       "25%       30.417500      0.000000\n",
       "50%       32.830000      0.050000\n",
       "75%       37.850000      2.080000\n",
       "max       48.050000    100.800000"
      ]
     },
     "execution_count": 6,
     "metadata": {},
     "output_type": "execute_result"
    }
   ],
   "source": [
    "df.describe()"
   ]
  },
  {
   "cell_type": "code",
   "execution_count": 7,
   "id": "e911e9f0",
   "metadata": {},
   "outputs": [],
   "source": [
    "df['Date']= pd.to_datetime(df.Date, format=\"%d/%m/%Y\")\n",
    "df= df.set_index('Date') # Converting the date column into datetime object and setting it as index "
   ]
  },
  {
   "cell_type": "code",
   "execution_count": 8,
   "id": "7aff70ff",
   "metadata": {},
   "outputs": [],
   "source": [
    "df['temp_max']=df[\"temp_max\"]/50\n",
    "df['rainfall']=df['rainfall']/(df['rainfall'].max())"
   ]
  },
  {
   "cell_type": "code",
   "execution_count": 9,
   "id": "b300d7e1",
   "metadata": {},
   "outputs": [
    {
     "data": {
      "text/html": [
       "<div>\n",
       "<style scoped>\n",
       "    .dataframe tbody tr th:only-of-type {\n",
       "        vertical-align: middle;\n",
       "    }\n",
       "\n",
       "    .dataframe tbody tr th {\n",
       "        vertical-align: top;\n",
       "    }\n",
       "\n",
       "    .dataframe thead th {\n",
       "        text-align: right;\n",
       "    }\n",
       "</style>\n",
       "<table border=\"1\" class=\"dataframe\">\n",
       "  <thead>\n",
       "    <tr style=\"text-align: right;\">\n",
       "      <th></th>\n",
       "      <th>temp_max</th>\n",
       "      <th>rainfall</th>\n",
       "    </tr>\n",
       "  </thead>\n",
       "  <tbody>\n",
       "    <tr>\n",
       "      <th>count</th>\n",
       "      <td>11688.000000</td>\n",
       "      <td>11688.000000</td>\n",
       "    </tr>\n",
       "    <tr>\n",
       "      <th>mean</th>\n",
       "      <td>0.684150</td>\n",
       "      <td>0.025170</td>\n",
       "    </tr>\n",
       "    <tr>\n",
       "      <th>std</th>\n",
       "      <td>0.098706</td>\n",
       "      <td>0.062558</td>\n",
       "    </tr>\n",
       "    <tr>\n",
       "      <th>min</th>\n",
       "      <td>0.433000</td>\n",
       "      <td>0.000000</td>\n",
       "    </tr>\n",
       "    <tr>\n",
       "      <th>25%</th>\n",
       "      <td>0.608350</td>\n",
       "      <td>0.000000</td>\n",
       "    </tr>\n",
       "    <tr>\n",
       "      <th>50%</th>\n",
       "      <td>0.656600</td>\n",
       "      <td>0.000496</td>\n",
       "    </tr>\n",
       "    <tr>\n",
       "      <th>75%</th>\n",
       "      <td>0.757000</td>\n",
       "      <td>0.020635</td>\n",
       "    </tr>\n",
       "    <tr>\n",
       "      <th>max</th>\n",
       "      <td>0.961000</td>\n",
       "      <td>1.000000</td>\n",
       "    </tr>\n",
       "  </tbody>\n",
       "</table>\n",
       "</div>"
      ],
      "text/plain": [
       "           temp_max      rainfall\n",
       "count  11688.000000  11688.000000\n",
       "mean       0.684150      0.025170\n",
       "std        0.098706      0.062558\n",
       "min        0.433000      0.000000\n",
       "25%        0.608350      0.000000\n",
       "50%        0.656600      0.000496\n",
       "75%        0.757000      0.020635\n",
       "max        0.961000      1.000000"
      ]
     },
     "execution_count": 9,
     "metadata": {},
     "output_type": "execute_result"
    }
   ],
   "source": [
    "df.describe()"
   ]
  },
  {
   "cell_type": "code",
   "execution_count": 10,
   "id": "e71c3261",
   "metadata": {},
   "outputs": [
    {
     "name": "stdout",
     "output_type": "stream",
     "text": [
      "D\n"
     ]
    }
   ],
   "source": [
    "print(pd.infer_freq(df.index))"
   ]
  },
  {
   "cell_type": "code",
   "execution_count": 11,
   "id": "d3492e4a",
   "metadata": {},
   "outputs": [],
   "source": [
    "df1=df[:10958]"
   ]
  },
  {
   "cell_type": "code",
   "execution_count": 12,
   "id": "66a16fe0",
   "metadata": {},
   "outputs": [],
   "source": [
    "def create_data(df, lookback=365):\n",
    "    df_np= df.to_numpy()\n",
    "    X=[]\n",
    "    y=[]\n",
    "    \n",
    "    for i in range(len(df_np)-2*lookback):\n",
    "        row = [x for x in df_np[i:i+lookback]]\n",
    "        X.append(row)\n",
    "        label = [z[0] for z in df_np[i+lookback:i+(2*lookback)]]\n",
    "        y.append(label)\n",
    "    return np.array(X), np.array(y)"
   ]
  },
  {
   "cell_type": "code",
   "execution_count": 13,
   "id": "38d5b313",
   "metadata": {},
   "outputs": [],
   "source": [
    "X,y = create_data(df1)"
   ]
  },
  {
   "cell_type": "code",
   "execution_count": 15,
   "id": "ab43ab75",
   "metadata": {},
   "outputs": [
    {
     "data": {
      "text/plain": [
       "((10228, 365, 2), (10228, 365))"
      ]
     },
     "execution_count": 15,
     "metadata": {},
     "output_type": "execute_result"
    }
   ],
   "source": [
    "X.shape, y.shape"
   ]
  },
  {
   "cell_type": "code",
   "execution_count": 16,
   "id": "f341547c",
   "metadata": {},
   "outputs": [],
   "source": [
    "X_train, y_train, X_test, y_test = X[:9205], y[:9205], X[9205:], y[9205:]\n",
    "X_train, y_train, X_val, y_val= X_train[:8182], y_train[:8182], X_train[8182:9205], y_train[8182:9205]"
   ]
  },
  {
   "cell_type": "code",
   "execution_count": 17,
   "id": "c37c9b35",
   "metadata": {},
   "outputs": [
    {
     "data": {
      "text/plain": [
       "(8182, 1023, 1023)"
      ]
     },
     "execution_count": 17,
     "metadata": {},
     "output_type": "execute_result"
    }
   ],
   "source": [
    "len(X_train), len(X_val), len(X_test)"
   ]
  },
  {
   "cell_type": "code",
   "execution_count": 18,
   "id": "c2b05e2e",
   "metadata": {},
   "outputs": [
    {
     "data": {
      "text/plain": [
       "((8182, 365, 2), (8182, 365))"
      ]
     },
     "execution_count": 18,
     "metadata": {},
     "output_type": "execute_result"
    }
   ],
   "source": [
    "X_train.shape, y_train.shape"
   ]
  },
  {
   "cell_type": "code",
   "execution_count": 19,
   "id": "123c11dd",
   "metadata": {},
   "outputs": [],
   "source": [
    "from tensorflow.keras.models import Sequential\n",
    "from tensorflow.keras.layers import *\n",
    "from tensorflow.keras.losses import MeanSquaredError\n",
    "from tensorflow.keras.callbacks import ModelCheckpoint\n",
    "from tensorflow.keras.metrics import MeanAbsolutePercentageError\n",
    "from tensorflow.keras.optimizers import Adam"
   ]
  },
  {
   "cell_type": "code",
   "execution_count": 20,
   "id": "6facca2e",
   "metadata": {},
   "outputs": [
    {
     "name": "stdout",
     "output_type": "stream",
     "text": [
      "Model: \"sequential\"\n",
      "_________________________________________________________________\n",
      " Layer (type)                Output Shape              Param #   \n",
      "=================================================================\n",
      " lstm (LSTM)                 (None, 128)               67072     \n",
      "                                                                 \n",
      " dropout (Dropout)           (None, 128)               0         \n",
      "                                                                 \n",
      " dense (Dense)               (None, 512)               66048     \n",
      "                                                                 \n",
      " dense_1 (Dense)             (None, 365)               187245    \n",
      "                                                                 \n",
      "=================================================================\n",
      "Total params: 320,365\n",
      "Trainable params: 320,365\n",
      "Non-trainable params: 0\n",
      "_________________________________________________________________\n"
     ]
    }
   ],
   "source": [
    "khammam_temp= Sequential([\n",
    "    InputLayer((365,2)),\n",
    "    LSTM(units=128),\n",
    "    Dropout(0.2),\n",
    "    Dense(512, activation='relu'),\n",
    "    Dense(365, activation='relu'),  \n",
    "])\n",
    "\n",
    "khammam_temp.summary()"
   ]
  },
  {
   "cell_type": "code",
   "execution_count": 21,
   "id": "4ab282a2",
   "metadata": {},
   "outputs": [
    {
     "name": "stdout",
     "output_type": "stream",
     "text": [
      "Epoch 1/200\n",
      "256/256 [==============================] - ETA: 0s - loss: 0.0615 - mean_absolute_percentage_error: 22.8565"
     ]
    },
    {
     "name": "stderr",
     "output_type": "stream",
     "text": [
      "WARNING:absl:Found untraced functions such as lstm_cell_layer_call_fn, lstm_cell_layer_call_and_return_conditional_losses while saving (showing 2 of 2). These functions will not be directly callable after loading.\n"
     ]
    },
    {
     "name": "stdout",
     "output_type": "stream",
     "text": [
      "INFO:tensorflow:Assets written to: khammam_temp\\assets\n"
     ]
    },
    {
     "name": "stderr",
     "output_type": "stream",
     "text": [
      "INFO:tensorflow:Assets written to: khammam_temp\\assets\n"
     ]
    },
    {
     "name": "stdout",
     "output_type": "stream",
     "text": [
      "256/256 [==============================] - 13s 40ms/step - loss: 0.0615 - mean_absolute_percentage_error: 22.8565 - val_loss: 0.0474 - val_mean_absolute_percentage_error: 16.7631\n",
      "Epoch 2/200\n",
      "255/256 [============================>.] - ETA: 0s - loss: 0.0392 - mean_absolute_percentage_error: 16.0244"
     ]
    },
    {
     "name": "stderr",
     "output_type": "stream",
     "text": [
      "WARNING:absl:Found untraced functions such as lstm_cell_layer_call_fn, lstm_cell_layer_call_and_return_conditional_losses while saving (showing 2 of 2). These functions will not be directly callable after loading.\n"
     ]
    },
    {
     "name": "stdout",
     "output_type": "stream",
     "text": [
      "INFO:tensorflow:Assets written to: khammam_temp\\assets\n"
     ]
    },
    {
     "name": "stderr",
     "output_type": "stream",
     "text": [
      "INFO:tensorflow:Assets written to: khammam_temp\\assets\n"
     ]
    },
    {
     "name": "stdout",
     "output_type": "stream",
     "text": [
      "256/256 [==============================] - 10s 39ms/step - loss: 0.0391 - mean_absolute_percentage_error: 16.0180 - val_loss: 0.0359 - val_mean_absolute_percentage_error: 13.6979\n",
      "Epoch 3/200\n",
      "255/256 [============================>.] - ETA: 0s - loss: 0.0290 - mean_absolute_percentage_error: 11.8093"
     ]
    },
    {
     "name": "stderr",
     "output_type": "stream",
     "text": [
      "WARNING:absl:Found untraced functions such as lstm_cell_layer_call_fn, lstm_cell_layer_call_and_return_conditional_losses while saving (showing 2 of 2). These functions will not be directly callable after loading.\n"
     ]
    },
    {
     "name": "stdout",
     "output_type": "stream",
     "text": [
      "INFO:tensorflow:Assets written to: khammam_temp\\assets\n"
     ]
    },
    {
     "name": "stderr",
     "output_type": "stream",
     "text": [
      "INFO:tensorflow:Assets written to: khammam_temp\\assets\n"
     ]
    },
    {
     "name": "stdout",
     "output_type": "stream",
     "text": [
      "256/256 [==============================] - 10s 38ms/step - loss: 0.0290 - mean_absolute_percentage_error: 11.8063 - val_loss: 0.0262 - val_mean_absolute_percentage_error: 11.9674\n",
      "Epoch 4/200\n",
      "255/256 [============================>.] - ETA: 0s - loss: 0.0230 - mean_absolute_percentage_error: 10.0215"
     ]
    },
    {
     "name": "stderr",
     "output_type": "stream",
     "text": [
      "WARNING:absl:Found untraced functions such as lstm_cell_layer_call_fn, lstm_cell_layer_call_and_return_conditional_losses while saving (showing 2 of 2). These functions will not be directly callable after loading.\n"
     ]
    },
    {
     "name": "stdout",
     "output_type": "stream",
     "text": [
      "INFO:tensorflow:Assets written to: khammam_temp\\assets\n"
     ]
    },
    {
     "name": "stderr",
     "output_type": "stream",
     "text": [
      "INFO:tensorflow:Assets written to: khammam_temp\\assets\n"
     ]
    },
    {
     "name": "stdout",
     "output_type": "stream",
     "text": [
      "256/256 [==============================] - 10s 38ms/step - loss: 0.0230 - mean_absolute_percentage_error: 10.0202 - val_loss: 0.0227 - val_mean_absolute_percentage_error: 10.7924\n",
      "Epoch 5/200\n",
      "255/256 [============================>.] - ETA: 0s - loss: 0.0198 - mean_absolute_percentage_error: 9.1985"
     ]
    },
    {
     "name": "stderr",
     "output_type": "stream",
     "text": [
      "WARNING:absl:Found untraced functions such as lstm_cell_layer_call_fn, lstm_cell_layer_call_and_return_conditional_losses while saving (showing 2 of 2). These functions will not be directly callable after loading.\n"
     ]
    },
    {
     "name": "stdout",
     "output_type": "stream",
     "text": [
      "INFO:tensorflow:Assets written to: khammam_temp\\assets\n"
     ]
    },
    {
     "name": "stderr",
     "output_type": "stream",
     "text": [
      "INFO:tensorflow:Assets written to: khammam_temp\\assets\n"
     ]
    },
    {
     "name": "stdout",
     "output_type": "stream",
     "text": [
      "256/256 [==============================] - 10s 39ms/step - loss: 0.0198 - mean_absolute_percentage_error: 9.1974 - val_loss: 0.0213 - val_mean_absolute_percentage_error: 10.5670\n",
      "Epoch 6/200\n",
      "256/256 [==============================] - ETA: 0s - loss: 0.0195 - mean_absolute_percentage_error: 9.0454"
     ]
    },
    {
     "name": "stderr",
     "output_type": "stream",
     "text": [
      "WARNING:absl:Found untraced functions such as lstm_cell_layer_call_fn, lstm_cell_layer_call_and_return_conditional_losses while saving (showing 2 of 2). These functions will not be directly callable after loading.\n"
     ]
    },
    {
     "name": "stdout",
     "output_type": "stream",
     "text": [
      "INFO:tensorflow:Assets written to: khammam_temp\\assets\n"
     ]
    },
    {
     "name": "stderr",
     "output_type": "stream",
     "text": [
      "INFO:tensorflow:Assets written to: khammam_temp\\assets\n"
     ]
    },
    {
     "name": "stdout",
     "output_type": "stream",
     "text": [
      "256/256 [==============================] - 10s 37ms/step - loss: 0.0195 - mean_absolute_percentage_error: 9.0454 - val_loss: 0.0207 - val_mean_absolute_percentage_error: 9.7822\n",
      "Epoch 7/200\n",
      "255/256 [============================>.] - ETA: 0s - loss: 0.0194 - mean_absolute_percentage_error: 8.9570"
     ]
    },
    {
     "name": "stderr",
     "output_type": "stream",
     "text": [
      "WARNING:absl:Found untraced functions such as lstm_cell_layer_call_fn, lstm_cell_layer_call_and_return_conditional_losses while saving (showing 2 of 2). These functions will not be directly callable after loading.\n"
     ]
    },
    {
     "name": "stdout",
     "output_type": "stream",
     "text": [
      "INFO:tensorflow:Assets written to: khammam_temp\\assets\n"
     ]
    },
    {
     "name": "stderr",
     "output_type": "stream",
     "text": [
      "INFO:tensorflow:Assets written to: khammam_temp\\assets\n"
     ]
    },
    {
     "name": "stdout",
     "output_type": "stream",
     "text": [
      "256/256 [==============================] - 10s 38ms/step - loss: 0.0194 - mean_absolute_percentage_error: 8.9564 - val_loss: 0.0203 - val_mean_absolute_percentage_error: 9.3611\n",
      "Epoch 8/200\n",
      "256/256 [==============================] - 7s 28ms/step - loss: 0.0194 - mean_absolute_percentage_error: 8.9139 - val_loss: 0.0205 - val_mean_absolute_percentage_error: 9.5197\n",
      "Epoch 9/200\n",
      "256/256 [==============================] - 7s 27ms/step - loss: 0.0193 - mean_absolute_percentage_error: 8.8915 - val_loss: 0.0207 - val_mean_absolute_percentage_error: 9.9188\n",
      "Epoch 10/200\n",
      "256/256 [==============================] - 7s 28ms/step - loss: 0.0193 - mean_absolute_percentage_error: 8.8519 - val_loss: 0.0206 - val_mean_absolute_percentage_error: 9.7225\n",
      "Epoch 11/200\n",
      "255/256 [============================>.] - ETA: 0s - loss: 0.0181 - mean_absolute_percentage_error: 8.6187"
     ]
    },
    {
     "name": "stderr",
     "output_type": "stream",
     "text": [
      "WARNING:absl:Found untraced functions such as lstm_cell_layer_call_fn, lstm_cell_layer_call_and_return_conditional_losses while saving (showing 2 of 2). These functions will not be directly callable after loading.\n"
     ]
    },
    {
     "name": "stdout",
     "output_type": "stream",
     "text": [
      "INFO:tensorflow:Assets written to: khammam_temp\\assets\n"
     ]
    },
    {
     "name": "stderr",
     "output_type": "stream",
     "text": [
      "INFO:tensorflow:Assets written to: khammam_temp\\assets\n"
     ]
    },
    {
     "name": "stdout",
     "output_type": "stream",
     "text": [
      "256/256 [==============================] - 10s 38ms/step - loss: 0.0181 - mean_absolute_percentage_error: 8.6188 - val_loss: 0.0190 - val_mean_absolute_percentage_error: 9.1541\n",
      "Epoch 12/200\n",
      "255/256 [============================>.] - ETA: 0s - loss: 0.0180 - mean_absolute_percentage_error: 8.5820"
     ]
    },
    {
     "name": "stderr",
     "output_type": "stream",
     "text": [
      "WARNING:absl:Found untraced functions such as lstm_cell_layer_call_fn, lstm_cell_layer_call_and_return_conditional_losses while saving (showing 2 of 2). These functions will not be directly callable after loading.\n"
     ]
    },
    {
     "name": "stdout",
     "output_type": "stream",
     "text": [
      "INFO:tensorflow:Assets written to: khammam_temp\\assets\n"
     ]
    },
    {
     "name": "stderr",
     "output_type": "stream",
     "text": [
      "INFO:tensorflow:Assets written to: khammam_temp\\assets\n"
     ]
    },
    {
     "name": "stdout",
     "output_type": "stream",
     "text": [
      "256/256 [==============================] - 10s 37ms/step - loss: 0.0180 - mean_absolute_percentage_error: 8.5815 - val_loss: 0.0190 - val_mean_absolute_percentage_error: 9.0965\n",
      "Epoch 13/200\n",
      "256/256 [==============================] - 7s 29ms/step - loss: 0.0180 - mean_absolute_percentage_error: 8.5383 - val_loss: 0.0193 - val_mean_absolute_percentage_error: 9.4497\n",
      "Epoch 14/200\n",
      "256/256 [==============================] - 7s 28ms/step - loss: 0.0179 - mean_absolute_percentage_error: 8.4968 - val_loss: 0.0193 - val_mean_absolute_percentage_error: 9.4964\n",
      "Epoch 15/200\n",
      "255/256 [============================>.] - ETA: 0s - loss: 0.0175 - mean_absolute_percentage_error: 8.4530"
     ]
    },
    {
     "name": "stderr",
     "output_type": "stream",
     "text": [
      "WARNING:absl:Found untraced functions such as lstm_cell_layer_call_fn, lstm_cell_layer_call_and_return_conditional_losses while saving (showing 2 of 2). These functions will not be directly callable after loading.\n"
     ]
    },
    {
     "name": "stdout",
     "output_type": "stream",
     "text": [
      "INFO:tensorflow:Assets written to: khammam_temp\\assets\n"
     ]
    },
    {
     "name": "stderr",
     "output_type": "stream",
     "text": [
      "INFO:tensorflow:Assets written to: khammam_temp\\assets\n"
     ]
    },
    {
     "name": "stdout",
     "output_type": "stream",
     "text": [
      "256/256 [==============================] - 10s 39ms/step - loss: 0.0175 - mean_absolute_percentage_error: 8.4517 - val_loss: 0.0177 - val_mean_absolute_percentage_error: 8.9065\n",
      "Epoch 16/200\n",
      "256/256 [==============================] - ETA: 0s - loss: 0.0166 - mean_absolute_percentage_error: 8.2267"
     ]
    },
    {
     "name": "stderr",
     "output_type": "stream",
     "text": [
      "WARNING:absl:Found untraced functions such as lstm_cell_layer_call_fn, lstm_cell_layer_call_and_return_conditional_losses while saving (showing 2 of 2). These functions will not be directly callable after loading.\n"
     ]
    },
    {
     "name": "stdout",
     "output_type": "stream",
     "text": [
      "INFO:tensorflow:Assets written to: khammam_temp\\assets\n"
     ]
    },
    {
     "name": "stderr",
     "output_type": "stream",
     "text": [
      "INFO:tensorflow:Assets written to: khammam_temp\\assets\n"
     ]
    },
    {
     "name": "stdout",
     "output_type": "stream",
     "text": [
      "256/256 [==============================] - 10s 38ms/step - loss: 0.0166 - mean_absolute_percentage_error: 8.2267 - val_loss: 0.0175 - val_mean_absolute_percentage_error: 8.5643\n",
      "Epoch 17/200\n",
      "256/256 [==============================] - 7s 27ms/step - loss: 0.0166 - mean_absolute_percentage_error: 8.1795 - val_loss: 0.0177 - val_mean_absolute_percentage_error: 8.9021\n",
      "Epoch 18/200\n",
      "256/256 [==============================] - 7s 26ms/step - loss: 0.0166 - mean_absolute_percentage_error: 8.1570 - val_loss: 0.0182 - val_mean_absolute_percentage_error: 9.3640\n",
      "Epoch 19/200\n",
      "254/256 [============================>.] - ETA: 0s - loss: 0.0164 - mean_absolute_percentage_error: 8.1243"
     ]
    },
    {
     "name": "stderr",
     "output_type": "stream",
     "text": [
      "WARNING:absl:Found untraced functions such as lstm_cell_layer_call_fn, lstm_cell_layer_call_and_return_conditional_losses while saving (showing 2 of 2). These functions will not be directly callable after loading.\n"
     ]
    },
    {
     "name": "stdout",
     "output_type": "stream",
     "text": [
      "INFO:tensorflow:Assets written to: khammam_temp\\assets\n"
     ]
    },
    {
     "name": "stderr",
     "output_type": "stream",
     "text": [
      "INFO:tensorflow:Assets written to: khammam_temp\\assets\n"
     ]
    },
    {
     "name": "stdout",
     "output_type": "stream",
     "text": [
      "256/256 [==============================] - 9s 35ms/step - loss: 0.0164 - mean_absolute_percentage_error: 8.1223 - val_loss: 0.0173 - val_mean_absolute_percentage_error: 9.5194\n",
      "Epoch 20/200\n",
      "254/256 [============================>.] - ETA: 0s - loss: 0.0144 - mean_absolute_percentage_error: 7.7421"
     ]
    },
    {
     "name": "stderr",
     "output_type": "stream",
     "text": [
      "WARNING:absl:Found untraced functions such as lstm_cell_layer_call_fn, lstm_cell_layer_call_and_return_conditional_losses while saving (showing 2 of 2). These functions will not be directly callable after loading.\n"
     ]
    },
    {
     "name": "stdout",
     "output_type": "stream",
     "text": [
      "INFO:tensorflow:Assets written to: khammam_temp\\assets\n"
     ]
    },
    {
     "name": "stderr",
     "output_type": "stream",
     "text": [
      "INFO:tensorflow:Assets written to: khammam_temp\\assets\n"
     ]
    },
    {
     "name": "stdout",
     "output_type": "stream",
     "text": [
      "256/256 [==============================] - 10s 37ms/step - loss: 0.0144 - mean_absolute_percentage_error: 7.7412 - val_loss: 0.0153 - val_mean_absolute_percentage_error: 8.6838\n",
      "Epoch 21/200\n",
      "256/256 [==============================] - ETA: 0s - loss: 0.0134 - mean_absolute_percentage_error: 7.4868"
     ]
    },
    {
     "name": "stderr",
     "output_type": "stream",
     "text": [
      "WARNING:absl:Found untraced functions such as lstm_cell_layer_call_fn, lstm_cell_layer_call_and_return_conditional_losses while saving (showing 2 of 2). These functions will not be directly callable after loading.\n"
     ]
    },
    {
     "name": "stdout",
     "output_type": "stream",
     "text": [
      "INFO:tensorflow:Assets written to: khammam_temp\\assets\n"
     ]
    },
    {
     "name": "stderr",
     "output_type": "stream",
     "text": [
      "INFO:tensorflow:Assets written to: khammam_temp\\assets\n"
     ]
    },
    {
     "name": "stdout",
     "output_type": "stream",
     "text": [
      "256/256 [==============================] - 9s 37ms/step - loss: 0.0134 - mean_absolute_percentage_error: 7.4868 - val_loss: 0.0140 - val_mean_absolute_percentage_error: 8.3851\n",
      "Epoch 22/200\n",
      "256/256 [==============================] - ETA: 0s - loss: 0.0126 - mean_absolute_percentage_error: 7.3406"
     ]
    },
    {
     "name": "stderr",
     "output_type": "stream",
     "text": [
      "WARNING:absl:Found untraced functions such as lstm_cell_layer_call_fn, lstm_cell_layer_call_and_return_conditional_losses while saving (showing 2 of 2). These functions will not be directly callable after loading.\n"
     ]
    },
    {
     "name": "stdout",
     "output_type": "stream",
     "text": [
      "INFO:tensorflow:Assets written to: khammam_temp\\assets\n"
     ]
    },
    {
     "name": "stderr",
     "output_type": "stream",
     "text": [
      "INFO:tensorflow:Assets written to: khammam_temp\\assets\n"
     ]
    },
    {
     "name": "stdout",
     "output_type": "stream",
     "text": [
      "256/256 [==============================] - 10s 39ms/step - loss: 0.0126 - mean_absolute_percentage_error: 7.3406 - val_loss: 0.0135 - val_mean_absolute_percentage_error: 7.8745\n",
      "Epoch 23/200\n",
      "255/256 [============================>.] - ETA: 0s - loss: 0.0115 - mean_absolute_percentage_error: 7.1087"
     ]
    },
    {
     "name": "stderr",
     "output_type": "stream",
     "text": [
      "WARNING:absl:Found untraced functions such as lstm_cell_layer_call_fn, lstm_cell_layer_call_and_return_conditional_losses while saving (showing 2 of 2). These functions will not be directly callable after loading.\n"
     ]
    },
    {
     "name": "stdout",
     "output_type": "stream",
     "text": [
      "INFO:tensorflow:Assets written to: khammam_temp\\assets\n"
     ]
    },
    {
     "name": "stderr",
     "output_type": "stream",
     "text": [
      "INFO:tensorflow:Assets written to: khammam_temp\\assets\n"
     ]
    },
    {
     "name": "stdout",
     "output_type": "stream",
     "text": [
      "256/256 [==============================] - 10s 39ms/step - loss: 0.0115 - mean_absolute_percentage_error: 7.1083 - val_loss: 0.0122 - val_mean_absolute_percentage_error: 7.6902\n",
      "Epoch 24/200\n",
      "256/256 [==============================] - 7s 28ms/step - loss: 0.0113 - mean_absolute_percentage_error: 7.0377 - val_loss: 0.0124 - val_mean_absolute_percentage_error: 7.7281\n",
      "Epoch 25/200\n",
      "256/256 [==============================] - 7s 28ms/step - loss: 0.0113 - mean_absolute_percentage_error: 7.0196 - val_loss: 0.0125 - val_mean_absolute_percentage_error: 7.9550\n",
      "Epoch 26/200\n",
      "256/256 [==============================] - 7s 28ms/step - loss: 0.0113 - mean_absolute_percentage_error: 7.0391 - val_loss: 0.0127 - val_mean_absolute_percentage_error: 8.1658\n",
      "Epoch 27/200\n",
      "255/256 [============================>.] - ETA: 0s - loss: 0.0096 - mean_absolute_percentage_error: 6.6969"
     ]
    },
    {
     "name": "stderr",
     "output_type": "stream",
     "text": [
      "WARNING:absl:Found untraced functions such as lstm_cell_layer_call_fn, lstm_cell_layer_call_and_return_conditional_losses while saving (showing 2 of 2). These functions will not be directly callable after loading.\n"
     ]
    },
    {
     "name": "stdout",
     "output_type": "stream",
     "text": [
      "INFO:tensorflow:Assets written to: khammam_temp\\assets\n"
     ]
    },
    {
     "name": "stderr",
     "output_type": "stream",
     "text": [
      "INFO:tensorflow:Assets written to: khammam_temp\\assets\n"
     ]
    },
    {
     "name": "stdout",
     "output_type": "stream",
     "text": [
      "256/256 [==============================] - 9s 36ms/step - loss: 0.0096 - mean_absolute_percentage_error: 6.6971 - val_loss: 0.0105 - val_mean_absolute_percentage_error: 8.1957\n",
      "Epoch 28/200\n",
      "256/256 [==============================] - ETA: 0s - loss: 0.0081 - mean_absolute_percentage_error: 6.3756"
     ]
    },
    {
     "name": "stderr",
     "output_type": "stream",
     "text": [
      "WARNING:absl:Found untraced functions such as lstm_cell_layer_call_fn, lstm_cell_layer_call_and_return_conditional_losses while saving (showing 2 of 2). These functions will not be directly callable after loading.\n"
     ]
    },
    {
     "name": "stdout",
     "output_type": "stream",
     "text": [
      "INFO:tensorflow:Assets written to: khammam_temp\\assets\n"
     ]
    },
    {
     "name": "stderr",
     "output_type": "stream",
     "text": [
      "INFO:tensorflow:Assets written to: khammam_temp\\assets\n"
     ]
    },
    {
     "name": "stdout",
     "output_type": "stream",
     "text": [
      "256/256 [==============================] - 10s 39ms/step - loss: 0.0081 - mean_absolute_percentage_error: 6.3756 - val_loss: 0.0085 - val_mean_absolute_percentage_error: 7.1370\n",
      "Epoch 29/200\n",
      "256/256 [==============================] - ETA: 0s - loss: 0.0073 - mean_absolute_percentage_error: 6.2231"
     ]
    },
    {
     "name": "stderr",
     "output_type": "stream",
     "text": [
      "WARNING:absl:Found untraced functions such as lstm_cell_layer_call_fn, lstm_cell_layer_call_and_return_conditional_losses while saving (showing 2 of 2). These functions will not be directly callable after loading.\n"
     ]
    },
    {
     "name": "stdout",
     "output_type": "stream",
     "text": [
      "INFO:tensorflow:Assets written to: khammam_temp\\assets\n"
     ]
    },
    {
     "name": "stderr",
     "output_type": "stream",
     "text": [
      "INFO:tensorflow:Assets written to: khammam_temp\\assets\n"
     ]
    },
    {
     "name": "stdout",
     "output_type": "stream",
     "text": [
      "256/256 [==============================] - 10s 37ms/step - loss: 0.0073 - mean_absolute_percentage_error: 6.2231 - val_loss: 0.0084 - val_mean_absolute_percentage_error: 7.0520\n",
      "Epoch 30/200\n",
      "256/256 [==============================] - 7s 28ms/step - loss: 0.0073 - mean_absolute_percentage_error: 6.2159 - val_loss: 0.0088 - val_mean_absolute_percentage_error: 7.5942\n",
      "Epoch 31/200\n",
      "255/256 [============================>.] - ETA: 0s - loss: 0.0067 - mean_absolute_percentage_error: 6.0572"
     ]
    },
    {
     "name": "stderr",
     "output_type": "stream",
     "text": [
      "WARNING:absl:Found untraced functions such as lstm_cell_layer_call_fn, lstm_cell_layer_call_and_return_conditional_losses while saving (showing 2 of 2). These functions will not be directly callable after loading.\n"
     ]
    },
    {
     "name": "stdout",
     "output_type": "stream",
     "text": [
      "INFO:tensorflow:Assets written to: khammam_temp\\assets\n"
     ]
    },
    {
     "name": "stderr",
     "output_type": "stream",
     "text": [
      "INFO:tensorflow:Assets written to: khammam_temp\\assets\n"
     ]
    },
    {
     "name": "stdout",
     "output_type": "stream",
     "text": [
      "256/256 [==============================] - 10s 39ms/step - loss: 0.0066 - mean_absolute_percentage_error: 6.0566 - val_loss: 0.0074 - val_mean_absolute_percentage_error: 7.1769\n",
      "Epoch 32/200\n",
      "255/256 [============================>.] - ETA: 0s - loss: 0.0051 - mean_absolute_percentage_error: 5.7044"
     ]
    },
    {
     "name": "stderr",
     "output_type": "stream",
     "text": [
      "WARNING:absl:Found untraced functions such as lstm_cell_layer_call_fn, lstm_cell_layer_call_and_return_conditional_losses while saving (showing 2 of 2). These functions will not be directly callable after loading.\n"
     ]
    },
    {
     "name": "stdout",
     "output_type": "stream",
     "text": [
      "INFO:tensorflow:Assets written to: khammam_temp\\assets\n"
     ]
    },
    {
     "name": "stderr",
     "output_type": "stream",
     "text": [
      "INFO:tensorflow:Assets written to: khammam_temp\\assets\n"
     ]
    },
    {
     "name": "stdout",
     "output_type": "stream",
     "text": [
      "256/256 [==============================] - 10s 38ms/step - loss: 0.0051 - mean_absolute_percentage_error: 5.7040 - val_loss: 0.0061 - val_mean_absolute_percentage_error: 6.9456\n",
      "Epoch 33/200\n",
      "255/256 [============================>.] - ETA: 0s - loss: 0.0047 - mean_absolute_percentage_error: 5.6583"
     ]
    },
    {
     "name": "stderr",
     "output_type": "stream",
     "text": [
      "WARNING:absl:Found untraced functions such as lstm_cell_layer_call_fn, lstm_cell_layer_call_and_return_conditional_losses while saving (showing 2 of 2). These functions will not be directly callable after loading.\n"
     ]
    },
    {
     "name": "stdout",
     "output_type": "stream",
     "text": [
      "INFO:tensorflow:Assets written to: khammam_temp\\assets\n"
     ]
    },
    {
     "name": "stderr",
     "output_type": "stream",
     "text": [
      "INFO:tensorflow:Assets written to: khammam_temp\\assets\n"
     ]
    },
    {
     "name": "stdout",
     "output_type": "stream",
     "text": [
      "256/256 [==============================] - 10s 38ms/step - loss: 0.0047 - mean_absolute_percentage_error: 5.6580 - val_loss: 0.0058 - val_mean_absolute_percentage_error: 6.6921\n",
      "Epoch 34/200\n",
      "256/256 [==============================] - 7s 27ms/step - loss: 0.0047 - mean_absolute_percentage_error: 5.6203 - val_loss: 0.0060 - val_mean_absolute_percentage_error: 6.8591\n",
      "Epoch 35/200\n",
      "256/256 [==============================] - 7s 27ms/step - loss: 0.0047 - mean_absolute_percentage_error: 5.6200 - val_loss: 0.0064 - val_mean_absolute_percentage_error: 7.3363\n",
      "Epoch 36/200\n",
      "256/256 [==============================] - 7s 27ms/step - loss: 0.0047 - mean_absolute_percentage_error: 5.6026 - val_loss: 0.0059 - val_mean_absolute_percentage_error: 6.6112\n",
      "Epoch 37/200\n",
      "256/256 [==============================] - 7s 27ms/step - loss: 0.0047 - mean_absolute_percentage_error: 5.5802 - val_loss: 0.0060 - val_mean_absolute_percentage_error: 6.7941\n",
      "Epoch 38/200\n",
      "256/256 [==============================] - 7s 27ms/step - loss: 0.0046 - mean_absolute_percentage_error: 5.5580 - val_loss: 0.0059 - val_mean_absolute_percentage_error: 6.6845\n",
      "Epoch 39/200\n",
      "256/256 [==============================] - 7s 27ms/step - loss: 0.0046 - mean_absolute_percentage_error: 5.5196 - val_loss: 0.0062 - val_mean_absolute_percentage_error: 7.1016\n",
      "Epoch 40/200\n",
      "256/256 [==============================] - 7s 27ms/step - loss: 0.0046 - mean_absolute_percentage_error: 5.5249 - val_loss: 0.0063 - val_mean_absolute_percentage_error: 7.1586\n",
      "Epoch 41/200\n",
      "256/256 [==============================] - ETA: 0s - loss: 0.0046 - mean_absolute_percentage_error: 5.5065"
     ]
    },
    {
     "name": "stderr",
     "output_type": "stream",
     "text": [
      "WARNING:absl:Found untraced functions such as lstm_cell_layer_call_fn, lstm_cell_layer_call_and_return_conditional_losses while saving (showing 2 of 2). These functions will not be directly callable after loading.\n"
     ]
    },
    {
     "name": "stdout",
     "output_type": "stream",
     "text": [
      "INFO:tensorflow:Assets written to: khammam_temp\\assets\n"
     ]
    },
    {
     "name": "stderr",
     "output_type": "stream",
     "text": [
      "INFO:tensorflow:Assets written to: khammam_temp\\assets\n"
     ]
    },
    {
     "name": "stdout",
     "output_type": "stream",
     "text": [
      "256/256 [==============================] - 10s 38ms/step - loss: 0.0046 - mean_absolute_percentage_error: 5.5065 - val_loss: 0.0056 - val_mean_absolute_percentage_error: 6.2735\n",
      "Epoch 42/200\n",
      "256/256 [==============================] - 7s 27ms/step - loss: 0.0046 - mean_absolute_percentage_error: 5.4348 - val_loss: 0.0061 - val_mean_absolute_percentage_error: 6.9790\n",
      "Epoch 43/200\n",
      "256/256 [==============================] - 7s 27ms/step - loss: 0.0046 - mean_absolute_percentage_error: 5.4390 - val_loss: 0.0058 - val_mean_absolute_percentage_error: 6.6982\n",
      "Epoch 44/200\n",
      "256/256 [==============================] - 7s 27ms/step - loss: 0.0045 - mean_absolute_percentage_error: 5.4020 - val_loss: 0.0061 - val_mean_absolute_percentage_error: 6.8622\n",
      "Epoch 45/200\n",
      "255/256 [============================>.] - ETA: 0s - loss: 0.0037 - mean_absolute_percentage_error: 5.1935"
     ]
    },
    {
     "name": "stderr",
     "output_type": "stream",
     "text": [
      "WARNING:absl:Found untraced functions such as lstm_cell_layer_call_fn, lstm_cell_layer_call_and_return_conditional_losses while saving (showing 2 of 2). These functions will not be directly callable after loading.\n"
     ]
    },
    {
     "name": "stdout",
     "output_type": "stream",
     "text": [
      "INFO:tensorflow:Assets written to: khammam_temp\\assets\n"
     ]
    },
    {
     "name": "stderr",
     "output_type": "stream",
     "text": [
      "INFO:tensorflow:Assets written to: khammam_temp\\assets\n"
     ]
    },
    {
     "name": "stdout",
     "output_type": "stream",
     "text": [
      "256/256 [==============================] - 9s 37ms/step - loss: 0.0037 - mean_absolute_percentage_error: 5.1929 - val_loss: 0.0050 - val_mean_absolute_percentage_error: 6.9334\n",
      "Epoch 46/200\n",
      "256/256 [==============================] - ETA: 0s - loss: 0.0032 - mean_absolute_percentage_error: 5.0937"
     ]
    },
    {
     "name": "stderr",
     "output_type": "stream",
     "text": [
      "WARNING:absl:Found untraced functions such as lstm_cell_layer_call_fn, lstm_cell_layer_call_and_return_conditional_losses while saving (showing 2 of 2). These functions will not be directly callable after loading.\n"
     ]
    },
    {
     "name": "stdout",
     "output_type": "stream",
     "text": [
      "INFO:tensorflow:Assets written to: khammam_temp\\assets\n"
     ]
    },
    {
     "name": "stderr",
     "output_type": "stream",
     "text": [
      "INFO:tensorflow:Assets written to: khammam_temp\\assets\n"
     ]
    },
    {
     "name": "stdout",
     "output_type": "stream",
     "text": [
      "256/256 [==============================] - 9s 36ms/step - loss: 0.0032 - mean_absolute_percentage_error: 5.0937 - val_loss: 0.0048 - val_mean_absolute_percentage_error: 6.7267\n",
      "Epoch 47/200\n",
      "254/256 [============================>.] - ETA: 0s - loss: 0.0032 - mean_absolute_percentage_error: 5.0512"
     ]
    },
    {
     "name": "stderr",
     "output_type": "stream",
     "text": [
      "WARNING:absl:Found untraced functions such as lstm_cell_layer_call_fn, lstm_cell_layer_call_and_return_conditional_losses while saving (showing 2 of 2). These functions will not be directly callable after loading.\n"
     ]
    },
    {
     "name": "stdout",
     "output_type": "stream",
     "text": [
      "INFO:tensorflow:Assets written to: khammam_temp\\assets\n"
     ]
    },
    {
     "name": "stderr",
     "output_type": "stream",
     "text": [
      "INFO:tensorflow:Assets written to: khammam_temp\\assets\n"
     ]
    },
    {
     "name": "stdout",
     "output_type": "stream",
     "text": [
      "256/256 [==============================] - 10s 38ms/step - loss: 0.0032 - mean_absolute_percentage_error: 5.0504 - val_loss: 0.0047 - val_mean_absolute_percentage_error: 6.5800\n",
      "Epoch 48/200\n",
      "256/256 [==============================] - ETA: 0s - loss: 0.0032 - mean_absolute_percentage_error: 5.0521"
     ]
    },
    {
     "name": "stderr",
     "output_type": "stream",
     "text": [
      "WARNING:absl:Found untraced functions such as lstm_cell_layer_call_fn, lstm_cell_layer_call_and_return_conditional_losses while saving (showing 2 of 2). These functions will not be directly callable after loading.\n"
     ]
    },
    {
     "name": "stdout",
     "output_type": "stream",
     "text": [
      "INFO:tensorflow:Assets written to: khammam_temp\\assets\n"
     ]
    },
    {
     "name": "stderr",
     "output_type": "stream",
     "text": [
      "INFO:tensorflow:Assets written to: khammam_temp\\assets\n"
     ]
    },
    {
     "name": "stdout",
     "output_type": "stream",
     "text": [
      "256/256 [==============================] - 9s 36ms/step - loss: 0.0032 - mean_absolute_percentage_error: 5.0521 - val_loss: 0.0046 - val_mean_absolute_percentage_error: 6.5279\n",
      "Epoch 49/200\n",
      "256/256 [==============================] - 7s 27ms/step - loss: 0.0032 - mean_absolute_percentage_error: 5.0146 - val_loss: 0.0049 - val_mean_absolute_percentage_error: 6.8289\n",
      "Epoch 50/200\n",
      "256/256 [==============================] - 7s 26ms/step - loss: 0.0031 - mean_absolute_percentage_error: 4.9683 - val_loss: 0.0047 - val_mean_absolute_percentage_error: 6.6305\n",
      "Epoch 51/200\n",
      "256/256 [==============================] - 7s 27ms/step - loss: 0.0031 - mean_absolute_percentage_error: 4.9595 - val_loss: 0.0050 - val_mean_absolute_percentage_error: 6.9193\n",
      "Epoch 52/200\n",
      "256/256 [==============================] - 7s 27ms/step - loss: 0.0031 - mean_absolute_percentage_error: 4.9114 - val_loss: 0.0048 - val_mean_absolute_percentage_error: 6.6788\n",
      "Epoch 53/200\n",
      "256/256 [==============================] - 7s 27ms/step - loss: 0.0031 - mean_absolute_percentage_error: 4.8743 - val_loss: 0.0048 - val_mean_absolute_percentage_error: 6.8529\n",
      "Epoch 54/200\n",
      "256/256 [==============================] - 7s 27ms/step - loss: 0.0031 - mean_absolute_percentage_error: 4.8713 - val_loss: 0.0047 - val_mean_absolute_percentage_error: 6.5591\n",
      "Epoch 55/200\n",
      "256/256 [==============================] - 7s 27ms/step - loss: 0.0031 - mean_absolute_percentage_error: 4.8763 - val_loss: 0.0048 - val_mean_absolute_percentage_error: 6.6049\n",
      "Epoch 56/200\n",
      "256/256 [==============================] - 7s 27ms/step - loss: 0.0030 - mean_absolute_percentage_error: 4.8228 - val_loss: 0.0051 - val_mean_absolute_percentage_error: 6.9346\n",
      "Epoch 57/200\n",
      "256/256 [==============================] - 7s 26ms/step - loss: 0.0030 - mean_absolute_percentage_error: 4.8206 - val_loss: 0.0049 - val_mean_absolute_percentage_error: 6.8541\n",
      "Epoch 58/200\n",
      "255/256 [============================>.] - ETA: 0s - loss: 0.0030 - mean_absolute_percentage_error: 4.7623"
     ]
    },
    {
     "name": "stderr",
     "output_type": "stream",
     "text": [
      "WARNING:absl:Found untraced functions such as lstm_cell_layer_call_fn, lstm_cell_layer_call_and_return_conditional_losses while saving (showing 2 of 2). These functions will not be directly callable after loading.\n"
     ]
    },
    {
     "name": "stdout",
     "output_type": "stream",
     "text": [
      "INFO:tensorflow:Assets written to: khammam_temp\\assets\n"
     ]
    },
    {
     "name": "stderr",
     "output_type": "stream",
     "text": [
      "INFO:tensorflow:Assets written to: khammam_temp\\assets\n"
     ]
    },
    {
     "name": "stdout",
     "output_type": "stream",
     "text": [
      "256/256 [==============================] - 10s 38ms/step - loss: 0.0030 - mean_absolute_percentage_error: 4.7622 - val_loss: 0.0046 - val_mean_absolute_percentage_error: 6.4134\n",
      "Epoch 59/200\n",
      "256/256 [==============================] - 7s 28ms/step - loss: 0.0030 - mean_absolute_percentage_error: 4.7499 - val_loss: 0.0048 - val_mean_absolute_percentage_error: 6.7103\n",
      "Epoch 60/200\n",
      "256/256 [==============================] - 7s 27ms/step - loss: 0.0030 - mean_absolute_percentage_error: 4.7456 - val_loss: 0.0053 - val_mean_absolute_percentage_error: 7.2540\n",
      "Epoch 61/200\n",
      "256/256 [==============================] - 7s 27ms/step - loss: 0.0030 - mean_absolute_percentage_error: 4.7377 - val_loss: 0.0048 - val_mean_absolute_percentage_error: 6.6902\n",
      "Epoch 62/200\n",
      "256/256 [==============================] - 7s 26ms/step - loss: 0.0030 - mean_absolute_percentage_error: 4.7497 - val_loss: 0.0051 - val_mean_absolute_percentage_error: 6.9818\n",
      "Epoch 63/200\n",
      "254/256 [============================>.] - ETA: 0s - loss: 0.0029 - mean_absolute_percentage_error: 4.6936"
     ]
    },
    {
     "name": "stderr",
     "output_type": "stream",
     "text": [
      "WARNING:absl:Found untraced functions such as lstm_cell_layer_call_fn, lstm_cell_layer_call_and_return_conditional_losses while saving (showing 2 of 2). These functions will not be directly callable after loading.\n"
     ]
    },
    {
     "name": "stdout",
     "output_type": "stream",
     "text": [
      "INFO:tensorflow:Assets written to: khammam_temp\\assets\n"
     ]
    },
    {
     "name": "stderr",
     "output_type": "stream",
     "text": [
      "INFO:tensorflow:Assets written to: khammam_temp\\assets\n"
     ]
    },
    {
     "name": "stdout",
     "output_type": "stream",
     "text": [
      "256/256 [==============================] - 9s 37ms/step - loss: 0.0029 - mean_absolute_percentage_error: 4.6932 - val_loss: 0.0045 - val_mean_absolute_percentage_error: 6.3486\n",
      "Epoch 64/200\n",
      "256/256 [==============================] - 7s 27ms/step - loss: 0.0029 - mean_absolute_percentage_error: 4.7070 - val_loss: 0.0049 - val_mean_absolute_percentage_error: 6.7577\n",
      "Epoch 65/200\n",
      "256/256 [==============================] - 7s 26ms/step - loss: 0.0029 - mean_absolute_percentage_error: 4.6471 - val_loss: 0.0046 - val_mean_absolute_percentage_error: 6.5905\n",
      "Epoch 66/200\n",
      "256/256 [==============================] - 7s 26ms/step - loss: 0.0029 - mean_absolute_percentage_error: 4.6581 - val_loss: 0.0045 - val_mean_absolute_percentage_error: 6.4180\n",
      "Epoch 67/200\n",
      "256/256 [==============================] - 7s 27ms/step - loss: 0.0029 - mean_absolute_percentage_error: 4.6331 - val_loss: 0.0049 - val_mean_absolute_percentage_error: 6.8229\n",
      "Epoch 68/200\n",
      "256/256 [==============================] - 7s 26ms/step - loss: 0.0029 - mean_absolute_percentage_error: 4.5956 - val_loss: 0.0046 - val_mean_absolute_percentage_error: 6.4789\n",
      "Epoch 69/200\n",
      "256/256 [==============================] - 7s 27ms/step - loss: 0.0029 - mean_absolute_percentage_error: 4.6088 - val_loss: 0.0048 - val_mean_absolute_percentage_error: 6.6397\n",
      "Epoch 70/200\n",
      "256/256 [==============================] - 7s 27ms/step - loss: 0.0028 - mean_absolute_percentage_error: 4.5775 - val_loss: 0.0049 - val_mean_absolute_percentage_error: 6.8188\n",
      "Epoch 71/200\n",
      "256/256 [==============================] - 7s 27ms/step - loss: 0.0028 - mean_absolute_percentage_error: 4.5432 - val_loss: 0.0050 - val_mean_absolute_percentage_error: 6.8568\n",
      "Epoch 72/200\n",
      "256/256 [==============================] - 7s 26ms/step - loss: 0.0028 - mean_absolute_percentage_error: 4.5681 - val_loss: 0.0051 - val_mean_absolute_percentage_error: 7.0166\n",
      "Epoch 73/200\n",
      "256/256 [==============================] - 7s 27ms/step - loss: 0.0028 - mean_absolute_percentage_error: 4.5539 - val_loss: 0.0053 - val_mean_absolute_percentage_error: 7.2343\n",
      "Epoch 74/200\n",
      "256/256 [==============================] - 7s 27ms/step - loss: 0.0028 - mean_absolute_percentage_error: 4.5263 - val_loss: 0.0048 - val_mean_absolute_percentage_error: 6.6778\n",
      "Epoch 75/200\n",
      "256/256 [==============================] - 7s 27ms/step - loss: 0.0028 - mean_absolute_percentage_error: 4.5073 - val_loss: 0.0048 - val_mean_absolute_percentage_error: 6.8445\n",
      "Epoch 76/200\n",
      "256/256 [==============================] - 7s 27ms/step - loss: 0.0028 - mean_absolute_percentage_error: 4.4805 - val_loss: 0.0047 - val_mean_absolute_percentage_error: 6.6235\n",
      "Epoch 77/200\n",
      "256/256 [==============================] - 7s 27ms/step - loss: 0.0028 - mean_absolute_percentage_error: 4.4872 - val_loss: 0.0051 - val_mean_absolute_percentage_error: 6.9882\n",
      "Epoch 78/200\n",
      "256/256 [==============================] - 7s 26ms/step - loss: 0.0028 - mean_absolute_percentage_error: 4.4754 - val_loss: 0.0048 - val_mean_absolute_percentage_error: 6.5323\n",
      "Epoch 79/200\n",
      "256/256 [==============================] - 7s 27ms/step - loss: 0.0028 - mean_absolute_percentage_error: 4.4926 - val_loss: 0.0051 - val_mean_absolute_percentage_error: 6.9732\n",
      "Epoch 80/200\n",
      "256/256 [==============================] - 7s 26ms/step - loss: 0.0027 - mean_absolute_percentage_error: 4.4323 - val_loss: 0.0053 - val_mean_absolute_percentage_error: 7.2442\n",
      "Epoch 81/200\n",
      "256/256 [==============================] - 7s 28ms/step - loss: 0.0027 - mean_absolute_percentage_error: 4.4377 - val_loss: 0.0049 - val_mean_absolute_percentage_error: 6.7109\n",
      "Epoch 82/200\n",
      "256/256 [==============================] - 7s 28ms/step - loss: 0.0027 - mean_absolute_percentage_error: 4.4354 - val_loss: 0.0046 - val_mean_absolute_percentage_error: 6.5202\n",
      "Epoch 83/200\n",
      "256/256 [==============================] - 7s 27ms/step - loss: 0.0027 - mean_absolute_percentage_error: 4.3935 - val_loss: 0.0051 - val_mean_absolute_percentage_error: 7.0403\n",
      "Epoch 84/200\n",
      "256/256 [==============================] - 7s 27ms/step - loss: 0.0027 - mean_absolute_percentage_error: 4.3948 - val_loss: 0.0050 - val_mean_absolute_percentage_error: 6.9834\n",
      "Epoch 85/200\n",
      "256/256 [==============================] - 7s 27ms/step - loss: 0.0027 - mean_absolute_percentage_error: 4.3945 - val_loss: 0.0048 - val_mean_absolute_percentage_error: 6.7484\n",
      "Epoch 86/200\n",
      "256/256 [==============================] - 7s 26ms/step - loss: 0.0027 - mean_absolute_percentage_error: 4.4010 - val_loss: 0.0049 - val_mean_absolute_percentage_error: 6.7711\n",
      "Epoch 87/200\n",
      "256/256 [==============================] - 7s 27ms/step - loss: 0.0027 - mean_absolute_percentage_error: 4.3660 - val_loss: 0.0049 - val_mean_absolute_percentage_error: 6.7920\n",
      "Epoch 88/200\n",
      "256/256 [==============================] - 7s 27ms/step - loss: 0.0027 - mean_absolute_percentage_error: 4.3442 - val_loss: 0.0047 - val_mean_absolute_percentage_error: 6.5148\n",
      "Epoch 89/200\n",
      "256/256 [==============================] - 7s 29ms/step - loss: 0.0027 - mean_absolute_percentage_error: 4.3342 - val_loss: 0.0046 - val_mean_absolute_percentage_error: 6.4029\n",
      "Epoch 90/200\n",
      "256/256 [==============================] - 8s 32ms/step - loss: 0.0027 - mean_absolute_percentage_error: 4.3322 - val_loss: 0.0049 - val_mean_absolute_percentage_error: 6.7867\n",
      "Epoch 91/200\n",
      "256/256 [==============================] - 9s 33ms/step - loss: 0.0027 - mean_absolute_percentage_error: 4.2996 - val_loss: 0.0048 - val_mean_absolute_percentage_error: 6.6600\n",
      "Epoch 92/200\n",
      "256/256 [==============================] - 8s 29ms/step - loss: 0.0027 - mean_absolute_percentage_error: 4.3067 - val_loss: 0.0051 - val_mean_absolute_percentage_error: 6.9936\n",
      "Epoch 93/200\n",
      "256/256 [==============================] - 7s 27ms/step - loss: 0.0027 - mean_absolute_percentage_error: 4.2944 - val_loss: 0.0049 - val_mean_absolute_percentage_error: 6.7548\n",
      "Epoch 94/200\n",
      "256/256 [==============================] - 7s 26ms/step - loss: 0.0027 - mean_absolute_percentage_error: 4.3399 - val_loss: 0.0050 - val_mean_absolute_percentage_error: 6.9716\n",
      "Epoch 95/200\n",
      "256/256 [==============================] - 7s 27ms/step - loss: 0.0026 - mean_absolute_percentage_error: 4.2590 - val_loss: 0.0049 - val_mean_absolute_percentage_error: 6.8263\n",
      "Epoch 96/200\n",
      "256/256 [==============================] - 7s 27ms/step - loss: 0.0026 - mean_absolute_percentage_error: 4.2807 - val_loss: 0.0053 - val_mean_absolute_percentage_error: 7.1964\n",
      "Epoch 97/200\n",
      "256/256 [==============================] - 7s 27ms/step - loss: 0.0026 - mean_absolute_percentage_error: 4.2796 - val_loss: 0.0052 - val_mean_absolute_percentage_error: 7.0833\n",
      "Epoch 98/200\n",
      "256/256 [==============================] - 7s 27ms/step - loss: 0.0026 - mean_absolute_percentage_error: 4.2538 - val_loss: 0.0048 - val_mean_absolute_percentage_error: 6.6709\n",
      "Epoch 99/200\n",
      "256/256 [==============================] - 7s 27ms/step - loss: 0.0026 - mean_absolute_percentage_error: 4.2521 - val_loss: 0.0053 - val_mean_absolute_percentage_error: 7.2466\n",
      "Epoch 100/200\n",
      "256/256 [==============================] - 7s 27ms/step - loss: 0.0026 - mean_absolute_percentage_error: 4.2526 - val_loss: 0.0051 - val_mean_absolute_percentage_error: 6.9855\n",
      "Epoch 101/200\n",
      "256/256 [==============================] - 7s 27ms/step - loss: 0.0026 - mean_absolute_percentage_error: 4.2289 - val_loss: 0.0051 - val_mean_absolute_percentage_error: 7.0399\n",
      "Epoch 102/200\n",
      "256/256 [==============================] - 7s 27ms/step - loss: 0.0026 - mean_absolute_percentage_error: 4.2455 - val_loss: 0.0051 - val_mean_absolute_percentage_error: 7.0735\n",
      "Epoch 103/200\n",
      "256/256 [==============================] - 7s 26ms/step - loss: 0.0026 - mean_absolute_percentage_error: 4.2114 - val_loss: 0.0053 - val_mean_absolute_percentage_error: 7.2061\n",
      "Epoch 104/200\n",
      "256/256 [==============================] - 7s 27ms/step - loss: 0.0026 - mean_absolute_percentage_error: 4.2158 - val_loss: 0.0051 - val_mean_absolute_percentage_error: 7.0506\n",
      "Epoch 105/200\n",
      "256/256 [==============================] - 7s 27ms/step - loss: 0.0026 - mean_absolute_percentage_error: 4.2111 - val_loss: 0.0051 - val_mean_absolute_percentage_error: 6.9440\n",
      "Epoch 106/200\n",
      "256/256 [==============================] - 7s 27ms/step - loss: 0.0026 - mean_absolute_percentage_error: 4.2450 - val_loss: 0.0051 - val_mean_absolute_percentage_error: 7.0053\n",
      "Epoch 107/200\n",
      "256/256 [==============================] - 7s 27ms/step - loss: 0.0026 - mean_absolute_percentage_error: 4.1975 - val_loss: 0.0047 - val_mean_absolute_percentage_error: 6.6074\n",
      "Epoch 108/200\n",
      "256/256 [==============================] - 7s 27ms/step - loss: 0.0026 - mean_absolute_percentage_error: 4.1909 - val_loss: 0.0050 - val_mean_absolute_percentage_error: 6.9263\n",
      "Epoch 109/200\n",
      "256/256 [==============================] - 7s 26ms/step - loss: 0.0026 - mean_absolute_percentage_error: 4.1875 - val_loss: 0.0050 - val_mean_absolute_percentage_error: 6.9931\n",
      "Epoch 110/200\n",
      "256/256 [==============================] - 7s 28ms/step - loss: 0.0026 - mean_absolute_percentage_error: 4.1809 - val_loss: 0.0053 - val_mean_absolute_percentage_error: 7.2099\n",
      "Epoch 111/200\n",
      "256/256 [==============================] - 7s 27ms/step - loss: 0.0026 - mean_absolute_percentage_error: 4.1783 - val_loss: 0.0052 - val_mean_absolute_percentage_error: 7.1364\n",
      "Epoch 112/200\n",
      "256/256 [==============================] - 7s 27ms/step - loss: 0.0026 - mean_absolute_percentage_error: 4.1840 - val_loss: 0.0053 - val_mean_absolute_percentage_error: 7.1839\n",
      "Epoch 113/200\n",
      "256/256 [==============================] - 7s 28ms/step - loss: 0.0026 - mean_absolute_percentage_error: 4.1732 - val_loss: 0.0052 - val_mean_absolute_percentage_error: 7.0660\n",
      "Epoch 114/200\n",
      "256/256 [==============================] - 7s 27ms/step - loss: 0.0026 - mean_absolute_percentage_error: 4.1523 - val_loss: 0.0051 - val_mean_absolute_percentage_error: 6.9661\n",
      "Epoch 115/200\n",
      "256/256 [==============================] - ETA: 0s - loss: 0.0016 - mean_absolute_percentage_error: 3.9905"
     ]
    },
    {
     "name": "stderr",
     "output_type": "stream",
     "text": [
      "WARNING:absl:Found untraced functions such as lstm_cell_layer_call_fn, lstm_cell_layer_call_and_return_conditional_losses while saving (showing 2 of 2). These functions will not be directly callable after loading.\n"
     ]
    },
    {
     "name": "stdout",
     "output_type": "stream",
     "text": [
      "INFO:tensorflow:Assets written to: khammam_temp\\assets\n"
     ]
    },
    {
     "name": "stderr",
     "output_type": "stream",
     "text": [
      "INFO:tensorflow:Assets written to: khammam_temp\\assets\n"
     ]
    },
    {
     "name": "stdout",
     "output_type": "stream",
     "text": [
      "256/256 [==============================] - 9s 36ms/step - loss: 0.0016 - mean_absolute_percentage_error: 3.9905 - val_loss: 0.0037 - val_mean_absolute_percentage_error: 6.7576\n",
      "Epoch 116/200\n",
      "254/256 [============================>.] - ETA: 0s - loss: 0.0013 - mean_absolute_percentage_error: 3.8865"
     ]
    },
    {
     "name": "stderr",
     "output_type": "stream",
     "text": [
      "WARNING:absl:Found untraced functions such as lstm_cell_layer_call_fn, lstm_cell_layer_call_and_return_conditional_losses while saving (showing 2 of 2). These functions will not be directly callable after loading.\n"
     ]
    },
    {
     "name": "stdout",
     "output_type": "stream",
     "text": [
      "INFO:tensorflow:Assets written to: khammam_temp\\assets\n"
     ]
    },
    {
     "name": "stderr",
     "output_type": "stream",
     "text": [
      "INFO:tensorflow:Assets written to: khammam_temp\\assets\n"
     ]
    },
    {
     "name": "stdout",
     "output_type": "stream",
     "text": [
      "256/256 [==============================] - 10s 39ms/step - loss: 0.0012 - mean_absolute_percentage_error: 3.8854 - val_loss: 0.0037 - val_mean_absolute_percentage_error: 6.7371\n",
      "Epoch 117/200\n",
      "256/256 [==============================] - 7s 28ms/step - loss: 0.0012 - mean_absolute_percentage_error: 3.8753 - val_loss: 0.0039 - val_mean_absolute_percentage_error: 6.9139\n",
      "Epoch 118/200\n",
      "255/256 [============================>.] - ETA: 0s - loss: 0.0013 - mean_absolute_percentage_error: 3.9016"
     ]
    },
    {
     "name": "stderr",
     "output_type": "stream",
     "text": [
      "WARNING:absl:Found untraced functions such as lstm_cell_layer_call_fn, lstm_cell_layer_call_and_return_conditional_losses while saving (showing 2 of 2). These functions will not be directly callable after loading.\n"
     ]
    },
    {
     "name": "stdout",
     "output_type": "stream",
     "text": [
      "INFO:tensorflow:Assets written to: khammam_temp\\assets\n"
     ]
    },
    {
     "name": "stderr",
     "output_type": "stream",
     "text": [
      "INFO:tensorflow:Assets written to: khammam_temp\\assets\n"
     ]
    },
    {
     "name": "stdout",
     "output_type": "stream",
     "text": [
      "256/256 [==============================] - 9s 36ms/step - loss: 0.0013 - mean_absolute_percentage_error: 3.9019 - val_loss: 0.0037 - val_mean_absolute_percentage_error: 6.6810\n",
      "Epoch 119/200\n",
      "256/256 [==============================] - 7s 28ms/step - loss: 0.0012 - mean_absolute_percentage_error: 3.8885 - val_loss: 0.0038 - val_mean_absolute_percentage_error: 6.7333\n",
      "Epoch 120/200\n",
      "256/256 [==============================] - 7s 27ms/step - loss: 0.0012 - mean_absolute_percentage_error: 3.8752 - val_loss: 0.0039 - val_mean_absolute_percentage_error: 6.8768\n",
      "Epoch 121/200\n",
      "256/256 [==============================] - 7s 27ms/step - loss: 0.0012 - mean_absolute_percentage_error: 3.8604 - val_loss: 0.0039 - val_mean_absolute_percentage_error: 6.9216\n",
      "Epoch 122/200\n",
      "254/256 [============================>.] - ETA: 0s - loss: 0.0012 - mean_absolute_percentage_error: 3.8492"
     ]
    },
    {
     "name": "stderr",
     "output_type": "stream",
     "text": [
      "WARNING:absl:Found untraced functions such as lstm_cell_layer_call_fn, lstm_cell_layer_call_and_return_conditional_losses while saving (showing 2 of 2). These functions will not be directly callable after loading.\n"
     ]
    },
    {
     "name": "stdout",
     "output_type": "stream",
     "text": [
      "INFO:tensorflow:Assets written to: khammam_temp\\assets\n"
     ]
    },
    {
     "name": "stderr",
     "output_type": "stream",
     "text": [
      "INFO:tensorflow:Assets written to: khammam_temp\\assets\n"
     ]
    },
    {
     "name": "stdout",
     "output_type": "stream",
     "text": [
      "256/256 [==============================] - 9s 37ms/step - loss: 0.0012 - mean_absolute_percentage_error: 3.8496 - val_loss: 0.0034 - val_mean_absolute_percentage_error: 6.4871\n",
      "Epoch 123/200\n",
      "256/256 [==============================] - 7s 27ms/step - loss: 0.0012 - mean_absolute_percentage_error: 3.8659 - val_loss: 0.0040 - val_mean_absolute_percentage_error: 7.0234\n",
      "Epoch 124/200\n",
      "256/256 [==============================] - 7s 27ms/step - loss: 0.0012 - mean_absolute_percentage_error: 3.8274 - val_loss: 0.0040 - val_mean_absolute_percentage_error: 7.0561\n",
      "Epoch 125/200\n",
      "256/256 [==============================] - 7s 27ms/step - loss: 0.0012 - mean_absolute_percentage_error: 3.8446 - val_loss: 0.0038 - val_mean_absolute_percentage_error: 6.7759\n",
      "Epoch 126/200\n",
      "256/256 [==============================] - 7s 27ms/step - loss: 0.0012 - mean_absolute_percentage_error: 3.8387 - val_loss: 0.0038 - val_mean_absolute_percentage_error: 6.8446\n",
      "Epoch 127/200\n",
      "256/256 [==============================] - 7s 26ms/step - loss: 0.0012 - mean_absolute_percentage_error: 3.8378 - val_loss: 0.0040 - val_mean_absolute_percentage_error: 7.0682\n",
      "Epoch 128/200\n",
      "256/256 [==============================] - 7s 26ms/step - loss: 0.0012 - mean_absolute_percentage_error: 3.8532 - val_loss: 0.0037 - val_mean_absolute_percentage_error: 6.6669\n",
      "Epoch 129/200\n",
      "256/256 [==============================] - 7s 27ms/step - loss: 0.0012 - mean_absolute_percentage_error: 3.8332 - val_loss: 0.0038 - val_mean_absolute_percentage_error: 6.7893\n",
      "Epoch 130/200\n",
      "256/256 [==============================] - 7s 27ms/step - loss: 0.0012 - mean_absolute_percentage_error: 3.8217 - val_loss: 0.0037 - val_mean_absolute_percentage_error: 6.7710\n",
      "Epoch 131/200\n",
      "256/256 [==============================] - 7s 27ms/step - loss: 0.0012 - mean_absolute_percentage_error: 3.8109 - val_loss: 0.0035 - val_mean_absolute_percentage_error: 6.5231\n",
      "Epoch 132/200\n",
      "256/256 [==============================] - 7s 27ms/step - loss: 0.0012 - mean_absolute_percentage_error: 3.8103 - val_loss: 0.0037 - val_mean_absolute_percentage_error: 6.7207\n",
      "Epoch 133/200\n",
      "256/256 [==============================] - 7s 27ms/step - loss: 0.0012 - mean_absolute_percentage_error: 3.8194 - val_loss: 0.0041 - val_mean_absolute_percentage_error: 7.0610\n",
      "Epoch 134/200\n",
      "256/256 [==============================] - 7s 26ms/step - loss: 0.0012 - mean_absolute_percentage_error: 3.7988 - val_loss: 0.0042 - val_mean_absolute_percentage_error: 7.0969\n",
      "Epoch 135/200\n",
      "256/256 [==============================] - 7s 27ms/step - loss: 0.0012 - mean_absolute_percentage_error: 3.8190 - val_loss: 0.0037 - val_mean_absolute_percentage_error: 6.7961\n",
      "Epoch 136/200\n",
      "256/256 [==============================] - ETA: 0s - loss: 0.0012 - mean_absolute_percentage_error: 3.8211"
     ]
    },
    {
     "name": "stderr",
     "output_type": "stream",
     "text": [
      "WARNING:absl:Found untraced functions such as lstm_cell_layer_call_fn, lstm_cell_layer_call_and_return_conditional_losses while saving (showing 2 of 2). These functions will not be directly callable after loading.\n"
     ]
    },
    {
     "name": "stdout",
     "output_type": "stream",
     "text": [
      "INFO:tensorflow:Assets written to: khammam_temp\\assets\n"
     ]
    },
    {
     "name": "stderr",
     "output_type": "stream",
     "text": [
      "INFO:tensorflow:Assets written to: khammam_temp\\assets\n"
     ]
    },
    {
     "name": "stdout",
     "output_type": "stream",
     "text": [
      "256/256 [==============================] - 10s 37ms/step - loss: 0.0012 - mean_absolute_percentage_error: 3.8211 - val_loss: 0.0033 - val_mean_absolute_percentage_error: 6.2629\n",
      "Epoch 137/200\n",
      "256/256 [==============================] - 7s 27ms/step - loss: 0.0012 - mean_absolute_percentage_error: 3.7896 - val_loss: 0.0036 - val_mean_absolute_percentage_error: 6.5964\n",
      "Epoch 138/200\n",
      "256/256 [==============================] - 7s 27ms/step - loss: 0.0012 - mean_absolute_percentage_error: 3.7762 - val_loss: 0.0037 - val_mean_absolute_percentage_error: 6.6752\n",
      "Epoch 139/200\n",
      "256/256 [==============================] - 7s 27ms/step - loss: 0.0012 - mean_absolute_percentage_error: 3.8007 - val_loss: 0.0038 - val_mean_absolute_percentage_error: 6.8160\n",
      "Epoch 140/200\n",
      "256/256 [==============================] - 7s 27ms/step - loss: 0.0012 - mean_absolute_percentage_error: 3.7912 - val_loss: 0.0037 - val_mean_absolute_percentage_error: 6.7227\n",
      "Epoch 141/200\n",
      "256/256 [==============================] - 7s 27ms/step - loss: 0.0012 - mean_absolute_percentage_error: 3.7698 - val_loss: 0.0039 - val_mean_absolute_percentage_error: 6.9906\n",
      "Epoch 142/200\n",
      "256/256 [==============================] - 7s 26ms/step - loss: 0.0012 - mean_absolute_percentage_error: 3.7862 - val_loss: 0.0038 - val_mean_absolute_percentage_error: 6.8732\n",
      "Epoch 143/200\n",
      "256/256 [==============================] - 7s 27ms/step - loss: 0.0012 - mean_absolute_percentage_error: 3.7742 - val_loss: 0.0036 - val_mean_absolute_percentage_error: 6.6484\n",
      "Epoch 144/200\n",
      "256/256 [==============================] - 7s 27ms/step - loss: 0.0012 - mean_absolute_percentage_error: 3.7836 - val_loss: 0.0040 - val_mean_absolute_percentage_error: 6.9641\n",
      "Epoch 145/200\n",
      "256/256 [==============================] - 7s 27ms/step - loss: 0.0012 - mean_absolute_percentage_error: 3.7780 - val_loss: 0.0040 - val_mean_absolute_percentage_error: 7.1126\n",
      "Epoch 146/200\n",
      "256/256 [==============================] - 7s 27ms/step - loss: 0.0012 - mean_absolute_percentage_error: 3.7729 - val_loss: 0.0039 - val_mean_absolute_percentage_error: 6.9508\n",
      "Epoch 147/200\n",
      "256/256 [==============================] - 7s 27ms/step - loss: 0.0012 - mean_absolute_percentage_error: 3.7556 - val_loss: 0.0038 - val_mean_absolute_percentage_error: 6.8209\n",
      "Epoch 148/200\n",
      "256/256 [==============================] - 7s 27ms/step - loss: 0.0012 - mean_absolute_percentage_error: 3.7788 - val_loss: 0.0040 - val_mean_absolute_percentage_error: 6.9538\n",
      "Epoch 149/200\n",
      "256/256 [==============================] - 7s 27ms/step - loss: 0.0012 - mean_absolute_percentage_error: 3.7547 - val_loss: 0.0039 - val_mean_absolute_percentage_error: 6.9250\n",
      "Epoch 150/200\n",
      "256/256 [==============================] - 7s 27ms/step - loss: 0.0012 - mean_absolute_percentage_error: 3.7490 - val_loss: 0.0037 - val_mean_absolute_percentage_error: 6.6992\n",
      "Epoch 151/200\n",
      "256/256 [==============================] - 7s 27ms/step - loss: 0.0012 - mean_absolute_percentage_error: 3.7476 - val_loss: 0.0040 - val_mean_absolute_percentage_error: 6.9887\n",
      "Epoch 152/200\n",
      "256/256 [==============================] - 7s 27ms/step - loss: 0.0012 - mean_absolute_percentage_error: 3.7505 - val_loss: 0.0039 - val_mean_absolute_percentage_error: 6.9592\n",
      "Epoch 153/200\n",
      "256/256 [==============================] - 7s 28ms/step - loss: 0.0012 - mean_absolute_percentage_error: 3.7550 - val_loss: 0.0038 - val_mean_absolute_percentage_error: 6.8357\n",
      "Epoch 154/200\n",
      "256/256 [==============================] - 7s 27ms/step - loss: 0.0012 - mean_absolute_percentage_error: 3.7523 - val_loss: 0.0039 - val_mean_absolute_percentage_error: 6.7583\n",
      "Epoch 155/200\n",
      "256/256 [==============================] - 7s 28ms/step - loss: 0.0012 - mean_absolute_percentage_error: 3.7395 - val_loss: 0.0034 - val_mean_absolute_percentage_error: 6.4371\n",
      "Epoch 156/200\n",
      "256/256 [==============================] - 7s 26ms/step - loss: 0.0012 - mean_absolute_percentage_error: 3.7314 - val_loss: 0.0039 - val_mean_absolute_percentage_error: 6.8699\n",
      "Epoch 157/200\n",
      "256/256 [==============================] - 7s 27ms/step - loss: 0.0012 - mean_absolute_percentage_error: 3.7330 - val_loss: 0.0041 - val_mean_absolute_percentage_error: 7.0869\n",
      "Epoch 158/200\n",
      "256/256 [==============================] - 7s 27ms/step - loss: 0.0012 - mean_absolute_percentage_error: 3.7323 - val_loss: 0.0039 - val_mean_absolute_percentage_error: 6.9250\n",
      "Epoch 159/200\n",
      "256/256 [==============================] - 7s 27ms/step - loss: 0.0012 - mean_absolute_percentage_error: 3.7299 - val_loss: 0.0040 - val_mean_absolute_percentage_error: 6.9746\n",
      "Epoch 160/200\n",
      "256/256 [==============================] - 7s 27ms/step - loss: 0.0011 - mean_absolute_percentage_error: 3.7223 - val_loss: 0.0039 - val_mean_absolute_percentage_error: 6.9663\n",
      "Epoch 161/200\n",
      "256/256 [==============================] - 7s 28ms/step - loss: 0.0011 - mean_absolute_percentage_error: 3.7176 - val_loss: 0.0035 - val_mean_absolute_percentage_error: 6.4759\n",
      "Epoch 162/200\n",
      "256/256 [==============================] - 7s 27ms/step - loss: 0.0011 - mean_absolute_percentage_error: 3.7164 - val_loss: 0.0037 - val_mean_absolute_percentage_error: 6.7526\n",
      "Epoch 163/200\n",
      "256/256 [==============================] - 7s 27ms/step - loss: 0.0011 - mean_absolute_percentage_error: 3.7201 - val_loss: 0.0038 - val_mean_absolute_percentage_error: 6.7571\n",
      "Epoch 164/200\n",
      "256/256 [==============================] - 7s 26ms/step - loss: 0.0011 - mean_absolute_percentage_error: 3.7087 - val_loss: 0.0040 - val_mean_absolute_percentage_error: 6.9392\n",
      "Epoch 165/200\n",
      "256/256 [==============================] - 7s 27ms/step - loss: 0.0011 - mean_absolute_percentage_error: 3.7217 - val_loss: 0.0039 - val_mean_absolute_percentage_error: 6.8741\n",
      "Epoch 166/200\n",
      "256/256 [==============================] - 7s 28ms/step - loss: 0.0011 - mean_absolute_percentage_error: 3.7139 - val_loss: 0.0037 - val_mean_absolute_percentage_error: 6.6780\n",
      "Epoch 167/200\n",
      "256/256 [==============================] - 7s 27ms/step - loss: 0.0011 - mean_absolute_percentage_error: 3.7196 - val_loss: 0.0037 - val_mean_absolute_percentage_error: 6.6870\n",
      "Epoch 168/200\n",
      "256/256 [==============================] - 7s 26ms/step - loss: 0.0011 - mean_absolute_percentage_error: 3.7011 - val_loss: 0.0036 - val_mean_absolute_percentage_error: 6.5702\n",
      "Epoch 169/200\n",
      "256/256 [==============================] - 7s 27ms/step - loss: 0.0011 - mean_absolute_percentage_error: 3.6845 - val_loss: 0.0041 - val_mean_absolute_percentage_error: 7.0540\n",
      "Epoch 170/200\n",
      "256/256 [==============================] - 7s 28ms/step - loss: 0.0011 - mean_absolute_percentage_error: 3.6958 - val_loss: 0.0039 - val_mean_absolute_percentage_error: 6.8616\n",
      "Epoch 171/200\n",
      "256/256 [==============================] - 7s 27ms/step - loss: 0.0011 - mean_absolute_percentage_error: 3.6897 - val_loss: 0.0039 - val_mean_absolute_percentage_error: 6.8574\n",
      "Epoch 172/200\n",
      "256/256 [==============================] - 7s 27ms/step - loss: 0.0011 - mean_absolute_percentage_error: 3.6955 - val_loss: 0.0042 - val_mean_absolute_percentage_error: 7.1939\n",
      "Epoch 173/200\n",
      "256/256 [==============================] - 7s 27ms/step - loss: 0.0011 - mean_absolute_percentage_error: 3.6937 - val_loss: 0.0039 - val_mean_absolute_percentage_error: 6.9012\n",
      "Epoch 174/200\n",
      "256/256 [==============================] - 7s 27ms/step - loss: 0.0011 - mean_absolute_percentage_error: 3.6897 - val_loss: 0.0038 - val_mean_absolute_percentage_error: 6.7610\n",
      "Epoch 175/200\n",
      "256/256 [==============================] - 7s 27ms/step - loss: 0.0011 - mean_absolute_percentage_error: 3.6917 - val_loss: 0.0041 - val_mean_absolute_percentage_error: 7.0469\n",
      "Epoch 176/200\n",
      "256/256 [==============================] - 7s 27ms/step - loss: 0.0011 - mean_absolute_percentage_error: 3.6838 - val_loss: 0.0036 - val_mean_absolute_percentage_error: 6.5753\n",
      "Epoch 177/200\n",
      "256/256 [==============================] - 7s 27ms/step - loss: 0.0011 - mean_absolute_percentage_error: 3.6908 - val_loss: 0.0037 - val_mean_absolute_percentage_error: 6.7109\n",
      "Epoch 178/200\n",
      "256/256 [==============================] - 7s 27ms/step - loss: 0.0011 - mean_absolute_percentage_error: 3.6637 - val_loss: 0.0036 - val_mean_absolute_percentage_error: 6.6456\n",
      "Epoch 179/200\n",
      "256/256 [==============================] - 7s 27ms/step - loss: 0.0011 - mean_absolute_percentage_error: 3.6732 - val_loss: 0.0037 - val_mean_absolute_percentage_error: 6.7167\n",
      "Epoch 180/200\n",
      "256/256 [==============================] - 7s 27ms/step - loss: 0.0011 - mean_absolute_percentage_error: 3.6823 - val_loss: 0.0039 - val_mean_absolute_percentage_error: 6.8378\n",
      "Epoch 181/200\n",
      "256/256 [==============================] - 7s 26ms/step - loss: 0.0011 - mean_absolute_percentage_error: 3.6688 - val_loss: 0.0039 - val_mean_absolute_percentage_error: 6.8830\n",
      "Epoch 182/200\n",
      "256/256 [==============================] - 7s 27ms/step - loss: 0.0011 - mean_absolute_percentage_error: 3.6676 - val_loss: 0.0038 - val_mean_absolute_percentage_error: 6.8219\n",
      "Epoch 183/200\n",
      "256/256 [==============================] - 7s 26ms/step - loss: 0.0011 - mean_absolute_percentage_error: 3.6661 - val_loss: 0.0038 - val_mean_absolute_percentage_error: 6.7874\n",
      "Epoch 184/200\n",
      "256/256 [==============================] - 7s 27ms/step - loss: 0.0011 - mean_absolute_percentage_error: 3.6594 - val_loss: 0.0037 - val_mean_absolute_percentage_error: 6.7686\n",
      "Epoch 185/200\n",
      "256/256 [==============================] - 7s 27ms/step - loss: 0.0011 - mean_absolute_percentage_error: 3.6639 - val_loss: 0.0037 - val_mean_absolute_percentage_error: 6.6926\n",
      "Epoch 186/200\n",
      "256/256 [==============================] - 7s 27ms/step - loss: 0.0011 - mean_absolute_percentage_error: 3.6686 - val_loss: 0.0041 - val_mean_absolute_percentage_error: 7.0917\n",
      "Epoch 187/200\n",
      "256/256 [==============================] - 7s 28ms/step - loss: 0.0011 - mean_absolute_percentage_error: 3.6529 - val_loss: 0.0038 - val_mean_absolute_percentage_error: 6.7950\n",
      "Epoch 188/200\n",
      "256/256 [==============================] - 7s 27ms/step - loss: 0.0011 - mean_absolute_percentage_error: 3.6618 - val_loss: 0.0038 - val_mean_absolute_percentage_error: 6.8075\n",
      "Epoch 189/200\n",
      "256/256 [==============================] - 7s 27ms/step - loss: 0.0011 - mean_absolute_percentage_error: 3.6496 - val_loss: 0.0036 - val_mean_absolute_percentage_error: 6.6307\n",
      "Epoch 190/200\n",
      "256/256 [==============================] - 7s 28ms/step - loss: 0.0011 - mean_absolute_percentage_error: 3.6514 - val_loss: 0.0034 - val_mean_absolute_percentage_error: 6.4088\n",
      "Epoch 191/200\n",
      "256/256 [==============================] - 7s 28ms/step - loss: 0.0011 - mean_absolute_percentage_error: 3.6414 - val_loss: 0.0037 - val_mean_absolute_percentage_error: 6.7304\n",
      "Epoch 192/200\n",
      "256/256 [==============================] - 7s 27ms/step - loss: 0.0011 - mean_absolute_percentage_error: 3.6530 - val_loss: 0.0037 - val_mean_absolute_percentage_error: 6.7244\n",
      "Epoch 193/200\n",
      "256/256 [==============================] - 7s 27ms/step - loss: 0.0011 - mean_absolute_percentage_error: 3.6558 - val_loss: 0.0036 - val_mean_absolute_percentage_error: 6.6314\n",
      "Epoch 194/200\n",
      "256/256 [==============================] - 7s 27ms/step - loss: 0.0011 - mean_absolute_percentage_error: 3.6508 - val_loss: 0.0039 - val_mean_absolute_percentage_error: 6.8720\n",
      "Epoch 195/200\n",
      "256/256 [==============================] - 7s 27ms/step - loss: 0.0011 - mean_absolute_percentage_error: 3.6448 - val_loss: 0.0039 - val_mean_absolute_percentage_error: 6.9060\n",
      "Epoch 196/200\n",
      "256/256 [==============================] - 7s 27ms/step - loss: 0.0011 - mean_absolute_percentage_error: 3.6270 - val_loss: 0.0037 - val_mean_absolute_percentage_error: 6.7149\n",
      "Epoch 197/200\n",
      "256/256 [==============================] - 7s 28ms/step - loss: 0.0011 - mean_absolute_percentage_error: 3.6262 - val_loss: 0.0037 - val_mean_absolute_percentage_error: 6.7107\n",
      "Epoch 198/200\n",
      "256/256 [==============================] - 7s 27ms/step - loss: 0.0011 - mean_absolute_percentage_error: 3.6236 - val_loss: 0.0040 - val_mean_absolute_percentage_error: 6.9762\n",
      "Epoch 199/200\n",
      "256/256 [==============================] - 7s 27ms/step - loss: 0.0011 - mean_absolute_percentage_error: 3.6316 - val_loss: 0.0036 - val_mean_absolute_percentage_error: 6.5769\n",
      "Epoch 200/200\n",
      "256/256 [==============================] - 7s 27ms/step - loss: 0.0011 - mean_absolute_percentage_error: 3.6384 - val_loss: 0.0038 - val_mean_absolute_percentage_error: 6.8452\n"
     ]
    }
   ],
   "source": [
    "khammam_cp= ModelCheckpoint('khammam_temp/', save_best_only=True)\n",
    "khammam_temp.compile(\n",
    "    loss=MeanSquaredError(),\n",
    "    optimizer=Adam(),\n",
    "    metrics=[MeanAbsolutePercentageError()]\n",
    ")\n",
    "epochs=200\n",
    "history=khammam_temp.fit(X_train,y_train, validation_data=(X_val,y_val), epochs=epochs, callbacks=[khammam_cp])"
   ]
  },
  {
   "cell_type": "code",
   "execution_count": 22,
   "id": "12ef0285",
   "metadata": {},
   "outputs": [
    {
     "data": {
      "image/png": "[encoded data removed]",
      "text/plain": [
       "<Figure size 800x800 with 2 Axes>"
      ]
     },
     "metadata": {},
     "output_type": "display_data"
    }
   ],
   "source": [
    "acc = history.history['mean_absolute_percentage_error']\n",
    "val_acc = history.history['val_mean_absolute_percentage_error']\n",
    "\n",
    "loss = history.history['loss']\n",
    "val_loss = history.history['val_loss']\n",
    "\n",
    "epochs_range = range(epochs)\n",
    "\n",
    "plt.figure(figsize=(8, 8))\n",
    "plt.subplot(1, 2, 1)\n",
    "plt.plot(epochs_range, acc, label='Training MAPE')\n",
    "plt.plot(epochs_range, val_acc, label='Validation MAPE')\n",
    "plt.legend(loc='upper right')\n",
    "plt.title('Training and Validation MAPE')\n",
    "\n",
    "plt.subplot(1, 2, 2)\n",
    "plt.plot(epochs_range, loss, label='Training Loss')\n",
    "plt.plot(epochs_range, val_loss, label='Validation Loss')\n",
    "plt.legend(loc='upper right')\n",
    "plt.title('Training and Validation Loss')\n",
    "plt.show()"
   ]
  },
  {
   "cell_type": "code",
   "execution_count": 27,
   "id": "6019309e",
   "metadata": {},
   "outputs": [],
   "source": [
    "from tensorflow import keras"
   ]
  },
  {
   "cell_type": "code",
   "execution_count": 18,
   "id": "06df1878",
   "metadata": {},
   "outputs": [
    {
     "ename": "NameError",
     "evalue": "name 'khammam_temp' is not defined",
     "output_type": "error",
     "traceback": [
      "\u001b[1;31m---------------------------------------------------------------------------\u001b[0m",
      "\u001b[1;31mNameError\u001b[0m                                 Traceback (most recent call last)",
      "Cell \u001b[1;32mIn [18], line 1\u001b[0m\n\u001b[1;32m----> 1\u001b[0m khammam_temp\u001b[38;5;241m.\u001b[39msave(\u001b[38;5;124m\"\u001b[39m\u001b[38;5;124mkhammam_heat_nasa.h5\u001b[39m\u001b[38;5;124m\"\u001b[39m, save_format\u001b[38;5;241m=\u001b[39m\u001b[38;5;124m'\u001b[39m\u001b[38;5;124mh5\u001b[39m\u001b[38;5;124m'\u001b[39m)\n",
      "\u001b[1;31mNameError\u001b[0m: name 'khammam_temp' is not defined"
     ]
    }
   ],
   "source": [
    "khammam_temp.save(\"khammam_heat_nasa.h5\", save_format='h5')"
   ]
  },
  {
   "cell_type": "code",
   "execution_count": 29,
   "id": "8a42d149",
   "metadata": {},
   "outputs": [
    {
     "name": "stdout",
     "output_type": "stream",
     "text": [
      "32/32 [==============================] - 0s 12ms/step - loss: 0.0021 - mean_absolute_percentage_error: 5.1541\n"
     ]
    }
   ],
   "source": [
    "res=khammam_temp.evaluate(X_test,y_test)"
   ]
  },
  {
   "cell_type": "code",
   "execution_count": 30,
   "id": "11ee1a47",
   "metadata": {},
   "outputs": [
    {
     "data": {
      "text/html": [
       "<div>\n",
       "<style scoped>\n",
       "    .dataframe tbody tr th:only-of-type {\n",
       "        vertical-align: middle;\n",
       "    }\n",
       "\n",
       "    .dataframe tbody tr th {\n",
       "        vertical-align: top;\n",
       "    }\n",
       "\n",
       "    .dataframe thead th {\n",
       "        text-align: right;\n",
       "    }\n",
       "</style>\n",
       "<table border=\"1\" class=\"dataframe\">\n",
       "  <thead>\n",
       "    <tr style=\"text-align: right;\">\n",
       "      <th></th>\n",
       "      <th>temp_max</th>\n",
       "      <th>rainfall</th>\n",
       "    </tr>\n",
       "    <tr>\n",
       "      <th>Date</th>\n",
       "      <th></th>\n",
       "      <th></th>\n",
       "    </tr>\n",
       "  </thead>\n",
       "  <tbody>\n",
       "    <tr>\n",
       "      <th>2021-01-01</th>\n",
       "      <td>0.5242</td>\n",
       "      <td>0.000099</td>\n",
       "    </tr>\n",
       "    <tr>\n",
       "      <th>2021-01-02</th>\n",
       "      <td>0.5238</td>\n",
       "      <td>0.000000</td>\n",
       "    </tr>\n",
       "    <tr>\n",
       "      <th>2021-01-03</th>\n",
       "      <td>0.5268</td>\n",
       "      <td>0.000000</td>\n",
       "    </tr>\n",
       "    <tr>\n",
       "      <th>2021-01-04</th>\n",
       "      <td>0.5262</td>\n",
       "      <td>0.000000</td>\n",
       "    </tr>\n",
       "    <tr>\n",
       "      <th>2021-01-05</th>\n",
       "      <td>0.5716</td>\n",
       "      <td>0.000397</td>\n",
       "    </tr>\n",
       "    <tr>\n",
       "      <th>...</th>\n",
       "      <td>...</td>\n",
       "      <td>...</td>\n",
       "    </tr>\n",
       "    <tr>\n",
       "      <th>2021-12-27</th>\n",
       "      <td>0.5738</td>\n",
       "      <td>0.000000</td>\n",
       "    </tr>\n",
       "    <tr>\n",
       "      <th>2021-12-28</th>\n",
       "      <td>0.5816</td>\n",
       "      <td>0.000000</td>\n",
       "    </tr>\n",
       "    <tr>\n",
       "      <th>2021-12-29</th>\n",
       "      <td>0.5878</td>\n",
       "      <td>0.000000</td>\n",
       "    </tr>\n",
       "    <tr>\n",
       "      <th>2021-12-30</th>\n",
       "      <td>0.5732</td>\n",
       "      <td>0.000000</td>\n",
       "    </tr>\n",
       "    <tr>\n",
       "      <th>2021-12-31</th>\n",
       "      <td>0.5800</td>\n",
       "      <td>0.000000</td>\n",
       "    </tr>\n",
       "  </tbody>\n",
       "</table>\n",
       "<p>365 rows × 2 columns</p>\n",
       "</div>"
      ],
      "text/plain": [
       "            temp_max  rainfall\n",
       "Date                          \n",
       "2021-01-01    0.5242  0.000099\n",
       "2021-01-02    0.5238  0.000000\n",
       "2021-01-03    0.5268  0.000000\n",
       "2021-01-04    0.5262  0.000000\n",
       "2021-01-05    0.5716  0.000397\n",
       "...              ...       ...\n",
       "2021-12-27    0.5738  0.000000\n",
       "2021-12-28    0.5816  0.000000\n",
       "2021-12-29    0.5878  0.000000\n",
       "2021-12-30    0.5732  0.000000\n",
       "2021-12-31    0.5800  0.000000\n",
       "\n",
       "[365 rows x 2 columns]"
      ]
     },
     "metadata": {},
     "output_type": "display_data"
    },
    {
     "data": {
      "text/plain": [
       "array([[[5.24200000e-01, 9.92063492e-05],\n",
       "        [5.23800000e-01, 0.00000000e+00],\n",
       "        [5.26800000e-01, 0.00000000e+00],\n",
       "        [5.26200000e-01, 0.00000000e+00],\n",
       "        [5.71600000e-01, 3.96825397e-04],\n",
       "        [5.40600000e-01, 5.95238095e-04],\n",
       "        [5.76600000e-01, 9.92063492e-05],\n",
       "        [5.76000000e-01, 0.00000000e+00],\n",
       "        [5.69000000e-01, 0.00000000e+00],\n",
       "        [5.80200000e-01, 0.00000000e+00],\n",
       "        [5.88000000e-01, 0.00000000e+00],\n",
       "        [5.92800000e-01, 0.00000000e+00],\n",
       "        [5.96000000e-01, 0.00000000e+00],\n",
       "        [5.83800000e-01, 0.00000000e+00],\n",
       "        [5.90600000e-01, 0.00000000e+00],\n",
       "        [5.93400000e-01, 0.00000000e+00],\n",
       "        [5.83600000e-01, 0.00000000e+00],\n",
       "        [5.73200000e-01, 0.00000000e+00],\n",
       "        [5.86400000e-01, 0.00000000e+00],\n",
       "        [6.02800000e-01, 0.00000000e+00],\n",
       "        [6.20200000e-01, 0.00000000e+00],\n",
       "        [6.04600000e-01, 0.00000000e+00],\n",
       "        [6.05200000e-01, 0.00000000e+00],\n",
       "        [6.12200000e-01, 0.00000000e+00],\n",
       "        [6.21800000e-01, 0.00000000e+00],\n",
       "        [6.23800000e-01, 0.00000000e+00],\n",
       "        [6.13200000e-01, 0.00000000e+00],\n",
       "        [6.07400000e-01, 0.00000000e+00],\n",
       "        [6.12600000e-01, 0.00000000e+00],\n",
       "        [6.13400000e-01, 0.00000000e+00],\n",
       "        [6.14600000e-01, 0.00000000e+00],\n",
       "        [5.96600000e-01, 0.00000000e+00],\n",
       "        [6.04800000e-01, 0.00000000e+00],\n",
       "        [6.09200000e-01, 0.00000000e+00],\n",
       "        [6.13200000e-01, 0.00000000e+00],\n",
       "        [6.14800000e-01, 0.00000000e+00],\n",
       "        [6.27400000e-01, 0.00000000e+00],\n",
       "        [6.21600000e-01, 0.00000000e+00],\n",
       "        [6.17000000e-01, 0.00000000e+00],\n",
       "        [6.30200000e-01, 0.00000000e+00],\n",
       "        [6.46800000e-01, 0.00000000e+00],\n",
       "        [6.47800000e-01, 0.00000000e+00],\n",
       "        [6.46000000e-01, 0.00000000e+00],\n",
       "        [6.56600000e-01, 0.00000000e+00],\n",
       "        [6.61600000e-01, 0.00000000e+00],\n",
       "        [6.73000000e-01, 0.00000000e+00],\n",
       "        [6.85200000e-01, 0.00000000e+00],\n",
       "        [6.84200000e-01, 0.00000000e+00],\n",
       "        [6.61000000e-01, 7.93650794e-04],\n",
       "        [6.30600000e-01, 8.33333333e-03],\n",
       "        [6.36600000e-01, 1.38888889e-02],\n",
       "        [6.24600000e-01, 5.95238095e-04],\n",
       "        [6.52600000e-01, 0.00000000e+00],\n",
       "        [6.98000000e-01, 0.00000000e+00],\n",
       "        [7.17200000e-01, 0.00000000e+00],\n",
       "        [7.34600000e-01, 0.00000000e+00],\n",
       "        [7.50200000e-01, 0.00000000e+00],\n",
       "        [7.54600000e-01, 0.00000000e+00],\n",
       "        [7.53800000e-01, 0.00000000e+00],\n",
       "        [7.64600000e-01, 0.00000000e+00],\n",
       "        [7.51600000e-01, 0.00000000e+00],\n",
       "        [7.62000000e-01, 0.00000000e+00],\n",
       "        [7.50600000e-01, 0.00000000e+00],\n",
       "        [7.53600000e-01, 0.00000000e+00],\n",
       "        [7.67600000e-01, 0.00000000e+00],\n",
       "        [7.62200000e-01, 0.00000000e+00],\n",
       "        [7.51200000e-01, 0.00000000e+00],\n",
       "        [7.45600000e-01, 0.00000000e+00],\n",
       "        [7.64800000e-01, 0.00000000e+00],\n",
       "        [7.67400000e-01, 0.00000000e+00],\n",
       "        [7.50000000e-01, 0.00000000e+00],\n",
       "        [7.58800000e-01, 0.00000000e+00],\n",
       "        [7.66400000e-01, 0.00000000e+00],\n",
       "        [7.71200000e-01, 0.00000000e+00],\n",
       "        [7.74000000e-01, 0.00000000e+00],\n",
       "        [7.83000000e-01, 0.00000000e+00],\n",
       "        [7.76800000e-01, 0.00000000e+00],\n",
       "        [7.56600000e-01, 0.00000000e+00],\n",
       "        [7.63200000e-01, 0.00000000e+00],\n",
       "        [7.97000000e-01, 0.00000000e+00],\n",
       "        [7.95400000e-01, 0.00000000e+00],\n",
       "        [8.05200000e-01, 0.00000000e+00],\n",
       "        [8.15400000e-01, 0.00000000e+00],\n",
       "        [8.29600000e-01, 0.00000000e+00],\n",
       "        [8.21600000e-01, 0.00000000e+00],\n",
       "        [8.25800000e-01, 0.00000000e+00],\n",
       "        [8.28800000e-01, 0.00000000e+00],\n",
       "        [8.31400000e-01, 0.00000000e+00],\n",
       "        [8.56000000e-01, 0.00000000e+00],\n",
       "        [8.83000000e-01, 0.00000000e+00],\n",
       "        [8.74000000e-01, 0.00000000e+00],\n",
       "        [8.77400000e-01, 0.00000000e+00],\n",
       "        [8.53000000e-01, 0.00000000e+00],\n",
       "        [8.31600000e-01, 9.92063492e-05],\n",
       "        [8.17600000e-01, 5.95238095e-03],\n",
       "        [8.17400000e-01, 3.27380952e-03],\n",
       "        [8.26800000e-01, 0.00000000e+00],\n",
       "        [8.48000000e-01, 0.00000000e+00],\n",
       "        [8.13800000e-01, 0.00000000e+00],\n",
       "        [7.98400000e-01, 0.00000000e+00],\n",
       "        [8.07400000e-01, 0.00000000e+00],\n",
       "        [8.19000000e-01, 8.92857143e-04],\n",
       "        [8.16800000e-01, 7.14285714e-03],\n",
       "        [7.83400000e-01, 6.75595238e-02],\n",
       "        [7.48200000e-01, 3.84920635e-02],\n",
       "        [7.82400000e-01, 0.00000000e+00],\n",
       "        [8.08200000e-01, 0.00000000e+00],\n",
       "        [8.25800000e-01, 0.00000000e+00],\n",
       "        [8.37400000e-01, 0.00000000e+00],\n",
       "        [8.36600000e-01, 1.98412698e-03],\n",
       "        [8.16600000e-01, 1.25000000e-02],\n",
       "        [7.73600000e-01, 3.74007937e-02],\n",
       "        [7.52600000e-01, 2.49007937e-02],\n",
       "        [7.75200000e-01, 4.11706349e-02],\n",
       "        [8.12000000e-01, 2.18253968e-03],\n",
       "        [7.96000000e-01, 0.00000000e+00],\n",
       "        [8.17000000e-01, 7.93650794e-04],\n",
       "        [8.23000000e-01, 1.08134921e-02],\n",
       "        [8.36600000e-01, 3.96825397e-04],\n",
       "        [8.34000000e-01, 1.78571429e-03],\n",
       "        [8.26800000e-01, 2.97619048e-03],\n",
       "        [8.27200000e-01, 0.00000000e+00],\n",
       "        [8.11600000e-01, 9.92063492e-05],\n",
       "        [8.17600000e-01, 1.98412698e-03],\n",
       "        [8.34600000e-01, 8.92857143e-04],\n",
       "        [8.25800000e-01, 1.69642857e-02],\n",
       "        [8.17600000e-01, 1.15079365e-02],\n",
       "        [8.18400000e-01, 0.00000000e+00],\n",
       "        [8.28000000e-01, 0.00000000e+00],\n",
       "        [8.19600000e-01, 6.94444444e-04],\n",
       "        [7.94400000e-01, 1.24007937e-01],\n",
       "        [7.89400000e-01, 3.42261905e-02],\n",
       "        [7.72400000e-01, 7.83730159e-03],\n",
       "        [8.08000000e-01, 1.38888889e-03],\n",
       "        [7.01400000e-01, 2.18253968e-03],\n",
       "        [6.79000000e-01, 3.49206349e-02],\n",
       "        [6.86200000e-01, 1.75595238e-02],\n",
       "        [6.85200000e-01, 3.96825397e-04],\n",
       "        [6.98000000e-01, 2.37103175e-02],\n",
       "        [6.79000000e-01, 2.99603175e-02],\n",
       "        [6.66600000e-01, 1.28075397e-01],\n",
       "        [6.90200000e-01, 5.36706349e-02],\n",
       "        [8.09400000e-01, 1.39880952e-02],\n",
       "        [7.61000000e-01, 1.08134921e-02],\n",
       "        [7.97800000e-01, 0.00000000e+00],\n",
       "        [8.64600000e-01, 0.00000000e+00],\n",
       "        [8.27600000e-01, 0.00000000e+00],\n",
       "        [7.93000000e-01, 7.04365079e-03],\n",
       "        [7.95800000e-01, 3.17460317e-03],\n",
       "        [8.16000000e-01, 4.96031746e-04],\n",
       "        [8.03000000e-01, 1.33928571e-02],\n",
       "        [7.58000000e-01, 1.66666667e-02],\n",
       "        [7.33600000e-01, 4.35515873e-02],\n",
       "        [6.46000000e-01, 3.29265873e-01],\n",
       "        [6.84800000e-01, 6.57738095e-02],\n",
       "        [6.98200000e-01, 3.55158730e-02],\n",
       "        [7.37000000e-01, 3.47222222e-03],\n",
       "        [7.13000000e-01, 2.64880952e-02],\n",
       "        [7.10200000e-01, 2.89682540e-02],\n",
       "        [6.62200000e-01, 4.58333333e-02],\n",
       "        [6.63800000e-01, 1.42261905e-01],\n",
       "        [6.98600000e-01, 3.10515873e-02],\n",
       "        [7.19400000e-01, 8.38293651e-02],\n",
       "        [6.40600000e-01, 2.33531746e-01],\n",
       "        [6.37200000e-01, 4.06746032e-03],\n",
       "        [6.85800000e-01, 2.37103175e-02],\n",
       "        [7.14600000e-01, 1.88492063e-03],\n",
       "        [6.78800000e-01, 1.61706349e-02],\n",
       "        [7.08400000e-01, 1.12103175e-02],\n",
       "        [7.27200000e-01, 1.78571429e-03],\n",
       "        [7.26000000e-01, 1.58730159e-03],\n",
       "        [7.13600000e-01, 8.92857143e-04],\n",
       "        [6.30400000e-01, 9.52380952e-03],\n",
       "        [6.91600000e-01, 4.06746032e-02],\n",
       "        [6.63600000e-01, 4.65277778e-02],\n",
       "        [7.37200000e-01, 7.93650794e-03],\n",
       "        [6.50600000e-01, 1.45634921e-01],\n",
       "        [6.25000000e-01, 9.77182540e-02],\n",
       "        [6.75400000e-01, 9.18650794e-02],\n",
       "        [6.85600000e-01, 5.25793651e-03],\n",
       "        [7.01000000e-01, 1.18452381e-01],\n",
       "        [6.01200000e-01, 1.86805556e-01],\n",
       "        [6.27200000e-01, 1.01388889e-01],\n",
       "        [6.30000000e-01, 4.96031746e-04],\n",
       "        [6.72400000e-01, 4.48412698e-02],\n",
       "        [6.38800000e-01, 1.35912698e-02],\n",
       "        [6.48200000e-01, 5.25793651e-03],\n",
       "        [6.55800000e-01, 4.79166667e-02],\n",
       "        [6.01000000e-01, 5.01984127e-02],\n",
       "        [6.54600000e-01, 1.09920635e-01],\n",
       "        [6.08200000e-01, 6.79563492e-02],\n",
       "        [5.98600000e-01, 1.42956349e-01],\n",
       "        [6.49400000e-01, 6.05158730e-02],\n",
       "        [6.16600000e-01, 2.06944444e-01],\n",
       "        [5.85000000e-01, 2.58234127e-01],\n",
       "        [6.49000000e-01, 4.35515873e-02],\n",
       "        [6.36000000e-01, 1.94642857e-01],\n",
       "        [6.27000000e-01, 4.82142857e-02],\n",
       "        [6.12400000e-01, 1.25099206e-01],\n",
       "        [6.37600000e-01, 3.06547619e-02],\n",
       "        [6.44800000e-01, 2.45039683e-02],\n",
       "        [5.87000000e-01, 1.38789683e-01],\n",
       "        [5.52600000e-01, 7.36011905e-01],\n",
       "        [6.18800000e-01, 1.27182540e-01],\n",
       "        [6.73600000e-01, 1.25000000e-02],\n",
       "        [6.75800000e-01, 2.47023810e-02],\n",
       "        [6.52400000e-01, 1.08134921e-02],\n",
       "        [6.25200000e-01, 0.00000000e+00],\n",
       "        [6.72400000e-01, 0.00000000e+00],\n",
       "        [6.47600000e-01, 0.00000000e+00],\n",
       "        [6.22200000e-01, 1.09126984e-03],\n",
       "        [6.27000000e-01, 3.96825397e-04],\n",
       "        [6.57200000e-01, 6.94444444e-04],\n",
       "        [6.61200000e-01, 9.92063492e-05],\n",
       "        [6.34200000e-01, 0.00000000e+00],\n",
       "        [6.55200000e-01, 6.44841270e-03],\n",
       "        [6.28200000e-01, 3.17460317e-03],\n",
       "        [6.63600000e-01, 2.97619048e-04],\n",
       "        [6.55600000e-01, 9.92063492e-03],\n",
       "        [6.23800000e-01, 1.67658730e-02],\n",
       "        [6.41000000e-01, 1.88492063e-02],\n",
       "        [6.48200000e-01, 3.54166667e-02],\n",
       "        [6.29600000e-01, 4.23611111e-02],\n",
       "        [6.09600000e-01, 7.25198413e-02],\n",
       "        [6.15000000e-01, 1.30654762e-01],\n",
       "        [6.34000000e-01, 2.20238095e-02],\n",
       "        [6.01000000e-01, 6.74603175e-02],\n",
       "        [5.76600000e-01, 1.13392857e-01],\n",
       "        [6.34600000e-01, 6.40873016e-02],\n",
       "        [6.49800000e-01, 5.68452381e-02],\n",
       "        [6.47200000e-01, 2.38095238e-03],\n",
       "        [6.06600000e-01, 1.94444444e-02],\n",
       "        [5.89600000e-01, 6.02182540e-02],\n",
       "        [6.21200000e-01, 3.89880952e-02],\n",
       "        [6.38000000e-01, 1.13095238e-02],\n",
       "        [6.56600000e-01, 6.94444444e-04],\n",
       "        [6.30800000e-01, 4.44444444e-02],\n",
       "        [6.10400000e-01, 7.46031746e-02],\n",
       "        [6.25400000e-01, 4.31547619e-02],\n",
       "        [6.37800000e-01, 1.34821429e-01],\n",
       "        [6.29200000e-01, 2.36210317e-01],\n",
       "        [6.24800000e-01, 2.41269841e-01],\n",
       "        [5.87400000e-01, 5.02976190e-02],\n",
       "        [6.21000000e-01, 9.54365079e-02],\n",
       "        [6.28800000e-01, 2.00595238e-01],\n",
       "        [5.99400000e-01, 1.72023810e-01],\n",
       "        [6.19200000e-01, 1.04662698e-01],\n",
       "        [5.84800000e-01, 7.56944444e-02],\n",
       "        [5.53000000e-01, 3.28273810e-01],\n",
       "        [6.15200000e-01, 5.02976190e-02],\n",
       "        [6.44600000e-01, 2.67857143e-03],\n",
       "        [6.45400000e-01, 2.97619048e-04],\n",
       "        [6.26600000e-01, 3.96825397e-04],\n",
       "        [6.10200000e-01, 2.97619048e-04],\n",
       "        [6.01000000e-01, 8.82936508e-03],\n",
       "        [6.27200000e-01, 2.07341270e-02],\n",
       "        [6.53000000e-01, 1.43849206e-02],\n",
       "        [6.27400000e-01, 1.09126984e-03],\n",
       "        [6.26000000e-01, 0.00000000e+00],\n",
       "        [6.34800000e-01, 4.96031746e-04],\n",
       "        [6.26400000e-01, 5.05952381e-03],\n",
       "        [6.26800000e-01, 4.98015873e-02],\n",
       "        [6.03800000e-01, 1.58829365e-01],\n",
       "        [6.02800000e-01, 6.33928571e-02],\n",
       "        [5.71600000e-01, 1.76587302e-02],\n",
       "        [5.92200000e-01, 3.21428571e-02],\n",
       "        [6.21800000e-01, 2.22222222e-02],\n",
       "        [6.28000000e-01, 7.78769841e-02],\n",
       "        [6.23800000e-01, 2.57440476e-01],\n",
       "        [5.72200000e-01, 3.60317460e-01],\n",
       "        [6.14600000e-01, 2.16269841e-02],\n",
       "        [6.08800000e-01, 1.09126984e-03],\n",
       "        [6.31800000e-01, 3.89880952e-02],\n",
       "        [5.91400000e-01, 4.44444444e-02],\n",
       "        [5.97600000e-01, 2.28174603e-03],\n",
       "        [6.21800000e-01, 1.98412698e-04],\n",
       "        [6.30800000e-01, 2.67857143e-03],\n",
       "        [5.97600000e-01, 2.80753968e-02],\n",
       "        [6.09600000e-01, 2.26190476e-02],\n",
       "        [6.17200000e-01, 2.64880952e-02],\n",
       "        [6.14400000e-01, 1.23015873e-02],\n",
       "        [6.16000000e-01, 5.28769841e-02],\n",
       "        [5.79000000e-01, 6.15079365e-03],\n",
       "        [6.13600000e-01, 9.92063492e-05],\n",
       "        [6.24000000e-01, 7.83730159e-03],\n",
       "        [6.17400000e-01, 2.49007937e-02],\n",
       "        [5.99000000e-01, 2.87698413e-03],\n",
       "        [6.21600000e-01, 7.43055556e-02],\n",
       "        [6.13600000e-01, 8.07539683e-02],\n",
       "        [5.88200000e-01, 2.50992063e-02],\n",
       "        [6.20400000e-01, 1.98412698e-04],\n",
       "        [6.07400000e-01, 0.00000000e+00],\n",
       "        [5.95200000e-01, 1.98412698e-04],\n",
       "        [6.10800000e-01, 4.96031746e-04],\n",
       "        [6.02800000e-01, 9.92063492e-05],\n",
       "        [6.01200000e-01, 9.92063492e-05],\n",
       "        [5.86200000e-01, 7.53968254e-03],\n",
       "        [5.89000000e-01, 0.00000000e+00],\n",
       "        [5.88600000e-01, 0.00000000e+00],\n",
       "        [5.83800000e-01, 0.00000000e+00],\n",
       "        [5.91200000e-01, 9.32539683e-03],\n",
       "        [5.84200000e-01, 8.99801587e-02],\n",
       "        [5.97000000e-01, 2.73809524e-02],\n",
       "        [5.85200000e-01, 2.82738095e-02],\n",
       "        [5.74400000e-01, 1.89484127e-02],\n",
       "        [5.72200000e-01, 3.39285714e-02],\n",
       "        [5.76600000e-01, 3.09523810e-02],\n",
       "        [5.79400000e-01, 1.98412698e-03],\n",
       "        [5.88400000e-01, 2.97619048e-04],\n",
       "        [5.70200000e-01, 9.92063492e-05],\n",
       "        [5.60400000e-01, 0.00000000e+00],\n",
       "        [5.65000000e-01, 0.00000000e+00],\n",
       "        [5.61600000e-01, 0.00000000e+00],\n",
       "        [5.54800000e-01, 9.92063492e-05],\n",
       "        [5.41400000e-01, 5.59523810e-02],\n",
       "        [5.60200000e-01, 7.53968254e-02],\n",
       "        [5.72200000e-01, 3.62103175e-02],\n",
       "        [5.97400000e-01, 6.15079365e-02],\n",
       "        [6.01600000e-01, 4.41468254e-02],\n",
       "        [5.90400000e-01, 2.27182540e-02],\n",
       "        [5.89600000e-01, 3.76984127e-03],\n",
       "        [5.72200000e-01, 2.50992063e-02],\n",
       "        [5.47400000e-01, 8.29365079e-02],\n",
       "        [5.98000000e-01, 4.82142857e-02],\n",
       "        [5.95200000e-01, 7.63888889e-02],\n",
       "        [6.06000000e-01, 1.18055556e-02],\n",
       "        [6.13000000e-01, 5.35714286e-03],\n",
       "        [5.62400000e-01, 1.58730159e-02],\n",
       "        [6.00400000e-01, 2.57936508e-03],\n",
       "        [5.91800000e-01, 0.00000000e+00],\n",
       "        [5.55800000e-01, 0.00000000e+00],\n",
       "        [5.25000000e-01, 1.82539683e-02],\n",
       "        [5.37400000e-01, 1.42857143e-02],\n",
       "        [5.17400000e-01, 9.92063492e-05],\n",
       "        [5.56600000e-01, 0.00000000e+00],\n",
       "        [5.49600000e-01, 0.00000000e+00],\n",
       "        [5.44600000e-01, 0.00000000e+00],\n",
       "        [5.79600000e-01, 0.00000000e+00],\n",
       "        [5.87400000e-01, 0.00000000e+00],\n",
       "        [5.90200000e-01, 0.00000000e+00],\n",
       "        [5.80000000e-01, 0.00000000e+00],\n",
       "        [5.79200000e-01, 0.00000000e+00],\n",
       "        [5.59200000e-01, 0.00000000e+00],\n",
       "        [5.79200000e-01, 0.00000000e+00],\n",
       "        [5.79600000e-01, 0.00000000e+00],\n",
       "        [5.71200000e-01, 0.00000000e+00],\n",
       "        [5.54000000e-01, 0.00000000e+00],\n",
       "        [5.45800000e-01, 0.00000000e+00],\n",
       "        [4.94400000e-01, 0.00000000e+00],\n",
       "        [5.46000000e-01, 0.00000000e+00],\n",
       "        [5.45200000e-01, 0.00000000e+00],\n",
       "        [5.37000000e-01, 0.00000000e+00],\n",
       "        [5.32200000e-01, 0.00000000e+00],\n",
       "        [5.31000000e-01, 0.00000000e+00],\n",
       "        [5.32400000e-01, 0.00000000e+00],\n",
       "        [5.56600000e-01, 0.00000000e+00],\n",
       "        [5.68000000e-01, 0.00000000e+00],\n",
       "        [5.66400000e-01, 0.00000000e+00],\n",
       "        [5.88800000e-01, 0.00000000e+00],\n",
       "        [5.85000000e-01, 0.00000000e+00],\n",
       "        [5.73800000e-01, 0.00000000e+00],\n",
       "        [5.81600000e-01, 0.00000000e+00],\n",
       "        [5.87800000e-01, 0.00000000e+00],\n",
       "        [5.73200000e-01, 0.00000000e+00],\n",
       "        [5.80000000e-01, 0.00000000e+00]]])"
      ]
     },
     "execution_count": 30,
     "metadata": {},
     "output_type": "execute_result"
    }
   ],
   "source": [
    "test_x=df[10958:11323]                             #year 2021 data to predict data for 2022\n",
    "display(test_x)\n",
    "test_x=test_x.to_numpy()\n",
    "test_x=test_x.reshape(1,365,2)\n",
    "test_x"
   ]
  },
  {
   "cell_type": "code",
   "execution_count": 25,
   "id": "b488df61",
   "metadata": {},
   "outputs": [
    {
     "data": {
      "text/plain": [
       "array([0.586 , 0.584 , 0.5916, 0.5752, 0.578 , 0.5876, 0.5944, 0.598 ,\n",
       "       0.6004, 0.6086, 0.6056, 0.5902, 0.5818, 0.5864, 0.57  , 0.5792,\n",
       "       0.5676, 0.5924, 0.586 , 0.6016, 0.6386, 0.643 , 0.6262, 0.6156,\n",
       "       0.5782, 0.591 , 0.589 , 0.5888, 0.6068, 0.6256, 0.646 , 0.6468,\n",
       "       0.6632, 0.652 , 0.6466, 0.6446, 0.638 , 0.6596, 0.6498, 0.6566,\n",
       "       0.644 , 0.6596, 0.659 , 0.6632, 0.6632, 0.6574, 0.6582, 0.6652,\n",
       "       0.6724, 0.683 , 0.7302, 0.7314, 0.7322, 0.7116, 0.7122, 0.7342,\n",
       "       0.7122, 0.7114, 0.725 , 0.7434, 0.7396, 0.7394, 0.7446, 0.7478,\n",
       "       0.7524, 0.7492, 0.7492, 0.7754, 0.7584, 0.7806, 0.7788, 0.723 ,\n",
       "       0.794 , 0.8124, 0.8324, 0.8514, 0.8218, 0.7982, 0.8164, 0.841 ,\n",
       "       0.8306, 0.8346, 0.8186, 0.8216, 0.833 , 0.838 , 0.8408, 0.8544,\n",
       "       0.857 , 0.8496, 0.8336, 0.818 , 0.8266, 0.8146, 0.815 , 0.8174,\n",
       "       0.8026, 0.8174, 0.8056, 0.8238, 0.8102, 0.8282, 0.8188, 0.8382,\n",
       "       0.8492, 0.8356, 0.7974, 0.8396, 0.8614, 0.848 , 0.8218, 0.828 ,\n",
       "       0.839 , 0.868 , 0.8796, 0.8802, 0.8758, 0.8836, 0.9138, 0.9048,\n",
       "       0.895 , 0.874 , 0.8456, 0.6958, 0.8002, 0.7986, 0.848 , 0.841 ,\n",
       "       0.8296, 0.786 , 0.665 , 0.6486, 0.7138, 0.793 , 0.6826, 0.6974,\n",
       "       0.6624, 0.6804, 0.6376, 0.6846, 0.781 , 0.8174, 0.8292, 0.831 ,\n",
       "       0.817 , 0.6686, 0.775 , 0.8374, 0.8336, 0.8264, 0.8284, 0.6426,\n",
       "       0.7358, 0.823 , 0.7486, 0.6646, 0.7402, 0.7234, 0.721 , 0.6474,\n",
       "       0.651 , 0.703 , 0.675 , 0.6612, 0.713 , 0.6654, 0.703 , 0.6654,\n",
       "       0.7046, 0.7004, 0.6946, 0.5888, 0.6464, 0.677 , 0.561 , 0.5552,\n",
       "       0.606 , 0.6224, 0.6518, 0.6474, 0.6188, 0.676 , 0.6382, 0.5974,\n",
       "       0.6322, 0.613 , 0.6042, 0.6146, 0.5594, 0.564 , 0.5872, 0.5952,\n",
       "       0.5594, 0.567 , 0.5546, 0.6188, 0.5974, 0.5928, 0.6096, 0.6302,\n",
       "       0.6424, 0.5912, 0.5588, 0.583 , 0.5984, 0.606 , 0.6112, 0.608 ,\n",
       "       0.633 , 0.6228, 0.659 , 0.6152, 0.6176, 0.6252, 0.6208, 0.5844,\n",
       "       0.5864, 0.5918, 0.5642, 0.5636, 0.5994, 0.6054, 0.5924, 0.5976,\n",
       "       0.6112, 0.5858, 0.5788, 0.6212, 0.6226, 0.5764, 0.5522, 0.6078,\n",
       "       0.6146, 0.6266, 0.6226, 0.5588, 0.628 , 0.6166, 0.6026, 0.5614,\n",
       "       0.6218, 0.5976, 0.6134, 0.6094, 0.5924, 0.631 , 0.6252, 0.6056,\n",
       "       0.6136, 0.585 , 0.5956, 0.6176, 0.5672, 0.5558, 0.6146, 0.613 ,\n",
       "       0.5988, 0.5758, 0.6052, 0.6104, 0.5904, 0.5524, 0.5806, 0.5982,\n",
       "       0.593 , 0.5842, 0.6072, 0.6316, 0.6076, 0.5912, 0.5774, 0.5766,\n",
       "       0.556 , 0.5598, 0.5846, 0.6054, 0.5348, 0.5732, 0.5656, 0.5764,\n",
       "       0.5974, 0.5896, 0.5806, 0.5798, 0.6024, 0.6058, 0.5934, 0.5864,\n",
       "       0.6066, 0.6052, 0.5946, 0.5878, 0.5858, 0.5932, 0.5816, 0.5612,\n",
       "       0.5632, 0.5672, 0.5848, 0.5878, 0.5538, 0.5624, 0.5556, 0.5454,\n",
       "       0.5176, 0.5544, 0.5732, 0.583 , 0.5834, 0.5724, 0.5734, 0.5832,\n",
       "       0.565 , 0.5614, 0.5524, 0.5476, 0.5636, 0.5604, 0.558 , 0.5538,\n",
       "       0.5424, 0.6   , 0.6   , 0.56  , 0.5388, 0.5616, 0.5742, 0.5794,\n",
       "       0.5724, 0.5704, 0.5668, 0.5578, 0.5446, 0.5434, 0.562 , 0.579 ,\n",
       "       0.5776, 0.5784, 0.5664, 0.5556, 0.5352, 0.5078, 0.513 , 0.5438,\n",
       "       0.5572, 0.5652, 0.5676, 0.5854, 0.5828, 0.5886, 0.5834, 0.5488,\n",
       "       0.5366, 0.5466, 0.5168, 0.5448, 0.5456, 0.5424, 0.5684, 0.577 ,\n",
       "       0.581 , 0.5904, 0.5904, 0.5846, 0.5788])"
      ]
     },
     "execution_count": 25,
     "metadata": {},
     "output_type": "execute_result"
    }
   ],
   "source": [
    "test_y=df['temp_max'][11323:]                      #year 2022 data to validate the prediction of model\n",
    "test_y=test_y.to_numpy()\n",
    "test_y"
   ]
  },
  {
   "cell_type": "code",
   "execution_count": 31,
   "id": "4c65c571",
   "metadata": {},
   "outputs": [
    {
     "name": "stdout",
     "output_type": "stream",
     "text": [
      "1/1 [==============================] - 0s 26ms/step\n"
     ]
    }
   ],
   "source": [
    "predictions2=khammam_temp.predict(test_x)"
   ]
  },
  {
   "cell_type": "code",
   "execution_count": 32,
   "id": "8519d138",
   "metadata": {},
   "outputs": [],
   "source": [
    "predictions2= predictions2.reshape(365)\n",
    "predictions2= pd.DataFrame(data=predictions2, index=df[11323:].index)"
   ]
  },
  {
   "cell_type": "code",
   "execution_count": 33,
   "id": "7f1fbe1b",
   "metadata": {},
   "outputs": [
    {
     "data": {
      "text/plain": [
       "(365, 1)"
      ]
     },
     "execution_count": 33,
     "metadata": {},
     "output_type": "execute_result"
    }
   ],
   "source": [
    "predictions2.shape"
   ]
  },
  {
   "cell_type": "code",
   "execution_count": 34,
   "id": "480d4202",
   "metadata": {},
   "outputs": [],
   "source": [
    "predictions2=predictions2*50"
   ]
  },
  {
   "cell_type": "code",
   "execution_count": 35,
   "id": "6640735b",
   "metadata": {},
   "outputs": [],
   "source": [
    "expected=pd.DataFrame(data=test_y, index=df[11323:].index, columns=[\"temp_max_actual\"])"
   ]
  },
  {
   "cell_type": "code",
   "execution_count": 36,
   "id": "4007471c",
   "metadata": {},
   "outputs": [],
   "source": [
    "expected=expected*50"
   ]
  },
  {
   "cell_type": "code",
   "execution_count": 37,
   "id": "4395ef1b",
   "metadata": {},
   "outputs": [],
   "source": [
    "from sklearn.metrics import mean_squared_error as mse\n",
    "from sklearn.metrics import mean_absolute_error as mae\n",
    "from sklearn.metrics import mean_absolute_percentage_error as mape"
   ]
  },
  {
   "cell_type": "code",
   "execution_count": 59,
   "id": "78bb1dc2",
   "metadata": {},
   "outputs": [
    {
     "name": "stdout",
     "output_type": "stream",
     "text": [
      "RMSE:  3.2047273492397577\n",
      "MAE:  2.496681560568614\n",
      "MAPE: 7.94421655675957%\n"
     ]
    }
   ],
   "source": [
    "rmse= mse(expected, predictions2, squared=False)\n",
    "print(\"RMSE: \",rmse)\n",
    "mae1= mae(expected, predictions2)\n",
    "print(\"MAE: \",mae1)\n",
    "mape1= mape(expected, predictions2)\n",
    "print(\"MAPE: {}%\".format(mape1*100))"
   ]
  },
  {
   "cell_type": "markdown",
   "id": "a3a37897",
   "metadata": {},
   "source": [
    "The above results shows that our model can perform very well in real world deployment as we used data from 2021 to predict data for 2022, both of these were never used earlier to train, test or validate model. So the results here depict real world accuracies."
   ]
  },
  {
   "cell_type": "code",
   "execution_count": 39,
   "id": "12fd8fd9",
   "metadata": {},
   "outputs": [],
   "source": [
    "prediction_low=predictions2-mae1\n",
    "prediction_upper=predictions2+mae1"
   ]
  },
  {
   "cell_type": "code",
   "execution_count": 40,
   "id": "814e34ee",
   "metadata": {},
   "outputs": [],
   "source": [
    "prediction_upper.columns=['upper bound temp']\n",
    "prediction_low.columns=['lower bound temp']\n",
    "predictions2.columns=['predicted temp']"
   ]
  },
  {
   "cell_type": "code",
   "execution_count": 41,
   "id": "ae7e21f6",
   "metadata": {},
   "outputs": [
    {
     "data": {
      "image/png": "[encoded data removed]",
      "text/plain": [
       "<Figure size 1000x600 with 1 Axes>"
      ]
     },
     "metadata": {},
     "output_type": "display_data"
    }
   ],
   "source": [
    "# Plotting to check how our actual and predicted temperature differ altogether\n",
    "ax = expected.plot(\n",
    "    figsize=(10, 6),\n",
    "    color=\"blue\",\n",
    "    title=\"Temp forecasting using LSTM\",\n",
    ")\n",
    "ax.set_ylabel(\"Temp_max\")\n",
    "ax.set_xlabel(\"Year\")\n",
    "\n",
    "predictions2.plot(ax=ax, color=\"yellow\")     \n",
    "prediction_low.plot(ax=ax, color=\"green\")\n",
    "prediction_upper.plot(ax=ax, color=\"red\")\n",
    "plt.show()"
   ]
  },
  {
   "cell_type": "code",
   "execution_count": 2,
   "id": "af144c77",
   "metadata": {},
   "outputs": [],
   "source": [
    "from tensorflow import keras"
   ]
  },
  {
   "cell_type": "code",
   "execution_count": 3,
   "id": "eec538bf",
   "metadata": {},
   "outputs": [],
   "source": [
    "model = keras.models.load_model(\"khammam_heat_nasa.h5\")"
   ]
  },
  {
   "cell_type": "code",
   "execution_count": 10,
   "id": "003619e2",
   "metadata": {},
   "outputs": [
    {
     "data": {
      "text/html": [
       "<div>\n",
       "<style scoped>\n",
       "    .dataframe tbody tr th:only-of-type {\n",
       "        vertical-align: middle;\n",
       "    }\n",
       "\n",
       "    .dataframe tbody tr th {\n",
       "        vertical-align: top;\n",
       "    }\n",
       "\n",
       "    .dataframe thead th {\n",
       "        text-align: right;\n",
       "    }\n",
       "</style>\n",
       "<table border=\"1\" class=\"dataframe\">\n",
       "  <thead>\n",
       "    <tr style=\"text-align: right;\">\n",
       "      <th></th>\n",
       "      <th>temp_max</th>\n",
       "      <th>rainfall</th>\n",
       "    </tr>\n",
       "    <tr>\n",
       "      <th>Date</th>\n",
       "      <th></th>\n",
       "      <th></th>\n",
       "    </tr>\n",
       "  </thead>\n",
       "  <tbody>\n",
       "    <tr>\n",
       "      <th>2022-01-01</th>\n",
       "      <td>0.5860</td>\n",
       "      <td>0.000000</td>\n",
       "    </tr>\n",
       "    <tr>\n",
       "      <th>2022-01-02</th>\n",
       "      <td>0.5840</td>\n",
       "      <td>0.000000</td>\n",
       "    </tr>\n",
       "    <tr>\n",
       "      <th>2022-01-03</th>\n",
       "      <td>0.5916</td>\n",
       "      <td>0.000000</td>\n",
       "    </tr>\n",
       "    <tr>\n",
       "      <th>2022-01-04</th>\n",
       "      <td>0.5752</td>\n",
       "      <td>0.000000</td>\n",
       "    </tr>\n",
       "    <tr>\n",
       "      <th>2022-01-05</th>\n",
       "      <td>0.5780</td>\n",
       "      <td>0.000000</td>\n",
       "    </tr>\n",
       "    <tr>\n",
       "      <th>...</th>\n",
       "      <td>...</td>\n",
       "      <td>...</td>\n",
       "    </tr>\n",
       "    <tr>\n",
       "      <th>2022-12-27</th>\n",
       "      <td>0.5810</td>\n",
       "      <td>0.003770</td>\n",
       "    </tr>\n",
       "    <tr>\n",
       "      <th>2022-12-28</th>\n",
       "      <td>0.5904</td>\n",
       "      <td>0.003571</td>\n",
       "    </tr>\n",
       "    <tr>\n",
       "      <th>2022-12-29</th>\n",
       "      <td>0.5904</td>\n",
       "      <td>0.004365</td>\n",
       "    </tr>\n",
       "    <tr>\n",
       "      <th>2022-12-30</th>\n",
       "      <td>0.5846</td>\n",
       "      <td>0.000694</td>\n",
       "    </tr>\n",
       "    <tr>\n",
       "      <th>2022-12-31</th>\n",
       "      <td>0.5788</td>\n",
       "      <td>0.000893</td>\n",
       "    </tr>\n",
       "  </tbody>\n",
       "</table>\n",
       "<p>365 rows × 2 columns</p>\n",
       "</div>"
      ],
      "text/plain": [
       "            temp_max  rainfall\n",
       "Date                          \n",
       "2022-01-01    0.5860  0.000000\n",
       "2022-01-02    0.5840  0.000000\n",
       "2022-01-03    0.5916  0.000000\n",
       "2022-01-04    0.5752  0.000000\n",
       "2022-01-05    0.5780  0.000000\n",
       "...              ...       ...\n",
       "2022-12-27    0.5810  0.003770\n",
       "2022-12-28    0.5904  0.003571\n",
       "2022-12-29    0.5904  0.004365\n",
       "2022-12-30    0.5846  0.000694\n",
       "2022-12-31    0.5788  0.000893\n",
       "\n",
       "[365 rows x 2 columns]"
      ]
     },
     "metadata": {},
     "output_type": "display_data"
    },
    {
     "data": {
      "image/png": "[encoded data removed]",
      "text/plain": [
       "<Figure size 640x480 with 1 Axes>"
      ]
     },
     "metadata": {},
     "output_type": "display_data"
    }
   ],
   "source": [
    "test_x1=df[11323:]                                      #data of year 2022 to predict temp data for 2023\n",
    "(test_x1).plot()\n",
    "display(test_x1)\n",
    "test_x1=test_x1.to_numpy()\n",
    "test_x1=test_x1.reshape(1,365,2)\n"
   ]
  },
  {
   "cell_type": "code",
   "execution_count": 23,
   "id": "793812e2",
   "metadata": {
    "scrolled": true
   },
   "outputs": [
    {
     "name": "stdout",
     "output_type": "stream",
     "text": [
      "1/1 [==============================] - 0s 48ms/step\n"
     ]
    }
   ],
   "source": [
    "pred1= model.predict(test_x1)                          #prediction values for year 2023"
   ]
  },
  {
   "cell_type": "code",
   "execution_count": 20,
   "id": "d0579dc3",
   "metadata": {},
   "outputs": [
    {
     "data": {
      "text/plain": [
       "array([[0.57775635, 0.5794764 , 0.576092  , 0.5779199 , 0.5779631 ,\n",
       "        0.57693124, 0.58570683, 0.59003395, 0.5931898 , 0.601463  ,\n",
       "        0.60003436, 0.61393404, 0.61990964, 0.63072896, 0.638021  ,\n",
       "        0.63800013, 0.63497436, 0.6352103 , 0.6304518 , 0.62871003,\n",
       "        0.62800103, 0.63448584, 0.6340374 , 0.6305069 , 0.62672585,\n",
       "        0.6256063 , 0.6276202 , 0.63064116, 0.6314935 , 0.63735247,\n",
       "        0.6415448 , 0.6347854 , 0.6393502 , 0.64926636, 0.65341806,\n",
       "        0.6617192 , 0.6653123 , 0.66645104, 0.66658974, 0.6709585 ,\n",
       "        0.67088354, 0.6762838 , 0.68239766, 0.68407655, 0.68686354,\n",
       "        0.6965718 , 0.6923642 , 0.6921017 , 0.70205283, 0.699403  ,\n",
       "        0.6935761 , 0.6865939 , 0.6902961 , 0.6924586 , 0.6964889 ,\n",
       "        0.70398724, 0.7118565 , 0.70953554, 0.71337146, 0.7156023 ,\n",
       "        0.7297778 , 0.737157  , 0.74717295, 0.748941  , 0.7593943 ,\n",
       "        0.75571555, 0.7602894 , 0.7723665 , 0.77328444, 0.77610224,\n",
       "        0.7791513 , 0.77627516, 0.7861601 , 0.791105  , 0.792908  ,\n",
       "        0.7961277 , 0.7944906 , 0.7978549 , 0.8015171 , 0.80241764,\n",
       "        0.8048422 , 0.8074845 , 0.80862963, 0.8071617 , 0.81235254,\n",
       "        0.80047303, 0.79822505, 0.79242927, 0.7882    , 0.7940218 ,\n",
       "        0.79661584, 0.7997209 , 0.79732054, 0.79696393, 0.7980141 ,\n",
       "        0.8053063 , 0.8042476 , 0.79986346, 0.79153234, 0.78756326,\n",
       "        0.7862483 , 0.78826827, 0.792645  , 0.7938733 , 0.7946387 ,\n",
       "        0.7961961 , 0.7976748 , 0.7960798 , 0.7954139 , 0.7916742 ,\n",
       "        0.7897653 , 0.78937924, 0.80571544, 0.81600016, 0.8070072 ,\n",
       "        0.81317747, 0.8079345 , 0.812053  , 0.8168962 , 0.8193892 ,\n",
       "        0.8157217 , 0.8151666 , 0.8085654 , 0.8125733 , 0.80317366,\n",
       "        0.8006698 , 0.8001046 , 0.79913497, 0.7884919 , 0.7864682 ,\n",
       "        0.7856015 , 0.7867468 , 0.7757679 , 0.7788    , 0.7858192 ,\n",
       "        0.78166693, 0.78083295, 0.785383  , 0.7840505 , 0.77782196,\n",
       "        0.78050643, 0.7727622 , 0.75940895, 0.75383264, 0.74755317,\n",
       "        0.74433756, 0.7405047 , 0.73430413, 0.7254075 , 0.7221793 ,\n",
       "        0.71289754, 0.7091528 , 0.71170735, 0.711406  , 0.70679975,\n",
       "        0.7072985 , 0.71846044, 0.7242101 , 0.72277355, 0.7149918 ,\n",
       "        0.7237744 , 0.7211931 , 0.72271705, 0.7271756 , 0.72656393,\n",
       "        0.72707266, 0.7264675 , 0.71788675, 0.7166544 , 0.7127976 ,\n",
       "        0.7233103 , 0.7185751 , 0.72514105, 0.72167337, 0.72572833,\n",
       "        0.73118895, 0.730421  , 0.71994275, 0.7117804 , 0.7035534 ,\n",
       "        0.69478333, 0.68798894, 0.681277  , 0.6756475 , 0.66445804,\n",
       "        0.65204376, 0.6488174 , 0.63394994, 0.6270751 , 0.6218983 ,\n",
       "        0.6307718 , 0.626549  , 0.61590016, 0.6109249 , 0.61019766,\n",
       "        0.60906196, 0.61591053, 0.62129664, 0.61368024, 0.61694896,\n",
       "        0.6141175 , 0.6147754 , 0.6151039 , 0.6122215 , 0.61244035,\n",
       "        0.6038044 , 0.6041718 , 0.609655  , 0.6109469 , 0.6103581 ,\n",
       "        0.6039707 , 0.61316043, 0.61690634, 0.6356429 , 0.6432247 ,\n",
       "        0.65121603, 0.6528934 , 0.6478745 , 0.6524696 , 0.65693593,\n",
       "        0.6621038 , 0.6639545 , 0.66446096, 0.6595556 , 0.6617863 ,\n",
       "        0.66349757, 0.6701275 , 0.6647064 , 0.653565  , 0.6455708 ,\n",
       "        0.6372258 , 0.6331043 , 0.62461054, 0.6192892 , 0.608535  ,\n",
       "        0.6073207 , 0.6091262 , 0.6069894 , 0.60229313, 0.6043583 ,\n",
       "        0.6063534 , 0.60733396, 0.6110893 , 0.6090836 , 0.61189955,\n",
       "        0.61360943, 0.62088716, 0.62639874, 0.62646997, 0.6267514 ,\n",
       "        0.6324715 , 0.62603015, 0.62553275, 0.62459326, 0.6274018 ,\n",
       "        0.62440616, 0.6241456 , 0.61719555, 0.62186986, 0.6233461 ,\n",
       "        0.61669844, 0.61264956, 0.61771923, 0.60739416, 0.59973675,\n",
       "        0.606797  , 0.60660636, 0.6064965 , 0.6044936 , 0.61181974,\n",
       "        0.6158989 , 0.6174611 , 0.6158746 , 0.6121177 , 0.6121617 ,\n",
       "        0.61019135, 0.60994786, 0.6103747 , 0.6054955 , 0.6082676 ,\n",
       "        0.60260767, 0.5937294 , 0.59285897, 0.58544403, 0.58910966,\n",
       "        0.5868015 , 0.5839608 , 0.57910335, 0.5815732 , 0.5773252 ,\n",
       "        0.57426554, 0.57290846, 0.5710064 , 0.5705682 , 0.5738274 ,\n",
       "        0.5639413 , 0.55543464, 0.5598998 , 0.558601  , 0.5542413 ,\n",
       "        0.5517349 , 0.5490849 , 0.5504335 , 0.5596334 , 0.55912745,\n",
       "        0.5480697 , 0.5470415 , 0.5510787 , 0.55558074, 0.55749595,\n",
       "        0.5651994 , 0.56960803, 0.5746202 , 0.5771527 , 0.5745157 ,\n",
       "        0.5808915 , 0.5834118 , 0.5866861 , 0.5906358 , 0.59340525,\n",
       "        0.59896296, 0.6007111 , 0.6054133 , 0.60183793, 0.60384715,\n",
       "        0.609961  , 0.60020614, 0.6054051 , 0.6047823 , 0.59875333,\n",
       "        0.5947225 , 0.5936703 , 0.58432925, 0.58050805, 0.5773566 ,\n",
       "        0.5775448 , 0.58304244, 0.5833099 , 0.5868202 , 0.58055127,\n",
       "        0.5798921 , 0.5760757 , 0.5718484 , 0.57154185, 0.56976724,\n",
       "        0.5739026 , 0.57345426, 0.57295966, 0.57534975, 0.56872773,\n",
       "        0.5659172 , 0.56612444, 0.56223047, 0.5604794 , 0.56043863,\n",
       "        0.5576321 , 0.5600669 , 0.5658221 , 0.55946857, 0.57214755,\n",
       "        0.5723735 , 0.5664539 , 0.5703896 , 0.5790361 , 0.58934796]],\n",
       "      dtype=float32)"
      ]
     },
     "execution_count": 20,
     "metadata": {},
     "output_type": "execute_result"
    }
   ],
   "source": [
    "pred1"
   ]
  },
  {
   "cell_type": "code",
   "execution_count": 24,
   "id": "be681654",
   "metadata": {
    "scrolled": false
   },
   "outputs": [
    {
     "name": "stderr",
     "output_type": "stream",
     "text": [
      "C:\\Users\\Lenovo\\AppData\\Local\\Temp\\ipykernel_21212\\4161185875.py:5: UserWarning: Parsing dates in DD/MM/YYYY format when dayfirst=False (the default) was specified. This may lead to inconsistently parsed dates! Specify a format to ensure consistent parsing.\n",
      "  pred2[\"date\"]= pd.date_range(start='01-01-2023', end='31-12-2023')\n"
     ]
    }
   ],
   "source": [
    "pred1 = pred1.reshape(365)\n",
    "pred2 = pd.DataFrame(data=pred1,index=df[11323:].index, columns=['temp_max'])                       \n",
    "pred2[\"temp_max\"] = pred2[\"temp_max\"]*50                #denormalisation  \n",
    "pred2[\"date\"]= pd.date_range(start='01-01-2023', end='31-12-2023')"
   ]
  },
  {
   "cell_type": "code",
   "execution_count": 25,
   "id": "492e1d65",
   "metadata": {},
   "outputs": [
    {
     "data": {
      "text/html": [
       "<div>\n",
       "<style scoped>\n",
       "    .dataframe tbody tr th:only-of-type {\n",
       "        vertical-align: middle;\n",
       "    }\n",
       "\n",
       "    .dataframe tbody tr th {\n",
       "        vertical-align: top;\n",
       "    }\n",
       "\n",
       "    .dataframe thead th {\n",
       "        text-align: right;\n",
       "    }\n",
       "</style>\n",
       "<table border=\"1\" class=\"dataframe\">\n",
       "  <thead>\n",
       "    <tr style=\"text-align: right;\">\n",
       "      <th></th>\n",
       "      <th>temp_max</th>\n",
       "      <th>date</th>\n",
       "    </tr>\n",
       "    <tr>\n",
       "      <th>Date</th>\n",
       "      <th></th>\n",
       "      <th></th>\n",
       "    </tr>\n",
       "  </thead>\n",
       "  <tbody>\n",
       "    <tr>\n",
       "      <th>2022-01-01</th>\n",
       "      <td>31.377817</td>\n",
       "      <td>2023-01-01</td>\n",
       "    </tr>\n",
       "    <tr>\n",
       "      <th>2022-01-02</th>\n",
       "      <td>31.463821</td>\n",
       "      <td>2023-01-02</td>\n",
       "    </tr>\n",
       "    <tr>\n",
       "      <th>2022-01-03</th>\n",
       "      <td>31.294600</td>\n",
       "      <td>2023-01-03</td>\n",
       "    </tr>\n",
       "    <tr>\n",
       "      <th>2022-01-04</th>\n",
       "      <td>31.385994</td>\n",
       "      <td>2023-01-04</td>\n",
       "    </tr>\n",
       "    <tr>\n",
       "      <th>2022-01-05</th>\n",
       "      <td>31.388155</td>\n",
       "      <td>2023-01-05</td>\n",
       "    </tr>\n",
       "    <tr>\n",
       "      <th>...</th>\n",
       "      <td>...</td>\n",
       "      <td>...</td>\n",
       "    </tr>\n",
       "    <tr>\n",
       "      <th>2022-12-27</th>\n",
       "      <td>31.108675</td>\n",
       "      <td>2023-12-27</td>\n",
       "    </tr>\n",
       "    <tr>\n",
       "      <th>2022-12-28</th>\n",
       "      <td>30.812693</td>\n",
       "      <td>2023-12-28</td>\n",
       "    </tr>\n",
       "    <tr>\n",
       "      <th>2022-12-29</th>\n",
       "      <td>31.009481</td>\n",
       "      <td>2023-12-29</td>\n",
       "    </tr>\n",
       "    <tr>\n",
       "      <th>2022-12-30</th>\n",
       "      <td>31.441805</td>\n",
       "      <td>2023-12-30</td>\n",
       "    </tr>\n",
       "    <tr>\n",
       "      <th>2022-12-31</th>\n",
       "      <td>31.957397</td>\n",
       "      <td>2023-12-31</td>\n",
       "    </tr>\n",
       "  </tbody>\n",
       "</table>\n",
       "<p>365 rows × 2 columns</p>\n",
       "</div>"
      ],
      "text/plain": [
       "             temp_max       date\n",
       "Date                            \n",
       "2022-01-01  31.377817 2023-01-01\n",
       "2022-01-02  31.463821 2023-01-02\n",
       "2022-01-03  31.294600 2023-01-03\n",
       "2022-01-04  31.385994 2023-01-04\n",
       "2022-01-05  31.388155 2023-01-05\n",
       "...               ...        ...\n",
       "2022-12-27  31.108675 2023-12-27\n",
       "2022-12-28  30.812693 2023-12-28\n",
       "2022-12-29  31.009481 2023-12-29\n",
       "2022-12-30  31.441805 2023-12-30\n",
       "2022-12-31  31.957397 2023-12-31\n",
       "\n",
       "[365 rows x 2 columns]"
      ]
     },
     "execution_count": 25,
     "metadata": {},
     "output_type": "execute_result"
    }
   ],
   "source": [
    "pred2"
   ]
  },
  {
   "cell_type": "code",
   "execution_count": 26,
   "id": "2a3556f5",
   "metadata": {},
   "outputs": [],
   "source": [
    "pred4=pred2.copy()\n",
    "pred4=pred4.set_index('date')\n",
    "pred4.to_csv(\"C:\\\\Users\\\\Lenovo\\\\Desktop\\\\NASSCOM\\\\Prediction\\\\khammam_prediction_temp2.csv\")     #saving predicted data as csv"
   ]
  },
  {
   "cell_type": "code",
   "execution_count": 27,
   "id": "f84f81df",
   "metadata": {},
   "outputs": [],
   "source": [
    "norm= pd.read_csv(\"C:\\\\Users\\\\Lenovo\\\\Desktop\\\\NASSCOM\\\\Normals\\\\temp_normals.csv\")          #data of districtwise monthly climatic normal 1991-2021 "
   ]
  },
  {
   "cell_type": "markdown",
   "id": "978b87c4",
   "metadata": {},
   "source": [
    "According to IMD, heatwave need not to be considered untill max temp reaches atleast 40 deg celsius,\n",
    "so we'll filter the data accordingly"
   ]
  },
  {
   "cell_type": "code",
   "execution_count": 35,
   "id": "b5a273d9",
   "metadata": {},
   "outputs": [],
   "source": [
    "pred2= pred2.loc[(pred2['temp_max']>=40)]\n",
    "# pred2= pred2.sort_values(by=['date'])\n",
    "pred2['month']=pred2['date'].dt.month\n",
    "pred2['normal']=pred2['month'].astype(float)"
   ]
  },
  {
   "cell_type": "code",
   "execution_count": 36,
   "id": "3df538f4",
   "metadata": {},
   "outputs": [
    {
     "name": "stderr",
     "output_type": "stream",
     "text": [
      "C:\\Users\\Lenovo\\AppData\\Local\\Temp\\ipykernel_21212\\2408559818.py:2: SettingWithCopyWarning: \n",
      "A value is trying to be set on a copy of a slice from a DataFrame\n",
      "\n",
      "See the caveats in the documentation: https://pandas.pydata.org/pandas-docs/stable/user_guide/indexing.html#returning-a-view-versus-a-copy\n",
      "  pred2['normal'][i] = float(norm['Khammam'][int(pred2[\"month\"][i])-1])\n"
     ]
    },
    {
     "data": {
      "text/html": [
       "<div>\n",
       "<style scoped>\n",
       "    .dataframe tbody tr th:only-of-type {\n",
       "        vertical-align: middle;\n",
       "    }\n",
       "\n",
       "    .dataframe tbody tr th {\n",
       "        vertical-align: top;\n",
       "    }\n",
       "\n",
       "    .dataframe thead th {\n",
       "        text-align: right;\n",
       "    }\n",
       "</style>\n",
       "<table border=\"1\" class=\"dataframe\">\n",
       "  <thead>\n",
       "    <tr style=\"text-align: right;\">\n",
       "      <th></th>\n",
       "      <th>temp_max</th>\n",
       "      <th>date</th>\n",
       "      <th>month</th>\n",
       "      <th>normal</th>\n",
       "      <th>diff</th>\n",
       "    </tr>\n",
       "    <tr>\n",
       "      <th>Date</th>\n",
       "      <th></th>\n",
       "      <th></th>\n",
       "      <th></th>\n",
       "      <th></th>\n",
       "      <th></th>\n",
       "    </tr>\n",
       "  </thead>\n",
       "  <tbody>\n",
       "    <tr>\n",
       "      <th>2022-03-06</th>\n",
       "      <td>40.459717</td>\n",
       "      <td>2023-03-06</td>\n",
       "      <td>3</td>\n",
       "      <td>37.1</td>\n",
       "      <td>3.359717</td>\n",
       "    </tr>\n",
       "    <tr>\n",
       "      <th>2022-03-07</th>\n",
       "      <td>40.275780</td>\n",
       "      <td>2023-03-07</td>\n",
       "      <td>3</td>\n",
       "      <td>37.1</td>\n",
       "      <td>3.175780</td>\n",
       "    </tr>\n",
       "    <tr>\n",
       "      <th>2022-03-08</th>\n",
       "      <td>40.504471</td>\n",
       "      <td>2023-03-08</td>\n",
       "      <td>3</td>\n",
       "      <td>37.1</td>\n",
       "      <td>3.404471</td>\n",
       "    </tr>\n",
       "    <tr>\n",
       "      <th>2022-03-09</th>\n",
       "      <td>41.108326</td>\n",
       "      <td>2023-03-09</td>\n",
       "      <td>3</td>\n",
       "      <td>37.1</td>\n",
       "      <td>4.008326</td>\n",
       "    </tr>\n",
       "    <tr>\n",
       "      <th>2022-03-10</th>\n",
       "      <td>41.154224</td>\n",
       "      <td>2023-03-10</td>\n",
       "      <td>3</td>\n",
       "      <td>37.1</td>\n",
       "      <td>4.054224</td>\n",
       "    </tr>\n",
       "    <tr>\n",
       "      <th>...</th>\n",
       "      <td>...</td>\n",
       "      <td>...</td>\n",
       "      <td>...</td>\n",
       "      <td>...</td>\n",
       "      <td>...</td>\n",
       "    </tr>\n",
       "    <tr>\n",
       "      <th>2022-05-20</th>\n",
       "      <td>41.381100</td>\n",
       "      <td>2023-05-20</td>\n",
       "      <td>5</td>\n",
       "      <td>41.1</td>\n",
       "      <td>0.281100</td>\n",
       "    </tr>\n",
       "    <tr>\n",
       "      <th>2022-05-21</th>\n",
       "      <td>41.515324</td>\n",
       "      <td>2023-05-21</td>\n",
       "      <td>5</td>\n",
       "      <td>41.1</td>\n",
       "      <td>0.415324</td>\n",
       "    </tr>\n",
       "    <tr>\n",
       "      <th>2022-05-22</th>\n",
       "      <td>41.128109</td>\n",
       "      <td>2023-05-22</td>\n",
       "      <td>5</td>\n",
       "      <td>41.1</td>\n",
       "      <td>0.028109</td>\n",
       "    </tr>\n",
       "    <tr>\n",
       "      <th>2022-05-23</th>\n",
       "      <td>40.460449</td>\n",
       "      <td>2023-05-23</td>\n",
       "      <td>5</td>\n",
       "      <td>41.1</td>\n",
       "      <td>-0.639551</td>\n",
       "    </tr>\n",
       "    <tr>\n",
       "      <th>2022-05-24</th>\n",
       "      <td>40.181633</td>\n",
       "      <td>2023-05-24</td>\n",
       "      <td>5</td>\n",
       "      <td>41.1</td>\n",
       "      <td>-0.918367</td>\n",
       "    </tr>\n",
       "  </tbody>\n",
       "</table>\n",
       "<p>80 rows × 5 columns</p>\n",
       "</div>"
      ],
      "text/plain": [
       "             temp_max       date  month  normal      diff\n",
       "Date                                                     \n",
       "2022-03-06  40.459717 2023-03-06      3    37.1  3.359717\n",
       "2022-03-07  40.275780 2023-03-07      3    37.1  3.175780\n",
       "2022-03-08  40.504471 2023-03-08      3    37.1  3.404471\n",
       "2022-03-09  41.108326 2023-03-09      3    37.1  4.008326\n",
       "2022-03-10  41.154224 2023-03-10      3    37.1  4.054224\n",
       "...               ...        ...    ...     ...       ...\n",
       "2022-05-20  41.381100 2023-05-20      5    41.1  0.281100\n",
       "2022-05-21  41.515324 2023-05-21      5    41.1  0.415324\n",
       "2022-05-22  41.128109 2023-05-22      5    41.1  0.028109\n",
       "2022-05-23  40.460449 2023-05-23      5    41.1 -0.639551\n",
       "2022-05-24  40.181633 2023-05-24      5    41.1 -0.918367\n",
       "\n",
       "[80 rows x 5 columns]"
      ]
     },
     "execution_count": 36,
     "metadata": {},
     "output_type": "execute_result"
    }
   ],
   "source": [
    "for i in range(len(pred2['temp_max'])):\n",
    "    pred2['normal'][i] = float(norm['Khammam'][int(pred2[\"month\"][i])-1]) \n",
    "pred2"
   ]
  },
  {
   "cell_type": "markdown",
   "id": "05cd50ac",
   "metadata": {},
   "source": [
    "Next we will have to calculate departure from normal, but, Why are we calculating departure from normal?\n",
    "\n",
    "According to IMD,\n",
    "\n",
    "When normal maximum temperature of a station is less than or equal to 40°C Heat Wave Departure from normal is 5°C to 6°C Severe Heat Wave Departure from normal is 7°C or more\n",
    "\n",
    "When normal maximum temperature of a station is more than 40°C Heat Wave Departure from normal is 4°C to 5°C Severe Heat Wave Departure from normal is 6°C or more\n",
    "\n",
    "When actual maximum temperature remains 45°C or more irrespective of normal maximum temperature, heat waves should be declared."
   ]
  },
  {
   "cell_type": "code",
   "execution_count": 30,
   "id": "bbf5cf2a",
   "metadata": {},
   "outputs": [
    {
     "name": "stderr",
     "output_type": "stream",
     "text": [
      "C:\\Users\\Lenovo\\AppData\\Local\\Temp\\ipykernel_21212\\802398353.py:3: SettingWithCopyWarning: \n",
      "A value is trying to be set on a copy of a slice from a DataFrame.\n",
      "Try using .loc[row_indexer,col_indexer] = value instead\n",
      "\n",
      "See the caveats in the documentation: https://pandas.pydata.org/pandas-docs/stable/user_guide/indexing.html#returning-a-view-versus-a-copy\n",
      "  pred3[\"heat\"]=(pred3[\"temp_max\"]).astype(str)\n"
     ]
    },
    {
     "data": {
      "text/html": [
       "<div>\n",
       "<style scoped>\n",
       "    .dataframe tbody tr th:only-of-type {\n",
       "        vertical-align: middle;\n",
       "    }\n",
       "\n",
       "    .dataframe tbody tr th {\n",
       "        vertical-align: top;\n",
       "    }\n",
       "\n",
       "    .dataframe thead th {\n",
       "        text-align: right;\n",
       "    }\n",
       "</style>\n",
       "<table border=\"1\" class=\"dataframe\">\n",
       "  <thead>\n",
       "    <tr style=\"text-align: right;\">\n",
       "      <th></th>\n",
       "      <th>temp_max</th>\n",
       "      <th>date</th>\n",
       "      <th>month</th>\n",
       "      <th>normal</th>\n",
       "      <th>diff</th>\n",
       "      <th>heat</th>\n",
       "    </tr>\n",
       "    <tr>\n",
       "      <th>Date</th>\n",
       "      <th></th>\n",
       "      <th></th>\n",
       "      <th></th>\n",
       "      <th></th>\n",
       "      <th></th>\n",
       "      <th></th>\n",
       "    </tr>\n",
       "  </thead>\n",
       "  <tbody>\n",
       "    <tr>\n",
       "      <th>2022-03-16</th>\n",
       "      <td>42.135403</td>\n",
       "      <td>2023-03-16</td>\n",
       "      <td>3</td>\n",
       "      <td>37.1</td>\n",
       "      <td>5.035403</td>\n",
       "      <td>42.135403</td>\n",
       "    </tr>\n",
       "    <tr>\n",
       "      <th>2022-03-17</th>\n",
       "      <td>42.296387</td>\n",
       "      <td>2023-03-17</td>\n",
       "      <td>3</td>\n",
       "      <td>37.1</td>\n",
       "      <td>5.196387</td>\n",
       "      <td>42.296387</td>\n",
       "    </tr>\n",
       "    <tr>\n",
       "      <th>2022-03-18</th>\n",
       "      <td>42.214531</td>\n",
       "      <td>2023-03-18</td>\n",
       "      <td>3</td>\n",
       "      <td>37.1</td>\n",
       "      <td>5.114531</td>\n",
       "      <td>42.21453</td>\n",
       "    </tr>\n",
       "    <tr>\n",
       "      <th>2022-03-19</th>\n",
       "      <td>42.382748</td>\n",
       "      <td>2023-03-19</td>\n",
       "      <td>3</td>\n",
       "      <td>37.1</td>\n",
       "      <td>5.282748</td>\n",
       "      <td>42.382748</td>\n",
       "    </tr>\n",
       "    <tr>\n",
       "      <th>2022-03-20</th>\n",
       "      <td>42.565857</td>\n",
       "      <td>2023-03-20</td>\n",
       "      <td>3</td>\n",
       "      <td>37.1</td>\n",
       "      <td>5.465857</td>\n",
       "      <td>42.565857</td>\n",
       "    </tr>\n",
       "    <tr>\n",
       "      <th>2022-03-21</th>\n",
       "      <td>42.610882</td>\n",
       "      <td>2023-03-21</td>\n",
       "      <td>3</td>\n",
       "      <td>37.1</td>\n",
       "      <td>5.510882</td>\n",
       "      <td>42.61088</td>\n",
       "    </tr>\n",
       "    <tr>\n",
       "      <th>2022-03-22</th>\n",
       "      <td>42.732109</td>\n",
       "      <td>2023-03-22</td>\n",
       "      <td>3</td>\n",
       "      <td>37.1</td>\n",
       "      <td>5.632109</td>\n",
       "      <td>42.73211</td>\n",
       "    </tr>\n",
       "    <tr>\n",
       "      <th>2022-03-23</th>\n",
       "      <td>42.864227</td>\n",
       "      <td>2023-03-23</td>\n",
       "      <td>3</td>\n",
       "      <td>37.1</td>\n",
       "      <td>5.764227</td>\n",
       "      <td>42.864227</td>\n",
       "    </tr>\n",
       "    <tr>\n",
       "      <th>2022-03-24</th>\n",
       "      <td>42.921482</td>\n",
       "      <td>2023-03-24</td>\n",
       "      <td>3</td>\n",
       "      <td>37.1</td>\n",
       "      <td>5.821482</td>\n",
       "      <td>42.921482</td>\n",
       "    </tr>\n",
       "    <tr>\n",
       "      <th>2022-03-25</th>\n",
       "      <td>42.848087</td>\n",
       "      <td>2023-03-25</td>\n",
       "      <td>3</td>\n",
       "      <td>37.1</td>\n",
       "      <td>5.748087</td>\n",
       "      <td>42.848087</td>\n",
       "    </tr>\n",
       "    <tr>\n",
       "      <th>2022-03-26</th>\n",
       "      <td>43.107628</td>\n",
       "      <td>2023-03-26</td>\n",
       "      <td>3</td>\n",
       "      <td>37.1</td>\n",
       "      <td>6.007628</td>\n",
       "      <td>43.107628</td>\n",
       "    </tr>\n",
       "    <tr>\n",
       "      <th>2022-03-27</th>\n",
       "      <td>42.513653</td>\n",
       "      <td>2023-03-27</td>\n",
       "      <td>3</td>\n",
       "      <td>37.1</td>\n",
       "      <td>5.413653</td>\n",
       "      <td>42.513653</td>\n",
       "    </tr>\n",
       "    <tr>\n",
       "      <th>2022-03-28</th>\n",
       "      <td>42.401253</td>\n",
       "      <td>2023-03-28</td>\n",
       "      <td>3</td>\n",
       "      <td>37.1</td>\n",
       "      <td>5.301253</td>\n",
       "      <td>42.401253</td>\n",
       "    </tr>\n",
       "    <tr>\n",
       "      <th>2022-03-29</th>\n",
       "      <td>42.111465</td>\n",
       "      <td>2023-03-29</td>\n",
       "      <td>3</td>\n",
       "      <td>37.1</td>\n",
       "      <td>5.011465</td>\n",
       "      <td>42.111465</td>\n",
       "    </tr>\n",
       "    <tr>\n",
       "      <th>2022-03-31</th>\n",
       "      <td>42.191090</td>\n",
       "      <td>2023-03-31</td>\n",
       "      <td>3</td>\n",
       "      <td>37.1</td>\n",
       "      <td>5.091090</td>\n",
       "      <td>42.19109</td>\n",
       "    </tr>\n",
       "  </tbody>\n",
       "</table>\n",
       "</div>"
      ],
      "text/plain": [
       "             temp_max       date  month  normal      diff       heat\n",
       "Date                                                                \n",
       "2022-03-16  42.135403 2023-03-16      3    37.1  5.035403  42.135403\n",
       "2022-03-17  42.296387 2023-03-17      3    37.1  5.196387  42.296387\n",
       "2022-03-18  42.214531 2023-03-18      3    37.1  5.114531   42.21453\n",
       "2022-03-19  42.382748 2023-03-19      3    37.1  5.282748  42.382748\n",
       "2022-03-20  42.565857 2023-03-20      3    37.1  5.465857  42.565857\n",
       "2022-03-21  42.610882 2023-03-21      3    37.1  5.510882   42.61088\n",
       "2022-03-22  42.732109 2023-03-22      3    37.1  5.632109   42.73211\n",
       "2022-03-23  42.864227 2023-03-23      3    37.1  5.764227  42.864227\n",
       "2022-03-24  42.921482 2023-03-24      3    37.1  5.821482  42.921482\n",
       "2022-03-25  42.848087 2023-03-25      3    37.1  5.748087  42.848087\n",
       "2022-03-26  43.107628 2023-03-26      3    37.1  6.007628  43.107628\n",
       "2022-03-27  42.513653 2023-03-27      3    37.1  5.413653  42.513653\n",
       "2022-03-28  42.401253 2023-03-28      3    37.1  5.301253  42.401253\n",
       "2022-03-29  42.111465 2023-03-29      3    37.1  5.011465  42.111465\n",
       "2022-03-31  42.191090 2023-03-31      3    37.1  5.091090   42.19109"
      ]
     },
     "execution_count": 30,
     "metadata": {},
     "output_type": "execute_result"
    }
   ],
   "source": [
    "pred2[\"diff\"]= pred2['temp_max']-pred2['normal']                    #calculating departure from normal\n",
    "pred3=pred2.loc[((pred2['normal']<=40) & (pred2['diff']>=5)) | ((pred2['normal']>=40) & (pred2['diff']>=4)) | (pred2['temp_max']>=45)]\n",
    "pred3[\"heat\"]=(pred3[\"temp_max\"]).astype(str)\n",
    "pred3"
   ]
  },
  {
   "cell_type": "code",
   "execution_count": 31,
   "id": "79a3bbb1",
   "metadata": {},
   "outputs": [
    {
     "name": "stderr",
     "output_type": "stream",
     "text": [
      "C:\\Users\\Lenovo\\AppData\\Local\\Temp\\ipykernel_21212\\112532292.py:3: SettingWithCopyWarning: \n",
      "A value is trying to be set on a copy of a slice from a DataFrame\n",
      "\n",
      "See the caveats in the documentation: https://pandas.pydata.org/pandas-docs/stable/user_guide/indexing.html#returning-a-view-versus-a-copy\n",
      "  pred3['heat'][i]='Warning! Heatwave expected'\n"
     ]
    }
   ],
   "source": [
    "for i in range(len(pred3['temp_max'])):          #classification of heatwave and severe heatwave\n",
    "    if (((pred3['normal'][i]<=40) & (pred2['diff'][i]<7)) | ((pred2['normal'][i]>40) & (pred2['diff'][i]<6))):\n",
    "        pred3['heat'][i]='Warning! Heatwave expected'\n",
    "    elif (((pred3['normal'][i]<=40) & (pred2['diff'][i]>=7)) | ((pred2['normal'][i]>40) & (pred2['diff'][i]>=6)) | (pred2['temp_max']>=45)):\n",
    "        pred3['heat'][i]='Warning! Severe Heatwave expected'"
   ]
  },
  {
   "cell_type": "code",
   "execution_count": 32,
   "id": "7b62c011",
   "metadata": {},
   "outputs": [
    {
     "data": {
      "text/html": [
       "<div>\n",
       "<style scoped>\n",
       "    .dataframe tbody tr th:only-of-type {\n",
       "        vertical-align: middle;\n",
       "    }\n",
       "\n",
       "    .dataframe tbody tr th {\n",
       "        vertical-align: top;\n",
       "    }\n",
       "\n",
       "    .dataframe thead th {\n",
       "        text-align: right;\n",
       "    }\n",
       "</style>\n",
       "<table border=\"1\" class=\"dataframe\">\n",
       "  <thead>\n",
       "    <tr style=\"text-align: right;\">\n",
       "      <th></th>\n",
       "      <th>temp_max</th>\n",
       "      <th>date</th>\n",
       "      <th>month</th>\n",
       "      <th>normal</th>\n",
       "      <th>diff</th>\n",
       "      <th>heat</th>\n",
       "    </tr>\n",
       "    <tr>\n",
       "      <th>Date</th>\n",
       "      <th></th>\n",
       "      <th></th>\n",
       "      <th></th>\n",
       "      <th></th>\n",
       "      <th></th>\n",
       "      <th></th>\n",
       "    </tr>\n",
       "  </thead>\n",
       "  <tbody>\n",
       "    <tr>\n",
       "      <th>2022-03-16</th>\n",
       "      <td>42.135403</td>\n",
       "      <td>2023-03-16</td>\n",
       "      <td>3</td>\n",
       "      <td>37.1</td>\n",
       "      <td>5.035403</td>\n",
       "      <td>Warning! Heatwave expected</td>\n",
       "    </tr>\n",
       "    <tr>\n",
       "      <th>2022-03-17</th>\n",
       "      <td>42.296387</td>\n",
       "      <td>2023-03-17</td>\n",
       "      <td>3</td>\n",
       "      <td>37.1</td>\n",
       "      <td>5.196387</td>\n",
       "      <td>Warning! Heatwave expected</td>\n",
       "    </tr>\n",
       "    <tr>\n",
       "      <th>2022-03-18</th>\n",
       "      <td>42.214531</td>\n",
       "      <td>2023-03-18</td>\n",
       "      <td>3</td>\n",
       "      <td>37.1</td>\n",
       "      <td>5.114531</td>\n",
       "      <td>Warning! Heatwave expected</td>\n",
       "    </tr>\n",
       "    <tr>\n",
       "      <th>2022-03-19</th>\n",
       "      <td>42.382748</td>\n",
       "      <td>2023-03-19</td>\n",
       "      <td>3</td>\n",
       "      <td>37.1</td>\n",
       "      <td>5.282748</td>\n",
       "      <td>Warning! Heatwave expected</td>\n",
       "    </tr>\n",
       "    <tr>\n",
       "      <th>2022-03-20</th>\n",
       "      <td>42.565857</td>\n",
       "      <td>2023-03-20</td>\n",
       "      <td>3</td>\n",
       "      <td>37.1</td>\n",
       "      <td>5.465857</td>\n",
       "      <td>Warning! Heatwave expected</td>\n",
       "    </tr>\n",
       "    <tr>\n",
       "      <th>2022-03-21</th>\n",
       "      <td>42.610882</td>\n",
       "      <td>2023-03-21</td>\n",
       "      <td>3</td>\n",
       "      <td>37.1</td>\n",
       "      <td>5.510882</td>\n",
       "      <td>Warning! Heatwave expected</td>\n",
       "    </tr>\n",
       "    <tr>\n",
       "      <th>2022-03-22</th>\n",
       "      <td>42.732109</td>\n",
       "      <td>2023-03-22</td>\n",
       "      <td>3</td>\n",
       "      <td>37.1</td>\n",
       "      <td>5.632109</td>\n",
       "      <td>Warning! Heatwave expected</td>\n",
       "    </tr>\n",
       "    <tr>\n",
       "      <th>2022-03-23</th>\n",
       "      <td>42.864227</td>\n",
       "      <td>2023-03-23</td>\n",
       "      <td>3</td>\n",
       "      <td>37.1</td>\n",
       "      <td>5.764227</td>\n",
       "      <td>Warning! Heatwave expected</td>\n",
       "    </tr>\n",
       "    <tr>\n",
       "      <th>2022-03-24</th>\n",
       "      <td>42.921482</td>\n",
       "      <td>2023-03-24</td>\n",
       "      <td>3</td>\n",
       "      <td>37.1</td>\n",
       "      <td>5.821482</td>\n",
       "      <td>Warning! Heatwave expected</td>\n",
       "    </tr>\n",
       "    <tr>\n",
       "      <th>2022-03-25</th>\n",
       "      <td>42.848087</td>\n",
       "      <td>2023-03-25</td>\n",
       "      <td>3</td>\n",
       "      <td>37.1</td>\n",
       "      <td>5.748087</td>\n",
       "      <td>Warning! Heatwave expected</td>\n",
       "    </tr>\n",
       "    <tr>\n",
       "      <th>2022-03-26</th>\n",
       "      <td>43.107628</td>\n",
       "      <td>2023-03-26</td>\n",
       "      <td>3</td>\n",
       "      <td>37.1</td>\n",
       "      <td>6.007628</td>\n",
       "      <td>Warning! Heatwave expected</td>\n",
       "    </tr>\n",
       "    <tr>\n",
       "      <th>2022-03-27</th>\n",
       "      <td>42.513653</td>\n",
       "      <td>2023-03-27</td>\n",
       "      <td>3</td>\n",
       "      <td>37.1</td>\n",
       "      <td>5.413653</td>\n",
       "      <td>Warning! Heatwave expected</td>\n",
       "    </tr>\n",
       "    <tr>\n",
       "      <th>2022-03-28</th>\n",
       "      <td>42.401253</td>\n",
       "      <td>2023-03-28</td>\n",
       "      <td>3</td>\n",
       "      <td>37.1</td>\n",
       "      <td>5.301253</td>\n",
       "      <td>Warning! Heatwave expected</td>\n",
       "    </tr>\n",
       "    <tr>\n",
       "      <th>2022-03-29</th>\n",
       "      <td>42.111465</td>\n",
       "      <td>2023-03-29</td>\n",
       "      <td>3</td>\n",
       "      <td>37.1</td>\n",
       "      <td>5.011465</td>\n",
       "      <td>Warning! Heatwave expected</td>\n",
       "    </tr>\n",
       "    <tr>\n",
       "      <th>2022-03-31</th>\n",
       "      <td>42.191090</td>\n",
       "      <td>2023-03-31</td>\n",
       "      <td>3</td>\n",
       "      <td>37.1</td>\n",
       "      <td>5.091090</td>\n",
       "      <td>Warning! Heatwave expected</td>\n",
       "    </tr>\n",
       "  </tbody>\n",
       "</table>\n",
       "</div>"
      ],
      "text/plain": [
       "             temp_max       date  month  normal      diff  \\\n",
       "Date                                                        \n",
       "2022-03-16  42.135403 2023-03-16      3    37.1  5.035403   \n",
       "2022-03-17  42.296387 2023-03-17      3    37.1  5.196387   \n",
       "2022-03-18  42.214531 2023-03-18      3    37.1  5.114531   \n",
       "2022-03-19  42.382748 2023-03-19      3    37.1  5.282748   \n",
       "2022-03-20  42.565857 2023-03-20      3    37.1  5.465857   \n",
       "2022-03-21  42.610882 2023-03-21      3    37.1  5.510882   \n",
       "2022-03-22  42.732109 2023-03-22      3    37.1  5.632109   \n",
       "2022-03-23  42.864227 2023-03-23      3    37.1  5.764227   \n",
       "2022-03-24  42.921482 2023-03-24      3    37.1  5.821482   \n",
       "2022-03-25  42.848087 2023-03-25      3    37.1  5.748087   \n",
       "2022-03-26  43.107628 2023-03-26      3    37.1  6.007628   \n",
       "2022-03-27  42.513653 2023-03-27      3    37.1  5.413653   \n",
       "2022-03-28  42.401253 2023-03-28      3    37.1  5.301253   \n",
       "2022-03-29  42.111465 2023-03-29      3    37.1  5.011465   \n",
       "2022-03-31  42.191090 2023-03-31      3    37.1  5.091090   \n",
       "\n",
       "                                  heat  \n",
       "Date                                    \n",
       "2022-03-16  Warning! Heatwave expected  \n",
       "2022-03-17  Warning! Heatwave expected  \n",
       "2022-03-18  Warning! Heatwave expected  \n",
       "2022-03-19  Warning! Heatwave expected  \n",
       "2022-03-20  Warning! Heatwave expected  \n",
       "2022-03-21  Warning! Heatwave expected  \n",
       "2022-03-22  Warning! Heatwave expected  \n",
       "2022-03-23  Warning! Heatwave expected  \n",
       "2022-03-24  Warning! Heatwave expected  \n",
       "2022-03-25  Warning! Heatwave expected  \n",
       "2022-03-26  Warning! Heatwave expected  \n",
       "2022-03-27  Warning! Heatwave expected  \n",
       "2022-03-28  Warning! Heatwave expected  \n",
       "2022-03-29  Warning! Heatwave expected  \n",
       "2022-03-31  Warning! Heatwave expected  "
      ]
     },
     "execution_count": 32,
     "metadata": {},
     "output_type": "execute_result"
    }
   ],
   "source": [
    "pred3"
   ]
  },
  {
   "cell_type": "code",
   "execution_count": 33,
   "id": "e220b31d",
   "metadata": {},
   "outputs": [
    {
     "data": {
      "text/html": [
       "<div>\n",
       "<style scoped>\n",
       "    .dataframe tbody tr th:only-of-type {\n",
       "        vertical-align: middle;\n",
       "    }\n",
       "\n",
       "    .dataframe tbody tr th {\n",
       "        vertical-align: top;\n",
       "    }\n",
       "\n",
       "    .dataframe thead th {\n",
       "        text-align: right;\n",
       "    }\n",
       "</style>\n",
       "<table border=\"1\" class=\"dataframe\">\n",
       "  <thead>\n",
       "    <tr style=\"text-align: right;\">\n",
       "      <th></th>\n",
       "      <th>temp_max</th>\n",
       "      <th>heat</th>\n",
       "    </tr>\n",
       "    <tr>\n",
       "      <th>date</th>\n",
       "      <th></th>\n",
       "      <th></th>\n",
       "    </tr>\n",
       "  </thead>\n",
       "  <tbody>\n",
       "    <tr>\n",
       "      <th>2023-03-16</th>\n",
       "      <td>42.135403</td>\n",
       "      <td>Warning! Heatwave expected</td>\n",
       "    </tr>\n",
       "    <tr>\n",
       "      <th>2023-03-17</th>\n",
       "      <td>42.296387</td>\n",
       "      <td>Warning! Heatwave expected</td>\n",
       "    </tr>\n",
       "    <tr>\n",
       "      <th>2023-03-18</th>\n",
       "      <td>42.214531</td>\n",
       "      <td>Warning! Heatwave expected</td>\n",
       "    </tr>\n",
       "    <tr>\n",
       "      <th>2023-03-19</th>\n",
       "      <td>42.382748</td>\n",
       "      <td>Warning! Heatwave expected</td>\n",
       "    </tr>\n",
       "    <tr>\n",
       "      <th>2023-03-20</th>\n",
       "      <td>42.565857</td>\n",
       "      <td>Warning! Heatwave expected</td>\n",
       "    </tr>\n",
       "    <tr>\n",
       "      <th>2023-03-21</th>\n",
       "      <td>42.610882</td>\n",
       "      <td>Warning! Heatwave expected</td>\n",
       "    </tr>\n",
       "    <tr>\n",
       "      <th>2023-03-22</th>\n",
       "      <td>42.732109</td>\n",
       "      <td>Warning! Heatwave expected</td>\n",
       "    </tr>\n",
       "    <tr>\n",
       "      <th>2023-03-23</th>\n",
       "      <td>42.864227</td>\n",
       "      <td>Warning! Heatwave expected</td>\n",
       "    </tr>\n",
       "    <tr>\n",
       "      <th>2023-03-24</th>\n",
       "      <td>42.921482</td>\n",
       "      <td>Warning! Heatwave expected</td>\n",
       "    </tr>\n",
       "    <tr>\n",
       "      <th>2023-03-25</th>\n",
       "      <td>42.848087</td>\n",
       "      <td>Warning! Heatwave expected</td>\n",
       "    </tr>\n",
       "    <tr>\n",
       "      <th>2023-03-26</th>\n",
       "      <td>43.107628</td>\n",
       "      <td>Warning! Heatwave expected</td>\n",
       "    </tr>\n",
       "    <tr>\n",
       "      <th>2023-03-27</th>\n",
       "      <td>42.513653</td>\n",
       "      <td>Warning! Heatwave expected</td>\n",
       "    </tr>\n",
       "    <tr>\n",
       "      <th>2023-03-28</th>\n",
       "      <td>42.401253</td>\n",
       "      <td>Warning! Heatwave expected</td>\n",
       "    </tr>\n",
       "    <tr>\n",
       "      <th>2023-03-29</th>\n",
       "      <td>42.111465</td>\n",
       "      <td>Warning! Heatwave expected</td>\n",
       "    </tr>\n",
       "    <tr>\n",
       "      <th>2023-03-31</th>\n",
       "      <td>42.191090</td>\n",
       "      <td>Warning! Heatwave expected</td>\n",
       "    </tr>\n",
       "  </tbody>\n",
       "</table>\n",
       "</div>"
      ],
      "text/plain": [
       "             temp_max                        heat\n",
       "date                                             \n",
       "2023-03-16  42.135403  Warning! Heatwave expected\n",
       "2023-03-17  42.296387  Warning! Heatwave expected\n",
       "2023-03-18  42.214531  Warning! Heatwave expected\n",
       "2023-03-19  42.382748  Warning! Heatwave expected\n",
       "2023-03-20  42.565857  Warning! Heatwave expected\n",
       "2023-03-21  42.610882  Warning! Heatwave expected\n",
       "2023-03-22  42.732109  Warning! Heatwave expected\n",
       "2023-03-23  42.864227  Warning! Heatwave expected\n",
       "2023-03-24  42.921482  Warning! Heatwave expected\n",
       "2023-03-25  42.848087  Warning! Heatwave expected\n",
       "2023-03-26  43.107628  Warning! Heatwave expected\n",
       "2023-03-27  42.513653  Warning! Heatwave expected\n",
       "2023-03-28  42.401253  Warning! Heatwave expected\n",
       "2023-03-29  42.111465  Warning! Heatwave expected\n",
       "2023-03-31  42.191090  Warning! Heatwave expected"
      ]
     },
     "execution_count": 33,
     "metadata": {},
     "output_type": "execute_result"
    }
   ],
   "source": [
    "pred3=pred3.set_index('date')\n",
    "pred3=pred3.drop(['month', 'normal', 'diff'], axis=1)\n",
    "pred3 # Final data frame containing the predictions for occurence of heat wave in Khammam "
   ]
  },
  {
   "cell_type": "code",
   "execution_count": 34,
   "id": "ff1fcec7",
   "metadata": {},
   "outputs": [],
   "source": [
    "pred3.to_csv(\"C:\\\\Users\\\\Lenovo\\\\Desktop\\\\NASSCOM\\\\Prediction\\\\khammam_heatwave_prediction.csv\")  #saving dataframe as csvhttp://localhost:8888/?token=05da3b7e9964cfcc2a9bf60fb83e9ad95c5d2bbc7ccf4fc7 file"
   ]
  }
 ],
 "metadata": {
  "kernelspec": {
   "display_name": "Python 3 (ipykernel)",
   "language": "python",
   "name": "python3"
  },
  "language_info": {
   "codemirror_mode": {
    "name": "ipython",
    "version": 3
   },
   "file_extension": ".py",
   "mimetype": "text/x-python",
   "name": "python",
   "nbconvert_exporter": "python",
   "pygments_lexer": "ipython3",
   "version": "3.10.7"
  }
 },
 "nbformat": 4,
 "nbformat_minor": 5
}
