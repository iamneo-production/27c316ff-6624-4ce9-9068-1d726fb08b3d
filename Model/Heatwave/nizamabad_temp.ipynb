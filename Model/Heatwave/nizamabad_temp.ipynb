{
 "cells": [
  {
   "cell_type": "code",
   "execution_count": 1,
   "id": "e4427d38",
   "metadata": {},
   "outputs": [],
   "source": [
    "import pandas as pd\n",
    "import numpy as np\n",
    "import matplotlib.pyplot as plt"
   ]
  },
  {
   "cell_type": "code",
   "execution_count": 10,
   "id": "47a72e2f",
   "metadata": {},
   "outputs": [],
   "source": [
    "df= pd.read_csv(\"C:\\\\Users\\\\Lenovo\\\\Desktop\\\\NASSCOM\\\\Dataset District\\\\NASA\\\\NASA NIZAMABAD.csv\") # Laoding data"
   ]
  },
  {
   "cell_type": "code",
   "execution_count": 11,
   "id": "440acdc7",
   "metadata": {},
   "outputs": [
    {
     "data": {
      "text/html": [
       "<div>\n",
       "<style scoped>\n",
       "    .dataframe tbody tr th:only-of-type {\n",
       "        vertical-align: middle;\n",
       "    }\n",
       "\n",
       "    .dataframe tbody tr th {\n",
       "        vertical-align: top;\n",
       "    }\n",
       "\n",
       "    .dataframe thead th {\n",
       "        text-align: right;\n",
       "    }\n",
       "</style>\n",
       "<table border=\"1\" class=\"dataframe\">\n",
       "  <thead>\n",
       "    <tr style=\"text-align: right;\">\n",
       "      <th></th>\n",
       "      <th>Date</th>\n",
       "      <th>temp_max</th>\n",
       "      <th>rainfall</th>\n",
       "      <th>pressure</th>\n",
       "      <th>Humidity</th>\n",
       "    </tr>\n",
       "  </thead>\n",
       "  <tbody>\n",
       "    <tr>\n",
       "      <th>0</th>\n",
       "      <td>1/1/1991</td>\n",
       "      <td>29.48</td>\n",
       "      <td>0.00</td>\n",
       "      <td>96.24</td>\n",
       "      <td>6.16</td>\n",
       "    </tr>\n",
       "    <tr>\n",
       "      <th>1</th>\n",
       "      <td>1/2/1991</td>\n",
       "      <td>29.50</td>\n",
       "      <td>0.01</td>\n",
       "      <td>96.20</td>\n",
       "      <td>3.78</td>\n",
       "    </tr>\n",
       "    <tr>\n",
       "      <th>2</th>\n",
       "      <td>1/3/1991</td>\n",
       "      <td>26.30</td>\n",
       "      <td>0.00</td>\n",
       "      <td>96.38</td>\n",
       "      <td>3.48</td>\n",
       "    </tr>\n",
       "    <tr>\n",
       "      <th>3</th>\n",
       "      <td>1/4/1991</td>\n",
       "      <td>28.37</td>\n",
       "      <td>0.00</td>\n",
       "      <td>96.51</td>\n",
       "      <td>3.78</td>\n",
       "    </tr>\n",
       "    <tr>\n",
       "      <th>4</th>\n",
       "      <td>1/5/1991</td>\n",
       "      <td>29.22</td>\n",
       "      <td>0.00</td>\n",
       "      <td>96.48</td>\n",
       "      <td>6.59</td>\n",
       "    </tr>\n",
       "    <tr>\n",
       "      <th>...</th>\n",
       "      <td>...</td>\n",
       "      <td>...</td>\n",
       "      <td>...</td>\n",
       "      <td>...</td>\n",
       "      <td>...</td>\n",
       "    </tr>\n",
       "    <tr>\n",
       "      <th>11683</th>\n",
       "      <td>12/27/2022</td>\n",
       "      <td>29.30</td>\n",
       "      <td>2.63</td>\n",
       "      <td>96.61</td>\n",
       "      <td>15.44</td>\n",
       "    </tr>\n",
       "    <tr>\n",
       "      <th>11684</th>\n",
       "      <td>12/28/2022</td>\n",
       "      <td>29.71</td>\n",
       "      <td>1.74</td>\n",
       "      <td>96.69</td>\n",
       "      <td>14.40</td>\n",
       "    </tr>\n",
       "    <tr>\n",
       "      <th>11685</th>\n",
       "      <td>12/29/2022</td>\n",
       "      <td>29.05</td>\n",
       "      <td>0.00</td>\n",
       "      <td>96.82</td>\n",
       "      <td>11.60</td>\n",
       "    </tr>\n",
       "    <tr>\n",
       "      <th>11686</th>\n",
       "      <td>12/30/2022</td>\n",
       "      <td>29.69</td>\n",
       "      <td>0.00</td>\n",
       "      <td>96.86</td>\n",
       "      <td>11.17</td>\n",
       "    </tr>\n",
       "    <tr>\n",
       "      <th>11687</th>\n",
       "      <td>12/31/2022</td>\n",
       "      <td>29.44</td>\n",
       "      <td>0.00</td>\n",
       "      <td>96.76</td>\n",
       "      <td>10.56</td>\n",
       "    </tr>\n",
       "  </tbody>\n",
       "</table>\n",
       "<p>11688 rows × 5 columns</p>\n",
       "</div>"
      ],
      "text/plain": [
       "             Date  temp_max  rainfall  pressure  Humidity\n",
       "0        1/1/1991     29.48      0.00     96.24      6.16\n",
       "1        1/2/1991     29.50      0.01     96.20      3.78\n",
       "2        1/3/1991     26.30      0.00     96.38      3.48\n",
       "3        1/4/1991     28.37      0.00     96.51      3.78\n",
       "4        1/5/1991     29.22      0.00     96.48      6.59\n",
       "...           ...       ...       ...       ...       ...\n",
       "11683  12/27/2022     29.30      2.63     96.61     15.44\n",
       "11684  12/28/2022     29.71      1.74     96.69     14.40\n",
       "11685  12/29/2022     29.05      0.00     96.82     11.60\n",
       "11686  12/30/2022     29.69      0.00     96.86     11.17\n",
       "11687  12/31/2022     29.44      0.00     96.76     10.56\n",
       "\n",
       "[11688 rows x 5 columns]"
      ]
     },
     "execution_count": 11,
     "metadata": {},
     "output_type": "execute_result"
    }
   ],
   "source": [
    "df"
   ]
  },
  {
   "cell_type": "code",
   "execution_count": 12,
   "id": "6172b474",
   "metadata": {},
   "outputs": [
    {
     "data": {
      "text/html": [
       "<div>\n",
       "<style scoped>\n",
       "    .dataframe tbody tr th:only-of-type {\n",
       "        vertical-align: middle;\n",
       "    }\n",
       "\n",
       "    .dataframe tbody tr th {\n",
       "        vertical-align: top;\n",
       "    }\n",
       "\n",
       "    .dataframe thead th {\n",
       "        text-align: right;\n",
       "    }\n",
       "</style>\n",
       "<table border=\"1\" class=\"dataframe\">\n",
       "  <thead>\n",
       "    <tr style=\"text-align: right;\">\n",
       "      <th></th>\n",
       "      <th>temp_max</th>\n",
       "      <th>rainfall</th>\n",
       "      <th>pressure</th>\n",
       "      <th>Humidity</th>\n",
       "    </tr>\n",
       "  </thead>\n",
       "  <tbody>\n",
       "    <tr>\n",
       "      <th>count</th>\n",
       "      <td>11688.000000</td>\n",
       "      <td>11688.000000</td>\n",
       "      <td>11688.000000</td>\n",
       "      <td>11688.000000</td>\n",
       "    </tr>\n",
       "    <tr>\n",
       "      <th>mean</th>\n",
       "      <td>33.223156</td>\n",
       "      <td>2.512736</td>\n",
       "      <td>96.012414</td>\n",
       "      <td>12.022953</td>\n",
       "    </tr>\n",
       "    <tr>\n",
       "      <th>std</th>\n",
       "      <td>4.941911</td>\n",
       "      <td>7.038509</td>\n",
       "      <td>0.433878</td>\n",
       "      <td>4.876900</td>\n",
       "    </tr>\n",
       "    <tr>\n",
       "      <th>min</th>\n",
       "      <td>20.790000</td>\n",
       "      <td>0.000000</td>\n",
       "      <td>94.460000</td>\n",
       "      <td>0.730000</td>\n",
       "    </tr>\n",
       "    <tr>\n",
       "      <th>25%</th>\n",
       "      <td>29.380000</td>\n",
       "      <td>0.000000</td>\n",
       "      <td>95.650000</td>\n",
       "      <td>7.690000</td>\n",
       "    </tr>\n",
       "    <tr>\n",
       "      <th>50%</th>\n",
       "      <td>31.790000</td>\n",
       "      <td>0.010000</td>\n",
       "      <td>96.000000</td>\n",
       "      <td>11.840000</td>\n",
       "    </tr>\n",
       "    <tr>\n",
       "      <th>75%</th>\n",
       "      <td>36.942500</td>\n",
       "      <td>1.580000</td>\n",
       "      <td>96.380000</td>\n",
       "      <td>16.970000</td>\n",
       "    </tr>\n",
       "    <tr>\n",
       "      <th>max</th>\n",
       "      <td>46.010000</td>\n",
       "      <td>253.490000</td>\n",
       "      <td>97.090000</td>\n",
       "      <td>20.570000</td>\n",
       "    </tr>\n",
       "  </tbody>\n",
       "</table>\n",
       "</div>"
      ],
      "text/plain": [
       "           temp_max      rainfall      pressure      Humidity\n",
       "count  11688.000000  11688.000000  11688.000000  11688.000000\n",
       "mean      33.223156      2.512736     96.012414     12.022953\n",
       "std        4.941911      7.038509      0.433878      4.876900\n",
       "min       20.790000      0.000000     94.460000      0.730000\n",
       "25%       29.380000      0.000000     95.650000      7.690000\n",
       "50%       31.790000      0.010000     96.000000     11.840000\n",
       "75%       36.942500      1.580000     96.380000     16.970000\n",
       "max       46.010000    253.490000     97.090000     20.570000"
      ]
     },
     "execution_count": 12,
     "metadata": {},
     "output_type": "execute_result"
    }
   ],
   "source": [
    "df.describe()"
   ]
  },
  {
   "cell_type": "code",
   "execution_count": 14,
   "id": "07bfe0a6",
   "metadata": {},
   "outputs": [],
   "source": [
    "df['Date']= pd.to_datetime(df.Date, format=\"%m/%d/%Y\") # Converting column 'date' to pandas datetime object\n",
    "df= df.set_index('Date') # Setting the above column as the index of the dataframe"
   ]
  },
  {
   "cell_type": "code",
   "execution_count": 15,
   "id": "2bce4331",
   "metadata": {},
   "outputs": [
    {
     "name": "stdout",
     "output_type": "stream",
     "text": [
      "D\n"
     ]
    }
   ],
   "source": [
    "print(pd.infer_freq(df.index))"
   ]
  },
  {
   "cell_type": "code",
   "execution_count": 16,
   "id": "e548ba32",
   "metadata": {
    "scrolled": true
   },
   "outputs": [],
   "source": [
    "df['rainfall']=df['rainfall']/(df['rainfall'].max())\n",
    "df['temp_max']=df['temp_max']/(df['temp_max'].max())\n",
    "df['pressure']=df['pressure']/(df['pressure'].max())\n",
    "df['Humidity']=df['Humidity']/(df['Humidity'].max())"
   ]
  },
  {
   "cell_type": "code",
   "execution_count": 22,
   "id": "374ba43f",
   "metadata": {
    "scrolled": true
   },
   "outputs": [
    {
     "data": {
      "text/html": [
       "<div>\n",
       "<style scoped>\n",
       "    .dataframe tbody tr th:only-of-type {\n",
       "        vertical-align: middle;\n",
       "    }\n",
       "\n",
       "    .dataframe tbody tr th {\n",
       "        vertical-align: top;\n",
       "    }\n",
       "\n",
       "    .dataframe thead th {\n",
       "        text-align: right;\n",
       "    }\n",
       "</style>\n",
       "<table border=\"1\" class=\"dataframe\">\n",
       "  <thead>\n",
       "    <tr style=\"text-align: right;\">\n",
       "      <th></th>\n",
       "      <th>temp_max</th>\n",
       "      <th>rainfall</th>\n",
       "      <th>pressure</th>\n",
       "      <th>Humidity</th>\n",
       "    </tr>\n",
       "  </thead>\n",
       "  <tbody>\n",
       "    <tr>\n",
       "      <th>count</th>\n",
       "      <td>11688.000000</td>\n",
       "      <td>11688.000000</td>\n",
       "      <td>11688.000000</td>\n",
       "      <td>11688.000000</td>\n",
       "    </tr>\n",
       "    <tr>\n",
       "      <th>mean</th>\n",
       "      <td>0.722086</td>\n",
       "      <td>0.009913</td>\n",
       "      <td>0.988901</td>\n",
       "      <td>0.584490</td>\n",
       "    </tr>\n",
       "    <tr>\n",
       "      <th>std</th>\n",
       "      <td>0.107410</td>\n",
       "      <td>0.027766</td>\n",
       "      <td>0.004469</td>\n",
       "      <td>0.237088</td>\n",
       "    </tr>\n",
       "    <tr>\n",
       "      <th>min</th>\n",
       "      <td>0.451858</td>\n",
       "      <td>0.000000</td>\n",
       "      <td>0.972912</td>\n",
       "      <td>0.035489</td>\n",
       "    </tr>\n",
       "    <tr>\n",
       "      <th>25%</th>\n",
       "      <td>0.638557</td>\n",
       "      <td>0.000000</td>\n",
       "      <td>0.985168</td>\n",
       "      <td>0.373845</td>\n",
       "    </tr>\n",
       "    <tr>\n",
       "      <th>50%</th>\n",
       "      <td>0.690937</td>\n",
       "      <td>0.000039</td>\n",
       "      <td>0.988773</td>\n",
       "      <td>0.575596</td>\n",
       "    </tr>\n",
       "    <tr>\n",
       "      <th>75%</th>\n",
       "      <td>0.802923</td>\n",
       "      <td>0.006233</td>\n",
       "      <td>0.992687</td>\n",
       "      <td>0.824988</td>\n",
       "    </tr>\n",
       "    <tr>\n",
       "      <th>max</th>\n",
       "      <td>1.000000</td>\n",
       "      <td>1.000000</td>\n",
       "      <td>1.000000</td>\n",
       "      <td>1.000000</td>\n",
       "    </tr>\n",
       "  </tbody>\n",
       "</table>\n",
       "</div>"
      ],
      "text/plain": [
       "           temp_max      rainfall      pressure      Humidity\n",
       "count  11688.000000  11688.000000  11688.000000  11688.000000\n",
       "mean       0.722086      0.009913      0.988901      0.584490\n",
       "std        0.107410      0.027766      0.004469      0.237088\n",
       "min        0.451858      0.000000      0.972912      0.035489\n",
       "25%        0.638557      0.000000      0.985168      0.373845\n",
       "50%        0.690937      0.000039      0.988773      0.575596\n",
       "75%        0.802923      0.006233      0.992687      0.824988\n",
       "max        1.000000      1.000000      1.000000      1.000000"
      ]
     },
     "execution_count": 22,
     "metadata": {},
     "output_type": "execute_result"
    }
   ],
   "source": [
    "df.describe()"
   ]
  },
  {
   "cell_type": "code",
   "execution_count": null,
   "id": "9c02227a",
   "metadata": {},
   "outputs": [],
   "source": []
  },
  {
   "cell_type": "code",
   "execution_count": 20,
   "id": "4d3f1ecb",
   "metadata": {},
   "outputs": [],
   "source": [
    "df1=df[:10958]"
   ]
  },
  {
   "cell_type": "code",
   "execution_count": 23,
   "id": "e2d74cc4",
   "metadata": {},
   "outputs": [],
   "source": [
    "df1=df1.drop(['pressure'], axis=1) "
   ]
  },
  {
   "cell_type": "code",
   "execution_count": 24,
   "id": "d4bcf937",
   "metadata": {},
   "outputs": [],
   "source": [
    "def create_data(df, lookback=365):\n",
    "    df_np= df.to_numpy()\n",
    "    X=[]\n",
    "    y=[]\n",
    "    \n",
    "    for i in range(len(df_np)-2*lookback):\n",
    "        row = [x for x in df_np[i:i+lookback]]\n",
    "        X.append(row)\n",
    "        label = [z[0] for z in df_np[i+lookback:i+(2*lookback)]]\n",
    "        y.append(label)\n",
    "    return np.array(X), np.array(y)"
   ]
  },
  {
   "cell_type": "code",
   "execution_count": 25,
   "id": "bd1b8dc5",
   "metadata": {},
   "outputs": [],
   "source": [
    "X,y = create_data(df1)"
   ]
  },
  {
   "cell_type": "code",
   "execution_count": 26,
   "id": "44b2846e",
   "metadata": {},
   "outputs": [
    {
     "data": {
      "text/plain": [
       "((10228, 365, 3), (10228, 365))"
      ]
     },
     "execution_count": 26,
     "metadata": {},
     "output_type": "execute_result"
    }
   ],
   "source": [
    "X.shape, y.shape"
   ]
  },
  {
   "cell_type": "code",
   "execution_count": 27,
   "id": "bf4b7bc3",
   "metadata": {},
   "outputs": [],
   "source": [
    "X_train, y_train, X_test, y_test = X[:9863], y[:9863], X[9863:], y[9863:]\n",
    "X_train, y_train, X_val, y_val= X_train[:9133], y_train[:9133], X_train[9133:9863], y_train[9133:9863]"
   ]
  },
  {
   "cell_type": "code",
   "execution_count": 28,
   "id": "3ca5e205",
   "metadata": {},
   "outputs": [
    {
     "data": {
      "text/plain": [
       "(9133, 730, 365)"
      ]
     },
     "execution_count": 28,
     "metadata": {},
     "output_type": "execute_result"
    }
   ],
   "source": [
    "len(X_train), len(X_val), len(X_test)"
   ]
  },
  {
   "cell_type": "code",
   "execution_count": 29,
   "id": "928db1c5",
   "metadata": {},
   "outputs": [],
   "source": [
    "from tensorflow.keras.models import Sequential\n",
    "from tensorflow.keras.layers import *\n",
    "from tensorflow.keras.losses import MeanSquaredError\n",
    "from tensorflow.keras.callbacks import ModelCheckpoint\n",
    "from tensorflow.keras.metrics import MeanAbsolutePercentageError\n",
    "from tensorflow.keras.optimizers import Adam"
   ]
  },
  {
   "cell_type": "code",
   "execution_count": 32,
   "id": "914785b8",
   "metadata": {},
   "outputs": [
    {
     "name": "stdout",
     "output_type": "stream",
     "text": [
      "Model: \"sequential_1\"\n",
      "_________________________________________________________________\n",
      " Layer (type)                Output Shape              Param #   \n",
      "=================================================================\n",
      " lstm_1 (LSTM)               (None, 128)               67584     \n",
      "                                                                 \n",
      " dropout_1 (Dropout)         (None, 128)               0         \n",
      "                                                                 \n",
      " dense_2 (Dense)             (None, 512)               66048     \n",
      "                                                                 \n",
      " dense_3 (Dense)             (None, 365)               187245    \n",
      "                                                                 \n",
      "=================================================================\n",
      "Total params: 320,877\n",
      "Trainable params: 320,877\n",
      "Non-trainable params: 0\n",
      "_________________________________________________________________\n"
     ]
    }
   ],
   "source": [
    "# Creating an LSTM layer\n",
    "nizama_temp= Sequential([\n",
    "    InputLayer((365,3)),\n",
    "    LSTM(units=128),\n",
    "    Dropout(0.2),\n",
    "    Dense(512, activation='relu'),\n",
    "    Dense(365, activation='relu'),  \n",
    "])\n",
    "\n",
    "nizama_temp.summary()"
   ]
  },
  {
   "cell_type": "code",
   "execution_count": 33,
   "id": "b48f9558",
   "metadata": {},
   "outputs": [
    {
     "name": "stdout",
     "output_type": "stream",
     "text": [
      "Epoch 1/200\n",
      "286/286 [==============================] - ETA: 0s - loss: 0.0627 - mean_absolute_percentage_error: 21.0476"
     ]
    },
    {
     "name": "stderr",
     "output_type": "stream",
     "text": [
      "WARNING:absl:Found untraced functions such as lstm_cell_1_layer_call_fn, lstm_cell_1_layer_call_and_return_conditional_losses while saving (showing 2 of 2). These functions will not be directly callable after loading.\n"
     ]
    },
    {
     "name": "stdout",
     "output_type": "stream",
     "text": [
      "INFO:tensorflow:Assets written to: nizama_temp\\assets\n"
     ]
    },
    {
     "name": "stderr",
     "output_type": "stream",
     "text": [
      "INFO:tensorflow:Assets written to: nizama_temp\\assets\n"
     ]
    },
    {
     "name": "stdout",
     "output_type": "stream",
     "text": [
      "286/286 [==============================] - 30s 78ms/step - loss: 0.0627 - mean_absolute_percentage_error: 21.0476 - val_loss: 0.0474 - val_mean_absolute_percentage_error: 15.7595\n",
      "Epoch 2/200\n",
      "285/286 [============================>.] - ETA: 0s - loss: 0.0359 - mean_absolute_percentage_error: 13.1751"
     ]
    },
    {
     "name": "stderr",
     "output_type": "stream",
     "text": [
      "WARNING:absl:Found untraced functions such as lstm_cell_1_layer_call_fn, lstm_cell_1_layer_call_and_return_conditional_losses while saving (showing 2 of 2). These functions will not be directly callable after loading.\n"
     ]
    },
    {
     "name": "stdout",
     "output_type": "stream",
     "text": [
      "INFO:tensorflow:Assets written to: nizama_temp\\assets\n"
     ]
    },
    {
     "name": "stderr",
     "output_type": "stream",
     "text": [
      "INFO:tensorflow:Assets written to: nizama_temp\\assets\n"
     ]
    },
    {
     "name": "stdout",
     "output_type": "stream",
     "text": [
      "286/286 [==============================] - 21s 75ms/step - loss: 0.0359 - mean_absolute_percentage_error: 13.1730 - val_loss: 0.0355 - val_mean_absolute_percentage_error: 13.6770\n",
      "Epoch 3/200\n",
      "285/286 [============================>.] - ETA: 0s - loss: 0.0258 - mean_absolute_percentage_error: 10.4553"
     ]
    },
    {
     "name": "stderr",
     "output_type": "stream",
     "text": [
      "WARNING:absl:Found untraced functions such as lstm_cell_1_layer_call_fn, lstm_cell_1_layer_call_and_return_conditional_losses while saving (showing 2 of 2). These functions will not be directly callable after loading.\n"
     ]
    },
    {
     "name": "stdout",
     "output_type": "stream",
     "text": [
      "INFO:tensorflow:Assets written to: nizama_temp\\assets\n"
     ]
    },
    {
     "name": "stderr",
     "output_type": "stream",
     "text": [
      "INFO:tensorflow:Assets written to: nizama_temp\\assets\n"
     ]
    },
    {
     "name": "stdout",
     "output_type": "stream",
     "text": [
      "286/286 [==============================] - 23s 80ms/step - loss: 0.0258 - mean_absolute_percentage_error: 10.4541 - val_loss: 0.0277 - val_mean_absolute_percentage_error: 12.3711\n",
      "Epoch 4/200\n",
      "285/286 [============================>.] - ETA: 0s - loss: 0.0214 - mean_absolute_percentage_error: 9.2901"
     ]
    },
    {
     "name": "stderr",
     "output_type": "stream",
     "text": [
      "WARNING:absl:Found untraced functions such as lstm_cell_1_layer_call_fn, lstm_cell_1_layer_call_and_return_conditional_losses while saving (showing 2 of 2). These functions will not be directly callable after loading.\n"
     ]
    },
    {
     "name": "stdout",
     "output_type": "stream",
     "text": [
      "INFO:tensorflow:Assets written to: nizama_temp\\assets\n"
     ]
    },
    {
     "name": "stderr",
     "output_type": "stream",
     "text": [
      "INFO:tensorflow:Assets written to: nizama_temp\\assets\n"
     ]
    },
    {
     "name": "stdout",
     "output_type": "stream",
     "text": [
      "286/286 [==============================] - 23s 78ms/step - loss: 0.0214 - mean_absolute_percentage_error: 9.2883 - val_loss: 0.0198 - val_mean_absolute_percentage_error: 9.9902\n",
      "Epoch 5/200\n",
      "285/286 [============================>.] - ETA: 0s - loss: 0.0165 - mean_absolute_percentage_error: 8.2925"
     ]
    },
    {
     "name": "stderr",
     "output_type": "stream",
     "text": [
      "WARNING:absl:Found untraced functions such as lstm_cell_1_layer_call_fn, lstm_cell_1_layer_call_and_return_conditional_losses while saving (showing 2 of 2). These functions will not be directly callable after loading.\n"
     ]
    },
    {
     "name": "stdout",
     "output_type": "stream",
     "text": [
      "INFO:tensorflow:Assets written to: nizama_temp\\assets\n"
     ]
    },
    {
     "name": "stderr",
     "output_type": "stream",
     "text": [
      "INFO:tensorflow:Assets written to: nizama_temp\\assets\n"
     ]
    },
    {
     "name": "stdout",
     "output_type": "stream",
     "text": [
      "286/286 [==============================] - 21s 73ms/step - loss: 0.0165 - mean_absolute_percentage_error: 8.2924 - val_loss: 0.0180 - val_mean_absolute_percentage_error: 9.5610\n",
      "Epoch 6/200\n",
      "285/286 [============================>.] - ETA: 0s - loss: 0.0159 - mean_absolute_percentage_error: 8.1218"
     ]
    },
    {
     "name": "stderr",
     "output_type": "stream",
     "text": [
      "WARNING:absl:Found untraced functions such as lstm_cell_1_layer_call_fn, lstm_cell_1_layer_call_and_return_conditional_losses while saving (showing 2 of 2). These functions will not be directly callable after loading.\n"
     ]
    },
    {
     "name": "stdout",
     "output_type": "stream",
     "text": [
      "INFO:tensorflow:Assets written to: nizama_temp\\assets\n"
     ]
    },
    {
     "name": "stderr",
     "output_type": "stream",
     "text": [
      "INFO:tensorflow:Assets written to: nizama_temp\\assets\n"
     ]
    },
    {
     "name": "stdout",
     "output_type": "stream",
     "text": [
      "286/286 [==============================] - 22s 78ms/step - loss: 0.0159 - mean_absolute_percentage_error: 8.1215 - val_loss: 0.0180 - val_mean_absolute_percentage_error: 9.3762\n",
      "Epoch 7/200\n",
      "285/286 [============================>.] - ETA: 0s - loss: 0.0159 - mean_absolute_percentage_error: 8.0548"
     ]
    },
    {
     "name": "stderr",
     "output_type": "stream",
     "text": [
      "WARNING:absl:Found untraced functions such as lstm_cell_1_layer_call_fn, lstm_cell_1_layer_call_and_return_conditional_losses while saving (showing 2 of 2). These functions will not be directly callable after loading.\n"
     ]
    },
    {
     "name": "stdout",
     "output_type": "stream",
     "text": [
      "INFO:tensorflow:Assets written to: nizama_temp\\assets\n"
     ]
    },
    {
     "name": "stderr",
     "output_type": "stream",
     "text": [
      "INFO:tensorflow:Assets written to: nizama_temp\\assets\n"
     ]
    },
    {
     "name": "stdout",
     "output_type": "stream",
     "text": [
      "286/286 [==============================] - 23s 79ms/step - loss: 0.0159 - mean_absolute_percentage_error: 8.0545 - val_loss: 0.0172 - val_mean_absolute_percentage_error: 8.6033\n",
      "Epoch 8/200\n",
      "286/286 [==============================] - 16s 56ms/step - loss: 0.0158 - mean_absolute_percentage_error: 7.9813 - val_loss: 0.0172 - val_mean_absolute_percentage_error: 8.5207\n",
      "Epoch 9/200\n",
      "285/286 [============================>.] - ETA: 0s - loss: 0.0158 - mean_absolute_percentage_error: 7.9507"
     ]
    },
    {
     "name": "stderr",
     "output_type": "stream",
     "text": [
      "WARNING:absl:Found untraced functions such as lstm_cell_1_layer_call_fn, lstm_cell_1_layer_call_and_return_conditional_losses while saving (showing 2 of 2). These functions will not be directly callable after loading.\n"
     ]
    },
    {
     "name": "stdout",
     "output_type": "stream",
     "text": [
      "INFO:tensorflow:Assets written to: nizama_temp\\assets\n"
     ]
    },
    {
     "name": "stderr",
     "output_type": "stream",
     "text": [
      "INFO:tensorflow:Assets written to: nizama_temp\\assets\n"
     ]
    },
    {
     "name": "stdout",
     "output_type": "stream",
     "text": [
      "286/286 [==============================] - 21s 75ms/step - loss: 0.0158 - mean_absolute_percentage_error: 7.9505 - val_loss: 0.0171 - val_mean_absolute_percentage_error: 8.4819\n",
      "Epoch 10/200\n",
      "286/286 [==============================] - 16s 57ms/step - loss: 0.0158 - mean_absolute_percentage_error: 7.9377 - val_loss: 0.0174 - val_mean_absolute_percentage_error: 8.7212\n",
      "Epoch 11/200\n",
      "285/286 [============================>.] - ETA: 0s - loss: 0.0157 - mean_absolute_percentage_error: 7.8898"
     ]
    },
    {
     "name": "stderr",
     "output_type": "stream",
     "text": [
      "WARNING:absl:Found untraced functions such as lstm_cell_1_layer_call_fn, lstm_cell_1_layer_call_and_return_conditional_losses while saving (showing 2 of 2). These functions will not be directly callable after loading.\n"
     ]
    },
    {
     "name": "stdout",
     "output_type": "stream",
     "text": [
      "INFO:tensorflow:Assets written to: nizama_temp\\assets\n"
     ]
    },
    {
     "name": "stderr",
     "output_type": "stream",
     "text": [
      "INFO:tensorflow:Assets written to: nizama_temp\\assets\n"
     ]
    },
    {
     "name": "stdout",
     "output_type": "stream",
     "text": [
      "286/286 [==============================] - 22s 76ms/step - loss: 0.0157 - mean_absolute_percentage_error: 7.8891 - val_loss: 0.0170 - val_mean_absolute_percentage_error: 8.4365\n",
      "Epoch 12/200\n",
      "285/286 [============================>.] - ETA: 0s - loss: 0.0157 - mean_absolute_percentage_error: 7.8439"
     ]
    },
    {
     "name": "stderr",
     "output_type": "stream",
     "text": [
      "WARNING:absl:Found untraced functions such as lstm_cell_1_layer_call_fn, lstm_cell_1_layer_call_and_return_conditional_losses while saving (showing 2 of 2). These functions will not be directly callable after loading.\n"
     ]
    },
    {
     "name": "stdout",
     "output_type": "stream",
     "text": [
      "INFO:tensorflow:Assets written to: nizama_temp\\assets\n"
     ]
    },
    {
     "name": "stderr",
     "output_type": "stream",
     "text": [
      "INFO:tensorflow:Assets written to: nizama_temp\\assets\n"
     ]
    },
    {
     "name": "stdout",
     "output_type": "stream",
     "text": [
      "286/286 [==============================] - 22s 76ms/step - loss: 0.0157 - mean_absolute_percentage_error: 7.8436 - val_loss: 0.0168 - val_mean_absolute_percentage_error: 8.0486\n",
      "Epoch 13/200\n",
      "286/286 [==============================] - 16s 56ms/step - loss: 0.0157 - mean_absolute_percentage_error: 7.8483 - val_loss: 0.0170 - val_mean_absolute_percentage_error: 8.4110\n",
      "Epoch 14/200\n",
      "285/286 [============================>.] - ETA: 0s - loss: 0.0147 - mean_absolute_percentage_error: 7.6852"
     ]
    },
    {
     "name": "stderr",
     "output_type": "stream",
     "text": [
      "WARNING:absl:Found untraced functions such as lstm_cell_1_layer_call_fn, lstm_cell_1_layer_call_and_return_conditional_losses while saving (showing 2 of 2). These functions will not be directly callable after loading.\n"
     ]
    },
    {
     "name": "stdout",
     "output_type": "stream",
     "text": [
      "INFO:tensorflow:Assets written to: nizama_temp\\assets\n"
     ]
    },
    {
     "name": "stderr",
     "output_type": "stream",
     "text": [
      "INFO:tensorflow:Assets written to: nizama_temp\\assets\n"
     ]
    },
    {
     "name": "stdout",
     "output_type": "stream",
     "text": [
      "286/286 [==============================] - 21s 74ms/step - loss: 0.0147 - mean_absolute_percentage_error: 7.6853 - val_loss: 0.0152 - val_mean_absolute_percentage_error: 7.7132\n",
      "Epoch 15/200\n",
      "285/286 [============================>.] - ETA: 0s - loss: 0.0142 - mean_absolute_percentage_error: 7.5187"
     ]
    },
    {
     "name": "stderr",
     "output_type": "stream",
     "text": [
      "WARNING:absl:Found untraced functions such as lstm_cell_1_layer_call_fn, lstm_cell_1_layer_call_and_return_conditional_losses while saving (showing 2 of 2). These functions will not be directly callable after loading.\n"
     ]
    },
    {
     "name": "stdout",
     "output_type": "stream",
     "text": [
      "INFO:tensorflow:Assets written to: nizama_temp\\assets\n"
     ]
    },
    {
     "name": "stderr",
     "output_type": "stream",
     "text": [
      "INFO:tensorflow:Assets written to: nizama_temp\\assets\n"
     ]
    },
    {
     "name": "stdout",
     "output_type": "stream",
     "text": [
      "286/286 [==============================] - 21s 74ms/step - loss: 0.0142 - mean_absolute_percentage_error: 7.5186 - val_loss: 0.0151 - val_mean_absolute_percentage_error: 7.6231\n",
      "Epoch 16/200\n",
      "286/286 [==============================] - 16s 56ms/step - loss: 0.0142 - mean_absolute_percentage_error: 7.5407 - val_loss: 0.0152 - val_mean_absolute_percentage_error: 7.7816\n",
      "Epoch 17/200\n",
      "285/286 [============================>.] - ETA: 0s - loss: 0.0141 - mean_absolute_percentage_error: 7.4928"
     ]
    },
    {
     "name": "stderr",
     "output_type": "stream",
     "text": [
      "WARNING:absl:Found untraced functions such as lstm_cell_1_layer_call_fn, lstm_cell_1_layer_call_and_return_conditional_losses while saving (showing 2 of 2). These functions will not be directly callable after loading.\n"
     ]
    },
    {
     "name": "stdout",
     "output_type": "stream",
     "text": [
      "INFO:tensorflow:Assets written to: nizama_temp\\assets\n"
     ]
    },
    {
     "name": "stderr",
     "output_type": "stream",
     "text": [
      "INFO:tensorflow:Assets written to: nizama_temp\\assets\n"
     ]
    },
    {
     "name": "stdout",
     "output_type": "stream",
     "text": [
      "286/286 [==============================] - 22s 79ms/step - loss: 0.0141 - mean_absolute_percentage_error: 7.4927 - val_loss: 0.0151 - val_mean_absolute_percentage_error: 7.5695\n",
      "Epoch 18/200\n",
      "286/286 [==============================] - 16s 56ms/step - loss: 0.0141 - mean_absolute_percentage_error: 7.4755 - val_loss: 0.0154 - val_mean_absolute_percentage_error: 7.9179\n",
      "Epoch 19/200\n",
      "286/286 [==============================] - 16s 56ms/step - loss: 0.0141 - mean_absolute_percentage_error: 7.4461 - val_loss: 0.0151 - val_mean_absolute_percentage_error: 7.7242\n",
      "Epoch 20/200\n",
      "285/286 [============================>.] - ETA: 0s - loss: 0.0141 - mean_absolute_percentage_error: 7.4720"
     ]
    },
    {
     "name": "stderr",
     "output_type": "stream",
     "text": [
      "WARNING:absl:Found untraced functions such as lstm_cell_1_layer_call_fn, lstm_cell_1_layer_call_and_return_conditional_losses while saving (showing 2 of 2). These functions will not be directly callable after loading.\n"
     ]
    },
    {
     "name": "stdout",
     "output_type": "stream",
     "text": [
      "INFO:tensorflow:Assets written to: nizama_temp\\assets\n"
     ]
    },
    {
     "name": "stderr",
     "output_type": "stream",
     "text": [
      "INFO:tensorflow:Assets written to: nizama_temp\\assets\n"
     ]
    },
    {
     "name": "stdout",
     "output_type": "stream",
     "text": [
      "286/286 [==============================] - 21s 74ms/step - loss: 0.0141 - mean_absolute_percentage_error: 7.4718 - val_loss: 0.0149 - val_mean_absolute_percentage_error: 7.5319\n",
      "Epoch 21/200\n",
      "286/286 [==============================] - 17s 58ms/step - loss: 0.0141 - mean_absolute_percentage_error: 7.4253 - val_loss: 0.0152 - val_mean_absolute_percentage_error: 7.7862\n",
      "Epoch 22/200\n",
      "286/286 [==============================] - 16s 57ms/step - loss: 0.0141 - mean_absolute_percentage_error: 7.4078 - val_loss: 0.0149 - val_mean_absolute_percentage_error: 7.4288\n",
      "Epoch 23/200\n",
      "286/286 [==============================] - ETA: 0s - loss: 0.0129 - mean_absolute_percentage_error: 7.2181"
     ]
    },
    {
     "name": "stderr",
     "output_type": "stream",
     "text": [
      "WARNING:absl:Found untraced functions such as lstm_cell_1_layer_call_fn, lstm_cell_1_layer_call_and_return_conditional_losses while saving (showing 2 of 2). These functions will not be directly callable after loading.\n"
     ]
    },
    {
     "name": "stdout",
     "output_type": "stream",
     "text": [
      "INFO:tensorflow:Assets written to: nizama_temp\\assets\n"
     ]
    },
    {
     "name": "stderr",
     "output_type": "stream",
     "text": [
      "INFO:tensorflow:Assets written to: nizama_temp\\assets\n"
     ]
    },
    {
     "name": "stdout",
     "output_type": "stream",
     "text": [
      "286/286 [==============================] - 21s 75ms/step - loss: 0.0129 - mean_absolute_percentage_error: 7.2181 - val_loss: 0.0133 - val_mean_absolute_percentage_error: 7.1011\n",
      "Epoch 24/200\n",
      "285/286 [============================>.] - ETA: 0s - loss: 0.0112 - mean_absolute_percentage_error: 6.8664"
     ]
    },
    {
     "name": "stderr",
     "output_type": "stream",
     "text": [
      "WARNING:absl:Found untraced functions such as lstm_cell_1_layer_call_fn, lstm_cell_1_layer_call_and_return_conditional_losses while saving (showing 2 of 2). These functions will not be directly callable after loading.\n"
     ]
    },
    {
     "name": "stdout",
     "output_type": "stream",
     "text": [
      "INFO:tensorflow:Assets written to: nizama_temp\\assets\n"
     ]
    },
    {
     "name": "stderr",
     "output_type": "stream",
     "text": [
      "INFO:tensorflow:Assets written to: nizama_temp\\assets\n"
     ]
    },
    {
     "name": "stdout",
     "output_type": "stream",
     "text": [
      "286/286 [==============================] - 22s 76ms/step - loss: 0.0112 - mean_absolute_percentage_error: 6.8664 - val_loss: 0.0119 - val_mean_absolute_percentage_error: 6.9601\n",
      "Epoch 25/200\n",
      "286/286 [==============================] - 16s 56ms/step - loss: 0.0111 - mean_absolute_percentage_error: 6.8487 - val_loss: 0.0123 - val_mean_absolute_percentage_error: 7.3836\n",
      "Epoch 26/200\n",
      "286/286 [==============================] - 17s 58ms/step - loss: 0.0111 - mean_absolute_percentage_error: 6.8703 - val_loss: 0.0119 - val_mean_absolute_percentage_error: 6.9667\n",
      "Epoch 27/200\n",
      "286/286 [==============================] - 16s 55ms/step - loss: 0.0111 - mean_absolute_percentage_error: 6.8241 - val_loss: 0.0123 - val_mean_absolute_percentage_error: 7.4915\n",
      "Epoch 28/200\n",
      "286/286 [==============================] - 16s 56ms/step - loss: 0.0111 - mean_absolute_percentage_error: 6.7953 - val_loss: 0.0120 - val_mean_absolute_percentage_error: 7.1223\n",
      "Epoch 29/200\n",
      "285/286 [============================>.] - ETA: 0s - loss: 0.0111 - mean_absolute_percentage_error: 6.8119"
     ]
    },
    {
     "name": "stderr",
     "output_type": "stream",
     "text": [
      "WARNING:absl:Found untraced functions such as lstm_cell_1_layer_call_fn, lstm_cell_1_layer_call_and_return_conditional_losses while saving (showing 2 of 2). These functions will not be directly callable after loading.\n"
     ]
    },
    {
     "name": "stdout",
     "output_type": "stream",
     "text": [
      "INFO:tensorflow:Assets written to: nizama_temp\\assets\n"
     ]
    },
    {
     "name": "stderr",
     "output_type": "stream",
     "text": [
      "INFO:tensorflow:Assets written to: nizama_temp\\assets\n"
     ]
    },
    {
     "name": "stdout",
     "output_type": "stream",
     "text": [
      "286/286 [==============================] - 21s 74ms/step - loss: 0.0111 - mean_absolute_percentage_error: 6.8114 - val_loss: 0.0119 - val_mean_absolute_percentage_error: 6.9084\n",
      "Epoch 30/200\n",
      "286/286 [==============================] - 16s 56ms/step - loss: 0.0111 - mean_absolute_percentage_error: 6.7815 - val_loss: 0.0123 - val_mean_absolute_percentage_error: 7.3716\n",
      "Epoch 31/200\n",
      "286/286 [==============================] - ETA: 0s - loss: 0.0102 - mean_absolute_percentage_error: 6.6178"
     ]
    },
    {
     "name": "stderr",
     "output_type": "stream",
     "text": [
      "WARNING:absl:Found untraced functions such as lstm_cell_1_layer_call_fn, lstm_cell_1_layer_call_and_return_conditional_losses while saving (showing 2 of 2). These functions will not be directly callable after loading.\n"
     ]
    },
    {
     "name": "stdout",
     "output_type": "stream",
     "text": [
      "INFO:tensorflow:Assets written to: nizama_temp\\assets\n"
     ]
    },
    {
     "name": "stderr",
     "output_type": "stream",
     "text": [
      "INFO:tensorflow:Assets written to: nizama_temp\\assets\n"
     ]
    },
    {
     "name": "stdout",
     "output_type": "stream",
     "text": [
      "286/286 [==============================] - 22s 78ms/step - loss: 0.0102 - mean_absolute_percentage_error: 6.6178 - val_loss: 0.0103 - val_mean_absolute_percentage_error: 6.5557\n",
      "Epoch 32/200\n",
      "285/286 [============================>.] - ETA: 0s - loss: 0.0079 - mean_absolute_percentage_error: 6.1866"
     ]
    },
    {
     "name": "stderr",
     "output_type": "stream",
     "text": [
      "WARNING:absl:Found untraced functions such as lstm_cell_1_layer_call_fn, lstm_cell_1_layer_call_and_return_conditional_losses while saving (showing 2 of 2). These functions will not be directly callable after loading.\n"
     ]
    },
    {
     "name": "stdout",
     "output_type": "stream",
     "text": [
      "INFO:tensorflow:Assets written to: nizama_temp\\assets\n"
     ]
    },
    {
     "name": "stderr",
     "output_type": "stream",
     "text": [
      "INFO:tensorflow:Assets written to: nizama_temp\\assets\n"
     ]
    },
    {
     "name": "stdout",
     "output_type": "stream",
     "text": [
      "286/286 [==============================] - 22s 76ms/step - loss: 0.0079 - mean_absolute_percentage_error: 6.1854 - val_loss: 0.0060 - val_mean_absolute_percentage_error: 6.0728\n",
      "Epoch 33/200\n",
      "286/286 [==============================] - 16s 57ms/step - loss: 0.0052 - mean_absolute_percentage_error: 5.6989 - val_loss: 0.0060 - val_mean_absolute_percentage_error: 6.3107\n",
      "Epoch 34/200\n",
      "286/286 [==============================] - 15s 54ms/step - loss: 0.0052 - mean_absolute_percentage_error: 5.6781 - val_loss: 0.0062 - val_mean_absolute_percentage_error: 6.5804\n",
      "Epoch 35/200\n",
      "286/286 [==============================] - 15s 53ms/step - loss: 0.0052 - mean_absolute_percentage_error: 5.6645 - val_loss: 0.0060 - val_mean_absolute_percentage_error: 6.1930\n",
      "Epoch 36/200\n",
      "286/286 [==============================] - ETA: 0s - loss: 0.0051 - mean_absolute_percentage_error: 5.6220"
     ]
    },
    {
     "name": "stderr",
     "output_type": "stream",
     "text": [
      "WARNING:absl:Found untraced functions such as lstm_cell_1_layer_call_fn, lstm_cell_1_layer_call_and_return_conditional_losses while saving (showing 2 of 2). These functions will not be directly callable after loading.\n"
     ]
    },
    {
     "name": "stdout",
     "output_type": "stream",
     "text": [
      "INFO:tensorflow:Assets written to: nizama_temp\\assets\n"
     ]
    },
    {
     "name": "stderr",
     "output_type": "stream",
     "text": [
      "INFO:tensorflow:Assets written to: nizama_temp\\assets\n"
     ]
    },
    {
     "name": "stdout",
     "output_type": "stream",
     "text": [
      "286/286 [==============================] - 20s 70ms/step - loss: 0.0051 - mean_absolute_percentage_error: 5.6220 - val_loss: 0.0058 - val_mean_absolute_percentage_error: 5.9485\n",
      "Epoch 37/200\n",
      "286/286 [==============================] - 15s 52ms/step - loss: 0.0051 - mean_absolute_percentage_error: 5.5967 - val_loss: 0.0059 - val_mean_absolute_percentage_error: 6.0641\n",
      "Epoch 38/200\n",
      "286/286 [==============================] - 15s 51ms/step - loss: 0.0051 - mean_absolute_percentage_error: 5.5865 - val_loss: 0.0060 - val_mean_absolute_percentage_error: 6.1363\n",
      "Epoch 39/200\n",
      "285/286 [============================>.] - ETA: 0s - loss: 0.0051 - mean_absolute_percentage_error: 5.5755"
     ]
    },
    {
     "name": "stderr",
     "output_type": "stream",
     "text": [
      "WARNING:absl:Found untraced functions such as lstm_cell_1_layer_call_fn, lstm_cell_1_layer_call_and_return_conditional_losses while saving (showing 2 of 2). These functions will not be directly callable after loading.\n"
     ]
    },
    {
     "name": "stdout",
     "output_type": "stream",
     "text": [
      "INFO:tensorflow:Assets written to: nizama_temp\\assets\n"
     ]
    },
    {
     "name": "stderr",
     "output_type": "stream",
     "text": [
      "INFO:tensorflow:Assets written to: nizama_temp\\assets\n"
     ]
    },
    {
     "name": "stdout",
     "output_type": "stream",
     "text": [
      "286/286 [==============================] - 21s 72ms/step - loss: 0.0051 - mean_absolute_percentage_error: 5.5754 - val_loss: 0.0056 - val_mean_absolute_percentage_error: 5.8327\n",
      "Epoch 40/200\n",
      "286/286 [==============================] - 15s 52ms/step - loss: 0.0050 - mean_absolute_percentage_error: 5.5252 - val_loss: 0.0057 - val_mean_absolute_percentage_error: 5.8310\n",
      "Epoch 41/200\n",
      "286/286 [==============================] - 15s 52ms/step - loss: 0.0050 - mean_absolute_percentage_error: 5.5123 - val_loss: 0.0061 - val_mean_absolute_percentage_error: 6.1256\n",
      "Epoch 42/200\n",
      "286/286 [==============================] - 16s 54ms/step - loss: 0.0050 - mean_absolute_percentage_error: 5.4867 - val_loss: 0.0059 - val_mean_absolute_percentage_error: 6.1783\n",
      "Epoch 43/200\n",
      "286/286 [==============================] - 16s 56ms/step - loss: 0.0050 - mean_absolute_percentage_error: 5.4670 - val_loss: 0.0058 - val_mean_absolute_percentage_error: 6.0480\n",
      "Epoch 44/200\n",
      "285/286 [============================>.] - ETA: 0s - loss: 0.0050 - mean_absolute_percentage_error: 5.4235"
     ]
    },
    {
     "name": "stderr",
     "output_type": "stream",
     "text": [
      "WARNING:absl:Found untraced functions such as lstm_cell_1_layer_call_fn, lstm_cell_1_layer_call_and_return_conditional_losses while saving (showing 2 of 2). These functions will not be directly callable after loading.\n"
     ]
    },
    {
     "name": "stdout",
     "output_type": "stream",
     "text": [
      "INFO:tensorflow:Assets written to: nizama_temp\\assets\n"
     ]
    },
    {
     "name": "stderr",
     "output_type": "stream",
     "text": [
      "INFO:tensorflow:Assets written to: nizama_temp\\assets\n"
     ]
    },
    {
     "name": "stdout",
     "output_type": "stream",
     "text": [
      "286/286 [==============================] - 21s 75ms/step - loss: 0.0050 - mean_absolute_percentage_error: 5.4234 - val_loss: 0.0056 - val_mean_absolute_percentage_error: 5.7778\n",
      "Epoch 45/200\n",
      "285/286 [============================>.] - ETA: 0s - loss: 0.0038 - mean_absolute_percentage_error: 5.2054"
     ]
    },
    {
     "name": "stderr",
     "output_type": "stream",
     "text": [
      "WARNING:absl:Found untraced functions such as lstm_cell_1_layer_call_fn, lstm_cell_1_layer_call_and_return_conditional_losses while saving (showing 2 of 2). These functions will not be directly callable after loading.\n"
     ]
    },
    {
     "name": "stdout",
     "output_type": "stream",
     "text": [
      "INFO:tensorflow:Assets written to: nizama_temp\\assets\n"
     ]
    },
    {
     "name": "stderr",
     "output_type": "stream",
     "text": [
      "INFO:tensorflow:Assets written to: nizama_temp\\assets\n"
     ]
    },
    {
     "name": "stdout",
     "output_type": "stream",
     "text": [
      "286/286 [==============================] - 22s 75ms/step - loss: 0.0038 - mean_absolute_percentage_error: 5.2054 - val_loss: 0.0043 - val_mean_absolute_percentage_error: 5.7620\n",
      "Epoch 46/200\n",
      "285/286 [============================>.] - ETA: 0s - loss: 0.0035 - mean_absolute_percentage_error: 5.1223"
     ]
    },
    {
     "name": "stderr",
     "output_type": "stream",
     "text": [
      "WARNING:absl:Found untraced functions such as lstm_cell_1_layer_call_fn, lstm_cell_1_layer_call_and_return_conditional_losses while saving (showing 2 of 2). These functions will not be directly callable after loading.\n"
     ]
    },
    {
     "name": "stdout",
     "output_type": "stream",
     "text": [
      "INFO:tensorflow:Assets written to: nizama_temp\\assets\n"
     ]
    },
    {
     "name": "stderr",
     "output_type": "stream",
     "text": [
      "INFO:tensorflow:Assets written to: nizama_temp\\assets\n"
     ]
    },
    {
     "name": "stdout",
     "output_type": "stream",
     "text": [
      "286/286 [==============================] - 22s 76ms/step - loss: 0.0035 - mean_absolute_percentage_error: 5.1226 - val_loss: 0.0043 - val_mean_absolute_percentage_error: 5.8695\n",
      "Epoch 47/200\n",
      "285/286 [============================>.] - ETA: 0s - loss: 0.0035 - mean_absolute_percentage_error: 5.0921"
     ]
    },
    {
     "name": "stderr",
     "output_type": "stream",
     "text": [
      "WARNING:absl:Found untraced functions such as lstm_cell_1_layer_call_fn, lstm_cell_1_layer_call_and_return_conditional_losses while saving (showing 2 of 2). These functions will not be directly callable after loading.\n"
     ]
    },
    {
     "name": "stdout",
     "output_type": "stream",
     "text": [
      "INFO:tensorflow:Assets written to: nizama_temp\\assets\n"
     ]
    },
    {
     "name": "stderr",
     "output_type": "stream",
     "text": [
      "INFO:tensorflow:Assets written to: nizama_temp\\assets\n"
     ]
    },
    {
     "name": "stdout",
     "output_type": "stream",
     "text": [
      "286/286 [==============================] - 22s 76ms/step - loss: 0.0035 - mean_absolute_percentage_error: 5.0918 - val_loss: 0.0041 - val_mean_absolute_percentage_error: 5.5675\n",
      "Epoch 48/200\n",
      "285/286 [============================>.] - ETA: 0s - loss: 0.0034 - mean_absolute_percentage_error: 5.0460"
     ]
    },
    {
     "name": "stderr",
     "output_type": "stream",
     "text": [
      "WARNING:absl:Found untraced functions such as lstm_cell_1_layer_call_fn, lstm_cell_1_layer_call_and_return_conditional_losses while saving (showing 2 of 2). These functions will not be directly callable after loading.\n"
     ]
    },
    {
     "name": "stdout",
     "output_type": "stream",
     "text": [
      "INFO:tensorflow:Assets written to: nizama_temp\\assets\n"
     ]
    },
    {
     "name": "stderr",
     "output_type": "stream",
     "text": [
      "INFO:tensorflow:Assets written to: nizama_temp\\assets\n"
     ]
    },
    {
     "name": "stdout",
     "output_type": "stream",
     "text": [
      "286/286 [==============================] - 22s 77ms/step - loss: 0.0034 - mean_absolute_percentage_error: 5.0458 - val_loss: 0.0041 - val_mean_absolute_percentage_error: 5.5700\n",
      "Epoch 49/200\n",
      "286/286 [==============================] - 16s 56ms/step - loss: 0.0034 - mean_absolute_percentage_error: 5.0461 - val_loss: 0.0042 - val_mean_absolute_percentage_error: 5.6025\n",
      "Epoch 50/200\n",
      "285/286 [============================>.] - ETA: 0s - loss: 0.0034 - mean_absolute_percentage_error: 4.9791"
     ]
    },
    {
     "name": "stderr",
     "output_type": "stream",
     "text": [
      "WARNING:absl:Found untraced functions such as lstm_cell_1_layer_call_fn, lstm_cell_1_layer_call_and_return_conditional_losses while saving (showing 2 of 2). These functions will not be directly callable after loading.\n"
     ]
    },
    {
     "name": "stdout",
     "output_type": "stream",
     "text": [
      "INFO:tensorflow:Assets written to: nizama_temp\\assets\n"
     ]
    },
    {
     "name": "stderr",
     "output_type": "stream",
     "text": [
      "INFO:tensorflow:Assets written to: nizama_temp\\assets\n"
     ]
    },
    {
     "name": "stdout",
     "output_type": "stream",
     "text": [
      "286/286 [==============================] - 22s 76ms/step - loss: 0.0034 - mean_absolute_percentage_error: 4.9790 - val_loss: 0.0040 - val_mean_absolute_percentage_error: 5.4669\n",
      "Epoch 51/200\n",
      "285/286 [============================>.] - ETA: 0s - loss: 0.0034 - mean_absolute_percentage_error: 4.9600"
     ]
    },
    {
     "name": "stderr",
     "output_type": "stream",
     "text": [
      "WARNING:absl:Found untraced functions such as lstm_cell_1_layer_call_fn, lstm_cell_1_layer_call_and_return_conditional_losses while saving (showing 2 of 2). These functions will not be directly callable after loading.\n"
     ]
    },
    {
     "name": "stdout",
     "output_type": "stream",
     "text": [
      "INFO:tensorflow:Assets written to: nizama_temp\\assets\n"
     ]
    },
    {
     "name": "stderr",
     "output_type": "stream",
     "text": [
      "INFO:tensorflow:Assets written to: nizama_temp\\assets\n"
     ]
    },
    {
     "name": "stdout",
     "output_type": "stream",
     "text": [
      "286/286 [==============================] - 21s 75ms/step - loss: 0.0034 - mean_absolute_percentage_error: 4.9606 - val_loss: 0.0040 - val_mean_absolute_percentage_error: 5.4254\n",
      "Epoch 52/200\n",
      "286/286 [==============================] - 16s 57ms/step - loss: 0.0033 - mean_absolute_percentage_error: 4.9081 - val_loss: 0.0041 - val_mean_absolute_percentage_error: 5.5594\n",
      "Epoch 53/200\n",
      "286/286 [==============================] - 16s 57ms/step - loss: 0.0033 - mean_absolute_percentage_error: 4.9049 - val_loss: 0.0041 - val_mean_absolute_percentage_error: 5.4586\n",
      "Epoch 54/200\n",
      "286/286 [==============================] - 16s 57ms/step - loss: 0.0033 - mean_absolute_percentage_error: 4.8851 - val_loss: 0.0043 - val_mean_absolute_percentage_error: 5.7677\n",
      "Epoch 55/200\n",
      "286/286 [==============================] - 16s 58ms/step - loss: 0.0033 - mean_absolute_percentage_error: 4.8461 - val_loss: 0.0042 - val_mean_absolute_percentage_error: 5.6010\n",
      "Epoch 56/200\n",
      "286/286 [==============================] - 16s 56ms/step - loss: 0.0033 - mean_absolute_percentage_error: 4.8150 - val_loss: 0.0041 - val_mean_absolute_percentage_error: 5.4774\n",
      "Epoch 57/200\n",
      "286/286 [==============================] - 16s 58ms/step - loss: 0.0033 - mean_absolute_percentage_error: 4.8124 - val_loss: 0.0041 - val_mean_absolute_percentage_error: 5.5699\n",
      "Epoch 58/200\n",
      "286/286 [==============================] - 16s 57ms/step - loss: 0.0032 - mean_absolute_percentage_error: 4.7645 - val_loss: 0.0041 - val_mean_absolute_percentage_error: 5.5960\n",
      "Epoch 59/200\n",
      "286/286 [==============================] - 16s 55ms/step - loss: 0.0032 - mean_absolute_percentage_error: 4.7299 - val_loss: 0.0041 - val_mean_absolute_percentage_error: 5.5103\n",
      "Epoch 60/200\n",
      "286/286 [==============================] - 16s 57ms/step - loss: 0.0032 - mean_absolute_percentage_error: 4.7214 - val_loss: 0.0041 - val_mean_absolute_percentage_error: 5.5496\n",
      "Epoch 61/200\n",
      "286/286 [==============================] - 16s 56ms/step - loss: 0.0032 - mean_absolute_percentage_error: 4.7030 - val_loss: 0.0041 - val_mean_absolute_percentage_error: 5.5987\n",
      "Epoch 62/200\n",
      "286/286 [==============================] - 16s 56ms/step - loss: 0.0031 - mean_absolute_percentage_error: 4.6677 - val_loss: 0.0044 - val_mean_absolute_percentage_error: 5.7998\n",
      "Epoch 63/200\n",
      "286/286 [==============================] - 16s 56ms/step - loss: 0.0031 - mean_absolute_percentage_error: 4.6279 - val_loss: 0.0042 - val_mean_absolute_percentage_error: 5.6869\n",
      "Epoch 64/200\n",
      "286/286 [==============================] - 16s 56ms/step - loss: 0.0031 - mean_absolute_percentage_error: 4.5949 - val_loss: 0.0043 - val_mean_absolute_percentage_error: 5.6634\n",
      "Epoch 65/200\n",
      "286/286 [==============================] - 16s 56ms/step - loss: 0.0031 - mean_absolute_percentage_error: 4.5898 - val_loss: 0.0045 - val_mean_absolute_percentage_error: 5.9990\n",
      "Epoch 66/200\n",
      "285/286 [============================>.] - ETA: 0s - loss: 0.0030 - mean_absolute_percentage_error: 4.5619"
     ]
    },
    {
     "name": "stderr",
     "output_type": "stream",
     "text": [
      "WARNING:absl:Found untraced functions such as lstm_cell_1_layer_call_fn, lstm_cell_1_layer_call_and_return_conditional_losses while saving (showing 2 of 2). These functions will not be directly callable after loading.\n"
     ]
    },
    {
     "name": "stdout",
     "output_type": "stream",
     "text": [
      "INFO:tensorflow:Assets written to: nizama_temp\\assets\n"
     ]
    },
    {
     "name": "stderr",
     "output_type": "stream",
     "text": [
      "INFO:tensorflow:Assets written to: nizama_temp\\assets\n"
     ]
    },
    {
     "name": "stdout",
     "output_type": "stream",
     "text": [
      "286/286 [==============================] - 23s 79ms/step - loss: 0.0030 - mean_absolute_percentage_error: 4.5619 - val_loss: 0.0030 - val_mean_absolute_percentage_error: 5.6496\n",
      "Epoch 67/200\n",
      "285/286 [============================>.] - ETA: 0s - loss: 0.0016 - mean_absolute_percentage_error: 4.2860"
     ]
    },
    {
     "name": "stderr",
     "output_type": "stream",
     "text": [
      "WARNING:absl:Found untraced functions such as lstm_cell_1_layer_call_fn, lstm_cell_1_layer_call_and_return_conditional_losses while saving (showing 2 of 2). These functions will not be directly callable after loading.\n"
     ]
    },
    {
     "name": "stdout",
     "output_type": "stream",
     "text": [
      "INFO:tensorflow:Assets written to: nizama_temp\\assets\n"
     ]
    },
    {
     "name": "stderr",
     "output_type": "stream",
     "text": [
      "INFO:tensorflow:Assets written to: nizama_temp\\assets\n"
     ]
    },
    {
     "name": "stdout",
     "output_type": "stream",
     "text": [
      "286/286 [==============================] - 22s 78ms/step - loss: 0.0016 - mean_absolute_percentage_error: 4.2862 - val_loss: 0.0027 - val_mean_absolute_percentage_error: 5.4307\n",
      "Epoch 68/200\n",
      "286/286 [==============================] - 16s 55ms/step - loss: 0.0016 - mean_absolute_percentage_error: 4.2606 - val_loss: 0.0028 - val_mean_absolute_percentage_error: 5.5403\n",
      "Epoch 69/200\n",
      "286/286 [==============================] - 16s 55ms/step - loss: 0.0016 - mean_absolute_percentage_error: 4.2461 - val_loss: 0.0028 - val_mean_absolute_percentage_error: 5.4813\n",
      "Epoch 70/200\n",
      "286/286 [==============================] - 15s 53ms/step - loss: 0.0016 - mean_absolute_percentage_error: 4.2363 - val_loss: 0.0028 - val_mean_absolute_percentage_error: 5.5836\n",
      "Epoch 71/200\n",
      "286/286 [==============================] - 15s 54ms/step - loss: 0.0015 - mean_absolute_percentage_error: 4.2152 - val_loss: 0.0027 - val_mean_absolute_percentage_error: 5.4337\n",
      "Epoch 72/200\n",
      "286/286 [==============================] - 15s 53ms/step - loss: 0.0015 - mean_absolute_percentage_error: 4.1881 - val_loss: 0.0027 - val_mean_absolute_percentage_error: 5.4446\n",
      "Epoch 73/200\n",
      "285/286 [============================>.] - ETA: 0s - loss: 0.0015 - mean_absolute_percentage_error: 4.1795"
     ]
    },
    {
     "name": "stderr",
     "output_type": "stream",
     "text": [
      "WARNING:absl:Found untraced functions such as lstm_cell_1_layer_call_fn, lstm_cell_1_layer_call_and_return_conditional_losses while saving (showing 2 of 2). These functions will not be directly callable after loading.\n"
     ]
    },
    {
     "name": "stdout",
     "output_type": "stream",
     "text": [
      "INFO:tensorflow:Assets written to: nizama_temp\\assets\n"
     ]
    },
    {
     "name": "stderr",
     "output_type": "stream",
     "text": [
      "INFO:tensorflow:Assets written to: nizama_temp\\assets\n"
     ]
    },
    {
     "name": "stdout",
     "output_type": "stream",
     "text": [
      "286/286 [==============================] - 20s 72ms/step - loss: 0.0015 - mean_absolute_percentage_error: 4.1794 - val_loss: 0.0026 - val_mean_absolute_percentage_error: 5.2841\n",
      "Epoch 74/200\n",
      "286/286 [==============================] - 15s 53ms/step - loss: 0.0015 - mean_absolute_percentage_error: 4.1594 - val_loss: 0.0026 - val_mean_absolute_percentage_error: 5.3482\n",
      "Epoch 75/200\n",
      "286/286 [==============================] - 15s 53ms/step - loss: 0.0015 - mean_absolute_percentage_error: 4.1599 - val_loss: 0.0028 - val_mean_absolute_percentage_error: 5.4320\n",
      "Epoch 76/200\n",
      "286/286 [==============================] - 15s 53ms/step - loss: 0.0015 - mean_absolute_percentage_error: 4.1400 - val_loss: 0.0027 - val_mean_absolute_percentage_error: 5.3975\n",
      "Epoch 77/200\n",
      "286/286 [==============================] - 15s 53ms/step - loss: 0.0015 - mean_absolute_percentage_error: 4.1263 - val_loss: 0.0028 - val_mean_absolute_percentage_error: 5.4624\n",
      "Epoch 78/200\n",
      "286/286 [==============================] - 15s 53ms/step - loss: 0.0015 - mean_absolute_percentage_error: 4.1266 - val_loss: 0.0028 - val_mean_absolute_percentage_error: 5.5566\n",
      "Epoch 79/200\n",
      "286/286 [==============================] - 15s 53ms/step - loss: 0.0015 - mean_absolute_percentage_error: 4.1134 - val_loss: 0.0028 - val_mean_absolute_percentage_error: 5.5436\n",
      "Epoch 80/200\n",
      "286/286 [==============================] - 15s 54ms/step - loss: 0.0015 - mean_absolute_percentage_error: 4.0844 - val_loss: 0.0027 - val_mean_absolute_percentage_error: 5.4456\n",
      "Epoch 81/200\n",
      "286/286 [==============================] - 15s 53ms/step - loss: 0.0015 - mean_absolute_percentage_error: 4.1120 - val_loss: 0.0027 - val_mean_absolute_percentage_error: 5.3502\n",
      "Epoch 82/200\n",
      "286/286 [==============================] - 15s 52ms/step - loss: 0.0015 - mean_absolute_percentage_error: 4.0794 - val_loss: 0.0027 - val_mean_absolute_percentage_error: 5.3793\n",
      "Epoch 83/200\n",
      "286/286 [==============================] - 15s 52ms/step - loss: 0.0014 - mean_absolute_percentage_error: 4.0553 - val_loss: 0.0028 - val_mean_absolute_percentage_error: 5.4922\n",
      "Epoch 84/200\n",
      "286/286 [==============================] - 15s 52ms/step - loss: 0.0014 - mean_absolute_percentage_error: 4.0227 - val_loss: 0.0027 - val_mean_absolute_percentage_error: 5.4348\n",
      "Epoch 85/200\n",
      "286/286 [==============================] - 15s 52ms/step - loss: 0.0014 - mean_absolute_percentage_error: 4.0430 - val_loss: 0.0028 - val_mean_absolute_percentage_error: 5.4948\n",
      "Epoch 86/200\n",
      "286/286 [==============================] - 15s 52ms/step - loss: 0.0014 - mean_absolute_percentage_error: 4.0305 - val_loss: 0.0028 - val_mean_absolute_percentage_error: 5.4916\n",
      "Epoch 87/200\n",
      "286/286 [==============================] - 15s 52ms/step - loss: 0.0014 - mean_absolute_percentage_error: 4.0229 - val_loss: 0.0027 - val_mean_absolute_percentage_error: 5.3701\n",
      "Epoch 88/200\n",
      "286/286 [==============================] - 15s 53ms/step - loss: 0.0014 - mean_absolute_percentage_error: 3.9978 - val_loss: 0.0027 - val_mean_absolute_percentage_error: 5.3752\n",
      "Epoch 89/200\n",
      "286/286 [==============================] - 15s 52ms/step - loss: 0.0014 - mean_absolute_percentage_error: 4.0102 - val_loss: 0.0029 - val_mean_absolute_percentage_error: 5.6292\n",
      "Epoch 90/200\n",
      "286/286 [==============================] - 15s 52ms/step - loss: 0.0014 - mean_absolute_percentage_error: 4.0121 - val_loss: 0.0028 - val_mean_absolute_percentage_error: 5.4865\n",
      "Epoch 91/200\n",
      "286/286 [==============================] - 15s 52ms/step - loss: 0.0014 - mean_absolute_percentage_error: 3.9756 - val_loss: 0.0028 - val_mean_absolute_percentage_error: 5.5627\n",
      "Epoch 92/200\n",
      "286/286 [==============================] - 16s 55ms/step - loss: 0.0014 - mean_absolute_percentage_error: 3.9827 - val_loss: 0.0028 - val_mean_absolute_percentage_error: 5.4159\n",
      "Epoch 93/200\n",
      "286/286 [==============================] - 17s 59ms/step - loss: 0.0014 - mean_absolute_percentage_error: 3.9765 - val_loss: 0.0029 - val_mean_absolute_percentage_error: 5.5300\n",
      "Epoch 94/200\n",
      "286/286 [==============================] - ETA: 0s - loss: 0.0014 - mean_absolute_percentage_error: 3.9557"
     ]
    },
    {
     "name": "stderr",
     "output_type": "stream",
     "text": [
      "WARNING:absl:Found untraced functions such as lstm_cell_1_layer_call_fn, lstm_cell_1_layer_call_and_return_conditional_losses while saving (showing 2 of 2). These functions will not be directly callable after loading.\n"
     ]
    },
    {
     "name": "stdout",
     "output_type": "stream",
     "text": [
      "INFO:tensorflow:Assets written to: nizama_temp\\assets\n"
     ]
    },
    {
     "name": "stderr",
     "output_type": "stream",
     "text": [
      "INFO:tensorflow:Assets written to: nizama_temp\\assets\n"
     ]
    },
    {
     "name": "stdout",
     "output_type": "stream",
     "text": [
      "286/286 [==============================] - 24s 84ms/step - loss: 0.0014 - mean_absolute_percentage_error: 3.9557 - val_loss: 0.0026 - val_mean_absolute_percentage_error: 5.3005\n",
      "Epoch 95/200\n",
      "286/286 [==============================] - 15s 53ms/step - loss: 0.0014 - mean_absolute_percentage_error: 3.9560 - val_loss: 0.0027 - val_mean_absolute_percentage_error: 5.4333\n",
      "Epoch 96/200\n",
      "286/286 [==============================] - 15s 53ms/step - loss: 0.0014 - mean_absolute_percentage_error: 3.9467 - val_loss: 0.0028 - val_mean_absolute_percentage_error: 5.4798\n",
      "Epoch 97/200\n",
      "286/286 [==============================] - 16s 56ms/step - loss: 0.0013 - mean_absolute_percentage_error: 3.9296 - val_loss: 0.0028 - val_mean_absolute_percentage_error: 5.4763\n",
      "Epoch 98/200\n",
      "286/286 [==============================] - 15s 53ms/step - loss: 0.0013 - mean_absolute_percentage_error: 3.9311 - val_loss: 0.0027 - val_mean_absolute_percentage_error: 5.3629\n",
      "Epoch 99/200\n",
      "286/286 [==============================] - 17s 59ms/step - loss: 0.0013 - mean_absolute_percentage_error: 3.9141 - val_loss: 0.0026 - val_mean_absolute_percentage_error: 5.3106\n",
      "Epoch 100/200\n",
      "286/286 [==============================] - 16s 57ms/step - loss: 0.0013 - mean_absolute_percentage_error: 3.9264 - val_loss: 0.0030 - val_mean_absolute_percentage_error: 5.7255\n",
      "Epoch 101/200\n",
      "286/286 [==============================] - 16s 56ms/step - loss: 0.0013 - mean_absolute_percentage_error: 3.9212 - val_loss: 0.0028 - val_mean_absolute_percentage_error: 5.4564\n",
      "Epoch 102/200\n",
      "286/286 [==============================] - 15s 53ms/step - loss: 0.0013 - mean_absolute_percentage_error: 3.9091 - val_loss: 0.0027 - val_mean_absolute_percentage_error: 5.4543\n",
      "Epoch 103/200\n",
      "286/286 [==============================] - 15s 53ms/step - loss: 0.0013 - mean_absolute_percentage_error: 3.8989 - val_loss: 0.0027 - val_mean_absolute_percentage_error: 5.4269\n",
      "Epoch 104/200\n",
      "286/286 [==============================] - 15s 52ms/step - loss: 0.0013 - mean_absolute_percentage_error: 3.9035 - val_loss: 0.0029 - val_mean_absolute_percentage_error: 5.5759\n",
      "Epoch 105/200\n",
      "286/286 [==============================] - 15s 52ms/step - loss: 0.0013 - mean_absolute_percentage_error: 3.8907 - val_loss: 0.0027 - val_mean_absolute_percentage_error: 5.4257\n",
      "Epoch 106/200\n",
      "286/286 [==============================] - 15s 51ms/step - loss: 0.0013 - mean_absolute_percentage_error: 3.8751 - val_loss: 0.0026 - val_mean_absolute_percentage_error: 5.3015\n",
      "Epoch 107/200\n",
      "286/286 [==============================] - 15s 52ms/step - loss: 0.0013 - mean_absolute_percentage_error: 3.8728 - val_loss: 0.0028 - val_mean_absolute_percentage_error: 5.4853\n",
      "Epoch 108/200\n",
      "286/286 [==============================] - 15s 52ms/step - loss: 0.0013 - mean_absolute_percentage_error: 3.8551 - val_loss: 0.0028 - val_mean_absolute_percentage_error: 5.4608\n",
      "Epoch 109/200\n",
      "286/286 [==============================] - 15s 52ms/step - loss: 0.0013 - mean_absolute_percentage_error: 3.8431 - val_loss: 0.0027 - val_mean_absolute_percentage_error: 5.3878\n",
      "Epoch 110/200\n",
      "286/286 [==============================] - 15s 52ms/step - loss: 0.0013 - mean_absolute_percentage_error: 3.8563 - val_loss: 0.0029 - val_mean_absolute_percentage_error: 5.5022\n",
      "Epoch 111/200\n",
      "286/286 [==============================] - 15s 51ms/step - loss: 0.0013 - mean_absolute_percentage_error: 3.8558 - val_loss: 0.0028 - val_mean_absolute_percentage_error: 5.5202\n",
      "Epoch 112/200\n",
      "286/286 [==============================] - 15s 52ms/step - loss: 0.0013 - mean_absolute_percentage_error: 3.8399 - val_loss: 0.0027 - val_mean_absolute_percentage_error: 5.3996\n",
      "Epoch 113/200\n",
      "286/286 [==============================] - 15s 52ms/step - loss: 0.0013 - mean_absolute_percentage_error: 3.8352 - val_loss: 0.0027 - val_mean_absolute_percentage_error: 5.4023\n",
      "Epoch 114/200\n",
      "286/286 [==============================] - 15s 52ms/step - loss: 0.0013 - mean_absolute_percentage_error: 3.8306 - val_loss: 0.0028 - val_mean_absolute_percentage_error: 5.4549\n",
      "Epoch 115/200\n",
      "286/286 [==============================] - 15s 53ms/step - loss: 0.0013 - mean_absolute_percentage_error: 3.8359 - val_loss: 0.0028 - val_mean_absolute_percentage_error: 5.4871\n",
      "Epoch 116/200\n",
      "286/286 [==============================] - 15s 52ms/step - loss: 0.0013 - mean_absolute_percentage_error: 3.8238 - val_loss: 0.0027 - val_mean_absolute_percentage_error: 5.4251\n",
      "Epoch 117/200\n",
      "286/286 [==============================] - 15s 53ms/step - loss: 0.0013 - mean_absolute_percentage_error: 3.8212 - val_loss: 0.0028 - val_mean_absolute_percentage_error: 5.5199\n",
      "Epoch 118/200\n",
      "286/286 [==============================] - 15s 52ms/step - loss: 0.0013 - mean_absolute_percentage_error: 3.8153 - val_loss: 0.0029 - val_mean_absolute_percentage_error: 5.5669\n",
      "Epoch 119/200\n",
      "286/286 [==============================] - 15s 52ms/step - loss: 0.0013 - mean_absolute_percentage_error: 3.7936 - val_loss: 0.0028 - val_mean_absolute_percentage_error: 5.4986\n",
      "Epoch 120/200\n",
      "286/286 [==============================] - 15s 52ms/step - loss: 0.0013 - mean_absolute_percentage_error: 3.8181 - val_loss: 0.0029 - val_mean_absolute_percentage_error: 5.5790\n",
      "Epoch 121/200\n",
      "286/286 [==============================] - 15s 52ms/step - loss: 0.0013 - mean_absolute_percentage_error: 3.7967 - val_loss: 0.0028 - val_mean_absolute_percentage_error: 5.4067\n",
      "Epoch 122/200\n",
      "286/286 [==============================] - 15s 52ms/step - loss: 0.0012 - mean_absolute_percentage_error: 3.7835 - val_loss: 0.0026 - val_mean_absolute_percentage_error: 5.2766\n",
      "Epoch 123/200\n",
      "286/286 [==============================] - 16s 55ms/step - loss: 0.0012 - mean_absolute_percentage_error: 3.7865 - val_loss: 0.0027 - val_mean_absolute_percentage_error: 5.3668\n",
      "Epoch 124/200\n",
      "286/286 [==============================] - 16s 55ms/step - loss: 0.0012 - mean_absolute_percentage_error: 3.7859 - val_loss: 0.0028 - val_mean_absolute_percentage_error: 5.4312\n",
      "Epoch 125/200\n",
      "286/286 [==============================] - 15s 53ms/step - loss: 0.0012 - mean_absolute_percentage_error: 3.7773 - val_loss: 0.0029 - val_mean_absolute_percentage_error: 5.5568\n",
      "Epoch 126/200\n",
      "286/286 [==============================] - 16s 54ms/step - loss: 0.0012 - mean_absolute_percentage_error: 3.7678 - val_loss: 0.0029 - val_mean_absolute_percentage_error: 5.5301\n",
      "Epoch 127/200\n",
      "286/286 [==============================] - 16s 56ms/step - loss: 0.0012 - mean_absolute_percentage_error: 3.7637 - val_loss: 0.0029 - val_mean_absolute_percentage_error: 5.6176\n",
      "Epoch 128/200\n",
      "286/286 [==============================] - 16s 55ms/step - loss: 0.0012 - mean_absolute_percentage_error: 3.7590 - val_loss: 0.0028 - val_mean_absolute_percentage_error: 5.4991\n",
      "Epoch 129/200\n",
      "286/286 [==============================] - 15s 54ms/step - loss: 0.0012 - mean_absolute_percentage_error: 3.7642 - val_loss: 0.0028 - val_mean_absolute_percentage_error: 5.4699\n",
      "Epoch 130/200\n",
      "286/286 [==============================] - 16s 56ms/step - loss: 0.0012 - mean_absolute_percentage_error: 3.7553 - val_loss: 0.0027 - val_mean_absolute_percentage_error: 5.3925\n",
      "Epoch 131/200\n",
      "286/286 [==============================] - 16s 56ms/step - loss: 0.0012 - mean_absolute_percentage_error: 3.7544 - val_loss: 0.0028 - val_mean_absolute_percentage_error: 5.4567\n",
      "Epoch 132/200\n",
      "286/286 [==============================] - 15s 53ms/step - loss: 0.0012 - mean_absolute_percentage_error: 3.7505 - val_loss: 0.0028 - val_mean_absolute_percentage_error: 5.4628\n",
      "Epoch 133/200\n",
      "286/286 [==============================] - 15s 52ms/step - loss: 0.0012 - mean_absolute_percentage_error: 3.7531 - val_loss: 0.0028 - val_mean_absolute_percentage_error: 5.4899\n",
      "Epoch 134/200\n",
      "286/286 [==============================] - 15s 52ms/step - loss: 0.0012 - mean_absolute_percentage_error: 3.7628 - val_loss: 0.0027 - val_mean_absolute_percentage_error: 5.3968\n",
      "Epoch 135/200\n",
      "286/286 [==============================] - 15s 53ms/step - loss: 0.0012 - mean_absolute_percentage_error: 3.7381 - val_loss: 0.0028 - val_mean_absolute_percentage_error: 5.4845\n",
      "Epoch 136/200\n",
      "286/286 [==============================] - 15s 52ms/step - loss: 0.0012 - mean_absolute_percentage_error: 3.7380 - val_loss: 0.0029 - val_mean_absolute_percentage_error: 5.5496\n"
     ]
    },
    {
     "name": "stdout",
     "output_type": "stream",
     "text": [
      "Epoch 137/200\n",
      "286/286 [==============================] - 15s 53ms/step - loss: 0.0012 - mean_absolute_percentage_error: 3.7393 - val_loss: 0.0028 - val_mean_absolute_percentage_error: 5.4891\n",
      "Epoch 138/200\n",
      "286/286 [==============================] - 15s 51ms/step - loss: 0.0012 - mean_absolute_percentage_error: 3.7278 - val_loss: 0.0029 - val_mean_absolute_percentage_error: 5.5462\n",
      "Epoch 139/200\n",
      "286/286 [==============================] - 15s 52ms/step - loss: 0.0012 - mean_absolute_percentage_error: 3.7341 - val_loss: 0.0027 - val_mean_absolute_percentage_error: 5.3409\n",
      "Epoch 140/200\n",
      "286/286 [==============================] - 15s 52ms/step - loss: 0.0012 - mean_absolute_percentage_error: 3.7231 - val_loss: 0.0027 - val_mean_absolute_percentage_error: 5.4013\n",
      "Epoch 141/200\n",
      "286/286 [==============================] - 15s 53ms/step - loss: 0.0012 - mean_absolute_percentage_error: 3.7090 - val_loss: 0.0029 - val_mean_absolute_percentage_error: 5.5332\n",
      "Epoch 142/200\n",
      "286/286 [==============================] - 15s 51ms/step - loss: 0.0012 - mean_absolute_percentage_error: 3.7241 - val_loss: 0.0029 - val_mean_absolute_percentage_error: 5.5129\n",
      "Epoch 143/200\n",
      "286/286 [==============================] - 16s 55ms/step - loss: 0.0012 - mean_absolute_percentage_error: 3.7108 - val_loss: 0.0028 - val_mean_absolute_percentage_error: 5.5286\n",
      "Epoch 144/200\n",
      "286/286 [==============================] - 15s 54ms/step - loss: 0.0012 - mean_absolute_percentage_error: 3.6954 - val_loss: 0.0029 - val_mean_absolute_percentage_error: 5.5359\n",
      "Epoch 145/200\n",
      "286/286 [==============================] - 15s 52ms/step - loss: 0.0012 - mean_absolute_percentage_error: 3.7027 - val_loss: 0.0028 - val_mean_absolute_percentage_error: 5.4708\n",
      "Epoch 146/200\n",
      "286/286 [==============================] - 15s 53ms/step - loss: 0.0012 - mean_absolute_percentage_error: 3.7123 - val_loss: 0.0029 - val_mean_absolute_percentage_error: 5.5831\n",
      "Epoch 147/200\n",
      "286/286 [==============================] - 15s 54ms/step - loss: 0.0012 - mean_absolute_percentage_error: 3.6861 - val_loss: 0.0028 - val_mean_absolute_percentage_error: 5.4906\n",
      "Epoch 148/200\n",
      "286/286 [==============================] - 15s 54ms/step - loss: 0.0012 - mean_absolute_percentage_error: 3.6898 - val_loss: 0.0028 - val_mean_absolute_percentage_error: 5.4386\n",
      "Epoch 149/200\n",
      "286/286 [==============================] - 17s 58ms/step - loss: 0.0012 - mean_absolute_percentage_error: 3.6875 - val_loss: 0.0029 - val_mean_absolute_percentage_error: 5.5897\n",
      "Epoch 150/200\n",
      "286/286 [==============================] - 16s 57ms/step - loss: 0.0012 - mean_absolute_percentage_error: 3.6875 - val_loss: 0.0029 - val_mean_absolute_percentage_error: 5.5672\n",
      "Epoch 151/200\n",
      "286/286 [==============================] - 17s 58ms/step - loss: 0.0012 - mean_absolute_percentage_error: 3.6831 - val_loss: 0.0029 - val_mean_absolute_percentage_error: 5.4960\n",
      "Epoch 152/200\n",
      "286/286 [==============================] - 15s 53ms/step - loss: 0.0012 - mean_absolute_percentage_error: 3.6844 - val_loss: 0.0027 - val_mean_absolute_percentage_error: 5.4028\n",
      "Epoch 153/200\n",
      "286/286 [==============================] - 15s 54ms/step - loss: 0.0012 - mean_absolute_percentage_error: 3.6810 - val_loss: 0.0027 - val_mean_absolute_percentage_error: 5.3795\n",
      "Epoch 154/200\n",
      "286/286 [==============================] - 17s 60ms/step - loss: 0.0012 - mean_absolute_percentage_error: 3.6753 - val_loss: 0.0029 - val_mean_absolute_percentage_error: 5.5661\n",
      "Epoch 155/200\n",
      "286/286 [==============================] - 16s 57ms/step - loss: 0.0012 - mean_absolute_percentage_error: 3.6788 - val_loss: 0.0028 - val_mean_absolute_percentage_error: 5.5075\n",
      "Epoch 156/200\n",
      "286/286 [==============================] - 15s 54ms/step - loss: 0.0012 - mean_absolute_percentage_error: 3.6711 - val_loss: 0.0029 - val_mean_absolute_percentage_error: 5.5969\n",
      "Epoch 157/200\n",
      "286/286 [==============================] - 15s 53ms/step - loss: 0.0012 - mean_absolute_percentage_error: 3.6693 - val_loss: 0.0027 - val_mean_absolute_percentage_error: 5.3854\n",
      "Epoch 158/200\n",
      "286/286 [==============================] - 16s 54ms/step - loss: 0.0012 - mean_absolute_percentage_error: 3.6635 - val_loss: 0.0028 - val_mean_absolute_percentage_error: 5.4872\n",
      "Epoch 159/200\n",
      "286/286 [==============================] - 16s 54ms/step - loss: 0.0012 - mean_absolute_percentage_error: 3.6674 - val_loss: 0.0028 - val_mean_absolute_percentage_error: 5.4515\n",
      "Epoch 160/200\n",
      "286/286 [==============================] - 16s 55ms/step - loss: 0.0012 - mean_absolute_percentage_error: 3.6673 - val_loss: 0.0028 - val_mean_absolute_percentage_error: 5.4215\n",
      "Epoch 161/200\n",
      "286/286 [==============================] - 15s 53ms/step - loss: 0.0012 - mean_absolute_percentage_error: 3.6551 - val_loss: 0.0029 - val_mean_absolute_percentage_error: 5.5382\n",
      "Epoch 162/200\n",
      "286/286 [==============================] - 16s 54ms/step - loss: 0.0012 - mean_absolute_percentage_error: 3.6636 - val_loss: 0.0028 - val_mean_absolute_percentage_error: 5.4510\n",
      "Epoch 163/200\n",
      "286/286 [==============================] - 15s 54ms/step - loss: 0.0012 - mean_absolute_percentage_error: 3.6518 - val_loss: 0.0029 - val_mean_absolute_percentage_error: 5.5263\n",
      "Epoch 164/200\n",
      "286/286 [==============================] - 15s 53ms/step - loss: 0.0012 - mean_absolute_percentage_error: 3.6449 - val_loss: 0.0028 - val_mean_absolute_percentage_error: 5.4347\n",
      "Epoch 165/200\n",
      "286/286 [==============================] - 15s 53ms/step - loss: 0.0012 - mean_absolute_percentage_error: 3.6422 - val_loss: 0.0027 - val_mean_absolute_percentage_error: 5.3380\n",
      "Epoch 166/200\n",
      "286/286 [==============================] - 16s 55ms/step - loss: 0.0012 - mean_absolute_percentage_error: 3.6416 - val_loss: 0.0028 - val_mean_absolute_percentage_error: 5.5091\n",
      "Epoch 167/200\n",
      "286/286 [==============================] - 15s 54ms/step - loss: 0.0012 - mean_absolute_percentage_error: 3.6394 - val_loss: 0.0028 - val_mean_absolute_percentage_error: 5.4662\n",
      "Epoch 168/200\n",
      "286/286 [==============================] - 15s 54ms/step - loss: 0.0012 - mean_absolute_percentage_error: 3.6322 - val_loss: 0.0028 - val_mean_absolute_percentage_error: 5.4735\n",
      "Epoch 169/200\n",
      "286/286 [==============================] - 15s 54ms/step - loss: 0.0012 - mean_absolute_percentage_error: 3.6401 - val_loss: 0.0027 - val_mean_absolute_percentage_error: 5.3748\n",
      "Epoch 170/200\n",
      "286/286 [==============================] - 15s 53ms/step - loss: 0.0012 - mean_absolute_percentage_error: 3.6398 - val_loss: 0.0028 - val_mean_absolute_percentage_error: 5.4910\n",
      "Epoch 171/200\n",
      "286/286 [==============================] - 15s 54ms/step - loss: 0.0012 - mean_absolute_percentage_error: 3.6353 - val_loss: 0.0028 - val_mean_absolute_percentage_error: 5.4790\n",
      "Epoch 172/200\n",
      "286/286 [==============================] - 16s 55ms/step - loss: 0.0011 - mean_absolute_percentage_error: 3.6243 - val_loss: 0.0028 - val_mean_absolute_percentage_error: 5.4797\n",
      "Epoch 173/200\n",
      "286/286 [==============================] - 15s 53ms/step - loss: 0.0011 - mean_absolute_percentage_error: 3.6287 - val_loss: 0.0028 - val_mean_absolute_percentage_error: 5.4500\n",
      "Epoch 174/200\n",
      "286/286 [==============================] - 15s 54ms/step - loss: 0.0011 - mean_absolute_percentage_error: 3.6287 - val_loss: 0.0028 - val_mean_absolute_percentage_error: 5.4574\n",
      "Epoch 175/200\n",
      "286/286 [==============================] - 15s 53ms/step - loss: 0.0011 - mean_absolute_percentage_error: 3.6244 - val_loss: 0.0028 - val_mean_absolute_percentage_error: 5.4966\n",
      "Epoch 176/200\n",
      "286/286 [==============================] - 15s 54ms/step - loss: 0.0011 - mean_absolute_percentage_error: 3.6229 - val_loss: 0.0027 - val_mean_absolute_percentage_error: 5.4135\n",
      "Epoch 177/200\n",
      "286/286 [==============================] - 17s 59ms/step - loss: 0.0011 - mean_absolute_percentage_error: 3.6200 - val_loss: 0.0029 - val_mean_absolute_percentage_error: 5.5845\n",
      "Epoch 178/200\n",
      "286/286 [==============================] - 15s 54ms/step - loss: 0.0011 - mean_absolute_percentage_error: 3.6148 - val_loss: 0.0028 - val_mean_absolute_percentage_error: 5.4491\n",
      "Epoch 179/200\n",
      "286/286 [==============================] - 15s 52ms/step - loss: 0.0011 - mean_absolute_percentage_error: 3.6139 - val_loss: 0.0028 - val_mean_absolute_percentage_error: 5.4923\n"
     ]
    },
    {
     "name": "stdout",
     "output_type": "stream",
     "text": [
      "Epoch 180/200\n",
      "286/286 [==============================] - 15s 53ms/step - loss: 0.0011 - mean_absolute_percentage_error: 3.6108 - val_loss: 0.0028 - val_mean_absolute_percentage_error: 5.5179\n",
      "Epoch 181/200\n",
      "286/286 [==============================] - 15s 53ms/step - loss: 0.0011 - mean_absolute_percentage_error: 3.6051 - val_loss: 0.0028 - val_mean_absolute_percentage_error: 5.4841\n",
      "Epoch 182/200\n",
      "286/286 [==============================] - 15s 53ms/step - loss: 0.0011 - mean_absolute_percentage_error: 3.6121 - val_loss: 0.0028 - val_mean_absolute_percentage_error: 5.4714\n",
      "Epoch 183/200\n",
      "286/286 [==============================] - 15s 53ms/step - loss: 0.0011 - mean_absolute_percentage_error: 3.6086 - val_loss: 0.0028 - val_mean_absolute_percentage_error: 5.5077\n",
      "Epoch 184/200\n",
      "286/286 [==============================] - 15s 53ms/step - loss: 0.0011 - mean_absolute_percentage_error: 3.6069 - val_loss: 0.0027 - val_mean_absolute_percentage_error: 5.4038\n",
      "Epoch 185/200\n",
      "286/286 [==============================] - 16s 54ms/step - loss: 0.0011 - mean_absolute_percentage_error: 3.6001 - val_loss: 0.0027 - val_mean_absolute_percentage_error: 5.4205\n",
      "Epoch 186/200\n",
      "286/286 [==============================] - 16s 54ms/step - loss: 0.0011 - mean_absolute_percentage_error: 3.5982 - val_loss: 0.0028 - val_mean_absolute_percentage_error: 5.4973\n",
      "Epoch 187/200\n",
      "286/286 [==============================] - 16s 55ms/step - loss: 0.0011 - mean_absolute_percentage_error: 3.5999 - val_loss: 0.0028 - val_mean_absolute_percentage_error: 5.5112\n",
      "Epoch 188/200\n",
      "286/286 [==============================] - 16s 55ms/step - loss: 0.0011 - mean_absolute_percentage_error: 3.6026 - val_loss: 0.0028 - val_mean_absolute_percentage_error: 5.4811\n",
      "Epoch 189/200\n",
      "286/286 [==============================] - 15s 52ms/step - loss: 0.0011 - mean_absolute_percentage_error: 3.5944 - val_loss: 0.0028 - val_mean_absolute_percentage_error: 5.4775\n",
      "Epoch 190/200\n",
      "286/286 [==============================] - 15s 52ms/step - loss: 0.0011 - mean_absolute_percentage_error: 3.5821 - val_loss: 0.0027 - val_mean_absolute_percentage_error: 5.4213\n",
      "Epoch 191/200\n",
      "286/286 [==============================] - 15s 52ms/step - loss: 0.0011 - mean_absolute_percentage_error: 3.5882 - val_loss: 0.0027 - val_mean_absolute_percentage_error: 5.4701\n",
      "Epoch 192/200\n",
      "286/286 [==============================] - 15s 52ms/step - loss: 0.0011 - mean_absolute_percentage_error: 3.5904 - val_loss: 0.0028 - val_mean_absolute_percentage_error: 5.5405\n",
      "Epoch 193/200\n",
      "286/286 [==============================] - 15s 52ms/step - loss: 0.0011 - mean_absolute_percentage_error: 3.5806 - val_loss: 0.0028 - val_mean_absolute_percentage_error: 5.4279\n",
      "Epoch 194/200\n",
      "286/286 [==============================] - 15s 53ms/step - loss: 0.0011 - mean_absolute_percentage_error: 3.5830 - val_loss: 0.0027 - val_mean_absolute_percentage_error: 5.3951\n",
      "Epoch 195/200\n",
      "286/286 [==============================] - 15s 53ms/step - loss: 0.0011 - mean_absolute_percentage_error: 3.5804 - val_loss: 0.0027 - val_mean_absolute_percentage_error: 5.4394\n",
      "Epoch 196/200\n",
      "286/286 [==============================] - 15s 52ms/step - loss: 0.0011 - mean_absolute_percentage_error: 3.5801 - val_loss: 0.0030 - val_mean_absolute_percentage_error: 5.6381\n",
      "Epoch 197/200\n",
      "286/286 [==============================] - 15s 52ms/step - loss: 0.0011 - mean_absolute_percentage_error: 3.5810 - val_loss: 0.0028 - val_mean_absolute_percentage_error: 5.4687\n",
      "Epoch 198/200\n",
      "286/286 [==============================] - 15s 53ms/step - loss: 0.0011 - mean_absolute_percentage_error: 3.5743 - val_loss: 0.0027 - val_mean_absolute_percentage_error: 5.4221\n",
      "Epoch 199/200\n",
      "286/286 [==============================] - 16s 55ms/step - loss: 0.0011 - mean_absolute_percentage_error: 3.5760 - val_loss: 0.0027 - val_mean_absolute_percentage_error: 5.3981\n",
      "Epoch 200/200\n",
      "286/286 [==============================] - 16s 56ms/step - loss: 0.0011 - mean_absolute_percentage_error: 3.5717 - val_loss: 0.0029 - val_mean_absolute_percentage_error: 5.5250\n"
     ]
    }
   ],
   "source": [
    "nizama_cp= ModelCheckpoint('nizama_temp/', save_best_only=True)\n",
    "nizama_temp.compile(\n",
    "    loss=MeanSquaredError(),\n",
    "    optimizer=Adam(),\n",
    "    metrics=[MeanAbsolutePercentageError()]\n",
    ")\n",
    "epochs=200\n",
    "history=nizama_temp.fit(X_train,y_train, validation_data=(X_val,y_val), epochs=epochs, callbacks=[nizama_cp])"
   ]
  },
  {
   "cell_type": "code",
   "execution_count": 34,
   "id": "a3329254",
   "metadata": {
    "scrolled": true
   },
   "outputs": [
    {
     "data": {
      "image/png": "[encoded data removed]",
      "text/plain": [
       "<Figure size 800x800 with 2 Axes>"
      ]
     },
     "metadata": {},
     "output_type": "display_data"
    }
   ],
   "source": [
    "acc = history.history['mean_absolute_percentage_error']\n",
    "val_acc = history.history['val_mean_absolute_percentage_error']\n",
    "\n",
    "loss = history.history['loss']\n",
    "val_loss = history.history['val_loss']\n",
    "\n",
    "epochs_range = range(epochs)\n",
    "\n",
    "plt.figure(figsize=(8, 8))\n",
    "plt.subplot(1, 2, 1)\n",
    "plt.plot(epochs_range, acc, label='Training MAPE')\n",
    "plt.plot(epochs_range, val_acc, label='Validation MAPE')\n",
    "plt.legend(loc='upper right')\n",
    "plt.title('Training and Validation MAPE')\n",
    "\n",
    "plt.subplot(1, 2, 2)\n",
    "plt.plot(epochs_range, loss, label='Training Loss')\n",
    "plt.plot(epochs_range, val_loss, label='Validation Loss')\n",
    "plt.legend(loc='upper right')\n",
    "plt.title('Training and Validation Loss')\n",
    "plt.show()"
   ]
  },
  {
   "cell_type": "code",
   "execution_count": 61,
   "id": "bcc28f6d",
   "metadata": {},
   "outputs": [],
   "source": [
    "nizama_temp.save(\"nizamabad_heat_nasa.h5\", save_format='h5') # Saving model in h5 format to use it later"
   ]
  },
  {
   "cell_type": "code",
   "execution_count": 36,
   "id": "98826dc9",
   "metadata": {},
   "outputs": [
    {
     "name": "stdout",
     "output_type": "stream",
     "text": [
      "12/12 [==============================] - 0s 28ms/step - loss: 0.0028 - mean_absolute_percentage_error: 5.5180\n"
     ]
    }
   ],
   "source": [
    "res=nizama_temp.evaluate(X_test,y_test)"
   ]
  },
  {
   "cell_type": "code",
   "execution_count": 40,
   "id": "3989f906",
   "metadata": {},
   "outputs": [
    {
     "data": {
      "text/html": [
       "<div>\n",
       "<style scoped>\n",
       "    .dataframe tbody tr th:only-of-type {\n",
       "        vertical-align: middle;\n",
       "    }\n",
       "\n",
       "    .dataframe tbody tr th {\n",
       "        vertical-align: top;\n",
       "    }\n",
       "\n",
       "    .dataframe thead th {\n",
       "        text-align: right;\n",
       "    }\n",
       "</style>\n",
       "<table border=\"1\" class=\"dataframe\">\n",
       "  <thead>\n",
       "    <tr style=\"text-align: right;\">\n",
       "      <th></th>\n",
       "      <th>temp_max</th>\n",
       "      <th>rainfall</th>\n",
       "      <th>Humidity</th>\n",
       "    </tr>\n",
       "    <tr>\n",
       "      <th>Date</th>\n",
       "      <th></th>\n",
       "      <th></th>\n",
       "      <th></th>\n",
       "    </tr>\n",
       "  </thead>\n",
       "  <tbody>\n",
       "    <tr>\n",
       "      <th>2021-01-01</th>\n",
       "      <td>0.613997</td>\n",
       "      <td>0.000000</td>\n",
       "      <td>0.548858</td>\n",
       "    </tr>\n",
       "    <tr>\n",
       "      <th>2021-01-02</th>\n",
       "      <td>0.605738</td>\n",
       "      <td>0.000000</td>\n",
       "      <td>0.563928</td>\n",
       "    </tr>\n",
       "    <tr>\n",
       "      <th>2021-01-03</th>\n",
       "      <td>0.630732</td>\n",
       "      <td>0.000000</td>\n",
       "      <td>0.495382</td>\n",
       "    </tr>\n",
       "    <tr>\n",
       "      <th>2021-01-04</th>\n",
       "      <td>0.633341</td>\n",
       "      <td>0.000000</td>\n",
       "      <td>0.483714</td>\n",
       "    </tr>\n",
       "    <tr>\n",
       "      <th>2021-01-05</th>\n",
       "      <td>0.643990</td>\n",
       "      <td>0.000000</td>\n",
       "      <td>0.551774</td>\n",
       "    </tr>\n",
       "    <tr>\n",
       "      <th>...</th>\n",
       "      <td>...</td>\n",
       "      <td>...</td>\n",
       "      <td>...</td>\n",
       "    </tr>\n",
       "    <tr>\n",
       "      <th>2021-12-27</th>\n",
       "      <td>0.639209</td>\n",
       "      <td>0.000000</td>\n",
       "      <td>0.569762</td>\n",
       "    </tr>\n",
       "    <tr>\n",
       "      <th>2021-12-28</th>\n",
       "      <td>0.618126</td>\n",
       "      <td>0.000118</td>\n",
       "      <td>0.593583</td>\n",
       "    </tr>\n",
       "    <tr>\n",
       "      <th>2021-12-29</th>\n",
       "      <td>0.602043</td>\n",
       "      <td>0.001420</td>\n",
       "      <td>0.569762</td>\n",
       "    </tr>\n",
       "    <tr>\n",
       "      <th>2021-12-30</th>\n",
       "      <td>0.584221</td>\n",
       "      <td>0.000789</td>\n",
       "      <td>0.557608</td>\n",
       "    </tr>\n",
       "    <tr>\n",
       "      <th>2021-12-31</th>\n",
       "      <td>0.615736</td>\n",
       "      <td>0.000000</td>\n",
       "      <td>0.537190</td>\n",
       "    </tr>\n",
       "  </tbody>\n",
       "</table>\n",
       "<p>365 rows × 3 columns</p>\n",
       "</div>"
      ],
      "text/plain": [
       "            temp_max  rainfall  Humidity\n",
       "Date                                    \n",
       "2021-01-01  0.613997  0.000000  0.548858\n",
       "2021-01-02  0.605738  0.000000  0.563928\n",
       "2021-01-03  0.630732  0.000000  0.495382\n",
       "2021-01-04  0.633341  0.000000  0.483714\n",
       "2021-01-05  0.643990  0.000000  0.551774\n",
       "...              ...       ...       ...\n",
       "2021-12-27  0.639209  0.000000  0.569762\n",
       "2021-12-28  0.618126  0.000118  0.593583\n",
       "2021-12-29  0.602043  0.001420  0.569762\n",
       "2021-12-30  0.584221  0.000789  0.557608\n",
       "2021-12-31  0.615736  0.000000  0.537190\n",
       "\n",
       "[365 rows x 3 columns]"
      ]
     },
     "metadata": {},
     "output_type": "display_data"
    },
    {
     "data": {
      "text/plain": [
       "array([[[0.61399696, 0.        , 0.54885756],\n",
       "        [0.60573788, 0.        , 0.56392805],\n",
       "        [0.63073245, 0.        , 0.49538162],\n",
       "        ...,\n",
       "        [0.60204303, 0.00142017, 0.56976179],\n",
       "        [0.58422082, 0.00078899, 0.55760817],\n",
       "        [0.61573571, 0.        , 0.53719008]]])"
      ]
     },
     "execution_count": 40,
     "metadata": {},
     "output_type": "execute_result"
    }
   ],
   "source": [
    "df=df.drop(['pressure'], axis=1)\n",
    "test_x=df[10958:11323]\n",
    "display(test_x)\n",
    "test_x=test_x.to_numpy()\n",
    "test_x=test_x.reshape(1,365,3)\n",
    "test_x"
   ]
  },
  {
   "cell_type": "code",
   "execution_count": 41,
   "id": "a3327995",
   "metadata": {},
   "outputs": [
    {
     "data": {
      "text/plain": [
       "array([0.6196479 , 0.62312541, 0.62942839, 0.63464464, 0.63051511,\n",
       "       0.64485981, 0.64833732, 0.60617257, 0.63420995, 0.61573571,\n",
       "       0.62377744, 0.60573788, 0.58009128, 0.61877853, 0.58704629,\n",
       "       0.60291241, 0.61051945, 0.63594871, 0.62116931, 0.65768311,\n",
       "       0.668985  , 0.69006738, 0.62595088, 0.58682895, 0.57878722,\n",
       "       0.59182786, 0.59074114, 0.59161052, 0.6107368 , 0.66659422,\n",
       "       0.69897848, 0.70528146, 0.72288633, 0.72658118, 0.64029559,\n",
       "       0.66789828, 0.68093893, 0.70267333, 0.70680287, 0.70419474,\n",
       "       0.66311671, 0.66159531, 0.68658987, 0.69723973, 0.70658552,\n",
       "       0.71267116, 0.6709411 , 0.69593567, 0.69832645, 0.73679635,\n",
       "       0.7641817 , 0.7641817 , 0.78548142, 0.7824386 , 0.78417735,\n",
       "       0.78156922, 0.76309498, 0.76700717, 0.77048468, 0.78352532,\n",
       "       0.78309063, 0.78265594, 0.77809172, 0.7843947 , 0.77939578,\n",
       "       0.77439687, 0.78591611, 0.79982612, 0.77809172, 0.77113671,\n",
       "       0.77874375, 0.80286894, 0.82482069, 0.84481634, 0.87741795,\n",
       "       0.8885025 , 0.88350359, 0.86003043, 0.86894153, 0.87111498,\n",
       "       0.8628559 , 0.8776353 , 0.87633123, 0.86785481, 0.8904586 ,\n",
       "       0.89545751, 0.90154314, 0.912193  , 0.91327972, 0.91371441,\n",
       "       0.90719409, 0.89697892, 0.90632471, 0.90545534, 0.90197783,\n",
       "       0.91154097, 0.91023691, 0.88567703, 0.88611171, 0.88176483,\n",
       "       0.89828298, 0.91088894, 0.9048033 , 0.89458813, 0.8337318 ,\n",
       "       0.88915453, 0.90589002, 0.90415127, 0.92523364, 0.9378396 ,\n",
       "       0.932406  , 0.74070854, 0.79634862, 0.83307977, 0.92871115,\n",
       "       0.90241252, 0.9358835 , 0.94109976, 0.95348837, 0.95196696,\n",
       "       0.94957618, 0.94175179, 0.93936101, 0.87285373, 0.90893284,\n",
       "       0.93262334, 0.93523147, 0.92479896, 0.93175397, 0.92197348,\n",
       "       0.87415779, 0.84068681, 0.90762878, 0.94740274, 0.95109759,\n",
       "       0.88002608, 0.81373614, 0.79482721, 0.78113454, 0.87154966,\n",
       "       0.8593784 , 0.87893936, 0.87806998, 0.88785047, 0.87285373,\n",
       "       0.88437296, 0.88154749, 0.88589437, 0.89176266, 0.90610737,\n",
       "       0.87589654, 0.89371876, 0.91914801, 0.9013258 , 0.90589002,\n",
       "       0.89676157, 0.80591176, 0.91784395, 0.85437948, 0.85046729,\n",
       "       0.71440991, 0.71940882, 0.69093675, 0.69810911, 0.69419691,\n",
       "       0.69832645, 0.70419474, 0.71549663, 0.69810911, 0.70419474,\n",
       "       0.64681591, 0.64703325, 0.65768311, 0.67746142, 0.67376657,\n",
       "       0.61812649, 0.64898935, 0.67920017, 0.64073028, 0.60312975,\n",
       "       0.64746794, 0.69028472, 0.668985  , 0.62203869, 0.60595523,\n",
       "       0.62225603, 0.62812432, 0.58900239, 0.56400782, 0.56313845,\n",
       "       0.56379048, 0.57052815, 0.55357531, 0.57009346, 0.57161487,\n",
       "       0.6196479 , 0.60291241, 0.58617692, 0.57009346, 0.62377744,\n",
       "       0.63833949, 0.56531189, 0.55292328, 0.55683547, 0.59182786,\n",
       "       0.62051728, 0.56009563, 0.60182569, 0.62442947, 0.6289937 ,\n",
       "       0.59878287, 0.60856336, 0.62573354, 0.60986742, 0.6344273 ,\n",
       "       0.61660509, 0.61943056, 0.58074332, 0.57291893, 0.56878939,\n",
       "       0.58248207, 0.5629211 , 0.60725929, 0.61812649, 0.62203869,\n",
       "       0.60269507, 0.55335797, 0.60421647, 0.641817  , 0.61138883,\n",
       "       0.5905238 , 0.6196479 , 0.61638774, 0.6250815 , 0.65355358,\n",
       "       0.60486851, 0.60378179, 0.63464464, 0.62334275, 0.58835036,\n",
       "       0.64768529, 0.66050859, 0.62921104, 0.65290154, 0.64616388,\n",
       "       0.68419909, 0.61790915, 0.63094979, 0.63920887, 0.6324712 ,\n",
       "       0.61573571, 0.63594871, 0.59639209, 0.574223  , 0.61943056,\n",
       "       0.61334493, 0.60704195, 0.60943273, 0.60465116, 0.61443165,\n",
       "       0.60226038, 0.57922191, 0.58835036, 0.58769833, 0.59334927,\n",
       "       0.5885677 , 0.61573571, 0.63747012, 0.63768746, 0.62116931,\n",
       "       0.61812649, 0.60704195, 0.6250815 , 0.63203651, 0.621604  ,\n",
       "       0.62442947, 0.59487068, 0.61660509, 0.59421865, 0.62551619,\n",
       "       0.62334275, 0.62312541, 0.62138666, 0.62073462, 0.64073028,\n",
       "       0.6324712 , 0.58921973, 0.58291676, 0.62660291, 0.6344273 ,\n",
       "       0.63203651, 0.61269289, 0.58248207, 0.58900239, 0.5613997 ,\n",
       "       0.56509454, 0.56357314, 0.58791567, 0.581178  , 0.59530537,\n",
       "       0.58139535, 0.56574658, 0.56379048, 0.55531406, 0.5777005 ,\n",
       "       0.56770267, 0.58965442, 0.60269507, 0.60552054, 0.59487068,\n",
       "       0.59726146, 0.59574006, 0.57596175, 0.56726799, 0.56379048,\n",
       "       0.56922408, 0.56422517, 0.5885677 , 0.57052815, 0.55553141,\n",
       "       0.55401   , 0.60856336, 0.60856336, 0.58682895, 0.56987611,\n",
       "       0.5722669 , 0.57509237, 0.58204738, 0.58204738, 0.55596609,\n",
       "       0.56161704, 0.55922626, 0.56053032, 0.55857422, 0.59030646,\n",
       "       0.60812867, 0.60465116, 0.60617257, 0.60052163, 0.58552489,\n",
       "       0.58161269, 0.54792436, 0.51684416, 0.49467507, 0.58835036,\n",
       "       0.59856553, 0.59900022, 0.63486199, 0.63594871, 0.64768529,\n",
       "       0.64225168, 0.60725929, 0.60160835, 0.62182134, 0.61943056,\n",
       "       0.62877635, 0.64442512, 0.63160183, 0.62986307, 0.6270376 ,\n",
       "       0.63681808, 0.64572919, 0.63138448, 0.6452945 , 0.6398609 ])"
      ]
     },
     "execution_count": 41,
     "metadata": {},
     "output_type": "execute_result"
    }
   ],
   "source": [
    "test_y=df['temp_max'][11323:]\n",
    "test_y=test_y.to_numpy()\n",
    "test_y"
   ]
  },
  {
   "cell_type": "code",
   "execution_count": 46,
   "id": "4db770f3",
   "metadata": {},
   "outputs": [
    {
     "name": "stdout",
     "output_type": "stream",
     "text": [
      "1/1 [==============================] - 0s 27ms/step\n"
     ]
    }
   ],
   "source": [
    "predictions2=nizama_temp.predict(test_x)"
   ]
  },
  {
   "cell_type": "code",
   "execution_count": null,
   "id": "5da013fe",
   "metadata": {},
   "outputs": [],
   "source": [
    "predictions2"
   ]
  },
  {
   "cell_type": "code",
   "execution_count": 47,
   "id": "384506fd",
   "metadata": {},
   "outputs": [],
   "source": [
    "predictions2= predictions2.reshape(365)\n",
    "predictions2= pd.DataFrame(data=predictions2, index=df[11323:].index, columns=['temp_max'])"
   ]
  },
  {
   "cell_type": "code",
   "execution_count": 48,
   "id": "19de06b8",
   "metadata": {},
   "outputs": [
    {
     "data": {
      "text/html": [
       "<div>\n",
       "<style scoped>\n",
       "    .dataframe tbody tr th:only-of-type {\n",
       "        vertical-align: middle;\n",
       "    }\n",
       "\n",
       "    .dataframe tbody tr th {\n",
       "        vertical-align: top;\n",
       "    }\n",
       "\n",
       "    .dataframe thead th {\n",
       "        text-align: right;\n",
       "    }\n",
       "</style>\n",
       "<table border=\"1\" class=\"dataframe\">\n",
       "  <thead>\n",
       "    <tr style=\"text-align: right;\">\n",
       "      <th></th>\n",
       "      <th>temp_max</th>\n",
       "    </tr>\n",
       "    <tr>\n",
       "      <th>Date</th>\n",
       "      <th></th>\n",
       "    </tr>\n",
       "  </thead>\n",
       "  <tbody>\n",
       "    <tr>\n",
       "      <th>2022-01-01</th>\n",
       "      <td>0.634954</td>\n",
       "    </tr>\n",
       "    <tr>\n",
       "      <th>2022-01-02</th>\n",
       "      <td>0.636564</td>\n",
       "    </tr>\n",
       "    <tr>\n",
       "      <th>2022-01-03</th>\n",
       "      <td>0.634707</td>\n",
       "    </tr>\n",
       "    <tr>\n",
       "      <th>2022-01-04</th>\n",
       "      <td>0.631763</td>\n",
       "    </tr>\n",
       "    <tr>\n",
       "      <th>2022-01-05</th>\n",
       "      <td>0.629902</td>\n",
       "    </tr>\n",
       "    <tr>\n",
       "      <th>...</th>\n",
       "      <td>...</td>\n",
       "    </tr>\n",
       "    <tr>\n",
       "      <th>2022-12-27</th>\n",
       "      <td>0.677901</td>\n",
       "    </tr>\n",
       "    <tr>\n",
       "      <th>2022-12-28</th>\n",
       "      <td>0.684424</td>\n",
       "    </tr>\n",
       "    <tr>\n",
       "      <th>2022-12-29</th>\n",
       "      <td>0.686598</td>\n",
       "    </tr>\n",
       "    <tr>\n",
       "      <th>2022-12-30</th>\n",
       "      <td>0.678082</td>\n",
       "    </tr>\n",
       "    <tr>\n",
       "      <th>2022-12-31</th>\n",
       "      <td>0.677632</td>\n",
       "    </tr>\n",
       "  </tbody>\n",
       "</table>\n",
       "<p>365 rows × 1 columns</p>\n",
       "</div>"
      ],
      "text/plain": [
       "            temp_max\n",
       "Date                \n",
       "2022-01-01  0.634954\n",
       "2022-01-02  0.636564\n",
       "2022-01-03  0.634707\n",
       "2022-01-04  0.631763\n",
       "2022-01-05  0.629902\n",
       "...              ...\n",
       "2022-12-27  0.677901\n",
       "2022-12-28  0.684424\n",
       "2022-12-29  0.686598\n",
       "2022-12-30  0.678082\n",
       "2022-12-31  0.677632\n",
       "\n",
       "[365 rows x 1 columns]"
      ]
     },
     "execution_count": 48,
     "metadata": {},
     "output_type": "execute_result"
    }
   ],
   "source": [
    "predictions2"
   ]
  },
  {
   "cell_type": "code",
   "execution_count": 49,
   "id": "f48f7d64",
   "metadata": {},
   "outputs": [
    {
     "data": {
      "text/plain": [
       "(365, 1)"
      ]
     },
     "execution_count": 49,
     "metadata": {},
     "output_type": "execute_result"
    }
   ],
   "source": [
    "predictions2.shape"
   ]
  },
  {
   "cell_type": "code",
   "execution_count": 50,
   "id": "a2bf73ac",
   "metadata": {},
   "outputs": [],
   "source": [
    "expected=pd.DataFrame(data=test_y, index=df[11323:].index, columns=[\"temp_max_actual\"])"
   ]
  },
  {
   "cell_type": "code",
   "execution_count": 51,
   "id": "54b93b46",
   "metadata": {},
   "outputs": [],
   "source": [
    "predictions2=predictions2*50\n",
    "expected=expected*50"
   ]
  },
  {
   "cell_type": "code",
   "execution_count": 52,
   "id": "37a3c49f",
   "metadata": {},
   "outputs": [],
   "source": [
    "from sklearn.metrics import mean_squared_error as mse\n",
    "from sklearn.metrics import mean_absolute_error as mae\n",
    "from sklearn.metrics import mean_absolute_percentage_error as mape"
   ]
  },
  {
   "cell_type": "code",
   "execution_count": 54,
   "id": "e7e1b186",
   "metadata": {},
   "outputs": [
    {
     "name": "stdout",
     "output_type": "stream",
     "text": [
      "RMSE:  3.0143087097239523\n",
      "MAE 2.5139414088010437\n",
      "MAPE: 7.790636894417611%\n"
     ]
    }
   ],
   "source": [
    "rmse= mse(expected, predictions2, squared=False)\n",
    "print(\"RMSE: \",rmse)\n",
    "mae1= mae(expected, predictions2)\n",
    "print(\"MAE\", mae1)\n",
    "mape1= mape(expected, predictions2)\n",
    "print(\"MAPE: {}%\".format(mape1*100))"
   ]
  },
  {
   "cell_type": "code",
   "execution_count": 55,
   "id": "7c00ee19",
   "metadata": {},
   "outputs": [],
   "source": [
    "prediction_low=predictions2-mae1\n",
    "prediction_upper=predictions2+mae1"
   ]
  },
  {
   "cell_type": "code",
   "execution_count": 56,
   "id": "20ff3343",
   "metadata": {},
   "outputs": [],
   "source": [
    "prediction_upper.columns=['upper bound temp']\n",
    "prediction_low.columns=['lower bound temp']\n",
    "predictions2.columns=['predicted temp']"
   ]
  },
  {
   "cell_type": "code",
   "execution_count": 57,
   "id": "3cffed2d",
   "metadata": {
    "scrolled": false
   },
   "outputs": [
    {
     "data": {
      "image/png": "[encoded data removed]",
      "text/plain": [
       "<Figure size 1000x600 with 1 Axes>"
      ]
     },
     "metadata": {},
     "output_type": "display_data"
    }
   ],
   "source": [
    "# Plotting to see how our actual data differs from predicted values\n",
    "ax = expected.plot(\n",
    "    figsize=(10, 6),\n",
    "    color=\"blue\",\n",
    "    title=\"Temp forecasting using LSTM\",\n",
    ")\n",
    "ax.set_ylabel(\"Temp_max\")\n",
    "ax.set_xlabel(\"Year\")\n",
    "\n",
    "predictions2.plot(ax=ax, color=\"yellow\")     \n",
    "prediction_low.plot(ax=ax, color=\"green\")\n",
    "prediction_upper.plot(ax=ax, color=\"red\")\n",
    "plt.show()"
   ]
  },
  {
   "cell_type": "code",
   "execution_count": 59,
   "id": "abc1ac63",
   "metadata": {},
   "outputs": [],
   "source": [
    "from tensorflow import keras"
   ]
  },
  {
   "cell_type": "code",
   "execution_count": 62,
   "id": "3946ad61",
   "metadata": {},
   "outputs": [],
   "source": [
    "model = keras.models.load_model(\"nizamabad_heat_nasa.h5\") # loading our previously saved model"
   ]
  },
  {
   "cell_type": "code",
   "execution_count": 64,
   "id": "635e773e",
   "metadata": {},
   "outputs": [
    {
     "data": {
      "text/html": [
       "<div>\n",
       "<style scoped>\n",
       "    .dataframe tbody tr th:only-of-type {\n",
       "        vertical-align: middle;\n",
       "    }\n",
       "\n",
       "    .dataframe tbody tr th {\n",
       "        vertical-align: top;\n",
       "    }\n",
       "\n",
       "    .dataframe thead th {\n",
       "        text-align: right;\n",
       "    }\n",
       "</style>\n",
       "<table border=\"1\" class=\"dataframe\">\n",
       "  <thead>\n",
       "    <tr style=\"text-align: right;\">\n",
       "      <th></th>\n",
       "      <th>temp_max</th>\n",
       "      <th>rainfall</th>\n",
       "      <th>Humidity</th>\n",
       "    </tr>\n",
       "    <tr>\n",
       "      <th>Date</th>\n",
       "      <th></th>\n",
       "      <th></th>\n",
       "      <th></th>\n",
       "    </tr>\n",
       "  </thead>\n",
       "  <tbody>\n",
       "    <tr>\n",
       "      <th>2022-01-01</th>\n",
       "      <td>0.619648</td>\n",
       "      <td>0.000000</td>\n",
       "      <td>0.531356</td>\n",
       "    </tr>\n",
       "    <tr>\n",
       "      <th>2022-01-02</th>\n",
       "      <td>0.623125</td>\n",
       "      <td>0.000000</td>\n",
       "      <td>0.507535</td>\n",
       "    </tr>\n",
       "    <tr>\n",
       "      <th>2022-01-03</th>\n",
       "      <td>0.629428</td>\n",
       "      <td>0.000000</td>\n",
       "      <td>0.421488</td>\n",
       "    </tr>\n",
       "    <tr>\n",
       "      <th>2022-01-04</th>\n",
       "      <td>0.634645</td>\n",
       "      <td>0.000000</td>\n",
       "      <td>0.415168</td>\n",
       "    </tr>\n",
       "    <tr>\n",
       "      <th>2022-01-05</th>\n",
       "      <td>0.630515</td>\n",
       "      <td>0.000000</td>\n",
       "      <td>0.462810</td>\n",
       "    </tr>\n",
       "    <tr>\n",
       "      <th>...</th>\n",
       "      <td>...</td>\n",
       "      <td>...</td>\n",
       "      <td>...</td>\n",
       "    </tr>\n",
       "    <tr>\n",
       "      <th>2022-12-27</th>\n",
       "      <td>0.636818</td>\n",
       "      <td>0.010375</td>\n",
       "      <td>0.750608</td>\n",
       "    </tr>\n",
       "    <tr>\n",
       "      <th>2022-12-28</th>\n",
       "      <td>0.645729</td>\n",
       "      <td>0.006864</td>\n",
       "      <td>0.700049</td>\n",
       "    </tr>\n",
       "    <tr>\n",
       "      <th>2022-12-29</th>\n",
       "      <td>0.631384</td>\n",
       "      <td>0.000000</td>\n",
       "      <td>0.563928</td>\n",
       "    </tr>\n",
       "    <tr>\n",
       "      <th>2022-12-30</th>\n",
       "      <td>0.645295</td>\n",
       "      <td>0.000000</td>\n",
       "      <td>0.543024</td>\n",
       "    </tr>\n",
       "    <tr>\n",
       "      <th>2022-12-31</th>\n",
       "      <td>0.639861</td>\n",
       "      <td>0.000000</td>\n",
       "      <td>0.513369</td>\n",
       "    </tr>\n",
       "  </tbody>\n",
       "</table>\n",
       "<p>365 rows × 3 columns</p>\n",
       "</div>"
      ],
      "text/plain": [
       "            temp_max  rainfall  Humidity\n",
       "Date                                    \n",
       "2022-01-01  0.619648  0.000000  0.531356\n",
       "2022-01-02  0.623125  0.000000  0.507535\n",
       "2022-01-03  0.629428  0.000000  0.421488\n",
       "2022-01-04  0.634645  0.000000  0.415168\n",
       "2022-01-05  0.630515  0.000000  0.462810\n",
       "...              ...       ...       ...\n",
       "2022-12-27  0.636818  0.010375  0.750608\n",
       "2022-12-28  0.645729  0.006864  0.700049\n",
       "2022-12-29  0.631384  0.000000  0.563928\n",
       "2022-12-30  0.645295  0.000000  0.543024\n",
       "2022-12-31  0.639861  0.000000  0.513369\n",
       "\n",
       "[365 rows x 3 columns]"
      ]
     },
     "metadata": {},
     "output_type": "display_data"
    },
    {
     "data": {
      "image/png": "[encoded data removed]",
      "text/plain": [
       "<Figure size 640x480 with 1 Axes>"
      ]
     },
     "metadata": {},
     "output_type": "display_data"
    }
   ],
   "source": [
    "test_x1=df[11323:]                                      #data of year 2022 to predict temp data for 2023\n",
    "(test_x1).plot()\n",
    "display(test_x1)\n",
    "test_x1=test_x1.to_numpy()\n",
    "test_x1=test_x1.reshape(1,365,3)\n"
   ]
  },
  {
   "cell_type": "code",
   "execution_count": 65,
   "id": "71b16cd7",
   "metadata": {},
   "outputs": [
    {
     "name": "stdout",
     "output_type": "stream",
     "text": [
      "1/1 [==============================] - 0s 243ms/step\n"
     ]
    }
   ],
   "source": [
    "pred1= model.predict(test_x1)                          #prediction values for year 2023"
   ]
  },
  {
   "cell_type": "code",
   "execution_count": 66,
   "id": "7d187436",
   "metadata": {},
   "outputs": [
    {
     "name": "stderr",
     "output_type": "stream",
     "text": [
      "C:\\Users\\Lenovo\\AppData\\Local\\Temp\\ipykernel_8548\\1616415326.py:4: UserWarning: Parsing dates in DD/MM/YYYY format when dayfirst=False (the default) was specified. This may lead to inconsistently parsed dates! Specify a format to ensure consistent parsing.\n",
      "  pred2[\"date\"]= pd.date_range(start='01-01-2023', end='31-12-2023')\n"
     ]
    }
   ],
   "source": [
    "pred1 = pred1.reshape(365)\n",
    "pred2 = pd.DataFrame(data=pred1,index=df[11323:].index, columns=['temp_max'])                       \n",
    "pred2[\"temp_max\"] = pred2[\"temp_max\"]*50                #denormalisation  \n",
    "pred2[\"date\"]= pd.date_range(start='01-01-2023', end='31-12-2023')"
   ]
  },
  {
   "cell_type": "code",
   "execution_count": 67,
   "id": "373cd676",
   "metadata": {},
   "outputs": [],
   "source": [
    "pred4=pred2.copy()\n",
    "pred4=pred4.set_index('date')\n",
    "pred4.to_csv(\"C:\\\\Users\\\\Lenovo\\\\Desktop\\\\NASSCOM\\\\Prediction\\\\nizamabad_prediction_temp2.csv\")     #saving predicted data as csv"
   ]
  },
  {
   "cell_type": "code",
   "execution_count": 68,
   "id": "9a28549c",
   "metadata": {},
   "outputs": [],
   "source": [
    "norm= pd.read_csv(\"C:\\\\Users\\\\Lenovo\\\\Desktop\\\\NASSCOM\\\\Normals\\\\temp_normals.csv\")          #data of districtwise monthly climatic normal 1991-2021 "
   ]
  },
  {
   "cell_type": "code",
   "execution_count": 69,
   "id": "060325b4",
   "metadata": {},
   "outputs": [],
   "source": [
    "pred2= pred2.loc[(pred2['temp_max']>=40)]\n",
    "# pred2= pred2.sort_values(by=['date'])\n",
    "pred2['month']=pred2['date'].dt.month\n",
    "pred2['normal']=pred2['month'].astype(float)"
   ]
  },
  {
   "cell_type": "code",
   "execution_count": 70,
   "id": "61365d7c",
   "metadata": {},
   "outputs": [
    {
     "name": "stderr",
     "output_type": "stream",
     "text": [
      "C:\\Users\\Lenovo\\AppData\\Local\\Temp\\ipykernel_8548\\2465722213.py:2: SettingWithCopyWarning: \n",
      "A value is trying to be set on a copy of a slice from a DataFrame\n",
      "\n",
      "See the caveats in the documentation: https://pandas.pydata.org/pandas-docs/stable/user_guide/indexing.html#returning-a-view-versus-a-copy\n",
      "  pred2['normal'][i] = float(norm['Nizamabad'][int(pred2[\"month\"][i])-1])\n"
     ]
    },
    {
     "data": {
      "text/html": [
       "<div>\n",
       "<style scoped>\n",
       "    .dataframe tbody tr th:only-of-type {\n",
       "        vertical-align: middle;\n",
       "    }\n",
       "\n",
       "    .dataframe tbody tr th {\n",
       "        vertical-align: top;\n",
       "    }\n",
       "\n",
       "    .dataframe thead th {\n",
       "        text-align: right;\n",
       "    }\n",
       "</style>\n",
       "<table border=\"1\" class=\"dataframe\">\n",
       "  <thead>\n",
       "    <tr style=\"text-align: right;\">\n",
       "      <th></th>\n",
       "      <th>temp_max</th>\n",
       "      <th>date</th>\n",
       "      <th>month</th>\n",
       "      <th>normal</th>\n",
       "    </tr>\n",
       "    <tr>\n",
       "      <th>Date</th>\n",
       "      <th></th>\n",
       "      <th></th>\n",
       "      <th></th>\n",
       "      <th></th>\n",
       "    </tr>\n",
       "  </thead>\n",
       "  <tbody>\n",
       "    <tr>\n",
       "      <th>2022-03-31</th>\n",
       "      <td>40.190845</td>\n",
       "      <td>2023-03-31</td>\n",
       "      <td>3</td>\n",
       "      <td>36.4</td>\n",
       "    </tr>\n",
       "    <tr>\n",
       "      <th>2022-04-01</th>\n",
       "      <td>40.564053</td>\n",
       "      <td>2023-04-01</td>\n",
       "      <td>4</td>\n",
       "      <td>40.0</td>\n",
       "    </tr>\n",
       "    <tr>\n",
       "      <th>2022-04-02</th>\n",
       "      <td>40.936066</td>\n",
       "      <td>2023-04-02</td>\n",
       "      <td>4</td>\n",
       "      <td>40.0</td>\n",
       "    </tr>\n",
       "    <tr>\n",
       "      <th>2022-04-03</th>\n",
       "      <td>41.209656</td>\n",
       "      <td>2023-04-03</td>\n",
       "      <td>4</td>\n",
       "      <td>40.0</td>\n",
       "    </tr>\n",
       "    <tr>\n",
       "      <th>2022-04-04</th>\n",
       "      <td>41.543640</td>\n",
       "      <td>2023-04-04</td>\n",
       "      <td>4</td>\n",
       "      <td>40.0</td>\n",
       "    </tr>\n",
       "    <tr>\n",
       "      <th>...</th>\n",
       "      <td>...</td>\n",
       "      <td>...</td>\n",
       "      <td>...</td>\n",
       "      <td>...</td>\n",
       "    </tr>\n",
       "    <tr>\n",
       "      <th>2022-06-06</th>\n",
       "      <td>40.795029</td>\n",
       "      <td>2023-06-06</td>\n",
       "      <td>6</td>\n",
       "      <td>36.0</td>\n",
       "    </tr>\n",
       "    <tr>\n",
       "      <th>2022-06-07</th>\n",
       "      <td>40.087627</td>\n",
       "      <td>2023-06-07</td>\n",
       "      <td>6</td>\n",
       "      <td>36.0</td>\n",
       "    </tr>\n",
       "    <tr>\n",
       "      <th>2022-06-08</th>\n",
       "      <td>40.094421</td>\n",
       "      <td>2023-06-08</td>\n",
       "      <td>6</td>\n",
       "      <td>36.0</td>\n",
       "    </tr>\n",
       "    <tr>\n",
       "      <th>2022-06-09</th>\n",
       "      <td>40.098801</td>\n",
       "      <td>2023-06-09</td>\n",
       "      <td>6</td>\n",
       "      <td>36.0</td>\n",
       "    </tr>\n",
       "    <tr>\n",
       "      <th>2022-06-10</th>\n",
       "      <td>40.214111</td>\n",
       "      <td>2023-06-10</td>\n",
       "      <td>6</td>\n",
       "      <td>36.0</td>\n",
       "    </tr>\n",
       "  </tbody>\n",
       "</table>\n",
       "<p>72 rows × 4 columns</p>\n",
       "</div>"
      ],
      "text/plain": [
       "             temp_max       date  month  normal\n",
       "Date                                           \n",
       "2022-03-31  40.190845 2023-03-31      3    36.4\n",
       "2022-04-01  40.564053 2023-04-01      4    40.0\n",
       "2022-04-02  40.936066 2023-04-02      4    40.0\n",
       "2022-04-03  41.209656 2023-04-03      4    40.0\n",
       "2022-04-04  41.543640 2023-04-04      4    40.0\n",
       "...               ...        ...    ...     ...\n",
       "2022-06-06  40.795029 2023-06-06      6    36.0\n",
       "2022-06-07  40.087627 2023-06-07      6    36.0\n",
       "2022-06-08  40.094421 2023-06-08      6    36.0\n",
       "2022-06-09  40.098801 2023-06-09      6    36.0\n",
       "2022-06-10  40.214111 2023-06-10      6    36.0\n",
       "\n",
       "[72 rows x 4 columns]"
      ]
     },
     "execution_count": 70,
     "metadata": {},
     "output_type": "execute_result"
    }
   ],
   "source": [
    "for i in range(len(pred2['temp_max'])):\n",
    "    pred2['normal'][i] = float(norm['Nizamabad'][int(pred2[\"month\"][i])-1]) \n",
    "pred2"
   ]
  },
  {
   "cell_type": "code",
   "execution_count": 82,
   "id": "8e02e7fe",
   "metadata": {},
   "outputs": [
    {
     "name": "stderr",
     "output_type": "stream",
     "text": [
      "C:\\Users\\Lenovo\\AppData\\Local\\Temp\\ipykernel_8548\\802398353.py:3: SettingWithCopyWarning: \n",
      "A value is trying to be set on a copy of a slice from a DataFrame.\n",
      "Try using .loc[row_indexer,col_indexer] = value instead\n",
      "\n",
      "See the caveats in the documentation: https://pandas.pydata.org/pandas-docs/stable/user_guide/indexing.html#returning-a-view-versus-a-copy\n",
      "  pred3[\"heat\"]=(pred3[\"temp_max\"]).astype(str)\n"
     ]
    },
    {
     "data": {
      "text/html": [
       "<div>\n",
       "<style scoped>\n",
       "    .dataframe tbody tr th:only-of-type {\n",
       "        vertical-align: middle;\n",
       "    }\n",
       "\n",
       "    .dataframe tbody tr th {\n",
       "        vertical-align: top;\n",
       "    }\n",
       "\n",
       "    .dataframe thead th {\n",
       "        text-align: right;\n",
       "    }\n",
       "</style>\n",
       "<table border=\"1\" class=\"dataframe\">\n",
       "  <thead>\n",
       "    <tr style=\"text-align: right;\">\n",
       "      <th></th>\n",
       "      <th>temp_max</th>\n",
       "      <th>date</th>\n",
       "      <th>month</th>\n",
       "      <th>normal</th>\n",
       "      <th>diff</th>\n",
       "      <th>heat</th>\n",
       "    </tr>\n",
       "    <tr>\n",
       "      <th>Date</th>\n",
       "      <th></th>\n",
       "      <th></th>\n",
       "      <th></th>\n",
       "      <th></th>\n",
       "      <th></th>\n",
       "      <th></th>\n",
       "    </tr>\n",
       "  </thead>\n",
       "  <tbody>\n",
       "    <tr>\n",
       "      <th>2022-04-12</th>\n",
       "      <td>44.197445</td>\n",
       "      <td>2023-04-12</td>\n",
       "      <td>4</td>\n",
       "      <td>40.0</td>\n",
       "      <td>4.197445</td>\n",
       "      <td>44.197445</td>\n",
       "    </tr>\n",
       "    <tr>\n",
       "      <th>2022-04-15</th>\n",
       "      <td>44.112797</td>\n",
       "      <td>2023-04-15</td>\n",
       "      <td>4</td>\n",
       "      <td>40.0</td>\n",
       "      <td>4.112797</td>\n",
       "      <td>44.112797</td>\n",
       "    </tr>\n",
       "    <tr>\n",
       "      <th>2022-04-16</th>\n",
       "      <td>44.107109</td>\n",
       "      <td>2023-04-16</td>\n",
       "      <td>4</td>\n",
       "      <td>40.0</td>\n",
       "      <td>4.107109</td>\n",
       "      <td>44.10711</td>\n",
       "    </tr>\n",
       "    <tr>\n",
       "      <th>2022-04-17</th>\n",
       "      <td>44.482563</td>\n",
       "      <td>2023-04-17</td>\n",
       "      <td>4</td>\n",
       "      <td>40.0</td>\n",
       "      <td>4.482563</td>\n",
       "      <td>44.482563</td>\n",
       "    </tr>\n",
       "    <tr>\n",
       "      <th>2022-04-18</th>\n",
       "      <td>44.776894</td>\n",
       "      <td>2023-04-18</td>\n",
       "      <td>4</td>\n",
       "      <td>40.0</td>\n",
       "      <td>4.776894</td>\n",
       "      <td>44.776894</td>\n",
       "    </tr>\n",
       "    <tr>\n",
       "      <th>2022-04-19</th>\n",
       "      <td>44.993336</td>\n",
       "      <td>2023-04-19</td>\n",
       "      <td>4</td>\n",
       "      <td>40.0</td>\n",
       "      <td>4.993336</td>\n",
       "      <td>44.993336</td>\n",
       "    </tr>\n",
       "    <tr>\n",
       "      <th>2022-04-20</th>\n",
       "      <td>44.990227</td>\n",
       "      <td>2023-04-20</td>\n",
       "      <td>4</td>\n",
       "      <td>40.0</td>\n",
       "      <td>4.990227</td>\n",
       "      <td>44.990227</td>\n",
       "    </tr>\n",
       "    <tr>\n",
       "      <th>2022-04-21</th>\n",
       "      <td>44.660629</td>\n",
       "      <td>2023-04-21</td>\n",
       "      <td>4</td>\n",
       "      <td>40.0</td>\n",
       "      <td>4.660629</td>\n",
       "      <td>44.66063</td>\n",
       "    </tr>\n",
       "    <tr>\n",
       "      <th>2022-04-22</th>\n",
       "      <td>44.457737</td>\n",
       "      <td>2023-04-22</td>\n",
       "      <td>4</td>\n",
       "      <td>40.0</td>\n",
       "      <td>4.457737</td>\n",
       "      <td>44.457737</td>\n",
       "    </tr>\n",
       "    <tr>\n",
       "      <th>2022-04-23</th>\n",
       "      <td>44.896561</td>\n",
       "      <td>2023-04-23</td>\n",
       "      <td>4</td>\n",
       "      <td>40.0</td>\n",
       "      <td>4.896561</td>\n",
       "      <td>44.89656</td>\n",
       "    </tr>\n",
       "    <tr>\n",
       "      <th>2022-04-24</th>\n",
       "      <td>44.739830</td>\n",
       "      <td>2023-04-24</td>\n",
       "      <td>4</td>\n",
       "      <td>40.0</td>\n",
       "      <td>4.739830</td>\n",
       "      <td>44.73983</td>\n",
       "    </tr>\n",
       "    <tr>\n",
       "      <th>2022-04-25</th>\n",
       "      <td>44.710594</td>\n",
       "      <td>2023-04-25</td>\n",
       "      <td>4</td>\n",
       "      <td>40.0</td>\n",
       "      <td>4.710594</td>\n",
       "      <td>44.710594</td>\n",
       "    </tr>\n",
       "    <tr>\n",
       "      <th>2022-04-26</th>\n",
       "      <td>45.092167</td>\n",
       "      <td>2023-04-26</td>\n",
       "      <td>4</td>\n",
       "      <td>40.0</td>\n",
       "      <td>5.092167</td>\n",
       "      <td>45.092167</td>\n",
       "    </tr>\n",
       "    <tr>\n",
       "      <th>2022-04-27</th>\n",
       "      <td>45.115620</td>\n",
       "      <td>2023-04-27</td>\n",
       "      <td>4</td>\n",
       "      <td>40.0</td>\n",
       "      <td>5.115620</td>\n",
       "      <td>45.11562</td>\n",
       "    </tr>\n",
       "    <tr>\n",
       "      <th>2022-04-28</th>\n",
       "      <td>45.169842</td>\n",
       "      <td>2023-04-28</td>\n",
       "      <td>4</td>\n",
       "      <td>40.0</td>\n",
       "      <td>5.169842</td>\n",
       "      <td>45.16984</td>\n",
       "    </tr>\n",
       "    <tr>\n",
       "      <th>2022-04-29</th>\n",
       "      <td>44.738995</td>\n",
       "      <td>2023-04-29</td>\n",
       "      <td>4</td>\n",
       "      <td>40.0</td>\n",
       "      <td>4.738995</td>\n",
       "      <td>44.738995</td>\n",
       "    </tr>\n",
       "    <tr>\n",
       "      <th>2022-04-30</th>\n",
       "      <td>45.038952</td>\n",
       "      <td>2023-04-30</td>\n",
       "      <td>4</td>\n",
       "      <td>40.0</td>\n",
       "      <td>5.038952</td>\n",
       "      <td>45.03895</td>\n",
       "    </tr>\n",
       "    <tr>\n",
       "      <th>2022-05-01</th>\n",
       "      <td>45.026760</td>\n",
       "      <td>2023-05-01</td>\n",
       "      <td>5</td>\n",
       "      <td>41.0</td>\n",
       "      <td>4.026760</td>\n",
       "      <td>45.02676</td>\n",
       "    </tr>\n",
       "    <tr>\n",
       "      <th>2022-05-02</th>\n",
       "      <td>45.333939</td>\n",
       "      <td>2023-05-02</td>\n",
       "      <td>5</td>\n",
       "      <td>41.0</td>\n",
       "      <td>4.333939</td>\n",
       "      <td>45.33394</td>\n",
       "    </tr>\n",
       "    <tr>\n",
       "      <th>2022-05-03</th>\n",
       "      <td>45.327435</td>\n",
       "      <td>2023-05-03</td>\n",
       "      <td>5</td>\n",
       "      <td>41.0</td>\n",
       "      <td>4.327435</td>\n",
       "      <td>45.327435</td>\n",
       "    </tr>\n",
       "    <tr>\n",
       "      <th>2022-05-04</th>\n",
       "      <td>45.435982</td>\n",
       "      <td>2023-05-04</td>\n",
       "      <td>5</td>\n",
       "      <td>41.0</td>\n",
       "      <td>4.435982</td>\n",
       "      <td>45.43598</td>\n",
       "    </tr>\n",
       "    <tr>\n",
       "      <th>2022-05-05</th>\n",
       "      <td>45.046562</td>\n",
       "      <td>2023-05-05</td>\n",
       "      <td>5</td>\n",
       "      <td>41.0</td>\n",
       "      <td>4.046562</td>\n",
       "      <td>45.046562</td>\n",
       "    </tr>\n",
       "    <tr>\n",
       "      <th>2022-06-02</th>\n",
       "      <td>41.030220</td>\n",
       "      <td>2023-06-02</td>\n",
       "      <td>6</td>\n",
       "      <td>36.0</td>\n",
       "      <td>5.030220</td>\n",
       "      <td>41.03022</td>\n",
       "    </tr>\n",
       "  </tbody>\n",
       "</table>\n",
       "</div>"
      ],
      "text/plain": [
       "             temp_max       date  month  normal      diff       heat\n",
       "Date                                                                \n",
       "2022-04-12  44.197445 2023-04-12      4    40.0  4.197445  44.197445\n",
       "2022-04-15  44.112797 2023-04-15      4    40.0  4.112797  44.112797\n",
       "2022-04-16  44.107109 2023-04-16      4    40.0  4.107109   44.10711\n",
       "2022-04-17  44.482563 2023-04-17      4    40.0  4.482563  44.482563\n",
       "2022-04-18  44.776894 2023-04-18      4    40.0  4.776894  44.776894\n",
       "2022-04-19  44.993336 2023-04-19      4    40.0  4.993336  44.993336\n",
       "2022-04-20  44.990227 2023-04-20      4    40.0  4.990227  44.990227\n",
       "2022-04-21  44.660629 2023-04-21      4    40.0  4.660629   44.66063\n",
       "2022-04-22  44.457737 2023-04-22      4    40.0  4.457737  44.457737\n",
       "2022-04-23  44.896561 2023-04-23      4    40.0  4.896561   44.89656\n",
       "2022-04-24  44.739830 2023-04-24      4    40.0  4.739830   44.73983\n",
       "2022-04-25  44.710594 2023-04-25      4    40.0  4.710594  44.710594\n",
       "2022-04-26  45.092167 2023-04-26      4    40.0  5.092167  45.092167\n",
       "2022-04-27  45.115620 2023-04-27      4    40.0  5.115620   45.11562\n",
       "2022-04-28  45.169842 2023-04-28      4    40.0  5.169842   45.16984\n",
       "2022-04-29  44.738995 2023-04-29      4    40.0  4.738995  44.738995\n",
       "2022-04-30  45.038952 2023-04-30      4    40.0  5.038952   45.03895\n",
       "2022-05-01  45.026760 2023-05-01      5    41.0  4.026760   45.02676\n",
       "2022-05-02  45.333939 2023-05-02      5    41.0  4.333939   45.33394\n",
       "2022-05-03  45.327435 2023-05-03      5    41.0  4.327435  45.327435\n",
       "2022-05-04  45.435982 2023-05-04      5    41.0  4.435982   45.43598\n",
       "2022-05-05  45.046562 2023-05-05      5    41.0  4.046562  45.046562\n",
       "2022-06-02  41.030220 2023-06-02      6    36.0  5.030220   41.03022"
      ]
     },
     "execution_count": 82,
     "metadata": {},
     "output_type": "execute_result"
    }
   ],
   "source": [
    "pred2[\"diff\"]= pred2['temp_max']-pred2['normal']                    #calculating departure from normal\n",
    "pred3=pred2.loc[((pred2['normal']<=40) & (pred2['diff']>=5)) | ((pred2['normal']>=40) & (pred2['diff']>=4)) | (pred2['temp_max']>=45)]\n",
    "pred3[\"heat\"]=(pred3[\"temp_max\"]).astype(str)\n",
    "pred3"
   ]
  },
  {
   "cell_type": "code",
   "execution_count": 83,
   "id": "c08ccc6c",
   "metadata": {},
   "outputs": [
    {
     "name": "stderr",
     "output_type": "stream",
     "text": [
      "C:\\Users\\Lenovo\\AppData\\Local\\Temp\\ipykernel_8548\\2156373600.py:3: SettingWithCopyWarning: \n",
      "A value is trying to be set on a copy of a slice from a DataFrame\n",
      "\n",
      "See the caveats in the documentation: https://pandas.pydata.org/pandas-docs/stable/user_guide/indexing.html#returning-a-view-versus-a-copy\n",
      "  pred3['heat'][i]='Warning! Heatwave expected'\n"
     ]
    }
   ],
   "source": [
    "for i in range(len(pred3['temp_max'])):          #classification of heatwave and severe heatwave\n",
    "    if (((pred3['normal'][i]<=40) & (pred3['diff'][i]<7)) | ((pred3['normal'][i]>40) & (pred3['diff'][i]<6))):\n",
    "        pred3['heat'][i]='Warning! Heatwave expected'\n",
    "    elif (((pred3['normal'][i]<=40) & (pred3['diff'][i]>=7)) | ((pred3['normal'][i]>40) & (pred3['diff'][i]>=6)) | (pred3['temp_max'][i]>=45)):\n",
    "        pred3['heat'][i]='Warning! Severe Heatwave expected'\n"
   ]
  },
  {
   "cell_type": "code",
   "execution_count": 84,
   "id": "4a3f1d6e",
   "metadata": {},
   "outputs": [
    {
     "data": {
      "text/html": [
       "<div>\n",
       "<style scoped>\n",
       "    .dataframe tbody tr th:only-of-type {\n",
       "        vertical-align: middle;\n",
       "    }\n",
       "\n",
       "    .dataframe tbody tr th {\n",
       "        vertical-align: top;\n",
       "    }\n",
       "\n",
       "    .dataframe thead th {\n",
       "        text-align: right;\n",
       "    }\n",
       "</style>\n",
       "<table border=\"1\" class=\"dataframe\">\n",
       "  <thead>\n",
       "    <tr style=\"text-align: right;\">\n",
       "      <th></th>\n",
       "      <th>temp_max</th>\n",
       "      <th>heat</th>\n",
       "    </tr>\n",
       "    <tr>\n",
       "      <th>date</th>\n",
       "      <th></th>\n",
       "      <th></th>\n",
       "    </tr>\n",
       "  </thead>\n",
       "  <tbody>\n",
       "    <tr>\n",
       "      <th>2023-04-12</th>\n",
       "      <td>44.197445</td>\n",
       "      <td>Warning! Heatwave expected</td>\n",
       "    </tr>\n",
       "    <tr>\n",
       "      <th>2023-04-15</th>\n",
       "      <td>44.112797</td>\n",
       "      <td>Warning! Heatwave expected</td>\n",
       "    </tr>\n",
       "    <tr>\n",
       "      <th>2023-04-16</th>\n",
       "      <td>44.107109</td>\n",
       "      <td>Warning! Heatwave expected</td>\n",
       "    </tr>\n",
       "    <tr>\n",
       "      <th>2023-04-17</th>\n",
       "      <td>44.482563</td>\n",
       "      <td>Warning! Heatwave expected</td>\n",
       "    </tr>\n",
       "    <tr>\n",
       "      <th>2023-04-18</th>\n",
       "      <td>44.776894</td>\n",
       "      <td>Warning! Heatwave expected</td>\n",
       "    </tr>\n",
       "    <tr>\n",
       "      <th>2023-04-19</th>\n",
       "      <td>44.993336</td>\n",
       "      <td>Warning! Heatwave expected</td>\n",
       "    </tr>\n",
       "    <tr>\n",
       "      <th>2023-04-20</th>\n",
       "      <td>44.990227</td>\n",
       "      <td>Warning! Heatwave expected</td>\n",
       "    </tr>\n",
       "    <tr>\n",
       "      <th>2023-04-21</th>\n",
       "      <td>44.660629</td>\n",
       "      <td>Warning! Heatwave expected</td>\n",
       "    </tr>\n",
       "    <tr>\n",
       "      <th>2023-04-22</th>\n",
       "      <td>44.457737</td>\n",
       "      <td>Warning! Heatwave expected</td>\n",
       "    </tr>\n",
       "    <tr>\n",
       "      <th>2023-04-23</th>\n",
       "      <td>44.896561</td>\n",
       "      <td>Warning! Heatwave expected</td>\n",
       "    </tr>\n",
       "    <tr>\n",
       "      <th>2023-04-24</th>\n",
       "      <td>44.739830</td>\n",
       "      <td>Warning! Heatwave expected</td>\n",
       "    </tr>\n",
       "    <tr>\n",
       "      <th>2023-04-25</th>\n",
       "      <td>44.710594</td>\n",
       "      <td>Warning! Heatwave expected</td>\n",
       "    </tr>\n",
       "    <tr>\n",
       "      <th>2023-04-26</th>\n",
       "      <td>45.092167</td>\n",
       "      <td>Warning! Heatwave expected</td>\n",
       "    </tr>\n",
       "    <tr>\n",
       "      <th>2023-04-27</th>\n",
       "      <td>45.115620</td>\n",
       "      <td>Warning! Heatwave expected</td>\n",
       "    </tr>\n",
       "    <tr>\n",
       "      <th>2023-04-28</th>\n",
       "      <td>45.169842</td>\n",
       "      <td>Warning! Heatwave expected</td>\n",
       "    </tr>\n",
       "    <tr>\n",
       "      <th>2023-04-29</th>\n",
       "      <td>44.738995</td>\n",
       "      <td>Warning! Heatwave expected</td>\n",
       "    </tr>\n",
       "    <tr>\n",
       "      <th>2023-04-30</th>\n",
       "      <td>45.038952</td>\n",
       "      <td>Warning! Heatwave expected</td>\n",
       "    </tr>\n",
       "    <tr>\n",
       "      <th>2023-05-01</th>\n",
       "      <td>45.026760</td>\n",
       "      <td>Warning! Heatwave expected</td>\n",
       "    </tr>\n",
       "    <tr>\n",
       "      <th>2023-05-02</th>\n",
       "      <td>45.333939</td>\n",
       "      <td>Warning! Heatwave expected</td>\n",
       "    </tr>\n",
       "    <tr>\n",
       "      <th>2023-05-03</th>\n",
       "      <td>45.327435</td>\n",
       "      <td>Warning! Heatwave expected</td>\n",
       "    </tr>\n",
       "    <tr>\n",
       "      <th>2023-05-04</th>\n",
       "      <td>45.435982</td>\n",
       "      <td>Warning! Heatwave expected</td>\n",
       "    </tr>\n",
       "    <tr>\n",
       "      <th>2023-05-05</th>\n",
       "      <td>45.046562</td>\n",
       "      <td>Warning! Heatwave expected</td>\n",
       "    </tr>\n",
       "    <tr>\n",
       "      <th>2023-06-02</th>\n",
       "      <td>41.030220</td>\n",
       "      <td>Warning! Heatwave expected</td>\n",
       "    </tr>\n",
       "  </tbody>\n",
       "</table>\n",
       "</div>"
      ],
      "text/plain": [
       "             temp_max                        heat\n",
       "date                                             \n",
       "2023-04-12  44.197445  Warning! Heatwave expected\n",
       "2023-04-15  44.112797  Warning! Heatwave expected\n",
       "2023-04-16  44.107109  Warning! Heatwave expected\n",
       "2023-04-17  44.482563  Warning! Heatwave expected\n",
       "2023-04-18  44.776894  Warning! Heatwave expected\n",
       "2023-04-19  44.993336  Warning! Heatwave expected\n",
       "2023-04-20  44.990227  Warning! Heatwave expected\n",
       "2023-04-21  44.660629  Warning! Heatwave expected\n",
       "2023-04-22  44.457737  Warning! Heatwave expected\n",
       "2023-04-23  44.896561  Warning! Heatwave expected\n",
       "2023-04-24  44.739830  Warning! Heatwave expected\n",
       "2023-04-25  44.710594  Warning! Heatwave expected\n",
       "2023-04-26  45.092167  Warning! Heatwave expected\n",
       "2023-04-27  45.115620  Warning! Heatwave expected\n",
       "2023-04-28  45.169842  Warning! Heatwave expected\n",
       "2023-04-29  44.738995  Warning! Heatwave expected\n",
       "2023-04-30  45.038952  Warning! Heatwave expected\n",
       "2023-05-01  45.026760  Warning! Heatwave expected\n",
       "2023-05-02  45.333939  Warning! Heatwave expected\n",
       "2023-05-03  45.327435  Warning! Heatwave expected\n",
       "2023-05-04  45.435982  Warning! Heatwave expected\n",
       "2023-05-05  45.046562  Warning! Heatwave expected\n",
       "2023-06-02  41.030220  Warning! Heatwave expected"
      ]
     },
     "execution_count": 84,
     "metadata": {},
     "output_type": "execute_result"
    }
   ],
   "source": [
    "pred3=pred3.set_index('date')\n",
    "pred3=pred3.drop(['month', 'normal', 'diff'], axis=1)\n",
    "pred3 # final dataframe containing occurences of heatwaves for Nizamabad district"
   ]
  },
  {
   "cell_type": "code",
   "execution_count": 85,
   "id": "16ad2f99",
   "metadata": {},
   "outputs": [],
   "source": [
    "pred3.to_csv(\"C:\\\\Users\\\\Lenovo\\\\Desktop\\\\NASSCOM\\\\Prediction\\\\nizamabad_heatwave_prediction.csv\")  #saving dataframe as csv file"
   ]
  },
  {
   "cell_type": "code",
   "execution_count": null,
   "id": "ca8f309e",
   "metadata": {},
   "outputs": [],
   "source": []
  },
  {
   "cell_type": "code",
   "execution_count": null,
   "id": "7a0e6f03",
   "metadata": {},
   "outputs": [],
   "source": []
  }
 ],
 "metadata": {
  "kernelspec": {
   "display_name": "Python 3 (ipykernel)",
   "language": "python",
   "name": "python3"
  },
  "language_info": {
   "codemirror_mode": {
    "name": "ipython",
    "version": 3
   },
   "file_extension": ".py",
   "mimetype": "text/x-python",
   "name": "python",
   "nbconvert_exporter": "python",
   "pygments_lexer": "ipython3",
   "version": "3.10.7"
  }
 },
 "nbformat": 4,
 "nbformat_minor": 5
}
