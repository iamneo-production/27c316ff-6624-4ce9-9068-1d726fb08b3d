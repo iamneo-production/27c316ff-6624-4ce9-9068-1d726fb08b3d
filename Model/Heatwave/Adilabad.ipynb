{
 "cells": [
  {
   "cell_type": "code",
   "execution_count": 1,
   "id": "8ca2230b",
   "metadata": {},
   "outputs": [],
   "source": [
    "import pandas as pd\n",
    "import numpy as np\n",
    "import matplotlib.pyplot as plt\n",
    "from statsmodels.tsa.seasonal import seasonal_decompose  \n",
    "from statsmodels.tsa.stattools import adfuller\n",
    "# from statsmodels.tsa.holtwinters import ExponentialSmoothing"
   ]
  },
  {
   "cell_type": "code",
   "execution_count": 2,
   "id": "c0d348d7",
   "metadata": {},
   "outputs": [],
   "source": [
    "df= pd.read_csv(\"C:\\\\Users\\\\Lenovo\\\\Desktop\\\\NASSCOM\\\\Dataset District\\\\NASA\\\\adilabad_nasa.csv\") # Reading the data"
   ]
  },
  {
   "cell_type": "code",
   "execution_count": 3,
   "id": "0ffc5cb8",
   "metadata": {},
   "outputs": [
    {
     "data": {
      "text/html": [
       "<div>\n",
       "<style scoped>\n",
       "    .dataframe tbody tr th:only-of-type {\n",
       "        vertical-align: middle;\n",
       "    }\n",
       "\n",
       "    .dataframe tbody tr th {\n",
       "        vertical-align: top;\n",
       "    }\n",
       "\n",
       "    .dataframe thead th {\n",
       "        text-align: right;\n",
       "    }\n",
       "</style>\n",
       "<table border=\"1\" class=\"dataframe\">\n",
       "  <thead>\n",
       "    <tr style=\"text-align: right;\">\n",
       "      <th></th>\n",
       "      <th>temp_max</th>\n",
       "      <th>temp_min</th>\n",
       "      <th>rainfall</th>\n",
       "      <th>pressure</th>\n",
       "      <th>Date</th>\n",
       "      <th>Unnamed: 5</th>\n",
       "    </tr>\n",
       "  </thead>\n",
       "  <tbody>\n",
       "    <tr>\n",
       "      <th>0</th>\n",
       "      <td>28.33</td>\n",
       "      <td>11.51</td>\n",
       "      <td>0.00</td>\n",
       "      <td>97.29</td>\n",
       "      <td>1/1/1991</td>\n",
       "      <td>NaN</td>\n",
       "    </tr>\n",
       "    <tr>\n",
       "      <th>1</th>\n",
       "      <td>27.56</td>\n",
       "      <td>7.54</td>\n",
       "      <td>0.00</td>\n",
       "      <td>97.29</td>\n",
       "      <td>1/2/1991</td>\n",
       "      <td>NaN</td>\n",
       "    </tr>\n",
       "    <tr>\n",
       "      <th>2</th>\n",
       "      <td>24.52</td>\n",
       "      <td>7.00</td>\n",
       "      <td>0.00</td>\n",
       "      <td>97.51</td>\n",
       "      <td>1/3/1991</td>\n",
       "      <td>NaN</td>\n",
       "    </tr>\n",
       "    <tr>\n",
       "      <th>3</th>\n",
       "      <td>26.04</td>\n",
       "      <td>6.37</td>\n",
       "      <td>0.00</td>\n",
       "      <td>97.64</td>\n",
       "      <td>1/4/1991</td>\n",
       "      <td>NaN</td>\n",
       "    </tr>\n",
       "    <tr>\n",
       "      <th>4</th>\n",
       "      <td>28.26</td>\n",
       "      <td>7.56</td>\n",
       "      <td>0.00</td>\n",
       "      <td>97.58</td>\n",
       "      <td>1/5/1991</td>\n",
       "      <td>NaN</td>\n",
       "    </tr>\n",
       "    <tr>\n",
       "      <th>...</th>\n",
       "      <td>...</td>\n",
       "      <td>...</td>\n",
       "      <td>...</td>\n",
       "      <td>...</td>\n",
       "      <td>...</td>\n",
       "      <td>...</td>\n",
       "    </tr>\n",
       "    <tr>\n",
       "      <th>11683</th>\n",
       "      <td>29.36</td>\n",
       "      <td>18.57</td>\n",
       "      <td>1.82</td>\n",
       "      <td>97.66</td>\n",
       "      <td>12/27/2022</td>\n",
       "      <td>NaN</td>\n",
       "    </tr>\n",
       "    <tr>\n",
       "      <th>11684</th>\n",
       "      <td>29.12</td>\n",
       "      <td>18.52</td>\n",
       "      <td>0.40</td>\n",
       "      <td>97.75</td>\n",
       "      <td>12/28/2022</td>\n",
       "      <td>NaN</td>\n",
       "    </tr>\n",
       "    <tr>\n",
       "      <th>11685</th>\n",
       "      <td>28.05</td>\n",
       "      <td>13.55</td>\n",
       "      <td>0.00</td>\n",
       "      <td>97.90</td>\n",
       "      <td>12/29/2022</td>\n",
       "      <td>NaN</td>\n",
       "    </tr>\n",
       "    <tr>\n",
       "      <th>11686</th>\n",
       "      <td>29.26</td>\n",
       "      <td>16.68</td>\n",
       "      <td>0.00</td>\n",
       "      <td>97.92</td>\n",
       "      <td>12/30/2022</td>\n",
       "      <td>NaN</td>\n",
       "    </tr>\n",
       "    <tr>\n",
       "      <th>11687</th>\n",
       "      <td>28.56</td>\n",
       "      <td>14.10</td>\n",
       "      <td>0.00</td>\n",
       "      <td>97.82</td>\n",
       "      <td>12/31/2022</td>\n",
       "      <td>NaN</td>\n",
       "    </tr>\n",
       "  </tbody>\n",
       "</table>\n",
       "<p>11688 rows × 6 columns</p>\n",
       "</div>"
      ],
      "text/plain": [
       "       temp_max  temp_min  rainfall  pressure        Date  Unnamed: 5\n",
       "0         28.33     11.51      0.00     97.29    1/1/1991         NaN\n",
       "1         27.56      7.54      0.00     97.29    1/2/1991         NaN\n",
       "2         24.52      7.00      0.00     97.51    1/3/1991         NaN\n",
       "3         26.04      6.37      0.00     97.64    1/4/1991         NaN\n",
       "4         28.26      7.56      0.00     97.58    1/5/1991         NaN\n",
       "...         ...       ...       ...       ...         ...         ...\n",
       "11683     29.36     18.57      1.82     97.66  12/27/2022         NaN\n",
       "11684     29.12     18.52      0.40     97.75  12/28/2022         NaN\n",
       "11685     28.05     13.55      0.00     97.90  12/29/2022         NaN\n",
       "11686     29.26     16.68      0.00     97.92  12/30/2022         NaN\n",
       "11687     28.56     14.10      0.00     97.82  12/31/2022         NaN\n",
       "\n",
       "[11688 rows x 6 columns]"
      ]
     },
     "execution_count": 3,
     "metadata": {},
     "output_type": "execute_result"
    }
   ],
   "source": [
    "df"
   ]
  },
  {
   "cell_type": "code",
   "execution_count": 4,
   "id": "c3c92542",
   "metadata": {
    "scrolled": false
   },
   "outputs": [],
   "source": [
    "df.drop(['Unnamed: 5'] , axis=1, inplace=True) # Droppping unnecessary/accidental columns"
   ]
  },
  {
   "cell_type": "code",
   "execution_count": 5,
   "id": "5af28181",
   "metadata": {},
   "outputs": [
    {
     "data": {
      "text/html": [
       "<div>\n",
       "<style scoped>\n",
       "    .dataframe tbody tr th:only-of-type {\n",
       "        vertical-align: middle;\n",
       "    }\n",
       "\n",
       "    .dataframe tbody tr th {\n",
       "        vertical-align: top;\n",
       "    }\n",
       "\n",
       "    .dataframe thead th {\n",
       "        text-align: right;\n",
       "    }\n",
       "</style>\n",
       "<table border=\"1\" class=\"dataframe\">\n",
       "  <thead>\n",
       "    <tr style=\"text-align: right;\">\n",
       "      <th></th>\n",
       "      <th>temp_max</th>\n",
       "      <th>temp_min</th>\n",
       "      <th>rainfall</th>\n",
       "      <th>pressure</th>\n",
       "    </tr>\n",
       "  </thead>\n",
       "  <tbody>\n",
       "    <tr>\n",
       "      <th>count</th>\n",
       "      <td>11688.000000</td>\n",
       "      <td>11688.000000</td>\n",
       "      <td>11688.000000</td>\n",
       "      <td>11688.000000</td>\n",
       "    </tr>\n",
       "    <tr>\n",
       "      <th>mean</th>\n",
       "      <td>33.449159</td>\n",
       "      <td>21.058159</td>\n",
       "      <td>2.771356</td>\n",
       "      <td>97.021030</td>\n",
       "    </tr>\n",
       "    <tr>\n",
       "      <th>std</th>\n",
       "      <td>5.478335</td>\n",
       "      <td>5.284212</td>\n",
       "      <td>7.280311</td>\n",
       "      <td>0.487849</td>\n",
       "    </tr>\n",
       "    <tr>\n",
       "      <th>min</th>\n",
       "      <td>19.450000</td>\n",
       "      <td>6.120000</td>\n",
       "      <td>0.000000</td>\n",
       "      <td>95.590000</td>\n",
       "    </tr>\n",
       "    <tr>\n",
       "      <th>25%</th>\n",
       "      <td>29.330000</td>\n",
       "      <td>16.980000</td>\n",
       "      <td>0.000000</td>\n",
       "      <td>96.610000</td>\n",
       "    </tr>\n",
       "    <tr>\n",
       "      <th>50%</th>\n",
       "      <td>31.515000</td>\n",
       "      <td>22.400000</td>\n",
       "      <td>0.010000</td>\n",
       "      <td>97.010000</td>\n",
       "    </tr>\n",
       "    <tr>\n",
       "      <th>75%</th>\n",
       "      <td>37.600000</td>\n",
       "      <td>24.230000</td>\n",
       "      <td>1.840000</td>\n",
       "      <td>97.450000</td>\n",
       "    </tr>\n",
       "    <tr>\n",
       "      <th>max</th>\n",
       "      <td>48.010000</td>\n",
       "      <td>33.460000</td>\n",
       "      <td>145.800000</td>\n",
       "      <td>98.180000</td>\n",
       "    </tr>\n",
       "  </tbody>\n",
       "</table>\n",
       "</div>"
      ],
      "text/plain": [
       "           temp_max      temp_min      rainfall      pressure\n",
       "count  11688.000000  11688.000000  11688.000000  11688.000000\n",
       "mean      33.449159     21.058159      2.771356     97.021030\n",
       "std        5.478335      5.284212      7.280311      0.487849\n",
       "min       19.450000      6.120000      0.000000     95.590000\n",
       "25%       29.330000     16.980000      0.000000     96.610000\n",
       "50%       31.515000     22.400000      0.010000     97.010000\n",
       "75%       37.600000     24.230000      1.840000     97.450000\n",
       "max       48.010000     33.460000    145.800000     98.180000"
      ]
     },
     "execution_count": 5,
     "metadata": {},
     "output_type": "execute_result"
    }
   ],
   "source": [
    "df.describe()"
   ]
  },
  {
   "cell_type": "code",
   "execution_count": 6,
   "id": "9a6cb742",
   "metadata": {
    "scrolled": true
   },
   "outputs": [],
   "source": [
    "df['Date']= pd.to_datetime(df.Date, format=\"%m/%d/%Y\")\n",
    "df= df.set_index('Date') # Setting the column 'date'  as index for our dataframe"
   ]
  },
  {
   "cell_type": "code",
   "execution_count": 7,
   "id": "e0406387",
   "metadata": {},
   "outputs": [
    {
     "name": "stdout",
     "output_type": "stream",
     "text": [
      "D\n"
     ]
    }
   ],
   "source": [
    "print(pd.infer_freq(df.index))"
   ]
  },
  {
   "cell_type": "code",
   "execution_count": 8,
   "id": "3cf841c8",
   "metadata": {},
   "outputs": [],
   "source": [
    "df=df.drop(['temp_min', 'pressure'], axis=1)"
   ]
  },
  {
   "cell_type": "code",
   "execution_count": 9,
   "id": "8fdb73d5",
   "metadata": {
    "scrolled": true
   },
   "outputs": [
    {
     "data": {
      "text/html": [
       "<div>\n",
       "<style scoped>\n",
       "    .dataframe tbody tr th:only-of-type {\n",
       "        vertical-align: middle;\n",
       "    }\n",
       "\n",
       "    .dataframe tbody tr th {\n",
       "        vertical-align: top;\n",
       "    }\n",
       "\n",
       "    .dataframe thead th {\n",
       "        text-align: right;\n",
       "    }\n",
       "</style>\n",
       "<table border=\"1\" class=\"dataframe\">\n",
       "  <thead>\n",
       "    <tr style=\"text-align: right;\">\n",
       "      <th></th>\n",
       "      <th>temp_max</th>\n",
       "      <th>rainfall</th>\n",
       "    </tr>\n",
       "  </thead>\n",
       "  <tbody>\n",
       "    <tr>\n",
       "      <th>count</th>\n",
       "      <td>11688.000000</td>\n",
       "      <td>11688.000000</td>\n",
       "    </tr>\n",
       "    <tr>\n",
       "      <th>mean</th>\n",
       "      <td>33.449159</td>\n",
       "      <td>2.771356</td>\n",
       "    </tr>\n",
       "    <tr>\n",
       "      <th>std</th>\n",
       "      <td>5.478335</td>\n",
       "      <td>7.280311</td>\n",
       "    </tr>\n",
       "    <tr>\n",
       "      <th>min</th>\n",
       "      <td>19.450000</td>\n",
       "      <td>0.000000</td>\n",
       "    </tr>\n",
       "    <tr>\n",
       "      <th>25%</th>\n",
       "      <td>29.330000</td>\n",
       "      <td>0.000000</td>\n",
       "    </tr>\n",
       "    <tr>\n",
       "      <th>50%</th>\n",
       "      <td>31.515000</td>\n",
       "      <td>0.010000</td>\n",
       "    </tr>\n",
       "    <tr>\n",
       "      <th>75%</th>\n",
       "      <td>37.600000</td>\n",
       "      <td>1.840000</td>\n",
       "    </tr>\n",
       "    <tr>\n",
       "      <th>max</th>\n",
       "      <td>48.010000</td>\n",
       "      <td>145.800000</td>\n",
       "    </tr>\n",
       "  </tbody>\n",
       "</table>\n",
       "</div>"
      ],
      "text/plain": [
       "           temp_max      rainfall\n",
       "count  11688.000000  11688.000000\n",
       "mean      33.449159      2.771356\n",
       "std        5.478335      7.280311\n",
       "min       19.450000      0.000000\n",
       "25%       29.330000      0.000000\n",
       "50%       31.515000      0.010000\n",
       "75%       37.600000      1.840000\n",
       "max       48.010000    145.800000"
      ]
     },
     "execution_count": 9,
     "metadata": {},
     "output_type": "execute_result"
    }
   ],
   "source": [
    "df.describe()"
   ]
  },
  {
   "cell_type": "code",
   "execution_count": 10,
   "id": "0dc8ca56",
   "metadata": {},
   "outputs": [],
   "source": [
    "df['rainfall']=df['rainfall']/150\n",
    "df['temp_max']=df['temp_max']/50\n"
   ]
  },
  {
   "cell_type": "code",
   "execution_count": 13,
   "id": "8448d0d6",
   "metadata": {},
   "outputs": [
    {
     "data": {
      "text/html": [
       "<div>\n",
       "<style scoped>\n",
       "    .dataframe tbody tr th:only-of-type {\n",
       "        vertical-align: middle;\n",
       "    }\n",
       "\n",
       "    .dataframe tbody tr th {\n",
       "        vertical-align: top;\n",
       "    }\n",
       "\n",
       "    .dataframe thead th {\n",
       "        text-align: right;\n",
       "    }\n",
       "</style>\n",
       "<table border=\"1\" class=\"dataframe\">\n",
       "  <thead>\n",
       "    <tr style=\"text-align: right;\">\n",
       "      <th></th>\n",
       "      <th>temp_max</th>\n",
       "      <th>rainfall</th>\n",
       "    </tr>\n",
       "    <tr>\n",
       "      <th>Date</th>\n",
       "      <th></th>\n",
       "      <th></th>\n",
       "    </tr>\n",
       "  </thead>\n",
       "  <tbody>\n",
       "    <tr>\n",
       "      <th>1991-01-01</th>\n",
       "      <td>0.5666</td>\n",
       "      <td>0.0</td>\n",
       "    </tr>\n",
       "    <tr>\n",
       "      <th>1991-01-02</th>\n",
       "      <td>0.5512</td>\n",
       "      <td>0.0</td>\n",
       "    </tr>\n",
       "    <tr>\n",
       "      <th>1991-01-03</th>\n",
       "      <td>0.4904</td>\n",
       "      <td>0.0</td>\n",
       "    </tr>\n",
       "    <tr>\n",
       "      <th>1991-01-04</th>\n",
       "      <td>0.5208</td>\n",
       "      <td>0.0</td>\n",
       "    </tr>\n",
       "    <tr>\n",
       "      <th>1991-01-05</th>\n",
       "      <td>0.5652</td>\n",
       "      <td>0.0</td>\n",
       "    </tr>\n",
       "    <tr>\n",
       "      <th>...</th>\n",
       "      <td>...</td>\n",
       "      <td>...</td>\n",
       "    </tr>\n",
       "    <tr>\n",
       "      <th>2020-12-27</th>\n",
       "      <td>0.5884</td>\n",
       "      <td>0.0</td>\n",
       "    </tr>\n",
       "    <tr>\n",
       "      <th>2020-12-28</th>\n",
       "      <td>0.5952</td>\n",
       "      <td>0.0</td>\n",
       "    </tr>\n",
       "    <tr>\n",
       "      <th>2020-12-29</th>\n",
       "      <td>0.5860</td>\n",
       "      <td>0.0</td>\n",
       "    </tr>\n",
       "    <tr>\n",
       "      <th>2020-12-30</th>\n",
       "      <td>0.5730</td>\n",
       "      <td>0.0</td>\n",
       "    </tr>\n",
       "    <tr>\n",
       "      <th>2020-12-31</th>\n",
       "      <td>0.5652</td>\n",
       "      <td>0.0</td>\n",
       "    </tr>\n",
       "  </tbody>\n",
       "</table>\n",
       "<p>10958 rows × 2 columns</p>\n",
       "</div>"
      ],
      "text/plain": [
       "            temp_max  rainfall\n",
       "Date                          \n",
       "1991-01-01    0.5666       0.0\n",
       "1991-01-02    0.5512       0.0\n",
       "1991-01-03    0.4904       0.0\n",
       "1991-01-04    0.5208       0.0\n",
       "1991-01-05    0.5652       0.0\n",
       "...              ...       ...\n",
       "2020-12-27    0.5884       0.0\n",
       "2020-12-28    0.5952       0.0\n",
       "2020-12-29    0.5860       0.0\n",
       "2020-12-30    0.5730       0.0\n",
       "2020-12-31    0.5652       0.0\n",
       "\n",
       "[10958 rows x 2 columns]"
      ]
     },
     "execution_count": 13,
     "metadata": {},
     "output_type": "execute_result"
    }
   ],
   "source": [
    "df1=df[:10958]\n",
    "df1"
   ]
  },
  {
   "cell_type": "code",
   "execution_count": 79,
   "id": "736cff0f",
   "metadata": {
    "scrolled": true
   },
   "outputs": [
    {
     "data": {
      "text/html": [
       "<div>\n",
       "<style scoped>\n",
       "    .dataframe tbody tr th:only-of-type {\n",
       "        vertical-align: middle;\n",
       "    }\n",
       "\n",
       "    .dataframe tbody tr th {\n",
       "        vertical-align: top;\n",
       "    }\n",
       "\n",
       "    .dataframe thead th {\n",
       "        text-align: right;\n",
       "    }\n",
       "</style>\n",
       "<table border=\"1\" class=\"dataframe\">\n",
       "  <thead>\n",
       "    <tr style=\"text-align: right;\">\n",
       "      <th></th>\n",
       "      <th>temp_max</th>\n",
       "      <th>rainfall</th>\n",
       "      <th>pressure</th>\n",
       "    </tr>\n",
       "  </thead>\n",
       "  <tbody>\n",
       "    <tr>\n",
       "      <th>count</th>\n",
       "      <td>10958.00000</td>\n",
       "      <td>10958.000000</td>\n",
       "      <td>10958.000000</td>\n",
       "    </tr>\n",
       "    <tr>\n",
       "      <th>mean</th>\n",
       "      <td>0.67071</td>\n",
       "      <td>0.017426</td>\n",
       "      <td>0.970219</td>\n",
       "    </tr>\n",
       "    <tr>\n",
       "      <th>std</th>\n",
       "      <td>0.10902</td>\n",
       "      <td>0.044666</td>\n",
       "      <td>0.004891</td>\n",
       "    </tr>\n",
       "    <tr>\n",
       "      <th>min</th>\n",
       "      <td>0.38900</td>\n",
       "      <td>0.000000</td>\n",
       "      <td>0.955900</td>\n",
       "    </tr>\n",
       "    <tr>\n",
       "      <th>25%</th>\n",
       "      <td>0.58845</td>\n",
       "      <td>0.000000</td>\n",
       "      <td>0.966000</td>\n",
       "    </tr>\n",
       "    <tr>\n",
       "      <th>50%</th>\n",
       "      <td>0.63230</td>\n",
       "      <td>0.000067</td>\n",
       "      <td>0.970200</td>\n",
       "    </tr>\n",
       "    <tr>\n",
       "      <th>75%</th>\n",
       "      <td>0.75280</td>\n",
       "      <td>0.011667</td>\n",
       "      <td>0.974500</td>\n",
       "    </tr>\n",
       "    <tr>\n",
       "      <th>max</th>\n",
       "      <td>0.96020</td>\n",
       "      <td>0.972000</td>\n",
       "      <td>0.981800</td>\n",
       "    </tr>\n",
       "  </tbody>\n",
       "</table>\n",
       "</div>"
      ],
      "text/plain": [
       "          temp_max      rainfall      pressure\n",
       "count  10958.00000  10958.000000  10958.000000\n",
       "mean       0.67071      0.017426      0.970219\n",
       "std        0.10902      0.044666      0.004891\n",
       "min        0.38900      0.000000      0.955900\n",
       "25%        0.58845      0.000000      0.966000\n",
       "50%        0.63230      0.000067      0.970200\n",
       "75%        0.75280      0.011667      0.974500\n",
       "max        0.96020      0.972000      0.981800"
      ]
     },
     "execution_count": 79,
     "metadata": {},
     "output_type": "execute_result"
    }
   ],
   "source": [
    "df1.describe()\n"
   ]
  },
  {
   "cell_type": "code",
   "execution_count": 75,
   "id": "00c5c876",
   "metadata": {
    "collapsed": true
   },
   "outputs": [
    {
     "data": {
      "image/png": "[encoded data removed]",
      "text/plain": [
       "<Figure size 640x480 with 4 Axes>"
      ]
     },
     "execution_count": 75,
     "metadata": {},
     "output_type": "execute_result"
    },
    {
     "data": {
      "image/png": "[encoded data removed]",
      "text/plain": [
       "<Figure size 640x480 with 4 Axes>"
      ]
     },
     "metadata": {},
     "output_type": "display_data"
    }
   ],
   "source": [
    "decompose_result = seasonal_decompose(df['temp_max'], period=365 ,model='add')\n",
    "decompose_result.plot() "
   ]
  },
  {
   "cell_type": "code",
   "execution_count": 140,
   "id": "ddfbac1c",
   "metadata": {},
   "outputs": [],
   "source": [
    "df3=df['temp_max']"
   ]
  },
  {
   "cell_type": "code",
   "execution_count": 143,
   "id": "60ff43f4",
   "metadata": {},
   "outputs": [],
   "source": [
    "df3=df3.asfreq(freq='D')"
   ]
  },
  {
   "cell_type": "code",
   "execution_count": 149,
   "id": "3cf79814",
   "metadata": {},
   "outputs": [],
   "source": [
    "train=df3[:11323]\n",
    "# train=train/50\n",
    "test=df3[11323:]\n",
    "# test=test/50"
   ]
  },
  {
   "cell_type": "code",
   "execution_count": 168,
   "id": "368fdab3",
   "metadata": {
    "scrolled": true
   },
   "outputs": [
    {
     "name": "stderr",
     "output_type": "stream",
     "text": [
      "C:\\Users\\Lenovo\\AppData\\Local\\Programs\\Python\\Python310\\lib\\site-packages\\statsmodels\\tsa\\holtwinters\\model.py:915: ConvergenceWarning: Optimization failed to converge. Check mle_retvals.\n",
      "  warnings.warn(\n"
     ]
    }
   ],
   "source": [
    "# Running Holt-Winters Exponential Smoothing on the train data for Adilabad\n",
    "fit3 = ExponentialSmoothing(\n",
    "    train,\n",
    "    seasonal_periods=365,\n",
    "    trend=\"add\",\n",
    "    seasonal=\"add\", \n",
    "    initialization_method=\"estimated\",\n",
    "    \n",
    ").fit(optimized=True)\n",
    "\n",
    "results = pd.DataFrame(\n",
    "    index=[r\"$\\alpha$\", r\"$\\beta$\", r\"$\\phi$\", r\"$\\gamma$\", r\"$l_0$\", \"$b_0$\", \"SSE\"]\n",
    ")\n",
    "params = [\n",
    "    \"smoothing_level\",\n",
    "    \"smoothing_trend\",\n",
    "    \"damping_trend\",\n",
    "    \"smoothing_seasonal\",\n",
    "    \"initial_level\",\n",
    "    \"initial_trend\",\n",
    "]\n",
    "results[\"Additive Dam\"] = [fit3.params[p] for p in params] + [fit3.sse]\n",
    "prediction= fit3.forecast(365)\n",
    "prediction=prediction*50"
   ]
  },
  {
   "cell_type": "code",
   "execution_count": 153,
   "id": "645c48a9",
   "metadata": {},
   "outputs": [],
   "source": [
    "test=test*50"
   ]
  },
  {
   "cell_type": "code",
   "execution_count": 119,
   "id": "78e7885a",
   "metadata": {},
   "outputs": [],
   "source": [
    "prediction=prediction*50 # Multiplying by 50 since we normalized by 50 "
   ]
  },
  {
   "cell_type": "code",
   "execution_count": 154,
   "id": "f2080326",
   "metadata": {},
   "outputs": [],
   "source": [
    "from sklearn.metrics import mean_squared_error as mse\n",
    "from sklearn.metrics import mean_absolute_error as mae # importing the error metric libraries"
   ]
  },
  {
   "cell_type": "code",
   "execution_count": 159,
   "id": "7c3a2c23",
   "metadata": {
    "collapsed": true
   },
   "outputs": [
    {
     "name": "stdout",
     "output_type": "stream",
     "text": [
      "Prediction 0 :25.301873843871235   Expected:26.74\n",
      "Prediction 0 :25.62597509793203   Expected:27.12\n",
      "Prediction 0 :25.46017380833623   Expected:26.85\n",
      "Prediction 0 :25.40469520336036   Expected:27.500000000000004\n",
      "Prediction 0 :25.74860206057109   Expected:28.57\n",
      "Prediction 0 :26.065322098706822   Expected:28.809999999999995\n",
      "Prediction 0 :26.080176748641065   Expected:29.049999999999997\n",
      "Prediction 0 :26.19808856801295   Expected:26.150000000000002\n",
      "Prediction 0 :25.979278835778448   Expected:27.88\n",
      "Prediction 0 :26.256469799625325   Expected:27.24\n",
      "Prediction 0 :26.65768542569736   Expected:25.239999999999995\n",
      "Prediction 0 :26.772259901665635   Expected:24.04\n",
      "Prediction 0 :26.766527617769203   Expected:25.759999999999998\n",
      "Prediction 0 :26.947248249841504   Expected:26.0\n",
      "Prediction 0 :27.194688205182498   Expected:25.36\n",
      "Prediction 0 :27.27956394195964   Expected:26.21\n",
      "Prediction 0 :27.223741459834205   Expected:26.57\n",
      "Prediction 0 :27.182321309235036   Expected:25.97\n",
      "Prediction 0 :27.333949190006372   Expected:25.739999999999995\n",
      "Prediction 0 :27.447525209256042   Expected:27.04\n",
      "Prediction 0 :27.59332120134475   Expected:28.27\n",
      "Prediction 0 :27.8356515125069   Expected:29.18\n",
      "Prediction 0 :27.780346796037875   Expected:26.55\n",
      "Prediction 0 :27.75192949155184   Expected:24.01\n",
      "Prediction 0 :27.8044230903994   Expected:23.39\n",
      "Prediction 0 :27.99634714181823   Expected:23.86\n",
      "Prediction 0 :27.89589769259572   Expected:24.3\n",
      "Prediction 0 :27.95041215630959   Expected:24.05\n",
      "Prediction 0 :28.220248677469044   Expected:25.379999999999995\n",
      "Prediction 0 :28.59614044706834   Expected:27.800000000000004\n",
      "Prediction 1 :28.81085681936489   Expected:29.9\n",
      "Prediction 1 :28.68861937686565   Expected:29.719999999999995\n",
      "Prediction 1 :28.586532830485805   Expected:30.55\n",
      "Prediction 1 :28.854419583370944   Expected:31.85\n",
      "Prediction 1 :29.088891594491074   Expected:26.93\n",
      "Prediction 1 :29.17099036085991   Expected:27.88\n",
      "Prediction 1 :29.345929545769568   Expected:28.96\n",
      "Prediction 1 :29.17940089547969   Expected:29.95\n",
      "Prediction 1 :29.52285226428305   Expected:30.210000000000004\n",
      "Prediction 1 :29.738295908150125   Expected:30.94\n",
      "Prediction 1 :30.31320051517035   Expected:28.749999999999996\n",
      "Prediction 1 :30.64371862365085   Expected:27.93\n",
      "Prediction 1 :30.542878748444647   Expected:29.059999999999995\n",
      "Prediction 1 :30.56696497881986   Expected:29.99\n",
      "Prediction 1 :30.470053436450357   Expected:30.65\n",
      "Prediction 1 :30.51647817351986   Expected:30.680000000000003\n",
      "Prediction 1 :30.77594396031292   Expected:30.06\n",
      "Prediction 1 :31.143593525457163   Expected:29.98\n",
      "Prediction 1 :31.499677892652016   Expected:30.380000000000003\n",
      "Prediction 1 :31.704305045147187   Expected:32.15\n",
      "Prediction 1 :32.3044658855823   Expected:33.87\n",
      "Prediction 1 :32.37440497037332   Expected:33.57\n",
      "Prediction 1 :32.743077545461205   Expected:34.37\n",
      "Prediction 1 :32.973784421361536   Expected:34.81\n",
      "Prediction 1 :32.92809799032907   Expected:35.44\n",
      "Prediction 1 :33.0237636536944   Expected:34.49\n",
      "Prediction 1 :32.89914455170282   Expected:34.17\n",
      "Prediction 1 :32.79184446456036   Expected:34.63\n",
      "Prediction 1 :32.68473049803081   Expected:34.73\n",
      "Prediction 1 :33.125732584454404   Expected:35.12\n",
      "Prediction 2 :33.329778575836144   Expected:35.3\n",
      "Prediction 2 :33.682326332910904   Expected:35.28\n",
      "Prediction 2 :33.4749748105441   Expected:34.94\n",
      "Prediction 2 :33.42671204762268   Expected:35.58\n",
      "Prediction 2 :33.42828674781552   Expected:35.64\n",
      "Prediction 2 :33.44400131468506   Expected:34.93\n",
      "Prediction 2 :33.37314652076919   Expected:35.49\n",
      "Prediction 2 :33.94863151600686   Expected:36.27\n",
      "Prediction 2 :33.954456090893   Expected:36.01\n",
      "Prediction 2 :34.19398955941482   Expected:36.28\n",
      "Prediction 2 :34.364614651379064   Expected:36.25\n",
      "Prediction 2 :34.777655750841205   Expected:36.96\n",
      "Prediction 2 :34.910632568936904   Expected:38.31\n",
      "Prediction 2 :34.821576907891476   Expected:39.15\n",
      "Prediction 2 :35.267458358530995   Expected:40.76\n",
      "Prediction 2 :35.640332651412734   Expected:41.41\n",
      "Prediction 2 :35.80485888498235   Expected:40.8\n",
      "Prediction 2 :35.31633146625487   Expected:40.29\n",
      "Prediction 2 :35.02568098810595   Expected:40.26\n",
      "Prediction 2 :35.53812535282632   Expected:40.83\n",
      "Prediction 2 :35.89273213400773   Expected:40.44\n",
      "Prediction 2 :36.037718308711   Expected:40.77\n",
      "Prediction 2 :36.338829114162905   Expected:40.74\n",
      "Prediction 2 :36.56864581841737   Expected:40.73\n",
      "Prediction 2 :36.350223566266166   Expected:41.47\n",
      "Prediction 2 :36.28311147739766   Expected:41.83\n",
      "Prediction 2 :36.3281860514695   Expected:41.98\n",
      "Prediction 2 :36.680480865588905   Expected:42.55\n",
      "Prediction 2 :37.016831512773216   Expected:42.79\n",
      "Prediction 2 :36.965117820643414   Expected:42.88\n",
      "Prediction 3 :37.04381738753029   Expected:42.8\n",
      "Prediction 3 :36.95549279328808   Expected:42.21\n",
      "Prediction 3 :37.19120993299008   Expected:42.58\n",
      "Prediction 3 :37.262019043158325   Expected:42.48\n",
      "Prediction 3 :37.035021440183236   Expected:42.5\n",
      "Prediction 3 :37.0978747226758   Expected:42.94\n",
      "Prediction 3 :37.41651567156159   Expected:42.82\n",
      "Prediction 3 :37.298933420631414   Expected:41.12\n",
      "Prediction 3 :37.422910427014514   Expected:42.47\n",
      "Prediction 3 :36.96091589766171   Expected:42.26\n",
      "Prediction 3 :37.57094728260937   Expected:41.77\n",
      "Prediction 3 :37.39911269085753   Expected:42.04\n",
      "Prediction 3 :37.5354509148367   Expected:42.32\n",
      "Prediction 3 :37.73421427911396   Expected:42.16\n",
      "Prediction 3 :38.03094370794877   Expected:40.26\n",
      "Prediction 3 :38.12870265735322   Expected:42.09\n",
      "Prediction 3 :38.32558724507527   Expected:42.62\n",
      "Prediction 3 :38.659415331813825   Expected:43.23\n",
      "Prediction 3 :38.410208148960585   Expected:43.94\n",
      "Prediction 3 :38.486101992430335   Expected:44.47\n",
      "Prediction 3 :38.61851672269279   Expected:44.03\n",
      "Prediction 3 :38.7769164009629   Expected:37.71\n",
      "Prediction 3 :38.89727342813698   Expected:39.2\n",
      "Prediction 3 :39.08839953681035   Expected:41.15\n",
      "Prediction 3 :39.36069475128476   Expected:43.98\n",
      "Prediction 3 :39.37559911847913   Expected:43.46\n",
      "Prediction 3 :39.45181286698476   Expected:44.66\n",
      "Prediction 3 :39.10913125615695   Expected:44.74\n",
      "Prediction 3 :39.2309757660405   Expected:45.31\n",
      "Prediction 3 :39.00812778024847   Expected:44.8\n",
      "Prediction 4 :38.94542425378694   Expected:44.69\n",
      "Prediction 4 :38.742782132003356   Expected:44.58\n",
      "Prediction 4 :38.93061136413372   Expected:44.47\n",
      "Prediction 4 :39.12422126480906   Expected:40.83\n",
      "Prediction 4 :38.99981861472843   Expected:43.69\n",
      "Prediction 4 :39.24902927143265   Expected:43.98\n",
      "Prediction 4 :38.99542067626723   Expected:43.59\n",
      "Prediction 4 :38.92342945500226   Expected:43.61\n",
      "Prediction 4 :38.89689125688477   Expected:43.18\n",
      "Prediction 4 :38.86791268272552   Expected:43.17\n",
      "Prediction 4 :38.84812634232819   Expected:41.84\n",
      "Prediction 4 :39.05072644977803   Expected:42.41\n",
      "Prediction 4 :38.95682515698157   Expected:43.08\n",
      "Prediction 4 :38.984819425397646   Expected:44.72\n",
      "Prediction 4 :38.77827948766101   Expected:45.07\n",
      "Prediction 4 :38.769229914372396   Expected:41.87\n",
      "Prediction 4 :38.893751562559196   Expected:39.12\n",
      "Prediction 4 :39.088111151092015   Expected:40.21\n",
      "Prediction 4 :39.29670356651002   Expected:38.01\n",
      "Prediction 4 :39.2502031691523   Expected:40.98\n",
      "Prediction 4 :39.28823482163378   Expected:41.29\n",
      "Prediction 4 :39.13428865772088   Expected:41.69\n",
      "Prediction 4 :39.23733865430373   Expected:41.59\n",
      "Prediction 4 :38.84440455311305   Expected:41.73\n",
      "Prediction 4 :38.811988373613744   Expected:41.38\n",
      "Prediction 4 :38.5703948805068   Expected:42.94\n",
      "Prediction 4 :38.84054660728785   Expected:42.21\n",
      "Prediction 4 :38.65775792506535   Expected:42.43\n",
      "Prediction 4 :37.90509045410296   Expected:42.49\n",
      "Prediction 4 :37.48975707049276   Expected:43.51\n",
      "Prediction 5 :36.485120856847374   Expected:42.14\n",
      "Prediction 5 :35.927507150955705   Expected:43.57\n",
      "Prediction 5 :35.23299383685361   Expected:44.73\n",
      "Prediction 5 :34.95063390555671   Expected:43.93\n",
      "Prediction 5 :34.57628708744842   Expected:44.12\n",
      "Prediction 5 :34.25705119047639   Expected:43.69\n",
      "Prediction 5 :33.98614854166684   Expected:42.53\n",
      "Prediction 5 :32.73642333149752   Expected:44.51\n",
      "Prediction 5 :32.37221452404695   Expected:43.92\n",
      "Prediction 5 :31.385075705737382   Expected:41.76\n",
      "Prediction 5 :31.58928682300249   Expected:36.87\n",
      "Prediction 5 :31.29936688527075   Expected:36.73\n",
      "Prediction 5 :30.380621086495818   Expected:35.79\n",
      "Prediction 5 :31.05624306747019   Expected:34.41\n",
      "Prediction 5 :30.3292048217791   Expected:35.82\n",
      "Prediction 5 :29.964795274102933   Expected:34.07\n",
      "Prediction 5 :29.432157392673748   Expected:34.15\n",
      "Prediction 5 :29.793504437440188   Expected:34.81\n",
      "Prediction 5 :30.042727607495628   Expected:31.620000000000005\n",
      "Prediction 5 :29.688188750235916   Expected:32.77\n",
      "Prediction 5 :29.68509563530689   Expected:31.540000000000003\n",
      "Prediction 5 :29.530368796949613   Expected:32.15\n",
      "Prediction 5 :29.046885488796605   Expected:28.33\n",
      "Prediction 5 :28.19411156401483   Expected:29.7\n",
      "Prediction 5 :28.458919299800367   Expected:31.11\n",
      "Prediction 5 :28.861082108626547   Expected:29.86\n",
      "Prediction 5 :27.910136372193467   Expected:30.69\n",
      "Prediction 5 :28.01757653374617   Expected:33.06\n",
      "Prediction 5 :28.3371749702366   Expected:30.55\n",
      "Prediction 5 :27.840163950150952   Expected:27.440000000000005\n",
      "Prediction 6 :27.5169418049598   Expected:27.399999999999995\n",
      "Prediction 6 :27.75717436469553   Expected:32.08\n",
      "Prediction 6 :27.37956755216449   Expected:30.28\n",
      "Prediction 6 :27.600069332222336   Expected:29.299999999999997\n",
      "Prediction 6 :26.82782954737275   Expected:29.01\n",
      "Prediction 6 :26.707425433742255   Expected:28.13\n",
      "Prediction 6 :27.24538328403282   Expected:28.99\n",
      "Prediction 6 :26.982810766771482   Expected:28.360000000000003\n",
      "Prediction 6 :27.201958741731396   Expected:27.76\n",
      "Prediction 6 :26.731700780409685   Expected:27.26\n",
      "Prediction 6 :26.543843489712852   Expected:28.23\n",
      "Prediction 6 :26.459090998860862   Expected:27.12\n",
      "Prediction 6 :26.264555284300446   Expected:26.87\n",
      "Prediction 6 :26.16245600755177   Expected:27.61\n",
      "Prediction 6 :26.07165318004213   Expected:28.98\n",
      "Prediction 6 :26.923114879087674   Expected:28.01\n",
      "Prediction 6 :26.6515103707616   Expected:27.87\n",
      "Prediction 6 :26.387783014752202   Expected:27.449999999999996\n",
      "Prediction 6 :26.203519206808696   Expected:26.200000000000003\n",
      "Prediction 6 :25.951262259828773   Expected:28.51\n",
      "Prediction 6 :25.759399626842633   Expected:29.5\n",
      "Prediction 6 :25.334272121280055   Expected:26.700000000000003\n",
      "Prediction 6 :25.862764432642905   Expected:26.19\n",
      "Prediction 6 :26.04527333503141   Expected:25.85\n",
      "Prediction 6 :25.849564823158268   Expected:25.980000000000004\n",
      "Prediction 6 :25.360603319402603   Expected:28.18\n",
      "Prediction 6 :25.421105222040165   Expected:26.96\n",
      "Prediction 6 :25.61564212369443   Expected:29.880000000000003\n",
      "Prediction 6 :25.13825966939492   Expected:27.779999999999998\n",
      "Prediction 6 :25.329971190536003   Expected:29.76\n",
      "Prediction 7 :24.972393875740163   Expected:27.51\n",
      "Prediction 7 :25.183099153769145   Expected:29.75\n",
      "Prediction 7 :25.132128908182604   Expected:29.659999999999997\n",
      "Prediction 7 :24.986375331315273   Expected:29.14\n",
      "Prediction 7 :24.92029372157989   Expected:30.760000000000005\n",
      "Prediction 7 :25.145271159727926   Expected:28.09\n",
      "Prediction 7 :25.430720959340263   Expected:28.190000000000005\n",
      "Prediction 7 :25.50096342276503   Expected:28.22\n",
      "Prediction 7 :25.005911802530033   Expected:27.93\n",
      "Prediction 7 :25.543620480648478   Expected:25.55\n",
      "Prediction 7 :25.13948703141341   Expected:26.419999999999998\n",
      "Prediction 7 :25.11190251081883   Expected:25.52\n",
      "Prediction 7 :25.56588095353453   Expected:28.749999999999996\n",
      "Prediction 7 :25.19253480260093   Expected:28.01\n",
      "Prediction 7 :25.052727144581898   Expected:28.1\n",
      "Prediction 7 :25.16956863760256   Expected:26.35\n",
      "Prediction 7 :24.609261350329582   Expected:25.94\n",
      "Prediction 7 :24.761147293316906   Expected:28.249999999999996\n",
      "Prediction 7 :24.834929169429564   Expected:29.69\n",
      "Prediction 7 :24.982706621076264   Expected:28.82\n",
      "Prediction 7 :25.11866194852556   Expected:28.24\n",
      "Prediction 7 :25.004591510769885   Expected:27.949999999999996\n",
      "Prediction 7 :25.21515040696729   Expected:27.83\n",
      "Prediction 7 :25.003595070309288   Expected:28.67\n",
      "Prediction 7 :24.864750491789835   Expected:30.049999999999997\n",
      "Prediction 7 :25.13524778475184   Expected:28.21\n",
      "Prediction 7 :24.60844203376729   Expected:29.15\n",
      "Prediction 7 :24.595463417947023   Expected:29.7\n",
      "Prediction 7 :24.672226998011073   Expected:29.32\n",
      "Prediction 7 :24.84556385011317   Expected:27.949999999999996\n",
      "Prediction 8 :25.22324462029204   Expected:30.34\n",
      "Prediction 8 :25.267505577355426   Expected:30.630000000000003\n",
      "Prediction 8 :25.063543395319186   Expected:30.45\n",
      "Prediction 8 :24.85929464349686   Expected:29.630000000000003\n",
      "Prediction 8 :24.662825768694734   Expected:30.409999999999997\n",
      "Prediction 8 :24.968092028788657   Expected:31.11\n",
      "Prediction 8 :25.14938064103141   Expected:29.18\n",
      "Prediction 8 :24.826551413520264   Expected:29.59\n",
      "Prediction 8 :24.918312562440764   Expected:29.659999999999997\n",
      "Prediction 8 :24.862216069966347   Expected:28.800000000000004\n",
      "Prediction 8 :25.316735667557182   Expected:29.080000000000002\n",
      "Prediction 8 :25.43662132294121   Expected:28.77\n",
      "Prediction 8 :24.965642423132707   Expected:29.51\n",
      "Prediction 8 :25.0122717615925   Expected:27.48\n",
      "Prediction 8 :25.153800202120287   Expected:27.73\n",
      "Prediction 8 :25.17166573963324   Expected:28.53\n",
      "Prediction 8 :24.95581663100811   Expected:27.38\n",
      "Prediction 8 :24.957600904466766   Expected:29.48\n",
      "Prediction 8 :25.300172832072754   Expected:28.439999999999998\n",
      "Prediction 8 :25.350424053647103   Expected:28.65\n",
      "Prediction 8 :25.586820643302953   Expected:27.399999999999995\n",
      "Prediction 8 :25.92033150317834   Expected:30.03\n",
      "Prediction 8 :25.60182215688876   Expected:27.440000000000005\n",
      "Prediction 8 :25.723528358673786   Expected:27.04\n",
      "Prediction 8 :25.66985446777197   Expected:27.3\n",
      "Prediction 8 :25.584520113448995   Expected:27.58\n",
      "Prediction 8 :25.454519997669994   Expected:28.58\n",
      "Prediction 8 :25.499190751942358   Expected:29.330000000000002\n",
      "Prediction 8 :25.290044117258674   Expected:28.84\n",
      "Prediction 8 :25.65481893207835   Expected:28.190000000000005\n",
      "Prediction 9 :25.74003326552142   Expected:28.999999999999996\n",
      "Prediction 9 :25.47997051290207   Expected:28.68\n",
      "Prediction 9 :25.41830888980463   Expected:29.62\n",
      "Prediction 9 :25.1775478149684   Expected:30.079999999999995\n",
      "Prediction 9 :25.484972983739258   Expected:29.29\n",
      "Prediction 9 :25.787897897488744   Expected:29.270000000000003\n",
      "Prediction 9 :25.914806974257466   Expected:27.24\n",
      "Prediction 9 :25.942164336164797   Expected:28.439999999999998\n",
      "Prediction 9 :25.832215860621666   Expected:26.899999999999995\n",
      "Prediction 9 :25.795001421106967   Expected:28.22\n",
      "Prediction 9 :25.68583828485619   Expected:28.83\n",
      "Prediction 9 :25.74536021201584   Expected:28.51\n",
      "Prediction 9 :25.65287089317002   Expected:28.22\n",
      "Prediction 9 :25.442937543848753   Expected:27.97\n",
      "Prediction 9 :25.56406475539345   Expected:29.56\n",
      "Prediction 9 :25.099855430671674   Expected:29.23\n",
      "Prediction 9 :25.548149835333255   Expected:28.050000000000004\n",
      "Prediction 9 :25.692311826125675   Expected:28.939999999999998\n",
      "Prediction 9 :25.656541813161738   Expected:29.080000000000002\n",
      "Prediction 9 :25.57465273337312   Expected:29.76\n",
      "Prediction 9 :25.55345472546727   Expected:29.080000000000002\n",
      "Prediction 9 :25.42506789915678   Expected:27.62\n",
      "Prediction 9 :25.5890671014094   Expected:28.910000000000004\n",
      "Prediction 9 :25.42671242354258   Expected:26.729999999999997\n",
      "Prediction 9 :25.331542040065475   Expected:26.58\n",
      "Prediction 9 :25.13622732529217   Expected:26.5\n",
      "Prediction 9 :24.766089401111063   Expected:26.239999999999995\n",
      "Prediction 9 :25.09519233570932   Expected:27.42\n",
      "Prediction 9 :25.26654455768036   Expected:27.05\n",
      "Prediction 9 :25.16113356245333   Expected:27.449999999999996\n",
      "Prediction 10 :25.294282044127275   Expected:26.69\n",
      "Prediction 10 :25.378691742520378   Expected:26.44\n",
      "Prediction 10 :25.286484339582245   Expected:26.280000000000005\n",
      "Prediction 10 :25.247992891131375   Expected:25.55\n",
      "Prediction 10 :25.120565369855907   Expected:26.39\n",
      "Prediction 10 :25.36085432850821   Expected:26.75\n",
      "Prediction 10 :25.4259693899431   Expected:26.94\n",
      "Prediction 10 :25.527331448181133   Expected:27.399999999999995\n",
      "Prediction 10 :25.361440265434204   Expected:27.92\n",
      "Prediction 10 :25.11233093753732   Expected:27.87\n",
      "Prediction 10 :25.06133120480991   Expected:27.92\n",
      "Prediction 10 :24.784267658989364   Expected:27.66\n",
      "Prediction 10 :24.660450545277456   Expected:26.25\n",
      "Prediction 10 :24.853356105080803   Expected:25.980000000000004\n",
      "Prediction 10 :24.749442512100103   Expected:26.25\n",
      "Prediction 10 :25.066718116793556   Expected:26.039999999999996\n",
      "Prediction 10 :25.133720211746947   Expected:25.489999999999995\n",
      "Prediction 10 :25.092392879352214   Expected:26.179999999999996\n",
      "Prediction 10 :25.1706173742339   Expected:25.47\n",
      "Prediction 10 :25.336144156891244   Expected:25.370000000000005\n",
      "Prediction 10 :25.073311917354218   Expected:25.52\n",
      "Prediction 10 :25.062495423034598   Expected:28.999999999999996\n",
      "Prediction 10 :25.31018387035403   Expected:28.000000000000004\n",
      "Prediction 10 :25.48537888504445   Expected:27.0\n",
      "Prediction 10 :25.49007369330909   Expected:25.650000000000002\n",
      "Prediction 10 :25.39942645117733   Expected:26.08\n",
      "Prediction 10 :25.457264509586018   Expected:26.74\n",
      "Prediction 10 :25.317835754869417   Expected:26.31\n",
      "Prediction 10 :25.126900003884188   Expected:26.0\n",
      "Prediction 10 :25.110352107066614   Expected:24.55\n",
      "Prediction 11 :25.183109034125863   Expected:24.65\n",
      "Prediction 11 :25.1767537391098   Expected:25.009999999999998\n",
      "Prediction 11 :25.19034814233001   Expected:25.790000000000003\n",
      "Prediction 11 :25.38945662681515   Expected:25.259999999999998\n",
      "Prediction 11 :25.34410772517392   Expected:26.82\n",
      "Prediction 11 :25.029564103418405   Expected:27.55\n",
      "Prediction 11 :25.028533652197556   Expected:27.26\n",
      "Prediction 11 :24.919757046252396   Expected:26.669999999999998\n",
      "Prediction 11 :25.108959585278917   Expected:27.04\n",
      "Prediction 11 :25.47803393299531   Expected:25.81\n",
      "Prediction 11 :25.50615413459503   Expected:25.11\n",
      "Prediction 11 :25.48419127277015   Expected:23.96\n",
      "Prediction 11 :25.374104683499144   Expected:23.94\n",
      "Prediction 11 :25.3925985490311   Expected:24.69\n",
      "Prediction 11 :25.630344202194145   Expected:27.190000000000005\n",
      "Prediction 11 :25.60303099337119   Expected:28.07\n",
      "Prediction 11 :25.38529998564129   Expected:27.560000000000002\n",
      "Prediction 11 :25.33125685381475   Expected:28.71\n",
      "Prediction 11 :25.06277858143883   Expected:28.95\n",
      "Prediction 11 :25.015088602282752   Expected:28.800000000000004\n",
      "Prediction 11 :25.13743894257055   Expected:28.67\n",
      "Prediction 11 :25.008527444644407   Expected:26.94\n",
      "Prediction 11 :25.064233132955867   Expected:26.21\n",
      "Prediction 11 :25.03711812858422   Expected:26.890000000000004\n",
      "Prediction 11 :24.941952998373   Expected:27.250000000000004\n",
      "Prediction 11 :25.307263253298768   Expected:27.74\n",
      "Prediction 11 :25.35395871663998   Expected:28.720000000000002\n",
      "Prediction 11 :25.251826471810862   Expected:28.809999999999995\n",
      "Prediction 11 :25.156409879097613   Expected:28.610000000000003\n",
      "Prediction 11 :25.221832646921065   Expected:28.6\n",
      "Prediction 12 :25.230250928963848   Expected:29.359999999999996\n",
      "Prediction 12 :25.582491998529967   Expected:29.12\n",
      "Prediction 12 :25.387585386515227   Expected:28.050000000000004\n",
      "Prediction 12 :25.50617789508089   Expected:29.26\n",
      "Prediction 12 :26.047600773763808   Expected:28.559999999999995\n"
     ]
    }
   ],
   "source": [
    "for i in range(len(test)):\n",
    "    print(\"Prediction {} :{}   Expected:{}\".format(int(i/30), prediction[i], test[i]))"
   ]
  },
  {
   "cell_type": "code",
   "execution_count": 170,
   "id": "c77fa83d",
   "metadata": {},
   "outputs": [
    {
     "name": "stdout",
     "output_type": "stream",
     "text": [
      "3.542155195859279\n",
      "2.947040487614295\n"
     ]
    }
   ],
   "source": [
    "rmse= mse(test, prediction, squared=False)\n",
    "print(rmse) # printing the root mean squared error\n",
    "mae1= mae(test, prediction)\n",
    "print(mae1) # Printing the mean absolute error"
   ]
  },
  {
   "cell_type": "code",
   "execution_count": 169,
   "id": "da281441",
   "metadata": {
    "scrolled": false
   },
   "outputs": [
    {
     "data": {
      "image/png": "[encoded data removed]",
      "text/plain": [
       "<Figure size 1000x600 with 1 Axes>"
      ]
     },
     "metadata": {},
     "output_type": "display_data"
    }
   ],
   "source": [
    "# Comparison of predictions in the form of graph\n",
    "ax = test.plot(\n",
    "    figsize=(10, 6),\n",
    "    color=\"blue\",\n",
    "    title=\"Forecasts from Holt-Winters' multiplicative method\",\n",
    ")\n",
    "ax.set_ylabel(\"Temp_max\")\n",
    "ax.set_xlabel(\"Year\")\n",
    "\n",
    "prediction.rename(\"Holt-Winters (add-add-seasonal)\").plot(ax=ax, color=\"red\", legend=True)     \n",
    "\n",
    "plt.show() "
   ]
  },
  {
   "cell_type": "code",
   "execution_count": 85,
   "id": "796264f9",
   "metadata": {},
   "outputs": [
    {
     "data": {
      "text/html": [
       "<div>\n",
       "<style scoped>\n",
       "    .dataframe tbody tr th:only-of-type {\n",
       "        vertical-align: middle;\n",
       "    }\n",
       "\n",
       "    .dataframe tbody tr th {\n",
       "        vertical-align: top;\n",
       "    }\n",
       "\n",
       "    .dataframe thead th {\n",
       "        text-align: right;\n",
       "    }\n",
       "</style>\n",
       "<table border=\"1\" class=\"dataframe\">\n",
       "  <thead>\n",
       "    <tr style=\"text-align: right;\">\n",
       "      <th></th>\n",
       "      <th>temp_max</th>\n",
       "      <th>rainfall</th>\n",
       "      <th>pressure</th>\n",
       "    </tr>\n",
       "    <tr>\n",
       "      <th>Date</th>\n",
       "      <th></th>\n",
       "      <th></th>\n",
       "      <th></th>\n",
       "    </tr>\n",
       "  </thead>\n",
       "  <tbody>\n",
       "    <tr>\n",
       "      <th>1991-01-01</th>\n",
       "      <td>0.5666</td>\n",
       "      <td>0.0</td>\n",
       "      <td>0.9729</td>\n",
       "    </tr>\n",
       "    <tr>\n",
       "      <th>1991-01-02</th>\n",
       "      <td>0.5512</td>\n",
       "      <td>0.0</td>\n",
       "      <td>0.9729</td>\n",
       "    </tr>\n",
       "    <tr>\n",
       "      <th>1991-01-03</th>\n",
       "      <td>0.4904</td>\n",
       "      <td>0.0</td>\n",
       "      <td>0.9751</td>\n",
       "    </tr>\n",
       "    <tr>\n",
       "      <th>1991-01-04</th>\n",
       "      <td>0.5208</td>\n",
       "      <td>0.0</td>\n",
       "      <td>0.9764</td>\n",
       "    </tr>\n",
       "    <tr>\n",
       "      <th>1991-01-05</th>\n",
       "      <td>0.5652</td>\n",
       "      <td>0.0</td>\n",
       "      <td>0.9758</td>\n",
       "    </tr>\n",
       "    <tr>\n",
       "      <th>...</th>\n",
       "      <td>...</td>\n",
       "      <td>...</td>\n",
       "      <td>...</td>\n",
       "    </tr>\n",
       "    <tr>\n",
       "      <th>2020-12-27</th>\n",
       "      <td>0.5884</td>\n",
       "      <td>0.0</td>\n",
       "      <td>0.9753</td>\n",
       "    </tr>\n",
       "    <tr>\n",
       "      <th>2020-12-28</th>\n",
       "      <td>0.5952</td>\n",
       "      <td>0.0</td>\n",
       "      <td>0.9745</td>\n",
       "    </tr>\n",
       "    <tr>\n",
       "      <th>2020-12-29</th>\n",
       "      <td>0.5860</td>\n",
       "      <td>0.0</td>\n",
       "      <td>0.9747</td>\n",
       "    </tr>\n",
       "    <tr>\n",
       "      <th>2020-12-30</th>\n",
       "      <td>0.5730</td>\n",
       "      <td>0.0</td>\n",
       "      <td>0.9756</td>\n",
       "    </tr>\n",
       "    <tr>\n",
       "      <th>2020-12-31</th>\n",
       "      <td>0.5652</td>\n",
       "      <td>0.0</td>\n",
       "      <td>0.9762</td>\n",
       "    </tr>\n",
       "  </tbody>\n",
       "</table>\n",
       "<p>10958 rows × 3 columns</p>\n",
       "</div>"
      ],
      "text/plain": [
       "            temp_max  rainfall  pressure\n",
       "Date                                    \n",
       "1991-01-01    0.5666       0.0    0.9729\n",
       "1991-01-02    0.5512       0.0    0.9729\n",
       "1991-01-03    0.4904       0.0    0.9751\n",
       "1991-01-04    0.5208       0.0    0.9764\n",
       "1991-01-05    0.5652       0.0    0.9758\n",
       "...              ...       ...       ...\n",
       "2020-12-27    0.5884       0.0    0.9753\n",
       "2020-12-28    0.5952       0.0    0.9745\n",
       "2020-12-29    0.5860       0.0    0.9747\n",
       "2020-12-30    0.5730       0.0    0.9756\n",
       "2020-12-31    0.5652       0.0    0.9762\n",
       "\n",
       "[10958 rows x 3 columns]"
      ]
     },
     "execution_count": 85,
     "metadata": {},
     "output_type": "execute_result"
    }
   ],
   "source": [
    "df1"
   ]
  },
  {
   "cell_type": "code",
   "execution_count": 15,
   "id": "2ddda80b",
   "metadata": {},
   "outputs": [],
   "source": [
    "#  Data preparation for LSTM\n",
    "def create_data(df, lookback=365):\n",
    "    df_np= df.to_numpy()\n",
    "    X=[]\n",
    "    y=[]\n",
    "    \n",
    "    for i in range(len(df_np)-2*lookback):\n",
    "        row = [x for x in df_np[i:i+lookback]]\n",
    "        X.append(row)\n",
    "        label = [z[0] for z in df_np[i+lookback:i+(2*lookback)]] # It will map the temperature and rainfall of [i]th day to i+365th day temperature\n",
    "        y.append(label)\n",
    "    return np.array(X), np.array(y)\n",
    "    "
   ]
  },
  {
   "cell_type": "code",
   "execution_count": 16,
   "id": "2416112d",
   "metadata": {},
   "outputs": [],
   "source": [
    "X,y = create_data(df1)"
   ]
  },
  {
   "cell_type": "code",
   "execution_count": 17,
   "id": "96c005ee",
   "metadata": {
    "scrolled": true
   },
   "outputs": [
    {
     "data": {
      "text/plain": [
       "((10228, 365, 2), (10228, 365))"
      ]
     },
     "execution_count": 17,
     "metadata": {},
     "output_type": "execute_result"
    }
   ],
   "source": [
    "X.shape, y.shape"
   ]
  },
  {
   "cell_type": "code",
   "execution_count": 18,
   "id": "759c7262",
   "metadata": {},
   "outputs": [],
   "source": [
    "X_train, y_train, X_test, y_test = X[:9265], y[:9265], X[9265:], y[9265:]\n",
    "X_train, y_train, X_val, y_val= X_train[:8242], y_train[:8242], X_train[8242:9265], y_train[8242:9265]"
   ]
  },
  {
   "cell_type": "code",
   "execution_count": 19,
   "id": "b89dfc40",
   "metadata": {},
   "outputs": [
    {
     "data": {
      "text/plain": [
       "(8242, 1023, 963)"
      ]
     },
     "execution_count": 19,
     "metadata": {},
     "output_type": "execute_result"
    }
   ],
   "source": [
    "len(X_train), len(X_val), len(X_test)"
   ]
  },
  {
   "cell_type": "code",
   "execution_count": 20,
   "id": "0e3cd1ea",
   "metadata": {
    "scrolled": true
   },
   "outputs": [
    {
     "data": {
      "text/plain": [
       "((8242, 365, 2), (8242, 365))"
      ]
     },
     "execution_count": 20,
     "metadata": {},
     "output_type": "execute_result"
    }
   ],
   "source": [
    "X_train.shape, y_train.shape"
   ]
  },
  {
   "cell_type": "code",
   "execution_count": 21,
   "id": "10c7f394",
   "metadata": {},
   "outputs": [],
   "source": [
    "from tensorflow.keras.models import Sequential\n",
    "from tensorflow.keras.layers import *\n"
   ]
  },
  {
   "cell_type": "code",
   "execution_count": 24,
   "id": "011a641b",
   "metadata": {},
   "outputs": [],
   "source": [
    "\n",
    "from tensorflow.keras.losses import MeanSquaredError\n",
    "from tensorflow.keras.callbacks import ModelCheckpoint\n",
    "from tensorflow.keras.metrics import MeanAbsolutePercentageError\n",
    "from tensorflow.keras.optimizers import Adam\n"
   ]
  },
  {
   "cell_type": "code",
   "execution_count": 25,
   "id": "d834cb1c",
   "metadata": {
    "scrolled": true
   },
   "outputs": [
    {
     "name": "stdout",
     "output_type": "stream",
     "text": [
      "Model: \"sequential_1\"\n",
      "_________________________________________________________________\n",
      " Layer (type)                Output Shape              Param #   \n",
      "=================================================================\n",
      " lstm_1 (LSTM)               (None, 128)               67072     \n",
      "                                                                 \n",
      " dropout_1 (Dropout)         (None, 128)               0         \n",
      "                                                                 \n",
      " dense_2 (Dense)             (None, 512)               66048     \n",
      "                                                                 \n",
      " dense_3 (Dense)             (None, 365)               187245    \n",
      "                                                                 \n",
      "=================================================================\n",
      "Total params: 320,365\n",
      "Trainable params: 320,365\n",
      "Non-trainable params: 0\n",
      "_________________________________________________________________\n"
     ]
    }
   ],
   "source": [
    "# LSTM\n",
    "adilabad_temp= Sequential([\n",
    "    InputLayer((365,2)),\n",
    "    LSTM(units=128),\n",
    "    Dropout(0.2),\n",
    "    Dense(512, activation='relu'),\n",
    "    Dense(365, activation='relu'),  \n",
    "])\n",
    "\n",
    "adilabad_temp.summary()"
   ]
  },
  {
   "cell_type": "code",
   "execution_count": 26,
   "id": "7aa9b814",
   "metadata": {
    "scrolled": true
   },
   "outputs": [
    {
     "name": "stdout",
     "output_type": "stream",
     "text": [
      "Epoch 1/200\n",
      "257/258 [============================>.] - ETA: 0s - loss: 0.0634 - mean_absolute_percentage_error: 24.3541"
     ]
    },
    {
     "name": "stderr",
     "output_type": "stream",
     "text": [
      "WARNING:absl:Found untraced functions such as lstm_cell_1_layer_call_fn, lstm_cell_1_layer_call_and_return_conditional_losses while saving (showing 2 of 2). These functions will not be directly callable after loading.\n"
     ]
    },
    {
     "name": "stdout",
     "output_type": "stream",
     "text": [
      "INFO:tensorflow:Assets written to: adilabad_temp\\assets\n"
     ]
    },
    {
     "name": "stderr",
     "output_type": "stream",
     "text": [
      "INFO:tensorflow:Assets written to: adilabad_temp\\assets\n"
     ]
    },
    {
     "name": "stdout",
     "output_type": "stream",
     "text": [
      "258/258 [==============================] - 28s 81ms/step - loss: 0.0634 - mean_absolute_percentage_error: 24.3438 - val_loss: 0.0464 - val_mean_absolute_percentage_error: 17.7052\n",
      "Epoch 2/200\n",
      "257/258 [============================>.] - ETA: 0s - loss: 0.0428 - mean_absolute_percentage_error: 17.8373"
     ]
    },
    {
     "name": "stderr",
     "output_type": "stream",
     "text": [
      "WARNING:absl:Found untraced functions such as lstm_cell_1_layer_call_fn, lstm_cell_1_layer_call_and_return_conditional_losses while saving (showing 2 of 2). These functions will not be directly callable after loading.\n"
     ]
    },
    {
     "name": "stdout",
     "output_type": "stream",
     "text": [
      "INFO:tensorflow:Assets written to: adilabad_temp\\assets\n"
     ]
    },
    {
     "name": "stderr",
     "output_type": "stream",
     "text": [
      "INFO:tensorflow:Assets written to: adilabad_temp\\assets\n"
     ]
    },
    {
     "name": "stdout",
     "output_type": "stream",
     "text": [
      "258/258 [==============================] - 20s 77ms/step - loss: 0.0428 - mean_absolute_percentage_error: 17.8315 - val_loss: 0.0388 - val_mean_absolute_percentage_error: 15.0105\n",
      "Epoch 3/200\n",
      "258/258 [==============================] - ETA: 0s - loss: 0.0305 - mean_absolute_percentage_error: 12.6328"
     ]
    },
    {
     "name": "stderr",
     "output_type": "stream",
     "text": [
      "WARNING:absl:Found untraced functions such as lstm_cell_1_layer_call_fn, lstm_cell_1_layer_call_and_return_conditional_losses while saving (showing 2 of 2). These functions will not be directly callable after loading.\n"
     ]
    },
    {
     "name": "stdout",
     "output_type": "stream",
     "text": [
      "INFO:tensorflow:Assets written to: adilabad_temp\\assets\n"
     ]
    },
    {
     "name": "stderr",
     "output_type": "stream",
     "text": [
      "INFO:tensorflow:Assets written to: adilabad_temp\\assets\n"
     ]
    },
    {
     "name": "stdout",
     "output_type": "stream",
     "text": [
      "258/258 [==============================] - 20s 75ms/step - loss: 0.0305 - mean_absolute_percentage_error: 12.6328 - val_loss: 0.0274 - val_mean_absolute_percentage_error: 11.7581\n",
      "Epoch 4/200\n",
      "258/258 [==============================] - ETA: 0s - loss: 0.0216 - mean_absolute_percentage_error: 10.2637"
     ]
    },
    {
     "name": "stderr",
     "output_type": "stream",
     "text": [
      "WARNING:absl:Found untraced functions such as lstm_cell_1_layer_call_fn, lstm_cell_1_layer_call_and_return_conditional_losses while saving (showing 2 of 2). These functions will not be directly callable after loading.\n"
     ]
    },
    {
     "name": "stdout",
     "output_type": "stream",
     "text": [
      "INFO:tensorflow:Assets written to: adilabad_temp\\assets\n"
     ]
    },
    {
     "name": "stderr",
     "output_type": "stream",
     "text": [
      "INFO:tensorflow:Assets written to: adilabad_temp\\assets\n"
     ]
    },
    {
     "name": "stdout",
     "output_type": "stream",
     "text": [
      "258/258 [==============================] - 20s 77ms/step - loss: 0.0216 - mean_absolute_percentage_error: 10.2637 - val_loss: 0.0164 - val_mean_absolute_percentage_error: 9.4123\n",
      "Epoch 5/200\n",
      "258/258 [==============================] - ETA: 0s - loss: 0.0152 - mean_absolute_percentage_error: 8.5880"
     ]
    },
    {
     "name": "stderr",
     "output_type": "stream",
     "text": [
      "WARNING:absl:Found untraced functions such as lstm_cell_1_layer_call_fn, lstm_cell_1_layer_call_and_return_conditional_losses while saving (showing 2 of 2). These functions will not be directly callable after loading.\n"
     ]
    },
    {
     "name": "stdout",
     "output_type": "stream",
     "text": [
      "INFO:tensorflow:Assets written to: adilabad_temp\\assets\n"
     ]
    },
    {
     "name": "stderr",
     "output_type": "stream",
     "text": [
      "INFO:tensorflow:Assets written to: adilabad_temp\\assets\n"
     ]
    },
    {
     "name": "stdout",
     "output_type": "stream",
     "text": [
      "258/258 [==============================] - 19s 75ms/step - loss: 0.0152 - mean_absolute_percentage_error: 8.5880 - val_loss: 0.0162 - val_mean_absolute_percentage_error: 9.3535\n",
      "Epoch 6/200\n",
      "257/258 [============================>.] - ETA: 0s - loss: 0.0151 - mean_absolute_percentage_error: 8.4832"
     ]
    },
    {
     "name": "stderr",
     "output_type": "stream",
     "text": [
      "WARNING:absl:Found untraced functions such as lstm_cell_1_layer_call_fn, lstm_cell_1_layer_call_and_return_conditional_losses while saving (showing 2 of 2). These functions will not be directly callable after loading.\n"
     ]
    },
    {
     "name": "stdout",
     "output_type": "stream",
     "text": [
      "INFO:tensorflow:Assets written to: adilabad_temp\\assets\n"
     ]
    },
    {
     "name": "stderr",
     "output_type": "stream",
     "text": [
      "INFO:tensorflow:Assets written to: adilabad_temp\\assets\n"
     ]
    },
    {
     "name": "stdout",
     "output_type": "stream",
     "text": [
      "258/258 [==============================] - 20s 79ms/step - loss: 0.0151 - mean_absolute_percentage_error: 8.4827 - val_loss: 0.0159 - val_mean_absolute_percentage_error: 9.0561\n",
      "Epoch 7/200\n",
      "257/258 [============================>.] - ETA: 0s - loss: 0.0134 - mean_absolute_percentage_error: 8.0006"
     ]
    },
    {
     "name": "stderr",
     "output_type": "stream",
     "text": [
      "WARNING:absl:Found untraced functions such as lstm_cell_1_layer_call_fn, lstm_cell_1_layer_call_and_return_conditional_losses while saving (showing 2 of 2). These functions will not be directly callable after loading.\n"
     ]
    },
    {
     "name": "stdout",
     "output_type": "stream",
     "text": [
      "INFO:tensorflow:Assets written to: adilabad_temp\\assets\n"
     ]
    },
    {
     "name": "stderr",
     "output_type": "stream",
     "text": [
      "INFO:tensorflow:Assets written to: adilabad_temp\\assets\n"
     ]
    },
    {
     "name": "stdout",
     "output_type": "stream",
     "text": [
      "258/258 [==============================] - 19s 75ms/step - loss: 0.0134 - mean_absolute_percentage_error: 7.9994 - val_loss: 0.0133 - val_mean_absolute_percentage_error: 8.4285\n",
      "Epoch 8/200\n",
      "257/258 [============================>.] - ETA: 0s - loss: 0.0124 - mean_absolute_percentage_error: 7.7909"
     ]
    },
    {
     "name": "stderr",
     "output_type": "stream",
     "text": [
      "WARNING:absl:Found untraced functions such as lstm_cell_1_layer_call_fn, lstm_cell_1_layer_call_and_return_conditional_losses while saving (showing 2 of 2). These functions will not be directly callable after loading.\n"
     ]
    },
    {
     "name": "stdout",
     "output_type": "stream",
     "text": [
      "INFO:tensorflow:Assets written to: adilabad_temp\\assets\n"
     ]
    },
    {
     "name": "stderr",
     "output_type": "stream",
     "text": [
      "INFO:tensorflow:Assets written to: adilabad_temp\\assets\n"
     ]
    },
    {
     "name": "stdout",
     "output_type": "stream",
     "text": [
      "258/258 [==============================] - 22s 85ms/step - loss: 0.0124 - mean_absolute_percentage_error: 7.7913 - val_loss: 0.0132 - val_mean_absolute_percentage_error: 8.3851\n",
      "Epoch 9/200\n",
      "257/258 [============================>.] - ETA: 0s - loss: 0.0124 - mean_absolute_percentage_error: 7.7264"
     ]
    },
    {
     "name": "stderr",
     "output_type": "stream",
     "text": [
      "WARNING:absl:Found untraced functions such as lstm_cell_1_layer_call_fn, lstm_cell_1_layer_call_and_return_conditional_losses while saving (showing 2 of 2). These functions will not be directly callable after loading.\n"
     ]
    },
    {
     "name": "stdout",
     "output_type": "stream",
     "text": [
      "INFO:tensorflow:Assets written to: adilabad_temp\\assets\n"
     ]
    },
    {
     "name": "stderr",
     "output_type": "stream",
     "text": [
      "INFO:tensorflow:Assets written to: adilabad_temp\\assets\n"
     ]
    },
    {
     "name": "stdout",
     "output_type": "stream",
     "text": [
      "258/258 [==============================] - 20s 77ms/step - loss: 0.0124 - mean_absolute_percentage_error: 7.7258 - val_loss: 0.0132 - val_mean_absolute_percentage_error: 8.3051\n",
      "Epoch 10/200\n",
      "258/258 [==============================] - 14s 55ms/step - loss: 0.0123 - mean_absolute_percentage_error: 7.6871 - val_loss: 0.0134 - val_mean_absolute_percentage_error: 8.5499\n",
      "Epoch 11/200\n",
      "257/258 [============================>.] - ETA: 0s - loss: 0.0123 - mean_absolute_percentage_error: 7.6307"
     ]
    },
    {
     "name": "stderr",
     "output_type": "stream",
     "text": [
      "WARNING:absl:Found untraced functions such as lstm_cell_1_layer_call_fn, lstm_cell_1_layer_call_and_return_conditional_losses while saving (showing 2 of 2). These functions will not be directly callable after loading.\n"
     ]
    },
    {
     "name": "stdout",
     "output_type": "stream",
     "text": [
      "INFO:tensorflow:Assets written to: adilabad_temp\\assets\n"
     ]
    },
    {
     "name": "stderr",
     "output_type": "stream",
     "text": [
      "INFO:tensorflow:Assets written to: adilabad_temp\\assets\n"
     ]
    },
    {
     "name": "stdout",
     "output_type": "stream",
     "text": [
      "258/258 [==============================] - 20s 78ms/step - loss: 0.0123 - mean_absolute_percentage_error: 7.6313 - val_loss: 0.0130 - val_mean_absolute_percentage_error: 8.0993\n",
      "Epoch 12/200\n",
      "257/258 [============================>.] - ETA: 0s - loss: 0.0123 - mean_absolute_percentage_error: 7.6630"
     ]
    },
    {
     "name": "stderr",
     "output_type": "stream",
     "text": [
      "WARNING:absl:Found untraced functions such as lstm_cell_1_layer_call_fn, lstm_cell_1_layer_call_and_return_conditional_losses while saving (showing 2 of 2). These functions will not be directly callable after loading.\n"
     ]
    },
    {
     "name": "stdout",
     "output_type": "stream",
     "text": [
      "INFO:tensorflow:Assets written to: adilabad_temp\\assets\n"
     ]
    },
    {
     "name": "stderr",
     "output_type": "stream",
     "text": [
      "INFO:tensorflow:Assets written to: adilabad_temp\\assets\n"
     ]
    },
    {
     "name": "stdout",
     "output_type": "stream",
     "text": [
      "258/258 [==============================] - 20s 76ms/step - loss: 0.0123 - mean_absolute_percentage_error: 7.6622 - val_loss: 0.0129 - val_mean_absolute_percentage_error: 7.9516\n",
      "Epoch 13/200\n",
      "257/258 [============================>.] - ETA: 0s - loss: 0.0123 - mean_absolute_percentage_error: 7.6387"
     ]
    },
    {
     "name": "stderr",
     "output_type": "stream",
     "text": [
      "WARNING:absl:Found untraced functions such as lstm_cell_1_layer_call_fn, lstm_cell_1_layer_call_and_return_conditional_losses while saving (showing 2 of 2). These functions will not be directly callable after loading.\n"
     ]
    },
    {
     "name": "stdout",
     "output_type": "stream",
     "text": [
      "INFO:tensorflow:Assets written to: adilabad_temp\\assets\n"
     ]
    },
    {
     "name": "stderr",
     "output_type": "stream",
     "text": [
      "INFO:tensorflow:Assets written to: adilabad_temp\\assets\n"
     ]
    },
    {
     "name": "stdout",
     "output_type": "stream",
     "text": [
      "258/258 [==============================] - 19s 75ms/step - loss: 0.0123 - mean_absolute_percentage_error: 7.6389 - val_loss: 0.0129 - val_mean_absolute_percentage_error: 7.9237\n",
      "Epoch 14/200\n",
      "257/258 [============================>.] - ETA: 0s - loss: 0.0107 - mean_absolute_percentage_error: 7.2935"
     ]
    },
    {
     "name": "stderr",
     "output_type": "stream",
     "text": [
      "WARNING:absl:Found untraced functions such as lstm_cell_1_layer_call_fn, lstm_cell_1_layer_call_and_return_conditional_losses while saving (showing 2 of 2). These functions will not be directly callable after loading.\n"
     ]
    },
    {
     "name": "stdout",
     "output_type": "stream",
     "text": [
      "INFO:tensorflow:Assets written to: adilabad_temp\\assets\n"
     ]
    },
    {
     "name": "stderr",
     "output_type": "stream",
     "text": [
      "INFO:tensorflow:Assets written to: adilabad_temp\\assets\n"
     ]
    },
    {
     "name": "stdout",
     "output_type": "stream",
     "text": [
      "258/258 [==============================] - 26s 101ms/step - loss: 0.0107 - mean_absolute_percentage_error: 7.2931 - val_loss: 0.0103 - val_mean_absolute_percentage_error: 7.4198\n",
      "Epoch 15/200\n",
      "258/258 [==============================] - ETA: 0s - loss: 0.0086 - mean_absolute_percentage_error: 6.8185"
     ]
    },
    {
     "name": "stderr",
     "output_type": "stream",
     "text": [
      "WARNING:absl:Found untraced functions such as lstm_cell_1_layer_call_fn, lstm_cell_1_layer_call_and_return_conditional_losses while saving (showing 2 of 2). These functions will not be directly callable after loading.\n"
     ]
    },
    {
     "name": "stdout",
     "output_type": "stream",
     "text": [
      "INFO:tensorflow:Assets written to: adilabad_temp\\assets\n"
     ]
    },
    {
     "name": "stderr",
     "output_type": "stream",
     "text": [
      "INFO:tensorflow:Assets written to: adilabad_temp\\assets\n"
     ]
    },
    {
     "name": "stdout",
     "output_type": "stream",
     "text": [
      "258/258 [==============================] - 21s 81ms/step - loss: 0.0086 - mean_absolute_percentage_error: 6.8185 - val_loss: 0.0098 - val_mean_absolute_percentage_error: 7.8762\n",
      "Epoch 16/200\n",
      "257/258 [============================>.] - ETA: 0s - loss: 0.0085 - mean_absolute_percentage_error: 6.8150"
     ]
    },
    {
     "name": "stderr",
     "output_type": "stream",
     "text": [
      "WARNING:absl:Found untraced functions such as lstm_cell_1_layer_call_fn, lstm_cell_1_layer_call_and_return_conditional_losses while saving (showing 2 of 2). These functions will not be directly callable after loading.\n"
     ]
    },
    {
     "name": "stdout",
     "output_type": "stream",
     "text": [
      "INFO:tensorflow:Assets written to: adilabad_temp\\assets\n"
     ]
    },
    {
     "name": "stderr",
     "output_type": "stream",
     "text": [
      "INFO:tensorflow:Assets written to: adilabad_temp\\assets\n"
     ]
    },
    {
     "name": "stdout",
     "output_type": "stream",
     "text": [
      "258/258 [==============================] - 20s 79ms/step - loss: 0.0085 - mean_absolute_percentage_error: 6.8157 - val_loss: 0.0090 - val_mean_absolute_percentage_error: 7.1242\n",
      "Epoch 17/200\n",
      "257/258 [============================>.] - ETA: 0s - loss: 0.0085 - mean_absolute_percentage_error: 6.8032"
     ]
    },
    {
     "name": "stderr",
     "output_type": "stream",
     "text": [
      "WARNING:absl:Found untraced functions such as lstm_cell_1_layer_call_fn, lstm_cell_1_layer_call_and_return_conditional_losses while saving (showing 2 of 2). These functions will not be directly callable after loading.\n"
     ]
    },
    {
     "name": "stdout",
     "output_type": "stream",
     "text": [
      "INFO:tensorflow:Assets written to: adilabad_temp\\assets\n"
     ]
    },
    {
     "name": "stderr",
     "output_type": "stream",
     "text": [
      "INFO:tensorflow:Assets written to: adilabad_temp\\assets\n"
     ]
    },
    {
     "name": "stdout",
     "output_type": "stream",
     "text": [
      "258/258 [==============================] - 20s 76ms/step - loss: 0.0085 - mean_absolute_percentage_error: 6.8031 - val_loss: 0.0089 - val_mean_absolute_percentage_error: 7.0519\n",
      "Epoch 18/200\n",
      "258/258 [==============================] - 14s 54ms/step - loss: 0.0085 - mean_absolute_percentage_error: 6.7989 - val_loss: 0.0091 - val_mean_absolute_percentage_error: 7.2431\n",
      "Epoch 19/200\n",
      "258/258 [==============================] - 16s 63ms/step - loss: 0.0085 - mean_absolute_percentage_error: 6.7837 - val_loss: 0.0090 - val_mean_absolute_percentage_error: 7.1947\n",
      "Epoch 20/200\n",
      "258/258 [==============================] - 22s 87ms/step - loss: 0.0085 - mean_absolute_percentage_error: 6.7826 - val_loss: 0.0093 - val_mean_absolute_percentage_error: 7.4673\n",
      "Epoch 21/200\n",
      "258/258 [==============================] - 7s 29ms/step - loss: 0.0085 - mean_absolute_percentage_error: 6.7734 - val_loss: 0.0091 - val_mean_absolute_percentage_error: 7.2456\n",
      "Epoch 22/200\n",
      "257/258 [============================>.] - ETA: 0s - loss: 0.0083 - mean_absolute_percentage_error: 6.6976"
     ]
    },
    {
     "name": "stderr",
     "output_type": "stream",
     "text": [
      "WARNING:absl:Found untraced functions such as lstm_cell_1_layer_call_fn, lstm_cell_1_layer_call_and_return_conditional_losses while saving (showing 2 of 2). These functions will not be directly callable after loading.\n"
     ]
    },
    {
     "name": "stdout",
     "output_type": "stream",
     "text": [
      "INFO:tensorflow:Assets written to: adilabad_temp\\assets\n"
     ]
    },
    {
     "name": "stderr",
     "output_type": "stream",
     "text": [
      "INFO:tensorflow:Assets written to: adilabad_temp\\assets\n"
     ]
    },
    {
     "name": "stdout",
     "output_type": "stream",
     "text": [
      "258/258 [==============================] - 13s 50ms/step - loss: 0.0083 - mean_absolute_percentage_error: 6.6967 - val_loss: 0.0077 - val_mean_absolute_percentage_error: 6.8419\n",
      "Epoch 23/200\n",
      "258/258 [==============================] - 8s 32ms/step - loss: 0.0072 - mean_absolute_percentage_error: 6.4337 - val_loss: 0.0078 - val_mean_absolute_percentage_error: 7.0822\n",
      "Epoch 24/200\n",
      "258/258 [==============================] - ETA: 0s - loss: 0.0072 - mean_absolute_percentage_error: 6.4509"
     ]
    },
    {
     "name": "stderr",
     "output_type": "stream",
     "text": [
      "WARNING:absl:Found untraced functions such as lstm_cell_1_layer_call_fn, lstm_cell_1_layer_call_and_return_conditional_losses while saving (showing 2 of 2). These functions will not be directly callable after loading.\n"
     ]
    },
    {
     "name": "stdout",
     "output_type": "stream",
     "text": [
      "INFO:tensorflow:Assets written to: adilabad_temp\\assets\n"
     ]
    },
    {
     "name": "stderr",
     "output_type": "stream",
     "text": [
      "INFO:tensorflow:Assets written to: adilabad_temp\\assets\n"
     ]
    },
    {
     "name": "stdout",
     "output_type": "stream",
     "text": [
      "258/258 [==============================] - 12s 47ms/step - loss: 0.0072 - mean_absolute_percentage_error: 6.4509 - val_loss: 0.0075 - val_mean_absolute_percentage_error: 6.6264\n",
      "Epoch 25/200\n",
      "257/258 [============================>.] - ETA: 0s - loss: 0.0072 - mean_absolute_percentage_error: 6.4051"
     ]
    },
    {
     "name": "stderr",
     "output_type": "stream",
     "text": [
      "WARNING:absl:Found untraced functions such as lstm_cell_1_layer_call_fn, lstm_cell_1_layer_call_and_return_conditional_losses while saving (showing 2 of 2). These functions will not be directly callable after loading.\n"
     ]
    },
    {
     "name": "stdout",
     "output_type": "stream",
     "text": [
      "INFO:tensorflow:Assets written to: adilabad_temp\\assets\n"
     ]
    },
    {
     "name": "stderr",
     "output_type": "stream",
     "text": [
      "INFO:tensorflow:Assets written to: adilabad_temp\\assets\n"
     ]
    },
    {
     "name": "stdout",
     "output_type": "stream",
     "text": [
      "258/258 [==============================] - 13s 49ms/step - loss: 0.0072 - mean_absolute_percentage_error: 6.4050 - val_loss: 0.0074 - val_mean_absolute_percentage_error: 6.5443\n",
      "Epoch 26/200\n",
      "258/258 [==============================] - 6s 21ms/step - loss: 0.0071 - mean_absolute_percentage_error: 6.3747 - val_loss: 0.0075 - val_mean_absolute_percentage_error: 6.5702\n",
      "Epoch 27/200\n",
      "258/258 [==============================] - 8s 30ms/step - loss: 0.0072 - mean_absolute_percentage_error: 6.4389 - val_loss: 0.0075 - val_mean_absolute_percentage_error: 6.7260\n",
      "Epoch 28/200\n",
      "258/258 [==============================] - 7s 28ms/step - loss: 0.0072 - mean_absolute_percentage_error: 6.4364 - val_loss: 0.0076 - val_mean_absolute_percentage_error: 6.7782\n",
      "Epoch 29/200\n",
      "258/258 [==============================] - 7s 27ms/step - loss: 0.0072 - mean_absolute_percentage_error: 6.4098 - val_loss: 0.0076 - val_mean_absolute_percentage_error: 6.7563\n",
      "Epoch 30/200\n",
      "258/258 [==============================] - 7s 28ms/step - loss: 0.0072 - mean_absolute_percentage_error: 6.4157 - val_loss: 0.0076 - val_mean_absolute_percentage_error: 6.7623\n",
      "Epoch 31/200\n",
      "258/258 [==============================] - 7s 27ms/step - loss: 0.0074 - mean_absolute_percentage_error: 6.6593 - val_loss: 0.0078 - val_mean_absolute_percentage_error: 6.9315\n",
      "Epoch 32/200\n",
      "258/258 [==============================] - 7s 28ms/step - loss: 0.0072 - mean_absolute_percentage_error: 6.4288 - val_loss: 0.0076 - val_mean_absolute_percentage_error: 6.7467\n",
      "Epoch 33/200\n",
      "258/258 [==============================] - 7s 27ms/step - loss: 0.0071 - mean_absolute_percentage_error: 6.3763 - val_loss: 0.0075 - val_mean_absolute_percentage_error: 6.6517\n",
      "Epoch 34/200\n",
      "258/258 [==============================] - 7s 29ms/step - loss: 0.0071 - mean_absolute_percentage_error: 6.3454 - val_loss: 0.0075 - val_mean_absolute_percentage_error: 6.5062\n",
      "Epoch 35/200\n",
      "257/258 [============================>.] - ETA: 0s - loss: 0.0071 - mean_absolute_percentage_error: 6.3250"
     ]
    },
    {
     "name": "stderr",
     "output_type": "stream",
     "text": [
      "WARNING:absl:Found untraced functions such as lstm_cell_1_layer_call_fn, lstm_cell_1_layer_call_and_return_conditional_losses while saving (showing 2 of 2). These functions will not be directly callable after loading.\n"
     ]
    },
    {
     "name": "stdout",
     "output_type": "stream",
     "text": [
      "INFO:tensorflow:Assets written to: adilabad_temp\\assets\n"
     ]
    },
    {
     "name": "stderr",
     "output_type": "stream",
     "text": [
      "INFO:tensorflow:Assets written to: adilabad_temp\\assets\n"
     ]
    },
    {
     "name": "stdout",
     "output_type": "stream",
     "text": [
      "258/258 [==============================] - 10s 37ms/step - loss: 0.0071 - mean_absolute_percentage_error: 6.3252 - val_loss: 0.0074 - val_mean_absolute_percentage_error: 6.5329\n",
      "Epoch 36/200\n",
      "256/258 [============================>.] - ETA: 0s - loss: 0.0069 - mean_absolute_percentage_error: 6.2907"
     ]
    },
    {
     "name": "stderr",
     "output_type": "stream",
     "text": [
      "WARNING:absl:Found untraced functions such as lstm_cell_1_layer_call_fn, lstm_cell_1_layer_call_and_return_conditional_losses while saving (showing 2 of 2). These functions will not be directly callable after loading.\n"
     ]
    },
    {
     "name": "stdout",
     "output_type": "stream",
     "text": [
      "INFO:tensorflow:Assets written to: adilabad_temp\\assets\n"
     ]
    },
    {
     "name": "stderr",
     "output_type": "stream",
     "text": [
      "INFO:tensorflow:Assets written to: adilabad_temp\\assets\n"
     ]
    },
    {
     "name": "stdout",
     "output_type": "stream",
     "text": [
      "258/258 [==============================] - 10s 38ms/step - loss: 0.0069 - mean_absolute_percentage_error: 6.2900 - val_loss: 0.0062 - val_mean_absolute_percentage_error: 6.3362\n",
      "Epoch 37/200\n",
      "257/258 [============================>.] - ETA: 0s - loss: 0.0056 - mean_absolute_percentage_error: 6.0651"
     ]
    },
    {
     "name": "stderr",
     "output_type": "stream",
     "text": [
      "WARNING:absl:Found untraced functions such as lstm_cell_1_layer_call_fn, lstm_cell_1_layer_call_and_return_conditional_losses while saving (showing 2 of 2). These functions will not be directly callable after loading.\n"
     ]
    },
    {
     "name": "stdout",
     "output_type": "stream",
     "text": [
      "INFO:tensorflow:Assets written to: adilabad_temp\\assets\n"
     ]
    },
    {
     "name": "stderr",
     "output_type": "stream",
     "text": [
      "INFO:tensorflow:Assets written to: adilabad_temp\\assets\n"
     ]
    },
    {
     "name": "stdout",
     "output_type": "stream",
     "text": [
      "258/258 [==============================] - 10s 38ms/step - loss: 0.0056 - mean_absolute_percentage_error: 6.0643 - val_loss: 0.0048 - val_mean_absolute_percentage_error: 6.0066\n",
      "Epoch 38/200\n",
      "258/258 [==============================] - 7s 28ms/step - loss: 0.0046 - mean_absolute_percentage_error: 5.8248 - val_loss: 0.0050 - val_mean_absolute_percentage_error: 6.0891\n",
      "Epoch 39/200\n",
      "258/258 [==============================] - 7s 27ms/step - loss: 0.0046 - mean_absolute_percentage_error: 5.7841 - val_loss: 0.0050 - val_mean_absolute_percentage_error: 6.2255\n",
      "Epoch 40/200\n",
      "258/258 [==============================] - 7s 28ms/step - loss: 0.0046 - mean_absolute_percentage_error: 5.7736 - val_loss: 0.0057 - val_mean_absolute_percentage_error: 6.9936\n",
      "Epoch 41/200\n",
      "258/258 [==============================] - 7s 27ms/step - loss: 0.0046 - mean_absolute_percentage_error: 5.7529 - val_loss: 0.0049 - val_mean_absolute_percentage_error: 6.1943\n",
      "Epoch 42/200\n",
      "258/258 [==============================] - 7s 28ms/step - loss: 0.0046 - mean_absolute_percentage_error: 5.7559 - val_loss: 0.0049 - val_mean_absolute_percentage_error: 6.1430\n",
      "Epoch 43/200\n",
      "258/258 [==============================] - 7s 28ms/step - loss: 0.0045 - mean_absolute_percentage_error: 5.7207 - val_loss: 0.0049 - val_mean_absolute_percentage_error: 6.1064\n",
      "Epoch 44/200\n",
      "258/258 [==============================] - 7s 29ms/step - loss: 0.0045 - mean_absolute_percentage_error: 5.6925 - val_loss: 0.0050 - val_mean_absolute_percentage_error: 6.2754\n",
      "Epoch 45/200\n",
      "258/258 [==============================] - 7s 28ms/step - loss: 0.0045 - mean_absolute_percentage_error: 5.6599 - val_loss: 0.0052 - val_mean_absolute_percentage_error: 6.4416\n",
      "Epoch 46/200\n",
      "258/258 [==============================] - 7s 28ms/step - loss: 0.0045 - mean_absolute_percentage_error: 5.7102 - val_loss: 0.0050 - val_mean_absolute_percentage_error: 6.2495\n",
      "Epoch 47/200\n",
      "258/258 [==============================] - 8s 30ms/step - loss: 0.0045 - mean_absolute_percentage_error: 5.6554 - val_loss: 0.0048 - val_mean_absolute_percentage_error: 6.0263\n",
      "Epoch 48/200\n",
      "258/258 [==============================] - 7s 29ms/step - loss: 0.0044 - mean_absolute_percentage_error: 5.6253 - val_loss: 0.0050 - val_mean_absolute_percentage_error: 6.2303\n",
      "Epoch 49/200\n",
      "258/258 [==============================] - 7s 28ms/step - loss: 0.0045 - mean_absolute_percentage_error: 5.6948 - val_loss: 0.0049 - val_mean_absolute_percentage_error: 6.0924\n",
      "Epoch 50/200\n",
      "258/258 [==============================] - 8s 29ms/step - loss: 0.0044 - mean_absolute_percentage_error: 5.6070 - val_loss: 0.0048 - val_mean_absolute_percentage_error: 5.9946\n",
      "Epoch 51/200\n",
      "258/258 [==============================] - 8s 29ms/step - loss: 0.0044 - mean_absolute_percentage_error: 5.6187 - val_loss: 0.0051 - val_mean_absolute_percentage_error: 6.2711\n",
      "Epoch 52/200\n",
      "258/258 [==============================] - 7s 29ms/step - loss: 0.0044 - mean_absolute_percentage_error: 5.5998 - val_loss: 0.0049 - val_mean_absolute_percentage_error: 6.1252\n",
      "Epoch 53/200\n",
      "258/258 [==============================] - 7s 29ms/step - loss: 0.0044 - mean_absolute_percentage_error: 5.5964 - val_loss: 0.0048 - val_mean_absolute_percentage_error: 5.9986\n",
      "Epoch 54/200\n",
      "256/258 [============================>.] - ETA: 0s - loss: 0.0035 - mean_absolute_percentage_error: 5.4123"
     ]
    },
    {
     "name": "stderr",
     "output_type": "stream",
     "text": [
      "WARNING:absl:Found untraced functions such as lstm_cell_1_layer_call_fn, lstm_cell_1_layer_call_and_return_conditional_losses while saving (showing 2 of 2). These functions will not be directly callable after loading.\n"
     ]
    },
    {
     "name": "stdout",
     "output_type": "stream",
     "text": [
      "INFO:tensorflow:Assets written to: adilabad_temp\\assets\n"
     ]
    },
    {
     "name": "stderr",
     "output_type": "stream",
     "text": [
      "INFO:tensorflow:Assets written to: adilabad_temp\\assets\n"
     ]
    },
    {
     "name": "stdout",
     "output_type": "stream",
     "text": [
      "258/258 [==============================] - 10s 39ms/step - loss: 0.0035 - mean_absolute_percentage_error: 5.4128 - val_loss: 0.0038 - val_mean_absolute_percentage_error: 6.0298\n",
      "Epoch 55/200\n",
      "256/258 [============================>.] - ETA: 0s - loss: 0.0031 - mean_absolute_percentage_error: 5.3124"
     ]
    },
    {
     "name": "stderr",
     "output_type": "stream",
     "text": [
      "WARNING:absl:Found untraced functions such as lstm_cell_1_layer_call_fn, lstm_cell_1_layer_call_and_return_conditional_losses while saving (showing 2 of 2). These functions will not be directly callable after loading.\n"
     ]
    },
    {
     "name": "stdout",
     "output_type": "stream",
     "text": [
      "INFO:tensorflow:Assets written to: adilabad_temp\\assets\n"
     ]
    },
    {
     "name": "stderr",
     "output_type": "stream",
     "text": [
      "INFO:tensorflow:Assets written to: adilabad_temp\\assets\n"
     ]
    },
    {
     "name": "stdout",
     "output_type": "stream",
     "text": [
      "258/258 [==============================] - 10s 38ms/step - loss: 0.0031 - mean_absolute_percentage_error: 5.3113 - val_loss: 0.0035 - val_mean_absolute_percentage_error: 5.7187\n",
      "Epoch 56/200\n",
      "258/258 [==============================] - 7s 28ms/step - loss: 0.0031 - mean_absolute_percentage_error: 5.2998 - val_loss: 0.0036 - val_mean_absolute_percentage_error: 5.7906\n",
      "Epoch 57/200\n",
      "258/258 [==============================] - 7s 28ms/step - loss: 0.0031 - mean_absolute_percentage_error: 5.2742 - val_loss: 0.0035 - val_mean_absolute_percentage_error: 5.7739\n",
      "Epoch 58/200\n",
      "256/258 [============================>.] - ETA: 0s - loss: 0.0031 - mean_absolute_percentage_error: 5.2768"
     ]
    },
    {
     "name": "stderr",
     "output_type": "stream",
     "text": [
      "WARNING:absl:Found untraced functions such as lstm_cell_1_layer_call_fn, lstm_cell_1_layer_call_and_return_conditional_losses while saving (showing 2 of 2). These functions will not be directly callable after loading.\n"
     ]
    },
    {
     "name": "stdout",
     "output_type": "stream",
     "text": [
      "INFO:tensorflow:Assets written to: adilabad_temp\\assets\n"
     ]
    },
    {
     "name": "stderr",
     "output_type": "stream",
     "text": [
      "INFO:tensorflow:Assets written to: adilabad_temp\\assets\n"
     ]
    },
    {
     "name": "stdout",
     "output_type": "stream",
     "text": [
      "258/258 [==============================] - 10s 39ms/step - loss: 0.0031 - mean_absolute_percentage_error: 5.2764 - val_loss: 0.0035 - val_mean_absolute_percentage_error: 5.7064\n",
      "Epoch 59/200\n",
      "258/258 [==============================] - 8s 30ms/step - loss: 0.0031 - mean_absolute_percentage_error: 5.2617 - val_loss: 0.0038 - val_mean_absolute_percentage_error: 6.1175\n",
      "Epoch 60/200\n",
      "258/258 [==============================] - 7s 29ms/step - loss: 0.0031 - mean_absolute_percentage_error: 5.2287 - val_loss: 0.0038 - val_mean_absolute_percentage_error: 5.9825\n",
      "Epoch 61/200\n",
      "257/258 [============================>.] - ETA: 0s - loss: 0.0031 - mean_absolute_percentage_error: 5.2374"
     ]
    },
    {
     "name": "stderr",
     "output_type": "stream",
     "text": [
      "WARNING:absl:Found untraced functions such as lstm_cell_1_layer_call_fn, lstm_cell_1_layer_call_and_return_conditional_losses while saving (showing 2 of 2). These functions will not be directly callable after loading.\n"
     ]
    },
    {
     "name": "stdout",
     "output_type": "stream",
     "text": [
      "INFO:tensorflow:Assets written to: adilabad_temp\\assets\n"
     ]
    },
    {
     "name": "stderr",
     "output_type": "stream",
     "text": [
      "INFO:tensorflow:Assets written to: adilabad_temp\\assets\n"
     ]
    },
    {
     "name": "stdout",
     "output_type": "stream",
     "text": [
      "258/258 [==============================] - 10s 38ms/step - loss: 0.0031 - mean_absolute_percentage_error: 5.2367 - val_loss: 0.0034 - val_mean_absolute_percentage_error: 5.5892\n",
      "Epoch 62/200\n",
      "257/258 [============================>.] - ETA: 0s - loss: 0.0020 - mean_absolute_percentage_error: 5.0339"
     ]
    },
    {
     "name": "stderr",
     "output_type": "stream",
     "text": [
      "WARNING:absl:Found untraced functions such as lstm_cell_1_layer_call_fn, lstm_cell_1_layer_call_and_return_conditional_losses while saving (showing 2 of 2). These functions will not be directly callable after loading.\n"
     ]
    },
    {
     "name": "stdout",
     "output_type": "stream",
     "text": [
      "INFO:tensorflow:Assets written to: adilabad_temp\\assets\n"
     ]
    },
    {
     "name": "stderr",
     "output_type": "stream",
     "text": [
      "INFO:tensorflow:Assets written to: adilabad_temp\\assets\n"
     ]
    },
    {
     "name": "stdout",
     "output_type": "stream",
     "text": [
      "258/258 [==============================] - 10s 40ms/step - loss: 0.0020 - mean_absolute_percentage_error: 5.0341 - val_loss: 0.0024 - val_mean_absolute_percentage_error: 5.6618\n",
      "Epoch 63/200\n",
      "258/258 [==============================] - 8s 29ms/step - loss: 0.0018 - mean_absolute_percentage_error: 4.9546 - val_loss: 0.0027 - val_mean_absolute_percentage_error: 5.9007\n",
      "Epoch 64/200\n",
      "258/258 [==============================] - 7s 27ms/step - loss: 0.0018 - mean_absolute_percentage_error: 4.9265 - val_loss: 0.0025 - val_mean_absolute_percentage_error: 5.7238\n",
      "Epoch 65/200\n",
      "258/258 [==============================] - 7s 28ms/step - loss: 0.0018 - mean_absolute_percentage_error: 4.9415 - val_loss: 0.0025 - val_mean_absolute_percentage_error: 5.6878\n",
      "Epoch 66/200\n",
      "258/258 [==============================] - ETA: 0s - loss: 0.0018 - mean_absolute_percentage_error: 4.8962"
     ]
    },
    {
     "name": "stderr",
     "output_type": "stream",
     "text": [
      "WARNING:absl:Found untraced functions such as lstm_cell_1_layer_call_fn, lstm_cell_1_layer_call_and_return_conditional_losses while saving (showing 2 of 2). These functions will not be directly callable after loading.\n"
     ]
    },
    {
     "name": "stdout",
     "output_type": "stream",
     "text": [
      "INFO:tensorflow:Assets written to: adilabad_temp\\assets\n"
     ]
    },
    {
     "name": "stderr",
     "output_type": "stream",
     "text": [
      "INFO:tensorflow:Assets written to: adilabad_temp\\assets\n"
     ]
    },
    {
     "name": "stdout",
     "output_type": "stream",
     "text": [
      "258/258 [==============================] - 9s 37ms/step - loss: 0.0018 - mean_absolute_percentage_error: 4.8962 - val_loss: 0.0024 - val_mean_absolute_percentage_error: 5.5568\n",
      "Epoch 67/200\n",
      "258/258 [==============================] - ETA: 0s - loss: 0.0018 - mean_absolute_percentage_error: 4.8989"
     ]
    },
    {
     "name": "stderr",
     "output_type": "stream",
     "text": [
      "WARNING:absl:Found untraced functions such as lstm_cell_1_layer_call_fn, lstm_cell_1_layer_call_and_return_conditional_losses while saving (showing 2 of 2). These functions will not be directly callable after loading.\n"
     ]
    },
    {
     "name": "stdout",
     "output_type": "stream",
     "text": [
      "INFO:tensorflow:Assets written to: adilabad_temp\\assets\n"
     ]
    },
    {
     "name": "stderr",
     "output_type": "stream",
     "text": [
      "INFO:tensorflow:Assets written to: adilabad_temp\\assets\n"
     ]
    },
    {
     "name": "stdout",
     "output_type": "stream",
     "text": [
      "258/258 [==============================] - 10s 39ms/step - loss: 0.0018 - mean_absolute_percentage_error: 4.8989 - val_loss: 0.0023 - val_mean_absolute_percentage_error: 5.4917\n",
      "Epoch 68/200\n",
      "258/258 [==============================] - 7s 28ms/step - loss: 0.0018 - mean_absolute_percentage_error: 4.8699 - val_loss: 0.0026 - val_mean_absolute_percentage_error: 5.7066\n",
      "Epoch 69/200\n",
      "258/258 [==============================] - 7s 27ms/step - loss: 0.0017 - mean_absolute_percentage_error: 4.8351 - val_loss: 0.0027 - val_mean_absolute_percentage_error: 5.9490\n",
      "Epoch 70/200\n",
      "257/258 [============================>.] - ETA: 0s - loss: 0.0017 - mean_absolute_percentage_error: 4.8340"
     ]
    },
    {
     "name": "stderr",
     "output_type": "stream",
     "text": [
      "WARNING:absl:Found untraced functions such as lstm_cell_1_layer_call_fn, lstm_cell_1_layer_call_and_return_conditional_losses while saving (showing 2 of 2). These functions will not be directly callable after loading.\n"
     ]
    },
    {
     "name": "stdout",
     "output_type": "stream",
     "text": [
      "INFO:tensorflow:Assets written to: adilabad_temp\\assets\n"
     ]
    },
    {
     "name": "stderr",
     "output_type": "stream",
     "text": [
      "INFO:tensorflow:Assets written to: adilabad_temp\\assets\n"
     ]
    },
    {
     "name": "stdout",
     "output_type": "stream",
     "text": [
      "258/258 [==============================] - 10s 39ms/step - loss: 0.0017 - mean_absolute_percentage_error: 4.8344 - val_loss: 0.0023 - val_mean_absolute_percentage_error: 5.3737\n",
      "Epoch 71/200\n",
      "258/258 [==============================] - 7s 28ms/step - loss: 0.0017 - mean_absolute_percentage_error: 4.8095 - val_loss: 0.0026 - val_mean_absolute_percentage_error: 5.6763\n",
      "Epoch 72/200\n",
      "258/258 [==============================] - 7s 27ms/step - loss: 0.0017 - mean_absolute_percentage_error: 4.7657 - val_loss: 0.0024 - val_mean_absolute_percentage_error: 5.5608\n",
      "Epoch 73/200\n",
      "258/258 [==============================] - 7s 29ms/step - loss: 0.0017 - mean_absolute_percentage_error: 4.7719 - val_loss: 0.0024 - val_mean_absolute_percentage_error: 5.5879\n",
      "Epoch 74/200\n",
      "258/258 [==============================] - 7s 28ms/step - loss: 0.0017 - mean_absolute_percentage_error: 4.6977 - val_loss: 0.0027 - val_mean_absolute_percentage_error: 5.8246\n",
      "Epoch 75/200\n",
      "258/258 [==============================] - 7s 28ms/step - loss: 0.0017 - mean_absolute_percentage_error: 4.6936 - val_loss: 0.0028 - val_mean_absolute_percentage_error: 5.9456\n",
      "Epoch 76/200\n",
      "258/258 [==============================] - 7s 29ms/step - loss: 0.0016 - mean_absolute_percentage_error: 4.6800 - val_loss: 0.0027 - val_mean_absolute_percentage_error: 5.8386\n",
      "Epoch 77/200\n",
      "258/258 [==============================] - 7s 28ms/step - loss: 0.0016 - mean_absolute_percentage_error: 4.6319 - val_loss: 0.0026 - val_mean_absolute_percentage_error: 5.7324\n",
      "Epoch 78/200\n",
      "258/258 [==============================] - 8s 29ms/step - loss: 0.0016 - mean_absolute_percentage_error: 4.5967 - val_loss: 0.0026 - val_mean_absolute_percentage_error: 5.8541\n",
      "Epoch 79/200\n",
      "258/258 [==============================] - 10s 39ms/step - loss: 0.0016 - mean_absolute_percentage_error: 4.5712 - val_loss: 0.0029 - val_mean_absolute_percentage_error: 5.9810\n",
      "Epoch 80/200\n",
      "258/258 [==============================] - 7s 28ms/step - loss: 0.0016 - mean_absolute_percentage_error: 4.5449 - val_loss: 0.0026 - val_mean_absolute_percentage_error: 5.7345\n",
      "Epoch 81/200\n",
      "258/258 [==============================] - 7s 28ms/step - loss: 0.0016 - mean_absolute_percentage_error: 4.5472 - val_loss: 0.0025 - val_mean_absolute_percentage_error: 5.6569\n",
      "Epoch 82/200\n",
      "258/258 [==============================] - 7s 29ms/step - loss: 0.0015 - mean_absolute_percentage_error: 4.5212 - val_loss: 0.0029 - val_mean_absolute_percentage_error: 5.9886\n",
      "Epoch 83/200\n",
      "258/258 [==============================] - 8s 30ms/step - loss: 0.0015 - mean_absolute_percentage_error: 4.4934 - val_loss: 0.0026 - val_mean_absolute_percentage_error: 5.7797\n",
      "Epoch 84/200\n",
      "258/258 [==============================] - 7s 28ms/step - loss: 0.0015 - mean_absolute_percentage_error: 4.5007 - val_loss: 0.0026 - val_mean_absolute_percentage_error: 5.8240\n",
      "Epoch 85/200\n",
      "258/258 [==============================] - 7s 28ms/step - loss: 0.0015 - mean_absolute_percentage_error: 4.4565 - val_loss: 0.0026 - val_mean_absolute_percentage_error: 5.7553\n",
      "Epoch 86/200\n",
      "258/258 [==============================] - 7s 29ms/step - loss: 0.0015 - mean_absolute_percentage_error: 4.4729 - val_loss: 0.0026 - val_mean_absolute_percentage_error: 5.7416\n",
      "Epoch 87/200\n",
      "258/258 [==============================] - 7s 28ms/step - loss: 0.0015 - mean_absolute_percentage_error: 4.4438 - val_loss: 0.0026 - val_mean_absolute_percentage_error: 5.8201\n",
      "Epoch 88/200\n",
      "258/258 [==============================] - 7s 28ms/step - loss: 0.0015 - mean_absolute_percentage_error: 4.4184 - val_loss: 0.0027 - val_mean_absolute_percentage_error: 5.8672\n",
      "Epoch 89/200\n",
      "258/258 [==============================] - 10s 38ms/step - loss: 0.0015 - mean_absolute_percentage_error: 4.3975 - val_loss: 0.0028 - val_mean_absolute_percentage_error: 6.0511\n",
      "Epoch 90/200\n",
      "258/258 [==============================] - 8s 31ms/step - loss: 0.0015 - mean_absolute_percentage_error: 4.3970 - val_loss: 0.0029 - val_mean_absolute_percentage_error: 6.1270\n",
      "Epoch 91/200\n",
      "258/258 [==============================] - 7s 28ms/step - loss: 0.0014 - mean_absolute_percentage_error: 4.3860 - val_loss: 0.0027 - val_mean_absolute_percentage_error: 5.9590\n",
      "Epoch 92/200\n",
      "258/258 [==============================] - 7s 28ms/step - loss: 0.0015 - mean_absolute_percentage_error: 4.3921 - val_loss: 0.0026 - val_mean_absolute_percentage_error: 5.9305\n",
      "Epoch 93/200\n",
      "258/258 [==============================] - 8s 29ms/step - loss: 0.0014 - mean_absolute_percentage_error: 4.3664 - val_loss: 0.0026 - val_mean_absolute_percentage_error: 5.9224\n",
      "Epoch 94/200\n",
      "258/258 [==============================] - 7s 28ms/step - loss: 0.0014 - mean_absolute_percentage_error: 4.3560 - val_loss: 0.0027 - val_mean_absolute_percentage_error: 5.8890\n",
      "Epoch 95/200\n",
      "258/258 [==============================] - 8s 29ms/step - loss: 0.0014 - mean_absolute_percentage_error: 4.3399 - val_loss: 0.0027 - val_mean_absolute_percentage_error: 5.9513\n",
      "Epoch 96/200\n",
      "258/258 [==============================] - 8s 30ms/step - loss: 0.0014 - mean_absolute_percentage_error: 4.3271 - val_loss: 0.0028 - val_mean_absolute_percentage_error: 6.0281\n",
      "Epoch 97/200\n",
      "258/258 [==============================] - 7s 28ms/step - loss: 0.0014 - mean_absolute_percentage_error: 4.3186 - val_loss: 0.0027 - val_mean_absolute_percentage_error: 5.9741\n",
      "Epoch 98/200\n",
      "258/258 [==============================] - 9s 36ms/step - loss: 0.0014 - mean_absolute_percentage_error: 4.3183 - val_loss: 0.0026 - val_mean_absolute_percentage_error: 5.8359\n",
      "Epoch 99/200\n",
      "258/258 [==============================] - 7s 27ms/step - loss: 0.0014 - mean_absolute_percentage_error: 4.3200 - val_loss: 0.0025 - val_mean_absolute_percentage_error: 5.7585\n",
      "Epoch 100/200\n",
      "258/258 [==============================] - 7s 28ms/step - loss: 0.0014 - mean_absolute_percentage_error: 4.2927 - val_loss: 0.0027 - val_mean_absolute_percentage_error: 5.9602\n",
      "Epoch 101/200\n",
      "258/258 [==============================] - 7s 28ms/step - loss: 0.0014 - mean_absolute_percentage_error: 4.2978 - val_loss: 0.0029 - val_mean_absolute_percentage_error: 6.1132\n",
      "Epoch 102/200\n",
      "258/258 [==============================] - 7s 27ms/step - loss: 0.0014 - mean_absolute_percentage_error: 4.2873 - val_loss: 0.0028 - val_mean_absolute_percentage_error: 6.1494\n",
      "Epoch 103/200\n",
      "258/258 [==============================] - 7s 29ms/step - loss: 0.0014 - mean_absolute_percentage_error: 4.2571 - val_loss: 0.0027 - val_mean_absolute_percentage_error: 5.9127\n",
      "Epoch 104/200\n",
      "258/258 [==============================] - 7s 27ms/step - loss: 0.0014 - mean_absolute_percentage_error: 4.2535 - val_loss: 0.0027 - val_mean_absolute_percentage_error: 5.9214\n",
      "Epoch 105/200\n",
      "258/258 [==============================] - 7s 28ms/step - loss: 0.0014 - mean_absolute_percentage_error: 4.2505 - val_loss: 0.0026 - val_mean_absolute_percentage_error: 5.8609\n",
      "Epoch 106/200\n",
      "258/258 [==============================] - 7s 27ms/step - loss: 0.0014 - mean_absolute_percentage_error: 4.2510 - val_loss: 0.0027 - val_mean_absolute_percentage_error: 5.9023\n",
      "Epoch 107/200\n",
      "258/258 [==============================] - 7s 28ms/step - loss: 0.0014 - mean_absolute_percentage_error: 4.2495 - val_loss: 0.0027 - val_mean_absolute_percentage_error: 5.9389\n",
      "Epoch 108/200\n",
      "258/258 [==============================] - 7s 28ms/step - loss: 0.0013 - mean_absolute_percentage_error: 4.2328 - val_loss: 0.0028 - val_mean_absolute_percentage_error: 6.0687\n",
      "Epoch 109/200\n",
      "258/258 [==============================] - 7s 29ms/step - loss: 0.0013 - mean_absolute_percentage_error: 4.2026 - val_loss: 0.0028 - val_mean_absolute_percentage_error: 6.0563\n",
      "Epoch 110/200\n",
      "258/258 [==============================] - 7s 28ms/step - loss: 0.0013 - mean_absolute_percentage_error: 4.2109 - val_loss: 0.0025 - val_mean_absolute_percentage_error: 5.8167\n",
      "Epoch 111/200\n",
      "258/258 [==============================] - 7s 27ms/step - loss: 0.0013 - mean_absolute_percentage_error: 4.2041 - val_loss: 0.0026 - val_mean_absolute_percentage_error: 5.9672\n",
      "Epoch 112/200\n",
      "258/258 [==============================] - 7s 29ms/step - loss: 0.0013 - mean_absolute_percentage_error: 4.2014 - val_loss: 0.0027 - val_mean_absolute_percentage_error: 5.9551\n",
      "Epoch 113/200\n",
      "258/258 [==============================] - 7s 28ms/step - loss: 0.0013 - mean_absolute_percentage_error: 4.1761 - val_loss: 0.0027 - val_mean_absolute_percentage_error: 5.9685\n",
      "Epoch 114/200\n",
      "258/258 [==============================] - 7s 28ms/step - loss: 0.0013 - mean_absolute_percentage_error: 4.1872 - val_loss: 0.0028 - val_mean_absolute_percentage_error: 6.0130\n",
      "Epoch 115/200\n",
      "258/258 [==============================] - 7s 28ms/step - loss: 0.0013 - mean_absolute_percentage_error: 4.1759 - val_loss: 0.0027 - val_mean_absolute_percentage_error: 6.0168\n",
      "Epoch 116/200\n",
      "258/258 [==============================] - 7s 27ms/step - loss: 0.0013 - mean_absolute_percentage_error: 4.1685 - val_loss: 0.0030 - val_mean_absolute_percentage_error: 6.2341\n",
      "Epoch 117/200\n",
      "258/258 [==============================] - 7s 28ms/step - loss: 0.0013 - mean_absolute_percentage_error: 4.1552 - val_loss: 0.0027 - val_mean_absolute_percentage_error: 6.0250\n",
      "Epoch 118/200\n",
      "258/258 [==============================] - 7s 28ms/step - loss: 0.0013 - mean_absolute_percentage_error: 4.1280 - val_loss: 0.0027 - val_mean_absolute_percentage_error: 6.0371\n",
      "Epoch 119/200\n",
      "258/258 [==============================] - 7s 27ms/step - loss: 0.0013 - mean_absolute_percentage_error: 4.1450 - val_loss: 0.0028 - val_mean_absolute_percentage_error: 5.9985\n",
      "Epoch 120/200\n",
      "258/258 [==============================] - 7s 28ms/step - loss: 0.0013 - mean_absolute_percentage_error: 4.1337 - val_loss: 0.0027 - val_mean_absolute_percentage_error: 6.0664\n",
      "Epoch 121/200\n",
      "258/258 [==============================] - 7s 27ms/step - loss: 0.0013 - mean_absolute_percentage_error: 4.1444 - val_loss: 0.0027 - val_mean_absolute_percentage_error: 6.0382\n",
      "Epoch 122/200\n",
      "258/258 [==============================] - 7s 28ms/step - loss: 0.0013 - mean_absolute_percentage_error: 4.1310 - val_loss: 0.0029 - val_mean_absolute_percentage_error: 6.1758\n",
      "Epoch 123/200\n",
      "258/258 [==============================] - 7s 27ms/step - loss: 0.0013 - mean_absolute_percentage_error: 4.1285 - val_loss: 0.0028 - val_mean_absolute_percentage_error: 6.0410\n",
      "Epoch 124/200\n",
      "258/258 [==============================] - 7s 28ms/step - loss: 0.0013 - mean_absolute_percentage_error: 4.1094 - val_loss: 0.0026 - val_mean_absolute_percentage_error: 5.8930\n",
      "Epoch 125/200\n",
      "258/258 [==============================] - 7s 27ms/step - loss: 0.0013 - mean_absolute_percentage_error: 4.1114 - val_loss: 0.0027 - val_mean_absolute_percentage_error: 6.0032\n",
      "Epoch 126/200\n",
      "258/258 [==============================] - 7s 27ms/step - loss: 0.0013 - mean_absolute_percentage_error: 4.0894 - val_loss: 0.0028 - val_mean_absolute_percentage_error: 6.1583\n",
      "Epoch 127/200\n",
      "258/258 [==============================] - 7s 27ms/step - loss: 0.0012 - mean_absolute_percentage_error: 4.0746 - val_loss: 0.0025 - val_mean_absolute_percentage_error: 5.8021\n",
      "Epoch 128/200\n",
      "258/258 [==============================] - 7s 28ms/step - loss: 0.0012 - mean_absolute_percentage_error: 4.0769 - val_loss: 0.0028 - val_mean_absolute_percentage_error: 6.0674\n",
      "Epoch 129/200\n",
      "258/258 [==============================] - 7s 29ms/step - loss: 0.0013 - mean_absolute_percentage_error: 4.0864 - val_loss: 0.0026 - val_mean_absolute_percentage_error: 5.9140\n",
      "Epoch 130/200\n",
      "258/258 [==============================] - 7s 28ms/step - loss: 0.0013 - mean_absolute_percentage_error: 4.0859 - val_loss: 0.0028 - val_mean_absolute_percentage_error: 6.0684\n",
      "Epoch 131/200\n",
      "258/258 [==============================] - 7s 28ms/step - loss: 0.0012 - mean_absolute_percentage_error: 4.0670 - val_loss: 0.0027 - val_mean_absolute_percentage_error: 6.0361\n",
      "Epoch 132/200\n",
      "258/258 [==============================] - 7s 28ms/step - loss: 0.0012 - mean_absolute_percentage_error: 4.0585 - val_loss: 0.0026 - val_mean_absolute_percentage_error: 5.9270\n",
      "Epoch 133/200\n",
      "258/258 [==============================] - 7s 28ms/step - loss: 0.0012 - mean_absolute_percentage_error: 4.0354 - val_loss: 0.0027 - val_mean_absolute_percentage_error: 6.0674\n",
      "Epoch 134/200\n",
      "258/258 [==============================] - 7s 28ms/step - loss: 0.0012 - mean_absolute_percentage_error: 4.0534 - val_loss: 0.0027 - val_mean_absolute_percentage_error: 6.0446\n",
      "Epoch 135/200\n",
      "258/258 [==============================] - 7s 28ms/step - loss: 0.0012 - mean_absolute_percentage_error: 4.0531 - val_loss: 0.0027 - val_mean_absolute_percentage_error: 6.0470\n",
      "Epoch 136/200\n",
      "258/258 [==============================] - 7s 28ms/step - loss: 0.0012 - mean_absolute_percentage_error: 4.0288 - val_loss: 0.0026 - val_mean_absolute_percentage_error: 5.8851\n",
      "Epoch 137/200\n",
      "258/258 [==============================] - 7s 28ms/step - loss: 0.0012 - mean_absolute_percentage_error: 4.0278 - val_loss: 0.0027 - val_mean_absolute_percentage_error: 6.0320\n",
      "Epoch 138/200\n",
      "258/258 [==============================] - 7s 28ms/step - loss: 0.0012 - mean_absolute_percentage_error: 4.0236 - val_loss: 0.0027 - val_mean_absolute_percentage_error: 6.0373\n",
      "Epoch 139/200\n",
      "258/258 [==============================] - 7s 28ms/step - loss: 0.0012 - mean_absolute_percentage_error: 4.0458 - val_loss: 0.0028 - val_mean_absolute_percentage_error: 6.1990\n",
      "Epoch 140/200\n",
      "258/258 [==============================] - 7s 28ms/step - loss: 0.0012 - mean_absolute_percentage_error: 4.0244 - val_loss: 0.0026 - val_mean_absolute_percentage_error: 5.9769\n",
      "Epoch 141/200\n",
      "258/258 [==============================] - 7s 28ms/step - loss: 0.0012 - mean_absolute_percentage_error: 3.9895 - val_loss: 0.0029 - val_mean_absolute_percentage_error: 6.1704\n",
      "Epoch 142/200\n",
      "258/258 [==============================] - 7s 28ms/step - loss: 0.0012 - mean_absolute_percentage_error: 3.9956 - val_loss: 0.0027 - val_mean_absolute_percentage_error: 5.9500\n",
      "Epoch 143/200\n",
      "258/258 [==============================] - 7s 27ms/step - loss: 0.0012 - mean_absolute_percentage_error: 3.9756 - val_loss: 0.0028 - val_mean_absolute_percentage_error: 6.1744\n",
      "Epoch 144/200\n",
      "258/258 [==============================] - 7s 27ms/step - loss: 0.0012 - mean_absolute_percentage_error: 3.9844 - val_loss: 0.0028 - val_mean_absolute_percentage_error: 6.1788\n",
      "Epoch 145/200\n",
      "258/258 [==============================] - 7s 28ms/step - loss: 0.0012 - mean_absolute_percentage_error: 3.9915 - val_loss: 0.0028 - val_mean_absolute_percentage_error: 6.1106\n",
      "Epoch 146/200\n",
      "258/258 [==============================] - 7s 28ms/step - loss: 0.0012 - mean_absolute_percentage_error: 3.9728 - val_loss: 0.0028 - val_mean_absolute_percentage_error: 6.1185\n",
      "Epoch 147/200\n",
      "258/258 [==============================] - 7s 28ms/step - loss: 0.0012 - mean_absolute_percentage_error: 3.9673 - val_loss: 0.0028 - val_mean_absolute_percentage_error: 6.1311\n",
      "Epoch 148/200\n",
      "258/258 [==============================] - 7s 28ms/step - loss: 0.0012 - mean_absolute_percentage_error: 3.9862 - val_loss: 0.0027 - val_mean_absolute_percentage_error: 6.0135\n",
      "Epoch 149/200\n",
      "258/258 [==============================] - 7s 27ms/step - loss: 0.0012 - mean_absolute_percentage_error: 3.9553 - val_loss: 0.0027 - val_mean_absolute_percentage_error: 6.0565\n",
      "Epoch 150/200\n",
      "258/258 [==============================] - 7s 28ms/step - loss: 0.0012 - mean_absolute_percentage_error: 3.9499 - val_loss: 0.0028 - val_mean_absolute_percentage_error: 6.1875\n",
      "Epoch 151/200\n",
      "258/258 [==============================] - 7s 28ms/step - loss: 0.0012 - mean_absolute_percentage_error: 3.9430 - val_loss: 0.0027 - val_mean_absolute_percentage_error: 6.0693\n",
      "Epoch 152/200\n",
      "258/258 [==============================] - 7s 28ms/step - loss: 0.0012 - mean_absolute_percentage_error: 3.9519 - val_loss: 0.0027 - val_mean_absolute_percentage_error: 6.0670\n",
      "Epoch 153/200\n",
      "258/258 [==============================] - 7s 29ms/step - loss: 0.0012 - mean_absolute_percentage_error: 3.9466 - val_loss: 0.0028 - val_mean_absolute_percentage_error: 6.1860\n",
      "Epoch 154/200\n",
      "258/258 [==============================] - 7s 28ms/step - loss: 0.0012 - mean_absolute_percentage_error: 3.9428 - val_loss: 0.0028 - val_mean_absolute_percentage_error: 6.1737\n",
      "Epoch 155/200\n",
      "258/258 [==============================] - 7s 28ms/step - loss: 0.0011 - mean_absolute_percentage_error: 3.9185 - val_loss: 0.0028 - val_mean_absolute_percentage_error: 6.1443\n",
      "Epoch 156/200\n"
     ]
    },
    {
     "name": "stdout",
     "output_type": "stream",
     "text": [
      "258/258 [==============================] - 7s 28ms/step - loss: 0.0011 - mean_absolute_percentage_error: 3.9183 - val_loss: 0.0028 - val_mean_absolute_percentage_error: 6.2115\n",
      "Epoch 157/200\n",
      "258/258 [==============================] - 7s 27ms/step - loss: 0.0012 - mean_absolute_percentage_error: 3.9311 - val_loss: 0.0029 - val_mean_absolute_percentage_error: 6.2133\n",
      "Epoch 158/200\n",
      "258/258 [==============================] - 7s 28ms/step - loss: 0.0011 - mean_absolute_percentage_error: 3.9025 - val_loss: 0.0029 - val_mean_absolute_percentage_error: 6.2219\n",
      "Epoch 159/200\n",
      "258/258 [==============================] - 7s 29ms/step - loss: 0.0011 - mean_absolute_percentage_error: 3.8938 - val_loss: 0.0028 - val_mean_absolute_percentage_error: 6.0943\n",
      "Epoch 160/200\n",
      "258/258 [==============================] - 7s 28ms/step - loss: 0.0011 - mean_absolute_percentage_error: 3.8917 - val_loss: 0.0027 - val_mean_absolute_percentage_error: 6.0162\n",
      "Epoch 161/200\n",
      "258/258 [==============================] - 7s 29ms/step - loss: 0.0011 - mean_absolute_percentage_error: 3.9118 - val_loss: 0.0027 - val_mean_absolute_percentage_error: 5.9962\n",
      "Epoch 162/200\n",
      "258/258 [==============================] - 7s 28ms/step - loss: 0.0011 - mean_absolute_percentage_error: 3.9215 - val_loss: 0.0029 - val_mean_absolute_percentage_error: 6.1836\n",
      "Epoch 163/200\n",
      "258/258 [==============================] - 7s 28ms/step - loss: 0.0011 - mean_absolute_percentage_error: 3.8756 - val_loss: 0.0028 - val_mean_absolute_percentage_error: 6.1653\n",
      "Epoch 164/200\n",
      "258/258 [==============================] - 7s 28ms/step - loss: 0.0011 - mean_absolute_percentage_error: 3.8759 - val_loss: 0.0028 - val_mean_absolute_percentage_error: 6.1169\n",
      "Epoch 165/200\n",
      "258/258 [==============================] - 7s 29ms/step - loss: 0.0011 - mean_absolute_percentage_error: 3.8787 - val_loss: 0.0030 - val_mean_absolute_percentage_error: 6.3360\n",
      "Epoch 166/200\n",
      "258/258 [==============================] - 7s 28ms/step - loss: 0.0011 - mean_absolute_percentage_error: 3.8753 - val_loss: 0.0028 - val_mean_absolute_percentage_error: 6.1906\n",
      "Epoch 167/200\n",
      "258/258 [==============================] - 7s 27ms/step - loss: 0.0011 - mean_absolute_percentage_error: 3.8675 - val_loss: 0.0028 - val_mean_absolute_percentage_error: 6.1198\n",
      "Epoch 168/200\n",
      "258/258 [==============================] - 7s 28ms/step - loss: 0.0011 - mean_absolute_percentage_error: 3.8751 - val_loss: 0.0028 - val_mean_absolute_percentage_error: 6.0957\n",
      "Epoch 169/200\n",
      "258/258 [==============================] - 7s 28ms/step - loss: 0.0011 - mean_absolute_percentage_error: 3.8498 - val_loss: 0.0029 - val_mean_absolute_percentage_error: 6.3368\n",
      "Epoch 170/200\n",
      "258/258 [==============================] - 7s 28ms/step - loss: 0.0011 - mean_absolute_percentage_error: 3.8618 - val_loss: 0.0029 - val_mean_absolute_percentage_error: 6.2430\n",
      "Epoch 171/200\n",
      "258/258 [==============================] - 7s 28ms/step - loss: 0.0011 - mean_absolute_percentage_error: 3.8722 - val_loss: 0.0028 - val_mean_absolute_percentage_error: 6.2025\n",
      "Epoch 172/200\n",
      "258/258 [==============================] - 7s 28ms/step - loss: 0.0011 - mean_absolute_percentage_error: 3.8397 - val_loss: 0.0028 - val_mean_absolute_percentage_error: 6.2341\n",
      "Epoch 173/200\n",
      "258/258 [==============================] - 8s 30ms/step - loss: 0.0011 - mean_absolute_percentage_error: 3.8463 - val_loss: 0.0029 - val_mean_absolute_percentage_error: 6.2412\n",
      "Epoch 174/200\n",
      "258/258 [==============================] - 7s 29ms/step - loss: 0.0011 - mean_absolute_percentage_error: 3.8553 - val_loss: 0.0029 - val_mean_absolute_percentage_error: 6.3231\n",
      "Epoch 175/200\n",
      "258/258 [==============================] - 7s 29ms/step - loss: 0.0011 - mean_absolute_percentage_error: 3.8344 - val_loss: 0.0028 - val_mean_absolute_percentage_error: 6.1034\n",
      "Epoch 176/200\n",
      "258/258 [==============================] - 7s 28ms/step - loss: 0.0011 - mean_absolute_percentage_error: 3.8258 - val_loss: 0.0027 - val_mean_absolute_percentage_error: 6.0778\n",
      "Epoch 177/200\n",
      "258/258 [==============================] - 8s 29ms/step - loss: 0.0011 - mean_absolute_percentage_error: 3.8230 - val_loss: 0.0031 - val_mean_absolute_percentage_error: 6.4091\n",
      "Epoch 178/200\n",
      "258/258 [==============================] - 7s 28ms/step - loss: 0.0011 - mean_absolute_percentage_error: 3.8305 - val_loss: 0.0028 - val_mean_absolute_percentage_error: 6.1760\n",
      "Epoch 179/200\n",
      "258/258 [==============================] - 7s 28ms/step - loss: 0.0011 - mean_absolute_percentage_error: 3.8310 - val_loss: 0.0029 - val_mean_absolute_percentage_error: 6.2885\n",
      "Epoch 180/200\n",
      "258/258 [==============================] - 7s 28ms/step - loss: 0.0011 - mean_absolute_percentage_error: 3.8255 - val_loss: 0.0029 - val_mean_absolute_percentage_error: 6.2519\n",
      "Epoch 181/200\n",
      "258/258 [==============================] - 7s 29ms/step - loss: 0.0011 - mean_absolute_percentage_error: 3.8219 - val_loss: 0.0028 - val_mean_absolute_percentage_error: 6.2037\n",
      "Epoch 182/200\n",
      "258/258 [==============================] - 7s 29ms/step - loss: 0.0011 - mean_absolute_percentage_error: 3.8244 - val_loss: 0.0028 - val_mean_absolute_percentage_error: 6.1982\n",
      "Epoch 183/200\n",
      "258/258 [==============================] - 7s 28ms/step - loss: 0.0011 - mean_absolute_percentage_error: 3.8021 - val_loss: 0.0029 - val_mean_absolute_percentage_error: 6.2933\n",
      "Epoch 184/200\n",
      "258/258 [==============================] - 7s 28ms/step - loss: 0.0011 - mean_absolute_percentage_error: 3.8099 - val_loss: 0.0029 - val_mean_absolute_percentage_error: 6.1514\n",
      "Epoch 185/200\n",
      "258/258 [==============================] - 7s 28ms/step - loss: 0.0011 - mean_absolute_percentage_error: 3.8033 - val_loss: 0.0029 - val_mean_absolute_percentage_error: 6.3846\n",
      "Epoch 186/200\n",
      "258/258 [==============================] - 8s 29ms/step - loss: 0.0011 - mean_absolute_percentage_error: 3.8102 - val_loss: 0.0029 - val_mean_absolute_percentage_error: 6.2556\n",
      "Epoch 187/200\n",
      "258/258 [==============================] - 8s 30ms/step - loss: 0.0011 - mean_absolute_percentage_error: 3.7886 - val_loss: 0.0029 - val_mean_absolute_percentage_error: 6.2184\n",
      "Epoch 188/200\n",
      "258/258 [==============================] - 8s 30ms/step - loss: 0.0011 - mean_absolute_percentage_error: 3.7929 - val_loss: 0.0028 - val_mean_absolute_percentage_error: 6.1883\n",
      "Epoch 189/200\n",
      "258/258 [==============================] - 7s 29ms/step - loss: 0.0011 - mean_absolute_percentage_error: 3.7867 - val_loss: 0.0029 - val_mean_absolute_percentage_error: 6.2576\n",
      "Epoch 190/200\n",
      "258/258 [==============================] - 7s 28ms/step - loss: 0.0011 - mean_absolute_percentage_error: 3.7885 - val_loss: 0.0028 - val_mean_absolute_percentage_error: 6.0950\n",
      "Epoch 191/200\n",
      "258/258 [==============================] - 7s 28ms/step - loss: 0.0011 - mean_absolute_percentage_error: 3.7847 - val_loss: 0.0030 - val_mean_absolute_percentage_error: 6.3286\n",
      "Epoch 192/200\n",
      "258/258 [==============================] - 7s 28ms/step - loss: 0.0011 - mean_absolute_percentage_error: 3.7845 - val_loss: 0.0030 - val_mean_absolute_percentage_error: 6.4160\n",
      "Epoch 193/200\n",
      "258/258 [==============================] - 7s 28ms/step - loss: 0.0011 - mean_absolute_percentage_error: 3.7779 - val_loss: 0.0029 - val_mean_absolute_percentage_error: 6.2555\n",
      "Epoch 194/200\n",
      "258/258 [==============================] - 7s 27ms/step - loss: 0.0011 - mean_absolute_percentage_error: 3.7718 - val_loss: 0.0029 - val_mean_absolute_percentage_error: 6.3115\n",
      "Epoch 195/200\n",
      "258/258 [==============================] - 7s 27ms/step - loss: 0.0011 - mean_absolute_percentage_error: 3.7765 - val_loss: 0.0029 - val_mean_absolute_percentage_error: 6.2878\n",
      "Epoch 196/200\n",
      "258/258 [==============================] - 7s 27ms/step - loss: 0.0011 - mean_absolute_percentage_error: 3.7655 - val_loss: 0.0030 - val_mean_absolute_percentage_error: 6.3660\n",
      "Epoch 197/200\n",
      "258/258 [==============================] - 7s 28ms/step - loss: 0.0011 - mean_absolute_percentage_error: 3.7762 - val_loss: 0.0029 - val_mean_absolute_percentage_error: 6.2999\n",
      "Epoch 198/200\n",
      "258/258 [==============================] - 7s 27ms/step - loss: 0.0011 - mean_absolute_percentage_error: 3.7623 - val_loss: 0.0031 - val_mean_absolute_percentage_error: 6.5103\n",
      "Epoch 199/200\n",
      "258/258 [==============================] - 7s 28ms/step - loss: 0.0010 - mean_absolute_percentage_error: 3.7491 - val_loss: 0.0029 - val_mean_absolute_percentage_error: 6.3261\n",
      "Epoch 200/200\n",
      "258/258 [==============================] - 7s 29ms/step - loss: 0.0011 - mean_absolute_percentage_error: 3.7565 - val_loss: 0.0028 - val_mean_absolute_percentage_error: 6.2334\n"
     ]
    }
   ],
   "source": [
    "adilabad_cp= ModelCheckpoint('adilabad_temp/', save_best_only=True)\n",
    "adilabad_temp.compile(\n",
    "    loss=MeanSquaredError(),\n",
    "    optimizer=Adam(),\n",
    "    metrics=[MeanAbsolutePercentageError()]\n",
    ")\n",
    "epochs=200\n",
    "history=adilabad_temp.fit(X_train,y_train, validation_data=(X_val,y_val), epochs=epochs, callbacks=[adilabad_cp])"
   ]
  },
  {
   "cell_type": "code",
   "execution_count": 27,
   "id": "2f7ac63f",
   "metadata": {},
   "outputs": [
    {
     "data": {
      "image/png": "[encoded data removed]",
      "text/plain": [
       "<Figure size 800x800 with 2 Axes>"
      ]
     },
     "metadata": {},
     "output_type": "display_data"
    }
   ],
   "source": [
    "acc = history.history['mean_absolute_percentage_error']\n",
    "val_acc = history.history['val_mean_absolute_percentage_error']\n",
    "\n",
    "loss = history.history['loss']\n",
    "val_loss = history.history['val_loss']\n",
    "\n",
    "epochs_range = range(epochs)\n",
    "\n",
    "plt.figure(figsize=(8, 8))\n",
    "plt.subplot(1, 2, 1)\n",
    "plt.plot(epochs_range, acc, label='Training MAPE')\n",
    "plt.plot(epochs_range, val_acc, label='Validation MAPE')\n",
    "plt.legend(loc='upper right')\n",
    "plt.title('Training and Validation MAPE')\n",
    "\n",
    "plt.subplot(1, 2, 2)\n",
    "plt.plot(epochs_range, loss, label='Training Loss')\n",
    "plt.plot(epochs_range, val_loss, label='Validation Loss')\n",
    "plt.legend(loc='upper right')\n",
    "plt.title('Training and Validation Loss')\n",
    "plt.show()"
   ]
  },
  {
   "cell_type": "code",
   "execution_count": 28,
   "id": "a27e0366",
   "metadata": {
    "scrolled": false
   },
   "outputs": [
    {
     "name": "stdout",
     "output_type": "stream",
     "text": [
      "31/31 [==============================] - 0s 12ms/step - loss: 0.0031 - mean_absolute_percentage_error: 6.3148\n"
     ]
    }
   ],
   "source": [
    "res=adilabad_temp.evaluate(X_test,y_test)"
   ]
  },
  {
   "cell_type": "code",
   "execution_count": 31,
   "id": "9235072c",
   "metadata": {},
   "outputs": [],
   "source": [
    "from tensorflow import keras"
   ]
  },
  {
   "cell_type": "code",
   "execution_count": 32,
   "id": "7312df52",
   "metadata": {},
   "outputs": [],
   "source": [
    "adilabad_temp.save(\"adilabad_heat_nasa.h5\", save_format='h5') # Saving the model in h5 format to call it in the front-end"
   ]
  },
  {
   "cell_type": "code",
   "execution_count": 30,
   "id": "add672af",
   "metadata": {
    "scrolled": true
   },
   "outputs": [
    {
     "data": {
      "text/html": [
       "<div>\n",
       "<style scoped>\n",
       "    .dataframe tbody tr th:only-of-type {\n",
       "        vertical-align: middle;\n",
       "    }\n",
       "\n",
       "    .dataframe tbody tr th {\n",
       "        vertical-align: top;\n",
       "    }\n",
       "\n",
       "    .dataframe thead th {\n",
       "        text-align: right;\n",
       "    }\n",
       "</style>\n",
       "<table border=\"1\" class=\"dataframe\">\n",
       "  <thead>\n",
       "    <tr style=\"text-align: right;\">\n",
       "      <th></th>\n",
       "      <th>temp_max</th>\n",
       "      <th>rainfall</th>\n",
       "    </tr>\n",
       "    <tr>\n",
       "      <th>Date</th>\n",
       "      <th></th>\n",
       "      <th></th>\n",
       "    </tr>\n",
       "  </thead>\n",
       "  <tbody>\n",
       "    <tr>\n",
       "      <th>2021-01-01</th>\n",
       "      <td>0.5572</td>\n",
       "      <td>0.000133</td>\n",
       "    </tr>\n",
       "    <tr>\n",
       "      <th>2021-01-02</th>\n",
       "      <td>0.5674</td>\n",
       "      <td>0.000000</td>\n",
       "    </tr>\n",
       "    <tr>\n",
       "      <th>2021-01-03</th>\n",
       "      <td>0.5748</td>\n",
       "      <td>0.000000</td>\n",
       "    </tr>\n",
       "    <tr>\n",
       "      <th>2021-01-04</th>\n",
       "      <td>0.5756</td>\n",
       "      <td>0.000000</td>\n",
       "    </tr>\n",
       "    <tr>\n",
       "      <th>2021-01-05</th>\n",
       "      <td>0.5902</td>\n",
       "      <td>0.000133</td>\n",
       "    </tr>\n",
       "    <tr>\n",
       "      <th>...</th>\n",
       "      <td>...</td>\n",
       "      <td>...</td>\n",
       "    </tr>\n",
       "    <tr>\n",
       "      <th>2021-12-27</th>\n",
       "      <td>0.5496</td>\n",
       "      <td>0.000000</td>\n",
       "    </tr>\n",
       "    <tr>\n",
       "      <th>2021-12-28</th>\n",
       "      <td>0.5502</td>\n",
       "      <td>0.012733</td>\n",
       "    </tr>\n",
       "    <tr>\n",
       "      <th>2021-12-29</th>\n",
       "      <td>0.5042</td>\n",
       "      <td>0.016600</td>\n",
       "    </tr>\n",
       "    <tr>\n",
       "      <th>2021-12-30</th>\n",
       "      <td>0.4700</td>\n",
       "      <td>0.003733</td>\n",
       "    </tr>\n",
       "    <tr>\n",
       "      <th>2021-12-31</th>\n",
       "      <td>0.5298</td>\n",
       "      <td>0.000000</td>\n",
       "    </tr>\n",
       "  </tbody>\n",
       "</table>\n",
       "<p>365 rows × 2 columns</p>\n",
       "</div>"
      ],
      "text/plain": [
       "            temp_max  rainfall\n",
       "Date                          \n",
       "2021-01-01    0.5572  0.000133\n",
       "2021-01-02    0.5674  0.000000\n",
       "2021-01-03    0.5748  0.000000\n",
       "2021-01-04    0.5756  0.000000\n",
       "2021-01-05    0.5902  0.000133\n",
       "...              ...       ...\n",
       "2021-12-27    0.5496  0.000000\n",
       "2021-12-28    0.5502  0.012733\n",
       "2021-12-29    0.5042  0.016600\n",
       "2021-12-30    0.4700  0.003733\n",
       "2021-12-31    0.5298  0.000000\n",
       "\n",
       "[365 rows x 2 columns]"
      ]
     },
     "metadata": {},
     "output_type": "display_data"
    },
    {
     "data": {
      "text/plain": [
       "array([[[5.57200000e-01, 1.33333333e-04],\n",
       "        [5.67400000e-01, 0.00000000e+00],\n",
       "        [5.74800000e-01, 0.00000000e+00],\n",
       "        [5.75600000e-01, 0.00000000e+00],\n",
       "        [5.90200000e-01, 1.33333333e-04],\n",
       "        [6.09600000e-01, 2.40000000e-03],\n",
       "        [6.07600000e-01, 4.66666667e-04],\n",
       "        [6.17000000e-01, 6.66666667e-05],\n",
       "        [6.27800000e-01, 0.00000000e+00],\n",
       "        [6.51200000e-01, 0.00000000e+00],\n",
       "        [6.55800000e-01, 0.00000000e+00],\n",
       "        [6.43800000e-01, 0.00000000e+00],\n",
       "        [6.28400000e-01, 0.00000000e+00],\n",
       "        [6.19600000e-01, 0.00000000e+00],\n",
       "        [6.35200000e-01, 0.00000000e+00],\n",
       "        [6.33800000e-01, 0.00000000e+00],\n",
       "        [6.28000000e-01, 0.00000000e+00],\n",
       "        [6.21400000e-01, 0.00000000e+00],\n",
       "        [6.39800000e-01, 0.00000000e+00],\n",
       "        [6.51000000e-01, 0.00000000e+00],\n",
       "        [6.32200000e-01, 0.00000000e+00],\n",
       "        [6.27200000e-01, 0.00000000e+00],\n",
       "        [6.41600000e-01, 0.00000000e+00],\n",
       "        [6.67400000e-01, 0.00000000e+00],\n",
       "        [6.52400000e-01, 0.00000000e+00],\n",
       "        [6.50600000e-01, 0.00000000e+00],\n",
       "        [6.29200000e-01, 0.00000000e+00],\n",
       "        [6.37000000e-01, 6.66666667e-05],\n",
       "        [6.42600000e-01, 6.66666667e-05],\n",
       "        [5.98000000e-01, 0.00000000e+00],\n",
       "        [6.17800000e-01, 0.00000000e+00],\n",
       "        [6.09000000e-01, 0.00000000e+00],\n",
       "        [6.24800000e-01, 0.00000000e+00],\n",
       "        [6.33200000e-01, 0.00000000e+00],\n",
       "        [6.36600000e-01, 0.00000000e+00],\n",
       "        [6.48600000e-01, 0.00000000e+00],\n",
       "        [6.40600000e-01, 0.00000000e+00],\n",
       "        [6.04600000e-01, 0.00000000e+00],\n",
       "        [6.22600000e-01, 0.00000000e+00],\n",
       "        [6.47800000e-01, 0.00000000e+00],\n",
       "        [6.67800000e-01, 0.00000000e+00],\n",
       "        [6.72200000e-01, 0.00000000e+00],\n",
       "        [6.78400000e-01, 0.00000000e+00],\n",
       "        [6.88600000e-01, 0.00000000e+00],\n",
       "        [6.79600000e-01, 0.00000000e+00],\n",
       "        [6.82400000e-01, 0.00000000e+00],\n",
       "        [6.96400000e-01, 0.00000000e+00],\n",
       "        [6.65800000e-01, 6.66666667e-05],\n",
       "        [6.33200000e-01, 3.13333333e-03],\n",
       "        [5.76000000e-01, 2.46666667e-03],\n",
       "        [6.37400000e-01, 0.00000000e+00],\n",
       "        [6.59000000e-01, 0.00000000e+00],\n",
       "        [6.76600000e-01, 0.00000000e+00],\n",
       "        [7.00200000e-01, 0.00000000e+00],\n",
       "        [7.16600000e-01, 0.00000000e+00],\n",
       "        [7.38800000e-01, 0.00000000e+00],\n",
       "        [7.39000000e-01, 0.00000000e+00],\n",
       "        [7.47600000e-01, 0.00000000e+00],\n",
       "        [7.51600000e-01, 0.00000000e+00],\n",
       "        [7.70800000e-01, 0.00000000e+00],\n",
       "        [7.54600000e-01, 0.00000000e+00],\n",
       "        [7.37000000e-01, 0.00000000e+00],\n",
       "        [7.51800000e-01, 0.00000000e+00],\n",
       "        [7.54600000e-01, 0.00000000e+00],\n",
       "        [7.64800000e-01, 0.00000000e+00],\n",
       "        [7.64400000e-01, 0.00000000e+00],\n",
       "        [7.61200000e-01, 0.00000000e+00],\n",
       "        [7.64400000e-01, 0.00000000e+00],\n",
       "        [7.65200000e-01, 0.00000000e+00],\n",
       "        [7.77800000e-01, 0.00000000e+00],\n",
       "        [7.71000000e-01, 0.00000000e+00],\n",
       "        [7.31000000e-01, 9.33333333e-04],\n",
       "        [7.62000000e-01, 0.00000000e+00],\n",
       "        [7.56600000e-01, 0.00000000e+00],\n",
       "        [7.63400000e-01, 0.00000000e+00],\n",
       "        [7.68800000e-01, 0.00000000e+00],\n",
       "        [7.58400000e-01, 5.33333333e-04],\n",
       "        [7.45600000e-01, 9.20000000e-03],\n",
       "        [7.40400000e-01, 6.73333333e-03],\n",
       "        [7.60200000e-01, 1.80000000e-03],\n",
       "        [7.64800000e-01, 4.60000000e-03],\n",
       "        [7.74000000e-01, 1.80000000e-03],\n",
       "        [7.75200000e-01, 3.40000000e-03],\n",
       "        [7.70200000e-01, 0.00000000e+00],\n",
       "        [7.77200000e-01, 0.00000000e+00],\n",
       "        [8.02400000e-01, 0.00000000e+00],\n",
       "        [8.14200000e-01, 0.00000000e+00],\n",
       "        [8.30800000e-01, 0.00000000e+00],\n",
       "        [8.36000000e-01, 0.00000000e+00],\n",
       "        [8.34200000e-01, 0.00000000e+00],\n",
       "        [8.21800000e-01, 0.00000000e+00],\n",
       "        [8.14600000e-01, 0.00000000e+00],\n",
       "        [8.29800000e-01, 0.00000000e+00],\n",
       "        [8.17200000e-01, 0.00000000e+00],\n",
       "        [8.20200000e-01, 0.00000000e+00],\n",
       "        [8.37000000e-01, 0.00000000e+00],\n",
       "        [8.37800000e-01, 0.00000000e+00],\n",
       "        [8.34400000e-01, 0.00000000e+00],\n",
       "        [8.08600000e-01, 1.33333333e-04],\n",
       "        [8.12200000e-01, 4.00000000e-04],\n",
       "        [7.92800000e-01, 1.39333333e-02],\n",
       "        [7.98800000e-01, 0.00000000e+00],\n",
       "        [8.07800000e-01, 1.33333333e-04],\n",
       "        [7.43600000e-01, 2.14000000e-02],\n",
       "        [7.68200000e-01, 2.93333333e-03],\n",
       "        [7.91800000e-01, 0.00000000e+00],\n",
       "        [8.16600000e-01, 0.00000000e+00],\n",
       "        [8.35400000e-01, 0.00000000e+00],\n",
       "        [8.31400000e-01, 0.00000000e+00],\n",
       "        [8.34600000e-01, 0.00000000e+00],\n",
       "        [8.25200000e-01, 0.00000000e+00],\n",
       "        [7.86400000e-01, 0.00000000e+00],\n",
       "        [7.51600000e-01, 6.66666667e-05],\n",
       "        [8.23400000e-01, 2.66666667e-04],\n",
       "        [8.36400000e-01, 0.00000000e+00],\n",
       "        [8.03600000e-01, 0.00000000e+00],\n",
       "        [8.37000000e-01, 1.49333333e-02],\n",
       "        [8.19600000e-01, 1.33333333e-04],\n",
       "        [8.56400000e-01, 0.00000000e+00],\n",
       "        [8.44400000e-01, 0.00000000e+00],\n",
       "        [8.13800000e-01, 0.00000000e+00],\n",
       "        [7.71600000e-01, 4.38000000e-02],\n",
       "        [7.84800000e-01, 1.46666667e-02],\n",
       "        [7.98200000e-01, 2.00000000e-04],\n",
       "        [7.96000000e-01, 8.00000000e-04],\n",
       "        [8.07800000e-01, 2.00000000e-04],\n",
       "        [7.69200000e-01, 1.76666667e-02],\n",
       "        [7.68800000e-01, 8.46666667e-03],\n",
       "        [8.21400000e-01, 1.86666667e-03],\n",
       "        [8.00400000e-01, 2.28000000e-02],\n",
       "        [8.20000000e-01, 1.00000000e-03],\n",
       "        [8.53800000e-01, 0.00000000e+00],\n",
       "        [8.13800000e-01, 0.00000000e+00],\n",
       "        [8.17400000e-01, 0.00000000e+00],\n",
       "        [8.23200000e-01, 0.00000000e+00],\n",
       "        [6.94400000e-01, 1.06666667e-02],\n",
       "        [6.81800000e-01, 3.80000000e-03],\n",
       "        [6.87000000e-01, 2.33333333e-03],\n",
       "        [7.05800000e-01, 2.05333333e-02],\n",
       "        [7.21200000e-01, 2.73333333e-03],\n",
       "        [8.10000000e-01, 0.00000000e+00],\n",
       "        [8.20200000e-01, 0.00000000e+00],\n",
       "        [8.17200000e-01, 0.00000000e+00],\n",
       "        [8.41600000e-01, 0.00000000e+00],\n",
       "        [8.36600000e-01, 0.00000000e+00],\n",
       "        [8.38400000e-01, 1.33333333e-04],\n",
       "        [8.48400000e-01, 2.26666667e-03],\n",
       "        [7.85400000e-01, 1.49333333e-02],\n",
       "        [8.37600000e-01, 1.31333333e-02],\n",
       "        [8.29600000e-01, 2.26666667e-03],\n",
       "        [8.14600000e-01, 1.26666667e-03],\n",
       "        [8.11000000e-01, 7.14000000e-02],\n",
       "        [7.20200000e-01, 7.86666667e-03],\n",
       "        [6.81000000e-01, 1.00000000e-03],\n",
       "        [7.27200000e-01, 8.26666667e-03],\n",
       "        [6.42000000e-01, 5.28000000e-02],\n",
       "        [7.35400000e-01, 1.55333333e-02],\n",
       "        [7.34200000e-01, 6.00000000e-03],\n",
       "        [6.99000000e-01, 2.73333333e-02],\n",
       "        [6.45200000e-01, 8.17333333e-02],\n",
       "        [5.83000000e-01, 9.75333333e-02],\n",
       "        [6.11600000e-01, 1.72333333e-01],\n",
       "        [6.71400000e-01, 2.40666667e-02],\n",
       "        [6.26600000e-01, 6.60000000e-02],\n",
       "        [5.59000000e-01, 3.94133333e-01],\n",
       "        [6.32400000e-01, 1.24866667e-01],\n",
       "        [6.35600000e-01, 1.65333333e-02],\n",
       "        [6.11000000e-01, 4.24000000e-02],\n",
       "        [6.10600000e-01, 5.40000000e-02],\n",
       "        [6.05200000e-01, 4.26666667e-03],\n",
       "        [6.52400000e-01, 3.33333333e-04],\n",
       "        [6.63800000e-01, 0.00000000e+00],\n",
       "        [6.49400000e-01, 9.51333333e-02],\n",
       "        [5.65200000e-01, 7.34666667e-02],\n",
       "        [6.13800000e-01, 4.73333333e-03],\n",
       "        [6.30000000e-01, 7.26666667e-03],\n",
       "        [6.50200000e-01, 6.43333333e-02],\n",
       "        [6.13600000e-01, 1.47400000e-01],\n",
       "        [6.06400000e-01, 1.20133333e-01],\n",
       "        [6.22400000e-01, 1.24666667e-02],\n",
       "        [6.55800000e-01, 2.16000000e-02],\n",
       "        [5.84000000e-01, 9.73333333e-02],\n",
       "        [5.59000000e-01, 3.11333333e-02],\n",
       "        [6.50600000e-01, 1.33333333e-04],\n",
       "        [6.43800000e-01, 1.62000000e-02],\n",
       "        [6.45200000e-01, 3.66666667e-03],\n",
       "        [6.08000000e-01, 4.53333333e-02],\n",
       "        [6.26600000e-01, 2.11600000e-01],\n",
       "        [5.78200000e-01, 2.48666667e-01],\n",
       "        [6.15200000e-01, 2.88000000e-02],\n",
       "        [6.14800000e-01, 1.41600000e-01],\n",
       "        [6.18000000e-01, 1.33200000e-01],\n",
       "        [6.32000000e-01, 6.18666667e-02],\n",
       "        [6.13600000e-01, 1.47666667e-01],\n",
       "        [6.30200000e-01, 9.57333333e-02],\n",
       "        [6.34400000e-01, 3.29333333e-02],\n",
       "        [6.28800000e-01, 3.26666667e-03],\n",
       "        [6.62600000e-01, 8.66666667e-04],\n",
       "        [6.29600000e-01, 5.66000000e-02],\n",
       "        [6.55200000e-01, 1.34000000e-02],\n",
       "        [5.52400000e-01, 9.88666667e-02],\n",
       "        [5.62600000e-01, 2.29133333e-01],\n",
       "        [5.47400000e-01, 3.53200000e-01],\n",
       "        [5.51000000e-01, 1.26266667e-01],\n",
       "        [5.93000000e-01, 8.53333333e-02],\n",
       "        [6.16600000e-01, 3.84000000e-02],\n",
       "        [6.28600000e-01, 1.86000000e-02],\n",
       "        [6.11800000e-01, 7.66666667e-03],\n",
       "        [5.92400000e-01, 1.10000000e-02],\n",
       "        [5.86600000e-01, 2.80000000e-03],\n",
       "        [5.78400000e-01, 3.86666667e-03],\n",
       "        [5.82000000e-01, 9.33333333e-04],\n",
       "        [6.07200000e-01, 2.00000000e-04],\n",
       "        [6.13400000e-01, 3.15333333e-02],\n",
       "        [6.13400000e-01, 5.86666667e-03],\n",
       "        [6.18800000e-01, 1.72000000e-02],\n",
       "        [5.82400000e-01, 1.78000000e-02],\n",
       "        [5.98000000e-01, 4.56000000e-02],\n",
       "        [6.22600000e-01, 3.73333333e-03],\n",
       "        [6.42600000e-01, 4.93333333e-03],\n",
       "        [6.08400000e-01, 1.26000000e-02],\n",
       "        [5.51800000e-01, 1.55333333e-02],\n",
       "        [6.15000000e-01, 4.66666667e-04],\n",
       "        [5.99600000e-01, 1.00000000e-03],\n",
       "        [5.42800000e-01, 2.00000000e-03],\n",
       "        [6.05600000e-01, 6.66666667e-05],\n",
       "        [5.97400000e-01, 1.85333333e-02],\n",
       "        [5.90200000e-01, 8.31333333e-02],\n",
       "        [5.56400000e-01, 1.72466667e-01],\n",
       "        [5.36400000e-01, 2.56933333e-01],\n",
       "        [5.73800000e-01, 8.32666667e-02],\n",
       "        [5.81800000e-01, 1.37333333e-02],\n",
       "        [5.96800000e-01, 2.48666667e-02],\n",
       "        [6.15200000e-01, 5.53333333e-03],\n",
       "        [6.18600000e-01, 1.33333333e-03],\n",
       "        [6.25000000e-01, 3.40000000e-03],\n",
       "        [6.05200000e-01, 5.86666667e-03],\n",
       "        [5.80800000e-01, 1.22000000e-02],\n",
       "        [6.07600000e-01, 7.86666667e-03],\n",
       "        [6.09000000e-01, 4.54000000e-02],\n",
       "        [6.08600000e-01, 7.14666667e-02],\n",
       "        [5.98000000e-01, 2.43133333e-01],\n",
       "        [5.95400000e-01, 1.10600000e-01],\n",
       "        [5.93000000e-01, 9.22000000e-02],\n",
       "        [6.06400000e-01, 3.52000000e-02],\n",
       "        [5.67800000e-01, 1.94200000e-01],\n",
       "        [5.80200000e-01, 5.53333333e-02],\n",
       "        [5.69400000e-01, 3.70666667e-02],\n",
       "        [5.73000000e-01, 1.89200000e-01],\n",
       "        [5.66000000e-01, 4.19800000e-01],\n",
       "        [5.90400000e-01, 2.68666667e-02],\n",
       "        [5.93800000e-01, 7.86666667e-03],\n",
       "        [5.96800000e-01, 5.99333333e-02],\n",
       "        [5.59000000e-01, 3.82000000e-02],\n",
       "        [6.00400000e-01, 1.69333333e-02],\n",
       "        [5.85600000e-01, 3.40000000e-02],\n",
       "        [5.62200000e-01, 6.46666667e-03],\n",
       "        [5.93000000e-01, 8.93333333e-03],\n",
       "        [5.84400000e-01, 8.40000000e-03],\n",
       "        [5.91200000e-01, 7.60000000e-03],\n",
       "        [5.96000000e-01, 2.40000000e-03],\n",
       "        [6.04000000e-01, 2.46000000e-02],\n",
       "        [5.85800000e-01, 1.85933333e-01],\n",
       "        [5.93400000e-01, 1.14933333e-01],\n",
       "        [5.89400000e-01, 2.87333333e-02],\n",
       "        [5.72800000e-01, 2.08000000e-02],\n",
       "        [5.55200000e-01, 7.73333333e-03],\n",
       "        [5.52200000e-01, 2.28000000e-02],\n",
       "        [5.58800000e-01, 1.08333333e-01],\n",
       "        [5.27800000e-01, 3.02200000e-01],\n",
       "        [5.68800000e-01, 1.81200000e-01],\n",
       "        [5.80400000e-01, 8.00000000e-04],\n",
       "        [6.20000000e-01, 0.00000000e+00],\n",
       "        [6.03800000e-01, 3.86000000e-02],\n",
       "        [5.96000000e-01, 1.22666667e-02],\n",
       "        [6.11000000e-01, 2.20000000e-03],\n",
       "        [6.03800000e-01, 7.66666667e-03],\n",
       "        [6.04600000e-01, 1.82666667e-02],\n",
       "        [5.98400000e-01, 1.53333333e-03],\n",
       "        [6.22800000e-01, 3.33333333e-04],\n",
       "        [6.06600000e-01, 2.66666667e-04],\n",
       "        [6.04200000e-01, 4.39333333e-02],\n",
       "        [5.94600000e-01, 7.66666667e-03],\n",
       "        [5.87800000e-01, 0.00000000e+00],\n",
       "        [5.88400000e-01, 0.00000000e+00],\n",
       "        [5.91000000e-01, 0.00000000e+00],\n",
       "        [5.92200000e-01, 0.00000000e+00],\n",
       "        [5.88800000e-01, 3.28666667e-02],\n",
       "        [5.61600000e-01, 6.53333333e-02],\n",
       "        [5.52400000e-01, 5.45333333e-02],\n",
       "        [5.89200000e-01, 4.53333333e-03],\n",
       "        [5.62600000e-01, 1.60000000e-03],\n",
       "        [5.59600000e-01, 0.00000000e+00],\n",
       "        [5.59200000e-01, 0.00000000e+00],\n",
       "        [5.57400000e-01, 0.00000000e+00],\n",
       "        [5.52400000e-01, 0.00000000e+00],\n",
       "        [5.53800000e-01, 0.00000000e+00],\n",
       "        [5.40000000e-01, 0.00000000e+00],\n",
       "        [5.37800000e-01, 0.00000000e+00],\n",
       "        [5.39800000e-01, 0.00000000e+00],\n",
       "        [5.44600000e-01, 0.00000000e+00],\n",
       "        [5.54200000e-01, 0.00000000e+00],\n",
       "        [5.45400000e-01, 0.00000000e+00],\n",
       "        [5.29800000e-01, 0.00000000e+00],\n",
       "        [5.47200000e-01, 0.00000000e+00],\n",
       "        [4.91600000e-01, 5.33333333e-04],\n",
       "        [5.44600000e-01, 1.33333333e-04],\n",
       "        [5.11200000e-01, 3.20000000e-03],\n",
       "        [5.66400000e-01, 4.00000000e-04],\n",
       "        [5.47400000e-01, 0.00000000e+00],\n",
       "        [5.21000000e-01, 0.00000000e+00],\n",
       "        [5.01000000e-01, 0.00000000e+00],\n",
       "        [5.07000000e-01, 0.00000000e+00],\n",
       "        [4.95600000e-01, 0.00000000e+00],\n",
       "        [4.62400000e-01, 0.00000000e+00],\n",
       "        [5.36200000e-01, 0.00000000e+00],\n",
       "        [5.85200000e-01, 1.66666667e-03],\n",
       "        [5.76000000e-01, 1.96666667e-02],\n",
       "        [5.72400000e-01, 3.81333333e-02],\n",
       "        [5.76600000e-01, 5.33333333e-03],\n",
       "        [5.79800000e-01, 4.66666667e-04],\n",
       "        [5.74600000e-01, 0.00000000e+00],\n",
       "        [5.67000000e-01, 8.66666667e-04],\n",
       "        [5.75400000e-01, 3.13333333e-03],\n",
       "        [5.81000000e-01, 8.66666667e-04],\n",
       "        [5.99600000e-01, 1.80000000e-02],\n",
       "        [5.75600000e-01, 2.46666667e-03],\n",
       "        [5.73000000e-01, 0.00000000e+00],\n",
       "        [5.46800000e-01, 0.00000000e+00],\n",
       "        [5.47200000e-01, 0.00000000e+00],\n",
       "        [5.30600000e-01, 0.00000000e+00],\n",
       "        [5.06600000e-01, 0.00000000e+00],\n",
       "        [4.98400000e-01, 0.00000000e+00],\n",
       "        [5.16800000e-01, 0.00000000e+00],\n",
       "        [5.09600000e-01, 0.00000000e+00],\n",
       "        [5.19400000e-01, 0.00000000e+00],\n",
       "        [5.06400000e-01, 0.00000000e+00],\n",
       "        [5.28400000e-01, 0.00000000e+00],\n",
       "        [5.44400000e-01, 0.00000000e+00],\n",
       "        [5.49400000e-01, 0.00000000e+00],\n",
       "        [5.36600000e-01, 0.00000000e+00],\n",
       "        [5.30000000e-01, 0.00000000e+00],\n",
       "        [5.36200000e-01, 0.00000000e+00],\n",
       "        [5.28800000e-01, 0.00000000e+00],\n",
       "        [5.35200000e-01, 0.00000000e+00],\n",
       "        [5.27400000e-01, 0.00000000e+00],\n",
       "        [5.25400000e-01, 0.00000000e+00],\n",
       "        [5.24200000e-01, 0.00000000e+00],\n",
       "        [5.02400000e-01, 0.00000000e+00],\n",
       "        [5.17200000e-01, 0.00000000e+00],\n",
       "        [5.16400000e-01, 0.00000000e+00],\n",
       "        [5.06800000e-01, 0.00000000e+00],\n",
       "        [4.75000000e-01, 0.00000000e+00],\n",
       "        [4.87400000e-01, 0.00000000e+00],\n",
       "        [4.91000000e-01, 0.00000000e+00],\n",
       "        [5.24400000e-01, 0.00000000e+00],\n",
       "        [5.48800000e-01, 0.00000000e+00],\n",
       "        [5.71600000e-01, 0.00000000e+00],\n",
       "        [5.53000000e-01, 0.00000000e+00],\n",
       "        [5.66200000e-01, 0.00000000e+00],\n",
       "        [5.49600000e-01, 0.00000000e+00],\n",
       "        [5.50200000e-01, 1.27333333e-02],\n",
       "        [5.04200000e-01, 1.66000000e-02],\n",
       "        [4.70000000e-01, 3.73333333e-03],\n",
       "        [5.29800000e-01, 0.00000000e+00]]])"
      ]
     },
     "execution_count": 30,
     "metadata": {},
     "output_type": "execute_result"
    }
   ],
   "source": [
    "test_x=df[10958:11323]\n",
    "display(test_x)\n",
    "test_x=test_x.to_numpy()\n",
    "test_x=test_x.reshape(1,365,2)\n",
    "test_x"
   ]
  },
  {
   "cell_type": "code",
   "execution_count": 33,
   "id": "7b340305",
   "metadata": {
    "scrolled": true
   },
   "outputs": [
    {
     "data": {
      "text/plain": [
       "array([0.5348, 0.5424, 0.537 , 0.55  , 0.5714, 0.5762, 0.581 , 0.523 ,\n",
       "       0.5576, 0.5448, 0.5048, 0.4808, 0.5152, 0.52  , 0.5072, 0.5242,\n",
       "       0.5314, 0.5194, 0.5148, 0.5408, 0.5654, 0.5836, 0.531 , 0.4802,\n",
       "       0.4678, 0.4772, 0.486 , 0.481 , 0.5076, 0.556 , 0.598 , 0.5944,\n",
       "       0.611 , 0.637 , 0.5386, 0.5576, 0.5792, 0.599 , 0.6042, 0.6188,\n",
       "       0.575 , 0.5586, 0.5812, 0.5998, 0.613 , 0.6136, 0.6012, 0.5996,\n",
       "       0.6076, 0.643 , 0.6774, 0.6714, 0.6874, 0.6962, 0.7088, 0.6898,\n",
       "       0.6834, 0.6926, 0.6946, 0.7024, 0.706 , 0.7056, 0.6988, 0.7116,\n",
       "       0.7128, 0.6986, 0.7098, 0.7254, 0.7202, 0.7256, 0.725 , 0.7392,\n",
       "       0.7662, 0.783 , 0.8152, 0.8282, 0.816 , 0.8058, 0.8052, 0.8166,\n",
       "       0.8088, 0.8154, 0.8148, 0.8146, 0.8294, 0.8366, 0.8396, 0.851 ,\n",
       "       0.8558, 0.8576, 0.856 , 0.8442, 0.8516, 0.8496, 0.85  , 0.8588,\n",
       "       0.8564, 0.8224, 0.8494, 0.8452, 0.8354, 0.8408, 0.8464, 0.8432,\n",
       "       0.8052, 0.8418, 0.8524, 0.8646, 0.8788, 0.8894, 0.8806, 0.7542,\n",
       "       0.784 , 0.823 , 0.8796, 0.8692, 0.8932, 0.8948, 0.9062, 0.896 ,\n",
       "       0.8938, 0.8916, 0.8894, 0.8166, 0.8738, 0.8796, 0.8718, 0.8722,\n",
       "       0.8636, 0.8634, 0.8368, 0.8482, 0.8616, 0.8944, 0.9014, 0.8374,\n",
       "       0.7824, 0.8042, 0.7602, 0.8196, 0.8258, 0.8338, 0.8318, 0.8346,\n",
       "       0.8276, 0.8588, 0.8442, 0.8486, 0.8498, 0.8702, 0.8428, 0.8714,\n",
       "       0.8946, 0.8786, 0.8824, 0.8738, 0.8506, 0.8902, 0.8784, 0.8352,\n",
       "       0.7374, 0.7346, 0.7158, 0.6882, 0.7164, 0.6814, 0.683 , 0.6962,\n",
       "       0.6324, 0.6554, 0.6308, 0.643 , 0.5666, 0.594 , 0.6222, 0.5972,\n",
       "       0.6138, 0.6612, 0.611 , 0.5488, 0.548 , 0.6416, 0.6056, 0.586 ,\n",
       "       0.5802, 0.5626, 0.5798, 0.5672, 0.5552, 0.5452, 0.5646, 0.5424,\n",
       "       0.5374, 0.5522, 0.5796, 0.5602, 0.5574, 0.549 , 0.524 , 0.5702,\n",
       "       0.59  , 0.534 , 0.5238, 0.517 , 0.5196, 0.5636, 0.5392, 0.5976,\n",
       "       0.5556, 0.5952, 0.5502, 0.595 , 0.5932, 0.5828, 0.6152, 0.5618,\n",
       "       0.5638, 0.5644, 0.5586, 0.511 , 0.5284, 0.5104, 0.575 , 0.5602,\n",
       "       0.562 , 0.527 , 0.5188, 0.565 , 0.5938, 0.5764, 0.5648, 0.559 ,\n",
       "       0.5566, 0.5734, 0.601 , 0.5642, 0.583 , 0.594 , 0.5864, 0.559 ,\n",
       "       0.6068, 0.6126, 0.609 , 0.5926, 0.6082, 0.6222, 0.5836, 0.5918,\n",
       "       0.5932, 0.576 , 0.5816, 0.5754, 0.5902, 0.5496, 0.5546, 0.5706,\n",
       "       0.5476, 0.5896, 0.5688, 0.573 , 0.548 , 0.6006, 0.5488, 0.5408,\n",
       "       0.546 , 0.5516, 0.5716, 0.5866, 0.5768, 0.5638, 0.58  , 0.5736,\n",
       "       0.5924, 0.6016, 0.5858, 0.5854, 0.5448, 0.5688, 0.538 , 0.5644,\n",
       "       0.5766, 0.5702, 0.5644, 0.5594, 0.5912, 0.5846, 0.561 , 0.5788,\n",
       "       0.5816, 0.5952, 0.5816, 0.5524, 0.5782, 0.5346, 0.5316, 0.53  ,\n",
       "       0.5248, 0.5484, 0.541 , 0.549 , 0.5338, 0.5288, 0.5256, 0.511 ,\n",
       "       0.5278, 0.535 , 0.5388, 0.548 , 0.5584, 0.5574, 0.5584, 0.5532,\n",
       "       0.525 , 0.5196, 0.525 , 0.5208, 0.5098, 0.5236, 0.5094, 0.5074,\n",
       "       0.5104, 0.58  , 0.56  , 0.54  , 0.513 , 0.5216, 0.5348, 0.5262,\n",
       "       0.52  , 0.491 , 0.493 , 0.5002, 0.5158, 0.5052, 0.5364, 0.551 ,\n",
       "       0.5452, 0.5334, 0.5408, 0.5162, 0.5022, 0.4792, 0.4788, 0.4938,\n",
       "       0.5438, 0.5614, 0.5512, 0.5742, 0.579 , 0.576 , 0.5734, 0.5388,\n",
       "       0.5242, 0.5378, 0.545 , 0.5548, 0.5744, 0.5762, 0.5722, 0.572 ,\n",
       "       0.5872, 0.5824, 0.561 , 0.5852, 0.5712])"
      ]
     },
     "execution_count": 33,
     "metadata": {},
     "output_type": "execute_result"
    }
   ],
   "source": [
    "test_y=df['temp_max'][11323:]\n",
    "test_y=test_y.to_numpy()\n",
    "test_y"
   ]
  },
  {
   "cell_type": "code",
   "execution_count": 34,
   "id": "75b97ed4",
   "metadata": {
    "scrolled": true
   },
   "outputs": [
    {
     "name": "stdout",
     "output_type": "stream",
     "text": [
      "1/1 [==============================] - 1s 624ms/step\n"
     ]
    }
   ],
   "source": [
    "predictions=adilabad_temp.predict(test_x)\n"
   ]
  },
  {
   "cell_type": "code",
   "execution_count": 35,
   "id": "d521925e",
   "metadata": {
    "scrolled": true
   },
   "outputs": [],
   "source": [
    "predictions= predictions.reshape(365)\n",
    "predictions= pd.DataFrame(data=predictions, index=df[11323:].index)"
   ]
  },
  {
   "cell_type": "code",
   "execution_count": 36,
   "id": "6f94c829",
   "metadata": {
    "scrolled": false
   },
   "outputs": [
    {
     "data": {
      "text/plain": [
       "(365, 1)"
      ]
     },
     "execution_count": 36,
     "metadata": {},
     "output_type": "execute_result"
    }
   ],
   "source": [
    "predictions.shape"
   ]
  },
  {
   "cell_type": "code",
   "execution_count": 37,
   "id": "ca3a4bc3",
   "metadata": {},
   "outputs": [],
   "source": [
    "predictions=predictions*50\n"
   ]
  },
  {
   "cell_type": "code",
   "execution_count": 38,
   "id": "dc616e52",
   "metadata": {},
   "outputs": [],
   "source": [
    "expected=pd.DataFrame(data=test_y, index=df[11323:].index, columns=[\"temp_max_actual\"])"
   ]
  },
  {
   "cell_type": "code",
   "execution_count": 39,
   "id": "9167aab7",
   "metadata": {},
   "outputs": [],
   "source": [
    "expected=expected*50"
   ]
  },
  {
   "cell_type": "code",
   "execution_count": 40,
   "id": "de8a2622",
   "metadata": {},
   "outputs": [
    {
     "data": {
      "text/plain": [
       "(365, 1)"
      ]
     },
     "execution_count": 40,
     "metadata": {},
     "output_type": "execute_result"
    }
   ],
   "source": [
    "expected.shape"
   ]
  },
  {
   "cell_type": "code",
   "execution_count": 41,
   "id": "765ff9a6",
   "metadata": {},
   "outputs": [],
   "source": [
    "from sklearn.metrics import mean_squared_error as mse\n",
    "from sklearn.metrics import mean_absolute_error as mae\n",
    "from sklearn.metrics import mean_absolute_percentage_error as mape"
   ]
  },
  {
   "cell_type": "code",
   "execution_count": 44,
   "id": "e75cb544",
   "metadata": {
    "scrolled": false
   },
   "outputs": [
    {
     "name": "stdout",
     "output_type": "stream",
     "text": [
      "RMSE:  3.3523065713271745\n",
      "MAE:  2.700461456507852\n",
      "MAPE: 9.06618612549989%\n"
     ]
    }
   ],
   "source": [
    "rmse= mse(expected, predictions, squared=False)\n",
    "print(\"RMSE: \",rmse)\n",
    "mae1= mae(expected, predictions)\n",
    "print(\"MAE: \",mae1)\n",
    "mape1= mape(expected, predictions)\n",
    "print(\"MAPE: {}%\".format(mape1*100))"
   ]
  },
  {
   "cell_type": "markdown",
   "id": "d1447d62",
   "metadata": {},
   "source": [
    "ON predicting temp for 2022 by giving 2021 temperature and rainfall as input we get following results from our model. \n",
    "Point to be noted data of 2021 and 2022 are niether used in training, validation or testing. So the results are for real world implementation and not just benchmark testing. This proves our model can work very well in real world implementations\n",
    "\n",
    "RMSE:  3.3523065713271745\n",
    "MAE:  2.700461456507852\n",
    "MAPE: 9.06%"
   ]
  },
  {
   "cell_type": "code",
   "execution_count": 43,
   "id": "a82eaa1e",
   "metadata": {},
   "outputs": [],
   "source": [
    "import pickle"
   ]
  },
  {
   "cell_type": "code",
   "execution_count": 42,
   "id": "9809f841",
   "metadata": {
    "scrolled": true
   },
   "outputs": [
    {
     "name": "stderr",
     "output_type": "stream",
     "text": [
      "WARNING:absl:Found untraced functions such as lstm_cell_layer_call_fn, lstm_cell_layer_call_and_return_conditional_losses while saving (showing 2 of 2). These functions will not be directly callable after loading.\n"
     ]
    },
    {
     "name": "stdout",
     "output_type": "stream",
     "text": [
      "INFO:tensorflow:Assets written to: ram://caf146e5-16f5-4deb-a283-7c0de19b4b55/assets\n"
     ]
    },
    {
     "name": "stderr",
     "output_type": "stream",
     "text": [
      "INFO:tensorflow:Assets written to: ram://caf146e5-16f5-4deb-a283-7c0de19b4b55/assets\n"
     ]
    }
   ],
   "source": [
    "pickle.dump(adilabad_temp, open('C:\\\\Users\\\\Lenovo\\\\Desktop\\\\NASSCOM\\\\models\\\\adilabad.pkl', 'wb'))"
   ]
  },
  {
   "cell_type": "code",
   "execution_count": 43,
   "id": "6936433f",
   "metadata": {},
   "outputs": [],
   "source": [
    "from tensorflow import keras"
   ]
  },
  {
   "cell_type": "code",
   "execution_count": null,
   "id": "8959d014",
   "metadata": {},
   "outputs": [],
   "source": [
    "adilabad_temp.save(\"adilabad_heat.h5\", save_format='h5')"
   ]
  },
  {
   "cell_type": "code",
   "execution_count": 45,
   "id": "0b89dc7f",
   "metadata": {},
   "outputs": [],
   "source": [
    "prediction_low=predictions-mae1\n",
    "prediction_upper=predictions+mae1"
   ]
  },
  {
   "cell_type": "code",
   "execution_count": 46,
   "id": "a57d5042",
   "metadata": {},
   "outputs": [],
   "source": [
    "prediction_upper.columns=['upper bound temp']\n",
    "prediction_low.columns=['lower bound temp']\n",
    "predictions.columns=['predicted temp']"
   ]
  },
  {
   "cell_type": "code",
   "execution_count": 48,
   "id": "a5417cd2",
   "metadata": {
    "scrolled": false
   },
   "outputs": [
    {
     "data": {
      "image/png": "[encoded data removed]",
      "text/plain": [
       "<Figure size 1000x600 with 1 Axes>"
      ]
     },
     "metadata": {},
     "output_type": "display_data"
    }
   ],
   "source": [
    "ax = expected.plot(\n",
    "    figsize=(10, 6),\n",
    "    color=\"blue\",\n",
    "    title=\"Temp forecasting of ADILABAD using LSTM\",\n",
    ")\n",
    "ax.set_ylabel(\"Temp_max\")\n",
    "ax.set_xlabel(\"Year\")\n",
    "\n",
    "predictions.plot(ax=ax, color=\"yellow\")     \n",
    "prediction_low.plot(ax=ax, color=\"green\")\n",
    "prediction_upper.plot(ax=ax, color=\"red\")\n",
    "plt.show()"
   ]
  },
  {
   "cell_type": "code",
   "execution_count": 68,
   "id": "73608b29",
   "metadata": {},
   "outputs": [],
   "source": [
    "model = keras.models.load_model(\"adilabad_heat_nasa.h5\")"
   ]
  },
  {
   "cell_type": "code",
   "execution_count": 66,
   "id": "30a0051e",
   "metadata": {
    "scrolled": false
   },
   "outputs": [
    {
     "data": {
      "text/html": [
       "<div>\n",
       "<style scoped>\n",
       "    .dataframe tbody tr th:only-of-type {\n",
       "        vertical-align: middle;\n",
       "    }\n",
       "\n",
       "    .dataframe tbody tr th {\n",
       "        vertical-align: top;\n",
       "    }\n",
       "\n",
       "    .dataframe thead th {\n",
       "        text-align: right;\n",
       "    }\n",
       "</style>\n",
       "<table border=\"1\" class=\"dataframe\">\n",
       "  <thead>\n",
       "    <tr style=\"text-align: right;\">\n",
       "      <th></th>\n",
       "      <th>temp_max</th>\n",
       "      <th>rainfall</th>\n",
       "    </tr>\n",
       "    <tr>\n",
       "      <th>Date</th>\n",
       "      <th></th>\n",
       "      <th></th>\n",
       "    </tr>\n",
       "  </thead>\n",
       "  <tbody>\n",
       "    <tr>\n",
       "      <th>2022-01-01</th>\n",
       "      <td>0.5348</td>\n",
       "      <td>0.000000</td>\n",
       "    </tr>\n",
       "    <tr>\n",
       "      <th>2022-01-02</th>\n",
       "      <td>0.5424</td>\n",
       "      <td>0.000000</td>\n",
       "    </tr>\n",
       "    <tr>\n",
       "      <th>2022-01-03</th>\n",
       "      <td>0.5370</td>\n",
       "      <td>0.000000</td>\n",
       "    </tr>\n",
       "    <tr>\n",
       "      <th>2022-01-04</th>\n",
       "      <td>0.5500</td>\n",
       "      <td>0.000000</td>\n",
       "    </tr>\n",
       "    <tr>\n",
       "      <th>2022-01-05</th>\n",
       "      <td>0.5714</td>\n",
       "      <td>0.000000</td>\n",
       "    </tr>\n",
       "    <tr>\n",
       "      <th>...</th>\n",
       "      <td>...</td>\n",
       "      <td>...</td>\n",
       "    </tr>\n",
       "    <tr>\n",
       "      <th>2022-12-27</th>\n",
       "      <td>0.5872</td>\n",
       "      <td>0.012133</td>\n",
       "    </tr>\n",
       "    <tr>\n",
       "      <th>2022-12-28</th>\n",
       "      <td>0.5824</td>\n",
       "      <td>0.002667</td>\n",
       "    </tr>\n",
       "    <tr>\n",
       "      <th>2022-12-29</th>\n",
       "      <td>0.5610</td>\n",
       "      <td>0.000000</td>\n",
       "    </tr>\n",
       "    <tr>\n",
       "      <th>2022-12-30</th>\n",
       "      <td>0.5852</td>\n",
       "      <td>0.000000</td>\n",
       "    </tr>\n",
       "    <tr>\n",
       "      <th>2022-12-31</th>\n",
       "      <td>0.5712</td>\n",
       "      <td>0.000000</td>\n",
       "    </tr>\n",
       "  </tbody>\n",
       "</table>\n",
       "<p>365 rows × 2 columns</p>\n",
       "</div>"
      ],
      "text/plain": [
       "            temp_max  rainfall\n",
       "Date                          \n",
       "2022-01-01    0.5348  0.000000\n",
       "2022-01-02    0.5424  0.000000\n",
       "2022-01-03    0.5370  0.000000\n",
       "2022-01-04    0.5500  0.000000\n",
       "2022-01-05    0.5714  0.000000\n",
       "...              ...       ...\n",
       "2022-12-27    0.5872  0.012133\n",
       "2022-12-28    0.5824  0.002667\n",
       "2022-12-29    0.5610  0.000000\n",
       "2022-12-30    0.5852  0.000000\n",
       "2022-12-31    0.5712  0.000000\n",
       "\n",
       "[365 rows x 2 columns]"
      ]
     },
     "metadata": {},
     "output_type": "display_data"
    },
    {
     "data": {
      "image/png": "[encoded data removed]",
      "text/plain": [
       "<Figure size 640x480 with 1 Axes>"
      ]
     },
     "metadata": {},
     "output_type": "display_data"
    }
   ],
   "source": [
    "test_x1=df[11323:]\n",
    "(test_x1).plot()\n",
    "display(test_x1)\n",
    "test_x1=test_x1.to_numpy()\n",
    "test_x1=test_x1.reshape(1,365,2)\n"
   ]
  },
  {
   "cell_type": "code",
   "execution_count": 69,
   "id": "c6a3da68",
   "metadata": {
    "scrolled": true
   },
   "outputs": [
    {
     "name": "stdout",
     "output_type": "stream",
     "text": [
      "1/1 [==============================] - 0s 232ms/step\n"
     ]
    }
   ],
   "source": [
    "pred1= model.predict(test_x1)"
   ]
  },
  {
   "cell_type": "code",
   "execution_count": 86,
   "id": "c16bc2f2",
   "metadata": {
    "scrolled": false
   },
   "outputs": [
    {
     "name": "stderr",
     "output_type": "stream",
     "text": [
      "C:\\Users\\Lenovo\\AppData\\Local\\Temp\\ipykernel_6212\\4227845883.py:4: UserWarning: Parsing dates in DD/MM/YYYY format when dayfirst=False (the default) was specified. This may lead to inconsistently parsed dates! Specify a format to ensure consistent parsing.\n",
      "  pred2[\"date\"]= pd.date_range(start='01-01-2023', end='31-12-2023')\n"
     ]
    }
   ],
   "source": [
    "pred1 = pred1.reshape(365)\n",
    "pred2 = pd.DataFrame(data=pred1,index=df[11323:].index, columns=['temp_max'])\n",
    "pred2[\"temp_max\"] = pred2[\"temp_max\"]*50 \n",
    "pred2[\"date\"]= pd.date_range(start='01-01-2023', end='31-12-2023')"
   ]
  },
  {
   "cell_type": "code",
   "execution_count": 87,
   "id": "cb74e9d2",
   "metadata": {},
   "outputs": [],
   "source": [
    "pred4=pred2.copy()\n",
    "pred4=pred4.set_index('date')\n",
    "pred4.to_csv(\"C:\\\\Users\\\\Lenovo\\\\Desktop\\\\NASSCOM\\\\Prediction\\\\adilabad_prediction_temp2.csv\")"
   ]
  },
  {
   "cell_type": "code",
   "execution_count": 71,
   "id": "f6ae0d3f",
   "metadata": {},
   "outputs": [],
   "source": [
    "norm= pd.read_csv(\"C:\\\\Users\\\\Lenovo\\\\Desktop\\\\NASSCOM\\\\Normals\\\\temp_normals.csv\")"
   ]
  },
  {
   "cell_type": "code",
   "execution_count": 83,
   "id": "e73c3b63",
   "metadata": {},
   "outputs": [],
   "source": [
    "pred2= pred2.loc[(pred2['temp_max']>=40)]\n",
    "pred2= pred2.sort_values(by=['date'])\n",
    "pred2['month']=pred2['date'].dt.month\n",
    "pred2['normal']=pred2['month'].astype(float)"
   ]
  },
  {
   "cell_type": "code",
   "execution_count": 73,
   "id": "52e015de",
   "metadata": {
    "scrolled": true
   },
   "outputs": [
    {
     "name": "stderr",
     "output_type": "stream",
     "text": [
      "C:\\Users\\Lenovo\\AppData\\Local\\Temp\\ipykernel_6212\\3114785946.py:2: SettingWithCopyWarning: \n",
      "A value is trying to be set on a copy of a slice from a DataFrame\n",
      "\n",
      "See the caveats in the documentation: https://pandas.pydata.org/pandas-docs/stable/user_guide/indexing.html#returning-a-view-versus-a-copy\n",
      "  pred2['normal'][i] = float(norm['Adilabad'][int(pred2[\"month\"][i])-1])\n"
     ]
    },
    {
     "data": {
      "text/html": [
       "<div>\n",
       "<style scoped>\n",
       "    .dataframe tbody tr th:only-of-type {\n",
       "        vertical-align: middle;\n",
       "    }\n",
       "\n",
       "    .dataframe tbody tr th {\n",
       "        vertical-align: top;\n",
       "    }\n",
       "\n",
       "    .dataframe thead th {\n",
       "        text-align: right;\n",
       "    }\n",
       "</style>\n",
       "<table border=\"1\" class=\"dataframe\">\n",
       "  <thead>\n",
       "    <tr style=\"text-align: right;\">\n",
       "      <th></th>\n",
       "      <th>temp_max</th>\n",
       "      <th>date</th>\n",
       "      <th>month</th>\n",
       "      <th>normal</th>\n",
       "    </tr>\n",
       "    <tr>\n",
       "      <th>Date</th>\n",
       "      <th></th>\n",
       "      <th></th>\n",
       "      <th></th>\n",
       "      <th></th>\n",
       "    </tr>\n",
       "  </thead>\n",
       "  <tbody>\n",
       "    <tr>\n",
       "      <th>2022-05-06</th>\n",
       "      <td>40.076084</td>\n",
       "      <td>2023-05-06</td>\n",
       "      <td>5</td>\n",
       "      <td>41.3</td>\n",
       "    </tr>\n",
       "    <tr>\n",
       "      <th>2022-05-08</th>\n",
       "      <td>40.002995</td>\n",
       "      <td>2023-05-08</td>\n",
       "      <td>5</td>\n",
       "      <td>41.3</td>\n",
       "    </tr>\n",
       "    <tr>\n",
       "      <th>2022-05-09</th>\n",
       "      <td>40.107750</td>\n",
       "      <td>2023-05-09</td>\n",
       "      <td>5</td>\n",
       "      <td>41.3</td>\n",
       "    </tr>\n",
       "    <tr>\n",
       "      <th>2022-05-10</th>\n",
       "      <td>40.439190</td>\n",
       "      <td>2023-05-10</td>\n",
       "      <td>5</td>\n",
       "      <td>41.3</td>\n",
       "    </tr>\n",
       "    <tr>\n",
       "      <th>2022-05-11</th>\n",
       "      <td>40.553600</td>\n",
       "      <td>2023-05-11</td>\n",
       "      <td>5</td>\n",
       "      <td>41.3</td>\n",
       "    </tr>\n",
       "    <tr>\n",
       "      <th>2022-05-12</th>\n",
       "      <td>40.650425</td>\n",
       "      <td>2023-05-12</td>\n",
       "      <td>5</td>\n",
       "      <td>41.3</td>\n",
       "    </tr>\n",
       "    <tr>\n",
       "      <th>2022-05-13</th>\n",
       "      <td>40.954353</td>\n",
       "      <td>2023-05-13</td>\n",
       "      <td>5</td>\n",
       "      <td>41.3</td>\n",
       "    </tr>\n",
       "    <tr>\n",
       "      <th>2022-05-14</th>\n",
       "      <td>41.148720</td>\n",
       "      <td>2023-05-14</td>\n",
       "      <td>5</td>\n",
       "      <td>41.3</td>\n",
       "    </tr>\n",
       "    <tr>\n",
       "      <th>2022-05-15</th>\n",
       "      <td>40.945824</td>\n",
       "      <td>2023-05-15</td>\n",
       "      <td>5</td>\n",
       "      <td>41.3</td>\n",
       "    </tr>\n",
       "    <tr>\n",
       "      <th>2022-05-16</th>\n",
       "      <td>40.656303</td>\n",
       "      <td>2023-05-16</td>\n",
       "      <td>5</td>\n",
       "      <td>41.3</td>\n",
       "    </tr>\n",
       "    <tr>\n",
       "      <th>2022-05-17</th>\n",
       "      <td>40.881382</td>\n",
       "      <td>2023-05-17</td>\n",
       "      <td>5</td>\n",
       "      <td>41.3</td>\n",
       "    </tr>\n",
       "    <tr>\n",
       "      <th>2022-05-18</th>\n",
       "      <td>40.900471</td>\n",
       "      <td>2023-05-18</td>\n",
       "      <td>5</td>\n",
       "      <td>41.3</td>\n",
       "    </tr>\n",
       "    <tr>\n",
       "      <th>2022-05-19</th>\n",
       "      <td>41.032734</td>\n",
       "      <td>2023-05-19</td>\n",
       "      <td>5</td>\n",
       "      <td>41.3</td>\n",
       "    </tr>\n",
       "    <tr>\n",
       "      <th>2022-05-20</th>\n",
       "      <td>40.941784</td>\n",
       "      <td>2023-05-20</td>\n",
       "      <td>5</td>\n",
       "      <td>41.3</td>\n",
       "    </tr>\n",
       "    <tr>\n",
       "      <th>2022-05-21</th>\n",
       "      <td>40.745865</td>\n",
       "      <td>2023-05-21</td>\n",
       "      <td>5</td>\n",
       "      <td>41.3</td>\n",
       "    </tr>\n",
       "    <tr>\n",
       "      <th>2022-05-22</th>\n",
       "      <td>40.493797</td>\n",
       "      <td>2023-05-22</td>\n",
       "      <td>5</td>\n",
       "      <td>41.3</td>\n",
       "    </tr>\n",
       "    <tr>\n",
       "      <th>2022-05-23</th>\n",
       "      <td>40.490734</td>\n",
       "      <td>2023-05-23</td>\n",
       "      <td>5</td>\n",
       "      <td>41.3</td>\n",
       "    </tr>\n",
       "    <tr>\n",
       "      <th>2022-05-24</th>\n",
       "      <td>40.538994</td>\n",
       "      <td>2023-05-24</td>\n",
       "      <td>5</td>\n",
       "      <td>41.3</td>\n",
       "    </tr>\n",
       "    <tr>\n",
       "      <th>2022-05-25</th>\n",
       "      <td>40.286064</td>\n",
       "      <td>2023-05-25</td>\n",
       "      <td>5</td>\n",
       "      <td>41.3</td>\n",
       "    </tr>\n",
       "    <tr>\n",
       "      <th>2022-05-26</th>\n",
       "      <td>40.317852</td>\n",
       "      <td>2023-05-26</td>\n",
       "      <td>5</td>\n",
       "      <td>41.3</td>\n",
       "    </tr>\n",
       "    <tr>\n",
       "      <th>2022-05-27</th>\n",
       "      <td>40.335552</td>\n",
       "      <td>2023-05-27</td>\n",
       "      <td>5</td>\n",
       "      <td>41.3</td>\n",
       "    </tr>\n",
       "    <tr>\n",
       "      <th>2022-05-28</th>\n",
       "      <td>40.084064</td>\n",
       "      <td>2023-05-28</td>\n",
       "      <td>5</td>\n",
       "      <td>41.3</td>\n",
       "    </tr>\n",
       "    <tr>\n",
       "      <th>2022-05-30</th>\n",
       "      <td>40.026546</td>\n",
       "      <td>2023-05-30</td>\n",
       "      <td>5</td>\n",
       "      <td>41.3</td>\n",
       "    </tr>\n",
       "    <tr>\n",
       "      <th>2022-06-13</th>\n",
       "      <td>40.239601</td>\n",
       "      <td>2023-06-13</td>\n",
       "      <td>6</td>\n",
       "      <td>36.2</td>\n",
       "    </tr>\n",
       "    <tr>\n",
       "      <th>2022-06-14</th>\n",
       "      <td>40.146309</td>\n",
       "      <td>2023-06-14</td>\n",
       "      <td>6</td>\n",
       "      <td>36.2</td>\n",
       "    </tr>\n",
       "    <tr>\n",
       "      <th>2022-06-15</th>\n",
       "      <td>40.658890</td>\n",
       "      <td>2023-06-15</td>\n",
       "      <td>6</td>\n",
       "      <td>36.2</td>\n",
       "    </tr>\n",
       "    <tr>\n",
       "      <th>2022-06-16</th>\n",
       "      <td>41.263004</td>\n",
       "      <td>2023-06-16</td>\n",
       "      <td>6</td>\n",
       "      <td>36.2</td>\n",
       "    </tr>\n",
       "    <tr>\n",
       "      <th>2022-06-17</th>\n",
       "      <td>41.245365</td>\n",
       "      <td>2023-06-17</td>\n",
       "      <td>6</td>\n",
       "      <td>36.2</td>\n",
       "    </tr>\n",
       "    <tr>\n",
       "      <th>2022-06-18</th>\n",
       "      <td>41.373791</td>\n",
       "      <td>2023-06-18</td>\n",
       "      <td>6</td>\n",
       "      <td>36.2</td>\n",
       "    </tr>\n",
       "    <tr>\n",
       "      <th>2022-06-19</th>\n",
       "      <td>41.566849</td>\n",
       "      <td>2023-06-19</td>\n",
       "      <td>6</td>\n",
       "      <td>36.2</td>\n",
       "    </tr>\n",
       "    <tr>\n",
       "      <th>2022-06-20</th>\n",
       "      <td>41.640072</td>\n",
       "      <td>2023-06-20</td>\n",
       "      <td>6</td>\n",
       "      <td>36.2</td>\n",
       "    </tr>\n",
       "    <tr>\n",
       "      <th>2022-06-21</th>\n",
       "      <td>41.732559</td>\n",
       "      <td>2023-06-21</td>\n",
       "      <td>6</td>\n",
       "      <td>36.2</td>\n",
       "    </tr>\n",
       "    <tr>\n",
       "      <th>2022-06-22</th>\n",
       "      <td>41.856915</td>\n",
       "      <td>2023-06-22</td>\n",
       "      <td>6</td>\n",
       "      <td>36.2</td>\n",
       "    </tr>\n",
       "    <tr>\n",
       "      <th>2022-06-23</th>\n",
       "      <td>41.477139</td>\n",
       "      <td>2023-06-23</td>\n",
       "      <td>6</td>\n",
       "      <td>36.2</td>\n",
       "    </tr>\n",
       "    <tr>\n",
       "      <th>2022-06-24</th>\n",
       "      <td>40.888317</td>\n",
       "      <td>2023-06-24</td>\n",
       "      <td>6</td>\n",
       "      <td>36.2</td>\n",
       "    </tr>\n",
       "    <tr>\n",
       "      <th>2022-06-25</th>\n",
       "      <td>40.248169</td>\n",
       "      <td>2023-06-25</td>\n",
       "      <td>6</td>\n",
       "      <td>36.2</td>\n",
       "    </tr>\n",
       "  </tbody>\n",
       "</table>\n",
       "</div>"
      ],
      "text/plain": [
       "             temp_max       date  month  normal\n",
       "Date                                           \n",
       "2022-05-06  40.076084 2023-05-06      5    41.3\n",
       "2022-05-08  40.002995 2023-05-08      5    41.3\n",
       "2022-05-09  40.107750 2023-05-09      5    41.3\n",
       "2022-05-10  40.439190 2023-05-10      5    41.3\n",
       "2022-05-11  40.553600 2023-05-11      5    41.3\n",
       "2022-05-12  40.650425 2023-05-12      5    41.3\n",
       "2022-05-13  40.954353 2023-05-13      5    41.3\n",
       "2022-05-14  41.148720 2023-05-14      5    41.3\n",
       "2022-05-15  40.945824 2023-05-15      5    41.3\n",
       "2022-05-16  40.656303 2023-05-16      5    41.3\n",
       "2022-05-17  40.881382 2023-05-17      5    41.3\n",
       "2022-05-18  40.900471 2023-05-18      5    41.3\n",
       "2022-05-19  41.032734 2023-05-19      5    41.3\n",
       "2022-05-20  40.941784 2023-05-20      5    41.3\n",
       "2022-05-21  40.745865 2023-05-21      5    41.3\n",
       "2022-05-22  40.493797 2023-05-22      5    41.3\n",
       "2022-05-23  40.490734 2023-05-23      5    41.3\n",
       "2022-05-24  40.538994 2023-05-24      5    41.3\n",
       "2022-05-25  40.286064 2023-05-25      5    41.3\n",
       "2022-05-26  40.317852 2023-05-26      5    41.3\n",
       "2022-05-27  40.335552 2023-05-27      5    41.3\n",
       "2022-05-28  40.084064 2023-05-28      5    41.3\n",
       "2022-05-30  40.026546 2023-05-30      5    41.3\n",
       "2022-06-13  40.239601 2023-06-13      6    36.2\n",
       "2022-06-14  40.146309 2023-06-14      6    36.2\n",
       "2022-06-15  40.658890 2023-06-15      6    36.2\n",
       "2022-06-16  41.263004 2023-06-16      6    36.2\n",
       "2022-06-17  41.245365 2023-06-17      6    36.2\n",
       "2022-06-18  41.373791 2023-06-18      6    36.2\n",
       "2022-06-19  41.566849 2023-06-19      6    36.2\n",
       "2022-06-20  41.640072 2023-06-20      6    36.2\n",
       "2022-06-21  41.732559 2023-06-21      6    36.2\n",
       "2022-06-22  41.856915 2023-06-22      6    36.2\n",
       "2022-06-23  41.477139 2023-06-23      6    36.2\n",
       "2022-06-24  40.888317 2023-06-24      6    36.2\n",
       "2022-06-25  40.248169 2023-06-25      6    36.2"
      ]
     },
     "execution_count": 73,
     "metadata": {},
     "output_type": "execute_result"
    }
   ],
   "source": [
    "for i in range(len(pred2['temp_max'])):\n",
    "    pred2['normal'][i] = float(norm['Adilabad'][int(pred2[\"month\"][i])-1]) \n",
    "pred2"
   ]
  },
  {
   "cell_type": "code",
   "execution_count": 74,
   "id": "517a5180",
   "metadata": {
    "scrolled": true
   },
   "outputs": [
    {
     "name": "stderr",
     "output_type": "stream",
     "text": [
      "C:\\Users\\Lenovo\\AppData\\Local\\Temp\\ipykernel_6212\\3236756996.py:3: SettingWithCopyWarning: \n",
      "A value is trying to be set on a copy of a slice from a DataFrame.\n",
      "Try using .loc[row_indexer,col_indexer] = value instead\n",
      "\n",
      "See the caveats in the documentation: https://pandas.pydata.org/pandas-docs/stable/user_guide/indexing.html#returning-a-view-versus-a-copy\n",
      "  pred3[\"heat\"]=(pred3[\"temp_max\"]).astype(str)\n"
     ]
    },
    {
     "data": {
      "text/html": [
       "<div>\n",
       "<style scoped>\n",
       "    .dataframe tbody tr th:only-of-type {\n",
       "        vertical-align: middle;\n",
       "    }\n",
       "\n",
       "    .dataframe tbody tr th {\n",
       "        vertical-align: top;\n",
       "    }\n",
       "\n",
       "    .dataframe thead th {\n",
       "        text-align: right;\n",
       "    }\n",
       "</style>\n",
       "<table border=\"1\" class=\"dataframe\">\n",
       "  <thead>\n",
       "    <tr style=\"text-align: right;\">\n",
       "      <th></th>\n",
       "      <th>temp_max</th>\n",
       "      <th>date</th>\n",
       "      <th>month</th>\n",
       "      <th>normal</th>\n",
       "      <th>diff</th>\n",
       "      <th>heat</th>\n",
       "    </tr>\n",
       "    <tr>\n",
       "      <th>Date</th>\n",
       "      <th></th>\n",
       "      <th></th>\n",
       "      <th></th>\n",
       "      <th></th>\n",
       "      <th></th>\n",
       "      <th></th>\n",
       "    </tr>\n",
       "  </thead>\n",
       "  <tbody>\n",
       "    <tr>\n",
       "      <th>2022-06-16</th>\n",
       "      <td>41.263004</td>\n",
       "      <td>2023-06-16</td>\n",
       "      <td>6</td>\n",
       "      <td>36.2</td>\n",
       "      <td>5.063004</td>\n",
       "      <td>41.263004</td>\n",
       "    </tr>\n",
       "    <tr>\n",
       "      <th>2022-06-17</th>\n",
       "      <td>41.245365</td>\n",
       "      <td>2023-06-17</td>\n",
       "      <td>6</td>\n",
       "      <td>36.2</td>\n",
       "      <td>5.045365</td>\n",
       "      <td>41.245365</td>\n",
       "    </tr>\n",
       "    <tr>\n",
       "      <th>2022-06-18</th>\n",
       "      <td>41.373791</td>\n",
       "      <td>2023-06-18</td>\n",
       "      <td>6</td>\n",
       "      <td>36.2</td>\n",
       "      <td>5.173791</td>\n",
       "      <td>41.37379</td>\n",
       "    </tr>\n",
       "    <tr>\n",
       "      <th>2022-06-19</th>\n",
       "      <td>41.566849</td>\n",
       "      <td>2023-06-19</td>\n",
       "      <td>6</td>\n",
       "      <td>36.2</td>\n",
       "      <td>5.366849</td>\n",
       "      <td>41.56685</td>\n",
       "    </tr>\n",
       "    <tr>\n",
       "      <th>2022-06-20</th>\n",
       "      <td>41.640072</td>\n",
       "      <td>2023-06-20</td>\n",
       "      <td>6</td>\n",
       "      <td>36.2</td>\n",
       "      <td>5.440072</td>\n",
       "      <td>41.64007</td>\n",
       "    </tr>\n",
       "    <tr>\n",
       "      <th>2022-06-21</th>\n",
       "      <td>41.732559</td>\n",
       "      <td>2023-06-21</td>\n",
       "      <td>6</td>\n",
       "      <td>36.2</td>\n",
       "      <td>5.532559</td>\n",
       "      <td>41.73256</td>\n",
       "    </tr>\n",
       "    <tr>\n",
       "      <th>2022-06-22</th>\n",
       "      <td>41.856915</td>\n",
       "      <td>2023-06-22</td>\n",
       "      <td>6</td>\n",
       "      <td>36.2</td>\n",
       "      <td>5.656915</td>\n",
       "      <td>41.856915</td>\n",
       "    </tr>\n",
       "    <tr>\n",
       "      <th>2022-06-23</th>\n",
       "      <td>41.477139</td>\n",
       "      <td>2023-06-23</td>\n",
       "      <td>6</td>\n",
       "      <td>36.2</td>\n",
       "      <td>5.277139</td>\n",
       "      <td>41.47714</td>\n",
       "    </tr>\n",
       "  </tbody>\n",
       "</table>\n",
       "</div>"
      ],
      "text/plain": [
       "             temp_max       date  month  normal      diff       heat\n",
       "Date                                                                \n",
       "2022-06-16  41.263004 2023-06-16      6    36.2  5.063004  41.263004\n",
       "2022-06-17  41.245365 2023-06-17      6    36.2  5.045365  41.245365\n",
       "2022-06-18  41.373791 2023-06-18      6    36.2  5.173791   41.37379\n",
       "2022-06-19  41.566849 2023-06-19      6    36.2  5.366849   41.56685\n",
       "2022-06-20  41.640072 2023-06-20      6    36.2  5.440072   41.64007\n",
       "2022-06-21  41.732559 2023-06-21      6    36.2  5.532559   41.73256\n",
       "2022-06-22  41.856915 2023-06-22      6    36.2  5.656915  41.856915\n",
       "2022-06-23  41.477139 2023-06-23      6    36.2  5.277139   41.47714"
      ]
     },
     "execution_count": 74,
     "metadata": {},
     "output_type": "execute_result"
    }
   ],
   "source": [
    "pred2[\"diff\"]= pred2['temp_max']-pred2['normal']\n",
    "pred3=pred2.loc[((pred2['normal']<=40) & (pred2['diff']>=5)) | ((pred2['normal']>=40) & (pred2['diff']>=4)) | (pred2['temp_max']>=45)]\n",
    "pred3[\"heat\"]=(pred3[\"temp_max\"]).astype(str)\n",
    "pred3"
   ]
  },
  {
   "cell_type": "code",
   "execution_count": 75,
   "id": "dd64eb23",
   "metadata": {
    "scrolled": true
   },
   "outputs": [
    {
     "name": "stderr",
     "output_type": "stream",
     "text": [
      "C:\\Users\\Lenovo\\AppData\\Local\\Temp\\ipykernel_6212\\1608767477.py:3: SettingWithCopyWarning: \n",
      "A value is trying to be set on a copy of a slice from a DataFrame\n",
      "\n",
      "See the caveats in the documentation: https://pandas.pydata.org/pandas-docs/stable/user_guide/indexing.html#returning-a-view-versus-a-copy\n",
      "  pred3['heat'][i]='Warning! Heatwave expected'\n"
     ]
    }
   ],
   "source": [
    "for i in range(len(pred3['temp_max'])):\n",
    "    if (((pred3['normal'][i]<=40) & (pred2['diff'][i]<7)) | ((pred2['normal'][i]>40) & (pred2['diff'][i]<6))):\n",
    "        pred3['heat'][i]='Warning! Heatwave expected'\n",
    "    elif (((pred3['normal'][i]<=40) & (pred2['diff'][i]>=7)) | ((pred2['normal'][i]>40) & (pred2['diff'][i]>=6)) | (pred2['temp_max']>=45)):\n",
    "        pred3['heat'][i]='Warning! Severe Heatwave expected'"
   ]
  },
  {
   "cell_type": "code",
   "execution_count": 76,
   "id": "67c1d33d",
   "metadata": {
    "scrolled": true
   },
   "outputs": [
    {
     "data": {
      "text/html": [
       "<div>\n",
       "<style scoped>\n",
       "    .dataframe tbody tr th:only-of-type {\n",
       "        vertical-align: middle;\n",
       "    }\n",
       "\n",
       "    .dataframe tbody tr th {\n",
       "        vertical-align: top;\n",
       "    }\n",
       "\n",
       "    .dataframe thead th {\n",
       "        text-align: right;\n",
       "    }\n",
       "</style>\n",
       "<table border=\"1\" class=\"dataframe\">\n",
       "  <thead>\n",
       "    <tr style=\"text-align: right;\">\n",
       "      <th></th>\n",
       "      <th>temp_max</th>\n",
       "      <th>date</th>\n",
       "      <th>month</th>\n",
       "      <th>normal</th>\n",
       "      <th>diff</th>\n",
       "      <th>heat</th>\n",
       "    </tr>\n",
       "    <tr>\n",
       "      <th>Date</th>\n",
       "      <th></th>\n",
       "      <th></th>\n",
       "      <th></th>\n",
       "      <th></th>\n",
       "      <th></th>\n",
       "      <th></th>\n",
       "    </tr>\n",
       "  </thead>\n",
       "  <tbody>\n",
       "    <tr>\n",
       "      <th>2022-06-16</th>\n",
       "      <td>41.263004</td>\n",
       "      <td>2023-06-16</td>\n",
       "      <td>6</td>\n",
       "      <td>36.2</td>\n",
       "      <td>5.063004</td>\n",
       "      <td>Warning! Heatwave expected</td>\n",
       "    </tr>\n",
       "    <tr>\n",
       "      <th>2022-06-17</th>\n",
       "      <td>41.245365</td>\n",
       "      <td>2023-06-17</td>\n",
       "      <td>6</td>\n",
       "      <td>36.2</td>\n",
       "      <td>5.045365</td>\n",
       "      <td>Warning! Heatwave expected</td>\n",
       "    </tr>\n",
       "    <tr>\n",
       "      <th>2022-06-18</th>\n",
       "      <td>41.373791</td>\n",
       "      <td>2023-06-18</td>\n",
       "      <td>6</td>\n",
       "      <td>36.2</td>\n",
       "      <td>5.173791</td>\n",
       "      <td>Warning! Heatwave expected</td>\n",
       "    </tr>\n",
       "    <tr>\n",
       "      <th>2022-06-19</th>\n",
       "      <td>41.566849</td>\n",
       "      <td>2023-06-19</td>\n",
       "      <td>6</td>\n",
       "      <td>36.2</td>\n",
       "      <td>5.366849</td>\n",
       "      <td>Warning! Heatwave expected</td>\n",
       "    </tr>\n",
       "    <tr>\n",
       "      <th>2022-06-20</th>\n",
       "      <td>41.640072</td>\n",
       "      <td>2023-06-20</td>\n",
       "      <td>6</td>\n",
       "      <td>36.2</td>\n",
       "      <td>5.440072</td>\n",
       "      <td>Warning! Heatwave expected</td>\n",
       "    </tr>\n",
       "    <tr>\n",
       "      <th>2022-06-21</th>\n",
       "      <td>41.732559</td>\n",
       "      <td>2023-06-21</td>\n",
       "      <td>6</td>\n",
       "      <td>36.2</td>\n",
       "      <td>5.532559</td>\n",
       "      <td>Warning! Heatwave expected</td>\n",
       "    </tr>\n",
       "    <tr>\n",
       "      <th>2022-06-22</th>\n",
       "      <td>41.856915</td>\n",
       "      <td>2023-06-22</td>\n",
       "      <td>6</td>\n",
       "      <td>36.2</td>\n",
       "      <td>5.656915</td>\n",
       "      <td>Warning! Heatwave expected</td>\n",
       "    </tr>\n",
       "    <tr>\n",
       "      <th>2022-06-23</th>\n",
       "      <td>41.477139</td>\n",
       "      <td>2023-06-23</td>\n",
       "      <td>6</td>\n",
       "      <td>36.2</td>\n",
       "      <td>5.277139</td>\n",
       "      <td>Warning! Heatwave expected</td>\n",
       "    </tr>\n",
       "  </tbody>\n",
       "</table>\n",
       "</div>"
      ],
      "text/plain": [
       "             temp_max       date  month  normal      diff  \\\n",
       "Date                                                        \n",
       "2022-06-16  41.263004 2023-06-16      6    36.2  5.063004   \n",
       "2022-06-17  41.245365 2023-06-17      6    36.2  5.045365   \n",
       "2022-06-18  41.373791 2023-06-18      6    36.2  5.173791   \n",
       "2022-06-19  41.566849 2023-06-19      6    36.2  5.366849   \n",
       "2022-06-20  41.640072 2023-06-20      6    36.2  5.440072   \n",
       "2022-06-21  41.732559 2023-06-21      6    36.2  5.532559   \n",
       "2022-06-22  41.856915 2023-06-22      6    36.2  5.656915   \n",
       "2022-06-23  41.477139 2023-06-23      6    36.2  5.277139   \n",
       "\n",
       "                                  heat  \n",
       "Date                                    \n",
       "2022-06-16  Warning! Heatwave expected  \n",
       "2022-06-17  Warning! Heatwave expected  \n",
       "2022-06-18  Warning! Heatwave expected  \n",
       "2022-06-19  Warning! Heatwave expected  \n",
       "2022-06-20  Warning! Heatwave expected  \n",
       "2022-06-21  Warning! Heatwave expected  \n",
       "2022-06-22  Warning! Heatwave expected  \n",
       "2022-06-23  Warning! Heatwave expected  "
      ]
     },
     "execution_count": 76,
     "metadata": {},
     "output_type": "execute_result"
    }
   ],
   "source": [
    "pred3"
   ]
  },
  {
   "cell_type": "code",
   "execution_count": 77,
   "id": "27e0b715",
   "metadata": {
    "scrolled": true
   },
   "outputs": [
    {
     "data": {
      "text/html": [
       "<div>\n",
       "<style scoped>\n",
       "    .dataframe tbody tr th:only-of-type {\n",
       "        vertical-align: middle;\n",
       "    }\n",
       "\n",
       "    .dataframe tbody tr th {\n",
       "        vertical-align: top;\n",
       "    }\n",
       "\n",
       "    .dataframe thead th {\n",
       "        text-align: right;\n",
       "    }\n",
       "</style>\n",
       "<table border=\"1\" class=\"dataframe\">\n",
       "  <thead>\n",
       "    <tr style=\"text-align: right;\">\n",
       "      <th></th>\n",
       "      <th>temp_max</th>\n",
       "      <th>heat</th>\n",
       "    </tr>\n",
       "    <tr>\n",
       "      <th>date</th>\n",
       "      <th></th>\n",
       "      <th></th>\n",
       "    </tr>\n",
       "  </thead>\n",
       "  <tbody>\n",
       "    <tr>\n",
       "      <th>2023-06-16</th>\n",
       "      <td>41.263004</td>\n",
       "      <td>Warning! Heatwave expected</td>\n",
       "    </tr>\n",
       "    <tr>\n",
       "      <th>2023-06-17</th>\n",
       "      <td>41.245365</td>\n",
       "      <td>Warning! Heatwave expected</td>\n",
       "    </tr>\n",
       "    <tr>\n",
       "      <th>2023-06-18</th>\n",
       "      <td>41.373791</td>\n",
       "      <td>Warning! Heatwave expected</td>\n",
       "    </tr>\n",
       "    <tr>\n",
       "      <th>2023-06-19</th>\n",
       "      <td>41.566849</td>\n",
       "      <td>Warning! Heatwave expected</td>\n",
       "    </tr>\n",
       "    <tr>\n",
       "      <th>2023-06-20</th>\n",
       "      <td>41.640072</td>\n",
       "      <td>Warning! Heatwave expected</td>\n",
       "    </tr>\n",
       "    <tr>\n",
       "      <th>2023-06-21</th>\n",
       "      <td>41.732559</td>\n",
       "      <td>Warning! Heatwave expected</td>\n",
       "    </tr>\n",
       "    <tr>\n",
       "      <th>2023-06-22</th>\n",
       "      <td>41.856915</td>\n",
       "      <td>Warning! Heatwave expected</td>\n",
       "    </tr>\n",
       "    <tr>\n",
       "      <th>2023-06-23</th>\n",
       "      <td>41.477139</td>\n",
       "      <td>Warning! Heatwave expected</td>\n",
       "    </tr>\n",
       "  </tbody>\n",
       "</table>\n",
       "</div>"
      ],
      "text/plain": [
       "             temp_max                        heat\n",
       "date                                             \n",
       "2023-06-16  41.263004  Warning! Heatwave expected\n",
       "2023-06-17  41.245365  Warning! Heatwave expected\n",
       "2023-06-18  41.373791  Warning! Heatwave expected\n",
       "2023-06-19  41.566849  Warning! Heatwave expected\n",
       "2023-06-20  41.640072  Warning! Heatwave expected\n",
       "2023-06-21  41.732559  Warning! Heatwave expected\n",
       "2023-06-22  41.856915  Warning! Heatwave expected\n",
       "2023-06-23  41.477139  Warning! Heatwave expected"
      ]
     },
     "execution_count": 77,
     "metadata": {},
     "output_type": "execute_result"
    }
   ],
   "source": [
    "pred3=pred3.set_index('date')\n",
    "pred3=pred3.drop(['month', 'normal', 'diff'], axis=1)\n",
    "pred3 # Final dataframe containing prediction of the occurence of heatwave for the year 2023 in Adilabad"
   ]
  },
  {
   "cell_type": "code",
   "execution_count": 80,
   "id": "90156fe1",
   "metadata": {},
   "outputs": [],
   "source": [
    "pred3.to_csv(\"C:\\\\Users\\\\Lenovo\\\\Desktop\\\\NASSCOM\\\\Prediction\\\\adilabad_heatwave_prediction.csv\") # saving results to csv file"
   ]
  }
 ],
 "metadata": {
  "kernelspec": {
   "display_name": "Python 3 (ipykernel)",
   "language": "python",
   "name": "python3"
  },
  "language_info": {
   "codemirror_mode": {
    "name": "ipython",
    "version": 3
   },
   "file_extension": ".py",
   "mimetype": "text/x-python",
   "name": "python",
   "nbconvert_exporter": "python",
   "pygments_lexer": "ipython3",
   "version": "3.10.7"
  }
 },
 "nbformat": 4,
 "nbformat_minor": 5
}
