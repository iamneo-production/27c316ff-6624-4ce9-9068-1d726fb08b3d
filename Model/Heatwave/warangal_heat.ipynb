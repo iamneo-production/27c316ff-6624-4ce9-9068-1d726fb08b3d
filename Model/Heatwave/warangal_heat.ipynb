{
 "cells": [
  {
   "cell_type": "code",
   "execution_count": 5,
   "id": "c9b03d31",
   "metadata": {},
   "outputs": [],
   "source": [
    "import pandas as pd\n",
    "import numpy as np\n",
    "import matplotlib.pyplot as plt"
   ]
  },
  {
   "cell_type": "code",
   "execution_count": 6,
   "id": "44a133e6",
   "metadata": {},
   "outputs": [],
   "source": [
    "df= pd.read_csv(\"C:\\\\Users\\\\Lenovo\\\\Desktop\\\\NASSCOM\\\\Dataset District\\\\NASA\\\\warangal_nasa.csv\")  #creating pandas dataframe"
   ]
  },
  {
   "cell_type": "code",
   "execution_count": 7,
   "id": "053c1710",
   "metadata": {
    "scrolled": true
   },
   "outputs": [
    {
     "data": {
      "text/html": [
       "<div>\n",
       "<style scoped>\n",
       "    .dataframe tbody tr th:only-of-type {\n",
       "        vertical-align: middle;\n",
       "    }\n",
       "\n",
       "    .dataframe tbody tr th {\n",
       "        vertical-align: top;\n",
       "    }\n",
       "\n",
       "    .dataframe thead th {\n",
       "        text-align: right;\n",
       "    }\n",
       "</style>\n",
       "<table border=\"1\" class=\"dataframe\">\n",
       "  <thead>\n",
       "    <tr style=\"text-align: right;\">\n",
       "      <th></th>\n",
       "      <th>Date</th>\n",
       "      <th>temp_max</th>\n",
       "      <th>rainfall</th>\n",
       "      <th>pressure</th>\n",
       "    </tr>\n",
       "  </thead>\n",
       "  <tbody>\n",
       "    <tr>\n",
       "      <th>0</th>\n",
       "      <td>01/01/1991</td>\n",
       "      <td>30.46</td>\n",
       "      <td>0.01</td>\n",
       "      <td>97.55</td>\n",
       "    </tr>\n",
       "    <tr>\n",
       "      <th>1</th>\n",
       "      <td>02/01/1991</td>\n",
       "      <td>30.76</td>\n",
       "      <td>0.35</td>\n",
       "      <td>97.51</td>\n",
       "    </tr>\n",
       "    <tr>\n",
       "      <th>2</th>\n",
       "      <td>03/01/1991</td>\n",
       "      <td>26.81</td>\n",
       "      <td>0.04</td>\n",
       "      <td>97.72</td>\n",
       "    </tr>\n",
       "    <tr>\n",
       "      <th>3</th>\n",
       "      <td>04/01/1991</td>\n",
       "      <td>28.19</td>\n",
       "      <td>0.00</td>\n",
       "      <td>97.89</td>\n",
       "    </tr>\n",
       "    <tr>\n",
       "      <th>4</th>\n",
       "      <td>05/01/1991</td>\n",
       "      <td>28.84</td>\n",
       "      <td>0.00</td>\n",
       "      <td>97.88</td>\n",
       "    </tr>\n",
       "    <tr>\n",
       "      <th>...</th>\n",
       "      <td>...</td>\n",
       "      <td>...</td>\n",
       "      <td>...</td>\n",
       "      <td>...</td>\n",
       "    </tr>\n",
       "    <tr>\n",
       "      <th>11683</th>\n",
       "      <td>27/12/2022</td>\n",
       "      <td>28.14</td>\n",
       "      <td>0.94</td>\n",
       "      <td>98.00</td>\n",
       "    </tr>\n",
       "    <tr>\n",
       "      <th>11684</th>\n",
       "      <td>28/12/2022</td>\n",
       "      <td>28.68</td>\n",
       "      <td>2.55</td>\n",
       "      <td>98.04</td>\n",
       "    </tr>\n",
       "    <tr>\n",
       "      <th>11685</th>\n",
       "      <td>29/12/2022</td>\n",
       "      <td>28.02</td>\n",
       "      <td>0.06</td>\n",
       "      <td>98.19</td>\n",
       "    </tr>\n",
       "    <tr>\n",
       "      <th>11686</th>\n",
       "      <td>30/12/2022</td>\n",
       "      <td>28.63</td>\n",
       "      <td>0.00</td>\n",
       "      <td>98.23</td>\n",
       "    </tr>\n",
       "    <tr>\n",
       "      <th>11687</th>\n",
       "      <td>31/12/2022</td>\n",
       "      <td>28.56</td>\n",
       "      <td>0.00</td>\n",
       "      <td>98.12</td>\n",
       "    </tr>\n",
       "  </tbody>\n",
       "</table>\n",
       "<p>11688 rows × 4 columns</p>\n",
       "</div>"
      ],
      "text/plain": [
       "             Date  temp_max  rainfall  pressure\n",
       "0      01/01/1991     30.46      0.01     97.55\n",
       "1      02/01/1991     30.76      0.35     97.51\n",
       "2      03/01/1991     26.81      0.04     97.72\n",
       "3      04/01/1991     28.19      0.00     97.89\n",
       "4      05/01/1991     28.84      0.00     97.88\n",
       "...           ...       ...       ...       ...\n",
       "11683  27/12/2022     28.14      0.94     98.00\n",
       "11684  28/12/2022     28.68      2.55     98.04\n",
       "11685  29/12/2022     28.02      0.06     98.19\n",
       "11686  30/12/2022     28.63      0.00     98.23\n",
       "11687  31/12/2022     28.56      0.00     98.12\n",
       "\n",
       "[11688 rows x 4 columns]"
      ]
     },
     "execution_count": 7,
     "metadata": {},
     "output_type": "execute_result"
    }
   ],
   "source": [
    "df"
   ]
  },
  {
   "cell_type": "code",
   "execution_count": 8,
   "id": "d35a4658",
   "metadata": {},
   "outputs": [],
   "source": [
    "df=df.drop([\"pressure\"], axis=1)   "
   ]
  },
  {
   "cell_type": "code",
   "execution_count": 16,
   "id": "399d74b9",
   "metadata": {
    "scrolled": true
   },
   "outputs": [
    {
     "data": {
      "text/html": [
       "<div>\n",
       "<style scoped>\n",
       "    .dataframe tbody tr th:only-of-type {\n",
       "        vertical-align: middle;\n",
       "    }\n",
       "\n",
       "    .dataframe tbody tr th {\n",
       "        vertical-align: top;\n",
       "    }\n",
       "\n",
       "    .dataframe thead th {\n",
       "        text-align: right;\n",
       "    }\n",
       "</style>\n",
       "<table border=\"1\" class=\"dataframe\">\n",
       "  <thead>\n",
       "    <tr style=\"text-align: right;\">\n",
       "      <th></th>\n",
       "      <th>temp_max</th>\n",
       "      <th>rainfall</th>\n",
       "    </tr>\n",
       "  </thead>\n",
       "  <tbody>\n",
       "    <tr>\n",
       "      <th>count</th>\n",
       "      <td>11688.000000</td>\n",
       "      <td>11688.000000</td>\n",
       "    </tr>\n",
       "    <tr>\n",
       "      <th>mean</th>\n",
       "      <td>33.472664</td>\n",
       "      <td>2.481171</td>\n",
       "    </tr>\n",
       "    <tr>\n",
       "      <th>std</th>\n",
       "      <td>5.059059</td>\n",
       "      <td>6.882148</td>\n",
       "    </tr>\n",
       "    <tr>\n",
       "      <th>min</th>\n",
       "      <td>20.870000</td>\n",
       "      <td>0.000000</td>\n",
       "    </tr>\n",
       "    <tr>\n",
       "      <th>25%</th>\n",
       "      <td>29.650000</td>\n",
       "      <td>0.000000</td>\n",
       "    </tr>\n",
       "    <tr>\n",
       "      <th>50%</th>\n",
       "      <td>31.940000</td>\n",
       "      <td>0.030000</td>\n",
       "    </tr>\n",
       "    <tr>\n",
       "      <th>75%</th>\n",
       "      <td>37.160000</td>\n",
       "      <td>1.590000</td>\n",
       "    </tr>\n",
       "    <tr>\n",
       "      <th>max</th>\n",
       "      <td>47.250000</td>\n",
       "      <td>174.670000</td>\n",
       "    </tr>\n",
       "  </tbody>\n",
       "</table>\n",
       "</div>"
      ],
      "text/plain": [
       "           temp_max      rainfall\n",
       "count  11688.000000  11688.000000\n",
       "mean      33.472664      2.481171\n",
       "std        5.059059      6.882148\n",
       "min       20.870000      0.000000\n",
       "25%       29.650000      0.000000\n",
       "50%       31.940000      0.030000\n",
       "75%       37.160000      1.590000\n",
       "max       47.250000    174.670000"
      ]
     },
     "execution_count": 16,
     "metadata": {},
     "output_type": "execute_result"
    }
   ],
   "source": [
    "df.describe()"
   ]
  },
  {
   "cell_type": "code",
   "execution_count": 9,
   "id": "0b579c58",
   "metadata": {},
   "outputs": [],
   "source": [
    "df['Date']= pd.to_datetime(df.Date, format=\"%d/%m/%Y\")\n",
    "df= df.set_index('Date')"
   ]
  },
  {
   "cell_type": "code",
   "execution_count": 10,
   "id": "a693115b",
   "metadata": {},
   "outputs": [
    {
     "name": "stdout",
     "output_type": "stream",
     "text": [
      "D\n"
     ]
    }
   ],
   "source": [
    "print(pd.infer_freq(df.index))"
   ]
  },
  {
   "cell_type": "code",
   "execution_count": 11,
   "id": "6f11d3cb",
   "metadata": {},
   "outputs": [],
   "source": [
    "df['rainfall']=df['rainfall']/175\n",
    "df['temp_max']=df['temp_max']/50"
   ]
  },
  {
   "cell_type": "code",
   "execution_count": 12,
   "id": "ff4f04a1",
   "metadata": {},
   "outputs": [],
   "source": [
    "df1=df[['temp_max', 'rainfall']]"
   ]
  },
  {
   "cell_type": "code",
   "execution_count": 21,
   "id": "cccdc5ff",
   "metadata": {},
   "outputs": [],
   "source": [
    "df1=df1[:10958]"
   ]
  },
  {
   "cell_type": "code",
   "execution_count": 22,
   "id": "107b5bb6",
   "metadata": {},
   "outputs": [
    {
     "data": {
      "text/html": [
       "<div>\n",
       "<style scoped>\n",
       "    .dataframe tbody tr th:only-of-type {\n",
       "        vertical-align: middle;\n",
       "    }\n",
       "\n",
       "    .dataframe tbody tr th {\n",
       "        vertical-align: top;\n",
       "    }\n",
       "\n",
       "    .dataframe thead th {\n",
       "        text-align: right;\n",
       "    }\n",
       "</style>\n",
       "<table border=\"1\" class=\"dataframe\">\n",
       "  <thead>\n",
       "    <tr style=\"text-align: right;\">\n",
       "      <th></th>\n",
       "      <th>temp_max</th>\n",
       "      <th>rainfall</th>\n",
       "    </tr>\n",
       "    <tr>\n",
       "      <th>Date</th>\n",
       "      <th></th>\n",
       "      <th></th>\n",
       "    </tr>\n",
       "  </thead>\n",
       "  <tbody>\n",
       "    <tr>\n",
       "      <th>1991-01-01</th>\n",
       "      <td>0.6092</td>\n",
       "      <td>0.000057</td>\n",
       "    </tr>\n",
       "    <tr>\n",
       "      <th>1991-01-02</th>\n",
       "      <td>0.6152</td>\n",
       "      <td>0.002000</td>\n",
       "    </tr>\n",
       "    <tr>\n",
       "      <th>1991-01-03</th>\n",
       "      <td>0.5362</td>\n",
       "      <td>0.000229</td>\n",
       "    </tr>\n",
       "    <tr>\n",
       "      <th>1991-01-04</th>\n",
       "      <td>0.5638</td>\n",
       "      <td>0.000000</td>\n",
       "    </tr>\n",
       "    <tr>\n",
       "      <th>1991-01-05</th>\n",
       "      <td>0.5768</td>\n",
       "      <td>0.000000</td>\n",
       "    </tr>\n",
       "    <tr>\n",
       "      <th>...</th>\n",
       "      <td>...</td>\n",
       "      <td>...</td>\n",
       "    </tr>\n",
       "    <tr>\n",
       "      <th>2020-12-27</th>\n",
       "      <td>0.5250</td>\n",
       "      <td>0.000000</td>\n",
       "    </tr>\n",
       "    <tr>\n",
       "      <th>2020-12-28</th>\n",
       "      <td>0.5212</td>\n",
       "      <td>0.000000</td>\n",
       "    </tr>\n",
       "    <tr>\n",
       "      <th>2020-12-29</th>\n",
       "      <td>0.5254</td>\n",
       "      <td>0.000000</td>\n",
       "    </tr>\n",
       "    <tr>\n",
       "      <th>2020-12-30</th>\n",
       "      <td>0.5198</td>\n",
       "      <td>0.000000</td>\n",
       "    </tr>\n",
       "    <tr>\n",
       "      <th>2020-12-31</th>\n",
       "      <td>0.5204</td>\n",
       "      <td>0.000000</td>\n",
       "    </tr>\n",
       "  </tbody>\n",
       "</table>\n",
       "<p>10958 rows × 2 columns</p>\n",
       "</div>"
      ],
      "text/plain": [
       "            temp_max  rainfall\n",
       "Date                          \n",
       "1991-01-01    0.6092  0.000057\n",
       "1991-01-02    0.6152  0.002000\n",
       "1991-01-03    0.5362  0.000229\n",
       "1991-01-04    0.5638  0.000000\n",
       "1991-01-05    0.5768  0.000000\n",
       "...              ...       ...\n",
       "2020-12-27    0.5250  0.000000\n",
       "2020-12-28    0.5212  0.000000\n",
       "2020-12-29    0.5254  0.000000\n",
       "2020-12-30    0.5198  0.000000\n",
       "2020-12-31    0.5204  0.000000\n",
       "\n",
       "[10958 rows x 2 columns]"
      ]
     },
     "execution_count": 22,
     "metadata": {},
     "output_type": "execute_result"
    }
   ],
   "source": [
    "df1"
   ]
  },
  {
   "cell_type": "code",
   "execution_count": 23,
   "id": "b1f4d75b",
   "metadata": {},
   "outputs": [],
   "source": [
    "def create_data(df, lookback=365):\n",
    "    df_np= df.to_numpy()\n",
    "    X=[]\n",
    "    y=[]\n",
    "    \n",
    "    for i in range(len(df_np)-2*lookback):\n",
    "        row = [x for x in df_np[i:i+lookback]]\n",
    "        X.append(row)\n",
    "        label = [z[0] for z in df_np[i+lookback:i+(2*lookback)]]\n",
    "        y.append(label)\n",
    "    return np.array(X), np.array(y)"
   ]
  },
  {
   "cell_type": "code",
   "execution_count": 24,
   "id": "2b9d1a67",
   "metadata": {},
   "outputs": [],
   "source": [
    "X,y = create_data(df1)"
   ]
  },
  {
   "cell_type": "code",
   "execution_count": 25,
   "id": "e1959cb2",
   "metadata": {
    "scrolled": true
   },
   "outputs": [
    {
     "data": {
      "text/plain": [
       "((10228, 365, 2), (10228, 365))"
      ]
     },
     "execution_count": 25,
     "metadata": {},
     "output_type": "execute_result"
    }
   ],
   "source": [
    "X.shape, y.shape"
   ]
  },
  {
   "cell_type": "code",
   "execution_count": 26,
   "id": "de4b10eb",
   "metadata": {},
   "outputs": [],
   "source": [
    "X_train, y_train, X_test, y_test = X[:9265], y[:9265], X[9265:], y[9265:]\n",
    "X_train, y_train, X_val, y_val= X_train[:8242], y_train[:8242], X_train[8242:9265], y_train[8242:9265]"
   ]
  },
  {
   "cell_type": "code",
   "execution_count": 27,
   "id": "4cfeefd4",
   "metadata": {},
   "outputs": [
    {
     "data": {
      "text/plain": [
       "(9133, 730, 365)"
      ]
     },
     "execution_count": 27,
     "metadata": {},
     "output_type": "execute_result"
    }
   ],
   "source": [
    "len(X_train), len(X_val), len(X_test)"
   ]
  },
  {
   "cell_type": "code",
   "execution_count": 28,
   "id": "fa2bfbae",
   "metadata": {
    "scrolled": true
   },
   "outputs": [
    {
     "data": {
      "text/plain": [
       "((9133, 365, 2), (9133, 365))"
      ]
     },
     "execution_count": 28,
     "metadata": {},
     "output_type": "execute_result"
    }
   ],
   "source": [
    "X_train.shape, y_train.shape"
   ]
  },
  {
   "cell_type": "code",
   "execution_count": 29,
   "id": "0d31e3b9",
   "metadata": {},
   "outputs": [],
   "source": [
    "from tensorflow.keras.models import Sequential\n",
    "from tensorflow.keras.layers import *\n",
    "from tensorflow.keras.losses import MeanSquaredError\n",
    "from tensorflow.keras.callbacks import ModelCheckpoint\n",
    "\n",
    "from tensorflow.keras.optimizers import Adam"
   ]
  },
  {
   "cell_type": "code",
   "execution_count": 30,
   "id": "ea1a5d9d",
   "metadata": {},
   "outputs": [],
   "source": [
    "from tensorflow.keras.metrics import MeanAbsolutePercentageError"
   ]
  },
  {
   "cell_type": "code",
   "execution_count": 49,
   "id": "8d3a5635",
   "metadata": {
    "scrolled": true
   },
   "outputs": [
    {
     "name": "stdout",
     "output_type": "stream",
     "text": [
      "Model: \"sequential_1\"\n",
      "_________________________________________________________________\n",
      " Layer (type)                Output Shape              Param #   \n",
      "=================================================================\n",
      " lstm_1 (LSTM)               (None, 128)               67072     \n",
      "                                                                 \n",
      " dropout_1 (Dropout)         (None, 128)               0         \n",
      "                                                                 \n",
      " dense_2 (Dense)             (None, 512)               66048     \n",
      "                                                                 \n",
      " dense_3 (Dense)             (None, 365)               187245    \n",
      "                                                                 \n",
      "=================================================================\n",
      "Total params: 320,365\n",
      "Trainable params: 320,365\n",
      "Non-trainable params: 0\n",
      "_________________________________________________________________\n"
     ]
    }
   ],
   "source": [
    "# Preparing LSTM layer\n",
    "warangal_temp= Sequential([\n",
    "    InputLayer((365,2)),\n",
    "    LSTM(units=128),\n",
    "    Dropout(0.2),\n",
    "    Dense(512, activation='relu'),\n",
    "    Dense(365, activation='relu'),  \n",
    "])\n",
    "warangal_temp.summary()"
   ]
  },
  {
   "cell_type": "code",
   "execution_count": 50,
   "id": "2479db84",
   "metadata": {
    "scrolled": true
   },
   "outputs": [
    {
     "name": "stdout",
     "output_type": "stream",
     "text": [
      "Epoch 1/200\n",
      "285/286 [============================>.] - ETA: 0s - loss: 0.0685 - mean_absolute_percentage_error: 24.4004"
     ]
    },
    {
     "name": "stderr",
     "output_type": "stream",
     "text": [
      "WARNING:absl:Found untraced functions such as lstm_cell_1_layer_call_fn, lstm_cell_1_layer_call_and_return_conditional_losses while saving (showing 2 of 2). These functions will not be directly callable after loading.\n"
     ]
    },
    {
     "name": "stdout",
     "output_type": "stream",
     "text": [
      "INFO:tensorflow:Assets written to: warangal_temp1\\assets\n"
     ]
    },
    {
     "name": "stderr",
     "output_type": "stream",
     "text": [
      "INFO:tensorflow:Assets written to: warangal_temp1\\assets\n"
     ]
    },
    {
     "name": "stdout",
     "output_type": "stream",
     "text": [
      "286/286 [==============================] - 24s 76ms/step - loss: 0.0685 - mean_absolute_percentage_error: 24.3950 - val_loss: 0.0523 - val_mean_absolute_percentage_error: 18.5736\n",
      "Epoch 2/200\n",
      "285/286 [============================>.] - ETA: 0s - loss: 0.0495 - mean_absolute_percentage_error: 18.5226"
     ]
    },
    {
     "name": "stderr",
     "output_type": "stream",
     "text": [
      "WARNING:absl:Found untraced functions such as lstm_cell_1_layer_call_fn, lstm_cell_1_layer_call_and_return_conditional_losses while saving (showing 2 of 2). These functions will not be directly callable after loading.\n"
     ]
    },
    {
     "name": "stdout",
     "output_type": "stream",
     "text": [
      "INFO:tensorflow:Assets written to: warangal_temp1\\assets\n"
     ]
    },
    {
     "name": "stderr",
     "output_type": "stream",
     "text": [
      "INFO:tensorflow:Assets written to: warangal_temp1\\assets\n"
     ]
    },
    {
     "name": "stdout",
     "output_type": "stream",
     "text": [
      "286/286 [==============================] - 21s 74ms/step - loss: 0.0495 - mean_absolute_percentage_error: 18.5168 - val_loss: 0.0402 - val_mean_absolute_percentage_error: 14.7963\n",
      "Epoch 3/200\n",
      "286/286 [==============================] - ETA: 0s - loss: 0.0336 - mean_absolute_percentage_error: 13.2135"
     ]
    },
    {
     "name": "stderr",
     "output_type": "stream",
     "text": [
      "WARNING:absl:Found untraced functions such as lstm_cell_1_layer_call_fn, lstm_cell_1_layer_call_and_return_conditional_losses while saving (showing 2 of 2). These functions will not be directly callable after loading.\n"
     ]
    },
    {
     "name": "stdout",
     "output_type": "stream",
     "text": [
      "INFO:tensorflow:Assets written to: warangal_temp1\\assets\n"
     ]
    },
    {
     "name": "stderr",
     "output_type": "stream",
     "text": [
      "INFO:tensorflow:Assets written to: warangal_temp1\\assets\n"
     ]
    },
    {
     "name": "stdout",
     "output_type": "stream",
     "text": [
      "286/286 [==============================] - 21s 73ms/step - loss: 0.0336 - mean_absolute_percentage_error: 13.2135 - val_loss: 0.0288 - val_mean_absolute_percentage_error: 11.7765\n",
      "Epoch 4/200\n",
      "286/286 [==============================] - ETA: 0s - loss: 0.0265 - mean_absolute_percentage_error: 11.1032"
     ]
    },
    {
     "name": "stderr",
     "output_type": "stream",
     "text": [
      "WARNING:absl:Found untraced functions such as lstm_cell_1_layer_call_fn, lstm_cell_1_layer_call_and_return_conditional_losses while saving (showing 2 of 2). These functions will not be directly callable after loading.\n"
     ]
    },
    {
     "name": "stdout",
     "output_type": "stream",
     "text": [
      "INFO:tensorflow:Assets written to: warangal_temp1\\assets\n"
     ]
    },
    {
     "name": "stderr",
     "output_type": "stream",
     "text": [
      "INFO:tensorflow:Assets written to: warangal_temp1\\assets\n"
     ]
    },
    {
     "name": "stdout",
     "output_type": "stream",
     "text": [
      "286/286 [==============================] - 21s 72ms/step - loss: 0.0265 - mean_absolute_percentage_error: 11.1032 - val_loss: 0.0258 - val_mean_absolute_percentage_error: 11.0054\n",
      "Epoch 5/200\n",
      "285/286 [============================>.] - ETA: 0s - loss: 0.0249 - mean_absolute_percentage_error: 10.5975"
     ]
    },
    {
     "name": "stderr",
     "output_type": "stream",
     "text": [
      "WARNING:absl:Found untraced functions such as lstm_cell_1_layer_call_fn, lstm_cell_1_layer_call_and_return_conditional_losses while saving (showing 2 of 2). These functions will not be directly callable after loading.\n"
     ]
    },
    {
     "name": "stdout",
     "output_type": "stream",
     "text": [
      "INFO:tensorflow:Assets written to: warangal_temp1\\assets\n"
     ]
    },
    {
     "name": "stderr",
     "output_type": "stream",
     "text": [
      "INFO:tensorflow:Assets written to: warangal_temp1\\assets\n"
     ]
    },
    {
     "name": "stdout",
     "output_type": "stream",
     "text": [
      "286/286 [==============================] - 22s 75ms/step - loss: 0.0249 - mean_absolute_percentage_error: 10.5973 - val_loss: 0.0242 - val_mean_absolute_percentage_error: 10.1941\n",
      "Epoch 6/200\n",
      "285/286 [============================>.] - ETA: 0s - loss: 0.0238 - mean_absolute_percentage_error: 10.3048"
     ]
    },
    {
     "name": "stderr",
     "output_type": "stream",
     "text": [
      "WARNING:absl:Found untraced functions such as lstm_cell_1_layer_call_fn, lstm_cell_1_layer_call_and_return_conditional_losses while saving (showing 2 of 2). These functions will not be directly callable after loading.\n"
     ]
    },
    {
     "name": "stdout",
     "output_type": "stream",
     "text": [
      "INFO:tensorflow:Assets written to: warangal_temp1\\assets\n"
     ]
    },
    {
     "name": "stderr",
     "output_type": "stream",
     "text": [
      "INFO:tensorflow:Assets written to: warangal_temp1\\assets\n"
     ]
    },
    {
     "name": "stdout",
     "output_type": "stream",
     "text": [
      "286/286 [==============================] - 22s 76ms/step - loss: 0.0238 - mean_absolute_percentage_error: 10.3043 - val_loss: 0.0226 - val_mean_absolute_percentage_error: 9.5443\n",
      "Epoch 7/200\n",
      "286/286 [==============================] - ETA: 0s - loss: 0.0224 - mean_absolute_percentage_error: 9.9413"
     ]
    },
    {
     "name": "stderr",
     "output_type": "stream",
     "text": [
      "WARNING:absl:Found untraced functions such as lstm_cell_1_layer_call_fn, lstm_cell_1_layer_call_and_return_conditional_losses while saving (showing 2 of 2). These functions will not be directly callable after loading.\n"
     ]
    },
    {
     "name": "stdout",
     "output_type": "stream",
     "text": [
      "INFO:tensorflow:Assets written to: warangal_temp1\\assets\n"
     ]
    },
    {
     "name": "stderr",
     "output_type": "stream",
     "text": [
      "INFO:tensorflow:Assets written to: warangal_temp1\\assets\n"
     ]
    },
    {
     "name": "stdout",
     "output_type": "stream",
     "text": [
      "286/286 [==============================] - 21s 75ms/step - loss: 0.0224 - mean_absolute_percentage_error: 9.9413 - val_loss: 0.0214 - val_mean_absolute_percentage_error: 9.1978\n",
      "Epoch 8/200\n",
      "285/286 [============================>.] - ETA: 0s - loss: 0.0214 - mean_absolute_percentage_error: 9.6681"
     ]
    },
    {
     "name": "stderr",
     "output_type": "stream",
     "text": [
      "WARNING:absl:Found untraced functions such as lstm_cell_1_layer_call_fn, lstm_cell_1_layer_call_and_return_conditional_losses while saving (showing 2 of 2). These functions will not be directly callable after loading.\n"
     ]
    },
    {
     "name": "stdout",
     "output_type": "stream",
     "text": [
      "INFO:tensorflow:Assets written to: warangal_temp1\\assets\n"
     ]
    },
    {
     "name": "stderr",
     "output_type": "stream",
     "text": [
      "INFO:tensorflow:Assets written to: warangal_temp1\\assets\n"
     ]
    },
    {
     "name": "stdout",
     "output_type": "stream",
     "text": [
      "286/286 [==============================] - 21s 74ms/step - loss: 0.0214 - mean_absolute_percentage_error: 9.6682 - val_loss: 0.0211 - val_mean_absolute_percentage_error: 8.9451\n",
      "Epoch 9/200\n",
      "285/286 [============================>.] - ETA: 0s - loss: 0.0201 - mean_absolute_percentage_error: 9.4004"
     ]
    },
    {
     "name": "stderr",
     "output_type": "stream",
     "text": [
      "WARNING:absl:Found untraced functions such as lstm_cell_1_layer_call_fn, lstm_cell_1_layer_call_and_return_conditional_losses while saving (showing 2 of 2). These functions will not be directly callable after loading.\n"
     ]
    },
    {
     "name": "stdout",
     "output_type": "stream",
     "text": [
      "INFO:tensorflow:Assets written to: warangal_temp1\\assets\n"
     ]
    },
    {
     "name": "stderr",
     "output_type": "stream",
     "text": [
      "INFO:tensorflow:Assets written to: warangal_temp1\\assets\n"
     ]
    },
    {
     "name": "stdout",
     "output_type": "stream",
     "text": [
      "286/286 [==============================] - 22s 76ms/step - loss: 0.0201 - mean_absolute_percentage_error: 9.4008 - val_loss: 0.0202 - val_mean_absolute_percentage_error: 9.2863\n",
      "Epoch 10/200\n",
      "285/286 [============================>.] - ETA: 0s - loss: 0.0189 - mean_absolute_percentage_error: 9.1903"
     ]
    },
    {
     "name": "stderr",
     "output_type": "stream",
     "text": [
      "WARNING:absl:Found untraced functions such as lstm_cell_1_layer_call_fn, lstm_cell_1_layer_call_and_return_conditional_losses while saving (showing 2 of 2). These functions will not be directly callable after loading.\n"
     ]
    },
    {
     "name": "stdout",
     "output_type": "stream",
     "text": [
      "INFO:tensorflow:Assets written to: warangal_temp1\\assets\n"
     ]
    },
    {
     "name": "stderr",
     "output_type": "stream",
     "text": [
      "INFO:tensorflow:Assets written to: warangal_temp1\\assets\n"
     ]
    },
    {
     "name": "stdout",
     "output_type": "stream",
     "text": [
      "286/286 [==============================] - 21s 73ms/step - loss: 0.0189 - mean_absolute_percentage_error: 9.1895 - val_loss: 0.0178 - val_mean_absolute_percentage_error: 8.6227\n",
      "Epoch 11/200\n",
      "285/286 [============================>.] - ETA: 0s - loss: 0.0175 - mean_absolute_percentage_error: 8.7969"
     ]
    },
    {
     "name": "stderr",
     "output_type": "stream",
     "text": [
      "WARNING:absl:Found untraced functions such as lstm_cell_1_layer_call_fn, lstm_cell_1_layer_call_and_return_conditional_losses while saving (showing 2 of 2). These functions will not be directly callable after loading.\n"
     ]
    },
    {
     "name": "stdout",
     "output_type": "stream",
     "text": [
      "INFO:tensorflow:Assets written to: warangal_temp1\\assets\n"
     ]
    },
    {
     "name": "stderr",
     "output_type": "stream",
     "text": [
      "INFO:tensorflow:Assets written to: warangal_temp1\\assets\n"
     ]
    },
    {
     "name": "stdout",
     "output_type": "stream",
     "text": [
      "286/286 [==============================] - 21s 73ms/step - loss: 0.0175 - mean_absolute_percentage_error: 8.7975 - val_loss: 0.0177 - val_mean_absolute_percentage_error: 8.4639\n",
      "Epoch 12/200\n",
      "285/286 [============================>.] - ETA: 0s - loss: 0.0164 - mean_absolute_percentage_error: 8.5991"
     ]
    },
    {
     "name": "stderr",
     "output_type": "stream",
     "text": [
      "WARNING:absl:Found untraced functions such as lstm_cell_1_layer_call_fn, lstm_cell_1_layer_call_and_return_conditional_losses while saving (showing 2 of 2). These functions will not be directly callable after loading.\n"
     ]
    },
    {
     "name": "stdout",
     "output_type": "stream",
     "text": [
      "INFO:tensorflow:Assets written to: warangal_temp1\\assets\n"
     ]
    },
    {
     "name": "stderr",
     "output_type": "stream",
     "text": [
      "INFO:tensorflow:Assets written to: warangal_temp1\\assets\n"
     ]
    },
    {
     "name": "stdout",
     "output_type": "stream",
     "text": [
      "286/286 [==============================] - 22s 75ms/step - loss: 0.0164 - mean_absolute_percentage_error: 8.5989 - val_loss: 0.0159 - val_mean_absolute_percentage_error: 7.8060\n",
      "Epoch 13/200\n",
      "286/286 [==============================] - ETA: 0s - loss: 0.0157 - mean_absolute_percentage_error: 8.3686"
     ]
    },
    {
     "name": "stderr",
     "output_type": "stream",
     "text": [
      "WARNING:absl:Found untraced functions such as lstm_cell_1_layer_call_fn, lstm_cell_1_layer_call_and_return_conditional_losses while saving (showing 2 of 2). These functions will not be directly callable after loading.\n"
     ]
    },
    {
     "name": "stdout",
     "output_type": "stream",
     "text": [
      "INFO:tensorflow:Assets written to: warangal_temp1\\assets\n"
     ]
    },
    {
     "name": "stderr",
     "output_type": "stream",
     "text": [
      "INFO:tensorflow:Assets written to: warangal_temp1\\assets\n"
     ]
    },
    {
     "name": "stdout",
     "output_type": "stream",
     "text": [
      "286/286 [==============================] - 21s 73ms/step - loss: 0.0157 - mean_absolute_percentage_error: 8.3686 - val_loss: 0.0147 - val_mean_absolute_percentage_error: 7.6908\n",
      "Epoch 14/200\n",
      "285/286 [============================>.] - ETA: 0s - loss: 0.0149 - mean_absolute_percentage_error: 8.1796"
     ]
    },
    {
     "name": "stderr",
     "output_type": "stream",
     "text": [
      "WARNING:absl:Found untraced functions such as lstm_cell_1_layer_call_fn, lstm_cell_1_layer_call_and_return_conditional_losses while saving (showing 2 of 2). These functions will not be directly callable after loading.\n"
     ]
    },
    {
     "name": "stdout",
     "output_type": "stream",
     "text": [
      "INFO:tensorflow:Assets written to: warangal_temp1\\assets\n"
     ]
    },
    {
     "name": "stderr",
     "output_type": "stream",
     "text": [
      "INFO:tensorflow:Assets written to: warangal_temp1\\assets\n"
     ]
    },
    {
     "name": "stdout",
     "output_type": "stream",
     "text": [
      "286/286 [==============================] - 21s 75ms/step - loss: 0.0149 - mean_absolute_percentage_error: 8.1790 - val_loss: 0.0146 - val_mean_absolute_percentage_error: 7.5129\n",
      "Epoch 15/200\n",
      "286/286 [==============================] - 15s 54ms/step - loss: 0.0149 - mean_absolute_percentage_error: 8.1734 - val_loss: 0.0148 - val_mean_absolute_percentage_error: 7.7809\n",
      "Epoch 16/200\n",
      "286/286 [==============================] - 16s 54ms/step - loss: 0.0149 - mean_absolute_percentage_error: 8.1517 - val_loss: 0.0146 - val_mean_absolute_percentage_error: 7.5669\n",
      "Epoch 17/200\n",
      "286/286 [==============================] - 15s 54ms/step - loss: 0.0149 - mean_absolute_percentage_error: 8.1545 - val_loss: 0.0147 - val_mean_absolute_percentage_error: 7.7829\n",
      "Epoch 18/200\n",
      "286/286 [==============================] - 16s 57ms/step - loss: 0.0149 - mean_absolute_percentage_error: 8.1954 - val_loss: 0.0147 - val_mean_absolute_percentage_error: 7.6529\n",
      "Epoch 19/200\n",
      "285/286 [============================>.] - ETA: 0s - loss: 0.0139 - mean_absolute_percentage_error: 7.9302"
     ]
    },
    {
     "name": "stderr",
     "output_type": "stream",
     "text": [
      "WARNING:absl:Found untraced functions such as lstm_cell_1_layer_call_fn, lstm_cell_1_layer_call_and_return_conditional_losses while saving (showing 2 of 2). These functions will not be directly callable after loading.\n"
     ]
    },
    {
     "name": "stdout",
     "output_type": "stream",
     "text": [
      "INFO:tensorflow:Assets written to: warangal_temp1\\assets\n"
     ]
    },
    {
     "name": "stderr",
     "output_type": "stream",
     "text": [
      "INFO:tensorflow:Assets written to: warangal_temp1\\assets\n"
     ]
    },
    {
     "name": "stdout",
     "output_type": "stream",
     "text": [
      "286/286 [==============================] - 21s 74ms/step - loss: 0.0139 - mean_absolute_percentage_error: 7.9302 - val_loss: 0.0134 - val_mean_absolute_percentage_error: 7.3999\n",
      "Epoch 20/200\n",
      "285/286 [============================>.] - ETA: 0s - loss: 0.0136 - mean_absolute_percentage_error: 7.8269"
     ]
    },
    {
     "name": "stderr",
     "output_type": "stream",
     "text": [
      "WARNING:absl:Found untraced functions such as lstm_cell_1_layer_call_fn, lstm_cell_1_layer_call_and_return_conditional_losses while saving (showing 2 of 2). These functions will not be directly callable after loading.\n"
     ]
    },
    {
     "name": "stdout",
     "output_type": "stream",
     "text": [
      "INFO:tensorflow:Assets written to: warangal_temp1\\assets\n"
     ]
    },
    {
     "name": "stderr",
     "output_type": "stream",
     "text": [
      "INFO:tensorflow:Assets written to: warangal_temp1\\assets\n"
     ]
    },
    {
     "name": "stdout",
     "output_type": "stream",
     "text": [
      "286/286 [==============================] - 22s 77ms/step - loss: 0.0136 - mean_absolute_percentage_error: 7.8276 - val_loss: 0.0132 - val_mean_absolute_percentage_error: 7.1115\n",
      "Epoch 21/200\n",
      "286/286 [==============================] - 16s 55ms/step - loss: 0.0136 - mean_absolute_percentage_error: 7.8392 - val_loss: 0.0134 - val_mean_absolute_percentage_error: 7.3554\n",
      "Epoch 22/200\n",
      "286/286 [==============================] - ETA: 0s - loss: 0.0126 - mean_absolute_percentage_error: 7.6459"
     ]
    },
    {
     "name": "stderr",
     "output_type": "stream",
     "text": [
      "WARNING:absl:Found untraced functions such as lstm_cell_1_layer_call_fn, lstm_cell_1_layer_call_and_return_conditional_losses while saving (showing 2 of 2). These functions will not be directly callable after loading.\n"
     ]
    },
    {
     "name": "stdout",
     "output_type": "stream",
     "text": [
      "INFO:tensorflow:Assets written to: warangal_temp1\\assets\n"
     ]
    },
    {
     "name": "stderr",
     "output_type": "stream",
     "text": [
      "INFO:tensorflow:Assets written to: warangal_temp1\\assets\n"
     ]
    },
    {
     "name": "stdout",
     "output_type": "stream",
     "text": [
      "286/286 [==============================] - 21s 72ms/step - loss: 0.0126 - mean_absolute_percentage_error: 7.6459 - val_loss: 0.0121 - val_mean_absolute_percentage_error: 7.1512\n",
      "Epoch 23/200\n",
      "285/286 [============================>.] - ETA: 0s - loss: 0.0116 - mean_absolute_percentage_error: 7.3971"
     ]
    },
    {
     "name": "stderr",
     "output_type": "stream",
     "text": [
      "WARNING:absl:Found untraced functions such as lstm_cell_1_layer_call_fn, lstm_cell_1_layer_call_and_return_conditional_losses while saving (showing 2 of 2). These functions will not be directly callable after loading.\n"
     ]
    },
    {
     "name": "stdout",
     "output_type": "stream",
     "text": [
      "INFO:tensorflow:Assets written to: warangal_temp1\\assets\n"
     ]
    },
    {
     "name": "stderr",
     "output_type": "stream",
     "text": [
      "INFO:tensorflow:Assets written to: warangal_temp1\\assets\n"
     ]
    },
    {
     "name": "stdout",
     "output_type": "stream",
     "text": [
      "286/286 [==============================] - 21s 72ms/step - loss: 0.0116 - mean_absolute_percentage_error: 7.3967 - val_loss: 0.0107 - val_mean_absolute_percentage_error: 6.7034\n",
      "Epoch 24/200\n",
      "285/286 [============================>.] - ETA: 0s - loss: 0.0108 - mean_absolute_percentage_error: 7.2218"
     ]
    },
    {
     "name": "stderr",
     "output_type": "stream",
     "text": [
      "WARNING:absl:Found untraced functions such as lstm_cell_1_layer_call_fn, lstm_cell_1_layer_call_and_return_conditional_losses while saving (showing 2 of 2). These functions will not be directly callable after loading.\n"
     ]
    },
    {
     "name": "stdout",
     "output_type": "stream",
     "text": [
      "INFO:tensorflow:Assets written to: warangal_temp1\\assets\n"
     ]
    },
    {
     "name": "stderr",
     "output_type": "stream",
     "text": [
      "INFO:tensorflow:Assets written to: warangal_temp1\\assets\n"
     ]
    },
    {
     "name": "stdout",
     "output_type": "stream",
     "text": [
      "286/286 [==============================] - 21s 74ms/step - loss: 0.0108 - mean_absolute_percentage_error: 7.2218 - val_loss: 0.0096 - val_mean_absolute_percentage_error: 6.6976\n",
      "Epoch 25/200\n",
      "286/286 [==============================] - 16s 54ms/step - loss: 0.0098 - mean_absolute_percentage_error: 6.9817 - val_loss: 0.0097 - val_mean_absolute_percentage_error: 6.7615\n",
      "Epoch 26/200\n",
      "285/286 [============================>.] - ETA: 0s - loss: 0.0098 - mean_absolute_percentage_error: 6.9887"
     ]
    },
    {
     "name": "stderr",
     "output_type": "stream",
     "text": [
      "WARNING:absl:Found untraced functions such as lstm_cell_1_layer_call_fn, lstm_cell_1_layer_call_and_return_conditional_losses while saving (showing 2 of 2). These functions will not be directly callable after loading.\n"
     ]
    },
    {
     "name": "stdout",
     "output_type": "stream",
     "text": [
      "INFO:tensorflow:Assets written to: warangal_temp1\\assets\n"
     ]
    },
    {
     "name": "stderr",
     "output_type": "stream",
     "text": [
      "INFO:tensorflow:Assets written to: warangal_temp1\\assets\n"
     ]
    },
    {
     "name": "stdout",
     "output_type": "stream",
     "text": [
      "286/286 [==============================] - 21s 72ms/step - loss: 0.0098 - mean_absolute_percentage_error: 6.9883 - val_loss: 0.0095 - val_mean_absolute_percentage_error: 6.5150\n",
      "Epoch 27/200\n",
      "286/286 [==============================] - 16s 55ms/step - loss: 0.0097 - mean_absolute_percentage_error: 6.9584 - val_loss: 0.0096 - val_mean_absolute_percentage_error: 6.5567\n",
      "Epoch 28/200\n",
      "286/286 [==============================] - 15s 54ms/step - loss: 0.0097 - mean_absolute_percentage_error: 6.9408 - val_loss: 0.0097 - val_mean_absolute_percentage_error: 6.8570\n",
      "Epoch 29/200\n",
      "285/286 [============================>.] - ETA: 0s - loss: 0.0097 - mean_absolute_percentage_error: 6.9557"
     ]
    },
    {
     "name": "stderr",
     "output_type": "stream",
     "text": [
      "WARNING:absl:Found untraced functions such as lstm_cell_1_layer_call_fn, lstm_cell_1_layer_call_and_return_conditional_losses while saving (showing 2 of 2). These functions will not be directly callable after loading.\n"
     ]
    },
    {
     "name": "stdout",
     "output_type": "stream",
     "text": [
      "INFO:tensorflow:Assets written to: warangal_temp1\\assets\n"
     ]
    },
    {
     "name": "stderr",
     "output_type": "stream",
     "text": [
      "INFO:tensorflow:Assets written to: warangal_temp1\\assets\n"
     ]
    },
    {
     "name": "stdout",
     "output_type": "stream",
     "text": [
      "286/286 [==============================] - 20s 72ms/step - loss: 0.0097 - mean_absolute_percentage_error: 6.9556 - val_loss: 0.0095 - val_mean_absolute_percentage_error: 6.4396\n",
      "Epoch 30/200\n",
      "286/286 [==============================] - 16s 55ms/step - loss: 0.0097 - mean_absolute_percentage_error: 6.9194 - val_loss: 0.0098 - val_mean_absolute_percentage_error: 6.7927\n",
      "Epoch 31/200\n",
      "285/286 [============================>.] - ETA: 0s - loss: 0.0097 - mean_absolute_percentage_error: 6.9236"
     ]
    },
    {
     "name": "stderr",
     "output_type": "stream",
     "text": [
      "WARNING:absl:Found untraced functions such as lstm_cell_1_layer_call_fn, lstm_cell_1_layer_call_and_return_conditional_losses while saving (showing 2 of 2). These functions will not be directly callable after loading.\n"
     ]
    },
    {
     "name": "stdout",
     "output_type": "stream",
     "text": [
      "INFO:tensorflow:Assets written to: warangal_temp1\\assets\n"
     ]
    },
    {
     "name": "stderr",
     "output_type": "stream",
     "text": [
      "INFO:tensorflow:Assets written to: warangal_temp1\\assets\n"
     ]
    },
    {
     "name": "stdout",
     "output_type": "stream",
     "text": [
      "286/286 [==============================] - 21s 74ms/step - loss: 0.0097 - mean_absolute_percentage_error: 6.9233 - val_loss: 0.0095 - val_mean_absolute_percentage_error: 6.4210\n",
      "Epoch 32/200\n",
      "286/286 [==============================] - 16s 54ms/step - loss: 0.0097 - mean_absolute_percentage_error: 6.9046 - val_loss: 0.0096 - val_mean_absolute_percentage_error: 6.5367\n",
      "Epoch 33/200\n",
      "285/286 [============================>.] - ETA: 0s - loss: 0.0087 - mean_absolute_percentage_error: 6.6844"
     ]
    },
    {
     "name": "stderr",
     "output_type": "stream",
     "text": [
      "WARNING:absl:Found untraced functions such as lstm_cell_1_layer_call_fn, lstm_cell_1_layer_call_and_return_conditional_losses while saving (showing 2 of 2). These functions will not be directly callable after loading.\n"
     ]
    },
    {
     "name": "stdout",
     "output_type": "stream",
     "text": [
      "INFO:tensorflow:Assets written to: warangal_temp1\\assets\n"
     ]
    },
    {
     "name": "stderr",
     "output_type": "stream",
     "text": [
      "INFO:tensorflow:Assets written to: warangal_temp1\\assets\n"
     ]
    },
    {
     "name": "stdout",
     "output_type": "stream",
     "text": [
      "286/286 [==============================] - 21s 73ms/step - loss: 0.0087 - mean_absolute_percentage_error: 6.6842 - val_loss: 0.0084 - val_mean_absolute_percentage_error: 6.4179\n",
      "Epoch 34/200\n",
      "286/286 [==============================] - 16s 55ms/step - loss: 0.0084 - mean_absolute_percentage_error: 6.5899 - val_loss: 0.0085 - val_mean_absolute_percentage_error: 6.5749\n",
      "Epoch 35/200\n",
      "286/286 [==============================] - 15s 54ms/step - loss: 0.0084 - mean_absolute_percentage_error: 6.5630 - val_loss: 0.0085 - val_mean_absolute_percentage_error: 6.6714\n",
      "Epoch 36/200\n",
      "285/286 [============================>.] - ETA: 0s - loss: 0.0084 - mean_absolute_percentage_error: 6.5522"
     ]
    },
    {
     "name": "stderr",
     "output_type": "stream",
     "text": [
      "WARNING:absl:Found untraced functions such as lstm_cell_1_layer_call_fn, lstm_cell_1_layer_call_and_return_conditional_losses while saving (showing 2 of 2). These functions will not be directly callable after loading.\n"
     ]
    },
    {
     "name": "stdout",
     "output_type": "stream",
     "text": [
      "INFO:tensorflow:Assets written to: warangal_temp1\\assets\n"
     ]
    },
    {
     "name": "stderr",
     "output_type": "stream",
     "text": [
      "INFO:tensorflow:Assets written to: warangal_temp1\\assets\n"
     ]
    },
    {
     "name": "stdout",
     "output_type": "stream",
     "text": [
      "286/286 [==============================] - 21s 73ms/step - loss: 0.0084 - mean_absolute_percentage_error: 6.5521 - val_loss: 0.0081 - val_mean_absolute_percentage_error: 6.0819\n",
      "Epoch 37/200\n",
      "286/286 [==============================] - 16s 56ms/step - loss: 0.0084 - mean_absolute_percentage_error: 6.5544 - val_loss: 0.0084 - val_mean_absolute_percentage_error: 6.5070\n",
      "Epoch 38/200\n",
      "285/286 [============================>.] - ETA: 0s - loss: 0.0081 - mean_absolute_percentage_error: 6.4598"
     ]
    },
    {
     "name": "stderr",
     "output_type": "stream",
     "text": [
      "WARNING:absl:Found untraced functions such as lstm_cell_1_layer_call_fn, lstm_cell_1_layer_call_and_return_conditional_losses while saving (showing 2 of 2). These functions will not be directly callable after loading.\n"
     ]
    },
    {
     "name": "stdout",
     "output_type": "stream",
     "text": [
      "INFO:tensorflow:Assets written to: warangal_temp1\\assets\n"
     ]
    },
    {
     "name": "stderr",
     "output_type": "stream",
     "text": [
      "INFO:tensorflow:Assets written to: warangal_temp1\\assets\n"
     ]
    },
    {
     "name": "stdout",
     "output_type": "stream",
     "text": [
      "286/286 [==============================] - 21s 74ms/step - loss: 0.0081 - mean_absolute_percentage_error: 6.4604 - val_loss: 0.0070 - val_mean_absolute_percentage_error: 6.0903\n",
      "Epoch 39/200\n",
      "285/286 [============================>.] - ETA: 0s - loss: 0.0071 - mean_absolute_percentage_error: 6.1975"
     ]
    },
    {
     "name": "stderr",
     "output_type": "stream",
     "text": [
      "WARNING:absl:Found untraced functions such as lstm_cell_1_layer_call_fn, lstm_cell_1_layer_call_and_return_conditional_losses while saving (showing 2 of 2). These functions will not be directly callable after loading.\n"
     ]
    },
    {
     "name": "stdout",
     "output_type": "stream",
     "text": [
      "INFO:tensorflow:Assets written to: warangal_temp1\\assets\n"
     ]
    },
    {
     "name": "stderr",
     "output_type": "stream",
     "text": [
      "INFO:tensorflow:Assets written to: warangal_temp1\\assets\n"
     ]
    },
    {
     "name": "stdout",
     "output_type": "stream",
     "text": [
      "286/286 [==============================] - 20s 71ms/step - loss: 0.0071 - mean_absolute_percentage_error: 6.1971 - val_loss: 0.0069 - val_mean_absolute_percentage_error: 5.9100\n",
      "Epoch 40/200\n",
      "286/286 [==============================] - 15s 54ms/step - loss: 0.0071 - mean_absolute_percentage_error: 6.2054 - val_loss: 0.0072 - val_mean_absolute_percentage_error: 6.2954\n",
      "Epoch 41/200\n",
      "286/286 [==============================] - 15s 54ms/step - loss: 0.0071 - mean_absolute_percentage_error: 6.2177 - val_loss: 0.0071 - val_mean_absolute_percentage_error: 6.0435\n",
      "Epoch 42/200\n",
      "285/286 [============================>.] - ETA: 0s - loss: 0.0064 - mean_absolute_percentage_error: 6.0450"
     ]
    },
    {
     "name": "stderr",
     "output_type": "stream",
     "text": [
      "WARNING:absl:Found untraced functions such as lstm_cell_1_layer_call_fn, lstm_cell_1_layer_call_and_return_conditional_losses while saving (showing 2 of 2). These functions will not be directly callable after loading.\n"
     ]
    },
    {
     "name": "stdout",
     "output_type": "stream",
     "text": [
      "INFO:tensorflow:Assets written to: warangal_temp1\\assets\n"
     ]
    },
    {
     "name": "stderr",
     "output_type": "stream",
     "text": [
      "INFO:tensorflow:Assets written to: warangal_temp1\\assets\n"
     ]
    },
    {
     "name": "stdout",
     "output_type": "stream",
     "text": [
      "286/286 [==============================] - 20s 71ms/step - loss: 0.0064 - mean_absolute_percentage_error: 6.0447 - val_loss: 0.0058 - val_mean_absolute_percentage_error: 5.8694\n",
      "Epoch 43/200\n",
      "286/286 [==============================] - 15s 53ms/step - loss: 0.0059 - mean_absolute_percentage_error: 6.0285 - val_loss: 0.0058 - val_mean_absolute_percentage_error: 5.8672\n",
      "Epoch 44/200\n",
      "286/286 [==============================] - 15s 53ms/step - loss: 0.0059 - mean_absolute_percentage_error: 6.0935 - val_loss: 0.0059 - val_mean_absolute_percentage_error: 5.8797\n",
      "Epoch 45/200\n",
      "286/286 [==============================] - 15s 54ms/step - loss: 0.0058 - mean_absolute_percentage_error: 5.9919 - val_loss: 0.0058 - val_mean_absolute_percentage_error: 5.8316\n",
      "Epoch 46/200\n",
      "286/286 [==============================] - 15s 53ms/step - loss: 0.0058 - mean_absolute_percentage_error: 5.9112 - val_loss: 0.0059 - val_mean_absolute_percentage_error: 5.9582\n",
      "Epoch 47/200\n",
      "285/286 [============================>.] - ETA: 0s - loss: 0.0057 - mean_absolute_percentage_error: 5.8644"
     ]
    },
    {
     "name": "stderr",
     "output_type": "stream",
     "text": [
      "WARNING:absl:Found untraced functions such as lstm_cell_1_layer_call_fn, lstm_cell_1_layer_call_and_return_conditional_losses while saving (showing 2 of 2). These functions will not be directly callable after loading.\n"
     ]
    },
    {
     "name": "stdout",
     "output_type": "stream",
     "text": [
      "INFO:tensorflow:Assets written to: warangal_temp1\\assets\n"
     ]
    },
    {
     "name": "stderr",
     "output_type": "stream",
     "text": [
      "INFO:tensorflow:Assets written to: warangal_temp1\\assets\n"
     ]
    },
    {
     "name": "stdout",
     "output_type": "stream",
     "text": [
      "286/286 [==============================] - 20s 70ms/step - loss: 0.0057 - mean_absolute_percentage_error: 5.8648 - val_loss: 0.0058 - val_mean_absolute_percentage_error: 5.7949\n",
      "Epoch 48/200\n",
      "285/286 [============================>.] - ETA: 0s - loss: 0.0057 - mean_absolute_percentage_error: 5.8242"
     ]
    },
    {
     "name": "stderr",
     "output_type": "stream",
     "text": [
      "WARNING:absl:Found untraced functions such as lstm_cell_1_layer_call_fn, lstm_cell_1_layer_call_and_return_conditional_losses while saving (showing 2 of 2). These functions will not be directly callable after loading.\n"
     ]
    },
    {
     "name": "stdout",
     "output_type": "stream",
     "text": [
      "INFO:tensorflow:Assets written to: warangal_temp1\\assets\n"
     ]
    },
    {
     "name": "stderr",
     "output_type": "stream",
     "text": [
      "INFO:tensorflow:Assets written to: warangal_temp1\\assets\n"
     ]
    },
    {
     "name": "stdout",
     "output_type": "stream",
     "text": [
      "286/286 [==============================] - 21s 74ms/step - loss: 0.0057 - mean_absolute_percentage_error: 5.8237 - val_loss: 0.0057 - val_mean_absolute_percentage_error: 5.6991\n",
      "Epoch 49/200\n",
      "285/286 [============================>.] - ETA: 0s - loss: 0.0057 - mean_absolute_percentage_error: 5.7757"
     ]
    },
    {
     "name": "stderr",
     "output_type": "stream",
     "text": [
      "WARNING:absl:Found untraced functions such as lstm_cell_1_layer_call_fn, lstm_cell_1_layer_call_and_return_conditional_losses while saving (showing 2 of 2). These functions will not be directly callable after loading.\n"
     ]
    },
    {
     "name": "stdout",
     "output_type": "stream",
     "text": [
      "INFO:tensorflow:Assets written to: warangal_temp1\\assets\n"
     ]
    },
    {
     "name": "stderr",
     "output_type": "stream",
     "text": [
      "INFO:tensorflow:Assets written to: warangal_temp1\\assets\n"
     ]
    },
    {
     "name": "stdout",
     "output_type": "stream",
     "text": [
      "286/286 [==============================] - 21s 72ms/step - loss: 0.0057 - mean_absolute_percentage_error: 5.7756 - val_loss: 0.0057 - val_mean_absolute_percentage_error: 5.6977\n",
      "Epoch 50/200\n",
      "286/286 [==============================] - 15s 54ms/step - loss: 0.0057 - mean_absolute_percentage_error: 5.7598 - val_loss: 0.0057 - val_mean_absolute_percentage_error: 5.7332\n",
      "Epoch 51/200\n",
      "286/286 [==============================] - 15s 54ms/step - loss: 0.0057 - mean_absolute_percentage_error: 5.7435 - val_loss: 0.0059 - val_mean_absolute_percentage_error: 5.9068\n",
      "Epoch 52/200\n",
      "286/286 [==============================] - ETA: 0s - loss: 0.0057 - mean_absolute_percentage_error: 5.7502"
     ]
    },
    {
     "name": "stderr",
     "output_type": "stream",
     "text": [
      "WARNING:absl:Found untraced functions such as lstm_cell_1_layer_call_fn, lstm_cell_1_layer_call_and_return_conditional_losses while saving (showing 2 of 2). These functions will not be directly callable after loading.\n"
     ]
    },
    {
     "name": "stdout",
     "output_type": "stream",
     "text": [
      "INFO:tensorflow:Assets written to: warangal_temp1\\assets\n"
     ]
    },
    {
     "name": "stderr",
     "output_type": "stream",
     "text": [
      "INFO:tensorflow:Assets written to: warangal_temp1\\assets\n"
     ]
    },
    {
     "name": "stdout",
     "output_type": "stream",
     "text": [
      "286/286 [==============================] - 22s 76ms/step - loss: 0.0057 - mean_absolute_percentage_error: 5.7502 - val_loss: 0.0047 - val_mean_absolute_percentage_error: 5.6435\n",
      "Epoch 53/200\n",
      "285/286 [============================>.] - ETA: 0s - loss: 0.0044 - mean_absolute_percentage_error: 5.4621"
     ]
    },
    {
     "name": "stderr",
     "output_type": "stream",
     "text": [
      "WARNING:absl:Found untraced functions such as lstm_cell_1_layer_call_fn, lstm_cell_1_layer_call_and_return_conditional_losses while saving (showing 2 of 2). These functions will not be directly callable after loading.\n"
     ]
    },
    {
     "name": "stdout",
     "output_type": "stream",
     "text": [
      "INFO:tensorflow:Assets written to: warangal_temp1\\assets\n"
     ]
    },
    {
     "name": "stderr",
     "output_type": "stream",
     "text": [
      "INFO:tensorflow:Assets written to: warangal_temp1\\assets\n"
     ]
    },
    {
     "name": "stdout",
     "output_type": "stream",
     "text": [
      "286/286 [==============================] - 22s 77ms/step - loss: 0.0044 - mean_absolute_percentage_error: 5.4625 - val_loss: 0.0047 - val_mean_absolute_percentage_error: 5.9246\n",
      "Epoch 54/200\n",
      "285/286 [============================>.] - ETA: 0s - loss: 0.0044 - mean_absolute_percentage_error: 5.4330"
     ]
    },
    {
     "name": "stderr",
     "output_type": "stream",
     "text": [
      "WARNING:absl:Found untraced functions such as lstm_cell_1_layer_call_fn, lstm_cell_1_layer_call_and_return_conditional_losses while saving (showing 2 of 2). These functions will not be directly callable after loading.\n"
     ]
    },
    {
     "name": "stdout",
     "output_type": "stream",
     "text": [
      "INFO:tensorflow:Assets written to: warangal_temp1\\assets\n"
     ]
    },
    {
     "name": "stderr",
     "output_type": "stream",
     "text": [
      "INFO:tensorflow:Assets written to: warangal_temp1\\assets\n"
     ]
    },
    {
     "name": "stdout",
     "output_type": "stream",
     "text": [
      "286/286 [==============================] - 20s 71ms/step - loss: 0.0044 - mean_absolute_percentage_error: 5.4332 - val_loss: 0.0045 - val_mean_absolute_percentage_error: 5.6403\n",
      "Epoch 55/200\n",
      "286/286 [==============================] - 15s 54ms/step - loss: 0.0043 - mean_absolute_percentage_error: 5.3850 - val_loss: 0.0047 - val_mean_absolute_percentage_error: 5.9539\n",
      "Epoch 56/200\n",
      "286/286 [==============================] - ETA: 0s - loss: 0.0041 - mean_absolute_percentage_error: 5.3449"
     ]
    },
    {
     "name": "stderr",
     "output_type": "stream",
     "text": [
      "WARNING:absl:Found untraced functions such as lstm_cell_1_layer_call_fn, lstm_cell_1_layer_call_and_return_conditional_losses while saving (showing 2 of 2). These functions will not be directly callable after loading.\n"
     ]
    },
    {
     "name": "stdout",
     "output_type": "stream",
     "text": [
      "INFO:tensorflow:Assets written to: warangal_temp1\\assets\n"
     ]
    },
    {
     "name": "stderr",
     "output_type": "stream",
     "text": [
      "INFO:tensorflow:Assets written to: warangal_temp1\\assets\n"
     ]
    },
    {
     "name": "stdout",
     "output_type": "stream",
     "text": [
      "286/286 [==============================] - 20s 71ms/step - loss: 0.0041 - mean_absolute_percentage_error: 5.3449 - val_loss: 0.0032 - val_mean_absolute_percentage_error: 5.2059\n",
      "Epoch 57/200\n",
      "286/286 [==============================] - ETA: 0s - loss: 0.0031 - mean_absolute_percentage_error: 5.1051"
     ]
    },
    {
     "name": "stderr",
     "output_type": "stream",
     "text": [
      "WARNING:absl:Found untraced functions such as lstm_cell_1_layer_call_fn, lstm_cell_1_layer_call_and_return_conditional_losses while saving (showing 2 of 2). These functions will not be directly callable after loading.\n"
     ]
    },
    {
     "name": "stdout",
     "output_type": "stream",
     "text": [
      "INFO:tensorflow:Assets written to: warangal_temp1\\assets\n"
     ]
    },
    {
     "name": "stderr",
     "output_type": "stream",
     "text": [
      "INFO:tensorflow:Assets written to: warangal_temp1\\assets\n"
     ]
    },
    {
     "name": "stdout",
     "output_type": "stream",
     "text": [
      "286/286 [==============================] - 21s 73ms/step - loss: 0.0031 - mean_absolute_percentage_error: 5.1051 - val_loss: 0.0032 - val_mean_absolute_percentage_error: 5.1600\n",
      "Epoch 58/200\n",
      "286/286 [==============================] - 15s 53ms/step - loss: 0.0030 - mean_absolute_percentage_error: 5.0683 - val_loss: 0.0036 - val_mean_absolute_percentage_error: 5.8118\n",
      "Epoch 59/200\n",
      "285/286 [============================>.] - ETA: 0s - loss: 0.0019 - mean_absolute_percentage_error: 4.8293"
     ]
    },
    {
     "name": "stderr",
     "output_type": "stream",
     "text": [
      "WARNING:absl:Found untraced functions such as lstm_cell_1_layer_call_fn, lstm_cell_1_layer_call_and_return_conditional_losses while saving (showing 2 of 2). These functions will not be directly callable after loading.\n"
     ]
    },
    {
     "name": "stdout",
     "output_type": "stream",
     "text": [
      "INFO:tensorflow:Assets written to: warangal_temp1\\assets\n"
     ]
    },
    {
     "name": "stderr",
     "output_type": "stream",
     "text": [
      "INFO:tensorflow:Assets written to: warangal_temp1\\assets\n"
     ]
    },
    {
     "name": "stdout",
     "output_type": "stream",
     "text": [
      "286/286 [==============================] - 20s 71ms/step - loss: 0.0019 - mean_absolute_percentage_error: 4.8294 - val_loss: 0.0021 - val_mean_absolute_percentage_error: 5.1851\n",
      "Epoch 60/200\n",
      "286/286 [==============================] - 15s 53ms/step - loss: 0.0018 - mean_absolute_percentage_error: 4.7981 - val_loss: 0.0021 - val_mean_absolute_percentage_error: 5.3161\n",
      "Epoch 61/200\n",
      "286/286 [==============================] - ETA: 0s - loss: 0.0017 - mean_absolute_percentage_error: 4.7425"
     ]
    },
    {
     "name": "stderr",
     "output_type": "stream",
     "text": [
      "WARNING:absl:Found untraced functions such as lstm_cell_1_layer_call_fn, lstm_cell_1_layer_call_and_return_conditional_losses while saving (showing 2 of 2). These functions will not be directly callable after loading.\n"
     ]
    },
    {
     "name": "stdout",
     "output_type": "stream",
     "text": [
      "INFO:tensorflow:Assets written to: warangal_temp1\\assets\n"
     ]
    },
    {
     "name": "stderr",
     "output_type": "stream",
     "text": [
      "INFO:tensorflow:Assets written to: warangal_temp1\\assets\n"
     ]
    },
    {
     "name": "stdout",
     "output_type": "stream",
     "text": [
      "286/286 [==============================] - 20s 71ms/step - loss: 0.0017 - mean_absolute_percentage_error: 4.7425 - val_loss: 0.0020 - val_mean_absolute_percentage_error: 5.1215\n",
      "Epoch 62/200\n",
      "285/286 [============================>.] - ETA: 0s - loss: 0.0017 - mean_absolute_percentage_error: 4.7303"
     ]
    },
    {
     "name": "stderr",
     "output_type": "stream",
     "text": [
      "WARNING:absl:Found untraced functions such as lstm_cell_1_layer_call_fn, lstm_cell_1_layer_call_and_return_conditional_losses while saving (showing 2 of 2). These functions will not be directly callable after loading.\n"
     ]
    },
    {
     "name": "stdout",
     "output_type": "stream",
     "text": [
      "INFO:tensorflow:Assets written to: warangal_temp1\\assets\n"
     ]
    },
    {
     "name": "stderr",
     "output_type": "stream",
     "text": [
      "INFO:tensorflow:Assets written to: warangal_temp1\\assets\n"
     ]
    },
    {
     "name": "stdout",
     "output_type": "stream",
     "text": [
      "286/286 [==============================] - 21s 74ms/step - loss: 0.0017 - mean_absolute_percentage_error: 4.7306 - val_loss: 0.0019 - val_mean_absolute_percentage_error: 4.8990\n",
      "Epoch 63/200\n",
      "286/286 [==============================] - 15s 53ms/step - loss: 0.0017 - mean_absolute_percentage_error: 4.7220 - val_loss: 0.0021 - val_mean_absolute_percentage_error: 5.2916\n",
      "Epoch 64/200\n",
      "286/286 [==============================] - 15s 54ms/step - loss: 0.0017 - mean_absolute_percentage_error: 4.6825 - val_loss: 0.0022 - val_mean_absolute_percentage_error: 5.4754\n",
      "Epoch 65/200\n",
      "286/286 [==============================] - 15s 54ms/step - loss: 0.0017 - mean_absolute_percentage_error: 4.6628 - val_loss: 0.0019 - val_mean_absolute_percentage_error: 5.0557\n",
      "Epoch 66/200\n",
      "286/286 [==============================] - 15s 53ms/step - loss: 0.0017 - mean_absolute_percentage_error: 4.6263 - val_loss: 0.0020 - val_mean_absolute_percentage_error: 5.0619\n",
      "Epoch 67/200\n",
      "285/286 [============================>.] - ETA: 0s - loss: 0.0016 - mean_absolute_percentage_error: 4.5842"
     ]
    },
    {
     "name": "stderr",
     "output_type": "stream",
     "text": [
      "WARNING:absl:Found untraced functions such as lstm_cell_1_layer_call_fn, lstm_cell_1_layer_call_and_return_conditional_losses while saving (showing 2 of 2). These functions will not be directly callable after loading.\n"
     ]
    },
    {
     "name": "stdout",
     "output_type": "stream",
     "text": [
      "INFO:tensorflow:Assets written to: warangal_temp1\\assets\n"
     ]
    },
    {
     "name": "stderr",
     "output_type": "stream",
     "text": [
      "INFO:tensorflow:Assets written to: warangal_temp1\\assets\n"
     ]
    },
    {
     "name": "stdout",
     "output_type": "stream",
     "text": [
      "286/286 [==============================] - 20s 70ms/step - loss: 0.0016 - mean_absolute_percentage_error: 4.5845 - val_loss: 0.0019 - val_mean_absolute_percentage_error: 4.9325\n",
      "Epoch 68/200\n",
      "286/286 [==============================] - 16s 55ms/step - loss: 0.0017 - mean_absolute_percentage_error: 4.6221 - val_loss: 0.0020 - val_mean_absolute_percentage_error: 5.1144\n",
      "Epoch 69/200\n",
      "286/286 [==============================] - 15s 53ms/step - loss: 0.0016 - mean_absolute_percentage_error: 4.5629 - val_loss: 0.0019 - val_mean_absolute_percentage_error: 4.9752\n",
      "Epoch 70/200\n",
      "286/286 [==============================] - 15s 54ms/step - loss: 0.0016 - mean_absolute_percentage_error: 4.5288 - val_loss: 0.0021 - val_mean_absolute_percentage_error: 5.2695\n",
      "Epoch 71/200\n",
      "286/286 [==============================] - 15s 53ms/step - loss: 0.0016 - mean_absolute_percentage_error: 4.4992 - val_loss: 0.0020 - val_mean_absolute_percentage_error: 5.1428\n",
      "Epoch 72/200\n",
      "286/286 [==============================] - 11s 40ms/step - loss: 0.0016 - mean_absolute_percentage_error: 4.5068 - val_loss: 0.0020 - val_mean_absolute_percentage_error: 5.0845\n",
      "Epoch 73/200\n",
      "286/286 [==============================] - 16s 54ms/step - loss: 0.0016 - mean_absolute_percentage_error: 4.4875 - val_loss: 0.0021 - val_mean_absolute_percentage_error: 5.2470\n",
      "Epoch 74/200\n",
      "286/286 [==============================] - 16s 55ms/step - loss: 0.0016 - mean_absolute_percentage_error: 4.4737 - val_loss: 0.0021 - val_mean_absolute_percentage_error: 5.3176\n",
      "Epoch 75/200\n",
      "286/286 [==============================] - 16s 54ms/step - loss: 0.0016 - mean_absolute_percentage_error: 4.4716 - val_loss: 0.0021 - val_mean_absolute_percentage_error: 5.2783\n",
      "Epoch 76/200\n",
      "286/286 [==============================] - 16s 55ms/step - loss: 0.0015 - mean_absolute_percentage_error: 4.4158 - val_loss: 0.0020 - val_mean_absolute_percentage_error: 5.0937\n",
      "Epoch 77/200\n",
      "286/286 [==============================] - 16s 54ms/step - loss: 0.0015 - mean_absolute_percentage_error: 4.3982 - val_loss: 0.0021 - val_mean_absolute_percentage_error: 5.2026\n",
      "Epoch 78/200\n",
      "286/286 [==============================] - 15s 51ms/step - loss: 0.0015 - mean_absolute_percentage_error: 4.3855 - val_loss: 0.0021 - val_mean_absolute_percentage_error: 5.1928\n",
      "Epoch 79/200\n",
      "286/286 [==============================] - 15s 53ms/step - loss: 0.0015 - mean_absolute_percentage_error: 4.3809 - val_loss: 0.0020 - val_mean_absolute_percentage_error: 5.0333\n",
      "Epoch 80/200\n",
      "286/286 [==============================] - 15s 53ms/step - loss: 0.0015 - mean_absolute_percentage_error: 4.3851 - val_loss: 0.0022 - val_mean_absolute_percentage_error: 5.2422\n",
      "Epoch 81/200\n",
      "286/286 [==============================] - 15s 52ms/step - loss: 0.0015 - mean_absolute_percentage_error: 4.3685 - val_loss: 0.0023 - val_mean_absolute_percentage_error: 5.4597\n",
      "Epoch 82/200\n",
      "286/286 [==============================] - 15s 53ms/step - loss: 0.0015 - mean_absolute_percentage_error: 4.3488 - val_loss: 0.0021 - val_mean_absolute_percentage_error: 5.3159\n",
      "Epoch 83/200\n",
      "286/286 [==============================] - 15s 53ms/step - loss: 0.0015 - mean_absolute_percentage_error: 4.3519 - val_loss: 0.0021 - val_mean_absolute_percentage_error: 5.1940\n",
      "Epoch 84/200\n",
      "286/286 [==============================] - 15s 54ms/step - loss: 0.0015 - mean_absolute_percentage_error: 4.3330 - val_loss: 0.0021 - val_mean_absolute_percentage_error: 5.1725\n",
      "Epoch 85/200\n",
      "286/286 [==============================] - 15s 52ms/step - loss: 0.0015 - mean_absolute_percentage_error: 4.3116 - val_loss: 0.0021 - val_mean_absolute_percentage_error: 5.2151\n",
      "Epoch 86/200\n",
      "286/286 [==============================] - 15s 52ms/step - loss: 0.0015 - mean_absolute_percentage_error: 4.3065 - val_loss: 0.0022 - val_mean_absolute_percentage_error: 5.3008\n",
      "Epoch 87/200\n",
      "286/286 [==============================] - 15s 53ms/step - loss: 0.0014 - mean_absolute_percentage_error: 4.2870 - val_loss: 0.0020 - val_mean_absolute_percentage_error: 5.1491\n",
      "Epoch 88/200\n",
      "286/286 [==============================] - 15s 53ms/step - loss: 0.0014 - mean_absolute_percentage_error: 4.2848 - val_loss: 0.0021 - val_mean_absolute_percentage_error: 5.3034\n",
      "Epoch 89/200\n",
      "286/286 [==============================] - 15s 53ms/step - loss: 0.0014 - mean_absolute_percentage_error: 4.2862 - val_loss: 0.0021 - val_mean_absolute_percentage_error: 5.1842\n",
      "Epoch 90/200\n",
      "286/286 [==============================] - 15s 54ms/step - loss: 0.0014 - mean_absolute_percentage_error: 4.2942 - val_loss: 0.0022 - val_mean_absolute_percentage_error: 5.3174\n",
      "Epoch 91/200\n",
      "286/286 [==============================] - 15s 53ms/step - loss: 0.0014 - mean_absolute_percentage_error: 4.2531 - val_loss: 0.0021 - val_mean_absolute_percentage_error: 5.1908\n",
      "Epoch 92/200\n",
      "286/286 [==============================] - 15s 53ms/step - loss: 0.0014 - mean_absolute_percentage_error: 4.2640 - val_loss: 0.0023 - val_mean_absolute_percentage_error: 5.4950\n",
      "Epoch 93/200\n",
      "286/286 [==============================] - 15s 53ms/step - loss: 0.0014 - mean_absolute_percentage_error: 4.2495 - val_loss: 0.0021 - val_mean_absolute_percentage_error: 5.3009\n",
      "Epoch 94/200\n",
      "286/286 [==============================] - 16s 55ms/step - loss: 0.0014 - mean_absolute_percentage_error: 4.2407 - val_loss: 0.0021 - val_mean_absolute_percentage_error: 5.2146\n",
      "Epoch 95/200\n",
      "286/286 [==============================] - 16s 55ms/step - loss: 0.0014 - mean_absolute_percentage_error: 4.2410 - val_loss: 0.0021 - val_mean_absolute_percentage_error: 5.2269\n",
      "Epoch 96/200\n",
      "286/286 [==============================] - 15s 53ms/step - loss: 0.0014 - mean_absolute_percentage_error: 4.2094 - val_loss: 0.0021 - val_mean_absolute_percentage_error: 5.2710\n",
      "Epoch 97/200\n",
      "286/286 [==============================] - 15s 53ms/step - loss: 0.0014 - mean_absolute_percentage_error: 4.1976 - val_loss: 0.0022 - val_mean_absolute_percentage_error: 5.3409\n",
      "Epoch 98/200\n",
      "286/286 [==============================] - 15s 54ms/step - loss: 0.0014 - mean_absolute_percentage_error: 4.1911 - val_loss: 0.0022 - val_mean_absolute_percentage_error: 5.3044\n",
      "Epoch 99/200\n",
      "286/286 [==============================] - 15s 53ms/step - loss: 0.0014 - mean_absolute_percentage_error: 4.2026 - val_loss: 0.0022 - val_mean_absolute_percentage_error: 5.3443\n",
      "Epoch 100/200\n",
      "286/286 [==============================] - 15s 53ms/step - loss: 0.0014 - mean_absolute_percentage_error: 4.1940 - val_loss: 0.0021 - val_mean_absolute_percentage_error: 5.1980\n",
      "Epoch 101/200\n",
      "286/286 [==============================] - 15s 53ms/step - loss: 0.0014 - mean_absolute_percentage_error: 4.1824 - val_loss: 0.0023 - val_mean_absolute_percentage_error: 5.4228\n",
      "Epoch 102/200\n",
      "286/286 [==============================] - 15s 53ms/step - loss: 0.0014 - mean_absolute_percentage_error: 4.1672 - val_loss: 0.0022 - val_mean_absolute_percentage_error: 5.2747\n",
      "Epoch 103/200\n",
      "286/286 [==============================] - 15s 53ms/step - loss: 0.0014 - mean_absolute_percentage_error: 4.1622 - val_loss: 0.0021 - val_mean_absolute_percentage_error: 5.2655\n",
      "Epoch 104/200\n",
      "286/286 [==============================] - 15s 54ms/step - loss: 0.0014 - mean_absolute_percentage_error: 4.1627 - val_loss: 0.0023 - val_mean_absolute_percentage_error: 5.4395\n",
      "Epoch 105/200\n",
      "286/286 [==============================] - 15s 53ms/step - loss: 0.0014 - mean_absolute_percentage_error: 4.1677 - val_loss: 0.0021 - val_mean_absolute_percentage_error: 5.2218\n",
      "Epoch 106/200\n",
      "286/286 [==============================] - 15s 53ms/step - loss: 0.0013 - mean_absolute_percentage_error: 4.1366 - val_loss: 0.0022 - val_mean_absolute_percentage_error: 5.2956\n",
      "Epoch 107/200\n",
      "286/286 [==============================] - 15s 53ms/step - loss: 0.0013 - mean_absolute_percentage_error: 4.1312 - val_loss: 0.0022 - val_mean_absolute_percentage_error: 5.3120\n",
      "Epoch 108/200\n",
      "286/286 [==============================] - 15s 53ms/step - loss: 0.0013 - mean_absolute_percentage_error: 4.1172 - val_loss: 0.0022 - val_mean_absolute_percentage_error: 5.3125\n",
      "Epoch 109/200\n",
      "286/286 [==============================] - 15s 53ms/step - loss: 0.0014 - mean_absolute_percentage_error: 4.1595 - val_loss: 0.0022 - val_mean_absolute_percentage_error: 5.3024\n",
      "Epoch 110/200\n",
      "286/286 [==============================] - 15s 53ms/step - loss: 0.0013 - mean_absolute_percentage_error: 4.1357 - val_loss: 0.0022 - val_mean_absolute_percentage_error: 5.2759\n",
      "Epoch 111/200\n",
      "286/286 [==============================] - 12s 40ms/step - loss: 0.0013 - mean_absolute_percentage_error: 4.1365 - val_loss: 0.0021 - val_mean_absolute_percentage_error: 5.2560\n",
      "Epoch 112/200\n",
      "286/286 [==============================] - 16s 57ms/step - loss: 0.0013 - mean_absolute_percentage_error: 4.1170 - val_loss: 0.0021 - val_mean_absolute_percentage_error: 5.1989\n",
      "Epoch 113/200\n",
      "286/286 [==============================] - 16s 55ms/step - loss: 0.0013 - mean_absolute_percentage_error: 4.0869 - val_loss: 0.0022 - val_mean_absolute_percentage_error: 5.2862\n",
      "Epoch 114/200\n",
      "286/286 [==============================] - 16s 56ms/step - loss: 0.0013 - mean_absolute_percentage_error: 4.0992 - val_loss: 0.0022 - val_mean_absolute_percentage_error: 5.2999\n",
      "Epoch 115/200\n",
      "286/286 [==============================] - 16s 56ms/step - loss: 0.0013 - mean_absolute_percentage_error: 4.0979 - val_loss: 0.0022 - val_mean_absolute_percentage_error: 5.3464\n",
      "Epoch 116/200\n",
      "286/286 [==============================] - 16s 56ms/step - loss: 0.0013 - mean_absolute_percentage_error: 4.1033 - val_loss: 0.0022 - val_mean_absolute_percentage_error: 5.2893\n",
      "Epoch 117/200\n",
      "286/286 [==============================] - 16s 55ms/step - loss: 0.0013 - mean_absolute_percentage_error: 4.0794 - val_loss: 0.0022 - val_mean_absolute_percentage_error: 5.2856\n",
      "Epoch 118/200\n",
      "286/286 [==============================] - 16s 55ms/step - loss: 0.0013 - mean_absolute_percentage_error: 4.0696 - val_loss: 0.0022 - val_mean_absolute_percentage_error: 5.3682\n",
      "Epoch 119/200\n",
      "286/286 [==============================] - 16s 55ms/step - loss: 0.0013 - mean_absolute_percentage_error: 4.0609 - val_loss: 0.0022 - val_mean_absolute_percentage_error: 5.3128\n",
      "Epoch 120/200\n",
      "286/286 [==============================] - 16s 56ms/step - loss: 0.0013 - mean_absolute_percentage_error: 4.0583 - val_loss: 0.0022 - val_mean_absolute_percentage_error: 5.3859\n",
      "Epoch 121/200\n",
      "286/286 [==============================] - 16s 56ms/step - loss: 0.0013 - mean_absolute_percentage_error: 4.0660 - val_loss: 0.0022 - val_mean_absolute_percentage_error: 5.2734\n",
      "Epoch 122/200\n",
      "286/286 [==============================] - 16s 56ms/step - loss: 0.0013 - mean_absolute_percentage_error: 4.0473 - val_loss: 0.0022 - val_mean_absolute_percentage_error: 5.2814\n",
      "Epoch 123/200\n",
      "286/286 [==============================] - 16s 57ms/step - loss: 0.0013 - mean_absolute_percentage_error: 4.0575 - val_loss: 0.0022 - val_mean_absolute_percentage_error: 5.3714\n",
      "Epoch 124/200\n",
      "286/286 [==============================] - 16s 56ms/step - loss: 0.0013 - mean_absolute_percentage_error: 4.0549 - val_loss: 0.0023 - val_mean_absolute_percentage_error: 5.4050\n",
      "Epoch 125/200\n",
      "286/286 [==============================] - 16s 56ms/step - loss: 0.0013 - mean_absolute_percentage_error: 4.0230 - val_loss: 0.0022 - val_mean_absolute_percentage_error: 5.2919\n",
      "Epoch 126/200\n",
      "286/286 [==============================] - 16s 56ms/step - loss: 0.0013 - mean_absolute_percentage_error: 4.0267 - val_loss: 0.0023 - val_mean_absolute_percentage_error: 5.4202\n",
      "Epoch 127/200\n",
      "286/286 [==============================] - 16s 57ms/step - loss: 0.0013 - mean_absolute_percentage_error: 4.0327 - val_loss: 0.0022 - val_mean_absolute_percentage_error: 5.3676\n",
      "Epoch 128/200\n",
      "286/286 [==============================] - 16s 56ms/step - loss: 0.0013 - mean_absolute_percentage_error: 4.0114 - val_loss: 0.0022 - val_mean_absolute_percentage_error: 5.3478\n",
      "Epoch 129/200\n",
      "286/286 [==============================] - 16s 55ms/step - loss: 0.0013 - mean_absolute_percentage_error: 4.0086 - val_loss: 0.0022 - val_mean_absolute_percentage_error: 5.3360\n",
      "Epoch 130/200\n",
      "286/286 [==============================] - 15s 53ms/step - loss: 0.0013 - mean_absolute_percentage_error: 4.0075 - val_loss: 0.0022 - val_mean_absolute_percentage_error: 5.3430\n",
      "Epoch 131/200\n",
      "286/286 [==============================] - 9s 30ms/step - loss: 0.0013 - mean_absolute_percentage_error: 4.0102 - val_loss: 0.0022 - val_mean_absolute_percentage_error: 5.2854\n",
      "Epoch 132/200\n",
      "286/286 [==============================] - 9s 30ms/step - loss: 0.0012 - mean_absolute_percentage_error: 3.9859 - val_loss: 0.0022 - val_mean_absolute_percentage_error: 5.3547\n",
      "Epoch 133/200\n",
      "286/286 [==============================] - 9s 30ms/step - loss: 0.0013 - mean_absolute_percentage_error: 4.0012 - val_loss: 0.0021 - val_mean_absolute_percentage_error: 5.1706\n",
      "Epoch 134/200\n",
      "286/286 [==============================] - 8s 30ms/step - loss: 0.0013 - mean_absolute_percentage_error: 3.9972 - val_loss: 0.0023 - val_mean_absolute_percentage_error: 5.4469\n",
      "Epoch 135/200\n",
      "286/286 [==============================] - 9s 31ms/step - loss: 0.0012 - mean_absolute_percentage_error: 3.9752 - val_loss: 0.0022 - val_mean_absolute_percentage_error: 5.2498\n",
      "Epoch 136/200\n",
      "286/286 [==============================] - 9s 30ms/step - loss: 0.0012 - mean_absolute_percentage_error: 3.9698 - val_loss: 0.0022 - val_mean_absolute_percentage_error: 5.3415\n",
      "Epoch 137/200\n",
      "286/286 [==============================] - 9s 30ms/step - loss: 0.0012 - mean_absolute_percentage_error: 3.9914 - val_loss: 0.0022 - val_mean_absolute_percentage_error: 5.3224\n",
      "Epoch 138/200\n",
      "286/286 [==============================] - 9s 30ms/step - loss: 0.0012 - mean_absolute_percentage_error: 3.9879 - val_loss: 0.0022 - val_mean_absolute_percentage_error: 5.3309\n",
      "Epoch 139/200\n",
      "286/286 [==============================] - 9s 30ms/step - loss: 0.0012 - mean_absolute_percentage_error: 3.9621 - val_loss: 0.0022 - val_mean_absolute_percentage_error: 5.3571\n",
      "Epoch 140/200\n",
      "286/286 [==============================] - 9s 30ms/step - loss: 0.0012 - mean_absolute_percentage_error: 3.9594 - val_loss: 0.0023 - val_mean_absolute_percentage_error: 5.4404\n",
      "Epoch 141/200\n",
      "286/286 [==============================] - 9s 30ms/step - loss: 0.0012 - mean_absolute_percentage_error: 3.9570 - val_loss: 0.0022 - val_mean_absolute_percentage_error: 5.2410\n",
      "Epoch 142/200\n",
      "286/286 [==============================] - 9s 30ms/step - loss: 0.0012 - mean_absolute_percentage_error: 3.9629 - val_loss: 0.0022 - val_mean_absolute_percentage_error: 5.2938\n",
      "Epoch 143/200\n",
      "286/286 [==============================] - 8s 29ms/step - loss: 0.0012 - mean_absolute_percentage_error: 3.9467 - val_loss: 0.0023 - val_mean_absolute_percentage_error: 5.4071\n",
      "Epoch 144/200\n",
      "286/286 [==============================] - 9s 30ms/step - loss: 0.0012 - mean_absolute_percentage_error: 3.9516 - val_loss: 0.0022 - val_mean_absolute_percentage_error: 5.2622\n",
      "Epoch 145/200\n",
      "286/286 [==============================] - 9s 30ms/step - loss: 0.0012 - mean_absolute_percentage_error: 3.9296 - val_loss: 0.0022 - val_mean_absolute_percentage_error: 5.3064\n",
      "Epoch 146/200\n",
      "286/286 [==============================] - 9s 30ms/step - loss: 0.0012 - mean_absolute_percentage_error: 3.9448 - val_loss: 0.0021 - val_mean_absolute_percentage_error: 5.2406\n",
      "Epoch 147/200\n",
      "286/286 [==============================] - 9s 30ms/step - loss: 0.0012 - mean_absolute_percentage_error: 3.9325 - val_loss: 0.0023 - val_mean_absolute_percentage_error: 5.3678\n",
      "Epoch 148/200\n",
      "286/286 [==============================] - 8s 30ms/step - loss: 0.0012 - mean_absolute_percentage_error: 3.9223 - val_loss: 0.0023 - val_mean_absolute_percentage_error: 5.3820\n",
      "Epoch 149/200\n",
      "286/286 [==============================] - 9s 31ms/step - loss: 0.0012 - mean_absolute_percentage_error: 3.9235 - val_loss: 0.0023 - val_mean_absolute_percentage_error: 5.4436\n",
      "Epoch 150/200\n",
      "286/286 [==============================] - 8s 29ms/step - loss: 0.0012 - mean_absolute_percentage_error: 3.9072 - val_loss: 0.0022 - val_mean_absolute_percentage_error: 5.2995\n",
      "Epoch 151/200\n",
      "286/286 [==============================] - 8s 28ms/step - loss: 0.0012 - mean_absolute_percentage_error: 3.9169 - val_loss: 0.0023 - val_mean_absolute_percentage_error: 5.3384\n",
      "Epoch 152/200\n",
      "286/286 [==============================] - 8s 28ms/step - loss: 0.0012 - mean_absolute_percentage_error: 3.9107 - val_loss: 0.0023 - val_mean_absolute_percentage_error: 5.4036\n",
      "Epoch 153/200\n"
     ]
    },
    {
     "name": "stdout",
     "output_type": "stream",
     "text": [
      "286/286 [==============================] - 9s 30ms/step - loss: 0.0012 - mean_absolute_percentage_error: 3.8948 - val_loss: 0.0022 - val_mean_absolute_percentage_error: 5.3711\n",
      "Epoch 154/200\n",
      "286/286 [==============================] - 8s 27ms/step - loss: 0.0012 - mean_absolute_percentage_error: 3.8959 - val_loss: 0.0024 - val_mean_absolute_percentage_error: 5.4808\n",
      "Epoch 155/200\n",
      "286/286 [==============================] - 8s 27ms/step - loss: 0.0012 - mean_absolute_percentage_error: 3.8906 - val_loss: 0.0023 - val_mean_absolute_percentage_error: 5.4053\n",
      "Epoch 156/200\n",
      "286/286 [==============================] - 7s 26ms/step - loss: 0.0012 - mean_absolute_percentage_error: 3.8821 - val_loss: 0.0023 - val_mean_absolute_percentage_error: 5.3782\n",
      "Epoch 157/200\n",
      "286/286 [==============================] - 8s 27ms/step - loss: 0.0012 - mean_absolute_percentage_error: 3.9000 - val_loss: 0.0023 - val_mean_absolute_percentage_error: 5.4278\n",
      "Epoch 158/200\n",
      "286/286 [==============================] - 9s 30ms/step - loss: 0.0012 - mean_absolute_percentage_error: 3.8848 - val_loss: 0.0023 - val_mean_absolute_percentage_error: 5.3445\n",
      "Epoch 159/200\n",
      "286/286 [==============================] - 9s 31ms/step - loss: 0.0012 - mean_absolute_percentage_error: 3.8760 - val_loss: 0.0023 - val_mean_absolute_percentage_error: 5.3925\n",
      "Epoch 160/200\n",
      "286/286 [==============================] - 8s 28ms/step - loss: 0.0012 - mean_absolute_percentage_error: 3.8690 - val_loss: 0.0023 - val_mean_absolute_percentage_error: 5.4213\n",
      "Epoch 161/200\n",
      "286/286 [==============================] - 8s 27ms/step - loss: 0.0012 - mean_absolute_percentage_error: 3.8759 - val_loss: 0.0023 - val_mean_absolute_percentage_error: 5.3217\n",
      "Epoch 162/200\n",
      "286/286 [==============================] - 8s 27ms/step - loss: 0.0012 - mean_absolute_percentage_error: 3.8594 - val_loss: 0.0023 - val_mean_absolute_percentage_error: 5.3644\n",
      "Epoch 163/200\n",
      "286/286 [==============================] - 8s 26ms/step - loss: 0.0012 - mean_absolute_percentage_error: 3.8749 - val_loss: 0.0022 - val_mean_absolute_percentage_error: 5.2574\n",
      "Epoch 164/200\n",
      "286/286 [==============================] - 8s 27ms/step - loss: 0.0012 - mean_absolute_percentage_error: 3.8636 - val_loss: 0.0022 - val_mean_absolute_percentage_error: 5.2431\n",
      "Epoch 165/200\n",
      "286/286 [==============================] - 8s 27ms/step - loss: 0.0012 - mean_absolute_percentage_error: 3.8572 - val_loss: 0.0024 - val_mean_absolute_percentage_error: 5.4531\n",
      "Epoch 166/200\n",
      "286/286 [==============================] - 8s 27ms/step - loss: 0.0012 - mean_absolute_percentage_error: 3.8525 - val_loss: 0.0022 - val_mean_absolute_percentage_error: 5.3554\n",
      "Epoch 167/200\n",
      "286/286 [==============================] - 8s 27ms/step - loss: 0.0012 - mean_absolute_percentage_error: 3.8596 - val_loss: 0.0023 - val_mean_absolute_percentage_error: 5.4178\n",
      "Epoch 168/200\n",
      "286/286 [==============================] - 8s 27ms/step - loss: 0.0012 - mean_absolute_percentage_error: 3.8451 - val_loss: 0.0022 - val_mean_absolute_percentage_error: 5.2896\n",
      "Epoch 169/200\n",
      "286/286 [==============================] - 8s 27ms/step - loss: 0.0012 - mean_absolute_percentage_error: 3.8412 - val_loss: 0.0022 - val_mean_absolute_percentage_error: 5.3313\n",
      "Epoch 170/200\n",
      "286/286 [==============================] - 8s 27ms/step - loss: 0.0012 - mean_absolute_percentage_error: 3.8502 - val_loss: 0.0022 - val_mean_absolute_percentage_error: 5.2571\n",
      "Epoch 171/200\n",
      "286/286 [==============================] - 8s 27ms/step - loss: 0.0012 - mean_absolute_percentage_error: 3.8402 - val_loss: 0.0023 - val_mean_absolute_percentage_error: 5.3695\n",
      "Epoch 172/200\n",
      "286/286 [==============================] - 8s 27ms/step - loss: 0.0012 - mean_absolute_percentage_error: 3.8408 - val_loss: 0.0023 - val_mean_absolute_percentage_error: 5.3404\n",
      "Epoch 173/200\n",
      "286/286 [==============================] - 7s 26ms/step - loss: 0.0011 - mean_absolute_percentage_error: 3.8294 - val_loss: 0.0022 - val_mean_absolute_percentage_error: 5.2502\n",
      "Epoch 174/200\n",
      "286/286 [==============================] - 7s 26ms/step - loss: 0.0011 - mean_absolute_percentage_error: 3.8144 - val_loss: 0.0022 - val_mean_absolute_percentage_error: 5.3017\n",
      "Epoch 175/200\n",
      "286/286 [==============================] - 8s 27ms/step - loss: 0.0011 - mean_absolute_percentage_error: 3.8226 - val_loss: 0.0023 - val_mean_absolute_percentage_error: 5.3812\n",
      "Epoch 176/200\n",
      "286/286 [==============================] - 8s 27ms/step - loss: 0.0011 - mean_absolute_percentage_error: 3.8128 - val_loss: 0.0022 - val_mean_absolute_percentage_error: 5.2263\n",
      "Epoch 177/200\n",
      "286/286 [==============================] - 8s 27ms/step - loss: 0.0011 - mean_absolute_percentage_error: 3.8147 - val_loss: 0.0022 - val_mean_absolute_percentage_error: 5.3272\n",
      "Epoch 178/200\n",
      "286/286 [==============================] - 8s 27ms/step - loss: 0.0011 - mean_absolute_percentage_error: 3.8253 - val_loss: 0.0023 - val_mean_absolute_percentage_error: 5.3783\n",
      "Epoch 179/200\n",
      "286/286 [==============================] - 8s 26ms/step - loss: 0.0011 - mean_absolute_percentage_error: 3.8044 - val_loss: 0.0023 - val_mean_absolute_percentage_error: 5.3533\n",
      "Epoch 180/200\n",
      "286/286 [==============================] - 8s 27ms/step - loss: 0.0011 - mean_absolute_percentage_error: 3.8037 - val_loss: 0.0022 - val_mean_absolute_percentage_error: 5.2822\n",
      "Epoch 181/200\n",
      "286/286 [==============================] - 7s 26ms/step - loss: 0.0011 - mean_absolute_percentage_error: 3.8028 - val_loss: 0.0023 - val_mean_absolute_percentage_error: 5.4008\n",
      "Epoch 182/200\n",
      "286/286 [==============================] - 7s 26ms/step - loss: 0.0011 - mean_absolute_percentage_error: 3.8047 - val_loss: 0.0022 - val_mean_absolute_percentage_error: 5.2080\n",
      "Epoch 183/200\n",
      "286/286 [==============================] - 8s 26ms/step - loss: 0.0011 - mean_absolute_percentage_error: 3.7939 - val_loss: 0.0023 - val_mean_absolute_percentage_error: 5.3396\n",
      "Epoch 184/200\n",
      "286/286 [==============================] - 7s 26ms/step - loss: 0.0011 - mean_absolute_percentage_error: 3.7785 - val_loss: 0.0022 - val_mean_absolute_percentage_error: 5.2621\n",
      "Epoch 185/200\n",
      "286/286 [==============================] - 8s 27ms/step - loss: 0.0011 - mean_absolute_percentage_error: 3.7946 - val_loss: 0.0023 - val_mean_absolute_percentage_error: 5.3835\n",
      "Epoch 186/200\n",
      "286/286 [==============================] - 8s 27ms/step - loss: 0.0011 - mean_absolute_percentage_error: 3.7885 - val_loss: 0.0023 - val_mean_absolute_percentage_error: 5.3146\n",
      "Epoch 187/200\n",
      "286/286 [==============================] - 8s 26ms/step - loss: 0.0011 - mean_absolute_percentage_error: 3.7779 - val_loss: 0.0023 - val_mean_absolute_percentage_error: 5.4419\n",
      "Epoch 188/200\n",
      "286/286 [==============================] - 8s 27ms/step - loss: 0.0011 - mean_absolute_percentage_error: 3.7720 - val_loss: 0.0023 - val_mean_absolute_percentage_error: 5.3630\n",
      "Epoch 189/200\n",
      "286/286 [==============================] - 8s 27ms/step - loss: 0.0011 - mean_absolute_percentage_error: 3.7855 - val_loss: 0.0023 - val_mean_absolute_percentage_error: 5.3521\n",
      "Epoch 190/200\n",
      "286/286 [==============================] - 7s 26ms/step - loss: 0.0011 - mean_absolute_percentage_error: 3.7693 - val_loss: 0.0023 - val_mean_absolute_percentage_error: 5.3205\n",
      "Epoch 191/200\n",
      "286/286 [==============================] - 8s 27ms/step - loss: 0.0011 - mean_absolute_percentage_error: 3.7680 - val_loss: 0.0024 - val_mean_absolute_percentage_error: 5.4078\n",
      "Epoch 192/200\n",
      "286/286 [==============================] - 8s 27ms/step - loss: 0.0011 - mean_absolute_percentage_error: 3.7721 - val_loss: 0.0023 - val_mean_absolute_percentage_error: 5.3469\n",
      "Epoch 193/200\n",
      "286/286 [==============================] - 8s 26ms/step - loss: 0.0011 - mean_absolute_percentage_error: 3.7641 - val_loss: 0.0022 - val_mean_absolute_percentage_error: 5.2730\n",
      "Epoch 194/200\n",
      "286/286 [==============================] - 8s 27ms/step - loss: 0.0011 - mean_absolute_percentage_error: 3.7556 - val_loss: 0.0023 - val_mean_absolute_percentage_error: 5.3730\n",
      "Epoch 195/200\n",
      "286/286 [==============================] - 8s 27ms/step - loss: 0.0011 - mean_absolute_percentage_error: 3.7456 - val_loss: 0.0023 - val_mean_absolute_percentage_error: 5.3823\n",
      "Epoch 196/200\n",
      "286/286 [==============================] - 7s 26ms/step - loss: 0.0011 - mean_absolute_percentage_error: 3.7590 - val_loss: 0.0022 - val_mean_absolute_percentage_error: 5.2888\n",
      "Epoch 197/200\n",
      "286/286 [==============================] - 8s 27ms/step - loss: 0.0011 - mean_absolute_percentage_error: 3.7560 - val_loss: 0.0023 - val_mean_absolute_percentage_error: 5.3488\n",
      "Epoch 198/200\n",
      "286/286 [==============================] - 7s 26ms/step - loss: 0.0011 - mean_absolute_percentage_error: 3.7485 - val_loss: 0.0023 - val_mean_absolute_percentage_error: 5.3977\n",
      "Epoch 199/200\n",
      "286/286 [==============================] - 8s 27ms/step - loss: 0.0011 - mean_absolute_percentage_error: 3.7704 - val_loss: 0.0022 - val_mean_absolute_percentage_error: 5.2546\n",
      "Epoch 200/200\n",
      "286/286 [==============================] - 8s 27ms/step - loss: 0.0011 - mean_absolute_percentage_error: 3.7465 - val_loss: 0.0023 - val_mean_absolute_percentage_error: 5.3707\n"
     ]
    }
   ],
   "source": [
    "warangal_cp1= ModelCheckpoint('warangal_temp1/', save_best_only=True)\n",
    "warangal_temp.compile(\n",
    "    loss=MeanSquaredError(),\n",
    "    optimizer=Adam(),\n",
    "    metrics=[MeanAbsolutePercentageError()]\n",
    ")\n",
    "epochs=200\n",
    "history=warangal_temp.fit(X_train,y_train, validation_data=(X_val,y_val), epochs=epochs, callbacks=[warangal_cp1])"
   ]
  },
  {
   "cell_type": "markdown",
   "id": "3ec82f27",
   "metadata": {},
   "source": [
    "Epoch 200/200\n",
    "286/286 [==============================] - 8s 27ms/step - loss: 0.0011 - mean_absolute_percentage_error: 3.7465 - val_loss: 0.0023 - val_mean_absolute_percentage_error: 5.3707\n",
    "\n",
    "As we can see the model has achieved MAPE=3.74% and validation MAPE=5.37% which are <10%. So we can say our model has a very good performance"
   ]
  },
  {
   "cell_type": "code",
   "execution_count": 51,
   "id": "ab2900bd",
   "metadata": {
    "scrolled": false
   },
   "outputs": [
    {
     "data": {
      "image/png": "[encoded data removed]",
      "text/plain": [
       "<Figure size 800x800 with 2 Axes>"
      ]
     },
     "metadata": {},
     "output_type": "display_data"
    }
   ],
   "source": [
    "acc = history.history['mean_absolute_percentage_error']\n",
    "val_acc = history.history['val_mean_absolute_percentage_error']\n",
    "\n",
    "loss = history.history['loss']\n",
    "val_loss = history.history['val_loss']\n",
    "\n",
    "epochs_range = range(epochs)\n",
    "\n",
    "plt.figure(figsize=(8, 8))\n",
    "plt.subplot(1, 2, 1)\n",
    "plt.plot(epochs_range, acc, label='Training MAPE')\n",
    "plt.plot(epochs_range, val_acc, label='Validation MAPE')\n",
    "plt.legend(loc='upper right')\n",
    "plt.title('Training and Validation MAPE')\n",
    "\n",
    "plt.subplot(1, 2, 2)\n",
    "plt.plot(epochs_range, loss, label='Training Loss')\n",
    "plt.plot(epochs_range, val_loss, label='Validation Loss')\n",
    "plt.legend(loc='upper right')\n",
    "plt.title('Training and Validation Loss')\n",
    "plt.show()"
   ]
  },
  {
   "cell_type": "code",
   "execution_count": 52,
   "id": "36495297",
   "metadata": {
    "scrolled": true
   },
   "outputs": [
    {
     "name": "stdout",
     "output_type": "stream",
     "text": [
      "12/12 [==============================] - 0s 18ms/step - loss: 0.0040 - mean_absolute_percentage_error: 8.2265\n"
     ]
    }
   ],
   "source": [
    "res=warangal_temp.evaluate(X_test,y_test)"
   ]
  },
  {
   "cell_type": "code",
   "execution_count": 53,
   "id": "8cbf374a",
   "metadata": {},
   "outputs": [
    {
     "data": {
      "text/html": [
       "<div>\n",
       "<style scoped>\n",
       "    .dataframe tbody tr th:only-of-type {\n",
       "        vertical-align: middle;\n",
       "    }\n",
       "\n",
       "    .dataframe tbody tr th {\n",
       "        vertical-align: top;\n",
       "    }\n",
       "\n",
       "    .dataframe thead th {\n",
       "        text-align: right;\n",
       "    }\n",
       "</style>\n",
       "<table border=\"1\" class=\"dataframe\">\n",
       "  <thead>\n",
       "    <tr style=\"text-align: right;\">\n",
       "      <th></th>\n",
       "      <th>temp_max</th>\n",
       "      <th>rainfall</th>\n",
       "    </tr>\n",
       "    <tr>\n",
       "      <th>Date</th>\n",
       "      <th></th>\n",
       "      <th></th>\n",
       "    </tr>\n",
       "  </thead>\n",
       "  <tbody>\n",
       "    <tr>\n",
       "      <th>2021-01-01</th>\n",
       "      <td>0.5044</td>\n",
       "      <td>0.000000</td>\n",
       "    </tr>\n",
       "    <tr>\n",
       "      <th>2021-01-02</th>\n",
       "      <td>0.4830</td>\n",
       "      <td>0.000000</td>\n",
       "    </tr>\n",
       "    <tr>\n",
       "      <th>2021-01-03</th>\n",
       "      <td>0.5054</td>\n",
       "      <td>0.000000</td>\n",
       "    </tr>\n",
       "    <tr>\n",
       "      <th>2021-01-04</th>\n",
       "      <td>0.5112</td>\n",
       "      <td>0.000000</td>\n",
       "    </tr>\n",
       "    <tr>\n",
       "      <th>2021-01-05</th>\n",
       "      <td>0.5442</td>\n",
       "      <td>0.000000</td>\n",
       "    </tr>\n",
       "    <tr>\n",
       "      <th>...</th>\n",
       "      <td>...</td>\n",
       "      <td>...</td>\n",
       "    </tr>\n",
       "    <tr>\n",
       "      <th>2021-12-27</th>\n",
       "      <td>0.5432</td>\n",
       "      <td>0.000000</td>\n",
       "    </tr>\n",
       "    <tr>\n",
       "      <th>2021-12-28</th>\n",
       "      <td>0.5460</td>\n",
       "      <td>0.000343</td>\n",
       "    </tr>\n",
       "    <tr>\n",
       "      <th>2021-12-29</th>\n",
       "      <td>0.5528</td>\n",
       "      <td>0.000514</td>\n",
       "    </tr>\n",
       "    <tr>\n",
       "      <th>2021-12-30</th>\n",
       "      <td>0.5276</td>\n",
       "      <td>0.000229</td>\n",
       "    </tr>\n",
       "    <tr>\n",
       "      <th>2021-12-31</th>\n",
       "      <td>0.5452</td>\n",
       "      <td>0.000000</td>\n",
       "    </tr>\n",
       "  </tbody>\n",
       "</table>\n",
       "<p>365 rows × 2 columns</p>\n",
       "</div>"
      ],
      "text/plain": [
       "            temp_max  rainfall\n",
       "Date                          \n",
       "2021-01-01    0.5044  0.000000\n",
       "2021-01-02    0.4830  0.000000\n",
       "2021-01-03    0.5054  0.000000\n",
       "2021-01-04    0.5112  0.000000\n",
       "2021-01-05    0.5442  0.000000\n",
       "...              ...       ...\n",
       "2021-12-27    0.5432  0.000000\n",
       "2021-12-28    0.5460  0.000343\n",
       "2021-12-29    0.5528  0.000514\n",
       "2021-12-30    0.5276  0.000229\n",
       "2021-12-31    0.5452  0.000000\n",
       "\n",
       "[365 rows x 2 columns]"
      ]
     },
     "metadata": {},
     "output_type": "display_data"
    },
    {
     "data": {
      "text/plain": [
       "array([[[5.04400000e-01, 0.00000000e+00],\n",
       "        [4.83000000e-01, 0.00000000e+00],\n",
       "        [5.05400000e-01, 0.00000000e+00],\n",
       "        [5.11200000e-01, 0.00000000e+00],\n",
       "        [5.44200000e-01, 0.00000000e+00],\n",
       "        [5.50200000e-01, 3.25714286e-03],\n",
       "        [5.50000000e-01, 8.00000000e-04],\n",
       "        [5.57200000e-01, 0.00000000e+00],\n",
       "        [5.51600000e-01, 0.00000000e+00],\n",
       "        [5.62200000e-01, 0.00000000e+00],\n",
       "        [5.88000000e-01, 0.00000000e+00],\n",
       "        [5.93400000e-01, 0.00000000e+00],\n",
       "        [5.85000000e-01, 0.00000000e+00],\n",
       "        [5.76200000e-01, 0.00000000e+00],\n",
       "        [5.78000000e-01, 0.00000000e+00],\n",
       "        [5.80600000e-01, 0.00000000e+00],\n",
       "        [5.72400000e-01, 0.00000000e+00],\n",
       "        [5.66600000e-01, 0.00000000e+00],\n",
       "        [5.85400000e-01, 0.00000000e+00],\n",
       "        [6.01600000e-01, 0.00000000e+00],\n",
       "        [6.08400000e-01, 0.00000000e+00],\n",
       "        [5.91800000e-01, 0.00000000e+00],\n",
       "        [5.93800000e-01, 0.00000000e+00],\n",
       "        [6.18000000e-01, 0.00000000e+00],\n",
       "        [6.14400000e-01, 0.00000000e+00],\n",
       "        [6.15000000e-01, 0.00000000e+00],\n",
       "        [5.99800000e-01, 0.00000000e+00],\n",
       "        [5.90800000e-01, 0.00000000e+00],\n",
       "        [5.91000000e-01, 0.00000000e+00],\n",
       "        [5.88800000e-01, 0.00000000e+00],\n",
       "        [5.89400000e-01, 0.00000000e+00],\n",
       "        [5.76000000e-01, 0.00000000e+00],\n",
       "        [5.88200000e-01, 0.00000000e+00],\n",
       "        [5.94600000e-01, 0.00000000e+00],\n",
       "        [5.95200000e-01, 0.00000000e+00],\n",
       "        [6.03800000e-01, 0.00000000e+00],\n",
       "        [6.10600000e-01, 0.00000000e+00],\n",
       "        [5.96000000e-01, 0.00000000e+00],\n",
       "        [5.90200000e-01, 0.00000000e+00],\n",
       "        [6.20600000e-01, 0.00000000e+00],\n",
       "        [6.32200000e-01, 0.00000000e+00],\n",
       "        [6.33000000e-01, 0.00000000e+00],\n",
       "        [6.27400000e-01, 0.00000000e+00],\n",
       "        [6.33600000e-01, 0.00000000e+00],\n",
       "        [6.37600000e-01, 0.00000000e+00],\n",
       "        [6.47800000e-01, 0.00000000e+00],\n",
       "        [6.56600000e-01, 0.00000000e+00],\n",
       "        [6.48000000e-01, 0.00000000e+00],\n",
       "        [6.20400000e-01, 1.42857143e-03],\n",
       "        [5.73000000e-01, 6.80000000e-03],\n",
       "        [6.20600000e-01, 5.71428571e-05],\n",
       "        [6.35200000e-01, 0.00000000e+00],\n",
       "        [6.39600000e-01, 0.00000000e+00],\n",
       "        [6.73200000e-01, 0.00000000e+00],\n",
       "        [6.88800000e-01, 0.00000000e+00],\n",
       "        [7.08600000e-01, 0.00000000e+00],\n",
       "        [7.27400000e-01, 0.00000000e+00],\n",
       "        [7.33200000e-01, 0.00000000e+00],\n",
       "        [7.29200000e-01, 0.00000000e+00],\n",
       "        [7.46600000e-01, 0.00000000e+00],\n",
       "        [7.35000000e-01, 0.00000000e+00],\n",
       "        [7.33800000e-01, 0.00000000e+00],\n",
       "        [7.32800000e-01, 0.00000000e+00],\n",
       "        [7.37600000e-01, 0.00000000e+00],\n",
       "        [7.59200000e-01, 0.00000000e+00],\n",
       "        [7.49000000e-01, 0.00000000e+00],\n",
       "        [7.40200000e-01, 0.00000000e+00],\n",
       "        [7.35200000e-01, 0.00000000e+00],\n",
       "        [7.50800000e-01, 0.00000000e+00],\n",
       "        [7.49600000e-01, 0.00000000e+00],\n",
       "        [7.43400000e-01, 0.00000000e+00],\n",
       "        [7.37400000e-01, 0.00000000e+00],\n",
       "        [7.49800000e-01, 0.00000000e+00],\n",
       "        [7.50200000e-01, 0.00000000e+00],\n",
       "        [7.53400000e-01, 0.00000000e+00],\n",
       "        [7.64600000e-01, 0.00000000e+00],\n",
       "        [7.60000000e-01, 0.00000000e+00],\n",
       "        [6.95200000e-01, 0.00000000e+00],\n",
       "        [7.47000000e-01, 0.00000000e+00],\n",
       "        [7.67000000e-01, 0.00000000e+00],\n",
       "        [7.73600000e-01, 0.00000000e+00],\n",
       "        [7.78400000e-01, 0.00000000e+00],\n",
       "        [7.83200000e-01, 0.00000000e+00],\n",
       "        [7.71400000e-01, 0.00000000e+00],\n",
       "        [7.85200000e-01, 0.00000000e+00],\n",
       "        [8.08200000e-01, 0.00000000e+00],\n",
       "        [8.15800000e-01, 0.00000000e+00],\n",
       "        [8.18600000e-01, 0.00000000e+00],\n",
       "        [8.43600000e-01, 0.00000000e+00],\n",
       "        [8.50400000e-01, 0.00000000e+00],\n",
       "        [8.39400000e-01, 0.00000000e+00],\n",
       "        [8.37600000e-01, 0.00000000e+00],\n",
       "        [8.37000000e-01, 0.00000000e+00],\n",
       "        [8.11800000e-01, 1.31428571e-03],\n",
       "        [8.07000000e-01, 4.00000000e-04],\n",
       "        [8.19200000e-01, 9.14285714e-04],\n",
       "        [8.20000000e-01, 0.00000000e+00],\n",
       "        [8.32200000e-01, 0.00000000e+00],\n",
       "        [8.01200000e-01, 0.00000000e+00],\n",
       "        [7.94000000e-01, 8.00000000e-04],\n",
       "        [7.89400000e-01, 5.71428571e-04],\n",
       "        [7.94400000e-01, 5.88571429e-03],\n",
       "        [7.91800000e-01, 1.53714286e-02],\n",
       "        [7.30200000e-01, 3.97142857e-02],\n",
       "        [7.51000000e-01, 2.62857143e-03],\n",
       "        [7.67200000e-01, 0.00000000e+00],\n",
       "        [7.97400000e-01, 0.00000000e+00],\n",
       "        [8.13200000e-01, 0.00000000e+00],\n",
       "        [8.23000000e-01, 0.00000000e+00],\n",
       "        [8.31600000e-01, 2.28571429e-04],\n",
       "        [8.00000000e-01, 6.22857143e-03],\n",
       "        [7.58800000e-01, 1.03428571e-02],\n",
       "        [7.34400000e-01, 7.25714286e-03],\n",
       "        [8.02200000e-01, 0.00000000e+00],\n",
       "        [8.18800000e-01, 0.00000000e+00],\n",
       "        [7.75200000e-01, 0.00000000e+00],\n",
       "        [8.23000000e-01, 7.42857143e-04],\n",
       "        [8.21600000e-01, 2.28571429e-04],\n",
       "        [8.38000000e-01, 0.00000000e+00],\n",
       "        [8.35000000e-01, 5.71428571e-05],\n",
       "        [8.08200000e-01, 9.14285714e-03],\n",
       "        [8.05600000e-01, 1.65714286e-03],\n",
       "        [7.91000000e-01, 3.25714286e-03],\n",
       "        [7.95400000e-01, 2.51428571e-03],\n",
       "        [8.06000000e-01, 5.14285714e-04],\n",
       "        [8.09000000e-01, 9.71428571e-04],\n",
       "        [8.11400000e-01, 6.28571429e-04],\n",
       "        [7.96800000e-01, 1.14285714e-04],\n",
       "        [8.17200000e-01, 5.71428571e-05],\n",
       "        [7.96600000e-01, 2.42285714e-02],\n",
       "        [7.66600000e-01, 5.38285714e-02],\n",
       "        [8.16800000e-01, 1.25714286e-03],\n",
       "        [8.00400000e-01, 5.02857143e-03],\n",
       "        [8.13400000e-01, 4.00000000e-04],\n",
       "        [7.50400000e-01, 5.71428571e-05],\n",
       "        [6.73000000e-01, 2.11428571e-03],\n",
       "        [6.69400000e-01, 2.85714286e-03],\n",
       "        [6.75600000e-01, 7.42857143e-04],\n",
       "        [7.28000000e-01, 2.18857143e-02],\n",
       "        [6.71000000e-01, 1.36000000e-02],\n",
       "        [7.40400000e-01, 8.34285714e-03],\n",
       "        [7.84400000e-01, 1.31428571e-03],\n",
       "        [8.23800000e-01, 2.57142857e-03],\n",
       "        [8.10800000e-01, 9.14285714e-04],\n",
       "        [8.21000000e-01, 0.00000000e+00],\n",
       "        [8.52600000e-01, 0.00000000e+00],\n",
       "        [8.52400000e-01, 1.71428571e-04],\n",
       "        [8.06600000e-01, 1.20000000e-03],\n",
       "        [8.17000000e-01, 1.21714286e-02],\n",
       "        [8.09000000e-01, 1.71428571e-04],\n",
       "        [7.73800000e-01, 6.45714286e-02],\n",
       "        [7.11600000e-01, 3.68571429e-02],\n",
       "        [6.69800000e-01, 7.32571429e-02],\n",
       "        [6.25000000e-01, 7.43428571e-02],\n",
       "        [6.50800000e-01, 3.70857143e-02],\n",
       "        [6.88000000e-01, 1.90285714e-02],\n",
       "        [7.03800000e-01, 5.88571429e-03],\n",
       "        [7.30800000e-01, 9.77142857e-03],\n",
       "        [6.46800000e-01, 9.48571429e-02],\n",
       "        [6.12000000e-01, 1.84114286e-01],\n",
       "        [6.28800000e-01, 7.04000000e-02],\n",
       "        [6.29600000e-01, 1.21714286e-02],\n",
       "        [6.77800000e-01, 1.65714286e-02],\n",
       "        [6.00800000e-01, 1.33885714e-01],\n",
       "        [5.77800000e-01, 6.84571429e-02],\n",
       "        [6.61600000e-01, 3.54857143e-02],\n",
       "        [6.17200000e-01, 4.97142857e-03],\n",
       "        [5.98200000e-01, 1.85142857e-02],\n",
       "        [6.47800000e-01, 1.44571429e-02],\n",
       "        [6.62400000e-01, 3.88571429e-03],\n",
       "        [6.74400000e-01, 2.28571429e-04],\n",
       "        [6.81400000e-01, 5.71428571e-05],\n",
       "        [6.06800000e-01, 3.82857143e-03],\n",
       "        [6.61600000e-01, 4.88000000e-02],\n",
       "        [6.50600000e-01, 2.56000000e-02],\n",
       "        [6.67600000e-01, 1.29142857e-02],\n",
       "        [6.26600000e-01, 8.66285714e-02],\n",
       "        [5.91800000e-01, 9.85714286e-02],\n",
       "        [6.35800000e-01, 5.36000000e-02],\n",
       "        [6.28000000e-01, 8.05714286e-03],\n",
       "        [6.71600000e-01, 4.05714286e-02],\n",
       "        [5.86000000e-01, 1.44000000e-01],\n",
       "        [5.83200000e-01, 4.40000000e-02],\n",
       "        [6.13000000e-01, 0.00000000e+00],\n",
       "        [6.45200000e-01, 2.17142857e-02],\n",
       "        [6.37000000e-01, 3.88571429e-03],\n",
       "        [6.23600000e-01, 3.65714286e-03],\n",
       "        [6.39000000e-01, 4.45714286e-02],\n",
       "        [5.67600000e-01, 9.02857143e-02],\n",
       "        [6.39000000e-01, 2.08000000e-02],\n",
       "        [5.75400000e-01, 2.98285714e-02],\n",
       "        [5.90400000e-01, 2.49142857e-01],\n",
       "        [6.46400000e-01, 5.78857143e-02],\n",
       "        [5.96600000e-01, 1.43942857e-01],\n",
       "        [5.83000000e-01, 1.92914286e-01],\n",
       "        [6.32400000e-01, 3.43428571e-02],\n",
       "        [6.30600000e-01, 3.04571429e-02],\n",
       "        [6.26800000e-01, 1.25714286e-02],\n",
       "        [6.18000000e-01, 5.44000000e-02],\n",
       "        [6.30400000e-01, 2.40000000e-02],\n",
       "        [5.67200000e-01, 5.33714286e-02],\n",
       "        [5.53200000e-01, 1.74228571e-01],\n",
       "        [5.42600000e-01, 4.29371429e-01],\n",
       "        [5.78000000e-01, 8.73142857e-02],\n",
       "        [6.32400000e-01, 3.06285714e-02],\n",
       "        [6.44800000e-01, 1.17714286e-02],\n",
       "        [6.31000000e-01, 2.40000000e-03],\n",
       "        [5.99600000e-01, 2.85714286e-04],\n",
       "        [6.18000000e-01, 0.00000000e+00],\n",
       "        [6.00800000e-01, 0.00000000e+00],\n",
       "        [5.66000000e-01, 6.85714286e-04],\n",
       "        [6.05200000e-01, 0.00000000e+00],\n",
       "        [5.98400000e-01, 0.00000000e+00],\n",
       "        [6.20600000e-01, 6.85714286e-04],\n",
       "        [5.99000000e-01, 1.71428571e-04],\n",
       "        [6.16200000e-01, 1.82857143e-03],\n",
       "        [5.92000000e-01, 2.91428571e-03],\n",
       "        [6.17400000e-01, 2.62857143e-03],\n",
       "        [6.20800000e-01, 2.17142857e-03],\n",
       "        [6.23000000e-01, 1.82857143e-03],\n",
       "        [6.09200000e-01, 9.37142857e-03],\n",
       "        [5.82000000e-01, 1.65142857e-02],\n",
       "        [6.08800000e-01, 2.17142857e-03],\n",
       "        [5.89200000e-01, 3.34285714e-02],\n",
       "        [5.71600000e-01, 2.40571429e-02],\n",
       "        [6.01200000e-01, 3.02857143e-03],\n",
       "        [5.83000000e-01, 1.56000000e-02],\n",
       "        [5.59400000e-01, 4.34285714e-02],\n",
       "        [5.51600000e-01, 6.42857143e-02],\n",
       "        [5.97400000e-01, 2.85714286e-02],\n",
       "        [5.98200000e-01, 1.00571429e-02],\n",
       "        [5.82200000e-01, 2.34285714e-03],\n",
       "        [5.90000000e-01, 3.53142857e-02],\n",
       "        [5.92200000e-01, 4.84571429e-02],\n",
       "        [6.08200000e-01, 2.87428571e-02],\n",
       "        [6.35800000e-01, 8.22857143e-03],\n",
       "        [6.12800000e-01, 3.44000000e-02],\n",
       "        [5.87600000e-01, 5.13142857e-02],\n",
       "        [6.16000000e-01, 2.62285714e-02],\n",
       "        [6.01000000e-01, 4.23428571e-02],\n",
       "        [5.93800000e-01, 1.03428571e-01],\n",
       "        [5.82000000e-01, 3.28400000e-01],\n",
       "        [5.86000000e-01, 5.75428571e-02],\n",
       "        [5.94600000e-01, 2.37142857e-02],\n",
       "        [5.98000000e-01, 3.69714286e-02],\n",
       "        [6.06000000e-01, 1.49828571e-01],\n",
       "        [6.01400000e-01, 7.75428571e-02],\n",
       "        [5.59600000e-01, 5.44000000e-02],\n",
       "        [5.48400000e-01, 3.03771429e-01],\n",
       "        [5.92800000e-01, 1.77428571e-01],\n",
       "        [6.02000000e-01, 6.85714286e-04],\n",
       "        [6.13800000e-01, 5.71428571e-05],\n",
       "        [5.88800000e-01, 9.82857143e-03],\n",
       "        [5.87800000e-01, 7.77142857e-03],\n",
       "        [5.90800000e-01, 4.80000000e-03],\n",
       "        [5.86000000e-01, 1.76000000e-02],\n",
       "        [5.95200000e-01, 3.08571429e-03],\n",
       "        [6.05400000e-01, 5.14285714e-04],\n",
       "        [6.07200000e-01, 4.00000000e-04],\n",
       "        [6.08800000e-01, 2.85714286e-04],\n",
       "        [5.88800000e-01, 5.71428571e-05],\n",
       "        [6.01000000e-01, 3.60000000e-02],\n",
       "        [5.78200000e-01, 1.16514286e-01],\n",
       "        [5.91000000e-01, 5.61714286e-02],\n",
       "        [5.65600000e-01, 9.77142857e-03],\n",
       "        [5.77400000e-01, 1.70857143e-02],\n",
       "        [5.94600000e-01, 4.11428571e-03],\n",
       "        [5.98000000e-01, 4.60000000e-02],\n",
       "        [5.83000000e-01, 5.41714286e-02],\n",
       "        [5.52000000e-01, 2.17257143e-01],\n",
       "        [5.90800000e-01, 4.57714286e-02],\n",
       "        [5.97000000e-01, 0.00000000e+00],\n",
       "        [6.23800000e-01, 2.85714286e-04],\n",
       "        [6.07600000e-01, 6.40000000e-03],\n",
       "        [6.07200000e-01, 3.48571429e-03],\n",
       "        [6.11200000e-01, 2.51428571e-03],\n",
       "        [6.11600000e-01, 3.94285714e-03],\n",
       "        [5.78800000e-01, 9.14285714e-03],\n",
       "        [5.80000000e-01, 1.42857143e-03],\n",
       "        [5.97200000e-01, 7.71428571e-03],\n",
       "        [5.85400000e-01, 1.23428571e-02],\n",
       "        [6.12400000e-01, 5.62857143e-02],\n",
       "        [5.70600000e-01, 7.71428571e-03],\n",
       "        [5.88200000e-01, 0.00000000e+00],\n",
       "        [5.99400000e-01, 0.00000000e+00],\n",
       "        [5.90200000e-01, 4.80000000e-03],\n",
       "        [5.99600000e-01, 1.14285714e-04],\n",
       "        [6.01800000e-01, 1.00000000e-02],\n",
       "        [5.59000000e-01, 9.29142857e-02],\n",
       "        [5.73800000e-01, 3.11428571e-02],\n",
       "        [6.05800000e-01, 5.14285714e-04],\n",
       "        [5.88200000e-01, 2.28571429e-04],\n",
       "        [5.72400000e-01, 0.00000000e+00],\n",
       "        [5.78600000e-01, 0.00000000e+00],\n",
       "        [5.66000000e-01, 0.00000000e+00],\n",
       "        [5.69400000e-01, 0.00000000e+00],\n",
       "        [5.76600000e-01, 0.00000000e+00],\n",
       "        [5.56000000e-01, 0.00000000e+00],\n",
       "        [5.47600000e-01, 0.00000000e+00],\n",
       "        [5.52400000e-01, 0.00000000e+00],\n",
       "        [5.63600000e-01, 1.14285714e-04],\n",
       "        [5.68000000e-01, 4.00000000e-03],\n",
       "        [5.69600000e-01, 4.28571429e-03],\n",
       "        [5.58800000e-01, 3.94285714e-03],\n",
       "        [5.37400000e-01, 2.91428571e-03],\n",
       "        [5.49000000e-01, 1.57142857e-02],\n",
       "        [5.46600000e-01, 4.80000000e-03],\n",
       "        [5.72800000e-01, 1.25714286e-03],\n",
       "        [5.70200000e-01, 1.14285714e-04],\n",
       "        [5.57000000e-01, 0.00000000e+00],\n",
       "        [5.47600000e-01, 0.00000000e+00],\n",
       "        [5.30400000e-01, 0.00000000e+00],\n",
       "        [5.29200000e-01, 0.00000000e+00],\n",
       "        [5.04800000e-01, 0.00000000e+00],\n",
       "        [5.07800000e-01, 4.57142857e-04],\n",
       "        [5.65200000e-01, 1.28000000e-02],\n",
       "        [5.76600000e-01, 4.22857143e-03],\n",
       "        [5.74600000e-01, 1.07600000e-01],\n",
       "        [5.82200000e-01, 6.21714286e-02],\n",
       "        [5.91200000e-01, 1.57142857e-02],\n",
       "        [5.70600000e-01, 5.71428571e-05],\n",
       "        [5.59200000e-01, 6.85714286e-04],\n",
       "        [5.39600000e-01, 4.34285714e-03],\n",
       "        [5.76400000e-01, 1.30857143e-02],\n",
       "        [5.83000000e-01, 3.54285714e-03],\n",
       "        [6.01200000e-01, 4.17142857e-03],\n",
       "        [5.98000000e-01, 1.88571429e-03],\n",
       "        [5.78000000e-01, 3.42857143e-04],\n",
       "        [5.75600000e-01, 1.14285714e-04],\n",
       "        [5.63800000e-01, 0.00000000e+00],\n",
       "        [5.32000000e-01, 0.00000000e+00],\n",
       "        [5.31600000e-01, 0.00000000e+00],\n",
       "        [5.17400000e-01, 6.28571429e-04],\n",
       "        [5.12800000e-01, 1.14285714e-04],\n",
       "        [5.38000000e-01, 0.00000000e+00],\n",
       "        [5.32400000e-01, 0.00000000e+00],\n",
       "        [5.13000000e-01, 5.71428571e-05],\n",
       "        [5.50200000e-01, 0.00000000e+00],\n",
       "        [5.62200000e-01, 0.00000000e+00],\n",
       "        [5.59600000e-01, 0.00000000e+00],\n",
       "        [5.47200000e-01, 0.00000000e+00],\n",
       "        [5.28400000e-01, 0.00000000e+00],\n",
       "        [5.53200000e-01, 0.00000000e+00],\n",
       "        [5.29200000e-01, 0.00000000e+00],\n",
       "        [5.45600000e-01, 0.00000000e+00],\n",
       "        [5.35800000e-01, 0.00000000e+00],\n",
       "        [5.25200000e-01, 0.00000000e+00],\n",
       "        [5.04800000e-01, 0.00000000e+00],\n",
       "        [5.05000000e-01, 0.00000000e+00],\n",
       "        [5.10600000e-01, 0.00000000e+00],\n",
       "        [5.13000000e-01, 0.00000000e+00],\n",
       "        [5.08200000e-01, 0.00000000e+00],\n",
       "        [4.94200000e-01, 0.00000000e+00],\n",
       "        [4.85600000e-01, 0.00000000e+00],\n",
       "        [4.91400000e-01, 0.00000000e+00],\n",
       "        [5.21800000e-01, 0.00000000e+00],\n",
       "        [5.46600000e-01, 0.00000000e+00],\n",
       "        [5.53200000e-01, 0.00000000e+00],\n",
       "        [5.68800000e-01, 0.00000000e+00],\n",
       "        [5.57200000e-01, 0.00000000e+00],\n",
       "        [5.43200000e-01, 0.00000000e+00],\n",
       "        [5.46000000e-01, 3.42857143e-04],\n",
       "        [5.52800000e-01, 5.14285714e-04],\n",
       "        [5.27600000e-01, 2.28571429e-04],\n",
       "        [5.45200000e-01, 0.00000000e+00]]])"
      ]
     },
     "execution_count": 53,
     "metadata": {},
     "output_type": "execute_result"
    }
   ],
   "source": [
    "test_x=df[10958:11323]\n",
    "display(test_x)\n",
    "test_x=test_x.to_numpy()\n",
    "test_x=test_x.reshape(1,365,2)\n",
    "test_x"
   ]
  },
  {
   "cell_type": "code",
   "execution_count": 54,
   "id": "f13ba3fb",
   "metadata": {},
   "outputs": [
    {
     "data": {
      "text/plain": [
       "array([0.5492, 0.551 , 0.5476, 0.5502, 0.5482, 0.5576, 0.5646, 0.5636,\n",
       "       0.5664, 0.5574, 0.5428, 0.546 , 0.5324, 0.5542, 0.5168, 0.5358,\n",
       "       0.533 , 0.5502, 0.5416, 0.5668, 0.6046, 0.6134, 0.572 , 0.5368,\n",
       "       0.5148, 0.5268, 0.5208, 0.52  , 0.538 , 0.5838, 0.6098, 0.6082,\n",
       "       0.6288, 0.632 , 0.589 , 0.5906, 0.5974, 0.6194, 0.6176, 0.6136,\n",
       "       0.6038, 0.5988, 0.6078, 0.6208, 0.6242, 0.6238, 0.6104, 0.6196,\n",
       "       0.628 , 0.6436, 0.703 , 0.6876, 0.6872, 0.6784, 0.684 , 0.686 ,\n",
       "       0.6794, 0.6786, 0.6852, 0.7034, 0.6974, 0.7038, 0.7058, 0.7112,\n",
       "       0.7144, 0.7114, 0.7232, 0.7404, 0.73  , 0.7438, 0.6978, 0.7382,\n",
       "       0.7596, 0.7772, 0.8152, 0.8288, 0.81  , 0.7836, 0.7976, 0.8124,\n",
       "       0.8074, 0.8138, 0.8098, 0.8098, 0.8266, 0.8352, 0.8326, 0.8496,\n",
       "       0.8464, 0.8488, 0.8396, 0.7804, 0.7916, 0.7832, 0.7788, 0.7938,\n",
       "       0.7652, 0.7738, 0.783 , 0.7902, 0.8216, 0.822 , 0.8164, 0.807 ,\n",
       "       0.8192, 0.747 , 0.7774, 0.792 , 0.8176, 0.7974, 0.8068, 0.763 ,\n",
       "       0.7728, 0.8142, 0.8334, 0.813 , 0.857 , 0.8624, 0.8774, 0.8774,\n",
       "       0.8738, 0.8616, 0.8482, 0.6908, 0.8088, 0.8496, 0.8456, 0.8288,\n",
       "       0.8296, 0.8346, 0.745 , 0.6636, 0.7552, 0.8256, 0.7652, 0.711 ,\n",
       "       0.6766, 0.7404, 0.6552, 0.7126, 0.8058, 0.8162, 0.823 , 0.8322,\n",
       "       0.8182, 0.8002, 0.7974, 0.8324, 0.8324, 0.8488, 0.821 , 0.765 ,\n",
       "       0.8108, 0.8406, 0.7948, 0.7678, 0.7152, 0.811 , 0.7524, 0.7614,\n",
       "       0.5888, 0.6844, 0.6416, 0.6288, 0.6726, 0.6414, 0.7018, 0.708 ,\n",
       "       0.7074, 0.698 , 0.6582, 0.585 , 0.6852, 0.6796, 0.6034, 0.5926,\n",
       "       0.6052, 0.6512, 0.6506, 0.5988, 0.6066, 0.6524, 0.6418, 0.586 ,\n",
       "       0.5976, 0.6164, 0.598 , 0.5634, 0.5318, 0.5574, 0.5596, 0.5388,\n",
       "       0.5388, 0.5338, 0.562 , 0.599 , 0.5574, 0.5616, 0.5646, 0.604 ,\n",
       "       0.6062, 0.5516, 0.5162, 0.5512, 0.561 , 0.577 , 0.556 , 0.603 ,\n",
       "       0.6094, 0.6278, 0.5852, 0.5674, 0.6116, 0.594 , 0.599 , 0.596 ,\n",
       "       0.5638, 0.5694, 0.5372, 0.5448, 0.546 , 0.5678, 0.5788, 0.5614,\n",
       "       0.575 , 0.5532, 0.5338, 0.5862, 0.6056, 0.5554, 0.5346, 0.5766,\n",
       "       0.5896, 0.6022, 0.606 , 0.5514, 0.592 , 0.5916, 0.5886, 0.534 ,\n",
       "       0.6144, 0.5952, 0.581 , 0.5958, 0.5908, 0.6272, 0.6024, 0.583 ,\n",
       "       0.601 , 0.5712, 0.5868, 0.5852, 0.5696, 0.5422, 0.587 , 0.5904,\n",
       "       0.5524, 0.574 , 0.5838, 0.5766, 0.5542, 0.5484, 0.553 , 0.5658,\n",
       "       0.5648, 0.5578, 0.5792, 0.6078, 0.5926, 0.5616, 0.556 , 0.5592,\n",
       "       0.5552, 0.564 , 0.5746, 0.5758, 0.5302, 0.58  , 0.5402, 0.5618,\n",
       "       0.562 , 0.5734, 0.563 , 0.5698, 0.596 , 0.5796, 0.5496, 0.5482,\n",
       "       0.583 , 0.5852, 0.581 , 0.5628, 0.5718, 0.5742, 0.5366, 0.5324,\n",
       "       0.5308, 0.5434, 0.556 , 0.554 , 0.5412, 0.5256, 0.5174, 0.5204,\n",
       "       0.4876, 0.5158, 0.546 , 0.5692, 0.5722, 0.5546, 0.5546, 0.557 ,\n",
       "       0.5412, 0.5364, 0.5256, 0.5314, 0.5348, 0.5424, 0.5338, 0.5244,\n",
       "       0.5148, 0.5   , 0.512 , 0.508 , 0.5138, 0.5402, 0.551 , 0.5306,\n",
       "       0.5444, 0.526 , 0.525 , 0.524 , 0.5182, 0.5202, 0.5476, 0.5616,\n",
       "       0.5546, 0.5502, 0.5452, 0.5356, 0.5184, 0.4916, 0.4554, 0.4874,\n",
       "       0.5438, 0.5408, 0.5438, 0.573 , 0.5816, 0.5848, 0.5784, 0.5426,\n",
       "       0.536 , 0.544 , 0.5318, 0.543 , 0.548 , 0.54  , 0.5534, 0.5464,\n",
       "       0.5628, 0.5736, 0.5604, 0.5726, 0.5712])"
      ]
     },
     "execution_count": 54,
     "metadata": {},
     "output_type": "execute_result"
    }
   ],
   "source": [
    "test_y=df['temp_max'][11323:]\n",
    "test_y=test_y.to_numpy()\n",
    "test_y"
   ]
  },
  {
   "cell_type": "code",
   "execution_count": 55,
   "id": "12bf0cbc",
   "metadata": {},
   "outputs": [
    {
     "name": "stdout",
     "output_type": "stream",
     "text": [
      "1/1 [==============================] - 0s 336ms/step\n"
     ]
    }
   ],
   "source": [
    "predictions2=warangal_temp.predict(test_x)"
   ]
  },
  {
   "cell_type": "code",
   "execution_count": 56,
   "id": "e01d4023",
   "metadata": {},
   "outputs": [],
   "source": [
    "predictions2= predictions2.reshape(365)\n",
    "predictions2= pd.DataFrame(data=predictions2, index=df[11323:].index)"
   ]
  },
  {
   "cell_type": "code",
   "execution_count": 57,
   "id": "6f5b4f8f",
   "metadata": {},
   "outputs": [
    {
     "data": {
      "text/plain": [
       "(365, 1)"
      ]
     },
     "execution_count": 57,
     "metadata": {},
     "output_type": "execute_result"
    }
   ],
   "source": [
    "predictions2.shape"
   ]
  },
  {
   "cell_type": "code",
   "execution_count": 58,
   "id": "e355f706",
   "metadata": {},
   "outputs": [],
   "source": [
    "expected=pd.DataFrame(data=test_y, index=df[11323:].index, columns=[\"temp_max_actual\"])"
   ]
  },
  {
   "cell_type": "code",
   "execution_count": 59,
   "id": "3bc5f01a",
   "metadata": {},
   "outputs": [],
   "source": [
    "predictions2=predictions2*50\n",
    "expected=expected*50"
   ]
  },
  {
   "cell_type": "code",
   "execution_count": 60,
   "id": "267e50d1",
   "metadata": {},
   "outputs": [],
   "source": [
    "from sklearn.metrics import mean_squared_error as mse\n",
    "from sklearn.metrics import mean_absolute_error as mae\n",
    "from sklearn.metrics import mean_absolute_percentage_error as mape"
   ]
  },
  {
   "cell_type": "code",
   "execution_count": 1,
   "id": "e038ebaa",
   "metadata": {},
   "outputs": [
    {
     "ename": "NameError",
     "evalue": "name 'mse' is not defined",
     "output_type": "error",
     "traceback": [
      "\u001b[1;31m---------------------------------------------------------------------------\u001b[0m",
      "\u001b[1;31mNameError\u001b[0m                                 Traceback (most recent call last)",
      "Cell \u001b[1;32mIn [1], line 1\u001b[0m\n\u001b[1;32m----> 1\u001b[0m rmse\u001b[38;5;241m=\u001b[39m mse(expected, predictions2, squared\u001b[38;5;241m=\u001b[39m\u001b[38;5;28;01mFalse\u001b[39;00m)\n\u001b[0;32m      2\u001b[0m \u001b[38;5;28mprint\u001b[39m(\u001b[38;5;124m\"\u001b[39m\u001b[38;5;124mRMSE: \u001b[39m\u001b[38;5;124m\"\u001b[39m,rmse)\n\u001b[0;32m      3\u001b[0m mae1\u001b[38;5;241m=\u001b[39m mae(expected, predictions2)\n",
      "\u001b[1;31mNameError\u001b[0m: name 'mse' is not defined"
     ]
    }
   ],
   "source": [
    "rmse= mse(expected, predictions2, squared=False)\n",
    "print(\"RMSE: \",rmse)\n",
    "mae1= mae(expected, predictions2)\n",
    "print(\"MAE: \",mae1)\n",
    "mape1= mape(expected, predictions2)\n",
    "print(\"MAPE: {}%\".format(mape1*100))"
   ]
  },
  {
   "cell_type": "code",
   "execution_count": 62,
   "id": "719b0360",
   "metadata": {},
   "outputs": [],
   "source": [
    "prediction_low=predictions2-mae1\n",
    "prediction_upper=predictions2+mae1"
   ]
  },
  {
   "cell_type": "code",
   "execution_count": 63,
   "id": "31c62040",
   "metadata": {},
   "outputs": [],
   "source": [
    "prediction_upper.columns=['upper bound temp']\n",
    "prediction_low.columns=['lower bound temp']\n",
    "predictions2.columns=['predicted temp']"
   ]
  },
  {
   "cell_type": "code",
   "execution_count": 64,
   "id": "89dd79e8",
   "metadata": {
    "scrolled": true
   },
   "outputs": [
    {
     "data": {
      "image/png": "[encoded data removed]",
      "text/plain": [
       "<Figure size 1000x600 with 1 Axes>"
      ]
     },
     "metadata": {},
     "output_type": "display_data"
    }
   ],
   "source": [
    "ax = expected.plot(\n",
    "    figsize=(10, 6),\n",
    "    color=\"blue\",\n",
    "    title=\"Temp forecasting using LSTM\",\n",
    ")\n",
    "ax.set_ylabel(\"Temp_max\")\n",
    "ax.set_xlabel(\"Year\")\n",
    "\n",
    "predictions2.plot(ax=ax, color=\"yellow\")     \n",
    "prediction_low.plot(ax=ax, color=\"green\")\n",
    "prediction_upper.plot(ax=ax, color=\"red\")\n",
    "plt.show()"
   ]
  },
  {
   "cell_type": "code",
   "execution_count": 65,
   "id": "27061931",
   "metadata": {},
   "outputs": [],
   "source": [
    "import pickle"
   ]
  },
  {
   "cell_type": "code",
   "execution_count": 66,
   "id": "d46562cf",
   "metadata": {},
   "outputs": [
    {
     "name": "stderr",
     "output_type": "stream",
     "text": [
      "WARNING:absl:Found untraced functions such as lstm_cell_1_layer_call_fn, lstm_cell_1_layer_call_and_return_conditional_losses while saving (showing 2 of 2). These functions will not be directly callable after loading.\n"
     ]
    },
    {
     "name": "stdout",
     "output_type": "stream",
     "text": [
      "INFO:tensorflow:Assets written to: ram://f9e62e78-48ff-4c81-ab22-97e4842cc35e/assets\n"
     ]
    },
    {
     "name": "stderr",
     "output_type": "stream",
     "text": [
      "INFO:tensorflow:Assets written to: ram://f9e62e78-48ff-4c81-ab22-97e4842cc35e/assets\n"
     ]
    }
   ],
   "source": [
    "pickle.dump(warangal_temp, open('C:\\\\Users\\\\Lenovo\\\\Desktop\\\\NASSCOM\\\\models\\\\warangal_heat_nasa.pkl', 'wb')) # Saving model in pickle file"
   ]
  },
  {
   "cell_type": "code",
   "execution_count": 2,
   "id": "bb05d148",
   "metadata": {},
   "outputs": [],
   "source": [
    "from tensorflow import keras"
   ]
  },
  {
   "cell_type": "code",
   "execution_count": 68,
   "id": "f7290e41",
   "metadata": {},
   "outputs": [],
   "source": [
    "warangal_temp.save(\"warangal_heat_nasa.h5\", save_format='h5') # Saving the model in h5 format "
   ]
  },
  {
   "cell_type": "code",
   "execution_count": 90,
   "id": "a7113ec6",
   "metadata": {},
   "outputs": [],
   "source": [
    "model = keras.models.load_model(\"warangal_heat_nasa.h5\") # loading the model"
   ]
  },
  {
   "cell_type": "code",
   "execution_count": 91,
   "id": "133b4fc7",
   "metadata": {},
   "outputs": [
    {
     "data": {
      "text/html": [
       "<div>\n",
       "<style scoped>\n",
       "    .dataframe tbody tr th:only-of-type {\n",
       "        vertical-align: middle;\n",
       "    }\n",
       "\n",
       "    .dataframe tbody tr th {\n",
       "        vertical-align: top;\n",
       "    }\n",
       "\n",
       "    .dataframe thead th {\n",
       "        text-align: right;\n",
       "    }\n",
       "</style>\n",
       "<table border=\"1\" class=\"dataframe\">\n",
       "  <thead>\n",
       "    <tr style=\"text-align: right;\">\n",
       "      <th></th>\n",
       "      <th>temp_max</th>\n",
       "      <th>rainfall</th>\n",
       "    </tr>\n",
       "    <tr>\n",
       "      <th>Date</th>\n",
       "      <th></th>\n",
       "      <th></th>\n",
       "    </tr>\n",
       "  </thead>\n",
       "  <tbody>\n",
       "    <tr>\n",
       "      <th>2022-01-01</th>\n",
       "      <td>0.5492</td>\n",
       "      <td>0.000000</td>\n",
       "    </tr>\n",
       "    <tr>\n",
       "      <th>2022-01-02</th>\n",
       "      <td>0.5510</td>\n",
       "      <td>0.000000</td>\n",
       "    </tr>\n",
       "    <tr>\n",
       "      <th>2022-01-03</th>\n",
       "      <td>0.5476</td>\n",
       "      <td>0.000000</td>\n",
       "    </tr>\n",
       "    <tr>\n",
       "      <th>2022-01-04</th>\n",
       "      <td>0.5502</td>\n",
       "      <td>0.000000</td>\n",
       "    </tr>\n",
       "    <tr>\n",
       "      <th>2022-01-05</th>\n",
       "      <td>0.5482</td>\n",
       "      <td>0.000000</td>\n",
       "    </tr>\n",
       "    <tr>\n",
       "      <th>...</th>\n",
       "      <td>...</td>\n",
       "      <td>...</td>\n",
       "    </tr>\n",
       "    <tr>\n",
       "      <th>2022-12-27</th>\n",
       "      <td>0.5628</td>\n",
       "      <td>0.005371</td>\n",
       "    </tr>\n",
       "    <tr>\n",
       "      <th>2022-12-28</th>\n",
       "      <td>0.5736</td>\n",
       "      <td>0.014571</td>\n",
       "    </tr>\n",
       "    <tr>\n",
       "      <th>2022-12-29</th>\n",
       "      <td>0.5604</td>\n",
       "      <td>0.000343</td>\n",
       "    </tr>\n",
       "    <tr>\n",
       "      <th>2022-12-30</th>\n",
       "      <td>0.5726</td>\n",
       "      <td>0.000000</td>\n",
       "    </tr>\n",
       "    <tr>\n",
       "      <th>2022-12-31</th>\n",
       "      <td>0.5712</td>\n",
       "      <td>0.000000</td>\n",
       "    </tr>\n",
       "  </tbody>\n",
       "</table>\n",
       "<p>365 rows × 2 columns</p>\n",
       "</div>"
      ],
      "text/plain": [
       "            temp_max  rainfall\n",
       "Date                          \n",
       "2022-01-01    0.5492  0.000000\n",
       "2022-01-02    0.5510  0.000000\n",
       "2022-01-03    0.5476  0.000000\n",
       "2022-01-04    0.5502  0.000000\n",
       "2022-01-05    0.5482  0.000000\n",
       "...              ...       ...\n",
       "2022-12-27    0.5628  0.005371\n",
       "2022-12-28    0.5736  0.014571\n",
       "2022-12-29    0.5604  0.000343\n",
       "2022-12-30    0.5726  0.000000\n",
       "2022-12-31    0.5712  0.000000\n",
       "\n",
       "[365 rows x 2 columns]"
      ]
     },
     "metadata": {},
     "output_type": "display_data"
    },
    {
     "data": {
      "text/plain": [
       "array([[[5.49200000e-01, 0.00000000e+00],\n",
       "        [5.51000000e-01, 0.00000000e+00],\n",
       "        [5.47600000e-01, 0.00000000e+00],\n",
       "        [5.50200000e-01, 0.00000000e+00],\n",
       "        [5.48200000e-01, 0.00000000e+00],\n",
       "        [5.57600000e-01, 0.00000000e+00],\n",
       "        [5.64600000e-01, 0.00000000e+00],\n",
       "        [5.63600000e-01, 0.00000000e+00],\n",
       "        [5.66400000e-01, 1.82857143e-03],\n",
       "        [5.57400000e-01, 3.31428571e-02],\n",
       "        [5.42800000e-01, 7.51428571e-02],\n",
       "        [5.46000000e-01, 8.04000000e-02],\n",
       "        [5.32400000e-01, 3.61142857e-02],\n",
       "        [5.54200000e-01, 1.76000000e-02],\n",
       "        [5.16800000e-01, 1.10857143e-02],\n",
       "        [5.35800000e-01, 5.31428571e-03],\n",
       "        [5.33000000e-01, 1.12571429e-02],\n",
       "        [5.50200000e-01, 0.00000000e+00],\n",
       "        [5.41600000e-01, 0.00000000e+00],\n",
       "        [5.66800000e-01, 0.00000000e+00],\n",
       "        [6.04600000e-01, 0.00000000e+00],\n",
       "        [6.13400000e-01, 0.00000000e+00],\n",
       "        [5.72000000e-01, 0.00000000e+00],\n",
       "        [5.36800000e-01, 0.00000000e+00],\n",
       "        [5.14800000e-01, 0.00000000e+00],\n",
       "        [5.26800000e-01, 0.00000000e+00],\n",
       "        [5.20800000e-01, 0.00000000e+00],\n",
       "        [5.20000000e-01, 0.00000000e+00],\n",
       "        [5.38000000e-01, 0.00000000e+00],\n",
       "        [5.83800000e-01, 0.00000000e+00],\n",
       "        [6.09800000e-01, 0.00000000e+00],\n",
       "        [6.08200000e-01, 0.00000000e+00],\n",
       "        [6.28800000e-01, 0.00000000e+00],\n",
       "        [6.32000000e-01, 0.00000000e+00],\n",
       "        [5.89000000e-01, 0.00000000e+00],\n",
       "        [5.90600000e-01, 0.00000000e+00],\n",
       "        [5.97400000e-01, 0.00000000e+00],\n",
       "        [6.19400000e-01, 0.00000000e+00],\n",
       "        [6.17600000e-01, 0.00000000e+00],\n",
       "        [6.13600000e-01, 0.00000000e+00],\n",
       "        [6.03800000e-01, 0.00000000e+00],\n",
       "        [5.98800000e-01, 0.00000000e+00],\n",
       "        [6.07800000e-01, 0.00000000e+00],\n",
       "        [6.20800000e-01, 0.00000000e+00],\n",
       "        [6.24200000e-01, 0.00000000e+00],\n",
       "        [6.23800000e-01, 0.00000000e+00],\n",
       "        [6.10400000e-01, 5.71428571e-05],\n",
       "        [6.19600000e-01, 1.14285714e-04],\n",
       "        [6.28000000e-01, 0.00000000e+00],\n",
       "        [6.43600000e-01, 0.00000000e+00],\n",
       "        [7.03000000e-01, 0.00000000e+00],\n",
       "        [6.87600000e-01, 0.00000000e+00],\n",
       "        [6.87200000e-01, 0.00000000e+00],\n",
       "        [6.78400000e-01, 0.00000000e+00],\n",
       "        [6.84000000e-01, 0.00000000e+00],\n",
       "        [6.86000000e-01, 0.00000000e+00],\n",
       "        [6.79400000e-01, 0.00000000e+00],\n",
       "        [6.78600000e-01, 0.00000000e+00],\n",
       "        [6.85200000e-01, 0.00000000e+00],\n",
       "        [7.03400000e-01, 0.00000000e+00],\n",
       "        [6.97400000e-01, 0.00000000e+00],\n",
       "        [7.03800000e-01, 0.00000000e+00],\n",
       "        [7.05800000e-01, 0.00000000e+00],\n",
       "        [7.11200000e-01, 0.00000000e+00],\n",
       "        [7.14400000e-01, 0.00000000e+00],\n",
       "        [7.11400000e-01, 0.00000000e+00],\n",
       "        [7.23200000e-01, 0.00000000e+00],\n",
       "        [7.40400000e-01, 0.00000000e+00],\n",
       "        [7.30000000e-01, 0.00000000e+00],\n",
       "        [7.43800000e-01, 0.00000000e+00],\n",
       "        [6.97800000e-01, 0.00000000e+00],\n",
       "        [7.38200000e-01, 0.00000000e+00],\n",
       "        [7.59600000e-01, 0.00000000e+00],\n",
       "        [7.77200000e-01, 0.00000000e+00],\n",
       "        [8.15200000e-01, 0.00000000e+00],\n",
       "        [8.28800000e-01, 0.00000000e+00],\n",
       "        [8.10000000e-01, 0.00000000e+00],\n",
       "        [7.83600000e-01, 0.00000000e+00],\n",
       "        [7.97600000e-01, 0.00000000e+00],\n",
       "        [8.12400000e-01, 0.00000000e+00],\n",
       "        [8.07400000e-01, 0.00000000e+00],\n",
       "        [8.13800000e-01, 0.00000000e+00],\n",
       "        [8.09800000e-01, 0.00000000e+00],\n",
       "        [8.09800000e-01, 0.00000000e+00],\n",
       "        [8.26600000e-01, 0.00000000e+00],\n",
       "        [8.35200000e-01, 0.00000000e+00],\n",
       "        [8.32600000e-01, 0.00000000e+00],\n",
       "        [8.49600000e-01, 0.00000000e+00],\n",
       "        [8.46400000e-01, 0.00000000e+00],\n",
       "        [8.48800000e-01, 0.00000000e+00],\n",
       "        [8.39600000e-01, 0.00000000e+00],\n",
       "        [7.80400000e-01, 0.00000000e+00],\n",
       "        [7.91600000e-01, 0.00000000e+00],\n",
       "        [7.83200000e-01, 0.00000000e+00],\n",
       "        [7.78800000e-01, 0.00000000e+00],\n",
       "        [7.93800000e-01, 0.00000000e+00],\n",
       "        [7.65200000e-01, 0.00000000e+00],\n",
       "        [7.73800000e-01, 0.00000000e+00],\n",
       "        [7.83000000e-01, 0.00000000e+00],\n",
       "        [7.90200000e-01, 0.00000000e+00],\n",
       "        [8.21600000e-01, 0.00000000e+00],\n",
       "        [8.22000000e-01, 0.00000000e+00],\n",
       "        [8.16400000e-01, 0.00000000e+00],\n",
       "        [8.07000000e-01, 0.00000000e+00],\n",
       "        [8.19200000e-01, 3.55428571e-02],\n",
       "        [7.47000000e-01, 1.49600000e-01],\n",
       "        [7.77400000e-01, 5.14285714e-04],\n",
       "        [7.92000000e-01, 0.00000000e+00],\n",
       "        [8.17600000e-01, 0.00000000e+00],\n",
       "        [7.97400000e-01, 0.00000000e+00],\n",
       "        [8.06800000e-01, 1.14285714e-04],\n",
       "        [7.63000000e-01, 1.71428571e-04],\n",
       "        [7.72800000e-01, 0.00000000e+00],\n",
       "        [8.14200000e-01, 0.00000000e+00],\n",
       "        [8.33400000e-01, 0.00000000e+00],\n",
       "        [8.13000000e-01, 0.00000000e+00],\n",
       "        [8.57000000e-01, 0.00000000e+00],\n",
       "        [8.62400000e-01, 0.00000000e+00],\n",
       "        [8.77400000e-01, 0.00000000e+00],\n",
       "        [8.77400000e-01, 0.00000000e+00],\n",
       "        [8.73800000e-01, 0.00000000e+00],\n",
       "        [8.61600000e-01, 1.14285714e-04],\n",
       "        [8.48200000e-01, 6.85714286e-04],\n",
       "        [6.90800000e-01, 1.90285714e-02],\n",
       "        [8.08800000e-01, 1.37142857e-03],\n",
       "        [8.49600000e-01, 2.28571429e-04],\n",
       "        [8.45600000e-01, 0.00000000e+00],\n",
       "        [8.28800000e-01, 0.00000000e+00],\n",
       "        [8.29600000e-01, 0.00000000e+00],\n",
       "        [8.34600000e-01, 1.14285714e-04],\n",
       "        [7.45000000e-01, 6.53714286e-02],\n",
       "        [6.63600000e-01, 1.50285714e-02],\n",
       "        [7.55200000e-01, 1.71428571e-03],\n",
       "        [8.25600000e-01, 5.71428571e-05],\n",
       "        [7.65200000e-01, 1.48571429e-03],\n",
       "        [7.11000000e-01, 5.20000000e-03],\n",
       "        [6.76600000e-01, 3.09714286e-02],\n",
       "        [7.40400000e-01, 5.20000000e-03],\n",
       "        [6.55200000e-01, 2.11428571e-02],\n",
       "        [7.12600000e-01, 5.94285714e-03],\n",
       "        [8.05800000e-01, 2.28571429e-04],\n",
       "        [8.16200000e-01, 0.00000000e+00],\n",
       "        [8.23000000e-01, 0.00000000e+00],\n",
       "        [8.32200000e-01, 1.71428571e-04],\n",
       "        [8.18200000e-01, 1.71428571e-04],\n",
       "        [8.00200000e-01, 1.31428571e-02],\n",
       "        [7.97400000e-01, 3.02857143e-02],\n",
       "        [8.32400000e-01, 0.00000000e+00],\n",
       "        [8.32400000e-01, 1.14285714e-04],\n",
       "        [8.48800000e-01, 2.28571429e-04],\n",
       "        [8.21000000e-01, 1.26400000e-01],\n",
       "        [7.65000000e-01, 2.08571429e-02],\n",
       "        [8.10800000e-01, 1.14285714e-04],\n",
       "        [8.40600000e-01, 0.00000000e+00],\n",
       "        [7.94800000e-01, 2.28571429e-04],\n",
       "        [7.67800000e-01, 5.52000000e-02],\n",
       "        [7.15200000e-01, 4.91428571e-03],\n",
       "        [8.11000000e-01, 5.71428571e-04],\n",
       "        [7.52400000e-01, 2.11428571e-03],\n",
       "        [7.61400000e-01, 4.97142857e-03],\n",
       "        [5.88800000e-01, 2.50285714e-01],\n",
       "        [6.84400000e-01, 1.01314286e-01],\n",
       "        [6.41600000e-01, 1.85142857e-02],\n",
       "        [6.28800000e-01, 1.56000000e-02],\n",
       "        [6.72600000e-01, 1.96000000e-02],\n",
       "        [6.41400000e-01, 5.77142857e-03],\n",
       "        [7.01800000e-01, 2.97142857e-03],\n",
       "        [7.08000000e-01, 2.85714286e-03],\n",
       "        [7.07400000e-01, 1.82857143e-03],\n",
       "        [6.98000000e-01, 1.91428571e-02],\n",
       "        [6.58200000e-01, 4.52000000e-02],\n",
       "        [5.85000000e-01, 7.98857143e-02],\n",
       "        [6.85200000e-01, 1.07428571e-02],\n",
       "        [6.79600000e-01, 6.91428571e-02],\n",
       "        [6.03400000e-01, 1.08457143e-01],\n",
       "        [5.92600000e-01, 6.20000000e-02],\n",
       "        [6.05200000e-01, 3.50857143e-02],\n",
       "        [6.51200000e-01, 1.69714286e-02],\n",
       "        [6.50600000e-01, 1.03428571e-02],\n",
       "        [5.98800000e-01, 7.74857143e-02],\n",
       "        [6.06600000e-01, 4.52571429e-02],\n",
       "        [6.52400000e-01, 8.22857143e-03],\n",
       "        [6.41800000e-01, 2.81142857e-02],\n",
       "        [5.86000000e-01, 1.06514286e-01],\n",
       "        [5.97600000e-01, 1.47657143e-01],\n",
       "        [6.16400000e-01, 1.86171429e-01],\n",
       "        [5.98000000e-01, 5.16571429e-02],\n",
       "        [5.63400000e-01, 3.93085714e-01],\n",
       "        [5.31800000e-01, 8.34742857e-01],\n",
       "        [5.57400000e-01, 1.49714286e-01],\n",
       "        [5.59600000e-01, 1.46857143e-01],\n",
       "        [5.38800000e-01, 2.63028571e-01],\n",
       "        [5.38800000e-01, 4.08628571e-01],\n",
       "        [5.33800000e-01, 9.98114286e-01],\n",
       "        [5.62000000e-01, 1.64800000e-01],\n",
       "        [5.99000000e-01, 2.93142857e-02],\n",
       "        [5.57400000e-01, 6.58285714e-02],\n",
       "        [5.61600000e-01, 1.58914286e-01],\n",
       "        [5.64600000e-01, 5.49714286e-02],\n",
       "        [6.04000000e-01, 2.21714286e-02],\n",
       "        [6.06200000e-01, 3.64571429e-02],\n",
       "        [5.51600000e-01, 1.63542857e-01],\n",
       "        [5.16200000e-01, 2.85142857e-01],\n",
       "        [5.51200000e-01, 5.38857143e-02],\n",
       "        [5.61000000e-01, 1.22685714e-01],\n",
       "        [5.77000000e-01, 4.23428571e-02],\n",
       "        [5.56000000e-01, 5.52000000e-02],\n",
       "        [6.03000000e-01, 1.68571429e-02],\n",
       "        [6.09400000e-01, 1.46857143e-02],\n",
       "        [6.27800000e-01, 2.97714286e-02],\n",
       "        [5.85200000e-01, 1.06914286e-01],\n",
       "        [5.67400000e-01, 2.34914286e-01],\n",
       "        [6.11600000e-01, 1.12571429e-02],\n",
       "        [5.94000000e-01, 2.95428571e-02],\n",
       "        [5.99000000e-01, 8.80000000e-03],\n",
       "        [5.96000000e-01, 3.05714286e-02],\n",
       "        [5.63800000e-01, 6.32000000e-02],\n",
       "        [5.69400000e-01, 1.36057143e-01],\n",
       "        [5.37200000e-01, 1.00914286e-01],\n",
       "        [5.44800000e-01, 1.62228571e-01],\n",
       "        [5.46000000e-01, 1.55200000e-01],\n",
       "        [5.67800000e-01, 3.28000000e-02],\n",
       "        [5.78800000e-01, 4.05714286e-02],\n",
       "        [5.61400000e-01, 3.26285714e-02],\n",
       "        [5.75000000e-01, 5.31428571e-02],\n",
       "        [5.53200000e-01, 6.41142857e-02],\n",
       "        [5.33800000e-01, 3.63428571e-02],\n",
       "        [5.86200000e-01, 2.01142857e-02],\n",
       "        [6.05600000e-01, 5.06857143e-02],\n",
       "        [5.55400000e-01, 2.72000000e-02],\n",
       "        [5.34600000e-01, 7.04571429e-01],\n",
       "        [5.76600000e-01, 3.50285714e-02],\n",
       "        [5.89600000e-01, 3.16000000e-02],\n",
       "        [6.02200000e-01, 2.66857143e-02],\n",
       "        [6.06000000e-01, 9.25714286e-03],\n",
       "        [5.51400000e-01, 2.28400000e-01],\n",
       "        [5.92000000e-01, 1.14285714e-02],\n",
       "        [5.91600000e-01, 5.25714286e-03],\n",
       "        [5.88600000e-01, 2.77714286e-02],\n",
       "        [5.34000000e-01, 6.01714286e-02],\n",
       "        [6.14400000e-01, 2.28571429e-04],\n",
       "        [5.95200000e-01, 8.74285714e-03],\n",
       "        [5.81000000e-01, 1.37142857e-02],\n",
       "        [5.95800000e-01, 1.65714286e-02],\n",
       "        [5.90800000e-01, 4.34285714e-03],\n",
       "        [6.27200000e-01, 4.91428571e-03],\n",
       "        [6.02400000e-01, 6.98285714e-02],\n",
       "        [5.83000000e-01, 1.77142857e-03],\n",
       "        [6.01000000e-01, 4.97714286e-02],\n",
       "        [5.71200000e-01, 1.60400000e-01],\n",
       "        [5.86800000e-01, 1.02114286e-01],\n",
       "        [5.85200000e-01, 2.26857143e-02],\n",
       "        [5.69600000e-01, 1.43257143e-01],\n",
       "        [5.42200000e-01, 1.74171429e-01],\n",
       "        [5.87000000e-01, 2.75428571e-02],\n",
       "        [5.90400000e-01, 1.21714286e-02],\n",
       "        [5.52400000e-01, 2.32000000e-02],\n",
       "        [5.74000000e-01, 2.57142857e-02],\n",
       "        [5.83800000e-01, 2.07428571e-02],\n",
       "        [5.76600000e-01, 2.05142857e-02],\n",
       "        [5.54200000e-01, 3.28571429e-02],\n",
       "        [5.48400000e-01, 1.27828571e-01],\n",
       "        [5.53000000e-01, 3.57142857e-02],\n",
       "        [5.65800000e-01, 1.78285714e-02],\n",
       "        [5.64800000e-01, 1.78228571e-01],\n",
       "        [5.57800000e-01, 2.68571429e-03],\n",
       "        [5.79200000e-01, 3.31428571e-03],\n",
       "        [6.07800000e-01, 1.71428571e-03],\n",
       "        [5.92600000e-01, 1.20000000e-02],\n",
       "        [5.61600000e-01, 4.29714286e-02],\n",
       "        [5.56000000e-01, 5.34857143e-02],\n",
       "        [5.59200000e-01, 3.85142857e-02],\n",
       "        [5.55200000e-01, 3.82857143e-02],\n",
       "        [5.64000000e-01, 5.29142857e-02],\n",
       "        [5.74600000e-01, 9.20000000e-03],\n",
       "        [5.75800000e-01, 1.06857143e-02],\n",
       "        [5.30200000e-01, 1.40971429e-01],\n",
       "        [5.80000000e-01, 6.80571429e-02],\n",
       "        [5.40200000e-01, 6.97142857e-02],\n",
       "        [5.61800000e-01, 3.42857143e-02],\n",
       "        [5.62000000e-01, 1.30857143e-02],\n",
       "        [5.73400000e-01, 2.68571429e-02],\n",
       "        [5.63000000e-01, 3.61142857e-02],\n",
       "        [5.69800000e-01, 1.86285714e-02],\n",
       "        [5.96000000e-01, 3.65714286e-03],\n",
       "        [5.79600000e-01, 6.30285714e-02],\n",
       "        [5.49600000e-01, 1.28800000e-01],\n",
       "        [5.48200000e-01, 3.02971429e-01],\n",
       "        [5.83000000e-01, 3.60000000e-02],\n",
       "        [5.85200000e-01, 1.46285714e-02],\n",
       "        [5.81000000e-01, 1.92000000e-02],\n",
       "        [5.62800000e-01, 1.71428571e-02],\n",
       "        [5.71800000e-01, 3.56000000e-02],\n",
       "        [5.74200000e-01, 1.01714286e-02],\n",
       "        [5.36600000e-01, 1.71428571e-04],\n",
       "        [5.32400000e-01, 1.14285714e-04],\n",
       "        [5.30800000e-01, 5.71428571e-05],\n",
       "        [5.43400000e-01, 0.00000000e+00],\n",
       "        [5.56000000e-01, 5.71428571e-05],\n",
       "        [5.54000000e-01, 0.00000000e+00],\n",
       "        [5.41200000e-01, 2.28571429e-04],\n",
       "        [5.25600000e-01, 5.71428571e-05],\n",
       "        [5.17400000e-01, 0.00000000e+00],\n",
       "        [5.20400000e-01, 0.00000000e+00],\n",
       "        [4.87600000e-01, 2.21142857e-02],\n",
       "        [5.15800000e-01, 1.62857143e-02],\n",
       "        [5.46000000e-01, 2.62857143e-02],\n",
       "        [5.69200000e-01, 5.37142857e-03],\n",
       "        [5.72200000e-01, 5.14285714e-04],\n",
       "        [5.54600000e-01, 0.00000000e+00],\n",
       "        [5.54600000e-01, 0.00000000e+00],\n",
       "        [5.57000000e-01, 0.00000000e+00],\n",
       "        [5.41200000e-01, 0.00000000e+00],\n",
       "        [5.36400000e-01, 3.42857143e-04],\n",
       "        [5.25600000e-01, 4.00000000e-04],\n",
       "        [5.31400000e-01, 2.28571429e-04],\n",
       "        [5.34800000e-01, 7.42857143e-04],\n",
       "        [5.42400000e-01, 2.85714286e-04],\n",
       "        [5.33800000e-01, 0.00000000e+00],\n",
       "        [5.24400000e-01, 0.00000000e+00],\n",
       "        [5.14800000e-01, 0.00000000e+00],\n",
       "        [5.00000000e-01, 0.00000000e+00],\n",
       "        [5.12000000e-01, 2.28571429e-04],\n",
       "        [5.08000000e-01, 9.14285714e-04],\n",
       "        [5.13800000e-01, 1.65714286e-03],\n",
       "        [5.40200000e-01, 8.34285714e-03],\n",
       "        [5.51000000e-01, 2.96000000e-02],\n",
       "        [5.30600000e-01, 4.82857143e-02],\n",
       "        [5.44400000e-01, 3.42857143e-03],\n",
       "        [5.26000000e-01, 1.14285714e-04],\n",
       "        [5.25000000e-01, 0.00000000e+00],\n",
       "        [5.24000000e-01, 0.00000000e+00],\n",
       "        [5.18200000e-01, 0.00000000e+00],\n",
       "        [5.20200000e-01, 0.00000000e+00],\n",
       "        [5.47600000e-01, 0.00000000e+00],\n",
       "        [5.61600000e-01, 2.91428571e-03],\n",
       "        [5.54600000e-01, 6.11428571e-03],\n",
       "        [5.50200000e-01, 5.71428571e-05],\n",
       "        [5.45200000e-01, 0.00000000e+00],\n",
       "        [5.35600000e-01, 1.14285714e-04],\n",
       "        [5.18400000e-01, 1.14285714e-04],\n",
       "        [4.91600000e-01, 1.14285714e-04],\n",
       "        [4.55400000e-01, 2.28571429e-04],\n",
       "        [4.87400000e-01, 5.05714286e-02],\n",
       "        [5.43800000e-01, 3.93142857e-02],\n",
       "        [5.40800000e-01, 4.18285714e-02],\n",
       "        [5.43800000e-01, 8.28571429e-03],\n",
       "        [5.73000000e-01, 6.00000000e-03],\n",
       "        [5.81600000e-01, 3.42857143e-03],\n",
       "        [5.84800000e-01, 2.85714286e-04],\n",
       "        [5.78400000e-01, 1.14285714e-04],\n",
       "        [5.42600000e-01, 7.42857143e-04],\n",
       "        [5.36000000e-01, 1.14285714e-04],\n",
       "        [5.44000000e-01, 0.00000000e+00],\n",
       "        [5.31800000e-01, 0.00000000e+00],\n",
       "        [5.43000000e-01, 0.00000000e+00],\n",
       "        [5.48000000e-01, 0.00000000e+00],\n",
       "        [5.40000000e-01, 0.00000000e+00],\n",
       "        [5.53400000e-01, 5.71428571e-05],\n",
       "        [5.46400000e-01, 5.20000000e-03],\n",
       "        [5.62800000e-01, 5.37142857e-03],\n",
       "        [5.73600000e-01, 1.45714286e-02],\n",
       "        [5.60400000e-01, 3.42857143e-04],\n",
       "        [5.72600000e-01, 0.00000000e+00],\n",
       "        [5.71200000e-01, 0.00000000e+00]]])"
      ]
     },
     "execution_count": 91,
     "metadata": {},
     "output_type": "execute_result"
    }
   ],
   "source": [
    "test_x1=df[11323:]\n",
    "display(test_x1)\n",
    "test_x1=test_x1.to_numpy()\n",
    "test_x1=test_x1.reshape(1,365,2)\n",
    "test_x1"
   ]
  },
  {
   "cell_type": "code",
   "execution_count": 92,
   "id": "c16dfa8a",
   "metadata": {
    "scrolled": true
   },
   "outputs": [
    {
     "name": "stdout",
     "output_type": "stream",
     "text": [
      "1/1 [==============================] - 0s 264ms/step\n"
     ]
    }
   ],
   "source": [
    "pred1= model.predict(test_x1)"
   ]
  },
  {
   "cell_type": "code",
   "execution_count": 93,
   "id": "65239cbd",
   "metadata": {
    "scrolled": true
   },
   "outputs": [
    {
     "data": {
      "text/plain": [
       "(1, 365)"
      ]
     },
     "execution_count": 93,
     "metadata": {},
     "output_type": "execute_result"
    }
   ],
   "source": [
    "pred1.shape"
   ]
  },
  {
   "cell_type": "code",
   "execution_count": null,
   "id": "491d47a8",
   "metadata": {},
   "outputs": [],
   "source": []
  },
  {
   "cell_type": "code",
   "execution_count": 94,
   "id": "49c4d5ab",
   "metadata": {
    "scrolled": false
   },
   "outputs": [
    {
     "name": "stderr",
     "output_type": "stream",
     "text": [
      "C:\\Users\\Lenovo\\AppData\\Local\\Temp\\ipykernel_16876\\2431198317.py:4: UserWarning: Parsing dates in DD/MM/YYYY format when dayfirst=False (the default) was specified. This may lead to inconsistently parsed dates! Specify a format to ensure consistent parsing.\n",
      "  pred2[\"date\"]= pd.date_range(start='01-01-2023', end='31-12-2023')\n"
     ]
    },
    {
     "data": {
      "text/html": [
       "<div>\n",
       "<style scoped>\n",
       "    .dataframe tbody tr th:only-of-type {\n",
       "        vertical-align: middle;\n",
       "    }\n",
       "\n",
       "    .dataframe tbody tr th {\n",
       "        vertical-align: top;\n",
       "    }\n",
       "\n",
       "    .dataframe thead th {\n",
       "        text-align: right;\n",
       "    }\n",
       "</style>\n",
       "<table border=\"1\" class=\"dataframe\">\n",
       "  <thead>\n",
       "    <tr style=\"text-align: right;\">\n",
       "      <th></th>\n",
       "      <th>temp_max</th>\n",
       "      <th>date</th>\n",
       "    </tr>\n",
       "    <tr>\n",
       "      <th>Date</th>\n",
       "      <th></th>\n",
       "      <th></th>\n",
       "    </tr>\n",
       "  </thead>\n",
       "  <tbody>\n",
       "    <tr>\n",
       "      <th>2022-01-01</th>\n",
       "      <td>27.900856</td>\n",
       "      <td>2023-01-01</td>\n",
       "    </tr>\n",
       "    <tr>\n",
       "      <th>2022-01-02</th>\n",
       "      <td>27.703089</td>\n",
       "      <td>2023-01-02</td>\n",
       "    </tr>\n",
       "    <tr>\n",
       "      <th>2022-01-03</th>\n",
       "      <td>27.522797</td>\n",
       "      <td>2023-01-03</td>\n",
       "    </tr>\n",
       "    <tr>\n",
       "      <th>2022-01-04</th>\n",
       "      <td>27.070179</td>\n",
       "      <td>2023-01-04</td>\n",
       "    </tr>\n",
       "    <tr>\n",
       "      <th>2022-01-05</th>\n",
       "      <td>27.044699</td>\n",
       "      <td>2023-01-05</td>\n",
       "    </tr>\n",
       "    <tr>\n",
       "      <th>...</th>\n",
       "      <td>...</td>\n",
       "      <td>...</td>\n",
       "    </tr>\n",
       "    <tr>\n",
       "      <th>2022-12-27</th>\n",
       "      <td>31.478331</td>\n",
       "      <td>2023-12-27</td>\n",
       "    </tr>\n",
       "    <tr>\n",
       "      <th>2022-12-28</th>\n",
       "      <td>31.620506</td>\n",
       "      <td>2023-12-28</td>\n",
       "    </tr>\n",
       "    <tr>\n",
       "      <th>2022-12-29</th>\n",
       "      <td>31.519627</td>\n",
       "      <td>2023-12-29</td>\n",
       "    </tr>\n",
       "    <tr>\n",
       "      <th>2022-12-30</th>\n",
       "      <td>31.607544</td>\n",
       "      <td>2023-12-30</td>\n",
       "    </tr>\n",
       "    <tr>\n",
       "      <th>2022-12-31</th>\n",
       "      <td>31.767252</td>\n",
       "      <td>2023-12-31</td>\n",
       "    </tr>\n",
       "  </tbody>\n",
       "</table>\n",
       "<p>365 rows × 2 columns</p>\n",
       "</div>"
      ],
      "text/plain": [
       "             temp_max       date\n",
       "Date                            \n",
       "2022-01-01  27.900856 2023-01-01\n",
       "2022-01-02  27.703089 2023-01-02\n",
       "2022-01-03  27.522797 2023-01-03\n",
       "2022-01-04  27.070179 2023-01-04\n",
       "2022-01-05  27.044699 2023-01-05\n",
       "...               ...        ...\n",
       "2022-12-27  31.478331 2023-12-27\n",
       "2022-12-28  31.620506 2023-12-28\n",
       "2022-12-29  31.519627 2023-12-29\n",
       "2022-12-30  31.607544 2023-12-30\n",
       "2022-12-31  31.767252 2023-12-31\n",
       "\n",
       "[365 rows x 2 columns]"
      ]
     },
     "execution_count": 94,
     "metadata": {},
     "output_type": "execute_result"
    }
   ],
   "source": [
    "pred1 = pred1.reshape(365)\n",
    "pred2 = pd.DataFrame(data=pred1,index=df[11323:].index, columns=['temp_max'])\n",
    "pred2[\"temp_max\"] = pred2[\"temp_max\"]*50 \n",
    "pred2[\"date\"]= pd.date_range(start='01-01-2023', end='31-12-2023')\n",
    "pred2\n"
   ]
  },
  {
   "cell_type": "code",
   "execution_count": 95,
   "id": "6a19d78a",
   "metadata": {},
   "outputs": [],
   "source": [
    "pred4=pred2.copy()\n",
    "pred4=pred4.set_index('date')\n",
    "pred4.to_csv(\"C:\\\\Users\\\\Lenovo\\\\Desktop\\\\NASSCOM\\\\Prediction\\\\warangal_prediction_temp.csv\")"
   ]
  },
  {
   "cell_type": "code",
   "execution_count": 96,
   "id": "3d7726c7",
   "metadata": {
    "scrolled": true
   },
   "outputs": [
    {
     "data": {
      "text/plain": [
       "31.0"
      ]
     },
     "execution_count": 96,
     "metadata": {},
     "output_type": "execute_result"
    }
   ],
   "source": [
    "norm= pd.read_csv(\"C:\\\\Users\\\\Lenovo\\\\Desktop\\\\NASSCOM\\\\Normals\\\\temp_normals.csv\")\n",
    "norm['Warangal'][0]"
   ]
  },
  {
   "cell_type": "code",
   "execution_count": 97,
   "id": "d6562368",
   "metadata": {},
   "outputs": [],
   "source": [
    "pred2= pred2.loc[(pred2['temp_max']>=40)]\n",
    "pred2= pred2.sort_values(by=['date'])\n",
    "pred2['month']=pred2['date'].dt.month\n",
    "pred2['normal']=pred2['month'].astype(float)\n"
   ]
  },
  {
   "cell_type": "code",
   "execution_count": 98,
   "id": "04d4c91b",
   "metadata": {},
   "outputs": [
    {
     "data": {
      "text/html": [
       "<div>\n",
       "<style scoped>\n",
       "    .dataframe tbody tr th:only-of-type {\n",
       "        vertical-align: middle;\n",
       "    }\n",
       "\n",
       "    .dataframe tbody tr th {\n",
       "        vertical-align: top;\n",
       "    }\n",
       "\n",
       "    .dataframe thead th {\n",
       "        text-align: right;\n",
       "    }\n",
       "</style>\n",
       "<table border=\"1\" class=\"dataframe\">\n",
       "  <thead>\n",
       "    <tr style=\"text-align: right;\">\n",
       "      <th></th>\n",
       "      <th>temp_max</th>\n",
       "      <th>date</th>\n",
       "      <th>month</th>\n",
       "      <th>normal</th>\n",
       "    </tr>\n",
       "    <tr>\n",
       "      <th>Date</th>\n",
       "      <th></th>\n",
       "      <th></th>\n",
       "      <th></th>\n",
       "      <th></th>\n",
       "    </tr>\n",
       "  </thead>\n",
       "  <tbody>\n",
       "    <tr>\n",
       "      <th>2022-04-16</th>\n",
       "      <td>40.126007</td>\n",
       "      <td>2023-04-16</td>\n",
       "      <td>4</td>\n",
       "      <td>4.0</td>\n",
       "    </tr>\n",
       "    <tr>\n",
       "      <th>2022-04-18</th>\n",
       "      <td>40.424896</td>\n",
       "      <td>2023-04-18</td>\n",
       "      <td>4</td>\n",
       "      <td>4.0</td>\n",
       "    </tr>\n",
       "    <tr>\n",
       "      <th>2022-04-19</th>\n",
       "      <td>40.419327</td>\n",
       "      <td>2023-04-19</td>\n",
       "      <td>4</td>\n",
       "      <td>4.0</td>\n",
       "    </tr>\n",
       "    <tr>\n",
       "      <th>2022-04-20</th>\n",
       "      <td>40.202629</td>\n",
       "      <td>2023-04-20</td>\n",
       "      <td>4</td>\n",
       "      <td>4.0</td>\n",
       "    </tr>\n",
       "    <tr>\n",
       "      <th>2022-04-21</th>\n",
       "      <td>40.346630</td>\n",
       "      <td>2023-04-21</td>\n",
       "      <td>4</td>\n",
       "      <td>4.0</td>\n",
       "    </tr>\n",
       "    <tr>\n",
       "      <th>2022-04-26</th>\n",
       "      <td>40.009548</td>\n",
       "      <td>2023-04-26</td>\n",
       "      <td>4</td>\n",
       "      <td>4.0</td>\n",
       "    </tr>\n",
       "    <tr>\n",
       "      <th>2022-05-03</th>\n",
       "      <td>40.176071</td>\n",
       "      <td>2023-05-03</td>\n",
       "      <td>5</td>\n",
       "      <td>5.0</td>\n",
       "    </tr>\n",
       "    <tr>\n",
       "      <th>2022-05-04</th>\n",
       "      <td>40.180954</td>\n",
       "      <td>2023-05-04</td>\n",
       "      <td>5</td>\n",
       "      <td>5.0</td>\n",
       "    </tr>\n",
       "    <tr>\n",
       "      <th>2022-05-05</th>\n",
       "      <td>40.011024</td>\n",
       "      <td>2023-05-05</td>\n",
       "      <td>5</td>\n",
       "      <td>5.0</td>\n",
       "    </tr>\n",
       "    <tr>\n",
       "      <th>2022-05-06</th>\n",
       "      <td>40.066452</td>\n",
       "      <td>2023-05-06</td>\n",
       "      <td>5</td>\n",
       "      <td>5.0</td>\n",
       "    </tr>\n",
       "    <tr>\n",
       "      <th>2022-06-01</th>\n",
       "      <td>40.149994</td>\n",
       "      <td>2023-06-01</td>\n",
       "      <td>6</td>\n",
       "      <td>6.0</td>\n",
       "    </tr>\n",
       "    <tr>\n",
       "      <th>2022-06-02</th>\n",
       "      <td>40.439533</td>\n",
       "      <td>2023-06-02</td>\n",
       "      <td>6</td>\n",
       "      <td>6.0</td>\n",
       "    </tr>\n",
       "    <tr>\n",
       "      <th>2022-06-03</th>\n",
       "      <td>40.699020</td>\n",
       "      <td>2023-06-03</td>\n",
       "      <td>6</td>\n",
       "      <td>6.0</td>\n",
       "    </tr>\n",
       "    <tr>\n",
       "      <th>2022-06-04</th>\n",
       "      <td>40.642166</td>\n",
       "      <td>2023-06-04</td>\n",
       "      <td>6</td>\n",
       "      <td>6.0</td>\n",
       "    </tr>\n",
       "    <tr>\n",
       "      <th>2022-06-05</th>\n",
       "      <td>40.812778</td>\n",
       "      <td>2023-06-05</td>\n",
       "      <td>6</td>\n",
       "      <td>6.0</td>\n",
       "    </tr>\n",
       "    <tr>\n",
       "      <th>2022-06-06</th>\n",
       "      <td>40.624588</td>\n",
       "      <td>2023-06-06</td>\n",
       "      <td>6</td>\n",
       "      <td>6.0</td>\n",
       "    </tr>\n",
       "    <tr>\n",
       "      <th>2022-06-07</th>\n",
       "      <td>40.534199</td>\n",
       "      <td>2023-06-07</td>\n",
       "      <td>6</td>\n",
       "      <td>6.0</td>\n",
       "    </tr>\n",
       "    <tr>\n",
       "      <th>2022-06-08</th>\n",
       "      <td>40.191105</td>\n",
       "      <td>2023-06-08</td>\n",
       "      <td>6</td>\n",
       "      <td>6.0</td>\n",
       "    </tr>\n",
       "    <tr>\n",
       "      <th>2022-06-09</th>\n",
       "      <td>40.416180</td>\n",
       "      <td>2023-06-09</td>\n",
       "      <td>6</td>\n",
       "      <td>6.0</td>\n",
       "    </tr>\n",
       "    <tr>\n",
       "      <th>2022-06-10</th>\n",
       "      <td>40.673950</td>\n",
       "      <td>2023-06-10</td>\n",
       "      <td>6</td>\n",
       "      <td>6.0</td>\n",
       "    </tr>\n",
       "    <tr>\n",
       "      <th>2022-06-11</th>\n",
       "      <td>40.444839</td>\n",
       "      <td>2023-06-11</td>\n",
       "      <td>6</td>\n",
       "      <td>6.0</td>\n",
       "    </tr>\n",
       "    <tr>\n",
       "      <th>2022-06-12</th>\n",
       "      <td>40.462830</td>\n",
       "      <td>2023-06-12</td>\n",
       "      <td>6</td>\n",
       "      <td>6.0</td>\n",
       "    </tr>\n",
       "    <tr>\n",
       "      <th>2022-06-13</th>\n",
       "      <td>40.613049</td>\n",
       "      <td>2023-06-13</td>\n",
       "      <td>6</td>\n",
       "      <td>6.0</td>\n",
       "    </tr>\n",
       "    <tr>\n",
       "      <th>2022-06-14</th>\n",
       "      <td>40.785172</td>\n",
       "      <td>2023-06-14</td>\n",
       "      <td>6</td>\n",
       "      <td>6.0</td>\n",
       "    </tr>\n",
       "    <tr>\n",
       "      <th>2022-06-15</th>\n",
       "      <td>40.509277</td>\n",
       "      <td>2023-06-15</td>\n",
       "      <td>6</td>\n",
       "      <td>6.0</td>\n",
       "    </tr>\n",
       "    <tr>\n",
       "      <th>2022-06-16</th>\n",
       "      <td>40.679676</td>\n",
       "      <td>2023-06-16</td>\n",
       "      <td>6</td>\n",
       "      <td>6.0</td>\n",
       "    </tr>\n",
       "    <tr>\n",
       "      <th>2022-06-17</th>\n",
       "      <td>40.752869</td>\n",
       "      <td>2023-06-17</td>\n",
       "      <td>6</td>\n",
       "      <td>6.0</td>\n",
       "    </tr>\n",
       "    <tr>\n",
       "      <th>2022-06-18</th>\n",
       "      <td>40.661362</td>\n",
       "      <td>2023-06-18</td>\n",
       "      <td>6</td>\n",
       "      <td>6.0</td>\n",
       "    </tr>\n",
       "    <tr>\n",
       "      <th>2022-06-19</th>\n",
       "      <td>40.646790</td>\n",
       "      <td>2023-06-19</td>\n",
       "      <td>6</td>\n",
       "      <td>6.0</td>\n",
       "    </tr>\n",
       "    <tr>\n",
       "      <th>2022-06-20</th>\n",
       "      <td>40.489998</td>\n",
       "      <td>2023-06-20</td>\n",
       "      <td>6</td>\n",
       "      <td>6.0</td>\n",
       "    </tr>\n",
       "    <tr>\n",
       "      <th>2022-06-21</th>\n",
       "      <td>40.235554</td>\n",
       "      <td>2023-06-21</td>\n",
       "      <td>6</td>\n",
       "      <td>6.0</td>\n",
       "    </tr>\n",
       "  </tbody>\n",
       "</table>\n",
       "</div>"
      ],
      "text/plain": [
       "             temp_max       date  month  normal\n",
       "Date                                           \n",
       "2022-04-16  40.126007 2023-04-16      4     4.0\n",
       "2022-04-18  40.424896 2023-04-18      4     4.0\n",
       "2022-04-19  40.419327 2023-04-19      4     4.0\n",
       "2022-04-20  40.202629 2023-04-20      4     4.0\n",
       "2022-04-21  40.346630 2023-04-21      4     4.0\n",
       "2022-04-26  40.009548 2023-04-26      4     4.0\n",
       "2022-05-03  40.176071 2023-05-03      5     5.0\n",
       "2022-05-04  40.180954 2023-05-04      5     5.0\n",
       "2022-05-05  40.011024 2023-05-05      5     5.0\n",
       "2022-05-06  40.066452 2023-05-06      5     5.0\n",
       "2022-06-01  40.149994 2023-06-01      6     6.0\n",
       "2022-06-02  40.439533 2023-06-02      6     6.0\n",
       "2022-06-03  40.699020 2023-06-03      6     6.0\n",
       "2022-06-04  40.642166 2023-06-04      6     6.0\n",
       "2022-06-05  40.812778 2023-06-05      6     6.0\n",
       "2022-06-06  40.624588 2023-06-06      6     6.0\n",
       "2022-06-07  40.534199 2023-06-07      6     6.0\n",
       "2022-06-08  40.191105 2023-06-08      6     6.0\n",
       "2022-06-09  40.416180 2023-06-09      6     6.0\n",
       "2022-06-10  40.673950 2023-06-10      6     6.0\n",
       "2022-06-11  40.444839 2023-06-11      6     6.0\n",
       "2022-06-12  40.462830 2023-06-12      6     6.0\n",
       "2022-06-13  40.613049 2023-06-13      6     6.0\n",
       "2022-06-14  40.785172 2023-06-14      6     6.0\n",
       "2022-06-15  40.509277 2023-06-15      6     6.0\n",
       "2022-06-16  40.679676 2023-06-16      6     6.0\n",
       "2022-06-17  40.752869 2023-06-17      6     6.0\n",
       "2022-06-18  40.661362 2023-06-18      6     6.0\n",
       "2022-06-19  40.646790 2023-06-19      6     6.0\n",
       "2022-06-20  40.489998 2023-06-20      6     6.0\n",
       "2022-06-21  40.235554 2023-06-21      6     6.0"
      ]
     },
     "execution_count": 98,
     "metadata": {},
     "output_type": "execute_result"
    }
   ],
   "source": [
    "pred2"
   ]
  },
  {
   "cell_type": "code",
   "execution_count": 99,
   "id": "438e0152",
   "metadata": {
    "scrolled": true
   },
   "outputs": [
    {
     "name": "stderr",
     "output_type": "stream",
     "text": [
      "C:\\Users\\Lenovo\\AppData\\Local\\Temp\\ipykernel_16876\\2698921670.py:2: SettingWithCopyWarning: \n",
      "A value is trying to be set on a copy of a slice from a DataFrame\n",
      "\n",
      "See the caveats in the documentation: https://pandas.pydata.org/pandas-docs/stable/user_guide/indexing.html#returning-a-view-versus-a-copy\n",
      "  pred2['normal'][i] = float(norm['Warangal'][int(pred2[\"month\"][i])-1])\n"
     ]
    },
    {
     "data": {
      "text/html": [
       "<div>\n",
       "<style scoped>\n",
       "    .dataframe tbody tr th:only-of-type {\n",
       "        vertical-align: middle;\n",
       "    }\n",
       "\n",
       "    .dataframe tbody tr th {\n",
       "        vertical-align: top;\n",
       "    }\n",
       "\n",
       "    .dataframe thead th {\n",
       "        text-align: right;\n",
       "    }\n",
       "</style>\n",
       "<table border=\"1\" class=\"dataframe\">\n",
       "  <thead>\n",
       "    <tr style=\"text-align: right;\">\n",
       "      <th></th>\n",
       "      <th>temp_max</th>\n",
       "      <th>date</th>\n",
       "      <th>month</th>\n",
       "      <th>normal</th>\n",
       "    </tr>\n",
       "    <tr>\n",
       "      <th>Date</th>\n",
       "      <th></th>\n",
       "      <th></th>\n",
       "      <th></th>\n",
       "      <th></th>\n",
       "    </tr>\n",
       "  </thead>\n",
       "  <tbody>\n",
       "    <tr>\n",
       "      <th>2022-04-16</th>\n",
       "      <td>40.126007</td>\n",
       "      <td>2023-04-16</td>\n",
       "      <td>4</td>\n",
       "      <td>39.1</td>\n",
       "    </tr>\n",
       "    <tr>\n",
       "      <th>2022-04-18</th>\n",
       "      <td>40.424896</td>\n",
       "      <td>2023-04-18</td>\n",
       "      <td>4</td>\n",
       "      <td>39.1</td>\n",
       "    </tr>\n",
       "    <tr>\n",
       "      <th>2022-04-19</th>\n",
       "      <td>40.419327</td>\n",
       "      <td>2023-04-19</td>\n",
       "      <td>4</td>\n",
       "      <td>39.1</td>\n",
       "    </tr>\n",
       "    <tr>\n",
       "      <th>2022-04-20</th>\n",
       "      <td>40.202629</td>\n",
       "      <td>2023-04-20</td>\n",
       "      <td>4</td>\n",
       "      <td>39.1</td>\n",
       "    </tr>\n",
       "    <tr>\n",
       "      <th>2022-04-21</th>\n",
       "      <td>40.346630</td>\n",
       "      <td>2023-04-21</td>\n",
       "      <td>4</td>\n",
       "      <td>39.1</td>\n",
       "    </tr>\n",
       "    <tr>\n",
       "      <th>2022-04-26</th>\n",
       "      <td>40.009548</td>\n",
       "      <td>2023-04-26</td>\n",
       "      <td>4</td>\n",
       "      <td>39.1</td>\n",
       "    </tr>\n",
       "    <tr>\n",
       "      <th>2022-05-03</th>\n",
       "      <td>40.176071</td>\n",
       "      <td>2023-05-03</td>\n",
       "      <td>5</td>\n",
       "      <td>40.7</td>\n",
       "    </tr>\n",
       "    <tr>\n",
       "      <th>2022-05-04</th>\n",
       "      <td>40.180954</td>\n",
       "      <td>2023-05-04</td>\n",
       "      <td>5</td>\n",
       "      <td>40.7</td>\n",
       "    </tr>\n",
       "    <tr>\n",
       "      <th>2022-05-05</th>\n",
       "      <td>40.011024</td>\n",
       "      <td>2023-05-05</td>\n",
       "      <td>5</td>\n",
       "      <td>40.7</td>\n",
       "    </tr>\n",
       "    <tr>\n",
       "      <th>2022-05-06</th>\n",
       "      <td>40.066452</td>\n",
       "      <td>2023-05-06</td>\n",
       "      <td>5</td>\n",
       "      <td>40.7</td>\n",
       "    </tr>\n",
       "    <tr>\n",
       "      <th>2022-06-01</th>\n",
       "      <td>40.149994</td>\n",
       "      <td>2023-06-01</td>\n",
       "      <td>6</td>\n",
       "      <td>36.3</td>\n",
       "    </tr>\n",
       "    <tr>\n",
       "      <th>2022-06-02</th>\n",
       "      <td>40.439533</td>\n",
       "      <td>2023-06-02</td>\n",
       "      <td>6</td>\n",
       "      <td>36.3</td>\n",
       "    </tr>\n",
       "    <tr>\n",
       "      <th>2022-06-03</th>\n",
       "      <td>40.699020</td>\n",
       "      <td>2023-06-03</td>\n",
       "      <td>6</td>\n",
       "      <td>36.3</td>\n",
       "    </tr>\n",
       "    <tr>\n",
       "      <th>2022-06-04</th>\n",
       "      <td>40.642166</td>\n",
       "      <td>2023-06-04</td>\n",
       "      <td>6</td>\n",
       "      <td>36.3</td>\n",
       "    </tr>\n",
       "    <tr>\n",
       "      <th>2022-06-05</th>\n",
       "      <td>40.812778</td>\n",
       "      <td>2023-06-05</td>\n",
       "      <td>6</td>\n",
       "      <td>36.3</td>\n",
       "    </tr>\n",
       "    <tr>\n",
       "      <th>2022-06-06</th>\n",
       "      <td>40.624588</td>\n",
       "      <td>2023-06-06</td>\n",
       "      <td>6</td>\n",
       "      <td>36.3</td>\n",
       "    </tr>\n",
       "    <tr>\n",
       "      <th>2022-06-07</th>\n",
       "      <td>40.534199</td>\n",
       "      <td>2023-06-07</td>\n",
       "      <td>6</td>\n",
       "      <td>36.3</td>\n",
       "    </tr>\n",
       "    <tr>\n",
       "      <th>2022-06-08</th>\n",
       "      <td>40.191105</td>\n",
       "      <td>2023-06-08</td>\n",
       "      <td>6</td>\n",
       "      <td>36.3</td>\n",
       "    </tr>\n",
       "    <tr>\n",
       "      <th>2022-06-09</th>\n",
       "      <td>40.416180</td>\n",
       "      <td>2023-06-09</td>\n",
       "      <td>6</td>\n",
       "      <td>36.3</td>\n",
       "    </tr>\n",
       "    <tr>\n",
       "      <th>2022-06-10</th>\n",
       "      <td>40.673950</td>\n",
       "      <td>2023-06-10</td>\n",
       "      <td>6</td>\n",
       "      <td>36.3</td>\n",
       "    </tr>\n",
       "    <tr>\n",
       "      <th>2022-06-11</th>\n",
       "      <td>40.444839</td>\n",
       "      <td>2023-06-11</td>\n",
       "      <td>6</td>\n",
       "      <td>36.3</td>\n",
       "    </tr>\n",
       "    <tr>\n",
       "      <th>2022-06-12</th>\n",
       "      <td>40.462830</td>\n",
       "      <td>2023-06-12</td>\n",
       "      <td>6</td>\n",
       "      <td>36.3</td>\n",
       "    </tr>\n",
       "    <tr>\n",
       "      <th>2022-06-13</th>\n",
       "      <td>40.613049</td>\n",
       "      <td>2023-06-13</td>\n",
       "      <td>6</td>\n",
       "      <td>36.3</td>\n",
       "    </tr>\n",
       "    <tr>\n",
       "      <th>2022-06-14</th>\n",
       "      <td>40.785172</td>\n",
       "      <td>2023-06-14</td>\n",
       "      <td>6</td>\n",
       "      <td>36.3</td>\n",
       "    </tr>\n",
       "    <tr>\n",
       "      <th>2022-06-15</th>\n",
       "      <td>40.509277</td>\n",
       "      <td>2023-06-15</td>\n",
       "      <td>6</td>\n",
       "      <td>36.3</td>\n",
       "    </tr>\n",
       "    <tr>\n",
       "      <th>2022-06-16</th>\n",
       "      <td>40.679676</td>\n",
       "      <td>2023-06-16</td>\n",
       "      <td>6</td>\n",
       "      <td>36.3</td>\n",
       "    </tr>\n",
       "    <tr>\n",
       "      <th>2022-06-17</th>\n",
       "      <td>40.752869</td>\n",
       "      <td>2023-06-17</td>\n",
       "      <td>6</td>\n",
       "      <td>36.3</td>\n",
       "    </tr>\n",
       "    <tr>\n",
       "      <th>2022-06-18</th>\n",
       "      <td>40.661362</td>\n",
       "      <td>2023-06-18</td>\n",
       "      <td>6</td>\n",
       "      <td>36.3</td>\n",
       "    </tr>\n",
       "    <tr>\n",
       "      <th>2022-06-19</th>\n",
       "      <td>40.646790</td>\n",
       "      <td>2023-06-19</td>\n",
       "      <td>6</td>\n",
       "      <td>36.3</td>\n",
       "    </tr>\n",
       "    <tr>\n",
       "      <th>2022-06-20</th>\n",
       "      <td>40.489998</td>\n",
       "      <td>2023-06-20</td>\n",
       "      <td>6</td>\n",
       "      <td>36.3</td>\n",
       "    </tr>\n",
       "    <tr>\n",
       "      <th>2022-06-21</th>\n",
       "      <td>40.235554</td>\n",
       "      <td>2023-06-21</td>\n",
       "      <td>6</td>\n",
       "      <td>36.3</td>\n",
       "    </tr>\n",
       "  </tbody>\n",
       "</table>\n",
       "</div>"
      ],
      "text/plain": [
       "             temp_max       date  month  normal\n",
       "Date                                           \n",
       "2022-04-16  40.126007 2023-04-16      4    39.1\n",
       "2022-04-18  40.424896 2023-04-18      4    39.1\n",
       "2022-04-19  40.419327 2023-04-19      4    39.1\n",
       "2022-04-20  40.202629 2023-04-20      4    39.1\n",
       "2022-04-21  40.346630 2023-04-21      4    39.1\n",
       "2022-04-26  40.009548 2023-04-26      4    39.1\n",
       "2022-05-03  40.176071 2023-05-03      5    40.7\n",
       "2022-05-04  40.180954 2023-05-04      5    40.7\n",
       "2022-05-05  40.011024 2023-05-05      5    40.7\n",
       "2022-05-06  40.066452 2023-05-06      5    40.7\n",
       "2022-06-01  40.149994 2023-06-01      6    36.3\n",
       "2022-06-02  40.439533 2023-06-02      6    36.3\n",
       "2022-06-03  40.699020 2023-06-03      6    36.3\n",
       "2022-06-04  40.642166 2023-06-04      6    36.3\n",
       "2022-06-05  40.812778 2023-06-05      6    36.3\n",
       "2022-06-06  40.624588 2023-06-06      6    36.3\n",
       "2022-06-07  40.534199 2023-06-07      6    36.3\n",
       "2022-06-08  40.191105 2023-06-08      6    36.3\n",
       "2022-06-09  40.416180 2023-06-09      6    36.3\n",
       "2022-06-10  40.673950 2023-06-10      6    36.3\n",
       "2022-06-11  40.444839 2023-06-11      6    36.3\n",
       "2022-06-12  40.462830 2023-06-12      6    36.3\n",
       "2022-06-13  40.613049 2023-06-13      6    36.3\n",
       "2022-06-14  40.785172 2023-06-14      6    36.3\n",
       "2022-06-15  40.509277 2023-06-15      6    36.3\n",
       "2022-06-16  40.679676 2023-06-16      6    36.3\n",
       "2022-06-17  40.752869 2023-06-17      6    36.3\n",
       "2022-06-18  40.661362 2023-06-18      6    36.3\n",
       "2022-06-19  40.646790 2023-06-19      6    36.3\n",
       "2022-06-20  40.489998 2023-06-20      6    36.3\n",
       "2022-06-21  40.235554 2023-06-21      6    36.3"
      ]
     },
     "execution_count": 99,
     "metadata": {},
     "output_type": "execute_result"
    }
   ],
   "source": [
    "for i in range(len(pred2['temp_max'])):\n",
    "    pred2['normal'][i] = float(norm['Warangal'][int(pred2[\"month\"][i])-1]) \n",
    "pred2"
   ]
  },
  {
   "cell_type": "code",
   "execution_count": 100,
   "id": "0c11f86c",
   "metadata": {},
   "outputs": [
    {
     "data": {
      "text/html": [
       "<div>\n",
       "<style scoped>\n",
       "    .dataframe tbody tr th:only-of-type {\n",
       "        vertical-align: middle;\n",
       "    }\n",
       "\n",
       "    .dataframe tbody tr th {\n",
       "        vertical-align: top;\n",
       "    }\n",
       "\n",
       "    .dataframe thead th {\n",
       "        text-align: right;\n",
       "    }\n",
       "</style>\n",
       "<table border=\"1\" class=\"dataframe\">\n",
       "  <thead>\n",
       "    <tr style=\"text-align: right;\">\n",
       "      <th></th>\n",
       "      <th>temp_max</th>\n",
       "      <th>date</th>\n",
       "      <th>month</th>\n",
       "      <th>normal</th>\n",
       "      <th>diff</th>\n",
       "    </tr>\n",
       "    <tr>\n",
       "      <th>Date</th>\n",
       "      <th></th>\n",
       "      <th></th>\n",
       "      <th></th>\n",
       "      <th></th>\n",
       "      <th></th>\n",
       "    </tr>\n",
       "  </thead>\n",
       "  <tbody>\n",
       "    <tr>\n",
       "      <th>2022-04-16</th>\n",
       "      <td>40.126007</td>\n",
       "      <td>2023-04-16</td>\n",
       "      <td>4</td>\n",
       "      <td>39.1</td>\n",
       "      <td>1.026007</td>\n",
       "    </tr>\n",
       "    <tr>\n",
       "      <th>2022-04-18</th>\n",
       "      <td>40.424896</td>\n",
       "      <td>2023-04-18</td>\n",
       "      <td>4</td>\n",
       "      <td>39.1</td>\n",
       "      <td>1.324896</td>\n",
       "    </tr>\n",
       "    <tr>\n",
       "      <th>2022-04-19</th>\n",
       "      <td>40.419327</td>\n",
       "      <td>2023-04-19</td>\n",
       "      <td>4</td>\n",
       "      <td>39.1</td>\n",
       "      <td>1.319327</td>\n",
       "    </tr>\n",
       "    <tr>\n",
       "      <th>2022-04-20</th>\n",
       "      <td>40.202629</td>\n",
       "      <td>2023-04-20</td>\n",
       "      <td>4</td>\n",
       "      <td>39.1</td>\n",
       "      <td>1.102629</td>\n",
       "    </tr>\n",
       "    <tr>\n",
       "      <th>2022-04-21</th>\n",
       "      <td>40.346630</td>\n",
       "      <td>2023-04-21</td>\n",
       "      <td>4</td>\n",
       "      <td>39.1</td>\n",
       "      <td>1.246630</td>\n",
       "    </tr>\n",
       "    <tr>\n",
       "      <th>2022-04-26</th>\n",
       "      <td>40.009548</td>\n",
       "      <td>2023-04-26</td>\n",
       "      <td>4</td>\n",
       "      <td>39.1</td>\n",
       "      <td>0.909548</td>\n",
       "    </tr>\n",
       "    <tr>\n",
       "      <th>2022-05-03</th>\n",
       "      <td>40.176071</td>\n",
       "      <td>2023-05-03</td>\n",
       "      <td>5</td>\n",
       "      <td>40.7</td>\n",
       "      <td>-0.523929</td>\n",
       "    </tr>\n",
       "    <tr>\n",
       "      <th>2022-05-04</th>\n",
       "      <td>40.180954</td>\n",
       "      <td>2023-05-04</td>\n",
       "      <td>5</td>\n",
       "      <td>40.7</td>\n",
       "      <td>-0.519046</td>\n",
       "    </tr>\n",
       "    <tr>\n",
       "      <th>2022-05-05</th>\n",
       "      <td>40.011024</td>\n",
       "      <td>2023-05-05</td>\n",
       "      <td>5</td>\n",
       "      <td>40.7</td>\n",
       "      <td>-0.688976</td>\n",
       "    </tr>\n",
       "    <tr>\n",
       "      <th>2022-05-06</th>\n",
       "      <td>40.066452</td>\n",
       "      <td>2023-05-06</td>\n",
       "      <td>5</td>\n",
       "      <td>40.7</td>\n",
       "      <td>-0.633548</td>\n",
       "    </tr>\n",
       "    <tr>\n",
       "      <th>2022-06-01</th>\n",
       "      <td>40.149994</td>\n",
       "      <td>2023-06-01</td>\n",
       "      <td>6</td>\n",
       "      <td>36.3</td>\n",
       "      <td>3.849994</td>\n",
       "    </tr>\n",
       "    <tr>\n",
       "      <th>2022-06-02</th>\n",
       "      <td>40.439533</td>\n",
       "      <td>2023-06-02</td>\n",
       "      <td>6</td>\n",
       "      <td>36.3</td>\n",
       "      <td>4.139533</td>\n",
       "    </tr>\n",
       "    <tr>\n",
       "      <th>2022-06-03</th>\n",
       "      <td>40.699020</td>\n",
       "      <td>2023-06-03</td>\n",
       "      <td>6</td>\n",
       "      <td>36.3</td>\n",
       "      <td>4.399020</td>\n",
       "    </tr>\n",
       "    <tr>\n",
       "      <th>2022-06-04</th>\n",
       "      <td>40.642166</td>\n",
       "      <td>2023-06-04</td>\n",
       "      <td>6</td>\n",
       "      <td>36.3</td>\n",
       "      <td>4.342166</td>\n",
       "    </tr>\n",
       "    <tr>\n",
       "      <th>2022-06-05</th>\n",
       "      <td>40.812778</td>\n",
       "      <td>2023-06-05</td>\n",
       "      <td>6</td>\n",
       "      <td>36.3</td>\n",
       "      <td>4.512778</td>\n",
       "    </tr>\n",
       "    <tr>\n",
       "      <th>2022-06-06</th>\n",
       "      <td>40.624588</td>\n",
       "      <td>2023-06-06</td>\n",
       "      <td>6</td>\n",
       "      <td>36.3</td>\n",
       "      <td>4.324588</td>\n",
       "    </tr>\n",
       "    <tr>\n",
       "      <th>2022-06-07</th>\n",
       "      <td>40.534199</td>\n",
       "      <td>2023-06-07</td>\n",
       "      <td>6</td>\n",
       "      <td>36.3</td>\n",
       "      <td>4.234199</td>\n",
       "    </tr>\n",
       "    <tr>\n",
       "      <th>2022-06-08</th>\n",
       "      <td>40.191105</td>\n",
       "      <td>2023-06-08</td>\n",
       "      <td>6</td>\n",
       "      <td>36.3</td>\n",
       "      <td>3.891105</td>\n",
       "    </tr>\n",
       "    <tr>\n",
       "      <th>2022-06-09</th>\n",
       "      <td>40.416180</td>\n",
       "      <td>2023-06-09</td>\n",
       "      <td>6</td>\n",
       "      <td>36.3</td>\n",
       "      <td>4.116180</td>\n",
       "    </tr>\n",
       "    <tr>\n",
       "      <th>2022-06-10</th>\n",
       "      <td>40.673950</td>\n",
       "      <td>2023-06-10</td>\n",
       "      <td>6</td>\n",
       "      <td>36.3</td>\n",
       "      <td>4.373950</td>\n",
       "    </tr>\n",
       "    <tr>\n",
       "      <th>2022-06-11</th>\n",
       "      <td>40.444839</td>\n",
       "      <td>2023-06-11</td>\n",
       "      <td>6</td>\n",
       "      <td>36.3</td>\n",
       "      <td>4.144839</td>\n",
       "    </tr>\n",
       "    <tr>\n",
       "      <th>2022-06-12</th>\n",
       "      <td>40.462830</td>\n",
       "      <td>2023-06-12</td>\n",
       "      <td>6</td>\n",
       "      <td>36.3</td>\n",
       "      <td>4.162830</td>\n",
       "    </tr>\n",
       "    <tr>\n",
       "      <th>2022-06-13</th>\n",
       "      <td>40.613049</td>\n",
       "      <td>2023-06-13</td>\n",
       "      <td>6</td>\n",
       "      <td>36.3</td>\n",
       "      <td>4.313049</td>\n",
       "    </tr>\n",
       "    <tr>\n",
       "      <th>2022-06-14</th>\n",
       "      <td>40.785172</td>\n",
       "      <td>2023-06-14</td>\n",
       "      <td>6</td>\n",
       "      <td>36.3</td>\n",
       "      <td>4.485172</td>\n",
       "    </tr>\n",
       "    <tr>\n",
       "      <th>2022-06-15</th>\n",
       "      <td>40.509277</td>\n",
       "      <td>2023-06-15</td>\n",
       "      <td>6</td>\n",
       "      <td>36.3</td>\n",
       "      <td>4.209277</td>\n",
       "    </tr>\n",
       "    <tr>\n",
       "      <th>2022-06-16</th>\n",
       "      <td>40.679676</td>\n",
       "      <td>2023-06-16</td>\n",
       "      <td>6</td>\n",
       "      <td>36.3</td>\n",
       "      <td>4.379676</td>\n",
       "    </tr>\n",
       "    <tr>\n",
       "      <th>2022-06-17</th>\n",
       "      <td>40.752869</td>\n",
       "      <td>2023-06-17</td>\n",
       "      <td>6</td>\n",
       "      <td>36.3</td>\n",
       "      <td>4.452869</td>\n",
       "    </tr>\n",
       "    <tr>\n",
       "      <th>2022-06-18</th>\n",
       "      <td>40.661362</td>\n",
       "      <td>2023-06-18</td>\n",
       "      <td>6</td>\n",
       "      <td>36.3</td>\n",
       "      <td>4.361362</td>\n",
       "    </tr>\n",
       "    <tr>\n",
       "      <th>2022-06-19</th>\n",
       "      <td>40.646790</td>\n",
       "      <td>2023-06-19</td>\n",
       "      <td>6</td>\n",
       "      <td>36.3</td>\n",
       "      <td>4.346790</td>\n",
       "    </tr>\n",
       "    <tr>\n",
       "      <th>2022-06-20</th>\n",
       "      <td>40.489998</td>\n",
       "      <td>2023-06-20</td>\n",
       "      <td>6</td>\n",
       "      <td>36.3</td>\n",
       "      <td>4.189998</td>\n",
       "    </tr>\n",
       "    <tr>\n",
       "      <th>2022-06-21</th>\n",
       "      <td>40.235554</td>\n",
       "      <td>2023-06-21</td>\n",
       "      <td>6</td>\n",
       "      <td>36.3</td>\n",
       "      <td>3.935554</td>\n",
       "    </tr>\n",
       "  </tbody>\n",
       "</table>\n",
       "</div>"
      ],
      "text/plain": [
       "             temp_max       date  month  normal      diff\n",
       "Date                                                     \n",
       "2022-04-16  40.126007 2023-04-16      4    39.1  1.026007\n",
       "2022-04-18  40.424896 2023-04-18      4    39.1  1.324896\n",
       "2022-04-19  40.419327 2023-04-19      4    39.1  1.319327\n",
       "2022-04-20  40.202629 2023-04-20      4    39.1  1.102629\n",
       "2022-04-21  40.346630 2023-04-21      4    39.1  1.246630\n",
       "2022-04-26  40.009548 2023-04-26      4    39.1  0.909548\n",
       "2022-05-03  40.176071 2023-05-03      5    40.7 -0.523929\n",
       "2022-05-04  40.180954 2023-05-04      5    40.7 -0.519046\n",
       "2022-05-05  40.011024 2023-05-05      5    40.7 -0.688976\n",
       "2022-05-06  40.066452 2023-05-06      5    40.7 -0.633548\n",
       "2022-06-01  40.149994 2023-06-01      6    36.3  3.849994\n",
       "2022-06-02  40.439533 2023-06-02      6    36.3  4.139533\n",
       "2022-06-03  40.699020 2023-06-03      6    36.3  4.399020\n",
       "2022-06-04  40.642166 2023-06-04      6    36.3  4.342166\n",
       "2022-06-05  40.812778 2023-06-05      6    36.3  4.512778\n",
       "2022-06-06  40.624588 2023-06-06      6    36.3  4.324588\n",
       "2022-06-07  40.534199 2023-06-07      6    36.3  4.234199\n",
       "2022-06-08  40.191105 2023-06-08      6    36.3  3.891105\n",
       "2022-06-09  40.416180 2023-06-09      6    36.3  4.116180\n",
       "2022-06-10  40.673950 2023-06-10      6    36.3  4.373950\n",
       "2022-06-11  40.444839 2023-06-11      6    36.3  4.144839\n",
       "2022-06-12  40.462830 2023-06-12      6    36.3  4.162830\n",
       "2022-06-13  40.613049 2023-06-13      6    36.3  4.313049\n",
       "2022-06-14  40.785172 2023-06-14      6    36.3  4.485172\n",
       "2022-06-15  40.509277 2023-06-15      6    36.3  4.209277\n",
       "2022-06-16  40.679676 2023-06-16      6    36.3  4.379676\n",
       "2022-06-17  40.752869 2023-06-17      6    36.3  4.452869\n",
       "2022-06-18  40.661362 2023-06-18      6    36.3  4.361362\n",
       "2022-06-19  40.646790 2023-06-19      6    36.3  4.346790\n",
       "2022-06-20  40.489998 2023-06-20      6    36.3  4.189998\n",
       "2022-06-21  40.235554 2023-06-21      6    36.3  3.935554"
      ]
     },
     "execution_count": 100,
     "metadata": {},
     "output_type": "execute_result"
    }
   ],
   "source": [
    "pred2[\"diff\"]= pred2['temp_max']-pred2['normal']\n",
    "pred2"
   ]
  },
  {
   "cell_type": "code",
   "execution_count": 101,
   "id": "d0105710",
   "metadata": {},
   "outputs": [
    {
     "data": {
      "text/html": [
       "<div>\n",
       "<style scoped>\n",
       "    .dataframe tbody tr th:only-of-type {\n",
       "        vertical-align: middle;\n",
       "    }\n",
       "\n",
       "    .dataframe tbody tr th {\n",
       "        vertical-align: top;\n",
       "    }\n",
       "\n",
       "    .dataframe thead th {\n",
       "        text-align: right;\n",
       "    }\n",
       "</style>\n",
       "<table border=\"1\" class=\"dataframe\">\n",
       "  <thead>\n",
       "    <tr style=\"text-align: right;\">\n",
       "      <th></th>\n",
       "      <th>temp_max</th>\n",
       "      <th>date</th>\n",
       "      <th>month</th>\n",
       "      <th>normal</th>\n",
       "      <th>diff</th>\n",
       "      <th>heat</th>\n",
       "    </tr>\n",
       "    <tr>\n",
       "      <th>Date</th>\n",
       "      <th></th>\n",
       "      <th></th>\n",
       "      <th></th>\n",
       "      <th></th>\n",
       "      <th></th>\n",
       "      <th></th>\n",
       "    </tr>\n",
       "  </thead>\n",
       "  <tbody>\n",
       "  </tbody>\n",
       "</table>\n",
       "</div>"
      ],
      "text/plain": [
       "Empty DataFrame\n",
       "Columns: [temp_max, date, month, normal, diff, heat]\n",
       "Index: []"
      ]
     },
     "execution_count": 101,
     "metadata": {},
     "output_type": "execute_result"
    }
   ],
   "source": [
    "pred3=pred2.loc[((pred2['normal']<=40) & (pred2['diff']>=5)) | ((pred2['normal']>=40) & (pred2['diff']>=4)) | (pred2['temp_max']>=45)]\n",
    "pred3[\"heat\"]=(pred3[\"temp_max\"]).astype(str)\n",
    "pred3"
   ]
  },
  {
   "cell_type": "code",
   "execution_count": 88,
   "id": "80bf2446",
   "metadata": {},
   "outputs": [],
   "source": [
    "for i in range(len(pred3['temp_max'])):\n",
    "    if (((pred3['normal'][i]<=40) & (pred2['diff'][i]<7)) | ((pred2['normal'][i]>40) & (pred2['diff'][i]<6))):\n",
    "        pred3['heat'][i]='Warning! Heatwave expected'\n",
    "    elif (((pred3['normal'][i]<=40) & (pred2['diff'][i]>=7)) | ((pred2['normal'][i]>40) & (pred2['diff'][i]>=6)) | (pred2['temp_max']>=45)):\n",
    "        pred3['heat'][i]='Warning! Severe Heatwave expected'"
   ]
  },
  {
   "cell_type": "code",
   "execution_count": null,
   "id": "a284f9bc",
   "metadata": {
    "scrolled": false
   },
   "outputs": [],
   "source": [
    "pred3=pred3.set_index('date')\n",
    "pred3=pred3.drop(['month', 'normal', 'diff'], axis=1)\n",
    "pred3 # final dataframe containing prediction of heatwaves for Warangal district"
   ]
  },
  {
   "cell_type": "code",
   "execution_count": 102,
   "id": "ce4f5d1c",
   "metadata": {},
   "outputs": [],
   "source": [
    "pred3=pred3.set_index('date')\n",
    "pred3=pred3.drop(['month', 'normal', 'diff'], axis=1)\n",
    "pred3\n",
    "pred3.to_csv(\"C:\\\\Users\\\\Lenovo\\\\Desktop\\\\NASSCOM\\\\Prediction\\\\warangal_heatwave_prediction.csv\") # Writing the final dataframe to A CSV FILE"
   ]
  },
  {
   "cell_type": "code",
   "execution_count": 72,
   "id": "8c016b25",
   "metadata": {},
   "outputs": [],
   "source": [
    "pred2= pred2.reshape(365)\n",
    "pred2= pd.DataFrame(data=pred2, index=df[11323:].index)\n",
    "pred2=pred2*50"
   ]
  },
  {
   "cell_type": "code",
   "execution_count": 74,
   "id": "71852bc9",
   "metadata": {},
   "outputs": [
    {
     "name": "stdout",
     "output_type": "stream",
     "text": [
      "3.4447669528577136\n",
      "2.7816223182155664\n",
      "9.558870072347165%\n"
     ]
    }
   ],
   "source": [
    "rmse= mse(expected, pred2, squared=False)\n",
    "print(rmse)\n",
    "mae1= mae(expected, pred2)\n",
    "print(mae1)\n",
    "mape1= mape(expected, pred2)\n",
    "print(\"{}%\".format(mape1*100))"
   ]
  }
 ],
 "metadata": {
  "kernelspec": {
   "display_name": "Python 3 (ipykernel)",
   "language": "python",
   "name": "python3"
  },
  "language_info": {
   "codemirror_mode": {
    "name": "ipython",
    "version": 3
   },
   "file_extension": ".py",
   "mimetype": "text/x-python",
   "name": "python",
   "nbconvert_exporter": "python",
   "pygments_lexer": "ipython3",
   "version": "3.10.7"
  }
 },
 "nbformat": 4,
 "nbformat_minor": 5
}
