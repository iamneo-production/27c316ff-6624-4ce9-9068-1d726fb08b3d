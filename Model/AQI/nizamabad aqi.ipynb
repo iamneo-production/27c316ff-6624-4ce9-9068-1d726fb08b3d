{
 "cells": [
  {
   "cell_type": "code",
   "execution_count": 2,
   "id": "4077a9cf",
   "metadata": {},
   "outputs": [],
   "source": [
    "import pandas as pd\n",
    "import numpy as np\n",
    "import matplotlib.pyplot as plt\n",
    "from sklearn.metrics import mean_absolute_percentage_error as mape\n",
    "from sklearn.metrics import mean_squared_error as mse"
   ]
  },
  {
   "cell_type": "code",
   "execution_count": 85,
   "id": "24c79669",
   "metadata": {
    "scrolled": true
   },
   "outputs": [],
   "source": [
    "df= pd.read_csv(\"C:\\\\Users\\\\Lenovo\\\\Desktop\\\\NASSCOM\\\\Dataset District\\\\nizamabad_aqi.csv\") # Reading the data"
   ]
  },
  {
   "cell_type": "code",
   "execution_count": 86,
   "id": "cdf04391",
   "metadata": {},
   "outputs": [
    {
     "data": {
      "text/html": [
       "<div>\n",
       "<style scoped>\n",
       "    .dataframe tbody tr th:only-of-type {\n",
       "        vertical-align: middle;\n",
       "    }\n",
       "\n",
       "    .dataframe tbody tr th {\n",
       "        vertical-align: top;\n",
       "    }\n",
       "\n",
       "    .dataframe thead th {\n",
       "        text-align: right;\n",
       "    }\n",
       "</style>\n",
       "<table border=\"1\" class=\"dataframe\">\n",
       "  <thead>\n",
       "    <tr style=\"text-align: right;\">\n",
       "      <th></th>\n",
       "      <th>date</th>\n",
       "      <th>pm10</th>\n",
       "      <th>SO2</th>\n",
       "      <th>NOx</th>\n",
       "      <th>rainfall</th>\n",
       "    </tr>\n",
       "  </thead>\n",
       "  <tbody>\n",
       "    <tr>\n",
       "      <th>0</th>\n",
       "      <td>1/1/2016</td>\n",
       "      <td>67.0</td>\n",
       "      <td>5.0</td>\n",
       "      <td>18.0</td>\n",
       "      <td>NaN</td>\n",
       "    </tr>\n",
       "    <tr>\n",
       "      <th>1</th>\n",
       "      <td>1/2/2016</td>\n",
       "      <td>64.0</td>\n",
       "      <td>5.0</td>\n",
       "      <td>19.0</td>\n",
       "      <td>NaN</td>\n",
       "    </tr>\n",
       "    <tr>\n",
       "      <th>2</th>\n",
       "      <td>1/3/2016</td>\n",
       "      <td>66.0</td>\n",
       "      <td>5.0</td>\n",
       "      <td>17.0</td>\n",
       "      <td>NaN</td>\n",
       "    </tr>\n",
       "    <tr>\n",
       "      <th>3</th>\n",
       "      <td>1/4/2016</td>\n",
       "      <td>68.0</td>\n",
       "      <td>5.0</td>\n",
       "      <td>18.0</td>\n",
       "      <td>NaN</td>\n",
       "    </tr>\n",
       "    <tr>\n",
       "      <th>4</th>\n",
       "      <td>1/5/2016</td>\n",
       "      <td>71.0</td>\n",
       "      <td>4.0</td>\n",
       "      <td>16.0</td>\n",
       "      <td>NaN</td>\n",
       "    </tr>\n",
       "    <tr>\n",
       "      <th>...</th>\n",
       "      <td>...</td>\n",
       "      <td>...</td>\n",
       "      <td>...</td>\n",
       "      <td>...</td>\n",
       "      <td>...</td>\n",
       "    </tr>\n",
       "    <tr>\n",
       "      <th>79</th>\n",
       "      <td>1/8/2022</td>\n",
       "      <td>52.0</td>\n",
       "      <td>6.7</td>\n",
       "      <td>23.3</td>\n",
       "      <td>130.7</td>\n",
       "    </tr>\n",
       "    <tr>\n",
       "      <th>80</th>\n",
       "      <td>1/9/2022</td>\n",
       "      <td>51.0</td>\n",
       "      <td>7.9</td>\n",
       "      <td>25.0</td>\n",
       "      <td>242.3</td>\n",
       "    </tr>\n",
       "    <tr>\n",
       "      <th>81</th>\n",
       "      <td>1/10/2022</td>\n",
       "      <td>61.0</td>\n",
       "      <td>8.6</td>\n",
       "      <td>27.4</td>\n",
       "      <td>NaN</td>\n",
       "    </tr>\n",
       "    <tr>\n",
       "      <th>82</th>\n",
       "      <td>1/11/2022</td>\n",
       "      <td>56.0</td>\n",
       "      <td>6.8</td>\n",
       "      <td>25.0</td>\n",
       "      <td>NaN</td>\n",
       "    </tr>\n",
       "    <tr>\n",
       "      <th>83</th>\n",
       "      <td>1/12/2022</td>\n",
       "      <td>60.0</td>\n",
       "      <td>7.5</td>\n",
       "      <td>22.6</td>\n",
       "      <td>NaN</td>\n",
       "    </tr>\n",
       "  </tbody>\n",
       "</table>\n",
       "<p>84 rows × 5 columns</p>\n",
       "</div>"
      ],
      "text/plain": [
       "         date  pm10  SO2   NOx  rainfall\n",
       "0    1/1/2016  67.0  5.0  18.0       NaN\n",
       "1    1/2/2016  64.0  5.0  19.0       NaN\n",
       "2    1/3/2016  66.0  5.0  17.0       NaN\n",
       "3    1/4/2016  68.0  5.0  18.0       NaN\n",
       "4    1/5/2016  71.0  4.0  16.0       NaN\n",
       "..        ...   ...  ...   ...       ...\n",
       "79   1/8/2022  52.0  6.7  23.3     130.7\n",
       "80   1/9/2022  51.0  7.9  25.0     242.3\n",
       "81  1/10/2022  61.0  8.6  27.4       NaN\n",
       "82  1/11/2022  56.0  6.8  25.0       NaN\n",
       "83  1/12/2022  60.0  7.5  22.6       NaN\n",
       "\n",
       "[84 rows x 5 columns]"
      ]
     },
     "execution_count": 86,
     "metadata": {},
     "output_type": "execute_result"
    }
   ],
   "source": [
    "df"
   ]
  },
  {
   "cell_type": "code",
   "execution_count": 87,
   "id": "14b58463",
   "metadata": {},
   "outputs": [],
   "source": [
    "df['date']=pd.to_datetime(df.date, format='%d/%m/%Y') # converting column date to datetime object of pandas\n"
   ]
  },
  {
   "cell_type": "code",
   "execution_count": 88,
   "id": "9c94d502",
   "metadata": {
    "scrolled": true
   },
   "outputs": [
    {
     "data": {
      "text/html": [
       "<div>\n",
       "<style scoped>\n",
       "    .dataframe tbody tr th:only-of-type {\n",
       "        vertical-align: middle;\n",
       "    }\n",
       "\n",
       "    .dataframe tbody tr th {\n",
       "        vertical-align: top;\n",
       "    }\n",
       "\n",
       "    .dataframe thead th {\n",
       "        text-align: right;\n",
       "    }\n",
       "</style>\n",
       "<table border=\"1\" class=\"dataframe\">\n",
       "  <thead>\n",
       "    <tr style=\"text-align: right;\">\n",
       "      <th></th>\n",
       "      <th>date</th>\n",
       "      <th>pm10</th>\n",
       "      <th>SO2</th>\n",
       "      <th>NOx</th>\n",
       "      <th>rainfall</th>\n",
       "    </tr>\n",
       "  </thead>\n",
       "  <tbody>\n",
       "    <tr>\n",
       "      <th>0</th>\n",
       "      <td>2016-01-01</td>\n",
       "      <td>67.0</td>\n",
       "      <td>5.0</td>\n",
       "      <td>18.0</td>\n",
       "      <td>NaN</td>\n",
       "    </tr>\n",
       "    <tr>\n",
       "      <th>1</th>\n",
       "      <td>2016-02-01</td>\n",
       "      <td>64.0</td>\n",
       "      <td>5.0</td>\n",
       "      <td>19.0</td>\n",
       "      <td>NaN</td>\n",
       "    </tr>\n",
       "    <tr>\n",
       "      <th>2</th>\n",
       "      <td>2016-03-01</td>\n",
       "      <td>66.0</td>\n",
       "      <td>5.0</td>\n",
       "      <td>17.0</td>\n",
       "      <td>NaN</td>\n",
       "    </tr>\n",
       "    <tr>\n",
       "      <th>3</th>\n",
       "      <td>2016-04-01</td>\n",
       "      <td>68.0</td>\n",
       "      <td>5.0</td>\n",
       "      <td>18.0</td>\n",
       "      <td>NaN</td>\n",
       "    </tr>\n",
       "    <tr>\n",
       "      <th>4</th>\n",
       "      <td>2016-05-01</td>\n",
       "      <td>71.0</td>\n",
       "      <td>4.0</td>\n",
       "      <td>16.0</td>\n",
       "      <td>NaN</td>\n",
       "    </tr>\n",
       "    <tr>\n",
       "      <th>...</th>\n",
       "      <td>...</td>\n",
       "      <td>...</td>\n",
       "      <td>...</td>\n",
       "      <td>...</td>\n",
       "      <td>...</td>\n",
       "    </tr>\n",
       "    <tr>\n",
       "      <th>79</th>\n",
       "      <td>2022-08-01</td>\n",
       "      <td>52.0</td>\n",
       "      <td>6.7</td>\n",
       "      <td>23.3</td>\n",
       "      <td>130.7</td>\n",
       "    </tr>\n",
       "    <tr>\n",
       "      <th>80</th>\n",
       "      <td>2022-09-01</td>\n",
       "      <td>51.0</td>\n",
       "      <td>7.9</td>\n",
       "      <td>25.0</td>\n",
       "      <td>242.3</td>\n",
       "    </tr>\n",
       "    <tr>\n",
       "      <th>81</th>\n",
       "      <td>2022-10-01</td>\n",
       "      <td>61.0</td>\n",
       "      <td>8.6</td>\n",
       "      <td>27.4</td>\n",
       "      <td>NaN</td>\n",
       "    </tr>\n",
       "    <tr>\n",
       "      <th>82</th>\n",
       "      <td>2022-11-01</td>\n",
       "      <td>56.0</td>\n",
       "      <td>6.8</td>\n",
       "      <td>25.0</td>\n",
       "      <td>NaN</td>\n",
       "    </tr>\n",
       "    <tr>\n",
       "      <th>83</th>\n",
       "      <td>2022-12-01</td>\n",
       "      <td>60.0</td>\n",
       "      <td>7.5</td>\n",
       "      <td>22.6</td>\n",
       "      <td>NaN</td>\n",
       "    </tr>\n",
       "  </tbody>\n",
       "</table>\n",
       "<p>84 rows × 5 columns</p>\n",
       "</div>"
      ],
      "text/plain": [
       "         date  pm10  SO2   NOx  rainfall\n",
       "0  2016-01-01  67.0  5.0  18.0       NaN\n",
       "1  2016-02-01  64.0  5.0  19.0       NaN\n",
       "2  2016-03-01  66.0  5.0  17.0       NaN\n",
       "3  2016-04-01  68.0  5.0  18.0       NaN\n",
       "4  2016-05-01  71.0  4.0  16.0       NaN\n",
       "..        ...   ...  ...   ...       ...\n",
       "79 2022-08-01  52.0  6.7  23.3     130.7\n",
       "80 2022-09-01  51.0  7.9  25.0     242.3\n",
       "81 2022-10-01  61.0  8.6  27.4       NaN\n",
       "82 2022-11-01  56.0  6.8  25.0       NaN\n",
       "83 2022-12-01  60.0  7.5  22.6       NaN\n",
       "\n",
       "[84 rows x 5 columns]"
      ]
     },
     "execution_count": 88,
     "metadata": {},
     "output_type": "execute_result"
    }
   ],
   "source": [
    "df"
   ]
  },
  {
   "cell_type": "code",
   "execution_count": 89,
   "id": "c202b52d",
   "metadata": {},
   "outputs": [],
   "source": [
    "df= df.set_index('date') # Setting date as index for time series predictions"
   ]
  },
  {
   "cell_type": "code",
   "execution_count": 90,
   "id": "81c16986",
   "metadata": {
    "scrolled": false
   },
   "outputs": [],
   "source": [
    "df[\"rainfall\"]=df[\"rainfall\"].fillna(0)"
   ]
  },
  {
   "cell_type": "code",
   "execution_count": 91,
   "id": "bc8281d1",
   "metadata": {
    "scrolled": false
   },
   "outputs": [
    {
     "name": "stdout",
     "output_type": "stream",
     "text": [
      "<class 'pandas.core.frame.DataFrame'>\n",
      "DatetimeIndex: 84 entries, 2016-01-01 to 2022-12-01\n",
      "Data columns (total 4 columns):\n",
      " #   Column    Non-Null Count  Dtype  \n",
      "---  ------    --------------  -----  \n",
      " 0   pm10      79 non-null     float64\n",
      " 1   SO2       80 non-null     float64\n",
      " 2   NOx       80 non-null     float64\n",
      " 3   rainfall  84 non-null     float64\n",
      "dtypes: float64(4)\n",
      "memory usage: 3.3 KB\n"
     ]
    }
   ],
   "source": [
    "df.info()"
   ]
  },
  {
   "cell_type": "code",
   "execution_count": 92,
   "id": "40f44e2f",
   "metadata": {},
   "outputs": [],
   "source": [
    "df1= pd.DataFrame(columns=['pm10', 'SO2', 'NOx'])"
   ]
  },
  {
   "cell_type": "code",
   "execution_count": 93,
   "id": "9a1be685",
   "metadata": {},
   "outputs": [],
   "source": [
    "df1['pm10']=df['pm10'].interpolate(method='nearest')\n",
    "df1['SO2']=df['SO2'].interpolate(method='nearest')\n",
    "df1['NOx']=df['NOx'].interpolate(method='nearest')\n"
   ]
  },
  {
   "cell_type": "code",
   "execution_count": 83,
   "id": "bdc1f620",
   "metadata": {},
   "outputs": [],
   "source": [
    "df1['SO2']=df['SO2'].interpolate(method='polynomial', order=5)"
   ]
  },
  {
   "cell_type": "code",
   "execution_count": 69,
   "id": "0bae4e69",
   "metadata": {},
   "outputs": [],
   "source": [
    "from statsmodels.tsa.seasonal import seasonal_decompose"
   ]
  },
  {
   "cell_type": "code",
   "execution_count": 70,
   "id": "a5b28d84",
   "metadata": {
    "scrolled": false
   },
   "outputs": [
    {
     "data": {
      "image/png": "[encoded data removed]",
      "text/plain": [
       "<Figure size 640x480 with 4 Axes>"
      ]
     },
     "execution_count": 70,
     "metadata": {},
     "output_type": "execute_result"
    },
    {
     "data": {
      "image/png": "[encoded data removed]",
      "text/plain": [
       "<Figure size 640x480 with 4 Axes>"
      ]
     },
     "metadata": {},
     "output_type": "display_data"
    }
   ],
   "source": [
    "decompose_result = seasonal_decompose(df1['pm10'], period=12 ,model='mul')\n",
    "decompose_result.plot() # plotting seasonal decompostion for finding seasonality and trend"
   ]
  },
  {
   "cell_type": "markdown",
   "id": "4c92a9eb",
   "metadata": {},
   "source": [
    "#### During covid lockdown PM10 dropped by almost 45%, so this will create outlier in our data. So we will clean our data\n",
    "#### PM10 during April and May 2020 were affected, as june, july are rainy season so PM10 conc in air decreases"
   ]
  },
  {
   "cell_type": "code",
   "execution_count": 94,
   "id": "b7ec8882",
   "metadata": {},
   "outputs": [],
   "source": [
    "train=df1['SO2'][:72]\n",
    "test=df1['SO2'][72:]"
   ]
  },
  {
   "cell_type": "code",
   "execution_count": 125,
   "id": "b8bec467",
   "metadata": {},
   "outputs": [],
   "source": [
    "from statsmodels.tsa.holtwinters import ExponentialSmoothing  "
   ]
  },
  {
   "cell_type": "code",
   "execution_count": 103,
   "id": "7b94bd64",
   "metadata": {},
   "outputs": [
    {
     "name": "stdout",
     "output_type": "stream",
     "text": [
      "Prediction:6.0064793869620745   Expected:6.9\n",
      "Prediction:5.9540191921211045   Expected:7.5\n",
      "Prediction:6.084964388434133   Expected:6.6\n",
      "Prediction:6.032814474339834   Expected:7.8\n",
      "Prediction:5.897516462391567   Expected:7.3\n",
      "Prediction:5.912547842600292   Expected:6.0\n",
      "Prediction:5.9444746947361695   Expected:5.5\n",
      "Prediction:5.860087583390824   Expected:6.7\n",
      "Prediction:5.875721649521694   Expected:7.9\n",
      "Prediction:6.341498622768829   Expected:8.6\n",
      "Prediction:6.590748113059398   Expected:6.8\n",
      "Prediction:6.540229304346905   Expected:7.5\n",
      "RMSE:  1.278597478165753\n",
      "MAPE: 14.42 %\n"
     ]
    },
    {
     "name": "stderr",
     "output_type": "stream",
     "text": [
      "C:\\Users\\Lenovo\\AppData\\Local\\Programs\\Python\\Python310\\lib\\site-packages\\statsmodels\\tsa\\base\\tsa_model.py:471: ValueWarning: No frequency information was provided, so inferred frequency MS will be used.\n",
      "  self._init_dates(dates, freq)\n"
     ]
    }
   ],
   "source": [
    "# Running Holt-Winters triple exponential smoothing on our data\n",
    "nizamabad_so2 = ExponentialSmoothing(\n",
    "    train,\n",
    "    seasonal_periods=12,\n",
    "    trend=\"mul\",\n",
    "    seasonal=\"add\", \n",
    "    initialization_method=\"estimated\", \n",
    "    damped_trend=True\n",
    ").fit(optimized=True)\n",
    "\n",
    "prediction= nizamabad_so2.forecast(len(test))\n",
    "\n",
    "for i in range(len(test)):\n",
    "    print(\"Prediction:{}   Expected:{}\".format(prediction[i], test[i]))\n",
    "rmse= mse(test, prediction, squared=False)\n",
    "print(\"RMSE: \",rmse)\n",
    "mape1= mape(test, prediction)\n",
    "print(\"MAPE: %.2f\" %(mape1*100),\"%\")"
   ]
  },
  {
   "cell_type": "code",
   "execution_count": 104,
   "id": "d14da0b1",
   "metadata": {},
   "outputs": [],
   "source": [
    "train1=df1[\"pm10\"][:72] # Training data allocation \n",
    "test1=df1[\"pm10\"][72:] # Testing data allocation"
   ]
  },
  {
   "cell_type": "code",
   "execution_count": 126,
   "id": "95b30f95",
   "metadata": {
    "scrolled": true
   },
   "outputs": [
    {
     "name": "stdout",
     "output_type": "stream",
     "text": [
      "Prediction:62.52993477053891   Expected:56.0\n",
      "Prediction:61.64527730051251   Expected:59.0\n",
      "Prediction:62.911738777080664   Expected:64.0\n",
      "Prediction:65.0013549606387   Expected:58.0\n",
      "Prediction:59.74556455897544   Expected:56.0\n",
      "Prediction:59.148077443747056   Expected:52.0\n",
      "Prediction:58.5423085409819   Expected:46.0\n",
      "Prediction:57.430268554843025   Expected:52.0\n",
      "Prediction:56.97675359961162   Expected:51.0\n",
      "Prediction:59.0188257770252   Expected:61.0\n",
      "Prediction:62.056228892299046   Expected:56.0\n",
      "Prediction:62.08901742232557   Expected:60.0\n",
      "RMSE:  6.0031307531944\n",
      "MAPE: 9.78 %\n"
     ]
    },
    {
     "name": "stderr",
     "output_type": "stream",
     "text": [
      "C:\\Users\\Lenovo\\AppData\\Local\\Programs\\Python\\Python310\\lib\\site-packages\\statsmodels\\tsa\\base\\tsa_model.py:471: ValueWarning: No frequency information was provided, so inferred frequency MS will be used.\n",
      "  self._init_dates(dates, freq)\n"
     ]
    }
   ],
   "source": [
    "# # Training and testing Holt Winters Model on pm10 concentration data\n",
    "\n",
    "nizamabad_pm10 = ExponentialSmoothing(\n",
    "    train1,\n",
    "    seasonal_periods=12,\n",
    "    trend=\"add\",\n",
    "    seasonal=\"add\", \n",
    "    initialization_method=\"estimated\", \n",
    "    damped_trend=True\n",
    ").fit(optimized=True)\n",
    "\n",
    "prediction1= nizamabad_pm10.forecast(len(test))\n",
    "for i in range(len(test1)):\n",
    "    print(\"Prediction:{}   Expected:{}\".format(prediction1[i], test1[i]))\n",
    "rmse= mse(test1, prediction1, squared=False)\n",
    "print(\"RMSE: \",rmse)\n",
    "mape1= mape(test1, prediction1)\n",
    "print(\"MAPE: %.2f\" %(mape1*100),\"%\")"
   ]
  },
  {
   "cell_type": "code",
   "execution_count": 113,
   "id": "c18909ea",
   "metadata": {},
   "outputs": [],
   "source": [
    "train2=df1[\"NOx\"][:72]\n",
    "test2=df1[\"NOx\"][72:]"
   ]
  },
  {
   "cell_type": "code",
   "execution_count": 128,
   "id": "4ceca636",
   "metadata": {
    "scrolled": true
   },
   "outputs": [
    {
     "name": "stderr",
     "output_type": "stream",
     "text": [
      "C:\\Users\\Lenovo\\AppData\\Local\\Programs\\Python\\Python310\\lib\\site-packages\\statsmodels\\tsa\\base\\tsa_model.py:471: ValueWarning: No frequency information was provided, so inferred frequency MS will be used.\n",
      "  self._init_dates(dates, freq)\n"
     ]
    },
    {
     "name": "stdout",
     "output_type": "stream",
     "text": [
      "Prediction:26.311912503410827   Expected:25.5\n",
      "Prediction:26.10494612961348   Expected:27.5\n",
      "Prediction:26.07394633065589   Expected:26.1\n",
      "Prediction:25.786847336500497   Expected:24.0\n",
      "Prediction:25.52344171769804   Expected:24.6\n",
      "Prediction:25.244742932185652   Expected:23.4\n",
      "Prediction:25.98274404885673   Expected:21.3\n",
      "Prediction:24.563565953594452   Expected:23.3\n",
      "Prediction:25.15702741345458   Expected:25.0\n",
      "Prediction:26.955594115419338   Expected:27.4\n",
      "Prediction:27.060534582299308   Expected:25.0\n",
      "Prediction:27.210406468844564   Expected:22.6\n",
      "RMSE:  2.2230458838753564\n",
      "MAPE: 7.14 %\n"
     ]
    }
   ],
   "source": [
    "# Training and testing Holt Winters Model on NOx concentration data\n",
    "\n",
    "nizamabad_nox = ExponentialSmoothing(\n",
    "    train2,\n",
    "    seasonal_periods=12,\n",
    "    trend=\"mul\",\n",
    "    seasonal=\"mul\", \n",
    "    initialization_method=\"estimated\", \n",
    "    damped_trend=True\n",
    ").fit(optimized=True)\n",
    "\n",
    "prediction2= nizamabad_nox.forecast(len(test))\n",
    "for i in range(len(test1)):\n",
    "    print(\"Prediction:{}   Expected:{}\".format(prediction2[i], test2[i]))\n",
    "rmse= mse(test2, prediction2, squared=False)\n",
    "print(\"RMSE: \",rmse)\n",
    "mape1= mape(test2, prediction2)\n",
    "print(\"MAPE: %.2f\" %(mape1*100),\"%\")"
   ]
  },
  {
   "cell_type": "code",
   "execution_count": 98,
   "id": "aaae730c",
   "metadata": {
    "scrolled": true
   },
   "outputs": [
    {
     "name": "stderr",
     "output_type": "stream",
     "text": [
      "C:\\Users\\Lenovo\\AppData\\Local\\Programs\\Python\\Python310\\lib\\site-packages\\statsmodels\\tsa\\base\\tsa_model.py:471: ValueWarning: No frequency information was provided, so inferred frequency MS will be used.\n",
      "  self._init_dates(dates, freq)\n"
     ]
    }
   ],
   "source": [
    "# running for prediction\n",
    "nizamabad_so2_pred = ExponentialSmoothing(\n",
    "    df1[\"SO2\"],\n",
    "    seasonal_periods=12,\n",
    "    trend=\"mul\",\n",
    "    seasonal=\"add\", \n",
    "    initialization_method=\"estimated\", \n",
    "    damped_trend=True\n",
    ").fit(optimized=True)\n",
    "\n",
    "pred_2023_SO2= nizamabad_so2_pred.forecast(len(test))"
   ]
  },
  {
   "cell_type": "code",
   "execution_count": 130,
   "id": "7204ec8c",
   "metadata": {},
   "outputs": [
    {
     "name": "stderr",
     "output_type": "stream",
     "text": [
      "C:\\Users\\Lenovo\\AppData\\Local\\Programs\\Python\\Python310\\lib\\site-packages\\statsmodels\\tsa\\base\\tsa_model.py:471: ValueWarning: No frequency information was provided, so inferred frequency MS will be used.\n",
      "  self._init_dates(dates, freq)\n"
     ]
    }
   ],
   "source": [
    "nizamabad_nox_pred = ExponentialSmoothing(\n",
    "    df1['NOx'],\n",
    "    seasonal_periods=12,\n",
    "    trend=\"mul\",\n",
    "    seasonal=\"mul\", \n",
    "    initialization_method=\"estimated\", \n",
    "    damped_trend=True\n",
    ").fit(optimized=True)\n",
    "\n",
    "pred_2023_NOx= nizamabad_nox_pred.forecast(len(test))"
   ]
  },
  {
   "cell_type": "code",
   "execution_count": 131,
   "id": "10926047",
   "metadata": {},
   "outputs": [
    {
     "name": "stderr",
     "output_type": "stream",
     "text": [
      "C:\\Users\\Lenovo\\AppData\\Local\\Programs\\Python\\Python310\\lib\\site-packages\\statsmodels\\tsa\\base\\tsa_model.py:471: ValueWarning: No frequency information was provided, so inferred frequency MS will be used.\n",
      "  self._init_dates(dates, freq)\n"
     ]
    }
   ],
   "source": [
    "nizamabad_pm10 = ExponentialSmoothing(\n",
    "    df1['pm10'],\n",
    "    seasonal_periods=12,\n",
    "    trend=\"add\",\n",
    "    seasonal=\"add\", \n",
    "    initialization_method=\"estimated\", \n",
    "    damped_trend=True\n",
    ").fit(optimized=True)\n",
    "\n",
    "pred_2023_PM10= nizamabad_pm10.forecast(len(test))"
   ]
  },
  {
   "cell_type": "code",
   "execution_count": 132,
   "id": "959094ce",
   "metadata": {},
   "outputs": [],
   "source": [
    "pred= pd.DataFrame(data=pred_2023_SO2, columns=['SO2'])\n",
    "pred['PM10']=pred_2023_PM10\n",
    "pred['NOx']=pred_2023_NOx"
   ]
  },
  {
   "cell_type": "code",
   "execution_count": 133,
   "id": "b977d026",
   "metadata": {
    "scrolled": true
   },
   "outputs": [
    {
     "data": {
      "text/html": [
       "<div>\n",
       "<style scoped>\n",
       "    .dataframe tbody tr th:only-of-type {\n",
       "        vertical-align: middle;\n",
       "    }\n",
       "\n",
       "    .dataframe tbody tr th {\n",
       "        vertical-align: top;\n",
       "    }\n",
       "\n",
       "    .dataframe thead th {\n",
       "        text-align: right;\n",
       "    }\n",
       "</style>\n",
       "<table border=\"1\" class=\"dataframe\">\n",
       "  <thead>\n",
       "    <tr style=\"text-align: right;\">\n",
       "      <th></th>\n",
       "      <th>SO2</th>\n",
       "      <th>PM10</th>\n",
       "      <th>NOx</th>\n",
       "    </tr>\n",
       "  </thead>\n",
       "  <tbody>\n",
       "    <tr>\n",
       "      <th>2023-01-01</th>\n",
       "      <td>7.727489</td>\n",
       "      <td>58.124710</td>\n",
       "      <td>25.358961</td>\n",
       "    </tr>\n",
       "    <tr>\n",
       "      <th>2023-02-01</th>\n",
       "      <td>7.776882</td>\n",
       "      <td>57.832266</td>\n",
       "      <td>25.509321</td>\n",
       "    </tr>\n",
       "    <tr>\n",
       "      <th>2023-03-01</th>\n",
       "      <td>7.769478</td>\n",
       "      <td>59.673502</td>\n",
       "      <td>25.225083</td>\n",
       "    </tr>\n",
       "    <tr>\n",
       "      <th>2023-04-01</th>\n",
       "      <td>7.905160</td>\n",
       "      <td>60.649713</td>\n",
       "      <td>24.614532</td>\n",
       "    </tr>\n",
       "    <tr>\n",
       "      <th>2023-05-01</th>\n",
       "      <td>7.726902</td>\n",
       "      <td>55.903857</td>\n",
       "      <td>24.490633</td>\n",
       "    </tr>\n",
       "    <tr>\n",
       "      <th>2023-06-01</th>\n",
       "      <td>7.563438</td>\n",
       "      <td>54.865990</td>\n",
       "      <td>24.044183</td>\n",
       "    </tr>\n",
       "    <tr>\n",
       "      <th>2023-07-01</th>\n",
       "      <td>7.528852</td>\n",
       "      <td>53.536259</td>\n",
       "      <td>24.282158</td>\n",
       "    </tr>\n",
       "    <tr>\n",
       "      <th>2023-08-01</th>\n",
       "      <td>7.637283</td>\n",
       "      <td>53.486867</td>\n",
       "      <td>23.459390</td>\n",
       "    </tr>\n",
       "    <tr>\n",
       "      <th>2023-09-01</th>\n",
       "      <td>7.831607</td>\n",
       "      <td>53.004276</td>\n",
       "      <td>24.189550</td>\n",
       "    </tr>\n",
       "    <tr>\n",
       "      <th>2023-10-01</th>\n",
       "      <td>8.340571</td>\n",
       "      <td>56.231093</td>\n",
       "      <td>26.003611</td>\n",
       "    </tr>\n",
       "    <tr>\n",
       "      <th>2023-11-01</th>\n",
       "      <td>8.307058</td>\n",
       "      <td>58.168481</td>\n",
       "      <td>25.681256</td>\n",
       "    </tr>\n",
       "    <tr>\n",
       "      <th>2023-12-01</th>\n",
       "      <td>8.373742</td>\n",
       "      <td>58.816533</td>\n",
       "      <td>25.411692</td>\n",
       "    </tr>\n",
       "  </tbody>\n",
       "</table>\n",
       "</div>"
      ],
      "text/plain": [
       "                 SO2       PM10        NOx\n",
       "2023-01-01  7.727489  58.124710  25.358961\n",
       "2023-02-01  7.776882  57.832266  25.509321\n",
       "2023-03-01  7.769478  59.673502  25.225083\n",
       "2023-04-01  7.905160  60.649713  24.614532\n",
       "2023-05-01  7.726902  55.903857  24.490633\n",
       "2023-06-01  7.563438  54.865990  24.044183\n",
       "2023-07-01  7.528852  53.536259  24.282158\n",
       "2023-08-01  7.637283  53.486867  23.459390\n",
       "2023-09-01  7.831607  53.004276  24.189550\n",
       "2023-10-01  8.340571  56.231093  26.003611\n",
       "2023-11-01  8.307058  58.168481  25.681256\n",
       "2023-12-01  8.373742  58.816533  25.411692"
      ]
     },
     "execution_count": 133,
     "metadata": {},
     "output_type": "execute_result"
    }
   ],
   "source": [
    "pred"
   ]
  },
  {
   "cell_type": "code",
   "execution_count": 134,
   "id": "4e73d7e0",
   "metadata": {},
   "outputs": [],
   "source": [
    "## PM10 Sub-Index calculation\n",
    "def PM10_subindex(x):\n",
    "    if x <= 50:\n",
    "        return x\n",
    "    elif x <= 100:\n",
    "        return x\n",
    "    elif x <= 250:\n",
    "        return 100 + (x - 100) * 100 / 150\n",
    "    elif x <= 350:\n",
    "        return 200 + (x - 250)\n",
    "    elif x <= 430:\n",
    "        return 300 + (x - 350) * 100 / 80\n",
    "    elif x > 430:\n",
    "        return 400 + (x - 430) * 100 / 80\n",
    "    else:\n",
    "        return 0\n",
    "\n",
    "pred[\"PM10_SubIndex\"] = pred[\"PM10\"].apply(lambda x: PM10_subindex(x))"
   ]
  },
  {
   "cell_type": "code",
   "execution_count": 135,
   "id": "079a268a",
   "metadata": {},
   "outputs": [],
   "source": [
    "## NOx Sub-Index calculation\n",
    "def get_NOx_subindex(x):\n",
    "    if x <= 40:\n",
    "        return x * 50 / 40\n",
    "    elif x <= 80:\n",
    "        return 50 + (x - 40) * 50 / 40\n",
    "    else:\n",
    "        return 0\n",
    "\n",
    "pred[\"NOx_SubIndex\"] = pred['NOx'].apply(lambda x: get_NOx_subindex(x))"
   ]
  },
  {
   "cell_type": "code",
   "execution_count": 136,
   "id": "7cff3a8c",
   "metadata": {},
   "outputs": [],
   "source": [
    "## SO2 Sub-Index calculation\n",
    "def get_SO2_subindex(x):\n",
    "    if x <= 40:\n",
    "        return x * 50 / 40\n",
    "    elif x <= 80:\n",
    "        return 50 + (x - 40) * 50 / 40\n",
    "    else:\n",
    "        return 0\n",
    "\n",
    "pred[\"SO2_SubIndex\"] = pred[\"SO2\"].apply(lambda x: get_SO2_subindex(x))"
   ]
  },
  {
   "cell_type": "code",
   "execution_count": 137,
   "id": "29219fed",
   "metadata": {
    "scrolled": true
   },
   "outputs": [
    {
     "data": {
      "text/html": [
       "<div>\n",
       "<style scoped>\n",
       "    .dataframe tbody tr th:only-of-type {\n",
       "        vertical-align: middle;\n",
       "    }\n",
       "\n",
       "    .dataframe tbody tr th {\n",
       "        vertical-align: top;\n",
       "    }\n",
       "\n",
       "    .dataframe thead th {\n",
       "        text-align: right;\n",
       "    }\n",
       "</style>\n",
       "<table border=\"1\" class=\"dataframe\">\n",
       "  <thead>\n",
       "    <tr style=\"text-align: right;\">\n",
       "      <th></th>\n",
       "      <th>SO2</th>\n",
       "      <th>PM10</th>\n",
       "      <th>NOx</th>\n",
       "      <th>PM10_SubIndex</th>\n",
       "      <th>NOx_SubIndex</th>\n",
       "      <th>SO2_SubIndex</th>\n",
       "    </tr>\n",
       "  </thead>\n",
       "  <tbody>\n",
       "    <tr>\n",
       "      <th>2023-01-01</th>\n",
       "      <td>7.727489</td>\n",
       "      <td>58.124710</td>\n",
       "      <td>25.358961</td>\n",
       "      <td>58.124710</td>\n",
       "      <td>31.698701</td>\n",
       "      <td>9.659361</td>\n",
       "    </tr>\n",
       "    <tr>\n",
       "      <th>2023-02-01</th>\n",
       "      <td>7.776882</td>\n",
       "      <td>57.832266</td>\n",
       "      <td>25.509321</td>\n",
       "      <td>57.832266</td>\n",
       "      <td>31.886652</td>\n",
       "      <td>9.721102</td>\n",
       "    </tr>\n",
       "    <tr>\n",
       "      <th>2023-03-01</th>\n",
       "      <td>7.769478</td>\n",
       "      <td>59.673502</td>\n",
       "      <td>25.225083</td>\n",
       "      <td>59.673502</td>\n",
       "      <td>31.531354</td>\n",
       "      <td>9.711847</td>\n",
       "    </tr>\n",
       "    <tr>\n",
       "      <th>2023-04-01</th>\n",
       "      <td>7.905160</td>\n",
       "      <td>60.649713</td>\n",
       "      <td>24.614532</td>\n",
       "      <td>60.649713</td>\n",
       "      <td>30.768165</td>\n",
       "      <td>9.881449</td>\n",
       "    </tr>\n",
       "    <tr>\n",
       "      <th>2023-05-01</th>\n",
       "      <td>7.726902</td>\n",
       "      <td>55.903857</td>\n",
       "      <td>24.490633</td>\n",
       "      <td>55.903857</td>\n",
       "      <td>30.613292</td>\n",
       "      <td>9.658627</td>\n",
       "    </tr>\n",
       "    <tr>\n",
       "      <th>2023-06-01</th>\n",
       "      <td>7.563438</td>\n",
       "      <td>54.865990</td>\n",
       "      <td>24.044183</td>\n",
       "      <td>54.865990</td>\n",
       "      <td>30.055229</td>\n",
       "      <td>9.454298</td>\n",
       "    </tr>\n",
       "    <tr>\n",
       "      <th>2023-07-01</th>\n",
       "      <td>7.528852</td>\n",
       "      <td>53.536259</td>\n",
       "      <td>24.282158</td>\n",
       "      <td>53.536259</td>\n",
       "      <td>30.352698</td>\n",
       "      <td>9.411064</td>\n",
       "    </tr>\n",
       "    <tr>\n",
       "      <th>2023-08-01</th>\n",
       "      <td>7.637283</td>\n",
       "      <td>53.486867</td>\n",
       "      <td>23.459390</td>\n",
       "      <td>53.486867</td>\n",
       "      <td>29.324238</td>\n",
       "      <td>9.546604</td>\n",
       "    </tr>\n",
       "    <tr>\n",
       "      <th>2023-09-01</th>\n",
       "      <td>7.831607</td>\n",
       "      <td>53.004276</td>\n",
       "      <td>24.189550</td>\n",
       "      <td>53.004276</td>\n",
       "      <td>30.236938</td>\n",
       "      <td>9.789509</td>\n",
       "    </tr>\n",
       "    <tr>\n",
       "      <th>2023-10-01</th>\n",
       "      <td>8.340571</td>\n",
       "      <td>56.231093</td>\n",
       "      <td>26.003611</td>\n",
       "      <td>56.231093</td>\n",
       "      <td>32.504514</td>\n",
       "      <td>10.425714</td>\n",
       "    </tr>\n",
       "    <tr>\n",
       "      <th>2023-11-01</th>\n",
       "      <td>8.307058</td>\n",
       "      <td>58.168481</td>\n",
       "      <td>25.681256</td>\n",
       "      <td>58.168481</td>\n",
       "      <td>32.101570</td>\n",
       "      <td>10.383823</td>\n",
       "    </tr>\n",
       "    <tr>\n",
       "      <th>2023-12-01</th>\n",
       "      <td>8.373742</td>\n",
       "      <td>58.816533</td>\n",
       "      <td>25.411692</td>\n",
       "      <td>58.816533</td>\n",
       "      <td>31.764615</td>\n",
       "      <td>10.467177</td>\n",
       "    </tr>\n",
       "  </tbody>\n",
       "</table>\n",
       "</div>"
      ],
      "text/plain": [
       "                 SO2       PM10        NOx  PM10_SubIndex  NOx_SubIndex  \\\n",
       "2023-01-01  7.727489  58.124710  25.358961      58.124710     31.698701   \n",
       "2023-02-01  7.776882  57.832266  25.509321      57.832266     31.886652   \n",
       "2023-03-01  7.769478  59.673502  25.225083      59.673502     31.531354   \n",
       "2023-04-01  7.905160  60.649713  24.614532      60.649713     30.768165   \n",
       "2023-05-01  7.726902  55.903857  24.490633      55.903857     30.613292   \n",
       "2023-06-01  7.563438  54.865990  24.044183      54.865990     30.055229   \n",
       "2023-07-01  7.528852  53.536259  24.282158      53.536259     30.352698   \n",
       "2023-08-01  7.637283  53.486867  23.459390      53.486867     29.324238   \n",
       "2023-09-01  7.831607  53.004276  24.189550      53.004276     30.236938   \n",
       "2023-10-01  8.340571  56.231093  26.003611      56.231093     32.504514   \n",
       "2023-11-01  8.307058  58.168481  25.681256      58.168481     32.101570   \n",
       "2023-12-01  8.373742  58.816533  25.411692      58.816533     31.764615   \n",
       "\n",
       "            SO2_SubIndex  \n",
       "2023-01-01      9.659361  \n",
       "2023-02-01      9.721102  \n",
       "2023-03-01      9.711847  \n",
       "2023-04-01      9.881449  \n",
       "2023-05-01      9.658627  \n",
       "2023-06-01      9.454298  \n",
       "2023-07-01      9.411064  \n",
       "2023-08-01      9.546604  \n",
       "2023-09-01      9.789509  \n",
       "2023-10-01     10.425714  \n",
       "2023-11-01     10.383823  \n",
       "2023-12-01     10.467177  "
      ]
     },
     "execution_count": 137,
     "metadata": {},
     "output_type": "execute_result"
    }
   ],
   "source": [
    "pred"
   ]
  },
  {
   "cell_type": "code",
   "execution_count": 138,
   "id": "246889ce",
   "metadata": {},
   "outputs": [],
   "source": [
    "pred['AQI']=''"
   ]
  },
  {
   "cell_type": "code",
   "execution_count": 139,
   "id": "db288a23",
   "metadata": {},
   "outputs": [
    {
     "name": "stderr",
     "output_type": "stream",
     "text": [
      "C:\\Users\\Lenovo\\AppData\\Local\\Temp\\ipykernel_25308\\3451392264.py:2: SettingWithCopyWarning: \n",
      "A value is trying to be set on a copy of a slice from a DataFrame\n",
      "\n",
      "See the caveats in the documentation: https://pandas.pydata.org/pandas-docs/stable/user_guide/indexing.html#returning-a-view-versus-a-copy\n",
      "  pred[\"AQI\"][i]= max(pred[\"SO2_SubIndex\"][i],pred[\"PM10_SubIndex\"][i],pred[\"NOx_SubIndex\"][i])\n"
     ]
    }
   ],
   "source": [
    "for i in range(len(pred)):\n",
    "    pred[\"AQI\"][i]= max(pred[\"SO2_SubIndex\"][i],pred[\"PM10_SubIndex\"][i],pred[\"NOx_SubIndex\"][i])"
   ]
  },
  {
   "cell_type": "code",
   "execution_count": 140,
   "id": "c231e5e5",
   "metadata": {
    "scrolled": true
   },
   "outputs": [
    {
     "data": {
      "text/html": [
       "<div>\n",
       "<style scoped>\n",
       "    .dataframe tbody tr th:only-of-type {\n",
       "        vertical-align: middle;\n",
       "    }\n",
       "\n",
       "    .dataframe tbody tr th {\n",
       "        vertical-align: top;\n",
       "    }\n",
       "\n",
       "    .dataframe thead th {\n",
       "        text-align: right;\n",
       "    }\n",
       "</style>\n",
       "<table border=\"1\" class=\"dataframe\">\n",
       "  <thead>\n",
       "    <tr style=\"text-align: right;\">\n",
       "      <th></th>\n",
       "      <th>SO2</th>\n",
       "      <th>PM10</th>\n",
       "      <th>NOx</th>\n",
       "      <th>PM10_SubIndex</th>\n",
       "      <th>NOx_SubIndex</th>\n",
       "      <th>SO2_SubIndex</th>\n",
       "      <th>AQI</th>\n",
       "    </tr>\n",
       "  </thead>\n",
       "  <tbody>\n",
       "    <tr>\n",
       "      <th>2023-01-01</th>\n",
       "      <td>7.727489</td>\n",
       "      <td>58.124710</td>\n",
       "      <td>25.358961</td>\n",
       "      <td>58.124710</td>\n",
       "      <td>31.698701</td>\n",
       "      <td>9.659361</td>\n",
       "      <td>58.12471</td>\n",
       "    </tr>\n",
       "    <tr>\n",
       "      <th>2023-02-01</th>\n",
       "      <td>7.776882</td>\n",
       "      <td>57.832266</td>\n",
       "      <td>25.509321</td>\n",
       "      <td>57.832266</td>\n",
       "      <td>31.886652</td>\n",
       "      <td>9.721102</td>\n",
       "      <td>57.832266</td>\n",
       "    </tr>\n",
       "    <tr>\n",
       "      <th>2023-03-01</th>\n",
       "      <td>7.769478</td>\n",
       "      <td>59.673502</td>\n",
       "      <td>25.225083</td>\n",
       "      <td>59.673502</td>\n",
       "      <td>31.531354</td>\n",
       "      <td>9.711847</td>\n",
       "      <td>59.673502</td>\n",
       "    </tr>\n",
       "    <tr>\n",
       "      <th>2023-04-01</th>\n",
       "      <td>7.905160</td>\n",
       "      <td>60.649713</td>\n",
       "      <td>24.614532</td>\n",
       "      <td>60.649713</td>\n",
       "      <td>30.768165</td>\n",
       "      <td>9.881449</td>\n",
       "      <td>60.649713</td>\n",
       "    </tr>\n",
       "    <tr>\n",
       "      <th>2023-05-01</th>\n",
       "      <td>7.726902</td>\n",
       "      <td>55.903857</td>\n",
       "      <td>24.490633</td>\n",
       "      <td>55.903857</td>\n",
       "      <td>30.613292</td>\n",
       "      <td>9.658627</td>\n",
       "      <td>55.903857</td>\n",
       "    </tr>\n",
       "    <tr>\n",
       "      <th>2023-06-01</th>\n",
       "      <td>7.563438</td>\n",
       "      <td>54.865990</td>\n",
       "      <td>24.044183</td>\n",
       "      <td>54.865990</td>\n",
       "      <td>30.055229</td>\n",
       "      <td>9.454298</td>\n",
       "      <td>54.86599</td>\n",
       "    </tr>\n",
       "    <tr>\n",
       "      <th>2023-07-01</th>\n",
       "      <td>7.528852</td>\n",
       "      <td>53.536259</td>\n",
       "      <td>24.282158</td>\n",
       "      <td>53.536259</td>\n",
       "      <td>30.352698</td>\n",
       "      <td>9.411064</td>\n",
       "      <td>53.536259</td>\n",
       "    </tr>\n",
       "    <tr>\n",
       "      <th>2023-08-01</th>\n",
       "      <td>7.637283</td>\n",
       "      <td>53.486867</td>\n",
       "      <td>23.459390</td>\n",
       "      <td>53.486867</td>\n",
       "      <td>29.324238</td>\n",
       "      <td>9.546604</td>\n",
       "      <td>53.486867</td>\n",
       "    </tr>\n",
       "    <tr>\n",
       "      <th>2023-09-01</th>\n",
       "      <td>7.831607</td>\n",
       "      <td>53.004276</td>\n",
       "      <td>24.189550</td>\n",
       "      <td>53.004276</td>\n",
       "      <td>30.236938</td>\n",
       "      <td>9.789509</td>\n",
       "      <td>53.004276</td>\n",
       "    </tr>\n",
       "    <tr>\n",
       "      <th>2023-10-01</th>\n",
       "      <td>8.340571</td>\n",
       "      <td>56.231093</td>\n",
       "      <td>26.003611</td>\n",
       "      <td>56.231093</td>\n",
       "      <td>32.504514</td>\n",
       "      <td>10.425714</td>\n",
       "      <td>56.231093</td>\n",
       "    </tr>\n",
       "    <tr>\n",
       "      <th>2023-11-01</th>\n",
       "      <td>8.307058</td>\n",
       "      <td>58.168481</td>\n",
       "      <td>25.681256</td>\n",
       "      <td>58.168481</td>\n",
       "      <td>32.101570</td>\n",
       "      <td>10.383823</td>\n",
       "      <td>58.168481</td>\n",
       "    </tr>\n",
       "    <tr>\n",
       "      <th>2023-12-01</th>\n",
       "      <td>8.373742</td>\n",
       "      <td>58.816533</td>\n",
       "      <td>25.411692</td>\n",
       "      <td>58.816533</td>\n",
       "      <td>31.764615</td>\n",
       "      <td>10.467177</td>\n",
       "      <td>58.816533</td>\n",
       "    </tr>\n",
       "  </tbody>\n",
       "</table>\n",
       "</div>"
      ],
      "text/plain": [
       "                 SO2       PM10        NOx  PM10_SubIndex  NOx_SubIndex  \\\n",
       "2023-01-01  7.727489  58.124710  25.358961      58.124710     31.698701   \n",
       "2023-02-01  7.776882  57.832266  25.509321      57.832266     31.886652   \n",
       "2023-03-01  7.769478  59.673502  25.225083      59.673502     31.531354   \n",
       "2023-04-01  7.905160  60.649713  24.614532      60.649713     30.768165   \n",
       "2023-05-01  7.726902  55.903857  24.490633      55.903857     30.613292   \n",
       "2023-06-01  7.563438  54.865990  24.044183      54.865990     30.055229   \n",
       "2023-07-01  7.528852  53.536259  24.282158      53.536259     30.352698   \n",
       "2023-08-01  7.637283  53.486867  23.459390      53.486867     29.324238   \n",
       "2023-09-01  7.831607  53.004276  24.189550      53.004276     30.236938   \n",
       "2023-10-01  8.340571  56.231093  26.003611      56.231093     32.504514   \n",
       "2023-11-01  8.307058  58.168481  25.681256      58.168481     32.101570   \n",
       "2023-12-01  8.373742  58.816533  25.411692      58.816533     31.764615   \n",
       "\n",
       "            SO2_SubIndex        AQI  \n",
       "2023-01-01      9.659361   58.12471  \n",
       "2023-02-01      9.721102  57.832266  \n",
       "2023-03-01      9.711847  59.673502  \n",
       "2023-04-01      9.881449  60.649713  \n",
       "2023-05-01      9.658627  55.903857  \n",
       "2023-06-01      9.454298   54.86599  \n",
       "2023-07-01      9.411064  53.536259  \n",
       "2023-08-01      9.546604  53.486867  \n",
       "2023-09-01      9.789509  53.004276  \n",
       "2023-10-01     10.425714  56.231093  \n",
       "2023-11-01     10.383823  58.168481  \n",
       "2023-12-01     10.467177  58.816533  "
      ]
     },
     "execution_count": 140,
     "metadata": {},
     "output_type": "execute_result"
    }
   ],
   "source": [
    "pred # Final dataframe containing AQI data "
   ]
  },
  {
   "cell_type": "code",
   "execution_count": 141,
   "id": "e5263e60",
   "metadata": {},
   "outputs": [],
   "source": [
    "pred.to_csv(\"C:\\\\Users\\\\Lenovo\\\\Desktop\\\\NASSCOM\\\\Prediction\\\\nizamabad_aqi_prediction.csv\") # Writing to a csv file"
   ]
  }
 ],
 "metadata": {
  "kernelspec": {
   "display_name": "Python 3 (ipykernel)",
   "language": "python",
   "name": "python3"
  },
  "language_info": {
   "codemirror_mode": {
    "name": "ipython",
    "version": 3
   },
   "file_extension": ".py",
   "mimetype": "text/x-python",
   "name": "python",
   "nbconvert_exporter": "python",
   "pygments_lexer": "ipython3",
   "version": "3.10.7"
  }
 },
 "nbformat": 4,
 "nbformat_minor": 5
}
