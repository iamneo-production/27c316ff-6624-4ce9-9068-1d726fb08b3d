{
 "cells": [
  {
   "cell_type": "code",
   "execution_count": 2,
   "id": "4077a9cf",
   "metadata": {},
   "outputs": [],
   "source": [
    "import pandas as pd\n",
    "import numpy as np\n",
    "import matplotlib.pyplot as plt\n",
    "from sklearn.metrics import mean_absolute_percentage_error as mape\n",
    "from sklearn.metrics import mean_squared_error as mse"
   ]
  },
  {
   "cell_type": "code",
   "execution_count": 64,
   "id": "24c79669",
   "metadata": {
    "scrolled": true
   },
   "outputs": [],
   "source": [
    "df1= pd.read_csv(\"C:\\\\Users\\\\Lenovo\\\\Desktop\\\\NASSCOM\\\\Dataset District\\\\Khammam.csv\") # loading the data"
   ]
  },
  {
   "cell_type": "code",
   "execution_count": 65,
   "id": "cdf04391",
   "metadata": {},
   "outputs": [
    {
     "data": {
      "text/html": [
       "<div>\n",
       "<style scoped>\n",
       "    .dataframe tbody tr th:only-of-type {\n",
       "        vertical-align: middle;\n",
       "    }\n",
       "\n",
       "    .dataframe tbody tr th {\n",
       "        vertical-align: top;\n",
       "    }\n",
       "\n",
       "    .dataframe thead th {\n",
       "        text-align: right;\n",
       "    }\n",
       "</style>\n",
       "<table border=\"1\" class=\"dataframe\">\n",
       "  <thead>\n",
       "    <tr style=\"text-align: right;\">\n",
       "      <th></th>\n",
       "      <th>date</th>\n",
       "      <th>pm10</th>\n",
       "      <th>SO2</th>\n",
       "      <th>NOx</th>\n",
       "      <th>rainfall</th>\n",
       "    </tr>\n",
       "  </thead>\n",
       "  <tbody>\n",
       "    <tr>\n",
       "      <th>0</th>\n",
       "      <td>01/01/2016</td>\n",
       "      <td>46.0</td>\n",
       "      <td>6.0</td>\n",
       "      <td>19.0</td>\n",
       "      <td>NaN</td>\n",
       "    </tr>\n",
       "    <tr>\n",
       "      <th>1</th>\n",
       "      <td>01/02/2016</td>\n",
       "      <td>51.0</td>\n",
       "      <td>7.0</td>\n",
       "      <td>19.0</td>\n",
       "      <td>NaN</td>\n",
       "    </tr>\n",
       "    <tr>\n",
       "      <th>2</th>\n",
       "      <td>01/03/2016</td>\n",
       "      <td>54.0</td>\n",
       "      <td>6.1</td>\n",
       "      <td>20.7</td>\n",
       "      <td>NaN</td>\n",
       "    </tr>\n",
       "    <tr>\n",
       "      <th>3</th>\n",
       "      <td>01/04/2016</td>\n",
       "      <td>51.0</td>\n",
       "      <td>8.0</td>\n",
       "      <td>19.0</td>\n",
       "      <td>NaN</td>\n",
       "    </tr>\n",
       "    <tr>\n",
       "      <th>4</th>\n",
       "      <td>01/05/2016</td>\n",
       "      <td>47.0</td>\n",
       "      <td>7.0</td>\n",
       "      <td>19.0</td>\n",
       "      <td>NaN</td>\n",
       "    </tr>\n",
       "    <tr>\n",
       "      <th>...</th>\n",
       "      <td>...</td>\n",
       "      <td>...</td>\n",
       "      <td>...</td>\n",
       "      <td>...</td>\n",
       "      <td>...</td>\n",
       "    </tr>\n",
       "    <tr>\n",
       "      <th>79</th>\n",
       "      <td>01/08/2022</td>\n",
       "      <td>56.0</td>\n",
       "      <td>7.4</td>\n",
       "      <td>41.5</td>\n",
       "      <td>244.1</td>\n",
       "    </tr>\n",
       "    <tr>\n",
       "      <th>80</th>\n",
       "      <td>01/09/2022</td>\n",
       "      <td>41.0</td>\n",
       "      <td>7.0</td>\n",
       "      <td>31.2</td>\n",
       "      <td>203.3</td>\n",
       "    </tr>\n",
       "    <tr>\n",
       "      <th>81</th>\n",
       "      <td>01/10/2022</td>\n",
       "      <td>57.0</td>\n",
       "      <td>7.4</td>\n",
       "      <td>30.9</td>\n",
       "      <td>NaN</td>\n",
       "    </tr>\n",
       "    <tr>\n",
       "      <th>82</th>\n",
       "      <td>01/11/2022</td>\n",
       "      <td>78.0</td>\n",
       "      <td>8.0</td>\n",
       "      <td>30.0</td>\n",
       "      <td>NaN</td>\n",
       "    </tr>\n",
       "    <tr>\n",
       "      <th>83</th>\n",
       "      <td>01/12/2022</td>\n",
       "      <td>112.0</td>\n",
       "      <td>7.1</td>\n",
       "      <td>29.1</td>\n",
       "      <td>NaN</td>\n",
       "    </tr>\n",
       "  </tbody>\n",
       "</table>\n",
       "<p>84 rows × 5 columns</p>\n",
       "</div>"
      ],
      "text/plain": [
       "          date   pm10  SO2   NOx  rainfall\n",
       "0   01/01/2016   46.0  6.0  19.0       NaN\n",
       "1   01/02/2016   51.0  7.0  19.0       NaN\n",
       "2   01/03/2016   54.0  6.1  20.7       NaN\n",
       "3   01/04/2016   51.0  8.0  19.0       NaN\n",
       "4   01/05/2016   47.0  7.0  19.0       NaN\n",
       "..         ...    ...  ...   ...       ...\n",
       "79  01/08/2022   56.0  7.4  41.5     244.1\n",
       "80  01/09/2022   41.0  7.0  31.2     203.3\n",
       "81  01/10/2022   57.0  7.4  30.9       NaN\n",
       "82  01/11/2022   78.0  8.0  30.0       NaN\n",
       "83  01/12/2022  112.0  7.1  29.1       NaN\n",
       "\n",
       "[84 rows x 5 columns]"
      ]
     },
     "execution_count": 65,
     "metadata": {},
     "output_type": "execute_result"
    }
   ],
   "source": [
    "df1"
   ]
  },
  {
   "cell_type": "code",
   "execution_count": 66,
   "id": "14b58463",
   "metadata": {},
   "outputs": [],
   "source": [
    "df1['date']=pd.to_datetime(df1.date, format='%d/%m/%Y') # Converting column date to pandas datetime object\n"
   ]
  },
  {
   "cell_type": "code",
   "execution_count": 67,
   "id": "9c94d502",
   "metadata": {
    "scrolled": true
   },
   "outputs": [
    {
     "data": {
      "text/html": [
       "<div>\n",
       "<style scoped>\n",
       "    .dataframe tbody tr th:only-of-type {\n",
       "        vertical-align: middle;\n",
       "    }\n",
       "\n",
       "    .dataframe tbody tr th {\n",
       "        vertical-align: top;\n",
       "    }\n",
       "\n",
       "    .dataframe thead th {\n",
       "        text-align: right;\n",
       "    }\n",
       "</style>\n",
       "<table border=\"1\" class=\"dataframe\">\n",
       "  <thead>\n",
       "    <tr style=\"text-align: right;\">\n",
       "      <th></th>\n",
       "      <th>date</th>\n",
       "      <th>pm10</th>\n",
       "      <th>SO2</th>\n",
       "      <th>NOx</th>\n",
       "      <th>rainfall</th>\n",
       "    </tr>\n",
       "  </thead>\n",
       "  <tbody>\n",
       "    <tr>\n",
       "      <th>0</th>\n",
       "      <td>2016-01-01</td>\n",
       "      <td>46.0</td>\n",
       "      <td>6.0</td>\n",
       "      <td>19.0</td>\n",
       "      <td>NaN</td>\n",
       "    </tr>\n",
       "    <tr>\n",
       "      <th>1</th>\n",
       "      <td>2016-02-01</td>\n",
       "      <td>51.0</td>\n",
       "      <td>7.0</td>\n",
       "      <td>19.0</td>\n",
       "      <td>NaN</td>\n",
       "    </tr>\n",
       "    <tr>\n",
       "      <th>2</th>\n",
       "      <td>2016-03-01</td>\n",
       "      <td>54.0</td>\n",
       "      <td>6.1</td>\n",
       "      <td>20.7</td>\n",
       "      <td>NaN</td>\n",
       "    </tr>\n",
       "    <tr>\n",
       "      <th>3</th>\n",
       "      <td>2016-04-01</td>\n",
       "      <td>51.0</td>\n",
       "      <td>8.0</td>\n",
       "      <td>19.0</td>\n",
       "      <td>NaN</td>\n",
       "    </tr>\n",
       "    <tr>\n",
       "      <th>4</th>\n",
       "      <td>2016-05-01</td>\n",
       "      <td>47.0</td>\n",
       "      <td>7.0</td>\n",
       "      <td>19.0</td>\n",
       "      <td>NaN</td>\n",
       "    </tr>\n",
       "    <tr>\n",
       "      <th>...</th>\n",
       "      <td>...</td>\n",
       "      <td>...</td>\n",
       "      <td>...</td>\n",
       "      <td>...</td>\n",
       "      <td>...</td>\n",
       "    </tr>\n",
       "    <tr>\n",
       "      <th>79</th>\n",
       "      <td>2022-08-01</td>\n",
       "      <td>56.0</td>\n",
       "      <td>7.4</td>\n",
       "      <td>41.5</td>\n",
       "      <td>244.1</td>\n",
       "    </tr>\n",
       "    <tr>\n",
       "      <th>80</th>\n",
       "      <td>2022-09-01</td>\n",
       "      <td>41.0</td>\n",
       "      <td>7.0</td>\n",
       "      <td>31.2</td>\n",
       "      <td>203.3</td>\n",
       "    </tr>\n",
       "    <tr>\n",
       "      <th>81</th>\n",
       "      <td>2022-10-01</td>\n",
       "      <td>57.0</td>\n",
       "      <td>7.4</td>\n",
       "      <td>30.9</td>\n",
       "      <td>NaN</td>\n",
       "    </tr>\n",
       "    <tr>\n",
       "      <th>82</th>\n",
       "      <td>2022-11-01</td>\n",
       "      <td>78.0</td>\n",
       "      <td>8.0</td>\n",
       "      <td>30.0</td>\n",
       "      <td>NaN</td>\n",
       "    </tr>\n",
       "    <tr>\n",
       "      <th>83</th>\n",
       "      <td>2022-12-01</td>\n",
       "      <td>112.0</td>\n",
       "      <td>7.1</td>\n",
       "      <td>29.1</td>\n",
       "      <td>NaN</td>\n",
       "    </tr>\n",
       "  </tbody>\n",
       "</table>\n",
       "<p>84 rows × 5 columns</p>\n",
       "</div>"
      ],
      "text/plain": [
       "         date   pm10  SO2   NOx  rainfall\n",
       "0  2016-01-01   46.0  6.0  19.0       NaN\n",
       "1  2016-02-01   51.0  7.0  19.0       NaN\n",
       "2  2016-03-01   54.0  6.1  20.7       NaN\n",
       "3  2016-04-01   51.0  8.0  19.0       NaN\n",
       "4  2016-05-01   47.0  7.0  19.0       NaN\n",
       "..        ...    ...  ...   ...       ...\n",
       "79 2022-08-01   56.0  7.4  41.5     244.1\n",
       "80 2022-09-01   41.0  7.0  31.2     203.3\n",
       "81 2022-10-01   57.0  7.4  30.9       NaN\n",
       "82 2022-11-01   78.0  8.0  30.0       NaN\n",
       "83 2022-12-01  112.0  7.1  29.1       NaN\n",
       "\n",
       "[84 rows x 5 columns]"
      ]
     },
     "execution_count": 67,
     "metadata": {},
     "output_type": "execute_result"
    }
   ],
   "source": [
    "df1"
   ]
  },
  {
   "cell_type": "code",
   "execution_count": 68,
   "id": "c202b52d",
   "metadata": {},
   "outputs": [],
   "source": [
    "df1= df1.set_index('date')"
   ]
  },
  {
   "cell_type": "code",
   "execution_count": 69,
   "id": "81c16986",
   "metadata": {
    "scrolled": false
   },
   "outputs": [],
   "source": [
    "df1[\"rainfall\"]=df1[\"rainfall\"].fillna(0)"
   ]
  },
  {
   "cell_type": "code",
   "execution_count": 70,
   "id": "bc8281d1",
   "metadata": {
    "scrolled": false
   },
   "outputs": [
    {
     "name": "stdout",
     "output_type": "stream",
     "text": [
      "<class 'pandas.core.frame.DataFrame'>\n",
      "DatetimeIndex: 84 entries, 2016-01-01 to 2022-12-01\n",
      "Data columns (total 4 columns):\n",
      " #   Column    Non-Null Count  Dtype  \n",
      "---  ------    --------------  -----  \n",
      " 0   pm10      83 non-null     float64\n",
      " 1   SO2       84 non-null     float64\n",
      " 2   NOx       84 non-null     float64\n",
      " 3   rainfall  84 non-null     float64\n",
      "dtypes: float64(4)\n",
      "memory usage: 3.3 KB\n"
     ]
    }
   ],
   "source": [
    "df1.info()"
   ]
  },
  {
   "cell_type": "code",
   "execution_count": 71,
   "id": "840f3632",
   "metadata": {
    "scrolled": true
   },
   "outputs": [
    {
     "data": {
      "text/html": [
       "<div>\n",
       "<style scoped>\n",
       "    .dataframe tbody tr th:only-of-type {\n",
       "        vertical-align: middle;\n",
       "    }\n",
       "\n",
       "    .dataframe tbody tr th {\n",
       "        vertical-align: top;\n",
       "    }\n",
       "\n",
       "    .dataframe thead th {\n",
       "        text-align: right;\n",
       "    }\n",
       "</style>\n",
       "<table border=\"1\" class=\"dataframe\">\n",
       "  <thead>\n",
       "    <tr style=\"text-align: right;\">\n",
       "      <th></th>\n",
       "      <th>pm10</th>\n",
       "      <th>SO2</th>\n",
       "      <th>NOx</th>\n",
       "      <th>rainfall</th>\n",
       "    </tr>\n",
       "    <tr>\n",
       "      <th>date</th>\n",
       "      <th></th>\n",
       "      <th></th>\n",
       "      <th></th>\n",
       "      <th></th>\n",
       "    </tr>\n",
       "  </thead>\n",
       "  <tbody>\n",
       "    <tr>\n",
       "      <th>2021-05-01</th>\n",
       "      <td>NaN</td>\n",
       "      <td>8.0</td>\n",
       "      <td>25.0</td>\n",
       "      <td>63.1</td>\n",
       "    </tr>\n",
       "  </tbody>\n",
       "</table>\n",
       "</div>"
      ],
      "text/plain": [
       "            pm10  SO2   NOx  rainfall\n",
       "date                                 \n",
       "2021-05-01   NaN  8.0  25.0      63.1"
      ]
     },
     "execution_count": 71,
     "metadata": {},
     "output_type": "execute_result"
    }
   ],
   "source": [
    "df1[df1['pm10'].isnull()]"
   ]
  },
  {
   "cell_type": "code",
   "execution_count": 72,
   "id": "96c2e5b6",
   "metadata": {},
   "outputs": [],
   "source": [
    "train=df1[\"pm10\"][:48]\n",
    "test=df1[\"pm10\"][48:]"
   ]
  },
  {
   "cell_type": "code",
   "execution_count": 73,
   "id": "176ffaa9",
   "metadata": {},
   "outputs": [
    {
     "data": {
      "text/plain": [
       "date\n",
       "2016-01-01    46.0\n",
       "2016-02-01    51.0\n",
       "2016-03-01    54.0\n",
       "2016-04-01    51.0\n",
       "2016-05-01    47.0\n",
       "2016-06-01    47.0\n",
       "2016-07-01    41.0\n",
       "2016-08-01    37.0\n",
       "2016-09-01    39.0\n",
       "2016-10-01    48.0\n",
       "2016-11-01    55.0\n",
       "2016-12-01    60.0\n",
       "2017-01-01    60.0\n",
       "2017-02-01    64.0\n",
       "2017-03-01    54.0\n",
       "2017-04-01    54.0\n",
       "2017-05-01    57.0\n",
       "2017-06-01    42.0\n",
       "2017-07-01    38.0\n",
       "2017-08-01    64.0\n",
       "2017-09-01    50.0\n",
       "2017-10-01    63.0\n",
       "2017-11-01    54.0\n",
       "2017-12-01    60.0\n",
       "2018-01-01    67.0\n",
       "2018-02-01    66.0\n",
       "2018-03-01    71.0\n",
       "2018-04-01    77.0\n",
       "2018-05-01    77.0\n",
       "2018-06-01    83.0\n",
       "2018-07-01    75.0\n",
       "2018-08-01    79.0\n",
       "2018-09-01    84.0\n",
       "2018-10-01    85.0\n",
       "2018-11-01    92.0\n",
       "2018-12-01    88.0\n",
       "2019-01-01    95.0\n",
       "2019-02-01    90.0\n",
       "2019-03-01    91.0\n",
       "2019-04-01    90.0\n",
       "2019-05-01    88.0\n",
       "2019-06-01    81.0\n",
       "2019-07-01    77.0\n",
       "2019-08-01    84.0\n",
       "2019-09-01    78.0\n",
       "2019-10-01    86.0\n",
       "2019-11-01    85.0\n",
       "2019-12-01    84.0\n",
       "Name: pm10, dtype: float64"
      ]
     },
     "execution_count": 73,
     "metadata": {},
     "output_type": "execute_result"
    }
   ],
   "source": [
    "train"
   ]
  },
  {
   "cell_type": "code",
   "execution_count": 30,
   "id": "0bae4e69",
   "metadata": {},
   "outputs": [],
   "source": [
    "from statsmodels.tsa.seasonal import seasonal_decompose"
   ]
  },
  {
   "cell_type": "code",
   "execution_count": 74,
   "id": "a5b28d84",
   "metadata": {
    "scrolled": false
   },
   "outputs": [
    {
     "data": {
      "image/png": "[encoded data removed]",
      "text/plain": [
       "<Figure size 640x480 with 4 Axes>"
      ]
     },
     "execution_count": 74,
     "metadata": {},
     "output_type": "execute_result"
    },
    {
     "data": {
      "image/png": "[encoded data removed]",
      "text/plain": [
       "<Figure size 640x480 with 4 Axes>"
      ]
     },
     "metadata": {},
     "output_type": "display_data"
    }
   ],
   "source": [
    "decompose_result = seasonal_decompose(train, period=12 ,model='add')\n",
    "decompose_result.plot() # Plotting seasonality graphs for checking trend"
   ]
  },
  {
   "cell_type": "code",
   "execution_count": 75,
   "id": "ba58409d",
   "metadata": {
    "scrolled": true
   },
   "outputs": [],
   "source": [
    "trend=(decompose_result.trend.shift(-12)/decompose_result.trend).mean()"
   ]
  },
  {
   "cell_type": "code",
   "execution_count": 76,
   "id": "03e9504a",
   "metadata": {
    "scrolled": false
   },
   "outputs": [
    {
     "data": {
      "text/plain": [
       "1.2890508187134773"
      ]
     },
     "execution_count": 76,
     "metadata": {},
     "output_type": "execute_result"
    }
   ],
   "source": [
    "trend # The value of trend "
   ]
  },
  {
   "cell_type": "markdown",
   "id": "4c92a9eb",
   "metadata": {},
   "source": [
    "#### During covid lockdown PM10 dropped by almost 45%, so this will create outlier in our data. So we will clean our data\n",
    "#### PM10 during April and May 2020 were affected, as june, july are rainy season so PM10 conc in air decreases"
   ]
  },
  {
   "cell_type": "code",
   "execution_count": 77,
   "id": "e2b14464",
   "metadata": {},
   "outputs": [
    {
     "data": {
      "text/plain": [
       "87.65545567251645"
      ]
     },
     "execution_count": 77,
     "metadata": {},
     "output_type": "execute_result"
    }
   ],
   "source": [
    "april_pm10_mean=(df1[\"pm10\"][3]+df1[\"pm10\"][15]+df1[\"pm10\"][27]+df1[\"pm10\"][39])/4\n",
    "april_pm10_mean*=trend\n",
    "df1[\"pm10\"][51]=april_pm10_mean\n",
    "april_pm10_mean"
   ]
  },
  {
   "cell_type": "code",
   "execution_count": 78,
   "id": "31cdab71",
   "metadata": {
    "scrolled": false
   },
   "outputs": [
    {
     "data": {
      "text/plain": [
       "86.68866755848134"
      ]
     },
     "execution_count": 78,
     "metadata": {},
     "output_type": "execute_result"
    }
   ],
   "source": [
    "may_pm10_mean=(df1[\"pm10\"][4]+df1[\"pm10\"][16]+df1[\"pm10\"][28]+df1[\"pm10\"][40])/4\n",
    "may_pm10_mean*=trend\n",
    "df1[\"pm10\"][52]=may_pm10_mean\n",
    "may_pm10_mean"
   ]
  },
  {
   "cell_type": "code",
   "execution_count": 79,
   "id": "82997f34",
   "metadata": {},
   "outputs": [],
   "source": [
    "df1[\"pm10\"][64]=may_pm10_mean*trend                 #replacing missing value"
   ]
  },
  {
   "cell_type": "code",
   "execution_count": 80,
   "id": "b7ec8882",
   "metadata": {},
   "outputs": [],
   "source": [
    "train=df1['SO2'][:72]\n",
    "test=df1['SO2'][72:]"
   ]
  },
  {
   "cell_type": "code",
   "execution_count": 60,
   "id": "b8bec467",
   "metadata": {},
   "outputs": [],
   "source": [
    "from statsmodels.tsa.holtwinters import ExponentialSmoothing    # Importing the Holt-Winters model for python"
   ]
  },
  {
   "cell_type": "code",
   "execution_count": 82,
   "id": "7b94bd64",
   "metadata": {},
   "outputs": [
    {
     "name": "stderr",
     "output_type": "stream",
     "text": [
      "C:\\Users\\Lenovo\\AppData\\Local\\Programs\\Python\\Python310\\lib\\site-packages\\statsmodels\\tsa\\base\\tsa_model.py:471: ValueWarning: No frequency information was provided, so inferred frequency MS will be used.\n",
      "  self._init_dates(dates, freq)\n"
     ]
    },
    {
     "name": "stdout",
     "output_type": "stream",
     "text": [
      "Prediction:7.380528999971275   Expected:6.8\n",
      "Prediction:7.417740762352576   Expected:7.6\n",
      "Prediction:7.458217765493109   Expected:7.8\n",
      "Prediction:7.889805286596487   Expected:7.3\n",
      "Prediction:7.5474621637612085   Expected:7.1\n",
      "Prediction:7.491788919223916   Expected:7.4\n",
      "Prediction:7.218514619508454   Expected:7.4\n",
      "Prediction:6.859503042268678   Expected:7.4\n",
      "Prediction:7.667303951087036   Expected:7.0\n",
      "Prediction:7.207499291651062   Expected:7.4\n",
      "Prediction:7.1409120946620925   Expected:8.0\n",
      "Prediction:7.420491367199596   Expected:7.1\n",
      "RMSE:  0.4736152667843773\n",
      "MAPE: 5.67 %\n"
     ]
    }
   ],
   "source": [
    "# Applying the Holt-Winters exponential smoothing for SO2 concentration\n",
    "khammam_so2 = ExponentialSmoothing(\n",
    "    train,\n",
    "    seasonal_periods=12,\n",
    "    trend=\"mul\",\n",
    "    seasonal=\"mul\", \n",
    "    initialization_method=\"estimated\", \n",
    "    damped_trend=True\n",
    ").fit(optimized=True)\n",
    "\n",
    "prediction= khammam_so2.forecast(len(test))\n",
    "\n",
    "for i in range(len(test)):\n",
    "    print(\"Prediction:{}   Expected:{}\".format(prediction[i], test[i]))\n",
    "rmse= mse(test, prediction, squared=False)\n",
    "print(\"RMSE: \",rmse)\n",
    "mape1= mape(test, prediction)\n",
    "print(\"MAPE: %.2f\" %(mape1*100),\"%\")"
   ]
  },
  {
   "cell_type": "code",
   "execution_count": 83,
   "id": "d14da0b1",
   "metadata": {},
   "outputs": [],
   "source": [
    "train1=df1[\"pm10\"][:72] # Splitting into train and testing\n",
    "test1=df1[\"pm10\"][72:]"
   ]
  },
  {
   "cell_type": "code",
   "execution_count": 93,
   "id": "95b30f95",
   "metadata": {
    "scrolled": true
   },
   "outputs": [
    {
     "name": "stderr",
     "output_type": "stream",
     "text": [
      "C:\\Users\\Lenovo\\AppData\\Local\\Programs\\Python\\Python310\\lib\\site-packages\\statsmodels\\tsa\\base\\tsa_model.py:471: ValueWarning: No frequency information was provided, so inferred frequency MS will be used.\n",
      "  self._init_dates(dates, freq)\n"
     ]
    },
    {
     "name": "stdout",
     "output_type": "stream",
     "text": [
      "Prediction:84.53364356241472   Expected:80.0\n",
      "Prediction:80.96256978279659   Expected:78.0\n",
      "Prediction:76.91985992856803   Expected:76.0\n",
      "Prediction:75.68149523948564   Expected:78.0\n",
      "Prediction:84.15120940580023   Expected:77.0\n",
      "Prediction:70.11329530452298   Expected:81.0\n",
      "Prediction:62.50482082606819   Expected:73.0\n",
      "Prediction:65.5843924448521   Expected:56.0\n",
      "Prediction:66.68538177434004   Expected:41.0\n",
      "Prediction:69.47499092780998   Expected:57.0\n",
      "Prediction:79.44862748326442   Expected:78.0\n",
      "Prediction:81.44436611215008   Expected:112.0\n",
      "RMSE:  13.411224680654033\n",
      "MAPE: 15.13 %\n"
     ]
    }
   ],
   "source": [
    "# Training and testing Holt Winters Model on pm10 concentration data\n",
    "\n",
    "khammam_pm10 = ExponentialSmoothing(\n",
    "    train1,\n",
    "    seasonal_periods=12,\n",
    "    trend=\"add\",\n",
    "    seasonal=\"add\", \n",
    "    initialization_method=\"estimated\", \n",
    "    damped_trend=True\n",
    ").fit(optimized=True)\n",
    "\n",
    "prediction1= khammam_pm10.forecast(len(test))\n",
    "for i in range(len(test1)):\n",
    "    print(\"Prediction:{}   Expected:{}\".format(prediction1[i], test1[i]))\n",
    "rmse= mse(test1, prediction1, squared=False)\n",
    "print(\"RMSE: \",rmse)\n",
    "mape1= mape(test1, prediction1)\n",
    "print(\"MAPE: %.2f\" %(mape1*100),\"%\")"
   ]
  },
  {
   "cell_type": "code",
   "execution_count": 97,
   "id": "c18909ea",
   "metadata": {},
   "outputs": [],
   "source": [
    "train2=df1[\"NOx\"][:72]\n",
    "test2=df1[\"NOx\"][72:]"
   ]
  },
  {
   "cell_type": "code",
   "execution_count": 106,
   "id": "4ceca636",
   "metadata": {
    "scrolled": true
   },
   "outputs": [
    {
     "name": "stderr",
     "output_type": "stream",
     "text": [
      "C:\\Users\\Lenovo\\AppData\\Local\\Programs\\Python\\Python310\\lib\\site-packages\\statsmodels\\tsa\\base\\tsa_model.py:471: ValueWarning: No frequency information was provided, so inferred frequency MS will be used.\n",
      "  self._init_dates(dates, freq)\n"
     ]
    },
    {
     "name": "stdout",
     "output_type": "stream",
     "text": [
      "Prediction:43.1071258992071   Expected:29.8\n",
      "Prediction:43.28444547311409   Expected:30.7\n",
      "Prediction:40.89459171745453   Expected:51.5\n",
      "Prediction:35.28711940058339   Expected:44.6\n",
      "Prediction:39.5439861472912   Expected:41.0\n",
      "Prediction:37.46580510699423   Expected:45.4\n",
      "Prediction:38.934250212236414   Expected:45.6\n",
      "Prediction:34.0328151048963   Expected:41.5\n",
      "Prediction:36.476484564692655   Expected:31.2\n",
      "Prediction:36.49963873509032   Expected:30.9\n",
      "Prediction:40.60044197749912   Expected:30.0\n",
      "Prediction:39.847069986288346   Expected:29.1\n",
      "RMSE:  9.069090911925732\n",
      "MAPE: 24.00 %\n"
     ]
    }
   ],
   "source": [
    "# Training and testing Holt Winters Model on Nox concentration data\n",
    "\n",
    "khammam_nox = ExponentialSmoothing(\n",
    "    train2,\n",
    "    seasonal_periods=12,\n",
    "    trend=\"add\",\n",
    "    seasonal=\"add\", \n",
    "    initialization_method=\"estimated\", \n",
    "    damped_trend=True\n",
    ").fit(optimized=True)\n",
    "\n",
    "prediction2= khammam_nox.forecast(len(test))\n",
    "for i in range(len(test1)):\n",
    "    print(\"Prediction:{}   Expected:{}\".format(prediction2[i], test2[i]))\n",
    "rmse= mse(test2, prediction2, squared=False)\n",
    "print(\"RMSE: \",rmse)\n",
    "mape1= mape(test2, prediction2)\n",
    "print(\"MAPE: %.2f\" %(mape1*100),\"%\")"
   ]
  },
  {
   "cell_type": "code",
   "execution_count": 95,
   "id": "aaae730c",
   "metadata": {
    "scrolled": true
   },
   "outputs": [
    {
     "name": "stderr",
     "output_type": "stream",
     "text": [
      "C:\\Users\\Lenovo\\AppData\\Local\\Programs\\Python\\Python310\\lib\\site-packages\\statsmodels\\tsa\\base\\tsa_model.py:471: ValueWarning: No frequency information was provided, so inferred frequency MS will be used.\n",
      "  self._init_dates(dates, freq)\n"
     ]
    }
   ],
   "source": [
    "khammam_so2_pred = ExponentialSmoothing(\n",
    "    df1[\"SO2\"],\n",
    "    seasonal_periods=12,\n",
    "    trend=\"mul\",\n",
    "    seasonal=\"mul\", \n",
    "    initialization_method=\"estimated\", \n",
    "    damped_trend=True\n",
    ").fit(optimized=True)\n",
    "\n",
    "pred_2023_SO2= khammam_so2_pred.forecast(len(test))"
   ]
  },
  {
   "cell_type": "code",
   "execution_count": 109,
   "id": "7204ec8c",
   "metadata": {},
   "outputs": [
    {
     "name": "stderr",
     "output_type": "stream",
     "text": [
      "C:\\Users\\Lenovo\\AppData\\Local\\Programs\\Python\\Python310\\lib\\site-packages\\statsmodels\\tsa\\base\\tsa_model.py:471: ValueWarning: No frequency information was provided, so inferred frequency MS will be used.\n",
      "  self._init_dates(dates, freq)\n"
     ]
    }
   ],
   "source": [
    "khammam_nox_pred = ExponentialSmoothing(\n",
    "    df1['NOx'],\n",
    "    seasonal_periods=12,\n",
    "    trend=\"add\",\n",
    "    seasonal=\"add\", \n",
    "    initialization_method=\"estimated\", \n",
    "    damped_trend=True\n",
    ").fit(optimized=True)\n",
    "\n",
    "pred_2023_NOx= khammam_nox_pred.forecast(len(test))"
   ]
  },
  {
   "cell_type": "code",
   "execution_count": 110,
   "id": "10926047",
   "metadata": {},
   "outputs": [
    {
     "name": "stderr",
     "output_type": "stream",
     "text": [
      "C:\\Users\\Lenovo\\AppData\\Local\\Programs\\Python\\Python310\\lib\\site-packages\\statsmodels\\tsa\\base\\tsa_model.py:471: ValueWarning: No frequency information was provided, so inferred frequency MS will be used.\n",
      "  self._init_dates(dates, freq)\n"
     ]
    }
   ],
   "source": [
    "khammam_pm10_pred = ExponentialSmoothing(\n",
    "    df1['pm10'],\n",
    "    seasonal_periods=12,\n",
    "    trend=\"add\",\n",
    "    seasonal=\"add\", \n",
    "    initialization_method=\"estimated\", \n",
    "    damped_trend=True\n",
    ").fit(optimized=True)\n",
    "\n",
    "pred_2023_PM10= khammam_pm10_pred.forecast(len(test))"
   ]
  },
  {
   "cell_type": "code",
   "execution_count": 111,
   "id": "959094ce",
   "metadata": {},
   "outputs": [],
   "source": [
    "pred= pd.DataFrame(data=pred_2023_SO2, columns=['SO2'])\n",
    "pred['PM10']=pred_2023_PM10\n",
    "pred['NOx']=pred_2023_NOx"
   ]
  },
  {
   "cell_type": "code",
   "execution_count": 112,
   "id": "b977d026",
   "metadata": {
    "scrolled": true
   },
   "outputs": [
    {
     "data": {
      "text/html": [
       "<div>\n",
       "<style scoped>\n",
       "    .dataframe tbody tr th:only-of-type {\n",
       "        vertical-align: middle;\n",
       "    }\n",
       "\n",
       "    .dataframe tbody tr th {\n",
       "        vertical-align: top;\n",
       "    }\n",
       "\n",
       "    .dataframe thead th {\n",
       "        text-align: right;\n",
       "    }\n",
       "</style>\n",
       "<table border=\"1\" class=\"dataframe\">\n",
       "  <thead>\n",
       "    <tr style=\"text-align: right;\">\n",
       "      <th></th>\n",
       "      <th>SO2</th>\n",
       "      <th>PM10</th>\n",
       "      <th>NOx</th>\n",
       "    </tr>\n",
       "  </thead>\n",
       "  <tbody>\n",
       "    <tr>\n",
       "      <th>2023-01-01</th>\n",
       "      <td>7.385371</td>\n",
       "      <td>104.521166</td>\n",
       "      <td>33.132014</td>\n",
       "    </tr>\n",
       "    <tr>\n",
       "      <th>2023-02-01</th>\n",
       "      <td>7.525385</td>\n",
       "      <td>100.959871</td>\n",
       "      <td>33.507835</td>\n",
       "    </tr>\n",
       "    <tr>\n",
       "      <th>2023-03-01</th>\n",
       "      <td>7.588904</td>\n",
       "      <td>96.987700</td>\n",
       "      <td>34.525234</td>\n",
       "    </tr>\n",
       "    <tr>\n",
       "      <th>2023-04-01</th>\n",
       "      <td>7.896994</td>\n",
       "      <td>95.987044</td>\n",
       "      <td>28.826545</td>\n",
       "    </tr>\n",
       "    <tr>\n",
       "      <th>2023-05-01</th>\n",
       "      <td>7.571474</td>\n",
       "      <td>102.878320</td>\n",
       "      <td>32.054080</td>\n",
       "    </tr>\n",
       "    <tr>\n",
       "      <th>2023-06-01</th>\n",
       "      <td>7.559551</td>\n",
       "      <td>91.188851</td>\n",
       "      <td>30.993182</td>\n",
       "    </tr>\n",
       "    <tr>\n",
       "      <th>2023-07-01</th>\n",
       "      <td>7.318389</td>\n",
       "      <td>83.305374</td>\n",
       "      <td>32.371936</td>\n",
       "    </tr>\n",
       "    <tr>\n",
       "      <th>2023-08-01</th>\n",
       "      <td>7.003509</td>\n",
       "      <td>83.294111</td>\n",
       "      <td>27.675609</td>\n",
       "    </tr>\n",
       "    <tr>\n",
       "      <th>2023-09-01</th>\n",
       "      <td>7.660047</td>\n",
       "      <td>81.874920</td>\n",
       "      <td>28.389458</td>\n",
       "    </tr>\n",
       "    <tr>\n",
       "      <th>2023-10-01</th>\n",
       "      <td>7.306148</td>\n",
       "      <td>86.326397</td>\n",
       "      <td>28.455986</td>\n",
       "    </tr>\n",
       "    <tr>\n",
       "      <th>2023-11-01</th>\n",
       "      <td>7.328990</td>\n",
       "      <td>97.650131</td>\n",
       "      <td>31.932030</td>\n",
       "    </tr>\n",
       "    <tr>\n",
       "      <th>2023-12-01</th>\n",
       "      <td>7.448585</td>\n",
       "      <td>103.985985</td>\n",
       "      <td>31.245543</td>\n",
       "    </tr>\n",
       "  </tbody>\n",
       "</table>\n",
       "</div>"
      ],
      "text/plain": [
       "                 SO2        PM10        NOx\n",
       "2023-01-01  7.385371  104.521166  33.132014\n",
       "2023-02-01  7.525385  100.959871  33.507835\n",
       "2023-03-01  7.588904   96.987700  34.525234\n",
       "2023-04-01  7.896994   95.987044  28.826545\n",
       "2023-05-01  7.571474  102.878320  32.054080\n",
       "2023-06-01  7.559551   91.188851  30.993182\n",
       "2023-07-01  7.318389   83.305374  32.371936\n",
       "2023-08-01  7.003509   83.294111  27.675609\n",
       "2023-09-01  7.660047   81.874920  28.389458\n",
       "2023-10-01  7.306148   86.326397  28.455986\n",
       "2023-11-01  7.328990   97.650131  31.932030\n",
       "2023-12-01  7.448585  103.985985  31.245543"
      ]
     },
     "execution_count": 112,
     "metadata": {},
     "output_type": "execute_result"
    }
   ],
   "source": [
    "pred # Predicted data frame"
   ]
  },
  {
   "cell_type": "code",
   "execution_count": 113,
   "id": "4e73d7e0",
   "metadata": {},
   "outputs": [],
   "source": [
    "## PM10 Sub-Index calculation\n",
    "def PM10_subindex(x):\n",
    "    if x <= 50:\n",
    "        return x\n",
    "    elif x <= 100:\n",
    "        return x\n",
    "    elif x <= 250:\n",
    "        return 100 + (x - 100) * 100 / 150\n",
    "    elif x <= 350:\n",
    "        return 200 + (x - 250)\n",
    "    elif x <= 430:\n",
    "        return 300 + (x - 350) * 100 / 80\n",
    "    elif x > 430:\n",
    "        return 400 + (x - 430) * 100 / 80\n",
    "    else:\n",
    "        return 0\n",
    "\n",
    "pred[\"PM10_SubIndex\"] = pred[\"PM10\"].apply(lambda x: PM10_subindex(x))"
   ]
  },
  {
   "cell_type": "code",
   "execution_count": 114,
   "id": "079a268a",
   "metadata": {},
   "outputs": [],
   "source": [
    "## NOx Sub-Index calculation\n",
    "def get_NOx_subindex(x):\n",
    "    if x <= 40:\n",
    "        return x * 50 / 40\n",
    "    elif x <= 80:\n",
    "        return 50 + (x - 40) * 50 / 40\n",
    "    else:\n",
    "        return 0\n",
    "\n",
    "pred[\"NOx_SubIndex\"] = pred['NOx'].apply(lambda x: get_NOx_subindex(x))"
   ]
  },
  {
   "cell_type": "code",
   "execution_count": 115,
   "id": "7cff3a8c",
   "metadata": {},
   "outputs": [],
   "source": [
    "## SO2 Sub-Index calculation\n",
    "def get_SO2_subindex(x):\n",
    "    if x <= 40:\n",
    "        return x * 50 / 40\n",
    "    elif x <= 80:\n",
    "        return 50 + (x - 40) * 50 / 40\n",
    "    else:\n",
    "        return 0\n",
    "\n",
    "pred[\"SO2_SubIndex\"] = pred[\"SO2\"].apply(lambda x: get_SO2_subindex(x))"
   ]
  },
  {
   "cell_type": "code",
   "execution_count": 116,
   "id": "29219fed",
   "metadata": {
    "scrolled": true
   },
   "outputs": [
    {
     "data": {
      "text/html": [
       "<div>\n",
       "<style scoped>\n",
       "    .dataframe tbody tr th:only-of-type {\n",
       "        vertical-align: middle;\n",
       "    }\n",
       "\n",
       "    .dataframe tbody tr th {\n",
       "        vertical-align: top;\n",
       "    }\n",
       "\n",
       "    .dataframe thead th {\n",
       "        text-align: right;\n",
       "    }\n",
       "</style>\n",
       "<table border=\"1\" class=\"dataframe\">\n",
       "  <thead>\n",
       "    <tr style=\"text-align: right;\">\n",
       "      <th></th>\n",
       "      <th>SO2</th>\n",
       "      <th>PM10</th>\n",
       "      <th>NOx</th>\n",
       "      <th>PM10_SubIndex</th>\n",
       "      <th>NOx_SubIndex</th>\n",
       "      <th>SO2_SubIndex</th>\n",
       "    </tr>\n",
       "  </thead>\n",
       "  <tbody>\n",
       "    <tr>\n",
       "      <th>2023-01-01</th>\n",
       "      <td>7.385371</td>\n",
       "      <td>104.521166</td>\n",
       "      <td>33.132014</td>\n",
       "      <td>103.014111</td>\n",
       "      <td>41.415017</td>\n",
       "      <td>9.231714</td>\n",
       "    </tr>\n",
       "    <tr>\n",
       "      <th>2023-02-01</th>\n",
       "      <td>7.525385</td>\n",
       "      <td>100.959871</td>\n",
       "      <td>33.507835</td>\n",
       "      <td>100.639914</td>\n",
       "      <td>41.884794</td>\n",
       "      <td>9.406731</td>\n",
       "    </tr>\n",
       "    <tr>\n",
       "      <th>2023-03-01</th>\n",
       "      <td>7.588904</td>\n",
       "      <td>96.987700</td>\n",
       "      <td>34.525234</td>\n",
       "      <td>96.987700</td>\n",
       "      <td>43.156543</td>\n",
       "      <td>9.486130</td>\n",
       "    </tr>\n",
       "    <tr>\n",
       "      <th>2023-04-01</th>\n",
       "      <td>7.896994</td>\n",
       "      <td>95.987044</td>\n",
       "      <td>28.826545</td>\n",
       "      <td>95.987044</td>\n",
       "      <td>36.033181</td>\n",
       "      <td>9.871242</td>\n",
       "    </tr>\n",
       "    <tr>\n",
       "      <th>2023-05-01</th>\n",
       "      <td>7.571474</td>\n",
       "      <td>102.878320</td>\n",
       "      <td>32.054080</td>\n",
       "      <td>101.918880</td>\n",
       "      <td>40.067601</td>\n",
       "      <td>9.464342</td>\n",
       "    </tr>\n",
       "    <tr>\n",
       "      <th>2023-06-01</th>\n",
       "      <td>7.559551</td>\n",
       "      <td>91.188851</td>\n",
       "      <td>30.993182</td>\n",
       "      <td>91.188851</td>\n",
       "      <td>38.741478</td>\n",
       "      <td>9.449439</td>\n",
       "    </tr>\n",
       "    <tr>\n",
       "      <th>2023-07-01</th>\n",
       "      <td>7.318389</td>\n",
       "      <td>83.305374</td>\n",
       "      <td>32.371936</td>\n",
       "      <td>83.305374</td>\n",
       "      <td>40.464920</td>\n",
       "      <td>9.147986</td>\n",
       "    </tr>\n",
       "    <tr>\n",
       "      <th>2023-08-01</th>\n",
       "      <td>7.003509</td>\n",
       "      <td>83.294111</td>\n",
       "      <td>27.675609</td>\n",
       "      <td>83.294111</td>\n",
       "      <td>34.594512</td>\n",
       "      <td>8.754386</td>\n",
       "    </tr>\n",
       "    <tr>\n",
       "      <th>2023-09-01</th>\n",
       "      <td>7.660047</td>\n",
       "      <td>81.874920</td>\n",
       "      <td>28.389458</td>\n",
       "      <td>81.874920</td>\n",
       "      <td>35.486823</td>\n",
       "      <td>9.575059</td>\n",
       "    </tr>\n",
       "    <tr>\n",
       "      <th>2023-10-01</th>\n",
       "      <td>7.306148</td>\n",
       "      <td>86.326397</td>\n",
       "      <td>28.455986</td>\n",
       "      <td>86.326397</td>\n",
       "      <td>35.569983</td>\n",
       "      <td>9.132685</td>\n",
       "    </tr>\n",
       "    <tr>\n",
       "      <th>2023-11-01</th>\n",
       "      <td>7.328990</td>\n",
       "      <td>97.650131</td>\n",
       "      <td>31.932030</td>\n",
       "      <td>97.650131</td>\n",
       "      <td>39.915037</td>\n",
       "      <td>9.161237</td>\n",
       "    </tr>\n",
       "    <tr>\n",
       "      <th>2023-12-01</th>\n",
       "      <td>7.448585</td>\n",
       "      <td>103.985985</td>\n",
       "      <td>31.245543</td>\n",
       "      <td>102.657324</td>\n",
       "      <td>39.056929</td>\n",
       "      <td>9.310731</td>\n",
       "    </tr>\n",
       "  </tbody>\n",
       "</table>\n",
       "</div>"
      ],
      "text/plain": [
       "                 SO2        PM10        NOx  PM10_SubIndex  NOx_SubIndex  \\\n",
       "2023-01-01  7.385371  104.521166  33.132014     103.014111     41.415017   \n",
       "2023-02-01  7.525385  100.959871  33.507835     100.639914     41.884794   \n",
       "2023-03-01  7.588904   96.987700  34.525234      96.987700     43.156543   \n",
       "2023-04-01  7.896994   95.987044  28.826545      95.987044     36.033181   \n",
       "2023-05-01  7.571474  102.878320  32.054080     101.918880     40.067601   \n",
       "2023-06-01  7.559551   91.188851  30.993182      91.188851     38.741478   \n",
       "2023-07-01  7.318389   83.305374  32.371936      83.305374     40.464920   \n",
       "2023-08-01  7.003509   83.294111  27.675609      83.294111     34.594512   \n",
       "2023-09-01  7.660047   81.874920  28.389458      81.874920     35.486823   \n",
       "2023-10-01  7.306148   86.326397  28.455986      86.326397     35.569983   \n",
       "2023-11-01  7.328990   97.650131  31.932030      97.650131     39.915037   \n",
       "2023-12-01  7.448585  103.985985  31.245543     102.657324     39.056929   \n",
       "\n",
       "            SO2_SubIndex  \n",
       "2023-01-01      9.231714  \n",
       "2023-02-01      9.406731  \n",
       "2023-03-01      9.486130  \n",
       "2023-04-01      9.871242  \n",
       "2023-05-01      9.464342  \n",
       "2023-06-01      9.449439  \n",
       "2023-07-01      9.147986  \n",
       "2023-08-01      8.754386  \n",
       "2023-09-01      9.575059  \n",
       "2023-10-01      9.132685  \n",
       "2023-11-01      9.161237  \n",
       "2023-12-01      9.310731  "
      ]
     },
     "execution_count": 116,
     "metadata": {},
     "output_type": "execute_result"
    }
   ],
   "source": [
    "pred"
   ]
  },
  {
   "cell_type": "code",
   "execution_count": 119,
   "id": "246889ce",
   "metadata": {},
   "outputs": [],
   "source": [
    "pred['AQI']=''"
   ]
  },
  {
   "cell_type": "code",
   "execution_count": 120,
   "id": "db288a23",
   "metadata": {},
   "outputs": [
    {
     "name": "stderr",
     "output_type": "stream",
     "text": [
      "C:\\Users\\Lenovo\\AppData\\Local\\Temp\\ipykernel_19120\\3451392264.py:2: SettingWithCopyWarning: \n",
      "A value is trying to be set on a copy of a slice from a DataFrame\n",
      "\n",
      "See the caveats in the documentation: https://pandas.pydata.org/pandas-docs/stable/user_guide/indexing.html#returning-a-view-versus-a-copy\n",
      "  pred[\"AQI\"][i]= max(pred[\"SO2_SubIndex\"][i],pred[\"PM10_SubIndex\"][i],pred[\"NOx_SubIndex\"][i])\n"
     ]
    }
   ],
   "source": [
    "for i in range(len(pred)):\n",
    "    pred[\"AQI\"][i]= max(pred[\"SO2_SubIndex\"][i],pred[\"PM10_SubIndex\"][i],pred[\"NOx_SubIndex\"][i])"
   ]
  },
  {
   "cell_type": "code",
   "execution_count": 121,
   "id": "c231e5e5",
   "metadata": {
    "scrolled": true
   },
   "outputs": [
    {
     "data": {
      "text/html": [
       "<div>\n",
       "<style scoped>\n",
       "    .dataframe tbody tr th:only-of-type {\n",
       "        vertical-align: middle;\n",
       "    }\n",
       "\n",
       "    .dataframe tbody tr th {\n",
       "        vertical-align: top;\n",
       "    }\n",
       "\n",
       "    .dataframe thead th {\n",
       "        text-align: right;\n",
       "    }\n",
       "</style>\n",
       "<table border=\"1\" class=\"dataframe\">\n",
       "  <thead>\n",
       "    <tr style=\"text-align: right;\">\n",
       "      <th></th>\n",
       "      <th>SO2</th>\n",
       "      <th>PM10</th>\n",
       "      <th>NOx</th>\n",
       "      <th>PM10_SubIndex</th>\n",
       "      <th>NOx_SubIndex</th>\n",
       "      <th>SO2_SubIndex</th>\n",
       "      <th>AQI</th>\n",
       "    </tr>\n",
       "  </thead>\n",
       "  <tbody>\n",
       "    <tr>\n",
       "      <th>2023-01-01</th>\n",
       "      <td>7.385371</td>\n",
       "      <td>104.521166</td>\n",
       "      <td>33.132014</td>\n",
       "      <td>103.014111</td>\n",
       "      <td>41.415017</td>\n",
       "      <td>9.231714</td>\n",
       "      <td>103.014111</td>\n",
       "    </tr>\n",
       "    <tr>\n",
       "      <th>2023-02-01</th>\n",
       "      <td>7.525385</td>\n",
       "      <td>100.959871</td>\n",
       "      <td>33.507835</td>\n",
       "      <td>100.639914</td>\n",
       "      <td>41.884794</td>\n",
       "      <td>9.406731</td>\n",
       "      <td>100.639914</td>\n",
       "    </tr>\n",
       "    <tr>\n",
       "      <th>2023-03-01</th>\n",
       "      <td>7.588904</td>\n",
       "      <td>96.987700</td>\n",
       "      <td>34.525234</td>\n",
       "      <td>96.987700</td>\n",
       "      <td>43.156543</td>\n",
       "      <td>9.486130</td>\n",
       "      <td>96.9877</td>\n",
       "    </tr>\n",
       "    <tr>\n",
       "      <th>2023-04-01</th>\n",
       "      <td>7.896994</td>\n",
       "      <td>95.987044</td>\n",
       "      <td>28.826545</td>\n",
       "      <td>95.987044</td>\n",
       "      <td>36.033181</td>\n",
       "      <td>9.871242</td>\n",
       "      <td>95.987044</td>\n",
       "    </tr>\n",
       "    <tr>\n",
       "      <th>2023-05-01</th>\n",
       "      <td>7.571474</td>\n",
       "      <td>102.878320</td>\n",
       "      <td>32.054080</td>\n",
       "      <td>101.918880</td>\n",
       "      <td>40.067601</td>\n",
       "      <td>9.464342</td>\n",
       "      <td>101.91888</td>\n",
       "    </tr>\n",
       "    <tr>\n",
       "      <th>2023-06-01</th>\n",
       "      <td>7.559551</td>\n",
       "      <td>91.188851</td>\n",
       "      <td>30.993182</td>\n",
       "      <td>91.188851</td>\n",
       "      <td>38.741478</td>\n",
       "      <td>9.449439</td>\n",
       "      <td>91.188851</td>\n",
       "    </tr>\n",
       "    <tr>\n",
       "      <th>2023-07-01</th>\n",
       "      <td>7.318389</td>\n",
       "      <td>83.305374</td>\n",
       "      <td>32.371936</td>\n",
       "      <td>83.305374</td>\n",
       "      <td>40.464920</td>\n",
       "      <td>9.147986</td>\n",
       "      <td>83.305374</td>\n",
       "    </tr>\n",
       "    <tr>\n",
       "      <th>2023-08-01</th>\n",
       "      <td>7.003509</td>\n",
       "      <td>83.294111</td>\n",
       "      <td>27.675609</td>\n",
       "      <td>83.294111</td>\n",
       "      <td>34.594512</td>\n",
       "      <td>8.754386</td>\n",
       "      <td>83.294111</td>\n",
       "    </tr>\n",
       "    <tr>\n",
       "      <th>2023-09-01</th>\n",
       "      <td>7.660047</td>\n",
       "      <td>81.874920</td>\n",
       "      <td>28.389458</td>\n",
       "      <td>81.874920</td>\n",
       "      <td>35.486823</td>\n",
       "      <td>9.575059</td>\n",
       "      <td>81.87492</td>\n",
       "    </tr>\n",
       "    <tr>\n",
       "      <th>2023-10-01</th>\n",
       "      <td>7.306148</td>\n",
       "      <td>86.326397</td>\n",
       "      <td>28.455986</td>\n",
       "      <td>86.326397</td>\n",
       "      <td>35.569983</td>\n",
       "      <td>9.132685</td>\n",
       "      <td>86.326397</td>\n",
       "    </tr>\n",
       "    <tr>\n",
       "      <th>2023-11-01</th>\n",
       "      <td>7.328990</td>\n",
       "      <td>97.650131</td>\n",
       "      <td>31.932030</td>\n",
       "      <td>97.650131</td>\n",
       "      <td>39.915037</td>\n",
       "      <td>9.161237</td>\n",
       "      <td>97.650131</td>\n",
       "    </tr>\n",
       "    <tr>\n",
       "      <th>2023-12-01</th>\n",
       "      <td>7.448585</td>\n",
       "      <td>103.985985</td>\n",
       "      <td>31.245543</td>\n",
       "      <td>102.657324</td>\n",
       "      <td>39.056929</td>\n",
       "      <td>9.310731</td>\n",
       "      <td>102.657324</td>\n",
       "    </tr>\n",
       "  </tbody>\n",
       "</table>\n",
       "</div>"
      ],
      "text/plain": [
       "                 SO2        PM10        NOx  PM10_SubIndex  NOx_SubIndex  \\\n",
       "2023-01-01  7.385371  104.521166  33.132014     103.014111     41.415017   \n",
       "2023-02-01  7.525385  100.959871  33.507835     100.639914     41.884794   \n",
       "2023-03-01  7.588904   96.987700  34.525234      96.987700     43.156543   \n",
       "2023-04-01  7.896994   95.987044  28.826545      95.987044     36.033181   \n",
       "2023-05-01  7.571474  102.878320  32.054080     101.918880     40.067601   \n",
       "2023-06-01  7.559551   91.188851  30.993182      91.188851     38.741478   \n",
       "2023-07-01  7.318389   83.305374  32.371936      83.305374     40.464920   \n",
       "2023-08-01  7.003509   83.294111  27.675609      83.294111     34.594512   \n",
       "2023-09-01  7.660047   81.874920  28.389458      81.874920     35.486823   \n",
       "2023-10-01  7.306148   86.326397  28.455986      86.326397     35.569983   \n",
       "2023-11-01  7.328990   97.650131  31.932030      97.650131     39.915037   \n",
       "2023-12-01  7.448585  103.985985  31.245543     102.657324     39.056929   \n",
       "\n",
       "            SO2_SubIndex         AQI  \n",
       "2023-01-01      9.231714  103.014111  \n",
       "2023-02-01      9.406731  100.639914  \n",
       "2023-03-01      9.486130     96.9877  \n",
       "2023-04-01      9.871242   95.987044  \n",
       "2023-05-01      9.464342   101.91888  \n",
       "2023-06-01      9.449439   91.188851  \n",
       "2023-07-01      9.147986   83.305374  \n",
       "2023-08-01      8.754386   83.294111  \n",
       "2023-09-01      9.575059    81.87492  \n",
       "2023-10-01      9.132685   86.326397  \n",
       "2023-11-01      9.161237   97.650131  \n",
       "2023-12-01      9.310731  102.657324  "
      ]
     },
     "execution_count": 121,
     "metadata": {},
     "output_type": "execute_result"
    }
   ],
   "source": [
    "pred # final predicted data frame"
   ]
  },
  {
   "cell_type": "code",
   "execution_count": 122,
   "id": "e5263e60",
   "metadata": {},
   "outputs": [],
   "source": [
    "pred.to_csv(\"C:\\\\Users\\\\Lenovo\\\\Desktop\\\\NASSCOM\\\\Prediction\\\\khammam_aqi_prediction.csv\") # Writing to a csv file"
   ]
  }
 ],
 "metadata": {
  "kernelspec": {
   "display_name": "Python 3 (ipykernel)",
   "language": "python",
   "name": "python3"
  },
  "language_info": {
   "codemirror_mode": {
    "name": "ipython",
    "version": 3
   },
   "file_extension": ".py",
   "mimetype": "text/x-python",
   "name": "python",
   "nbconvert_exporter": "python",
   "pygments_lexer": "ipython3",
   "version": "3.10.7"
  }
 },
 "nbformat": 4,
 "nbformat_minor": 5
}
