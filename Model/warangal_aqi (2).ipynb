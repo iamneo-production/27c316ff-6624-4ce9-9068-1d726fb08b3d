{
 "cells": [
  {
   "cell_type": "code",
   "execution_count": 2,
   "id": "4077a9cf",
   "metadata": {},
   "outputs": [],
   "source": [
    "import pandas as pd\n",
    "import numpy as np\n",
    "import matplotlib.pyplot as plt\n",
    "from sklearn.metrics import mean_absolute_percentage_error as mape\n",
    "from sklearn.metrics import mean_squared_error as mse"
   ]
  },
  {
   "cell_type": "code",
   "execution_count": 46,
   "id": "24c79669",
   "metadata": {},
   "outputs": [],
   "source": [
    "df1= pd.read_csv(\"C:\\\\Users\\\\Lenovo\\\\Desktop\\\\NASSCOM\\\\Dataset District\\\\Warangal_aqi.csv\")"
   ]
  },
  {
   "cell_type": "code",
   "execution_count": 47,
   "id": "c5183376",
   "metadata": {},
   "outputs": [
    {
     "data": {
      "text/html": [
       "<div>\n",
       "<style scoped>\n",
       "    .dataframe tbody tr th:only-of-type {\n",
       "        vertical-align: middle;\n",
       "    }\n",
       "\n",
       "    .dataframe tbody tr th {\n",
       "        vertical-align: top;\n",
       "    }\n",
       "\n",
       "    .dataframe thead th {\n",
       "        text-align: right;\n",
       "    }\n",
       "</style>\n",
       "<table border=\"1\" class=\"dataframe\">\n",
       "  <thead>\n",
       "    <tr style=\"text-align: right;\">\n",
       "      <th></th>\n",
       "      <th>date</th>\n",
       "      <th>pm10</th>\n",
       "      <th>SO2</th>\n",
       "      <th>NOx</th>\n",
       "      <th>rainfall</th>\n",
       "    </tr>\n",
       "  </thead>\n",
       "  <tbody>\n",
       "    <tr>\n",
       "      <th>0</th>\n",
       "      <td>01/01/2016</td>\n",
       "      <td>76</td>\n",
       "      <td>7.0</td>\n",
       "      <td>26.0</td>\n",
       "      <td>NaN</td>\n",
       "    </tr>\n",
       "    <tr>\n",
       "      <th>1</th>\n",
       "      <td>01/02/2016</td>\n",
       "      <td>72</td>\n",
       "      <td>7.0</td>\n",
       "      <td>19.0</td>\n",
       "      <td>NaN</td>\n",
       "    </tr>\n",
       "    <tr>\n",
       "      <th>2</th>\n",
       "      <td>01/03/2016</td>\n",
       "      <td>63</td>\n",
       "      <td>7.1</td>\n",
       "      <td>21.8</td>\n",
       "      <td>NaN</td>\n",
       "    </tr>\n",
       "    <tr>\n",
       "      <th>3</th>\n",
       "      <td>01/04/2016</td>\n",
       "      <td>73</td>\n",
       "      <td>7.0</td>\n",
       "      <td>20.0</td>\n",
       "      <td>NaN</td>\n",
       "    </tr>\n",
       "    <tr>\n",
       "      <th>4</th>\n",
       "      <td>01/05/2016</td>\n",
       "      <td>84</td>\n",
       "      <td>8.0</td>\n",
       "      <td>19.0</td>\n",
       "      <td>NaN</td>\n",
       "    </tr>\n",
       "    <tr>\n",
       "      <th>...</th>\n",
       "      <td>...</td>\n",
       "      <td>...</td>\n",
       "      <td>...</td>\n",
       "      <td>...</td>\n",
       "      <td>...</td>\n",
       "    </tr>\n",
       "    <tr>\n",
       "      <th>79</th>\n",
       "      <td>01/08/2022</td>\n",
       "      <td>56</td>\n",
       "      <td>6.5</td>\n",
       "      <td>26.6</td>\n",
       "      <td>344.7</td>\n",
       "    </tr>\n",
       "    <tr>\n",
       "      <th>80</th>\n",
       "      <td>01/09/2022</td>\n",
       "      <td>48</td>\n",
       "      <td>7.1</td>\n",
       "      <td>29.9</td>\n",
       "      <td>166.6</td>\n",
       "    </tr>\n",
       "    <tr>\n",
       "      <th>81</th>\n",
       "      <td>01/10/2022</td>\n",
       "      <td>63</td>\n",
       "      <td>7.9</td>\n",
       "      <td>32.2</td>\n",
       "      <td>NaN</td>\n",
       "    </tr>\n",
       "    <tr>\n",
       "      <th>82</th>\n",
       "      <td>01/11/2022</td>\n",
       "      <td>95</td>\n",
       "      <td>7.6</td>\n",
       "      <td>35.0</td>\n",
       "      <td>NaN</td>\n",
       "    </tr>\n",
       "    <tr>\n",
       "      <th>83</th>\n",
       "      <td>01/12/2022</td>\n",
       "      <td>95</td>\n",
       "      <td>8.3</td>\n",
       "      <td>32.6</td>\n",
       "      <td>NaN</td>\n",
       "    </tr>\n",
       "  </tbody>\n",
       "</table>\n",
       "<p>84 rows × 5 columns</p>\n",
       "</div>"
      ],
      "text/plain": [
       "          date  pm10  SO2   NOx  rainfall\n",
       "0   01/01/2016    76  7.0  26.0       NaN\n",
       "1   01/02/2016    72  7.0  19.0       NaN\n",
       "2   01/03/2016    63  7.1  21.8       NaN\n",
       "3   01/04/2016    73  7.0  20.0       NaN\n",
       "4   01/05/2016    84  8.0  19.0       NaN\n",
       "..         ...   ...  ...   ...       ...\n",
       "79  01/08/2022    56  6.5  26.6     344.7\n",
       "80  01/09/2022    48  7.1  29.9     166.6\n",
       "81  01/10/2022    63  7.9  32.2       NaN\n",
       "82  01/11/2022    95  7.6  35.0       NaN\n",
       "83  01/12/2022    95  8.3  32.6       NaN\n",
       "\n",
       "[84 rows x 5 columns]"
      ]
     },
     "execution_count": 47,
     "metadata": {},
     "output_type": "execute_result"
    }
   ],
   "source": [
    "df1"
   ]
  },
  {
   "cell_type": "code",
   "execution_count": 48,
   "id": "14b58463",
   "metadata": {},
   "outputs": [],
   "source": [
    "df1['date']=pd.to_datetime(df1.date, format='%d/%m/%Y')"
   ]
  },
  {
   "cell_type": "code",
   "execution_count": 51,
   "id": "f7ed3bd9",
   "metadata": {},
   "outputs": [
    {
     "name": "stdout",
     "output_type": "stream",
     "text": [
      "MS\n"
     ]
    }
   ],
   "source": [
    "print(pd.infer_freq(df1.index))"
   ]
  },
  {
   "cell_type": "code",
   "execution_count": 50,
   "id": "c202b52d",
   "metadata": {},
   "outputs": [],
   "source": [
    "df1= df1.set_index('date')"
   ]
  },
  {
   "cell_type": "code",
   "execution_count": 28,
   "id": "9ad9896d",
   "metadata": {},
   "outputs": [],
   "source": [
    "p_max=df1[\"pm10\"].max()\n",
    "S_max=df1[\"SO2\"].max()\n",
    "N_max=df1[\"Nox\"].max()\n",
    "R_max=df1['rainfall'].max()"
   ]
  },
  {
   "cell_type": "code",
   "execution_count": 24,
   "id": "81c16986",
   "metadata": {
    "scrolled": false
   },
   "outputs": [],
   "source": [
    "df1[\"rainfall\"]=df1[\"rainfall\"].fillna(0)"
   ]
  },
  {
   "cell_type": "code",
   "execution_count": 25,
   "id": "bc8281d1",
   "metadata": {
    "scrolled": true
   },
   "outputs": [
    {
     "name": "stdout",
     "output_type": "stream",
     "text": [
      "<class 'pandas.core.frame.DataFrame'>\n",
      "DatetimeIndex: 84 entries, 2016-01-01 to 2022-01-12\n",
      "Data columns (total 4 columns):\n",
      " #   Column    Non-Null Count  Dtype  \n",
      "---  ------    --------------  -----  \n",
      " 0   pm10      84 non-null     int64  \n",
      " 1   SO2       84 non-null     float64\n",
      " 2   NOx       84 non-null     float64\n",
      " 3   rainfall  84 non-null     float64\n",
      "dtypes: float64(3), int64(1)\n",
      "memory usage: 3.3 KB\n"
     ]
    }
   ],
   "source": [
    "df1.info()"
   ]
  },
  {
   "cell_type": "code",
   "execution_count": 28,
   "id": "0bae4e69",
   "metadata": {},
   "outputs": [],
   "source": [
    "from statsmodels.tsa.seasonal import seasonal_decompose"
   ]
  },
  {
   "cell_type": "code",
   "execution_count": 53,
   "id": "a5b28d84",
   "metadata": {
    "scrolled": false
   },
   "outputs": [
    {
     "data": {
      "image/png": "[encoded data removed]",
      "text/plain": [
       "<Figure size 640x480 with 4 Axes>"
      ]
     },
     "execution_count": 53,
     "metadata": {},
     "output_type": "execute_result"
    },
    {
     "data": {
      "image/png": "[encoded data removed]",
      "text/plain": [
       "<Figure size 640x480 with 4 Axes>"
      ]
     },
     "metadata": {},
     "output_type": "display_data"
    }
   ],
   "source": [
    "decompose_result = seasonal_decompose(train, period=12 ,model='add')\n",
    "decompose_result.plot()"
   ]
  },
  {
   "cell_type": "code",
   "execution_count": 58,
   "id": "0001b39f",
   "metadata": {},
   "outputs": [],
   "source": [
    "from statsmodels.tsa.holtwinters import ExponentialSmoothing  "
   ]
  },
  {
   "cell_type": "code",
   "execution_count": 59,
   "id": "7b94bd64",
   "metadata": {},
   "outputs": [
    {
     "name": "stderr",
     "output_type": "stream",
     "text": [
      "C:\\Users\\Lenovo\\AppData\\Local\\Programs\\Python\\Python310\\lib\\site-packages\\statsmodels\\tsa\\base\\tsa_model.py:471: ValueWarning: No frequency information was provided, so inferred frequency MS will be used.\n",
      "  self._init_dates(dates, freq)\n"
     ]
    },
    {
     "name": "stdout",
     "output_type": "stream",
     "text": [
      "Prediction:7.496556273512895   Expected:7.1\n",
      "Prediction:7.5888327091373355   Expected:8.4\n",
      "Prediction:7.748034959810717   Expected:8.0\n",
      "Prediction:8.119124220480835   Expected:7.6\n",
      "Prediction:8.252221677801163   Expected:7.8\n",
      "Prediction:7.790665682540547   Expected:7.5\n",
      "Prediction:7.479822828038467   Expected:7.2\n",
      "Prediction:7.366211684507689   Expected:6.5\n",
      "Prediction:7.411505064519986   Expected:7.1\n",
      "Prediction:7.9984923271535635   Expected:7.9\n",
      "Prediction:7.582536056172615   Expected:7.6\n",
      "Prediction:7.734817634828109   Expected:8.3\n",
      "RMSE:  0.473665872997474\n",
      "MAPE: 5.40 %\n"
     ]
    }
   ],
   "source": [
    "warangal_so2 = ExponentialSmoothing(\n",
    "    train,\n",
    "    seasonal_periods=12,\n",
    "    trend=\"mul\",\n",
    "    seasonal=\"mul\", \n",
    "    initialization_method=\"estimated\", \n",
    "    damped_trend=True\n",
    ").fit(optimized=True)\n",
    "\n",
    "prediction= warangal_so2.forecast(len(test))\n",
    "\n",
    "for i in range(len(test)):\n",
    "    print(\"Prediction:{}   Expected:{}\".format(prediction[i], test[i]))\n",
    "rmse= mse(test, prediction, squared=False)\n",
    "print(\"RMSE: \",rmse)\n",
    "mape1= mape(test, prediction)\n",
    "print(\"MAPE: %.2f\" %(mape1*100),\"%\")"
   ]
  },
  {
   "cell_type": "code",
   "execution_count": 60,
   "id": "d14da0b1",
   "metadata": {},
   "outputs": [],
   "source": [
    "train1=df1[\"pm10\"][:72]\n",
    "test1=df1[\"pm10\"][72:]"
   ]
  },
  {
   "cell_type": "code",
   "execution_count": 75,
   "id": "95b30f95",
   "metadata": {
    "scrolled": true
   },
   "outputs": [
    {
     "name": "stderr",
     "output_type": "stream",
     "text": [
      "C:\\Users\\Lenovo\\AppData\\Local\\Programs\\Python\\Python310\\lib\\site-packages\\statsmodels\\tsa\\base\\tsa_model.py:471: ValueWarning: No frequency information was provided, so inferred frequency MS will be used.\n",
      "  self._init_dates(dates, freq)\n"
     ]
    },
    {
     "name": "stdout",
     "output_type": "stream",
     "text": [
      "Prediction:73.27360556662984   Expected:73\n",
      "Prediction:74.58220774810312   Expected:73\n",
      "Prediction:64.76900838079723   Expected:76\n",
      "Prediction:58.17031027803843   Expected:60\n",
      "Prediction:61.19893222209045   Expected:77\n",
      "Prediction:63.00505399696628   Expected:85\n",
      "Prediction:50.186317226413934   Expected:47\n",
      "Prediction:50.06514723086497   Expected:56\n",
      "Prediction:49.999289328867846   Expected:48\n",
      "Prediction:60.77130489905679   Expected:63\n",
      "Prediction:76.05883482911203   Expected:95\n",
      "Prediction:75.68940859370092   Expected:95\n",
      "RMSE:  11.73143421260447\n",
      "MAPE: 11.01 %\n"
     ]
    },
    {
     "name": "stderr",
     "output_type": "stream",
     "text": [
      "C:\\Users\\Lenovo\\AppData\\Local\\Programs\\Python\\Python310\\lib\\site-packages\\statsmodels\\tsa\\holtwinters\\model.py:83: RuntimeWarning: overflow encountered in matmul\n",
      "  return err.T @ err\n"
     ]
    }
   ],
   "source": [
    "warangal_pm10 = ExponentialSmoothing(\n",
    "    train1,\n",
    "    seasonal_periods=12,\n",
    "    trend=\"mul\",\n",
    "    seasonal=\"add\", \n",
    "    initialization_method=\"estimated\", \n",
    "    damped_trend=True\n",
    ").fit(optimized=True)\n",
    "\n",
    "prediction1= warangal_pm10.forecast(len(test))\n",
    "for i in range(len(test1)):\n",
    "    print(\"Prediction:{}   Expected:{}\".format(prediction1[i], test1[i]))\n",
    "rmse= mse(test1, prediction1, squared=False)\n",
    "print(\"RMSE: \",rmse)\n",
    "mape1= mape(test1, prediction1)\n",
    "print(\"MAPE: %.2f\" %(mape1*100),\"%\")"
   ]
  },
  {
   "cell_type": "code",
   "execution_count": 68,
   "id": "c18909ea",
   "metadata": {},
   "outputs": [],
   "source": [
    "train2=df1[\"NOx\"][:72]\n",
    "test2=df1[\"NOx\"][72:]"
   ]
  },
  {
   "cell_type": "code",
   "execution_count": 73,
   "id": "4ceca636",
   "metadata": {
    "scrolled": false
   },
   "outputs": [
    {
     "name": "stderr",
     "output_type": "stream",
     "text": [
      "C:\\Users\\Lenovo\\AppData\\Local\\Programs\\Python\\Python310\\lib\\site-packages\\statsmodels\\tsa\\base\\tsa_model.py:471: ValueWarning: No frequency information was provided, so inferred frequency MS will be used.\n",
      "  self._init_dates(dates, freq)\n"
     ]
    },
    {
     "name": "stdout",
     "output_type": "stream",
     "text": [
      "Prediction:34.69020546971313   Expected:31.8\n",
      "Prediction:36.970181611054876   Expected:31.0\n",
      "Prediction:31.97683416884039   Expected:33.1\n",
      "Prediction:32.13239583567015   Expected:34.2\n",
      "Prediction:32.89197486955991   Expected:34.2\n",
      "Prediction:29.57514973222837   Expected:34.7\n",
      "Prediction:31.005276003056657   Expected:30.2\n",
      "Prediction:31.803590496931825   Expected:26.6\n",
      "Prediction:30.23290707680171   Expected:29.9\n",
      "Prediction:31.005036364828175   Expected:32.2\n",
      "Prediction:35.988066890464275   Expected:35.0\n",
      "Prediction:32.309166672257135   Expected:32.6\n",
      "RMSE:  2.9976840159849716\n",
      "MAPE: 7.26 %\n"
     ]
    }
   ],
   "source": [
    "warangal_nox = ExponentialSmoothing(\n",
    "    train2,\n",
    "    seasonal_periods=12,\n",
    "    trend=\"mul\",\n",
    "    seasonal=\"mul\", \n",
    "    initialization_method=\"estimated\", \n",
    "    damped_trend=True\n",
    ").fit(optimized=True)\n",
    "\n",
    "prediction2= warangal_nox.forecast(len(test))\n",
    "for i in range(len(test1)):\n",
    "    print(\"Prediction:{}   Expected:{}\".format(prediction2[i], test2[i]))\n",
    "rmse= mse(test2, prediction2, squared=False)\n",
    "print(\"RMSE: \",rmse)\n",
    "mape1= mape(test2, prediction2)\n",
    "print(\"MAPE: %.2f\" %(mape1*100),\"%\")"
   ]
  },
  {
   "cell_type": "code",
   "execution_count": 79,
   "id": "1b282e9f",
   "metadata": {},
   "outputs": [],
   "source": [
    "pred_len=12"
   ]
  },
  {
   "cell_type": "code",
   "execution_count": 88,
   "id": "aaae730c",
   "metadata": {
    "scrolled": true
   },
   "outputs": [
    {
     "name": "stderr",
     "output_type": "stream",
     "text": [
      "C:\\Users\\Lenovo\\AppData\\Local\\Programs\\Python\\Python310\\lib\\site-packages\\statsmodels\\tsa\\base\\tsa_model.py:471: ValueWarning: No frequency information was provided, so inferred frequency MS will be used.\n",
      "  self._init_dates(dates, freq)\n"
     ]
    }
   ],
   "source": [
    "warangal_so2 = ExponentialSmoothing(\n",
    "    df1[\"SO2\"],\n",
    "    seasonal_periods=12,\n",
    "    trend=\"mul\",\n",
    "    seasonal=\"mul\", \n",
    "    initialization_method=\"estimated\", \n",
    "    damped_trend=True\n",
    ").fit(optimized=True)\n",
    "\n",
    "pred_2023_SO2= warangal_so2.forecast(pred_len)"
   ]
  },
  {
   "cell_type": "code",
   "execution_count": 89,
   "id": "7204ec8c",
   "metadata": {},
   "outputs": [
    {
     "name": "stderr",
     "output_type": "stream",
     "text": [
      "C:\\Users\\Lenovo\\AppData\\Local\\Programs\\Python\\Python310\\lib\\site-packages\\statsmodels\\tsa\\base\\tsa_model.py:471: ValueWarning: No frequency information was provided, so inferred frequency MS will be used.\n",
      "  self._init_dates(dates, freq)\n"
     ]
    }
   ],
   "source": [
    "warangal_nox = ExponentialSmoothing(\n",
    "    df1['NOx'],\n",
    "    seasonal_periods=12,\n",
    "    trend=\"mul\",\n",
    "    seasonal=\"mul\", \n",
    "    initialization_method=\"estimated\", \n",
    "    damped_trend=True\n",
    ").fit(optimized=True)\n",
    "\n",
    "pred_2023_NOx= warangal_nox.forecast(pred_len)"
   ]
  },
  {
   "cell_type": "code",
   "execution_count": 90,
   "id": "10926047",
   "metadata": {},
   "outputs": [
    {
     "name": "stderr",
     "output_type": "stream",
     "text": [
      "C:\\Users\\Lenovo\\AppData\\Local\\Programs\\Python\\Python310\\lib\\site-packages\\statsmodels\\tsa\\base\\tsa_model.py:471: ValueWarning: No frequency information was provided, so inferred frequency MS will be used.\n",
      "  self._init_dates(dates, freq)\n",
      "C:\\Users\\Lenovo\\AppData\\Local\\Programs\\Python\\Python310\\lib\\site-packages\\statsmodels\\tsa\\holtwinters\\model.py:83: RuntimeWarning: overflow encountered in matmul\n",
      "  return err.T @ err\n"
     ]
    }
   ],
   "source": [
    "warangal_pm10 = ExponentialSmoothing(\n",
    "    df1['pm10'],\n",
    "    seasonal_periods=12,\n",
    "    trend=\"mul\",\n",
    "    seasonal=\"add\", \n",
    "    initialization_method=\"estimated\", \n",
    "    damped_trend=True\n",
    ").fit(optimized=True)\n",
    "\n",
    "pred_2023_PM10= warangal_pm10.forecast(pred_len)"
   ]
  },
  {
   "cell_type": "code",
   "execution_count": 92,
   "id": "f014098e",
   "metadata": {},
   "outputs": [],
   "source": [
    "pred= pd.DataFrame(data=pred_2023_SO2, columns=['SO2'])\n",
    "pred['PM10']=pred_2023_PM10\n",
    "pred['NOx']=pred_2023_NOx"
   ]
  },
  {
   "cell_type": "code",
   "execution_count": 93,
   "id": "b977d026",
   "metadata": {
    "scrolled": true
   },
   "outputs": [
    {
     "data": {
      "text/html": [
       "<div>\n",
       "<style scoped>\n",
       "    .dataframe tbody tr th:only-of-type {\n",
       "        vertical-align: middle;\n",
       "    }\n",
       "\n",
       "    .dataframe tbody tr th {\n",
       "        vertical-align: top;\n",
       "    }\n",
       "\n",
       "    .dataframe thead th {\n",
       "        text-align: right;\n",
       "    }\n",
       "</style>\n",
       "<table border=\"1\" class=\"dataframe\">\n",
       "  <thead>\n",
       "    <tr style=\"text-align: right;\">\n",
       "      <th></th>\n",
       "      <th>SO2</th>\n",
       "      <th>PM10</th>\n",
       "      <th>NOx</th>\n",
       "    </tr>\n",
       "  </thead>\n",
       "  <tbody>\n",
       "    <tr>\n",
       "      <th>2023-01-01</th>\n",
       "      <td>8.062079</td>\n",
       "      <td>91.680169</td>\n",
       "      <td>35.318394</td>\n",
       "    </tr>\n",
       "    <tr>\n",
       "      <th>2023-02-01</th>\n",
       "      <td>8.341578</td>\n",
       "      <td>92.912556</td>\n",
       "      <td>37.300794</td>\n",
       "    </tr>\n",
       "    <tr>\n",
       "      <th>2023-03-01</th>\n",
       "      <td>8.426545</td>\n",
       "      <td>85.008955</td>\n",
       "      <td>32.880870</td>\n",
       "    </tr>\n",
       "    <tr>\n",
       "      <th>2023-04-01</th>\n",
       "      <td>8.705633</td>\n",
       "      <td>77.127915</td>\n",
       "      <td>33.139591</td>\n",
       "    </tr>\n",
       "    <tr>\n",
       "      <th>2023-05-01</th>\n",
       "      <td>8.861698</td>\n",
       "      <td>82.222488</td>\n",
       "      <td>33.808436</td>\n",
       "    </tr>\n",
       "    <tr>\n",
       "      <th>2023-06-01</th>\n",
       "      <td>8.385519</td>\n",
       "      <td>85.017573</td>\n",
       "      <td>30.869340</td>\n",
       "    </tr>\n",
       "    <tr>\n",
       "      <th>2023-07-01</th>\n",
       "      <td>8.050478</td>\n",
       "      <td>68.693678</td>\n",
       "      <td>31.549733</td>\n",
       "    </tr>\n",
       "    <tr>\n",
       "      <th>2023-08-01</th>\n",
       "      <td>7.843034</td>\n",
       "      <td>69.945047</td>\n",
       "      <td>31.866376</td>\n",
       "    </tr>\n",
       "    <tr>\n",
       "      <th>2023-09-01</th>\n",
       "      <td>7.969704</td>\n",
       "      <td>68.786928</td>\n",
       "      <td>30.777927</td>\n",
       "    </tr>\n",
       "    <tr>\n",
       "      <th>2023-10-01</th>\n",
       "      <td>8.636632</td>\n",
       "      <td>80.185857</td>\n",
       "      <td>31.723596</td>\n",
       "    </tr>\n",
       "    <tr>\n",
       "      <th>2023-11-01</th>\n",
       "      <td>8.206425</td>\n",
       "      <td>97.872589</td>\n",
       "      <td>36.527541</td>\n",
       "    </tr>\n",
       "    <tr>\n",
       "      <th>2023-12-01</th>\n",
       "      <td>8.456952</td>\n",
       "      <td>97.573222</td>\n",
       "      <td>32.909914</td>\n",
       "    </tr>\n",
       "  </tbody>\n",
       "</table>\n",
       "</div>"
      ],
      "text/plain": [
       "                 SO2       PM10        NOx\n",
       "2023-01-01  8.062079  91.680169  35.318394\n",
       "2023-02-01  8.341578  92.912556  37.300794\n",
       "2023-03-01  8.426545  85.008955  32.880870\n",
       "2023-04-01  8.705633  77.127915  33.139591\n",
       "2023-05-01  8.861698  82.222488  33.808436\n",
       "2023-06-01  8.385519  85.017573  30.869340\n",
       "2023-07-01  8.050478  68.693678  31.549733\n",
       "2023-08-01  7.843034  69.945047  31.866376\n",
       "2023-09-01  7.969704  68.786928  30.777927\n",
       "2023-10-01  8.636632  80.185857  31.723596\n",
       "2023-11-01  8.206425  97.872589  36.527541\n",
       "2023-12-01  8.456952  97.573222  32.909914"
      ]
     },
     "execution_count": 93,
     "metadata": {},
     "output_type": "execute_result"
    }
   ],
   "source": [
    "pred"
   ]
  },
  {
   "cell_type": "code",
   "execution_count": 94,
   "id": "28fceef0",
   "metadata": {},
   "outputs": [],
   "source": [
    "## PM10 Sub-Index calculation\n",
    "def PM10_subindex(x):\n",
    "    if x <= 50:\n",
    "        return x\n",
    "    elif x <= 100:\n",
    "        return x\n",
    "    elif x <= 250:\n",
    "        return 100 + (x - 100) * 100 / 150\n",
    "    else:\n",
    "        return 0\n",
    "\n",
    "pred[\"PM10_SubIndex\"] = pred[\"PM10\"].apply(lambda x: PM10_subindex(x))"
   ]
  },
  {
   "cell_type": "code",
   "execution_count": 95,
   "id": "669a1e00",
   "metadata": {},
   "outputs": [],
   "source": [
    "## NOx Sub-Index calculation\n",
    "def get_NOx_subindex(x):\n",
    "    if x <= 40:\n",
    "        return x * 50 / 40\n",
    "    elif x <= 80:\n",
    "        return 50 + (x - 40) * 50 / 40\n",
    "    else:\n",
    "        return 0\n",
    "\n",
    "pred[\"NOx_SubIndex\"] = pred['NOx'].apply(lambda x: get_NOx_subindex(x))"
   ]
  },
  {
   "cell_type": "code",
   "execution_count": 96,
   "id": "6197aa0d",
   "metadata": {},
   "outputs": [],
   "source": [
    "## SO2 Sub-Index calculation\n",
    "def get_SO2_subindex(x):\n",
    "    if x <= 40:\n",
    "        return x * 50 / 40\n",
    "    elif x <= 80:\n",
    "        return 50 + (x - 40) * 50 / 40\n",
    "    else:\n",
    "        return 0\n",
    "\n",
    "pred[\"SO2_SubIndex\"] = pred[\"SO2\"].apply(lambda x: get_SO2_subindex(x))"
   ]
  },
  {
   "cell_type": "code",
   "execution_count": 97,
   "id": "b6d17a51",
   "metadata": {
    "scrolled": false
   },
   "outputs": [
    {
     "data": {
      "text/html": [
       "<div>\n",
       "<style scoped>\n",
       "    .dataframe tbody tr th:only-of-type {\n",
       "        vertical-align: middle;\n",
       "    }\n",
       "\n",
       "    .dataframe tbody tr th {\n",
       "        vertical-align: top;\n",
       "    }\n",
       "\n",
       "    .dataframe thead th {\n",
       "        text-align: right;\n",
       "    }\n",
       "</style>\n",
       "<table border=\"1\" class=\"dataframe\">\n",
       "  <thead>\n",
       "    <tr style=\"text-align: right;\">\n",
       "      <th></th>\n",
       "      <th>SO2</th>\n",
       "      <th>PM10</th>\n",
       "      <th>NOx</th>\n",
       "      <th>PM10_SubIndex</th>\n",
       "      <th>NOx_SubIndex</th>\n",
       "      <th>SO2_SubIndex</th>\n",
       "    </tr>\n",
       "  </thead>\n",
       "  <tbody>\n",
       "    <tr>\n",
       "      <th>2023-01-01</th>\n",
       "      <td>8.062079</td>\n",
       "      <td>91.680169</td>\n",
       "      <td>35.318394</td>\n",
       "      <td>91.680169</td>\n",
       "      <td>44.147992</td>\n",
       "      <td>10.077599</td>\n",
       "    </tr>\n",
       "    <tr>\n",
       "      <th>2023-02-01</th>\n",
       "      <td>8.341578</td>\n",
       "      <td>92.912556</td>\n",
       "      <td>37.300794</td>\n",
       "      <td>92.912556</td>\n",
       "      <td>46.625992</td>\n",
       "      <td>10.426973</td>\n",
       "    </tr>\n",
       "    <tr>\n",
       "      <th>2023-03-01</th>\n",
       "      <td>8.426545</td>\n",
       "      <td>85.008955</td>\n",
       "      <td>32.880870</td>\n",
       "      <td>85.008955</td>\n",
       "      <td>41.101087</td>\n",
       "      <td>10.533181</td>\n",
       "    </tr>\n",
       "    <tr>\n",
       "      <th>2023-04-01</th>\n",
       "      <td>8.705633</td>\n",
       "      <td>77.127915</td>\n",
       "      <td>33.139591</td>\n",
       "      <td>77.127915</td>\n",
       "      <td>41.424489</td>\n",
       "      <td>10.882041</td>\n",
       "    </tr>\n",
       "    <tr>\n",
       "      <th>2023-05-01</th>\n",
       "      <td>8.861698</td>\n",
       "      <td>82.222488</td>\n",
       "      <td>33.808436</td>\n",
       "      <td>82.222488</td>\n",
       "      <td>42.260545</td>\n",
       "      <td>11.077123</td>\n",
       "    </tr>\n",
       "    <tr>\n",
       "      <th>2023-06-01</th>\n",
       "      <td>8.385519</td>\n",
       "      <td>85.017573</td>\n",
       "      <td>30.869340</td>\n",
       "      <td>85.017573</td>\n",
       "      <td>38.586675</td>\n",
       "      <td>10.481899</td>\n",
       "    </tr>\n",
       "    <tr>\n",
       "      <th>2023-07-01</th>\n",
       "      <td>8.050478</td>\n",
       "      <td>68.693678</td>\n",
       "      <td>31.549733</td>\n",
       "      <td>68.693678</td>\n",
       "      <td>39.437167</td>\n",
       "      <td>10.063098</td>\n",
       "    </tr>\n",
       "    <tr>\n",
       "      <th>2023-08-01</th>\n",
       "      <td>7.843034</td>\n",
       "      <td>69.945047</td>\n",
       "      <td>31.866376</td>\n",
       "      <td>69.945047</td>\n",
       "      <td>39.832970</td>\n",
       "      <td>9.803792</td>\n",
       "    </tr>\n",
       "    <tr>\n",
       "      <th>2023-09-01</th>\n",
       "      <td>7.969704</td>\n",
       "      <td>68.786928</td>\n",
       "      <td>30.777927</td>\n",
       "      <td>68.786928</td>\n",
       "      <td>38.472409</td>\n",
       "      <td>9.962130</td>\n",
       "    </tr>\n",
       "    <tr>\n",
       "      <th>2023-10-01</th>\n",
       "      <td>8.636632</td>\n",
       "      <td>80.185857</td>\n",
       "      <td>31.723596</td>\n",
       "      <td>80.185857</td>\n",
       "      <td>39.654495</td>\n",
       "      <td>10.795790</td>\n",
       "    </tr>\n",
       "    <tr>\n",
       "      <th>2023-11-01</th>\n",
       "      <td>8.206425</td>\n",
       "      <td>97.872589</td>\n",
       "      <td>36.527541</td>\n",
       "      <td>97.872589</td>\n",
       "      <td>45.659426</td>\n",
       "      <td>10.258032</td>\n",
       "    </tr>\n",
       "    <tr>\n",
       "      <th>2023-12-01</th>\n",
       "      <td>8.456952</td>\n",
       "      <td>97.573222</td>\n",
       "      <td>32.909914</td>\n",
       "      <td>97.573222</td>\n",
       "      <td>41.137393</td>\n",
       "      <td>10.571190</td>\n",
       "    </tr>\n",
       "  </tbody>\n",
       "</table>\n",
       "</div>"
      ],
      "text/plain": [
       "                 SO2       PM10        NOx  PM10_SubIndex  NOx_SubIndex  \\\n",
       "2023-01-01  8.062079  91.680169  35.318394      91.680169     44.147992   \n",
       "2023-02-01  8.341578  92.912556  37.300794      92.912556     46.625992   \n",
       "2023-03-01  8.426545  85.008955  32.880870      85.008955     41.101087   \n",
       "2023-04-01  8.705633  77.127915  33.139591      77.127915     41.424489   \n",
       "2023-05-01  8.861698  82.222488  33.808436      82.222488     42.260545   \n",
       "2023-06-01  8.385519  85.017573  30.869340      85.017573     38.586675   \n",
       "2023-07-01  8.050478  68.693678  31.549733      68.693678     39.437167   \n",
       "2023-08-01  7.843034  69.945047  31.866376      69.945047     39.832970   \n",
       "2023-09-01  7.969704  68.786928  30.777927      68.786928     38.472409   \n",
       "2023-10-01  8.636632  80.185857  31.723596      80.185857     39.654495   \n",
       "2023-11-01  8.206425  97.872589  36.527541      97.872589     45.659426   \n",
       "2023-12-01  8.456952  97.573222  32.909914      97.573222     41.137393   \n",
       "\n",
       "            SO2_SubIndex  \n",
       "2023-01-01     10.077599  \n",
       "2023-02-01     10.426973  \n",
       "2023-03-01     10.533181  \n",
       "2023-04-01     10.882041  \n",
       "2023-05-01     11.077123  \n",
       "2023-06-01     10.481899  \n",
       "2023-07-01     10.063098  \n",
       "2023-08-01      9.803792  \n",
       "2023-09-01      9.962130  \n",
       "2023-10-01     10.795790  \n",
       "2023-11-01     10.258032  \n",
       "2023-12-01     10.571190  "
      ]
     },
     "execution_count": 97,
     "metadata": {},
     "output_type": "execute_result"
    }
   ],
   "source": [
    "pred"
   ]
  },
  {
   "cell_type": "code",
   "execution_count": 98,
   "id": "0e186a64",
   "metadata": {},
   "outputs": [],
   "source": [
    "pred['AQI']=''"
   ]
  },
  {
   "cell_type": "code",
   "execution_count": 99,
   "id": "96947ff7",
   "metadata": {},
   "outputs": [
    {
     "name": "stderr",
     "output_type": "stream",
     "text": [
      "C:\\Users\\Lenovo\\AppData\\Local\\Temp\\ipykernel_11120\\3451392264.py:2: SettingWithCopyWarning: \n",
      "A value is trying to be set on a copy of a slice from a DataFrame\n",
      "\n",
      "See the caveats in the documentation: https://pandas.pydata.org/pandas-docs/stable/user_guide/indexing.html#returning-a-view-versus-a-copy\n",
      "  pred[\"AQI\"][i]= max(pred[\"SO2_SubIndex\"][i],pred[\"PM10_SubIndex\"][i],pred[\"NOx_SubIndex\"][i])\n"
     ]
    }
   ],
   "source": [
    "for i in range(len(pred)):\n",
    "    pred[\"AQI\"][i]= max(pred[\"SO2_SubIndex\"][i],pred[\"PM10_SubIndex\"][i],pred[\"NOx_SubIndex\"][i])"
   ]
  },
  {
   "cell_type": "code",
   "execution_count": 100,
   "id": "1004c6a6",
   "metadata": {
    "scrolled": true
   },
   "outputs": [
    {
     "data": {
      "text/html": [
       "<div>\n",
       "<style scoped>\n",
       "    .dataframe tbody tr th:only-of-type {\n",
       "        vertical-align: middle;\n",
       "    }\n",
       "\n",
       "    .dataframe tbody tr th {\n",
       "        vertical-align: top;\n",
       "    }\n",
       "\n",
       "    .dataframe thead th {\n",
       "        text-align: right;\n",
       "    }\n",
       "</style>\n",
       "<table border=\"1\" class=\"dataframe\">\n",
       "  <thead>\n",
       "    <tr style=\"text-align: right;\">\n",
       "      <th></th>\n",
       "      <th>SO2</th>\n",
       "      <th>PM10</th>\n",
       "      <th>NOx</th>\n",
       "      <th>PM10_SubIndex</th>\n",
       "      <th>NOx_SubIndex</th>\n",
       "      <th>SO2_SubIndex</th>\n",
       "      <th>AQI</th>\n",
       "    </tr>\n",
       "  </thead>\n",
       "  <tbody>\n",
       "    <tr>\n",
       "      <th>2023-01-01</th>\n",
       "      <td>8.062079</td>\n",
       "      <td>91.680169</td>\n",
       "      <td>35.318394</td>\n",
       "      <td>91.680169</td>\n",
       "      <td>44.147992</td>\n",
       "      <td>10.077599</td>\n",
       "      <td>91.680169</td>\n",
       "    </tr>\n",
       "    <tr>\n",
       "      <th>2023-02-01</th>\n",
       "      <td>8.341578</td>\n",
       "      <td>92.912556</td>\n",
       "      <td>37.300794</td>\n",
       "      <td>92.912556</td>\n",
       "      <td>46.625992</td>\n",
       "      <td>10.426973</td>\n",
       "      <td>92.912556</td>\n",
       "    </tr>\n",
       "    <tr>\n",
       "      <th>2023-03-01</th>\n",
       "      <td>8.426545</td>\n",
       "      <td>85.008955</td>\n",
       "      <td>32.880870</td>\n",
       "      <td>85.008955</td>\n",
       "      <td>41.101087</td>\n",
       "      <td>10.533181</td>\n",
       "      <td>85.008955</td>\n",
       "    </tr>\n",
       "    <tr>\n",
       "      <th>2023-04-01</th>\n",
       "      <td>8.705633</td>\n",
       "      <td>77.127915</td>\n",
       "      <td>33.139591</td>\n",
       "      <td>77.127915</td>\n",
       "      <td>41.424489</td>\n",
       "      <td>10.882041</td>\n",
       "      <td>77.127915</td>\n",
       "    </tr>\n",
       "    <tr>\n",
       "      <th>2023-05-01</th>\n",
       "      <td>8.861698</td>\n",
       "      <td>82.222488</td>\n",
       "      <td>33.808436</td>\n",
       "      <td>82.222488</td>\n",
       "      <td>42.260545</td>\n",
       "      <td>11.077123</td>\n",
       "      <td>82.222488</td>\n",
       "    </tr>\n",
       "    <tr>\n",
       "      <th>2023-06-01</th>\n",
       "      <td>8.385519</td>\n",
       "      <td>85.017573</td>\n",
       "      <td>30.869340</td>\n",
       "      <td>85.017573</td>\n",
       "      <td>38.586675</td>\n",
       "      <td>10.481899</td>\n",
       "      <td>85.017573</td>\n",
       "    </tr>\n",
       "    <tr>\n",
       "      <th>2023-07-01</th>\n",
       "      <td>8.050478</td>\n",
       "      <td>68.693678</td>\n",
       "      <td>31.549733</td>\n",
       "      <td>68.693678</td>\n",
       "      <td>39.437167</td>\n",
       "      <td>10.063098</td>\n",
       "      <td>68.693678</td>\n",
       "    </tr>\n",
       "    <tr>\n",
       "      <th>2023-08-01</th>\n",
       "      <td>7.843034</td>\n",
       "      <td>69.945047</td>\n",
       "      <td>31.866376</td>\n",
       "      <td>69.945047</td>\n",
       "      <td>39.832970</td>\n",
       "      <td>9.803792</td>\n",
       "      <td>69.945047</td>\n",
       "    </tr>\n",
       "    <tr>\n",
       "      <th>2023-09-01</th>\n",
       "      <td>7.969704</td>\n",
       "      <td>68.786928</td>\n",
       "      <td>30.777927</td>\n",
       "      <td>68.786928</td>\n",
       "      <td>38.472409</td>\n",
       "      <td>9.962130</td>\n",
       "      <td>68.786928</td>\n",
       "    </tr>\n",
       "    <tr>\n",
       "      <th>2023-10-01</th>\n",
       "      <td>8.636632</td>\n",
       "      <td>80.185857</td>\n",
       "      <td>31.723596</td>\n",
       "      <td>80.185857</td>\n",
       "      <td>39.654495</td>\n",
       "      <td>10.795790</td>\n",
       "      <td>80.185857</td>\n",
       "    </tr>\n",
       "    <tr>\n",
       "      <th>2023-11-01</th>\n",
       "      <td>8.206425</td>\n",
       "      <td>97.872589</td>\n",
       "      <td>36.527541</td>\n",
       "      <td>97.872589</td>\n",
       "      <td>45.659426</td>\n",
       "      <td>10.258032</td>\n",
       "      <td>97.872589</td>\n",
       "    </tr>\n",
       "    <tr>\n",
       "      <th>2023-12-01</th>\n",
       "      <td>8.456952</td>\n",
       "      <td>97.573222</td>\n",
       "      <td>32.909914</td>\n",
       "      <td>97.573222</td>\n",
       "      <td>41.137393</td>\n",
       "      <td>10.571190</td>\n",
       "      <td>97.573222</td>\n",
       "    </tr>\n",
       "  </tbody>\n",
       "</table>\n",
       "</div>"
      ],
      "text/plain": [
       "                 SO2       PM10        NOx  PM10_SubIndex  NOx_SubIndex  \\\n",
       "2023-01-01  8.062079  91.680169  35.318394      91.680169     44.147992   \n",
       "2023-02-01  8.341578  92.912556  37.300794      92.912556     46.625992   \n",
       "2023-03-01  8.426545  85.008955  32.880870      85.008955     41.101087   \n",
       "2023-04-01  8.705633  77.127915  33.139591      77.127915     41.424489   \n",
       "2023-05-01  8.861698  82.222488  33.808436      82.222488     42.260545   \n",
       "2023-06-01  8.385519  85.017573  30.869340      85.017573     38.586675   \n",
       "2023-07-01  8.050478  68.693678  31.549733      68.693678     39.437167   \n",
       "2023-08-01  7.843034  69.945047  31.866376      69.945047     39.832970   \n",
       "2023-09-01  7.969704  68.786928  30.777927      68.786928     38.472409   \n",
       "2023-10-01  8.636632  80.185857  31.723596      80.185857     39.654495   \n",
       "2023-11-01  8.206425  97.872589  36.527541      97.872589     45.659426   \n",
       "2023-12-01  8.456952  97.573222  32.909914      97.573222     41.137393   \n",
       "\n",
       "            SO2_SubIndex        AQI  \n",
       "2023-01-01     10.077599  91.680169  \n",
       "2023-02-01     10.426973  92.912556  \n",
       "2023-03-01     10.533181  85.008955  \n",
       "2023-04-01     10.882041  77.127915  \n",
       "2023-05-01     11.077123  82.222488  \n",
       "2023-06-01     10.481899  85.017573  \n",
       "2023-07-01     10.063098  68.693678  \n",
       "2023-08-01      9.803792  69.945047  \n",
       "2023-09-01      9.962130  68.786928  \n",
       "2023-10-01     10.795790  80.185857  \n",
       "2023-11-01     10.258032  97.872589  \n",
       "2023-12-01     10.571190  97.573222  "
      ]
     },
     "execution_count": 100,
     "metadata": {},
     "output_type": "execute_result"
    }
   ],
   "source": [
    "pred"
   ]
  },
  {
   "cell_type": "code",
   "execution_count": 101,
   "id": "b5882c6e",
   "metadata": {},
   "outputs": [],
   "source": [
    "pred.to_csv(\"C:\\\\Users\\\\Lenovo\\\\Desktop\\\\NASSCOM\\\\Prediction\\\\warangal_aqi_prediction.csv\")"
   ]
  }
 ],
 "metadata": {
  "kernelspec": {
   "display_name": "Python 3 (ipykernel)",
   "language": "python",
   "name": "python3"
  },
  "language_info": {
   "codemirror_mode": {
    "name": "ipython",
    "version": 3
   },
   "file_extension": ".py",
   "mimetype": "text/x-python",
   "name": "python",
   "nbconvert_exporter": "python",
   "pygments_lexer": "ipython3",
   "version": "3.10.7"
  }
 },
 "nbformat": 4,
 "nbformat_minor": 5
}
